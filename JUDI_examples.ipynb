{
  "nbformat": 4,
  "nbformat_minor": 0,
  "metadata": {
    "accelerator": "GPU",
    "colab": {
      "name": "JUDI_examples.ipynb",
      "provenance": [],
      "collapsed_sections": [
        "QCxWWIhwGsaY",
        "h5r4osdWG1Mu",
        "IL6iVezPJpNs",
        "XdMpcQduyaQc"
      ],
      "toc_visible": true,
      "include_colab_link": true
    },
    "kernelspec": {
      "display_name": "Julia 1.5.0",
      "language": "julia",
      "name": "julia-1.5"
    },
    "language_info": {
      "file_extension": ".jl",
      "mimetype": "application/julia",
      "name": "julia",
      "version": "1.5.0"
    }
  },
  "cells": [
    {
      "cell_type": "markdown",
      "metadata": {
        "id": "view-in-github",
        "colab_type": "text"
      },
      "source": [
        "<a href=\"https://colab.research.google.com/github/kerim371/Julia-Devito-Inversion-JUDI-examples-in-Colab/blob/main/JUDI_examples.ipynb\" target=\"_parent\"><img src=\"https://colab.research.google.com/assets/colab-badge.svg\" alt=\"Open In Colab\"/></a>"
      ]
    },
    {
      "cell_type": "markdown",
      "metadata": {
        "id": "NNRNZ2RxH91a"
      },
      "source": [
        "To run this notebook in Colab you either have to use this script or download it and then upload to Colab. You cannot simply copy this code and past it to your Colab session - this won't let you use Julia. You can open **.pynb** document in textual editor and see at top of the document how it Julia is et up and change its version as well if you need."
      ]
    },
    {
      "cell_type": "markdown",
      "metadata": {
        "id": "QCxWWIhwGsaY"
      },
      "source": [
        "# **Julia installation**"
      ]
    },
    {
      "cell_type": "code",
      "metadata": {
        "id": "_Kg612Wi0DvT",
        "colab": {
          "base_uri": "https://localhost:8080/"
        },
        "outputId": "01cf9746-a1e1-43eb-829d-d024fc5a14a0"
      },
      "source": [
        "# Julia installation\r\n",
        "%%shell\r\n",
        "if ! command -v julia 3>&1 > /dev/null\r\n",
        "then\r\n",
        "    wget 'https://julialang-s3.julialang.org/bin/linux/x64/1.5/julia-1.5.0-linux-x86_64.tar.gz' \\\r\n",
        "        -O /tmp/julia.tar.gz\r\n",
        "    tar -x -f /tmp/julia.tar.gz -C /usr/local --strip-components 1\r\n",
        "    rm /tmp/julia.tar.gz\r\n",
        "fi\r\n",
        "julia -e 'using Pkg; pkg\"add IJulia; precompile;\"'\r\n",
        "echo 'Done'"
      ],
      "execution_count": 3,
      "outputs": [
        {
          "output_type": "stream",
          "text": [
            "--2020-12-14 02:53:05--  https://julialang-s3.julialang.org/bin/linux/x64/1.5/julia-1.5.0-linux-x86_64.tar.gz\n",
            "Resolving julialang-s3.julialang.org (julialang-s3.julialang.org)... 151.101.2.49, 151.101.66.49, 151.101.130.49, ...\n",
            "Connecting to julialang-s3.julialang.org (julialang-s3.julialang.org)|151.101.2.49|:443... connected.\n",
            "HTTP request sent, awaiting response... 302 gce internal redirect trigger\n",
            "Location: https://storage.googleapis.com/julialang2/bin/linux/x64/1.5/julia-1.5.0-linux-x86_64.tar.gz [following]\n",
            "--2020-12-14 02:53:05--  https://storage.googleapis.com/julialang2/bin/linux/x64/1.5/julia-1.5.0-linux-x86_64.tar.gz\n",
            "Resolving storage.googleapis.com (storage.googleapis.com)... 172.217.15.112, 172.217.2.112, 172.217.8.16, ...\n",
            "Connecting to storage.googleapis.com (storage.googleapis.com)|172.217.15.112|:443... connected.\n",
            "HTTP request sent, awaiting response... 200 OK\n",
            "Length: 105098627 (100M) [application/x-tar]\n",
            "Saving to: ‘/tmp/julia.tar.gz’\n",
            "\n",
            "/tmp/julia.tar.gz   100%[===================>] 100.23M  78.3MB/s    in 1.3s    \n",
            "\n",
            "2020-12-14 02:53:06 (78.3 MB/s) - ‘/tmp/julia.tar.gz’ saved [105098627/105098627]\n",
            "\n",
            "\u001b[32m\u001b[1m Installing\u001b[22m\u001b[39m known registries into `~/.julia`\n",
            "######################################################################## 100.0%\n",
            "\u001b[32m\u001b[1m      Added\u001b[22m\u001b[39m registry `General` to `~/.julia/registries/General`\n",
            "\u001b[32m\u001b[1m  Resolving\u001b[22m\u001b[39m package versions...\n",
            "\u001b[32m\u001b[1m  Installed\u001b[22m\u001b[39m VersionParsing ── v1.2.0\n",
            "\u001b[32m\u001b[1m  Installed\u001b[22m\u001b[39m JLLWrappers ───── v1.1.3\n",
            "\u001b[32m\u001b[1m  Installed\u001b[22m\u001b[39m SoftGlobalScope ─ v1.1.0\n",
            "\u001b[32m\u001b[1m  Installed\u001b[22m\u001b[39m Conda ─────────── v1.5.0\n",
            "\u001b[32m\u001b[1m  Installed\u001b[22m\u001b[39m ZMQ ───────────── v1.2.1\n",
            "\u001b[32m\u001b[1m  Installed\u001b[22m\u001b[39m IJulia ────────── v1.23.1\n",
            "\u001b[32m\u001b[1m  Installed\u001b[22m\u001b[39m ZeroMQ_jll ────── v4.3.2+5\n",
            "\u001b[32m\u001b[1m  Installed\u001b[22m\u001b[39m JSON ──────────── v0.21.1\n",
            "\u001b[32m\u001b[1m  Installed\u001b[22m\u001b[39m Artifacts ─────── v1.3.0\n",
            "\u001b[32m\u001b[1m  Installed\u001b[22m\u001b[39m Parsers ───────── v1.0.15\n",
            "\u001b[32m\u001b[1m  Installed\u001b[22m\u001b[39m MbedTLS_jll ───── v2.16.8+1\n",
            "\u001b[32m\u001b[1m  Installed\u001b[22m\u001b[39m MbedTLS ───────── v1.0.3\n",
            "\u001b[32m\u001b[1mDownloading\u001b[22m\u001b[39m artifact: ZeroMQ\n",
            "######################################################################## 100.0%\n",
            "\u001b[1A\u001b[2K\u001b[?25h\u001b[32m\u001b[1mDownloading\u001b[22m\u001b[39m artifact: MbedTLS\n",
            "######################################################################## 100.0%\n",
            "\u001b[1A\u001b[2K\u001b[?25h\u001b[32m\u001b[1mUpdating\u001b[22m\u001b[39m `~/.julia/environments/v1.5/Project.toml`\n",
            " \u001b[90m [7073ff75] \u001b[39m\u001b[92m+ IJulia v1.23.1\u001b[39m\n",
            "\u001b[32m\u001b[1mUpdating\u001b[22m\u001b[39m `~/.julia/environments/v1.5/Manifest.toml`\n",
            " \u001b[90m [56f22d72] \u001b[39m\u001b[92m+ Artifacts v1.3.0\u001b[39m\n",
            " \u001b[90m [8f4d0f93] \u001b[39m\u001b[92m+ Conda v1.5.0\u001b[39m\n",
            " \u001b[90m [7073ff75] \u001b[39m\u001b[92m+ IJulia v1.23.1\u001b[39m\n",
            " \u001b[90m [692b3bcd] \u001b[39m\u001b[92m+ JLLWrappers v1.1.3\u001b[39m\n",
            " \u001b[90m [682c06a0] \u001b[39m\u001b[92m+ JSON v0.21.1\u001b[39m\n",
            " \u001b[90m [739be429] \u001b[39m\u001b[92m+ MbedTLS v1.0.3\u001b[39m\n",
            " \u001b[90m [c8ffd9c3] \u001b[39m\u001b[92m+ MbedTLS_jll v2.16.8+1\u001b[39m\n",
            " \u001b[90m [69de0a69] \u001b[39m\u001b[92m+ Parsers v1.0.15\u001b[39m\n",
            " \u001b[90m [b85f4697] \u001b[39m\u001b[92m+ SoftGlobalScope v1.1.0\u001b[39m\n",
            " \u001b[90m [81def892] \u001b[39m\u001b[92m+ VersionParsing v1.2.0\u001b[39m\n",
            " \u001b[90m [c2297ded] \u001b[39m\u001b[92m+ ZMQ v1.2.1\u001b[39m\n",
            " \u001b[90m [8f1865be] \u001b[39m\u001b[92m+ ZeroMQ_jll v4.3.2+5\u001b[39m\n",
            " \u001b[90m [2a0f44e3] \u001b[39m\u001b[92m+ Base64\u001b[39m\n",
            " \u001b[90m [ade2ca70] \u001b[39m\u001b[92m+ Dates\u001b[39m\n",
            " \u001b[90m [8ba89e20] \u001b[39m\u001b[92m+ Distributed\u001b[39m\n",
            " \u001b[90m [7b1f6079] \u001b[39m\u001b[92m+ FileWatching\u001b[39m\n",
            " \u001b[90m [b77e0a4c] \u001b[39m\u001b[92m+ InteractiveUtils\u001b[39m\n",
            " \u001b[90m [76f85450] \u001b[39m\u001b[92m+ LibGit2\u001b[39m\n",
            " \u001b[90m [8f399da3] \u001b[39m\u001b[92m+ Libdl\u001b[39m\n",
            " \u001b[90m [56ddb016] \u001b[39m\u001b[92m+ Logging\u001b[39m\n",
            " \u001b[90m [d6f4376e] \u001b[39m\u001b[92m+ Markdown\u001b[39m\n",
            " \u001b[90m [a63ad114] \u001b[39m\u001b[92m+ Mmap\u001b[39m\n",
            " \u001b[90m [44cfe95a] \u001b[39m\u001b[92m+ Pkg\u001b[39m\n",
            " \u001b[90m [de0858da] \u001b[39m\u001b[92m+ Printf\u001b[39m\n",
            " \u001b[90m [3fa0cd96] \u001b[39m\u001b[92m+ REPL\u001b[39m\n",
            " \u001b[90m [9a3f8284] \u001b[39m\u001b[92m+ Random\u001b[39m\n",
            " \u001b[90m [ea8e919c] \u001b[39m\u001b[92m+ SHA\u001b[39m\n",
            " \u001b[90m [9e88b42a] \u001b[39m\u001b[92m+ Serialization\u001b[39m\n",
            " \u001b[90m [6462fe0b] \u001b[39m\u001b[92m+ Sockets\u001b[39m\n",
            " \u001b[90m [8dfed614] \u001b[39m\u001b[92m+ Test\u001b[39m\n",
            " \u001b[90m [cf7118a7] \u001b[39m\u001b[92m+ UUIDs\u001b[39m\n",
            " \u001b[90m [4ec0a83e] \u001b[39m\u001b[92m+ Unicode\u001b[39m\n",
            "\u001b[32m\u001b[1m   Building\u001b[22m\u001b[39m Conda ─→ `~/.julia/packages/Conda/x5ml4/deps/build.log`\n",
            "\u001b[32m\u001b[1m   Building\u001b[22m\u001b[39m IJulia → `~/.julia/packages/IJulia/IDNmS/deps/build.log`\n",
            "\u001b[32m\u001b[1mPrecompiling\u001b[22m\u001b[39m project...\n",
            "Done\n"
          ],
          "name": "stdout"
        },
        {
          "output_type": "execute_result",
          "data": {
            "text/plain": [
              ""
            ]
          },
          "metadata": {
            "tags": []
          },
          "execution_count": 3
        }
      ]
    },
    {
      "cell_type": "markdown",
      "metadata": {
        "id": "xEqmghkc_Qyu"
      },
      "source": [
        "# **Install Python and Julia packages**"
      ]
    },
    {
      "cell_type": "markdown",
      "metadata": {
        "id": "2MxpOY7w_Yq2"
      },
      "source": [
        "Until now we have been using ipython. Now we are going to use Julia. To achieve it go to Colab's menu bar and select **Edit** and select **Notebook settings** from the drop down. Select *Julia 1.5.0* as the runtime and *GPU* as the hadware accelerator. If necessary reload web-page (F5) and change **Notebook settings**"
      ]
    },
    {
      "cell_type": "code",
      "metadata": {
        "id": "xzjDpqnpNfoh",
        "colab": {
          "base_uri": "https://localhost:8080/"
        },
        "outputId": "51c3fc4d-cd29-429c-df6c-9e778710009f"
      },
      "source": [
        "using Pkg\r\n",
        "\r\n",
        "ENV[\"PYTHON\"]=\"/root/.julia/conda/3/bin/python\"\r\n",
        "Pkg.add(\"PyCall\")\r\n",
        "Pkg.build(\"PyCall\")"
      ],
      "execution_count": 10,
      "outputs": [
        {
          "output_type": "stream",
          "text": [
            "\u001b[32m\u001b[1m   Updating\u001b[22m\u001b[39m registry at `~/.julia/registries/General`\n",
            "\u001b[32m\u001b[1m  Resolving\u001b[22m\u001b[39m package versions...\n",
            "\u001b[32m\u001b[1m  Installed\u001b[22m\u001b[39m MacroTools ─ v0.5.6\n",
            "\u001b[32m\u001b[1m  Installed\u001b[22m\u001b[39m PyCall ───── v1.92.1\n",
            "\u001b[32m\u001b[1mUpdating\u001b[22m\u001b[39m `~/.julia/environments/v1.5/Project.toml`\n",
            " \u001b[90m [438e738f] \u001b[39m\u001b[92m+ PyCall v1.92.1\u001b[39m\n",
            "\u001b[32m\u001b[1mUpdating\u001b[22m\u001b[39m `~/.julia/environments/v1.5/Manifest.toml`\n",
            " \u001b[90m [1914dd2f] \u001b[39m\u001b[92m+ MacroTools v0.5.6\u001b[39m\n",
            " \u001b[90m [438e738f] \u001b[39m\u001b[92m+ PyCall v1.92.1\u001b[39m\n",
            " \u001b[90m [37e2e46d] \u001b[39m\u001b[92m+ LinearAlgebra\u001b[39m\n",
            "\u001b[32m\u001b[1m   Building\u001b[22m\u001b[39m PyCall → `~/.julia/packages/PyCall/BcTLp/deps/build.log`\n",
            "\u001b[32m\u001b[1m   Building\u001b[22m\u001b[39m Conda ─→ `~/.julia/packages/Conda/x5ml4/deps/build.log`\n",
            "\u001b[32m\u001b[1m   Building\u001b[22m\u001b[39m PyCall → `~/.julia/packages/PyCall/BcTLp/deps/build.log`\n"
          ],
          "name": "stderr"
        }
      ]
    },
    {
      "cell_type": "code",
      "metadata": {
        "id": "6v36jPvrAKmC",
        "colab": {
          "base_uri": "https://localhost:8080/"
        },
        "outputId": "2f063800-7461-4a08-9c6f-741db0b98040"
      },
      "source": [
        "Pkg.Registry.add(RegistrySpec(url=\"https://github.com/slimgroup/SLIMregistryJL.git\"))\r\n",
        "Pkg.develop(\"JUDI\")"
      ],
      "execution_count": 25,
      "outputs": [
        {
          "output_type": "stream",
          "text": [
            "\u001b[?25l    "
          ],
          "name": "stdout"
        },
        {
          "output_type": "stream",
          "text": [
            "\u001b[32m\u001b[1m    Cloning\u001b[22m\u001b[39m registry from \"https://github.com/slimgroup/SLIMregistryJL.git\"\n"
          ],
          "name": "stderr"
        },
        {
          "output_type": "stream",
          "text": [
            "\u001b[2K\u001b[?25h"
          ],
          "name": "stdout"
        },
        {
          "output_type": "stream",
          "text": [
            "\u001b[32m\u001b[1m      Added\u001b[22m\u001b[39m registry `SLIMregistryJL` to `~/.julia/registries/SLIMregistryJL`\n"
          ],
          "name": "stderr"
        },
        {
          "output_type": "stream",
          "text": [
            "\u001b[?25l    "
          ],
          "name": "stdout"
        },
        {
          "output_type": "stream",
          "text": [
            "\u001b[32m\u001b[1m    Cloning\u001b[22m\u001b[39m git-repo `https://GitHub.com/slimgroup/JUDI.jl.git`\n"
          ],
          "name": "stderr"
        },
        {
          "output_type": "stream",
          "text": [
            "\u001b[2K\u001b[?25h"
          ],
          "name": "stdout"
        },
        {
          "output_type": "stream",
          "text": [
            "\u001b[32m\u001b[1m  Resolving\u001b[22m\u001b[39m package versions...\n",
            "\u001b[32m\u001b[1m  Installed\u001b[22m\u001b[39m Mocking ────────────────────── v0.7.1\n",
            "\u001b[32m\u001b[1m  Installed\u001b[22m\u001b[39m Adapt ──────────────────────── v2.3.0\n",
            "\u001b[32m\u001b[1m  Installed\u001b[22m\u001b[39m OffsetArrays ───────────────── v1.4.1\n",
            "\u001b[32m\u001b[1m  Installed\u001b[22m\u001b[39m Dierckx_jll ────────────────── v0.0.1+0\n",
            "\u001b[32m\u001b[1m  Installed\u001b[22m\u001b[39m BFloat16s ──────────────────── v0.1.0\n",
            "\u001b[32m\u001b[1m  Installed\u001b[22m\u001b[39m NNlib ──────────────────────── v0.7.7\n",
            "\u001b[32m\u001b[1m  Installed\u001b[22m\u001b[39m SpecialFunctions ───────────── v0.10.3\n",
            "\u001b[32m\u001b[1m  Installed\u001b[22m\u001b[39m OrderedCollections ─────────── v1.3.2\n",
            "\u001b[32m\u001b[1m  Installed\u001b[22m\u001b[39m Requires ───────────────────── v1.1.1\n",
            "\u001b[32m\u001b[1m  Installed\u001b[22m\u001b[39m Nullables ──────────────────── v1.0.0\n",
            "\u001b[32m\u001b[1m  Installed\u001b[22m\u001b[39m TextWrap ───────────────────── v1.0.1\n",
            "\u001b[32m\u001b[1m  Installed\u001b[22m\u001b[39m IterTools ──────────────────── v1.3.0\n",
            "\u001b[32m\u001b[1m  Installed\u001b[22m\u001b[39m EzXML ──────────────────────── v1.1.0\n",
            "\u001b[32m\u001b[1m  Installed\u001b[22m\u001b[39m DistributedArrays ──────────── v0.6.5\n",
            "\u001b[32m\u001b[1m  Installed\u001b[22m\u001b[39m GPUArrays ──────────────────── v6.1.2\n",
            "\u001b[32m\u001b[1m  Installed\u001b[22m\u001b[39m Dierckx ────────────────────── v0.5.1\n",
            "\u001b[32m\u001b[1m  Installed\u001b[22m\u001b[39m NaNMath ────────────────────── v0.3.5\n",
            "\u001b[32m\u001b[1m  Installed\u001b[22m\u001b[39m IterativeSolvers ───────────── v0.8.4\n",
            "\u001b[32m\u001b[1m  Installed\u001b[22m\u001b[39m TimerOutputs ───────────────── v0.5.7\n",
            "\u001b[32m\u001b[1m  Installed\u001b[22m\u001b[39m FFTW ───────────────────────── v1.2.4\n",
            "\u001b[32m\u001b[1m  Installed\u001b[22m\u001b[39m CompilerSupportLibraries_jll ─ v0.3.4+0\n",
            "\u001b[32m\u001b[1m  Installed\u001b[22m\u001b[39m MKL_jll ────────────────────── v2020.2.254+0\n",
            "\u001b[32m\u001b[1m  Installed\u001b[22m\u001b[39m FixedPointNumbers ──────────── v0.8.4\n",
            "\u001b[32m\u001b[1m  Installed\u001b[22m\u001b[39m Scratch ────────────────────── v1.0.3\n",
            "\u001b[32m\u001b[1m  Installed\u001b[22m\u001b[39m Colors ─────────────────────── v0.12.4\n",
            "\u001b[32m\u001b[1m  Installed\u001b[22m\u001b[39m ArgParse ───────────────────── v1.1.1\n",
            "\u001b[32m\u001b[1m  Installed\u001b[22m\u001b[39m LLVM ───────────────────────── v3.5.1\n",
            "\u001b[32m\u001b[1m  Installed\u001b[22m\u001b[39m Intervals ──────────────────── v1.5.0\n",
            "\u001b[32m\u001b[1m  Installed\u001b[22m\u001b[39m CUDA ───────────────────────── v2.3.0\n",
            "\u001b[32m\u001b[1m  Installed\u001b[22m\u001b[39m FFTW_jll ───────────────────── v3.3.9+6\n",
            "\u001b[32m\u001b[1m  Installed\u001b[22m\u001b[39m Libiconv_jll ───────────────── v1.16.0+7\n",
            "\u001b[32m\u001b[1m  Installed\u001b[22m\u001b[39m Reexport ───────────────────── v0.2.0\n",
            "\u001b[32m\u001b[1m  Installed\u001b[22m\u001b[39m NFFT ───────────────────────── v0.6.1\n",
            "\u001b[32m\u001b[1m  Installed\u001b[22m\u001b[39m InplaceOps ─────────────────── v0.3.0\n",
            "\u001b[32m\u001b[1m  Installed\u001b[22m\u001b[39m OpenSpecFun_jll ────────────── v0.5.3+4\n",
            "\u001b[32m\u001b[1m  Installed\u001b[22m\u001b[39m Wavelets ───────────────────── v0.9.2\n",
            "\u001b[32m\u001b[1m  Installed\u001b[22m\u001b[39m Primes ─────────────────────── v0.4.0\n",
            "\u001b[32m\u001b[1m  Installed\u001b[22m\u001b[39m RecipesBase ────────────────── v1.1.1\n",
            "\u001b[32m\u001b[1m  Installed\u001b[22m\u001b[39m ColorTypes ─────────────────── v0.10.9\n",
            "\u001b[32m\u001b[1m  Installed\u001b[22m\u001b[39m CEnum ──────────────────────── v0.4.1\n",
            "\u001b[32m\u001b[1m  Installed\u001b[22m\u001b[39m Graphics ───────────────────── v1.0.2\n",
            "\u001b[32m\u001b[1m  Installed\u001b[22m\u001b[39m DataStructures ─────────────── v0.18.8\n",
            "\u001b[32m\u001b[1m  Installed\u001b[22m\u001b[39m GPUCompiler ────────────────── v0.8.3\n",
            "\u001b[32m\u001b[1m  Installed\u001b[22m\u001b[39m AbstractFFTs ───────────────── v0.5.0\n",
            "\u001b[32m\u001b[1m  Installed\u001b[22m\u001b[39m DSP ────────────────────────── v0.6.9\n",
            "\u001b[32m\u001b[1m  Installed\u001b[22m\u001b[39m Polynomials ────────────────── v1.2.0\n",
            "\u001b[32m\u001b[1m  Installed\u001b[22m\u001b[39m PolynomialRoots ────────────── v1.0.0\n",
            "\u001b[32m\u001b[1m  Installed\u001b[22m\u001b[39m Compat ─────────────────────── v3.25.0\n",
            "\u001b[32m\u001b[1m  Installed\u001b[22m\u001b[39m ExprTools ──────────────────── v0.1.3\n",
            "\u001b[32m\u001b[1m  Installed\u001b[22m\u001b[39m Zlib_jll ───────────────────── v1.2.11+18\n",
            "\u001b[32m\u001b[1m  Installed\u001b[22m\u001b[39m XML2_jll ───────────────────── v2.9.10+3\n",
            "\u001b[32m\u001b[1m  Installed\u001b[22m\u001b[39m IntelOpenMP_jll ────────────── v2018.0.3+0\n",
            "\u001b[32m\u001b[1m  Installed\u001b[22m\u001b[39m TimeZones ──────────────────── v1.5.3\n"
          ],
          "name": "stderr"
        },
        {
          "output_type": "stream",
          "text": [
            "\u001b[?25l    "
          ],
          "name": "stdout"
        },
        {
          "output_type": "stream",
          "text": [
            "\u001b[32m\u001b[1m    Cloning\u001b[22m\u001b[39m [bb331ad6-a1cf-11e9-23da-9bcb53c69f6f] JOLI from https://GitHub.com/slimgroup/JOLI.jl.git\n"
          ],
          "name": "stderr"
        },
        {
          "output_type": "stream",
          "text": [
            "\u001b[2K\u001b[?25h\u001b[?25l    "
          ],
          "name": "stdout"
        },
        {
          "output_type": "stream",
          "text": [
            "\u001b[32m\u001b[1m  Installed\u001b[22m\u001b[39m JOLI ───────────────────────── v0.7.13\n",
            "\u001b[32m\u001b[1m    Cloning\u001b[22m\u001b[39m [157a0f19-4d44-4de5-a0d0-07e2f0ac4dfa] SegyIO from https://GitHub.com/slimgroup/SegyIO.jl.git\n"
          ],
          "name": "stderr"
        },
        {
          "output_type": "stream",
          "text": [
            "\u001b[2K\u001b[?25h"
          ],
          "name": "stdout"
        },
        {
          "output_type": "stream",
          "text": [
            "\u001b[32m\u001b[1m  Installed\u001b[22m\u001b[39m SegyIO ─────────────────────── v0.7.3\n",
            "######################################################################### 100.0%\n",
            "######################################################################### 100.0%\n",
            "######################################################################### 100.0%\n",
            "######################################################################### 100.0%\n",
            "######################################################################### 100.0%\n",
            "######################################################################### 100.0%\n",
            "######################################################################### 100.0%\n",
            "######################################################################### 100.0%\n",
            "\u001b[32m\u001b[1mUpdating\u001b[22m\u001b[39m `~/.julia/environments/v1.5/Project.toml`\n",
            " \u001b[90m [f3b833dc] \u001b[39m\u001b[92m+ JUDI v2.2.0 `~/.julia/dev/JUDI`\u001b[39m\n",
            "\u001b[32m\u001b[1mUpdating\u001b[22m\u001b[39m `~/.julia/environments/v1.5/Manifest.toml`\n",
            " \u001b[90m [621f4979] \u001b[39m\u001b[92m+ AbstractFFTs v0.5.0\u001b[39m\n",
            " \u001b[90m [79e6a3ab] \u001b[39m\u001b[92m+ Adapt v2.3.0\u001b[39m\n",
            " \u001b[90m [c7e460c6] \u001b[39m\u001b[92m+ ArgParse v1.1.1\u001b[39m\n",
            " \u001b[90m [ab4f0b2a] \u001b[39m\u001b[92m+ BFloat16s v0.1.0\u001b[39m\n",
            " \u001b[90m [fa961155] \u001b[39m\u001b[92m+ CEnum v0.4.1\u001b[39m\n",
            " \u001b[90m [052768ef] \u001b[39m\u001b[92m+ CUDA v2.3.0\u001b[39m\n",
            " \u001b[90m [3da002f7] \u001b[39m\u001b[92m+ ColorTypes v0.10.9\u001b[39m\n",
            " \u001b[90m [5ae59095] \u001b[39m\u001b[92m+ Colors v0.12.4\u001b[39m\n",
            " \u001b[90m [34da2185] \u001b[39m\u001b[92m+ Compat v3.25.0\u001b[39m\n",
            " \u001b[90m [e66e0078] \u001b[39m\u001b[92m+ CompilerSupportLibraries_jll v0.3.4+0\u001b[39m\n",
            " \u001b[90m [717857b8] \u001b[39m\u001b[92m+ DSP v0.6.9\u001b[39m\n",
            " \u001b[90m [864edb3b] \u001b[39m\u001b[92m+ DataStructures v0.18.8\u001b[39m\n",
            " \u001b[90m [39dd38d3] \u001b[39m\u001b[92m+ Dierckx v0.5.1\u001b[39m\n",
            " \u001b[90m [cd4c43a9] \u001b[39m\u001b[92m+ Dierckx_jll v0.0.1+0\u001b[39m\n",
            " \u001b[90m [aaf54ef3] \u001b[39m\u001b[92m+ DistributedArrays v0.6.5\u001b[39m\n",
            " \u001b[90m [e2ba6199] \u001b[39m\u001b[92m+ ExprTools v0.1.3\u001b[39m\n",
            " \u001b[90m [8f5d6c58] \u001b[39m\u001b[92m+ EzXML v1.1.0\u001b[39m\n",
            " \u001b[90m [7a1cc6ca] \u001b[39m\u001b[92m+ FFTW v1.2.4\u001b[39m\n",
            " \u001b[90m [f5851436] \u001b[39m\u001b[92m+ FFTW_jll v3.3.9+6\u001b[39m\n",
            " \u001b[90m [53c48c17] \u001b[39m\u001b[92m+ FixedPointNumbers v0.8.4\u001b[39m\n",
            " \u001b[90m [0c68f7d7] \u001b[39m\u001b[92m+ GPUArrays v6.1.2\u001b[39m\n",
            " \u001b[90m [61eb1bfa] \u001b[39m\u001b[92m+ GPUCompiler v0.8.3\u001b[39m\n",
            " \u001b[90m [a2bd30eb] \u001b[39m\u001b[92m+ Graphics v1.0.2\u001b[39m\n",
            " \u001b[90m [505f98c9] \u001b[39m\u001b[92m+ InplaceOps v0.3.0\u001b[39m\n",
            " \u001b[90m [1d5cc7b8] \u001b[39m\u001b[92m+ IntelOpenMP_jll v2018.0.3+0\u001b[39m\n",
            " \u001b[90m [d8418881] \u001b[39m\u001b[92m+ Intervals v1.5.0\u001b[39m\n",
            " \u001b[90m [c8e1da08] \u001b[39m\u001b[92m+ IterTools v1.3.0\u001b[39m\n",
            " \u001b[90m [42fd0dbc] \u001b[39m\u001b[92m+ IterativeSolvers v0.8.4\u001b[39m\n",
            " \u001b[90m [bb331ad6] \u001b[39m\u001b[92m+ JOLI v0.7.13\u001b[39m\n",
            " \u001b[90m [f3b833dc] \u001b[39m\u001b[92m+ JUDI v2.2.0 `~/.julia/dev/JUDI`\u001b[39m\n",
            " \u001b[90m [929cbde3] \u001b[39m\u001b[92m+ LLVM v3.5.1\u001b[39m\n",
            " \u001b[90m [94ce4f54] \u001b[39m\u001b[92m+ Libiconv_jll v1.16.0+7\u001b[39m\n",
            " \u001b[90m [856f044c] \u001b[39m\u001b[92m+ MKL_jll v2020.2.254+0\u001b[39m\n",
            " \u001b[90m [78c3b35d] \u001b[39m\u001b[92m+ Mocking v0.7.1\u001b[39m\n",
            " \u001b[90m [efe261a4] \u001b[39m\u001b[92m+ NFFT v0.6.1\u001b[39m\n",
            " \u001b[90m [872c559c] \u001b[39m\u001b[92m+ NNlib v0.7.7\u001b[39m\n",
            " \u001b[90m [77ba4419] \u001b[39m\u001b[92m+ NaNMath v0.3.5\u001b[39m\n",
            " \u001b[90m [4d1e1d77] \u001b[39m\u001b[92m+ Nullables v1.0.0\u001b[39m\n",
            " \u001b[90m [6fe1bfb0] \u001b[39m\u001b[92m+ OffsetArrays v1.4.1\u001b[39m\n",
            " \u001b[90m [efe28fd5] \u001b[39m\u001b[92m+ OpenSpecFun_jll v0.5.3+4\u001b[39m\n",
            " \u001b[90m [bac558e1] \u001b[39m\u001b[92m+ OrderedCollections v1.3.2\u001b[39m\n",
            " \u001b[90m [3a141323] \u001b[39m\u001b[92m+ PolynomialRoots v1.0.0\u001b[39m\n",
            " \u001b[90m [f27b6e38] \u001b[39m\u001b[92m+ Polynomials v1.2.0\u001b[39m\n",
            " \u001b[90m [27ebfcd6] \u001b[39m\u001b[92m+ Primes v0.4.0\u001b[39m\n",
            " \u001b[90m [3cdcf5f2] \u001b[39m\u001b[92m+ RecipesBase v1.1.1\u001b[39m\n",
            " \u001b[90m [189a3867] \u001b[39m\u001b[92m+ Reexport v0.2.0\u001b[39m\n",
            " \u001b[90m [ae029012] \u001b[39m\u001b[92m+ Requires v1.1.1\u001b[39m\n",
            " \u001b[90m [6c6a2e73] \u001b[39m\u001b[92m+ Scratch v1.0.3\u001b[39m\n",
            " \u001b[90m [157a0f19] \u001b[39m\u001b[92m+ SegyIO v0.7.3\u001b[39m\n",
            " \u001b[90m [276daf66] \u001b[39m\u001b[92m+ SpecialFunctions v0.10.3\u001b[39m\n",
            " \u001b[90m [b718987f] \u001b[39m\u001b[92m+ TextWrap v1.0.1\u001b[39m\n",
            " \u001b[90m [f269a46b] \u001b[39m\u001b[92m+ TimeZones v1.5.3\u001b[39m\n",
            " \u001b[90m [a759f4b9] \u001b[39m\u001b[92m+ TimerOutputs v0.5.7\u001b[39m\n",
            " \u001b[90m [29a6e085] \u001b[39m\u001b[92m+ Wavelets v0.9.2\u001b[39m\n",
            " \u001b[90m [02c8fc9c] \u001b[39m\u001b[92m+ XML2_jll v2.9.10+3\u001b[39m\n",
            " \u001b[90m [83775a58] \u001b[39m\u001b[92m+ Zlib_jll v1.2.11+18\u001b[39m\n",
            " \u001b[90m [8bb1440f] \u001b[39m\u001b[92m+ DelimitedFiles\u001b[39m\n",
            " \u001b[90m [1a1011a3] \u001b[39m\u001b[92m+ SharedArrays\u001b[39m\n",
            " \u001b[90m [2f01184e] \u001b[39m\u001b[92m+ SparseArrays\u001b[39m\n",
            " \u001b[90m [10745b16] \u001b[39m\u001b[92m+ Statistics\u001b[39m\n",
            "\u001b[32m\u001b[1m   Building\u001b[22m\u001b[39m TimeZones → `~/.julia/packages/TimeZones/K98G0/deps/build.log`\n",
            "\u001b[32m\u001b[1m   Building\u001b[22m\u001b[39m FFTW ─────→ `~/.julia/packages/FFTW/DMUbN/deps/build.log`\n"
          ],
          "name": "stderr"
        }
      ]
    },
    {
      "cell_type": "code",
      "metadata": {
        "colab": {
          "base_uri": "https://localhost:8080/"
        },
        "id": "DINZ12YfOTVX",
        "outputId": "e87066cc-5342-4cf8-b43a-c2b29067e1d8"
      },
      "source": [
        ";cd /root/.julia/dev/JUDI"
      ],
      "execution_count": 26,
      "outputs": [
        {
          "output_type": "stream",
          "text": [
            "/root/.julia/dev/JUDI\n"
          ],
          "name": "stdout"
        }
      ]
    },
    {
      "cell_type": "code",
      "metadata": {
        "colab": {
          "base_uri": "https://localhost:8080/"
        },
        "id": "Gr3XTvc4OgrX",
        "outputId": "b1645f8b-f8e5-4110-fa87-60d28dc3eed6"
      },
      "source": [
        ";git checkout exam"
      ],
      "execution_count": 28,
      "outputs": [
        {
          "output_type": "stream",
          "text": [
            "Branch 'exam' set up to track remote branch 'exam' from 'origin'.\n"
          ],
          "name": "stdout"
        },
        {
          "output_type": "stream",
          "text": [
            "Switched to a new branch 'exam'\n"
          ],
          "name": "stderr"
        }
      ]
    },
    {
      "cell_type": "code",
      "metadata": {
        "id": "TGJ0fcmQOy_n"
      },
      "source": [
        "#;git checkout v2.2.0"
      ],
      "execution_count": null,
      "outputs": []
    },
    {
      "cell_type": "code",
      "metadata": {
        "id": "bm9UxYFoIP9x",
        "colab": {
          "base_uri": "https://localhost:8080/"
        },
        "outputId": "100f07a2-0d3a-47ac-8c9e-bbe77f771609"
      },
      "source": [
        ";/root/.julia/conda/3/bin/python -m pip install --upgrade pip"
      ],
      "execution_count": 29,
      "outputs": [
        {
          "output_type": "stream",
          "text": [
            "Requirement already satisfied: pip in /root/.julia/conda/3/lib/python3.8/site-packages (20.3.1)\n"
          ],
          "name": "stdout"
        }
      ]
    },
    {
      "cell_type": "code",
      "metadata": {
        "id": "au70dTW6_tPF",
        "colab": {
          "base_uri": "https://localhost:8080/"
        },
        "outputId": "b5ee6643-4260-46d5-bba5-6d1495166797"
      },
      "source": [
        ";/root/.julia/conda/3/bin/python -m pip install models"
      ],
      "execution_count": 30,
      "outputs": [
        {
          "output_type": "stream",
          "text": [
            "Collecting models\n",
            "  Downloading models-0.9.3.tar.gz (16 kB)\n"
          ],
          "name": "stdout"
        },
        {
          "output_type": "stream",
          "text": [
            "ERROR: Command errored out with exit status 1: python setup.py egg_info Check the logs for full command output.\n"
          ],
          "name": "stderr"
        }
      ]
    },
    {
      "cell_type": "code",
      "metadata": {
        "id": "a-Iv5XfaIVQf",
        "colab": {
          "base_uri": "https://localhost:8080/"
        },
        "outputId": "293bd467-f7ca-4c55-9a45-aa726aa665c0"
      },
      "source": [
        ";/root/.julia/conda/3/bin/python -m pip install devito"
      ],
      "execution_count": 31,
      "outputs": [
        {
          "output_type": "stream",
          "text": [
            "Collecting devito\n",
            "  Downloading devito-4.2.3-py3-none-any.whl (384 kB)\n",
            "Requirement already satisfied: pip>=9.0.1 in /root/.julia/conda/3/lib/python3.8/site-packages (from devito) (20.3.1)\n",
            "Requirement already satisfied: numpy>1.16 in /root/.julia/conda/3/lib/python3.8/site-packages (from devito) (1.19.2)\n",
            "Collecting anytree>=2.4.3\n",
            "  Downloading anytree-2.8.0-py2.py3-none-any.whl (41 kB)\n",
            "Requirement already satisfied: six>=1.9.0 in /root/.julia/conda/3/lib/python3.8/site-packages (from anytree>=2.4.3->devito) (1.15.0)\n",
            "Collecting cached-property\n",
            "  Downloading cached_property-1.5.2-py2.py3-none-any.whl (7.6 kB)\n",
            "Collecting cgen>=2020.1\n",
            "  Downloading cgen-2020.1.tar.gz (19 kB)\n",
            "Requirement already satisfied: numpy>1.16 in /root/.julia/conda/3/lib/python3.8/site-packages (from devito) (1.19.2)\n",
            "Collecting click\n",
            "  Downloading click-7.1.2-py2.py3-none-any.whl (82 kB)\n",
            "Collecting codecov\n",
            "  Downloading codecov-2.1.10-py2.py3-none-any.whl (16 kB)\n",
            "Requirement already satisfied: requests>=2.7.9 in /root/.julia/conda/3/lib/python3.8/site-packages (from codecov->devito) (2.25.0)\n",
            "Collecting codepy>=2019.1\n",
            "  Downloading codepy-2019.1.tar.gz (24 kB)\n",
            "Requirement already satisfied: numpy>1.16 in /root/.julia/conda/3/lib/python3.8/site-packages (from devito) (1.19.2)\n",
            "Requirement already satisfied: six>=1.9.0 in /root/.julia/conda/3/lib/python3.8/site-packages (from anytree>=2.4.3->devito) (1.15.0)\n",
            "Collecting appdirs>=1.4.0\n",
            "  Downloading appdirs-1.4.4-py2.py3-none-any.whl (9.6 kB)\n",
            "Collecting coverage\n",
            "  Downloading coverage-5.3-cp38-cp38-manylinux1_x86_64.whl (230 kB)\n",
            "Collecting distributed<2.23\n",
            "  Downloading distributed-2.22.0-py3-none-any.whl (647 kB)\n",
            "Requirement already satisfied: setuptools in /root/.julia/conda/3/lib/python3.8/site-packages (from distributed<2.23->devito) (51.0.0.post20201207)\n",
            "Collecting cloudpickle>=1.5.0\n",
            "  Downloading cloudpickle-1.6.0-py3-none-any.whl (23 kB)\n",
            "Collecting dask>=2.9.0\n",
            "  Downloading dask-2020.12.0-py3-none-any.whl (884 kB)\n",
            "Collecting flake8>=2.1.0\n",
            "  Downloading flake8-3.8.4-py2.py3-none-any.whl (72 kB)\n",
            "Collecting mccabe<0.7.0,>=0.6.0\n",
            "  Downloading mccabe-0.6.1-py2.py3-none-any.whl (8.6 kB)\n",
            "Collecting msgpack>=0.6.0\n",
            "  Downloading msgpack-1.0.1-cp38-cp38-manylinux2010_x86_64.whl (302 kB)\n",
            "Collecting multidict\n",
            "  Downloading multidict-5.1.0-cp38-cp38-manylinux2014_x86_64.whl (159 kB)\n",
            "Collecting nbval\n",
            "  Downloading nbval-0.9.6-py2.py3-none-any.whl (23 kB)\n",
            "Requirement already satisfied: six>=1.9.0 in /root/.julia/conda/3/lib/python3.8/site-packages (from anytree>=2.4.3->devito) (1.15.0)\n",
            "Collecting ipykernel\n",
            "  Downloading ipykernel-5.4.2-py3-none-any.whl (119 kB)\n",
            "Collecting ipython>=5.0.0\n",
            "  Downloading ipython-7.19.0-py3-none-any.whl (784 kB)\n",
            "Requirement already satisfied: setuptools in /root/.julia/conda/3/lib/python3.8/site-packages (from distributed<2.23->devito) (51.0.0.post20201207)\n",
            "Collecting backcall\n",
            "  Downloading backcall-0.2.0-py2.py3-none-any.whl (11 kB)\n",
            "Collecting decorator\n",
            "  Downloading decorator-4.4.2-py2.py3-none-any.whl (9.2 kB)\n",
            "Collecting jedi>=0.10\n",
            "  Downloading jedi-0.17.2-py2.py3-none-any.whl (1.4 MB)\n",
            "Collecting jupyter-client\n",
            "  Downloading jupyter_client-6.1.7-py3-none-any.whl (108 kB)\n",
            "Collecting jupyter-core>=4.6.0\n",
            "  Downloading jupyter_core-4.7.0-py3-none-any.whl (82 kB)\n",
            "Collecting nbformat\n",
            "  Downloading nbformat-5.0.8-py3-none-any.whl (172 kB)\n",
            "Collecting ipython-genutils\n",
            "  Downloading ipython_genutils-0.2.0-py2.py3-none-any.whl (26 kB)\n",
            "Collecting jsonschema!=2.5.0,>=2.4\n",
            "  Downloading jsonschema-3.2.0-py2.py3-none-any.whl (56 kB)\n",
            "Requirement already satisfied: six>=1.9.0 in /root/.julia/conda/3/lib/python3.8/site-packages (from anytree>=2.4.3->devito) (1.15.0)\n",
            "Requirement already satisfied: setuptools in /root/.julia/conda/3/lib/python3.8/site-packages (from distributed<2.23->devito) (51.0.0.post20201207)\n",
            "Collecting attrs>=17.4.0\n",
            "  Downloading attrs-20.3.0-py2.py3-none-any.whl (49 kB)\n",
            "Collecting parso<0.8.0,>=0.7.0\n",
            "  Downloading parso-0.7.1-py2.py3-none-any.whl (109 kB)\n",
            "Collecting pexpect>4.3\n",
            "  Downloading pexpect-4.8.0-py2.py3-none-any.whl (59 kB)\n",
            "Collecting pickleshare\n",
            "  Downloading pickleshare-0.7.5-py2.py3-none-any.whl (6.9 kB)\n",
            "Collecting prompt-toolkit!=3.0.0,!=3.0.1,<3.1.0,>=2.0.0\n",
            "  Downloading prompt_toolkit-3.0.8-py3-none-any.whl (355 kB)\n",
            "Collecting psutil>=5.1.0\n",
            "  Downloading psutil-5.7.3.tar.gz (465 kB)\n",
            "Collecting ptyprocess>=0.5\n",
            "  Downloading ptyprocess-0.6.0-py2.py3-none-any.whl (39 kB)\n",
            "Collecting py-cpuinfo\n",
            "  Downloading py-cpuinfo-7.0.0.tar.gz (95 kB)\n",
            "Collecting pycodestyle<2.7.0,>=2.6.0a1\n",
            "  Downloading pycodestyle-2.6.0-py2.py3-none-any.whl (41 kB)\n",
            "Collecting pyflakes<2.3.0,>=2.2.0\n",
            "  Downloading pyflakes-2.2.0-py2.py3-none-any.whl (66 kB)\n",
            "Collecting pygments\n",
            "  Downloading Pygments-2.7.3-py3-none-any.whl (950 kB)\n",
            "Collecting pyrevolve>=2.1.3\n",
            "  Downloading pyrevolve-2.2.tar.gz (191 kB)\n",
            "Collecting contexttimer\n",
            "  Downloading contexttimer-0.3.3.tar.gz (4.9 kB)\n",
            "Collecting pyrsistent>=0.14.0\n",
            "  Downloading pyrsistent-0.17.3.tar.gz (106 kB)\n",
            "Collecting pytest<6.0,>=3.6\n",
            "  Downloading pytest-5.4.3-py3-none-any.whl (248 kB)\n",
            "Collecting more-itertools>=4.0.0\n",
            "  Downloading more_itertools-8.6.0-py3-none-any.whl (45 kB)\n",
            "Collecting packaging\n",
            "  Downloading packaging-20.8-py2.py3-none-any.whl (39 kB)\n",
            "Collecting pluggy<1.0,>=0.12\n",
            "  Downloading pluggy-0.13.1-py2.py3-none-any.whl (18 kB)\n",
            "Collecting py>=1.5.0\n",
            "  Downloading py-1.10.0-py2.py3-none-any.whl (97 kB)\n",
            "Collecting pyparsing>=2.0.2\n",
            "  Downloading pyparsing-2.4.7-py2.py3-none-any.whl (67 kB)\n",
            "Collecting pytest-cov\n",
            "  Downloading pytest_cov-2.10.1-py2.py3-none-any.whl (19 kB)\n",
            "Collecting pytest-runner\n",
            "  Downloading pytest_runner-5.2-py2.py3-none-any.whl (6.8 kB)\n",
            "Collecting python-dateutil>=2.1\n",
            "  Downloading python_dateutil-2.8.1-py2.py3-none-any.whl (227 kB)\n",
            "Requirement already satisfied: six>=1.9.0 in /root/.julia/conda/3/lib/python3.8/site-packages (from anytree>=2.4.3->devito) (1.15.0)\n",
            "Collecting pytools>=2015.1.2\n",
            "  Downloading pytools-2020.4.4.tar.gz (61 kB)\n",
            "Requirement already satisfied: numpy>1.16 in /root/.julia/conda/3/lib/python3.8/site-packages (from devito) (1.19.2)\n",
            "Collecting pyyaml\n",
            "  Downloading PyYAML-5.3.1.tar.gz (269 kB)\n",
            "Collecting pyzmq>=13\n",
            "  Downloading pyzmq-20.0.0-cp38-cp38-manylinux1_x86_64.whl (1.1 MB)\n",
            "Requirement already satisfied: idna<3,>=2.5 in /root/.julia/conda/3/lib/python3.8/site-packages (from requests>=2.7.9->codecov->devito) (2.10)\n",
            "Requirement already satisfied: certifi>=2017.4.17 in /root/.julia/conda/3/lib/python3.8/site-packages (from requests>=2.7.9->codecov->devito) (2020.12.5)\n",
            "Requirement already satisfied: chardet<4,>=3.0.2 in /root/.julia/conda/3/lib/python3.8/site-packages (from requests>=2.7.9->codecov->devito) (3.0.4)\n",
            "Requirement already satisfied: urllib3<1.27,>=1.21.1 in /root/.julia/conda/3/lib/python3.8/site-packages (from requests>=2.7.9->codecov->devito) (1.25.11)\n",
            "Collecting scipy\n",
            "  Downloading scipy-1.5.4-cp38-cp38-manylinux1_x86_64.whl (25.8 MB)\n",
            "Requirement already satisfied: numpy>1.16 in /root/.julia/conda/3/lib/python3.8/site-packages (from devito) (1.19.2)\n",
            "Collecting sortedcontainers!=2.0.0,!=2.0.1\n",
            "  Downloading sortedcontainers-2.3.0-py2.py3-none-any.whl (29 kB)\n",
            "Collecting sympy<1.6\n",
            "  Downloading sympy-1.5.1-py2.py3-none-any.whl (5.6 MB)\n",
            "Collecting mpmath>=0.19\n",
            "  Downloading mpmath-1.1.0.tar.gz (512 kB)\n",
            "Collecting tblib>=1.6.0\n",
            "  Downloading tblib-1.7.0-py2.py3-none-any.whl (12 kB)\n",
            "Collecting toolz>=0.8.2\n",
            "  Downloading toolz-0.11.1-py3-none-any.whl (55 kB)\n",
            "Collecting tornado>=6.0.3\n",
            "  Downloading tornado-6.1-cp38-cp38-manylinux2010_x86_64.whl (427 kB)\n",
            "Collecting traitlets>=4.1.0\n",
            "  Downloading traitlets-5.0.5-py3-none-any.whl (100 kB)\n",
            "Collecting wcwidth\n",
            "  Downloading wcwidth-0.2.5-py2.py3-none-any.whl (30 kB)\n",
            "Collecting zict>=0.1.3\n",
            "  Downloading zict-2.0.0-py3-none-any.whl (10 kB)\n",
            "Collecting heapdict\n",
            "  Downloading HeapDict-1.0.1-py3-none-any.whl (3.9 kB)\n",
            "Building wheels for collected packages: cgen, codepy, psutil, py-cpuinfo, pyrevolve, contexttimer, pyrsistent, pytools, pyyaml, mpmath\n",
            "  Building wheel for cgen (setup.py): started\n",
            "  Building wheel for cgen (setup.py): finished with status 'done'\n",
            "  Created wheel for cgen: filename=cgen-2020.1-py3-none-any.whl size=15824 sha256=95bc0912e8c56b54af8e1049d926aee4599b9bbd07b7ea08f00b7583d710ff77\n",
            "  Stored in directory: /root/.cache/pip/wheels/f1/7c/34/5ea06ad75758a23a959da1268dad81f7e1191b424fb4318dd2\n",
            "  Building wheel for codepy (setup.py): started\n",
            "  Building wheel for codepy (setup.py): finished with status 'done'\n",
            "  Created wheel for codepy: filename=codepy-2019.1-py3-none-any.whl size=19314 sha256=991c716ba1d112fee613d930adbce7b7285cb8967d38ab6647fc3f08cc8401c9\n",
            "  Stored in directory: /root/.cache/pip/wheels/42/1f/3f/8c9d6eff98b2bacbf45771a1764eb26881c2d88c5d4e0ec75d\n",
            "  Building wheel for psutil (setup.py): started\n",
            "  Building wheel for psutil (setup.py): finished with status 'done'\n",
            "  Created wheel for psutil: filename=psutil-5.7.3-cp38-cp38-linux_x86_64.whl size=285828 sha256=2d06ee5c3f93c5e5dbd6eaa58265f5bb62f79e7c736ecad95b17bd475313135f\n",
            "  Stored in directory: /root/.cache/pip/wheels/f6/59/c2/38111ef4c354088a156bc95fbeb5396c0cac91a0f62f7158b9\n",
            "  Building wheel for py-cpuinfo (setup.py): started\n",
            "  Building wheel for py-cpuinfo (setup.py): finished with status 'done'\n",
            "  Created wheel for py-cpuinfo: filename=py_cpuinfo-7.0.0-py3-none-any.whl size=20069 sha256=0f4b01248ea036c6b2b25a2e60b986a714df4bffb2a90de308cfa14a77fcc0d1\n",
            "  Stored in directory: /root/.cache/pip/wheels/b4/99/9f/8eb77fdf759c1380719071722f2c37dd0fa1f6aa477c51cb6c\n",
            "  Building wheel for pyrevolve (setup.py): started\n",
            "  Building wheel for pyrevolve (setup.py): finished with status 'done'\n",
            "  Created wheel for pyrevolve: filename=pyrevolve-2.2-cp38-cp38-linux_x86_64.whl size=276355 sha256=1265ae97a4a05c0c145510a5048f02159622385354f02c78942aea77fde273f3\n",
            "  Stored in directory: /root/.cache/pip/wheels/a6/f0/f9/a7cce2ae7bb69c398c146b9aaa38f3837abee3f63094297218\n",
            "  Building wheel for contexttimer (setup.py): started\n",
            "  Building wheel for contexttimer (setup.py): finished with status 'done'\n",
            "  Created wheel for contexttimer: filename=contexttimer-0.3.3-py3-none-any.whl size=5818 sha256=3a738e58f9f3f9e2ce80ed95b2b4f1763439036199bb93ac9b515539e3395a13\n",
            "  Stored in directory: /root/.cache/pip/wheels/70/dd/09/4924e45dc5912f71b971b6790958b5e82f88c9db95a7cb4969\n",
            "  Building wheel for pyrsistent (setup.py): started\n",
            "  Building wheel for pyrsistent (setup.py): finished with status 'done'\n",
            "  Created wheel for pyrsistent: filename=pyrsistent-0.17.3-cp38-cp38-linux_x86_64.whl size=119656 sha256=a7d44e35937c129c051af27088362f29923a16f8b537b62ea83238de883f86a1\n",
            "  Stored in directory: /root/.cache/pip/wheels/3d/22/08/7042eb6309c650c7b53615d5df5cc61f1ea9680e7edd3a08d2\n",
            "  Building wheel for pytools (setup.py): started\n",
            "  Building wheel for pytools (setup.py): finished with status 'done'\n",
            "  Created wheel for pytools: filename=pytools-2020.4.4-py2.py3-none-any.whl size=59110 sha256=182cb8dd387d722e8aae144c55922086ef9f5e427bfa1cd7a62c0fa63148e5f5\n",
            "  Stored in directory: /root/.cache/pip/wheels/3c/36/97/14823474944a2e5c1f93831343eaf2d1ba50ee15a97ead57f0\n",
            "  Building wheel for pyyaml (setup.py): started\n",
            "  Building wheel for pyyaml (setup.py): finished with status 'done'\n",
            "  Created wheel for pyyaml: filename=PyYAML-5.3.1-cp38-cp38-linux_x86_64.whl size=44618 sha256=0eb1cd6f618618417dc06d93fd7d4a37e2ece8df5709c2ddbc724e42766954d8\n",
            "  Stored in directory: /root/.cache/pip/wheels/13/90/db/290ab3a34f2ef0b5a0f89235dc2d40fea83e77de84ed2dc05c\n",
            "  Building wheel for mpmath (setup.py): started\n",
            "  Building wheel for mpmath (setup.py): finished with status 'done'\n",
            "  Created wheel for mpmath: filename=mpmath-1.1.0-py3-none-any.whl size=532237 sha256=1f9e8710ec00fb47b8f0ac51f4f8040563d9f0d17f5d6e92e4294d771d00a386\n",
            "  Stored in directory: /root/.cache/pip/wheels/29/2c/1c/d2e4580cde2743b0aef389e936ac21a2db92921ddbca53faa1\n",
            "Successfully built cgen codepy psutil py-cpuinfo pyrevolve contexttimer pyrsistent pytools pyyaml mpmath\n",
            "Installing collected packages: ipython-genutils, wcwidth, traitlets, ptyprocess, parso, tornado, pyzmq, python-dateutil, pyrsistent, pyparsing, pygments, prompt-toolkit, pickleshare, pexpect, jupyter-core, jedi, decorator, backcall, attrs, appdirs, pyyaml, pytools, py, pluggy, packaging, more-itertools, jupyter-client, jsonschema, ipython, heapdict, zict, toolz, tblib, sortedcontainers, pytest, pyflakes, pycodestyle, psutil, nbformat, msgpack, mpmath, mccabe, ipykernel, dask, coverage, contexttimer, cloudpickle, click, cgen, sympy, scipy, pytest-runner, pytest-cov, pyrevolve, py-cpuinfo, nbval, multidict, flake8, distributed, codepy, codecov, cached-property, anytree, devito\n",
            "Successfully installed anytree-2.8.0 appdirs-1.4.4 attrs-20.3.0 backcall-0.2.0 cached-property-1.5.2 cgen-2020.1 click-7.1.2 cloudpickle-1.6.0 codecov-2.1.10 codepy-2019.1 contexttimer-0.3.3 coverage-5.3 dask-2020.12.0 decorator-4.4.2 devito-4.2.3 distributed-2.22.0 flake8-3.8.4 heapdict-1.0.1 ipykernel-5.4.2 ipython-7.19.0 ipython-genutils-0.2.0 jedi-0.17.2 jsonschema-3.2.0 jupyter-client-6.1.7 jupyter-core-4.7.0 mccabe-0.6.1 more-itertools-8.6.0 mpmath-1.1.0 msgpack-1.0.1 multidict-5.1.0 nbformat-5.0.8 nbval-0.9.6 packaging-20.8 parso-0.7.1 pexpect-4.8.0 pickleshare-0.7.5 pluggy-0.13.1 prompt-toolkit-3.0.8 psutil-5.7.3 ptyprocess-0.6.0 py-1.10.0 py-cpuinfo-7.0.0 pycodestyle-2.6.0 pyflakes-2.2.0 pygments-2.7.3 pyparsing-2.4.7 pyrevolve-2.2 pyrsistent-0.17.3 pytest-5.4.3 pytest-cov-2.10.1 pytest-runner-5.2 python-dateutil-2.8.1 pytools-2020.4.4 pyyaml-5.3.1 pyzmq-20.0.0 scipy-1.5.4 sortedcontainers-2.3.0 sympy-1.5.1 tblib-1.7.0 toolz-0.11.1 tornado-6.1 traitlets-5.0.5 wcwidth-0.2.5 zict-2.0.0\n"
          ],
          "name": "stdout"
        }
      ]
    },
    {
      "cell_type": "code",
      "metadata": {
        "id": "BLhj4NwMIWuA",
        "colab": {
          "base_uri": "https://localhost:8080/"
        },
        "outputId": "1b89ac2a-0bc2-41c3-d6f1-f14e5e60d888"
      },
      "source": [
        ";/root/.julia/conda/3/bin/python -m pip install matplotlib"
      ],
      "execution_count": 32,
      "outputs": [
        {
          "output_type": "stream",
          "text": [
            "Collecting matplotlib\n",
            "  Downloading matplotlib-3.3.3-cp38-cp38-manylinux1_x86_64.whl (11.6 MB)\n",
            "Requirement already satisfied: numpy>=1.15 in /root/.julia/conda/3/lib/python3.8/site-packages (from matplotlib) (1.19.2)\n",
            "Requirement already satisfied: python-dateutil>=2.1 in /root/.julia/conda/3/lib/python3.8/site-packages (from matplotlib) (2.8.1)\n",
            "Requirement already satisfied: pyparsing!=2.0.4,!=2.1.2,!=2.1.6,>=2.0.3 in /root/.julia/conda/3/lib/python3.8/site-packages (from matplotlib) (2.4.7)\n",
            "Collecting cycler>=0.10\n",
            "  Downloading cycler-0.10.0-py2.py3-none-any.whl (6.5 kB)\n",
            "Requirement already satisfied: six in /root/.julia/conda/3/lib/python3.8/site-packages (from cycler>=0.10->matplotlib) (1.15.0)\n",
            "Collecting kiwisolver>=1.0.1\n",
            "  Downloading kiwisolver-1.3.1-cp38-cp38-manylinux1_x86_64.whl (1.2 MB)\n",
            "Collecting pillow>=6.2.0\n",
            "  Downloading Pillow-8.0.1-cp38-cp38-manylinux1_x86_64.whl (2.2 MB)\n",
            "Requirement already satisfied: six in /root/.julia/conda/3/lib/python3.8/site-packages (from cycler>=0.10->matplotlib) (1.15.0)\n",
            "Installing collected packages: pillow, kiwisolver, cycler, matplotlib\n",
            "Successfully installed cycler-0.10.0 kiwisolver-1.3.1 matplotlib-3.3.3 pillow-8.0.1\n"
          ],
          "name": "stdout"
        }
      ]
    },
    {
      "cell_type": "code",
      "metadata": {
        "id": "-IMEZh5tGQhm",
        "colab": {
          "base_uri": "https://localhost:8080/"
        },
        "outputId": "a2ff059b-e8b9-4bcb-a1ae-de0fbe772cf5"
      },
      "source": [
        "include(\"deps/install_global.jl\")\r\n",
        "#!julia --project -e 'using Pkg;Pkg.test(coverage=false)' # uncomment this if you want to run test"
      ],
      "execution_count": 33,
      "outputs": [
        {
          "output_type": "stream",
          "text": [
            "\u001b[?25l    "
          ],
          "name": "stdout"
        },
        {
          "output_type": "stream",
          "text": [
            "\u001b[32m\u001b[1m    Cloning\u001b[22m\u001b[39m git-repo `https://github.com/JuliaLang/TOML.jl.git`\n"
          ],
          "name": "stderr"
        },
        {
          "output_type": "stream",
          "text": [
            "\u001b[2K\u001b[?25h\u001b[?25l    "
          ],
          "name": "stdout"
        },
        {
          "output_type": "stream",
          "text": [
            "\u001b[32m\u001b[1m   Updating\u001b[22m\u001b[39m git-repo `https://github.com/JuliaLang/TOML.jl.git`\n"
          ],
          "name": "stderr"
        },
        {
          "output_type": "stream",
          "text": [
            "\u001b[36m\u001b[1mFetching:\u001b[22m\u001b[39m [>                                        ]  0.0 %\r    \u001b[36m\u001b[1mFetching:\u001b[22m\u001b[39m [=>                                       ]  0.9 %\r    \u001b[36m\u001b[1mFetching:\u001b[22m\u001b[39m [=>                                       ]  1.8 %\r    \u001b[36m\u001b[1mFetching:\u001b[22m\u001b[39m [==>                                      ]  2.7 %\r    \u001b[36m\u001b[1mFetching:\u001b[22m\u001b[39m [==>                                      ]  3.6 %\r    \u001b[36m\u001b[1mFetching:\u001b[22m\u001b[39m [==>                                      ]  4.5 %\r    \u001b[36m\u001b[1mFetching:\u001b[22m\u001b[39m [===>                                     ]  5.4 %\r    \u001b[36m\u001b[1mFetching:\u001b[22m\u001b[39m [===>                                     ]  6.3 %\r    \u001b[36m\u001b[1mFetching:\u001b[22m\u001b[39m [===>                                     ]  7.1 %\r    \u001b[36m\u001b[1mFetching:\u001b[22m\u001b[39m [====>                                    ]  8.0 %\r    \u001b[36m\u001b[1mFetching:\u001b[22m\u001b[39m [====>                                    ]  8.9 %\r    \u001b[36m\u001b[1mFetching:\u001b[22m\u001b[39m [====>                                    ]  9.8 %\r    \u001b[36m\u001b[1mFetching:\u001b[22m\u001b[39m [=====>                                   ]  10.7 %\r    \u001b[36m\u001b[1mFetching:\u001b[22m\u001b[39m [=====>                                   ]  11.6 %\r    \u001b[36m\u001b[1mFetching:\u001b[22m\u001b[39m [=====>                                   ]  12.5 %\r    \u001b[36m\u001b[1mFetching:\u001b[22m\u001b[39m [======>                                  ]  13.4 %\r    \u001b[36m\u001b[1mFetching:\u001b[22m\u001b[39m [======>                                  ]  14.3 %\r    \u001b[36m\u001b[1mFetching:\u001b[22m\u001b[39m [=======>                                 ]  15.2 %\r    \u001b[36m\u001b[1mFetching:\u001b[22m\u001b[39m [=======>                                 ]  16.1 %\r    \u001b[36m\u001b[1mFetching:\u001b[22m\u001b[39m [=======>                                 ]  17.0 %\r    \u001b[36m\u001b[1mFetching:\u001b[22m\u001b[39m [========>                                ]  17.9 %\r    \u001b[36m\u001b[1mFetching:\u001b[22m\u001b[39m [========>                                ]  18.8 %\r    \u001b[36m\u001b[1mFetching:\u001b[22m\u001b[39m [========>                                ]  19.6 %\r    \u001b[36m\u001b[1mFetching:\u001b[22m\u001b[39m [=========>                               ]  20.5 %\r    \u001b[36m\u001b[1mFetching:\u001b[22m\u001b[39m [=========>                               ]  21.4 %\r    \u001b[36m\u001b[1mFetching:\u001b[22m\u001b[39m [=========>                               ]  22.3 %\r    \u001b[36m\u001b[1mFetching:\u001b[22m\u001b[39m [==========>                              ]  23.2 %\r    \u001b[36m\u001b[1mFetching:\u001b[22m\u001b[39m [==========>                              ]  24.1 %\r    \u001b[36m\u001b[1mFetching:\u001b[22m\u001b[39m [==========>                              ]  25.0 %\r    \u001b[36m\u001b[1mFetching:\u001b[22m\u001b[39m [===========>                             ]  25.9 %\r    \u001b[36m\u001b[1mFetching:\u001b[22m\u001b[39m [===========>                             ]  26.8 %\r    \u001b[36m\u001b[1mFetching:\u001b[22m\u001b[39m [============>                            ]  27.7 %\r    \u001b[36m\u001b[1mFetching:\u001b[22m\u001b[39m [============>                            ]  28.6 %\r    \u001b[36m\u001b[1mFetching:\u001b[22m\u001b[39m [============>                            ]  29.5 %\r    \u001b[36m\u001b[1mFetching:\u001b[22m\u001b[39m [=============>                           ]  30.4 %\r    \u001b[36m\u001b[1mFetching:\u001b[22m\u001b[39m [=============>                           ]  31.3 %\r    \u001b[36m\u001b[1mFetching:\u001b[22m\u001b[39m [=============>                           ]  32.1 %\r    \u001b[36m\u001b[1mFetching:\u001b[22m\u001b[39m [==============>                          ]  33.0 %\r    \u001b[36m\u001b[1mFetching:\u001b[22m\u001b[39m [==============>                          ]  33.9 %\r    \u001b[36m\u001b[1mFetching:\u001b[22m\u001b[39m [==============>                          ]  34.8 %\r    \u001b[36m\u001b[1mFetching:\u001b[22m\u001b[39m [===============>                         ]  35.7 %\r    \u001b[36m\u001b[1mFetching:\u001b[22m\u001b[39m [===============>                         ]  36.6 %\r    \u001b[36m\u001b[1mFetching:\u001b[22m\u001b[39m [===============>                         ]  37.5 %\r    \u001b[36m\u001b[1mFetching:\u001b[22m\u001b[39m [================>                        ]  38.4 %\r    \u001b[36m\u001b[1mFetching:\u001b[22m\u001b[39m [================>                        ]  39.3 %\r    \u001b[36m\u001b[1mFetching:\u001b[22m\u001b[39m [=================>                       ]  40.2 %\r    \u001b[36m\u001b[1mFetching:\u001b[22m\u001b[39m [=================>                       ]  41.1 %\r    \u001b[36m\u001b[1mFetching:\u001b[22m\u001b[39m [=================>                       ]  42.0 %\r    \u001b[36m\u001b[1mFetching:\u001b[22m\u001b[39m [==================>                      ]  42.9 %\r    \u001b[36m\u001b[1mFetching:\u001b[22m\u001b[39m [==================>                      ]  43.8 %\r    \u001b[36m\u001b[1mFetching:\u001b[22m\u001b[39m [==================>                      ]  44.6 %\r    \u001b[36m\u001b[1mFetching:\u001b[22m\u001b[39m [===================>                     ]  45.5 %\r    \u001b[36m\u001b[1mFetching:\u001b[22m\u001b[39m [===================>                     ]  46.4 %\r    \u001b[36m\u001b[1mFetching:\u001b[22m\u001b[39m [===================>                     ]  47.3 %\r    \u001b[36m\u001b[1mFetching:\u001b[22m\u001b[39m [====================>                    ]  48.2 %\r    \u001b[36m\u001b[1mFetching:\u001b[22m\u001b[39m [====================>                    ]  49.1 %\r    \u001b[36m\u001b[1mFetching:\u001b[22m\u001b[39m [====================>                    ]  50.0 %\r    \u001b[36m\u001b[1mFetching:\u001b[22m\u001b[39m [=====================>                   ]  50.9 %\r    \u001b[36m\u001b[1mFetching:\u001b[22m\u001b[39m [=====================>                   ]  51.8 %\r    \u001b[36m\u001b[1mFetching:\u001b[22m\u001b[39m [======================>                  ]  52.7 %\r    \u001b[36m\u001b[1mFetching:\u001b[22m\u001b[39m [======================>                  ]  53.6 %\r    \u001b[36m\u001b[1mFetching:\u001b[22m\u001b[39m [======================>                  ]  54.5 %\r    \u001b[36m\u001b[1mFetching:\u001b[22m\u001b[39m [=======================>                 ]  55.4 %\r    \u001b[36m\u001b[1mFetching:\u001b[22m\u001b[39m [=======================>                 ]  56.3 %\r    \u001b[36m\u001b[1mFetching:\u001b[22m\u001b[39m [=======================>                 ]  57.1 %\r    \u001b[36m\u001b[1mFetching:\u001b[22m\u001b[39m [========================>                ]  58.0 %\r    \u001b[36m\u001b[1mFetching:\u001b[22m\u001b[39m [========================>                ]  58.9 %\r    \u001b[36m\u001b[1mFetching:\u001b[22m\u001b[39m [========================>                ]  59.8 %\r    \u001b[36m\u001b[1mFetching:\u001b[22m\u001b[39m [=========================>               ]  60.7 %\r    \u001b[36m\u001b[1mFetching:\u001b[22m\u001b[39m [=========================>               ]  61.6 %\r    \u001b[36m\u001b[1mFetching:\u001b[22m\u001b[39m [=========================>               ]  62.5 %\r    \u001b[36m\u001b[1mFetching:\u001b[22m\u001b[39m [==========================>              ]  63.4 %\r    \u001b[36m\u001b[1mFetching:\u001b[22m\u001b[39m [==========================>              ]  64.3 %\r    \u001b[36m\u001b[1mFetching:\u001b[22m\u001b[39m [===========================>             ]  65.2 %\r    \u001b[36m\u001b[1mFetching:\u001b[22m\u001b[39m [===========================>             ]  66.1 %\r    \u001b[36m\u001b[1mFetching:\u001b[22m\u001b[39m [===========================>             ]  67.0 %\r    \u001b[36m\u001b[1mFetching:\u001b[22m\u001b[39m [============================>            ]  67.9 %\r    \u001b[36m\u001b[1mFetching:\u001b[22m\u001b[39m [============================>            ]  68.8 %\r    \u001b[36m\u001b[1mFetching:\u001b[22m\u001b[39m [============================>            ]  69.6 %\r    \u001b[36m\u001b[1mFetching:\u001b[22m\u001b[39m [=============================>           ]  70.5 %\r    \u001b[36m\u001b[1mFetching:\u001b[22m\u001b[39m [=============================>           ]  71.4 %\r    \u001b[36m\u001b[1mFetching:\u001b[22m\u001b[39m [=============================>           ]  72.3 %\r    \u001b[36m\u001b[1mFetching:\u001b[22m\u001b[39m [==============================>          ]  73.2 %\r    \u001b[36m\u001b[1mFetching:\u001b[22m\u001b[39m [==============================>          ]  74.1 %\r    \u001b[36m\u001b[1mFetching:\u001b[22m\u001b[39m [==============================>          ]  75.0 %\r    \u001b[36m\u001b[1mFetching:\u001b[22m\u001b[39m [===============================>         ]  75.9 %\r    \u001b[36m\u001b[1mFetching:\u001b[22m\u001b[39m [===============================>         ]  76.8 %\r    \u001b[36m\u001b[1mFetching:\u001b[22m\u001b[39m [================================>        ]  77.7 %\r    \u001b[36m\u001b[1mFetching:\u001b[22m\u001b[39m [================================>        ]  78.6 %\r    \u001b[36m\u001b[1mFetching:\u001b[22m\u001b[39m [================================>        ]  79.5 %\r    \u001b[36m\u001b[1mFetching:\u001b[22m\u001b[39m [=================================>       ]  80.4 %\r    \u001b[36m\u001b[1mFetching:\u001b[22m\u001b[39m [=================================>       ]  81.3 %\r    \u001b[36m\u001b[1mFetching:\u001b[22m\u001b[39m [=================================>       ]  82.1 %\r    \u001b[36m\u001b[1mFetching:\u001b[22m\u001b[39m [==================================>      ]  83.0 %\r    \u001b[36m\u001b[1mFetching:\u001b[22m\u001b[39m [==================================>      ]  83.9 %\r    \u001b[36m\u001b[1mFetching:\u001b[22m\u001b[39m [==================================>      ]  84.8 %\r    \u001b[36m\u001b[1mFetching:\u001b[22m\u001b[39m [===================================>     ]  85.7 %\r    \u001b[36m\u001b[1mFetching:\u001b[22m\u001b[39m [===================================>     ]  86.6 %\r    \u001b[36m\u001b[1mFetching:\u001b[22m\u001b[39m [===================================>     ]  87.5 %\r    \u001b[36m\u001b[1mFetching:\u001b[22m\u001b[39m [====================================>    ]  88.4 %\r    \u001b[36m\u001b[1mFetching:\u001b[22m\u001b[39m [====================================>    ]  89.3 %\r    \u001b[36m\u001b[1mFetching:\u001b[22m\u001b[39m [=====================================>   ]  90.2 %\r    \u001b[36m\u001b[1mFetching:\u001b[22m\u001b[39m [=====================================>   ]  91.1 %\r    \u001b[36m\u001b[1mFetching:\u001b[22m\u001b[39m [=====================================>   ]  92.0 %\r    \u001b[36m\u001b[1mFetching:\u001b[22m\u001b[39m [======================================>  ]  92.9 %\r    \u001b[36m\u001b[1mFetching:\u001b[22m\u001b[39m [======================================>  ]  93.8 %\r    \u001b[36m\u001b[1mFetching:\u001b[22m\u001b[39m [======================================>  ]  94.6 %\r    \u001b[36m\u001b[1mFetching:\u001b[22m\u001b[39m [=======================================> ]  95.5 %\r    \u001b[36m\u001b[1mFetching:\u001b[22m\u001b[39m [=======================================> ]  96.4 %\r    \u001b[36m\u001b[1mFetching:\u001b[22m\u001b[39m [=======================================> ]  97.3 %\r    \u001b[36m\u001b[1mFetching:\u001b[22m\u001b[39m [========================================>]  98.2 %\r    \u001b[36m\u001b[1mFetching:\u001b[22m\u001b[39m [========================================>]  99.1 %\r    \u001b[36m\u001b[1mFetching:\u001b[22m\u001b[39m [========================================>]  100.0 %\r\u001b[2K\u001b[?25h"
          ],
          "name": "stdout"
        },
        {
          "output_type": "stream",
          "text": [
            "\u001b[32m\u001b[1m  Resolving\u001b[22m\u001b[39m package versions...\n",
            "\u001b[32m\u001b[1mUpdating\u001b[22m\u001b[39m `~/.julia/environments/v1.5/Project.toml`\n",
            " \u001b[90m [fa267f1f] \u001b[39m\u001b[92m+ TOML v1.0.1 `https://github.com/JuliaLang/TOML.jl.git#master`\u001b[39m\n",
            "\u001b[32m\u001b[1mUpdating\u001b[22m\u001b[39m `~/.julia/environments/v1.5/Manifest.toml`\n",
            " \u001b[90m [fa267f1f] \u001b[39m\u001b[92m+ TOML v1.0.1 `https://github.com/JuliaLang/TOML.jl.git#master`\u001b[39m\n",
            "┌ Info: Precompiling TOML [fa267f1f-6049-4f14-aa54-33bafae1ed76]\n",
            "└ @ Base loading.jl:1278\n",
            "\u001b[32m\u001b[1m  Resolving\u001b[22m\u001b[39m package versions...\n",
            "\u001b[32m\u001b[1mUpdating\u001b[22m\u001b[39m `~/.julia/environments/v1.5/Project.toml`\n",
            " \u001b[90m [c7e460c6] \u001b[39m\u001b[92m+ ArgParse v1.1.1\u001b[39m\n",
            "\u001b[32m\u001b[1mNo Changes\u001b[22m\u001b[39m to `~/.julia/environments/v1.5/Manifest.toml`\n",
            "\u001b[32m\u001b[1m  Resolving\u001b[22m\u001b[39m package versions...\n",
            "\u001b[32m\u001b[1mUpdating\u001b[22m\u001b[39m `~/.julia/environments/v1.5/Project.toml`\n",
            " \u001b[90m [44cfe95a] \u001b[39m\u001b[92m+ Pkg\u001b[39m\n",
            "\u001b[32m\u001b[1mNo Changes\u001b[22m\u001b[39m to `~/.julia/environments/v1.5/Manifest.toml`\n",
            "\u001b[32m\u001b[1m  Resolving\u001b[22m\u001b[39m package versions...\n",
            "\u001b[32m\u001b[1mUpdating\u001b[22m\u001b[39m `~/.julia/environments/v1.5/Project.toml`\n",
            " \u001b[90m [10745b16] \u001b[39m\u001b[92m+ Statistics\u001b[39m\n",
            "\u001b[32m\u001b[1mNo Changes\u001b[22m\u001b[39m to `~/.julia/environments/v1.5/Manifest.toml`\n",
            "\u001b[32m\u001b[1m  Resolving\u001b[22m\u001b[39m package versions...\n",
            "\u001b[32m\u001b[1mUpdating\u001b[22m\u001b[39m `~/.julia/environments/v1.5/Project.toml`\n",
            " \u001b[90m [8dfed614] \u001b[39m\u001b[92m+ Test\u001b[39m\n",
            "\u001b[32m\u001b[1mNo Changes\u001b[22m\u001b[39m to `~/.julia/environments/v1.5/Manifest.toml`\n",
            "\u001b[32m\u001b[1m  Resolving\u001b[22m\u001b[39m package versions...\n",
            "\u001b[32m\u001b[1mUpdating\u001b[22m\u001b[39m `~/.julia/environments/v1.5/Project.toml`\n",
            " \u001b[90m [9a3f8284] \u001b[39m\u001b[92m+ Random\u001b[39m\n",
            "\u001b[32m\u001b[1mNo Changes\u001b[22m\u001b[39m to `~/.julia/environments/v1.5/Manifest.toml`\n",
            "\u001b[32m\u001b[1m  Resolving\u001b[22m\u001b[39m package versions...\n",
            "\u001b[32m\u001b[1mUpdating\u001b[22m\u001b[39m `~/.julia/environments/v1.5/Project.toml`\n",
            " \u001b[90m [157a0f19] \u001b[39m\u001b[92m+ SegyIO v0.7.3\u001b[39m\n",
            "\u001b[32m\u001b[1mNo Changes\u001b[22m\u001b[39m to `~/.julia/environments/v1.5/Manifest.toml`\n",
            "\u001b[32m\u001b[1m  Resolving\u001b[22m\u001b[39m package versions...\n",
            "\u001b[32m\u001b[1mUpdating\u001b[22m\u001b[39m `~/.julia/environments/v1.5/Project.toml`\n",
            " \u001b[90m [8ba89e20] \u001b[39m\u001b[92m+ Distributed\u001b[39m\n",
            "\u001b[32m\u001b[1mNo Changes\u001b[22m\u001b[39m to `~/.julia/environments/v1.5/Manifest.toml`\n",
            "\u001b[32m\u001b[1m  Resolving\u001b[22m\u001b[39m package versions...\n",
            "\u001b[32m\u001b[1mUpdating\u001b[22m\u001b[39m `~/.julia/environments/v1.5/Project.toml`\n",
            " \u001b[90m [717857b8] \u001b[39m\u001b[92m+ DSP v0.6.9\u001b[39m\n",
            "\u001b[32m\u001b[1mNo Changes\u001b[22m\u001b[39m to `~/.julia/environments/v1.5/Manifest.toml`\n",
            "\u001b[32m\u001b[1m  Resolving\u001b[22m\u001b[39m package versions...\n",
            "\u001b[32m\u001b[1mUpdating\u001b[22m\u001b[39m `~/.julia/environments/v1.5/Project.toml`\n",
            " \u001b[90m [37e2e46d] \u001b[39m\u001b[92m+ LinearAlgebra\u001b[39m\n",
            "\u001b[32m\u001b[1mNo Changes\u001b[22m\u001b[39m to `~/.julia/environments/v1.5/Manifest.toml`\n",
            "\u001b[32m\u001b[1m  Resolving\u001b[22m\u001b[39m package versions...\n",
            "\u001b[32m\u001b[1mUpdating\u001b[22m\u001b[39m `~/.julia/environments/v1.5/Project.toml`\n",
            " \u001b[90m [3a141323] \u001b[39m\u001b[92m+ PolynomialRoots v1.0.0\u001b[39m\n",
            "\u001b[32m\u001b[1mNo Changes\u001b[22m\u001b[39m to `~/.julia/environments/v1.5/Manifest.toml`\n",
            "\u001b[32m\u001b[1m  Resolving\u001b[22m\u001b[39m package versions...\n",
            "\u001b[32m\u001b[1mUpdating\u001b[22m\u001b[39m `~/.julia/environments/v1.5/Project.toml`\n",
            " \u001b[90m [bb331ad6] \u001b[39m\u001b[92m+ JOLI v0.7.13\u001b[39m\n",
            "\u001b[32m\u001b[1mNo Changes\u001b[22m\u001b[39m to `~/.julia/environments/v1.5/Manifest.toml`\n",
            "\u001b[32m\u001b[1m  Resolving\u001b[22m\u001b[39m package versions...\n",
            "\u001b[32m\u001b[1mNo Changes\u001b[22m\u001b[39m to `~/.julia/environments/v1.5/Project.toml`\n",
            "\u001b[32m\u001b[1mNo Changes\u001b[22m\u001b[39m to `~/.julia/environments/v1.5/Manifest.toml`\n",
            "\u001b[32m\u001b[1m  Resolving\u001b[22m\u001b[39m package versions...\n",
            "\u001b[32m\u001b[1mUpdating\u001b[22m\u001b[39m `~/.julia/environments/v1.5/Project.toml`\n",
            " \u001b[90m [42fd0dbc] \u001b[39m\u001b[92m+ IterativeSolvers v0.8.4\u001b[39m\n",
            "\u001b[32m\u001b[1mNo Changes\u001b[22m\u001b[39m to `~/.julia/environments/v1.5/Manifest.toml`\n",
            "\u001b[32m\u001b[1m  Resolving\u001b[22m\u001b[39m package versions...\n",
            "\u001b[32m\u001b[1mUpdating\u001b[22m\u001b[39m `~/.julia/environments/v1.5/Project.toml`\n",
            " \u001b[90m [39dd38d3] \u001b[39m\u001b[92m+ Dierckx v0.5.1\u001b[39m\n",
            "\u001b[32m\u001b[1mNo Changes\u001b[22m\u001b[39m to `~/.julia/environments/v1.5/Manifest.toml`\n",
            "\u001b[32m\u001b[1m  Resolving\u001b[22m\u001b[39m package versions...\n",
            "\u001b[32m\u001b[1mUpdating\u001b[22m\u001b[39m `~/.julia/environments/v1.5/Project.toml`\n",
            " \u001b[90m [de0858da] \u001b[39m\u001b[92m+ Printf\u001b[39m\n",
            "\u001b[32m\u001b[1mNo Changes\u001b[22m\u001b[39m to `~/.julia/environments/v1.5/Manifest.toml`\n",
            "\u001b[32m\u001b[1m  Resolving\u001b[22m\u001b[39m package versions...\n",
            "\u001b[32m\u001b[1mUpdating\u001b[22m\u001b[39m `~/.julia/environments/v1.5/Project.toml`\n",
            " \u001b[90m [7a1cc6ca] \u001b[39m\u001b[92m+ FFTW v1.2.4\u001b[39m\n",
            "\u001b[32m\u001b[1mNo Changes\u001b[22m\u001b[39m to `~/.julia/environments/v1.5/Manifest.toml`\n"
          ],
          "name": "stderr"
        }
      ]
    },
    {
      "cell_type": "markdown",
      "metadata": {
        "id": "_RyzHZK0DHMZ"
      },
      "source": [
        "JUDI dependencies"
      ]
    },
    {
      "cell_type": "code",
      "metadata": {
        "colab": {
          "base_uri": "https://localhost:8080/"
        },
        "id": "A1TPC7ioDFfB",
        "outputId": "21114fa7-0556-4a87-ec39-cbff7deced21"
      },
      "source": [
        "# IO\r\n",
        "Pkg.add(\"HDF5\")\r\n",
        "Pkg.add(\"JLD\")\r\n",
        "Pkg.add(\"JLD2\")\r\n",
        "\r\n",
        "# Plotting\r\n",
        "Pkg.add(\"PyPlot\")\r\n",
        "\r\n",
        "# Optimization\r\n",
        "Pkg.add(\"NLopt\")\r\n",
        "Pkg.add(\"IterativeSolvers\")\r\n",
        "Pkg.add(\"Optim\")\r\n",
        "Pkg.add(\"LineSearches\")\r\n",
        "Pkg.add(\"SetIntersectionProjection\")"
      ],
      "execution_count": 34,
      "outputs": [
        {
          "output_type": "stream",
          "text": [
            "\u001b[32m\u001b[1m  Resolving\u001b[22m\u001b[39m package versions...\n",
            "\u001b[32m\u001b[1m  Installed\u001b[22m\u001b[39m HDF5_jll ──── v1.12.0+1\n",
            "\u001b[32m\u001b[1m  Installed\u001b[22m\u001b[39m LibSSH2_jll ─ v1.9.0+3\n",
            "\u001b[32m\u001b[1m  Installed\u001b[22m\u001b[39m LibCURL_jll ─ v7.70.0+2\n",
            "\u001b[32m\u001b[1m  Installed\u001b[22m\u001b[39m Blosc_jll ─── v1.14.3+1\n",
            "\u001b[32m\u001b[1m  Installed\u001b[22m\u001b[39m OpenSSL_jll ─ v1.1.1+6\n",
            "\u001b[32m\u001b[1m  Installed\u001b[22m\u001b[39m Zstd_jll ──── v1.4.5+2\n",
            "\u001b[32m\u001b[1m  Installed\u001b[22m\u001b[39m HDF5 ──────── v0.14.3\n",
            "\u001b[32m\u001b[1m  Installed\u001b[22m\u001b[39m nghttp2_jll ─ v1.40.0+2\n",
            "\u001b[32m\u001b[1m  Installed\u001b[22m\u001b[39m Lz4_jll ───── v1.9.2+2\n",
            "\u001b[32m\u001b[1m  Installed\u001b[22m\u001b[39m Blosc ─────── v0.7.0\n",
            "######################################################################### 100.0%\n",
            "######################################################################### 100.0%\n",
            "######################################################################### 100.0%\n",
            "######################################################################### 100.0%\n",
            "######################################################################### 100.0%\n",
            "######################################################################### 100.0%\n",
            "######################################################################### 100.0%\n",
            "######################################################################### 100.0%\n",
            "\u001b[32m\u001b[1mUpdating\u001b[22m\u001b[39m `~/.julia/environments/v1.5/Project.toml`\n",
            " \u001b[90m [f67ccb44] \u001b[39m\u001b[92m+ HDF5 v0.14.3\u001b[39m\n",
            "\u001b[32m\u001b[1mUpdating\u001b[22m\u001b[39m `~/.julia/environments/v1.5/Manifest.toml`\n",
            " \u001b[90m [a74b3585] \u001b[39m\u001b[92m+ Blosc v0.7.0\u001b[39m\n",
            " \u001b[90m [0b7ba130] \u001b[39m\u001b[92m+ Blosc_jll v1.14.3+1\u001b[39m\n",
            " \u001b[90m [f67ccb44] \u001b[39m\u001b[92m+ HDF5 v0.14.3\u001b[39m\n",
            " \u001b[90m [0234f1f7] \u001b[39m\u001b[92m+ HDF5_jll v1.12.0+1\u001b[39m\n",
            " \u001b[90m [deac9b47] \u001b[39m\u001b[92m+ LibCURL_jll v7.70.0+2\u001b[39m\n",
            " \u001b[90m [29816b5a] \u001b[39m\u001b[92m+ LibSSH2_jll v1.9.0+3\u001b[39m\n",
            " \u001b[90m [5ced341a] \u001b[39m\u001b[92m+ Lz4_jll v1.9.2+2\u001b[39m\n",
            " \u001b[90m [458c3c95] \u001b[39m\u001b[92m+ OpenSSL_jll v1.1.1+6\u001b[39m\n",
            " \u001b[90m [3161d3a3] \u001b[39m\u001b[92m+ Zstd_jll v1.4.5+2\u001b[39m\n",
            " \u001b[90m [8e850ede] \u001b[39m\u001b[92m+ nghttp2_jll v1.40.0+2\u001b[39m\n",
            "\u001b[32m\u001b[1m   Building\u001b[22m\u001b[39m HDF5 → `~/.julia/packages/HDF5/d0V7K/deps/build.log`\n",
            "\u001b[32m\u001b[1m  Resolving\u001b[22m\u001b[39m package versions...\n",
            "\u001b[32m\u001b[1m  Installed\u001b[22m\u001b[39m JLD ──── v0.11.1\n",
            "\u001b[32m\u001b[1m  Installed\u001b[22m\u001b[39m FileIO ─ v1.4.5\n",
            "\u001b[32m\u001b[1mUpdating\u001b[22m\u001b[39m `~/.julia/environments/v1.5/Project.toml`\n",
            " \u001b[90m [4138dd39] \u001b[39m\u001b[92m+ JLD v0.11.1\u001b[39m\n",
            "\u001b[32m\u001b[1mUpdating\u001b[22m\u001b[39m `~/.julia/environments/v1.5/Manifest.toml`\n",
            " \u001b[90m [5789e2e9] \u001b[39m\u001b[92m+ FileIO v1.4.5\u001b[39m\n",
            " \u001b[90m [4138dd39] \u001b[39m\u001b[92m+ JLD v0.11.1\u001b[39m\n",
            "\u001b[32m\u001b[1m  Resolving\u001b[22m\u001b[39m package versions...\n",
            "\u001b[32m\u001b[1m  Installed\u001b[22m\u001b[39m CodecZlib ────────── v0.7.0\n",
            "\u001b[32m\u001b[1m  Installed\u001b[22m\u001b[39m JLD2 ─────────────── v0.3.1\n",
            "\u001b[32m\u001b[1m  Installed\u001b[22m\u001b[39m TranscodingStreams ─ v0.9.5\n",
            "\u001b[32m\u001b[1mUpdating\u001b[22m\u001b[39m `~/.julia/environments/v1.5/Project.toml`\n",
            " \u001b[90m [033835bb] \u001b[39m\u001b[92m+ JLD2 v0.3.1\u001b[39m\n",
            "\u001b[32m\u001b[1mUpdating\u001b[22m\u001b[39m `~/.julia/environments/v1.5/Manifest.toml`\n",
            " \u001b[90m [944b1d66] \u001b[39m\u001b[92m+ CodecZlib v0.7.0\u001b[39m\n",
            " \u001b[90m [033835bb] \u001b[39m\u001b[92m+ JLD2 v0.3.1\u001b[39m\n",
            " \u001b[90m [3bb67fe8] \u001b[39m\u001b[92m+ TranscodingStreams v0.9.5\u001b[39m\n",
            "\u001b[32m\u001b[1m  Resolving\u001b[22m\u001b[39m package versions...\n",
            "\u001b[32m\u001b[1m  Installed\u001b[22m\u001b[39m LaTeXStrings ─ v1.2.0\n",
            "\u001b[32m\u001b[1m  Installed\u001b[22m\u001b[39m PyPlot ─────── v2.9.0\n",
            "\u001b[32m\u001b[1mUpdating\u001b[22m\u001b[39m `~/.julia/environments/v1.5/Project.toml`\n",
            " \u001b[90m [d330b81b] \u001b[39m\u001b[92m+ PyPlot v2.9.0\u001b[39m\n",
            "\u001b[32m\u001b[1mUpdating\u001b[22m\u001b[39m `~/.julia/environments/v1.5/Manifest.toml`\n",
            " \u001b[90m [b964fa9f] \u001b[39m\u001b[92m+ LaTeXStrings v1.2.0\u001b[39m\n",
            " \u001b[90m [d330b81b] \u001b[39m\u001b[92m+ PyPlot v2.9.0\u001b[39m\n",
            "\u001b[32m\u001b[1m  Resolving\u001b[22m\u001b[39m package versions...\n",
            "\u001b[32m\u001b[1m  Installed\u001b[22m\u001b[39m NLopt ────────────── v0.6.1\n",
            "\u001b[32m\u001b[1m  Installed\u001b[22m\u001b[39m IniFile ──────────── v0.5.0\n",
            "\u001b[32m\u001b[1m  Installed\u001b[22m\u001b[39m NLopt_jll ────────── v2.7.0+0\n",
            "\u001b[32m\u001b[1m  Installed\u001b[22m\u001b[39m BenchmarkTools ───── v0.5.0\n",
            "\u001b[32m\u001b[1m  Installed\u001b[22m\u001b[39m MutableArithmetics ─ v0.2.12\n",
            "\u001b[32m\u001b[1m  Installed\u001b[22m\u001b[39m MathProgBase ─────── v0.7.8\n",
            "\u001b[32m\u001b[1m  Installed\u001b[22m\u001b[39m JSONSchema ───────── v0.3.3\n",
            "\u001b[32m\u001b[1m  Installed\u001b[22m\u001b[39m URIs ─────────────── v1.1.0\n",
            "\u001b[32m\u001b[1m  Installed\u001b[22m\u001b[39m ZipFile ──────────── v0.9.3\n",
            "\u001b[32m\u001b[1m  Installed\u001b[22m\u001b[39m Bzip2_jll ────────── v1.0.6+5\n",
            "\u001b[32m\u001b[1m  Installed\u001b[22m\u001b[39m HTTP ─────────────── v0.9.1\n",
            "\u001b[32m\u001b[1m  Installed\u001b[22m\u001b[39m CodecBzip2 ───────── v0.7.2\n",
            "\u001b[32m\u001b[1m  Installed\u001b[22m\u001b[39m MathOptInterface ─── v0.9.19\n",
            "######################################################################### 100.0%\n",
            "######################################################################### 100.0%\n",
            "\u001b[32m\u001b[1mUpdating\u001b[22m\u001b[39m `~/.julia/environments/v1.5/Project.toml`\n",
            " \u001b[90m [76087f3c] \u001b[39m\u001b[92m+ NLopt v0.6.1\u001b[39m\n",
            "\u001b[32m\u001b[1mUpdating\u001b[22m\u001b[39m `~/.julia/environments/v1.5/Manifest.toml`\n",
            " \u001b[90m [6e4b80f9] \u001b[39m\u001b[92m+ BenchmarkTools v0.5.0\u001b[39m\n",
            " \u001b[90m [6e34b625] \u001b[39m\u001b[92m+ Bzip2_jll v1.0.6+5\u001b[39m\n",
            " \u001b[90m [523fee87] \u001b[39m\u001b[92m+ CodecBzip2 v0.7.2\u001b[39m\n",
            " \u001b[90m [cd3eb016] \u001b[39m\u001b[92m+ HTTP v0.9.1\u001b[39m\n",
            " \u001b[90m [83e8ac13] \u001b[39m\u001b[92m+ IniFile v0.5.0\u001b[39m\n",
            " \u001b[90m [7d188eb4] \u001b[39m\u001b[92m+ JSONSchema v0.3.3\u001b[39m\n",
            " \u001b[90m [b8f27783] \u001b[39m\u001b[92m+ MathOptInterface v0.9.19\u001b[39m\n",
            " \u001b[90m [fdba3010] \u001b[39m\u001b[92m+ MathProgBase v0.7.8\u001b[39m\n",
            " \u001b[90m [d8a4904e] \u001b[39m\u001b[92m+ MutableArithmetics v0.2.12\u001b[39m\n",
            " \u001b[90m [76087f3c] \u001b[39m\u001b[92m+ NLopt v0.6.1\u001b[39m\n",
            " \u001b[90m [079eb43e] \u001b[39m\u001b[92m+ NLopt_jll v2.7.0+0\u001b[39m\n",
            " \u001b[90m [5c2747f8] \u001b[39m\u001b[92m+ URIs v1.1.0\u001b[39m\n",
            " \u001b[90m [a5390f91] \u001b[39m\u001b[92m+ ZipFile v0.9.3\u001b[39m\n",
            "\u001b[32m\u001b[1m  Resolving\u001b[22m\u001b[39m package versions...\n",
            "\u001b[32m\u001b[1mNo Changes\u001b[22m\u001b[39m to `~/.julia/environments/v1.5/Project.toml`\n",
            "\u001b[32m\u001b[1mNo Changes\u001b[22m\u001b[39m to `~/.julia/environments/v1.5/Manifest.toml`\n",
            "\u001b[32m\u001b[1m  Resolving\u001b[22m\u001b[39m package versions...\n",
            "\u001b[32m\u001b[1m  Installed\u001b[22m\u001b[39m PositiveFactorizations ─ v0.2.4\n",
            "\u001b[32m\u001b[1m  Installed\u001b[22m\u001b[39m ForwardDiff ──────────── v0.10.14\n",
            "\u001b[32m\u001b[1m  Installed\u001b[22m\u001b[39m CommonSubexpressions ─── v0.3.0\n",
            "\u001b[32m\u001b[1m  Installed\u001b[22m\u001b[39m Missings ─────────────── v0.4.4\n",
            "\u001b[32m\u001b[1m  Installed\u001b[22m\u001b[39m DiffResults ──────────── v1.0.3\n",
            "\u001b[32m\u001b[1m  Installed\u001b[22m\u001b[39m StaticArrays ─────────── v1.0.1\n",
            "\u001b[32m\u001b[1m  Installed\u001b[22m\u001b[39m LineSearches ─────────── v7.1.0\n",
            "\u001b[32m\u001b[1m  Installed\u001b[22m\u001b[39m UnPack ───────────────── v1.0.2\n",
            "\u001b[32m\u001b[1m  Installed\u001b[22m\u001b[39m DataAPI ──────────────── v1.4.0\n",
            "\u001b[32m\u001b[1m  Installed\u001b[22m\u001b[39m Optim ────────────────── v1.2.0\n",
            "\u001b[32m\u001b[1m  Installed\u001b[22m\u001b[39m StatsBase ────────────── v0.33.2\n",
            "\u001b[32m\u001b[1m  Installed\u001b[22m\u001b[39m FillArrays ───────────── v0.9.7\n",
            "\u001b[32m\u001b[1m  Installed\u001b[22m\u001b[39m DiffRules ────────────── v1.0.2\n",
            "\u001b[32m\u001b[1m  Installed\u001b[22m\u001b[39m Parameters ───────────── v0.12.1\n",
            "\u001b[32m\u001b[1m  Installed\u001b[22m\u001b[39m ArrayInterface ───────── v2.14.5\n",
            "\u001b[32m\u001b[1m  Installed\u001b[22m\u001b[39m SortingAlgorithms ────── v0.3.1\n",
            "\u001b[32m\u001b[1m  Installed\u001b[22m\u001b[39m NLSolversBase ────────── v7.7.1\n",
            "\u001b[32m\u001b[1m  Installed\u001b[22m\u001b[39m FiniteDiff ───────────── v2.7.2\n",
            "\u001b[32m\u001b[1mUpdating\u001b[22m\u001b[39m `~/.julia/environments/v1.5/Project.toml`\n",
            " \u001b[90m [429524aa] \u001b[39m\u001b[92m+ Optim v1.2.0\u001b[39m\n",
            "\u001b[32m\u001b[1mUpdating\u001b[22m\u001b[39m `~/.julia/environments/v1.5/Manifest.toml`\n",
            " \u001b[90m [4fba245c] \u001b[39m\u001b[92m+ ArrayInterface v2.14.5\u001b[39m\n",
            " \u001b[90m [bbf7d656] \u001b[39m\u001b[92m+ CommonSubexpressions v0.3.0\u001b[39m\n",
            " \u001b[90m [9a962f9c] \u001b[39m\u001b[92m+ DataAPI v1.4.0\u001b[39m\n",
            " \u001b[90m [163ba53b] \u001b[39m\u001b[92m+ DiffResults v1.0.3\u001b[39m\n",
            " \u001b[90m [b552c78f] \u001b[39m\u001b[92m+ DiffRules v1.0.2\u001b[39m\n",
            " \u001b[90m [1a297f60] \u001b[39m\u001b[92m+ FillArrays v0.9.7\u001b[39m\n",
            " \u001b[90m [6a86dc24] \u001b[39m\u001b[92m+ FiniteDiff v2.7.2\u001b[39m\n",
            " \u001b[90m [f6369f11] \u001b[39m\u001b[92m+ ForwardDiff v0.10.14\u001b[39m\n",
            " \u001b[90m [d3d80556] \u001b[39m\u001b[92m+ LineSearches v7.1.0\u001b[39m\n",
            " \u001b[90m [e1d29d7a] \u001b[39m\u001b[92m+ Missings v0.4.4\u001b[39m\n",
            " \u001b[90m [d41bc354] \u001b[39m\u001b[92m+ NLSolversBase v7.7.1\u001b[39m\n",
            " \u001b[90m [429524aa] \u001b[39m\u001b[92m+ Optim v1.2.0\u001b[39m\n",
            " \u001b[90m [d96e819e] \u001b[39m\u001b[92m+ Parameters v0.12.1\u001b[39m\n",
            " \u001b[90m [85a6dd25] \u001b[39m\u001b[92m+ PositiveFactorizations v0.2.4\u001b[39m\n",
            " \u001b[90m [a2af1166] \u001b[39m\u001b[92m+ SortingAlgorithms v0.3.1\u001b[39m\n",
            " \u001b[90m [90137ffa] \u001b[39m\u001b[92m+ StaticArrays v1.0.1\u001b[39m\n",
            " \u001b[90m [2913bbd2] \u001b[39m\u001b[92m+ StatsBase v0.33.2\u001b[39m\n",
            " \u001b[90m [3a884ed6] \u001b[39m\u001b[92m+ UnPack v1.0.2\u001b[39m\n",
            "\u001b[32m\u001b[1m  Resolving\u001b[22m\u001b[39m package versions...\n",
            "\u001b[32m\u001b[1mUpdating\u001b[22m\u001b[39m `~/.julia/environments/v1.5/Project.toml`\n",
            " \u001b[90m [d3d80556] \u001b[39m\u001b[92m+ LineSearches v7.1.0\u001b[39m\n",
            "\u001b[32m\u001b[1mNo Changes\u001b[22m\u001b[39m to `~/.julia/environments/v1.5/Manifest.toml`\n",
            "\u001b[32m\u001b[1m  Resolving\u001b[22m\u001b[39m package versions...\n",
            "\u001b[32m\u001b[1m  Installed\u001b[22m\u001b[39m WoodburyMatrices ────────── v0.5.3\n",
            "\u001b[32m\u001b[1m  Installed\u001b[22m\u001b[39m Ratios ──────────────────── v0.4.0\n",
            "\u001b[32m\u001b[1m  Installed\u001b[22m\u001b[39m AxisAlgorithms ──────────── v1.0.0\n",
            "\u001b[32m\u001b[1m  Installed\u001b[22m\u001b[39m Interpolations ──────────── v0.13.1\n"
          ],
          "name": "stderr"
        },
        {
          "output_type": "stream",
          "text": [
            "\u001b[?25l    "
          ],
          "name": "stdout"
        },
        {
          "output_type": "stream",
          "text": [
            "\u001b[32m\u001b[1m    Cloning\u001b[22m\u001b[39m [335f7d24-6316-57dd-9c3a-df470f2b739e] SetIntersectionProjection from https://GitHub.com/slimgroup/SetIntersectionProjection.jl.git\n"
          ],
          "name": "stderr"
        },
        {
          "output_type": "stream",
          "text": [
            "\u001b[2K\u001b[?25h"
          ],
          "name": "stdout"
        },
        {
          "output_type": "stream",
          "text": [
            "\u001b[32m\u001b[1m  Installed\u001b[22m\u001b[39m SetIntersectionProjection ─ v0.1.0\n",
            "\u001b[32m\u001b[1mUpdating\u001b[22m\u001b[39m `~/.julia/environments/v1.5/Project.toml`\n",
            " \u001b[90m [335f7d24] \u001b[39m\u001b[92m+ SetIntersectionProjection v0.1.0\u001b[39m\n",
            "\u001b[32m\u001b[1mUpdating\u001b[22m\u001b[39m `~/.julia/environments/v1.5/Manifest.toml`\n",
            " \u001b[90m [13072b0f] \u001b[39m\u001b[92m+ AxisAlgorithms v1.0.0\u001b[39m\n",
            " \u001b[90m [a98d9a8b] \u001b[39m\u001b[92m+ Interpolations v0.13.1\u001b[39m\n",
            " \u001b[90m [c84ed2f1] \u001b[39m\u001b[92m+ Ratios v0.4.0\u001b[39m\n",
            " \u001b[90m [335f7d24] \u001b[39m\u001b[92m+ SetIntersectionProjection v0.1.0\u001b[39m\n",
            " \u001b[90m [efce3f68] \u001b[39m\u001b[92m+ WoodburyMatrices v0.5.3\u001b[39m\n"
          ],
          "name": "stderr"
        }
      ]
    },
    {
      "cell_type": "markdown",
      "metadata": {
        "id": "IL6iVezPJpNs"
      },
      "source": [
        "# **JUDI examples**"
      ]
    },
    {
      "cell_type": "markdown",
      "metadata": {
        "id": "yPiHX7R48w1l"
      },
      "source": [
        "## Script examples"
      ]
    },
    {
      "cell_type": "markdown",
      "metadata": {
        "id": "w54DAyO3-SO_"
      },
      "source": [
        "### *extended_source_lsqr.jl*"
      ]
    },
    {
      "cell_type": "code",
      "metadata": {
        "colab": {
          "base_uri": "https://localhost:8080/"
        },
        "id": "tkfZV-5sQtcS",
        "outputId": "290df0a5-44b3-4143-a172-761103e79558"
      },
      "source": [
        ";cd /root/.julia/dev/JUDI/examples/scripts"
      ],
      "execution_count": 84,
      "outputs": [
        {
          "output_type": "stream",
          "text": [
            "/root/.julia/dev/JUDI/examples/scripts\n"
          ],
          "name": "stdout"
        }
      ]
    },
    {
      "cell_type": "code",
      "metadata": {
        "colab": {
          "base_uri": "https://localhost:8080/"
        },
        "id": "74h08fwt-lg7",
        "outputId": "7f59fb7e-7b21-4bce-d6e2-eca60a664a80"
      },
      "source": [
        "# Example for basic 2D modeling:\r\n",
        "# The receiver positions and the source wavelets are the same for each of the four experiments.\r\n",
        "# Author: Philipp Witte, pwitte@eos.ubc.ca\r\n",
        "# Date: January 2017\r\n",
        "#\r\n",
        "\r\n",
        "using JUDI.TimeModeling, SegyIO, LinearAlgebra, PyPlot, IterativeSolvers, JOLI\r\n",
        "\r\n",
        "# Set up model structure\r\n",
        "n = (120, 100)   # (x,y,z) or (x,z)\r\n",
        "d = (10., 10.)\r\n",
        "o = (0., 0.)\r\n",
        "\r\n",
        "# Velocity [km/s]\r\n",
        "v = ones(Float32,n) .+ 0.4f0\r\n",
        "v[:,Int(round(end/2)):end] .= 5f0\r\n",
        "\r\n",
        "# Slowness squared [s^2/km^2]\r\n",
        "m = (1f0 ./ v).^2\r\n",
        "\r\n",
        "# Setup info and model structure\r\n",
        "nsrc = 1\t# number of sources\r\n",
        "model = Model(n, d, o, m)\r\n",
        "\r\n",
        "# Set up receiver geometry\r\n",
        "nxrec = 120\r\n",
        "xrec = range(50f0, stop=1150f0, length=nxrec)\r\n",
        "yrec = 0f0\r\n",
        "zrec = range(50f0, stop=50f0, length=nxrec)\r\n",
        "\r\n",
        "# receiver sampling and recording time\r\n",
        "time = 2000f0   # receiver recording time [ms]\r\n",
        "dt = 4f0    # receiver sampling interval [ms]\r\n",
        "\r\n",
        "# Set up receiver structure\r\n",
        "recGeometry = Geometry(xrec, yrec, zrec; dt=dt, t=time, nsrc=nsrc)\r\n",
        "\r\n",
        "# Source wavelet\r\n",
        "f0 = 0.01f0     # MHz\r\n",
        "wavelet = ricker_wavelet(time, dt, f0)\r\n",
        "\r\n",
        "# Set up info structure for linear operators\r\n",
        "ntComp = get_computational_nt(recGeometry, model)\r\n",
        "info = Info(prod(n), nsrc, ntComp)"
      ],
      "execution_count": 85,
      "outputs": [
        {
          "output_type": "stream",
          "text": [
            "Downloading artifact: CUDA101\n",
            "\u001b[?25l\u001b[1A\u001b[2K\u001b[?25hDownloading artifact: CUDA101\n",
            "\u001b[?25l\u001b[1A\u001b[2K\u001b[?25hDownloading artifact: CUDNN_CUDA101\n",
            "\u001b[?25l\u001b[1A\u001b[2K\u001b[?25hDownloading artifact: CUTENSOR_CUDA101\n",
            "\u001b[?25l\u001b[1A\u001b[2K\u001b[?25h"
          ],
          "name": "stdout"
        },
        {
          "output_type": "stream",
          "text": [
            "┌ Info: Precompiling JUDI [f3b833dc-6b2e-5b9c-b940-873ed6319979]\n",
            "└ @ Base loading.jl:1278\n",
            "\n",
            "curl: (22) The requested URL returned error: 502 \n",
            "#=#=#                                                                          \r\r######################################################################### 100.0%\r                                                                            0.0%\r#                                                                           2.2%\r##                                                                          3.1%\r####                                                                        5.6%\r####                                                                        6.1%\r######                                                                      8.4%\r########                                                                   11.2%\r########                                                                   11.6%\r##########                                                                 14.0%\r############                                                               16.8%\r##############                                                             19.2%\r###############                                                            21.7%\r#################                                                          24.4%\r##################                                                         25.7%\r####################                                                       28.0%\r######################                                                     30.8%\r#######################                                                    31.6%\r########################                                                   33.7%\r##########################                                                 36.5%\r##########################                                                 37.0%\r############################                                               39.3%\r##############################                                             42.1%\r################################                                           44.4%\r##################################                                         47.3%\r###################################                                        48.0%\r####################################                                       50.5%\r######################################                                     52.2%\r#######################################                                    53.4%\r########################################                                   54.9%\r########################################                                   56.1%\r##########################################                                 58.9%\r#############################################                              61.7%\r###############################################                            64.5%\r################################################                           66.4%\r#################################################                          67.3%\r#################################################                          68.1%\r##################################################                         69.6%\r###################################################                        69.9%\r###################################################                        70.1%\r####################################################                       71.5%\r######################################################                     74.4%\r#######################################################                    76.6%\r#########################################################                  79.1%\r##########################################################                 80.6%\r###########################################################                81.3%\r#############################################################              84.1%\r#############################################################              84.6%\r###############################################################            86.9%\r#################################################################          89.3%\r###################################################################        92.5%\r#####################################################################      95.4%\r######################################################################     96.3%\r#######################################################################    98.2%\r#######################################################################    98.6%\r########################################################################   99.0%\r######################################################################### 100.0%\n",
            "\r                                                                            0.2%\r#                                                                           2.4%\r###                                                                         5.4%\r######                                                                      8.6%\r#######                                                                    10.6%\r#########                                                                  12.8%\r##########                                                                 14.8%\r############                                                               16.7%\r#############                                                              18.6%\r##############                                                             20.5%\r################                                                           22.4%\r#################                                                          24.5%\r###################                                                        26.6%\r####################                                                       28.4%\r######################                                                     30.3%\r#######################                                                    32.1%\r########################                                                   33.5%\r#########################                                                  34.9%\r##########################                                                 36.6%\r############################                                               38.6%\r#############################                                              40.3%\r##############################                                             42.4%\r################################                                           44.6%\r#################################                                          46.5%\r###################################                                        48.7%\r####################################                                       50.6%\r######################################                                     52.4%\r#######################################                                    54.4%\r#########################################                                  56.6%\r##########################################                                 58.3%\r###########################################                                60.1%\r#############################################                              62.0%\r##############################################                             63.9%\r################################################                           66.0%\r##################################################                         68.6%\r###################################################                        70.6%\r####################################################                       72.4%\r######################################################                     74.2%\r#######################################################                    76.0%\r########################################################                   77.7%\r##########################################################                 79.8%\r###########################################################                82.0%\r#############################################################              83.9%\r##############################################################             85.7%\r###############################################################            87.5%\r#################################################################          89.1%\r##################################################################         90.6%\r###################################################################        91.8%\r####################################################################       93.3%\r#####################################################################      95.2%\r######################################################################     97.2%\r########################################################################   99.1%\r######################################################################### 100.0%\n",
            "\r                                                                            1.1%\r#####                                                                       7.7%\r################                                                           22.1%\r########################                                                   33.1%\r################################                                           44.5%\r########################################                                   55.5%\r#################################################                          68.3%\r############################################################               82.5%\r########################################################################   99.3%\r######################################################################### 100.0%\n",
            "┌ Info: Precompiling PyPlot [d330b81b-6aea-500a-939a-2ce795aea3ee]\n",
            "└ @ Base loading.jl:1278\n"
          ],
          "name": "stderr"
        },
        {
          "output_type": "execute_result",
          "data": {
            "text/plain": [
              "Info(12000, 1, Any[2646])"
            ]
          },
          "metadata": {
            "tags": []
          },
          "execution_count": 85
        }
      ]
    },
    {
      "cell_type": "code",
      "metadata": {
        "colab": {
          "base_uri": "https://localhost:8080/",
          "height": 911
        },
        "id": "6LeqnmIb-msO",
        "outputId": "b0fca7f2-583b-4b4a-ae55-10a07020937c"
      },
      "source": [
        "###################################################################################################\r\n",
        "\r\n",
        "# Write shots as segy files to disk\r\n",
        "opt = Options()\r\n",
        "\r\n",
        "# Setup operators\r\n",
        "Pr = judiProjection(info, recGeometry)\r\n",
        "F = judiModeling(info, model; options=opt)\r\n",
        "\r\n",
        "# Random weights (size of the model)\r\n",
        "w = judiWeights(randn(Float32, model.n))\r\n",
        "\r\n",
        "# Create operator for injecting the weights, multiplied by the provided wavelet(s)\r\n",
        "Pw = judiLRWF(info, wavelet)\r\n",
        "\r\n",
        "# Model observed data w/ extended source\r\n",
        "lambda = 1f2\r\n",
        "I = joDirac(info.n, DDT=Float32, RDT=Float32)\r\n",
        "F = Pr*F*adjoint(Pw)\r\n",
        "F̄ = [F; lambda*I]\r\n",
        "\r\n",
        "# Simultaneous observed data\r\n",
        "d_sim = F*w\r\n",
        "\r\n",
        "# # Adjoint operation\r\n",
        "w_adj = adjoint(F)*d_sim\r\n",
        "\r\n",
        "# # LSQR\r\n",
        "w_inv = 0f0 .* w\r\n",
        "w_inv_no_damp = 0f0 .* w\r\n",
        "lsqr!(w_inv, F̄, [d_sim; lambda*w]; maxiter=2, verbose=true, damp=1e2)\r\n",
        "lsqr!(w_inv_no_damp, F, d_sim; maxiter=2, verbose=true, damp=1e2)\r\n",
        "\r\n",
        "d_pred = F*w_inv;\r\n",
        "d_pred_no_damp = F*w_inv_no_damp;\r\n",
        "\r\n",
        "# Plot results\r\n",
        "figure()\r\n",
        "subplot(1,3,1)\r\n",
        "imshow(d_sim.data[1], vmin=-5e2, vmax=5e2, cmap=\"gray\"); title(\"Observed data\")\r\n",
        "subplot(1,3,2)\r\n",
        "imshow(d_pred.data[1], vmin=-2e2, vmax=2e2, cmap=\"gray\"); title(\"Predicted data\")\r\n",
        "subplot(1,3,3)\r\n",
        "imshow(d_pred_no_damp.data[1], vmin=-2e2, vmax=2e2, cmap=\"gray\"); title(\"Predicted data no damp\")"
      ],
      "execution_count": 86,
      "outputs": [
        {
          "output_type": "display_data",
          "data": {
            "image/png": "[encoded data removed]",
            "text/plain": [
              "Figure(PyObject <Figure size 640x480 with 3 Axes>)"
            ]
          },
          "metadata": {
            "tags": []
          }
        },
        {
          "output_type": "stream",
          "text": [
            "=== lsqr ===\n",
            "iter\tresnorm\t\t  anorm\t\t  cnorm\t\t  rnorm\n",
            "  1\t2.39e+04\t5.77e-01\t2.22e-02\t6.67e-01\n",
            "  2\t1.87e+04\t3.01e-01\t8.36e-03\t5.22e-01\n",
            "\n",
            "=== lsqr ===\n",
            "iter\tresnorm\t\t  anorm\t\t  cnorm\t\t  rnorm\n",
            "  1\t2.13e+04\t6.48e-01\t8.18e-03\t6.23e-01\n",
            "  2\t2.12e+04\t6.38e-01\t7.83e-04\t6.20e-01\n",
            "\n"
          ],
          "name": "stdout"
        },
        {
          "output_type": "stream",
          "text": [
            "Operator `forward` run in 0.18 s\n",
            "Operator `adjoint` run in 0.19 s\n",
            "Operator `forward` run in 0.17 s\n",
            "Operator `adjoint` run in 0.18 s\n",
            "Operator `forward` run in 0.17 s\n",
            "Operator `adjoint` run in 0.18 s\n",
            "Operator `forward` run in 0.17 s\n",
            "Operator `adjoint` run in 0.18 s\n",
            "Operator `forward` run in 0.17 s\n",
            "Operator `adjoint` run in 0.18 s\n",
            "Operator `forward` run in 0.17 s\n",
            "Operator `adjoint` run in 0.18 s\n",
            "Operator `forward` run in 0.17 s\n",
            "Operator `adjoint` run in 0.18 s\n",
            "Operator `forward` run in 0.17 s\n",
            "Operator `forward` run in 0.16 s\n"
          ],
          "name": "stderr"
        },
        {
          "output_type": "execute_result",
          "data": {
            "text/plain": [
              "PyObject Text(0.5, 1.0, 'Predicted data no damp')"
            ]
          },
          "metadata": {
            "tags": []
          },
          "execution_count": 86
        }
      ]
    },
    {
      "cell_type": "code",
      "metadata": {
        "colab": {
          "base_uri": "https://localhost:8080/",
          "height": 469
        },
        "id": "juukNh1i-viz",
        "outputId": "fce78db9-fa99-49a5-8085-28e3d2b1cd26"
      },
      "source": [
        "figure()\r\n",
        "subplot(2,2,1)\r\n",
        "imshow(w.weights[1], vmin=-3, vmax=3, cmap=\"gray\"); title(\"Weights\")\r\n",
        "subplot(2,2,2)\r\n",
        "imshow(w_adj.weights[1], vmin=minimum(w_adj), vmax=maximum(w_adj), cmap=\"gray\"); title(\"Adjoint\")\r\n",
        "subplot(2,2,3)\r\n",
        "imshow(w_inv.weights[1], vmin=minimum(w_inv), vmax=maximum(w_inv), cmap=\"gray\"); title(\"D-LSQR\")\r\n",
        "subplot(2,2,4)\r\n",
        "imshow(w_inv_no_damp.weights[1], vmin=minimum(w_inv), vmax=maximum(w_inv), cmap=\"gray\"); title(\"LSQR\")"
      ],
      "execution_count": 87,
      "outputs": [
        {
          "output_type": "display_data",
          "data": {
            "image/png": "[encoded data removed]",
            "text/plain": [
              "Figure(PyObject <Figure size 640x480 with 4 Axes>)"
            ]
          },
          "metadata": {
            "tags": []
          }
        },
        {
          "output_type": "execute_result",
          "data": {
            "text/plain": [
              "PyObject Text(0.5, 1.0, 'LSQR')"
            ]
          },
          "metadata": {
            "tags": []
          },
          "execution_count": 87
        }
      ]
    },
    {
      "cell_type": "markdown",
      "metadata": {
        "id": "t0oGhpaYA_xZ"
      },
      "source": [
        "### *fwi_example_2D.jl*"
      ]
    },
    {
      "cell_type": "code",
      "metadata": {
        "colab": {
          "base_uri": "https://localhost:8080/"
        },
        "id": "tNJKLID1EnjY",
        "outputId": "28acc882-5473-48dd-b1e2-014db36d2f4b"
      },
      "source": [
        ";cd /root/.julia/dev/JUDI/examples/scripts"
      ],
      "execution_count": 88,
      "outputs": [
        {
          "output_type": "stream",
          "text": [
            "/root/.julia/dev/JUDI/examples/scripts\n"
          ],
          "name": "stdout"
        }
      ]
    },
    {
      "cell_type": "code",
      "metadata": {
        "id": "gJvOGYbDBM9B",
        "colab": {
          "base_uri": "https://localhost:8080/"
        },
        "outputId": "6a9a95e0-b875-4f5f-9044-38daec6ae4f6"
      },
      "source": [
        "# 2D FWI on Overthrust model using minConf library\r\n",
        "# Author: Philipp Witte, pwitte@eoas.ubc.ca\r\n",
        "# Date: December 2017\r\n",
        "#\r\n",
        "\r\n",
        "using Statistics, Random, LinearAlgebra\r\n",
        "using JUDI.TimeModeling, JUDI.SLIM_optim, HDF5, SegyIO, PyPlot\r\n",
        "\r\n",
        "# Load starting model\r\n",
        "n,d,o,m0 = read(h5open(\"../../data/overthrust_model.h5\",\"r\"), \"n\", \"d\", \"o\", \"m0\")\r\n",
        "model0 = Model((n[1],n[2]), (d[1],d[2]), (o[1],o[2]), m0)\r\n",
        "\r\n",
        "# Bound constraints\r\n",
        "v0 = sqrt.(1f0 ./ model0.m)\r\n",
        "vmin = ones(Float32,model0.n) .* 1.3f0\r\n",
        "vmax = ones(Float32,model0.n) .* 6.5f0\r\n",
        "vmin[:,1:21] .= v0[:,1:21]   # keep water column fixed\r\n",
        "vmax[:,1:21] .= v0[:,1:21]\r\n",
        "\r\n",
        "# Slowness squared [s^2/km^2]\r\n",
        "mmin = vec((1f0 ./ vmax).^2)\r\n",
        "mmax = vec((1f0 ./ vmin).^2)\r\n",
        "\r\n",
        "# Load data\r\n",
        "block = segy_read(\"../../data/overthrust_shot_records.segy\")\r\n",
        "d_obs = judiVector(block)\r\n",
        "\r\n",
        "# Set up wavelet\r\n",
        "src_geometry = Geometry(block; key=\"source\")\r\n",
        "wavelet = ricker_wavelet(src_geometry.t[1],src_geometry.dt[1],0.008f0)  # 8 Hz wavelet\r\n",
        "q = judiVector(src_geometry,wavelet)"
      ],
      "execution_count": 89,
      "outputs": [
        {
          "output_type": "stream",
          "text": [
            "┌ Info: Precompiling HDF5 [f67ccb44-e63f-5c2f-98bd-6dc0ccc4ba2f]\n",
            "└ @ Base loading.jl:1278\n",
            "WARNING: using HDF5.info in module Main conflicts with an existing identifier.\n",
            "┌ Warning: Fixed length trace flag set in stream: IOBuffer(data=UInt8[...], readable=true, writable=false, seekable=true, append=false, size=7076688, maxsize=Inf, ptr=3601, mark=-1)\n",
            "└ @ SegyIO /root/.julia/packages/SegyIO/uw4ZW/src/read/read_file.jl:26\n"
          ],
          "name": "stderr"
        },
        {
          "output_type": "execute_result",
          "data": {
            "text/plain": [
              "judiVector{Float32}(\"Seismic data vector\", 8016, 1, 16, GeometryIC(Any[400.0f0, 1013.333f0, 1626.667f0, 2240.0f0, 2853.333f0, 3466.666f0, 4080.0f0, 4693.334f0, 5306.666f0, 5920.0f0, 6533.334f0, 7146.666f0, 7760.0f0, 8373.333f0, 8986.667f0, 9600.0f0], Any[0.0f0, 0.0f0, 0.0f0, 0.0f0, 0.0f0, 0.0f0, 0.0f0, 0.0f0, 0.0f0, 0.0f0, 0.0f0, 0.0f0, 0.0f0, 0.0f0, 0.0f0, 0.0f0], Any[50.0f0, 50.0f0, 50.0f0, 50.0f0, 50.0f0, 50.0f0, 50.0f0, 50.0f0, 50.0f0, 50.0f0, 50.0f0, 50.0f0, 50.0f0, 50.0f0, 50.0f0, 50.0f0], Any[4.0f0, 4.0f0, 4.0f0, 4.0f0, 4.0f0, 4.0f0, 4.0f0, 4.0f0, 4.0f0, 4.0f0, 4.0f0, 4.0f0, 4.0f0, 4.0f0, 4.0f0, 4.0f0], Any[501, 501, 501, 501, 501, 501, 501, 501, 501, 501, 501, 501, 501, 501, 501, 501], Any[2000.0f0, 2000.0f0, 2000.0f0, 2000.0f0, 2000.0f0, 2000.0f0, 2000.0f0, 2000.0f0, 2000.0f0, 2000.0f0, 2000.0f0, 2000.0f0, 2000.0f0, 2000.0f0, 2000.0f0, 2000.0f0]), Array[Float32[-0.00096925104; -0.0016848503; … ; -0.0; -0.0], Float32[-0.00096925104; -0.0016848503; … ; -0.0; -0.0], Float32[-0.00096925104; -0.0016848503; … ; -0.0; -0.0], Float32[-0.00096925104; -0.0016848503; … ; -0.0; -0.0], Float32[-0.00096925104; -0.0016848503; … ; -0.0; -0.0], Float32[-0.00096925104; -0.0016848503; … ; -0.0; -0.0], Float32[-0.00096925104; -0.0016848503; … ; -0.0; -0.0], Float32[-0.00096925104; -0.0016848503; … ; -0.0; -0.0], Float32[-0.00096925104; -0.0016848503; … ; -0.0; -0.0], Float32[-0.00096925104; -0.0016848503; … ; -0.0; -0.0], Float32[-0.00096925104; -0.0016848503; … ; -0.0; -0.0], Float32[-0.00096925104; -0.0016848503; … ; -0.0; -0.0], Float32[-0.00096925104; -0.0016848503; … ; -0.0; -0.0], Float32[-0.00096925104; -0.0016848503; … ; -0.0; -0.0], Float32[-0.00096925104; -0.0016848503; … ; -0.0; -0.0], Float32[-0.00096925104; -0.0016848503; … ; -0.0; -0.0]])"
            ]
          },
          "metadata": {
            "tags": []
          },
          "execution_count": 89
        }
      ]
    },
    {
      "cell_type": "code",
      "metadata": {
        "id": "g1URo6ZQBOlH",
        "colab": {
          "base_uri": "https://localhost:8080/"
        },
        "outputId": "4010673b-bed4-47ae-ea6b-94af6b0010ab"
      },
      "source": [
        "############################### FWI ###########################################\r\n",
        "\r\n",
        "# Optimization parameters\r\n",
        "niterations = 10\r\n",
        "batchsize = 16\r\n",
        "fhistory_SGD = zeros(Float32,niterations)\r\n",
        "\r\n",
        "# Projection operator for bound constraints\r\n",
        "proj(x) = reshape(median([vec(mmin) vec(x) vec(mmax)]; dims=2),model0.n)\r\n",
        "\r\n",
        "# Main loop\r\n",
        "for j=1:niterations\r\n",
        "\r\n",
        "    # get fwi objective function value and gradient\r\n",
        "    i = randperm(d_obs.nsrc)[1:batchsize]\r\n",
        "    fval, gradient = fwi_objective(model0,q[i],d_obs[i])\r\n",
        "    println(\"FWI iteration no: \",j,\"; function value: \",fval)\r\n",
        "    fhistory_SGD[j] = fval\r\n",
        "\r\n",
        "    # linesearch\r\n",
        "    step = backtracking_linesearch(model0, q[i], d_obs[i], fval, gradient, proj; alpha=1f0)\r\n",
        "\r\n",
        "    # Update model and bound projection\r\n",
        "    model0.m .= proj(model0.m .+ reshape(step,model0.n))\r\n",
        "end"
      ],
      "execution_count": 90,
      "outputs": [
        {
          "output_type": "stream",
          "text": [
            "Operator `forward` run in 0.29 s\n",
            "Operator `gradient` run in 0.30 s\n",
            "Operator `forward` run in 0.28 s\n",
            "Operator `gradient` run in 0.30 s\n",
            "Operator `forward` run in 0.28 s\n",
            "Operator `gradient` run in 0.30 s\n",
            "Operator `forward` run in 0.28 s\n",
            "Operator `gradient` run in 0.30 s\n",
            "Operator `forward` run in 0.27 s\n",
            "Operator `gradient` run in 0.30 s\n",
            "Operator `forward` run in 0.29 s\n",
            "Operator `gradient` run in 0.30 s\n",
            "Operator `forward` run in 0.28 s\n",
            "Operator `gradient` run in 0.30 s\n",
            "Operator `forward` run in 0.28 s\n",
            "Operator `gradient` run in 0.30 s\n",
            "Operator `forward` run in 0.28 s\n",
            "Operator `gradient` run in 0.30 s\n",
            "Operator `forward` run in 0.28 s\n",
            "Operator `gradient` run in 0.30 s\n",
            "Operator `forward` run in 0.28 s\n",
            "Operator `gradient` run in 0.30 s\n",
            "Operator `forward` run in 0.28 s\n",
            "Operator `gradient` run in 0.30 s\n",
            "Operator `forward` run in 0.28 s\n",
            "Operator `gradient` run in 0.30 s\n",
            "Operator `forward` run in 0.28 s\n",
            "Operator `gradient` run in 0.30 s\n",
            "Operator `forward` run in 0.28 s\n",
            "Operator `gradient` run in 0.29 s\n",
            "Operator `forward` run in 0.28 s\n",
            "Operator `gradient` run in 0.30 s\n",
            "Operator `forward` run in 0.23 s\n",
            "Operator `forward` run in 0.23 s\n",
            "Operator `forward` run in 0.23 s\n",
            "Operator `forward` run in 0.23 s\n",
            "Operator `forward` run in 0.24 s\n",
            "Operator `forward` run in 0.23 s\n",
            "Operator `forward` run in 0.23 s\n",
            "Operator `forward` run in 0.23 s\n",
            "Operator `forward` run in 0.23 s\n",
            "Operator `forward` run in 0.24 s\n",
            "Operator `forward` run in 0.24 s\n",
            "Operator `forward` run in 0.23 s\n",
            "Operator `forward` run in 0.24 s\n",
            "Operator `forward` run in 0.23 s\n",
            "Operator `forward` run in 0.24 s\n",
            "Operator `forward` run in 0.23 s\n",
            "Operator `forward` run in 0.19 s\n",
            "Operator `forward` run in 0.19 s\n",
            "Operator `forward` run in 0.19 s\n",
            "Operator `forward` run in 0.19 s\n",
            "Operator `forward` run in 0.18 s\n",
            "Operator `forward` run in 0.19 s\n",
            "Operator `forward` run in 0.19 s\n",
            "Operator `forward` run in 0.18 s\n",
            "Operator `forward` run in 0.19 s\n",
            "Operator `forward` run in 0.19 s\n",
            "Operator `forward` run in 0.19 s\n",
            "Operator `forward` run in 0.19 s\n",
            "Operator `forward` run in 0.19 s\n",
            "Operator `forward` run in 0.19 s\n",
            "Operator `forward` run in 0.19 s\n",
            "Operator `forward` run in 0.19 s\n",
            "Operator `forward` run in 0.28 s\n",
            "Operator `gradient` run in 0.30 s\n",
            "Operator `forward` run in 0.29 s\n",
            "Operator `gradient` run in 0.30 s\n",
            "Operator `forward` run in 0.28 s\n",
            "Operator `gradient` run in 0.30 s\n",
            "Operator `forward` run in 0.28 s\n",
            "Operator `gradient` run in 0.31 s\n",
            "Operator `forward` run in 0.28 s\n",
            "Operator `gradient` run in 0.30 s\n",
            "Operator `forward` run in 0.28 s\n",
            "Operator `gradient` run in 0.31 s\n",
            "Operator `forward` run in 0.28 s\n",
            "Operator `gradient` run in 0.31 s\n",
            "Operator `forward` run in 0.29 s\n",
            "Operator `gradient` run in 0.32 s\n",
            "Operator `forward` run in 0.29 s\n",
            "Operator `gradient` run in 0.31 s\n",
            "Operator `forward` run in 0.29 s\n",
            "Operator `gradient` run in 0.31 s\n",
            "Operator `forward` run in 0.30 s\n",
            "Operator `gradient` run in 0.35 s\n",
            "Operator `forward` run in 0.30 s\n",
            "Operator `gradient` run in 0.30 s\n",
            "Operator `forward` run in 0.29 s\n",
            "Operator `gradient` run in 0.31 s\n",
            "Operator `forward` run in 0.28 s\n",
            "Operator `gradient` run in 0.30 s\n",
            "Operator `forward` run in 0.27 s\n",
            "Operator `gradient` run in 0.31 s\n",
            "Operator `forward` run in 0.28 s\n",
            "Operator `gradient` run in 0.30 s\n",
            "Operator `forward` run in 0.23 s\n",
            "Operator `forward` run in 0.23 s\n",
            "Operator `forward` run in 0.24 s\n",
            "Operator `forward` run in 0.24 s\n",
            "Operator `forward` run in 0.24 s\n",
            "Operator `forward` run in 0.23 s\n",
            "Operator `forward` run in 0.23 s\n",
            "Operator `forward` run in 0.23 s\n",
            "Operator `forward` run in 0.23 s\n",
            "Operator `forward` run in 0.24 s\n",
            "Operator `forward` run in 0.24 s\n",
            "Operator `forward` run in 0.24 s\n",
            "Operator `forward` run in 0.23 s\n",
            "Operator `forward` run in 0.23 s\n",
            "Operator `forward` run in 0.23 s\n",
            "Operator `forward` run in 0.23 s\n",
            "Operator `forward` run in 0.23 s\n",
            "Operator `forward` run in 0.23 s\n",
            "Operator `forward` run in 0.24 s\n",
            "Operator `forward` run in 0.23 s\n",
            "Operator `forward` run in 0.24 s\n",
            "Operator `forward` run in 0.23 s\n",
            "Operator `forward` run in 0.23 s\n",
            "Operator `forward` run in 0.24 s\n",
            "Operator `forward` run in 0.24 s\n",
            "Operator `forward` run in 0.23 s\n",
            "Operator `forward` run in 0.23 s\n",
            "Operator `forward` run in 0.24 s\n",
            "Operator `forward` run in 0.23 s\n",
            "Operator `forward` run in 0.23 s\n",
            "Operator `forward` run in 0.23 s\n",
            "Operator `forward` run in 0.24 s\n",
            "Operator `forward` run in 0.19 s\n",
            "Operator `forward` run in 0.18 s\n",
            "Operator `forward` run in 0.20 s\n",
            "Operator `forward` run in 0.19 s\n",
            "Operator `forward` run in 0.19 s\n",
            "Operator `forward` run in 0.21 s\n",
            "Operator `forward` run in 0.18 s\n",
            "Operator `forward` run in 0.19 s\n",
            "Operator `forward` run in 0.19 s\n",
            "Operator `forward` run in 0.19 s\n",
            "Operator `forward` run in 0.19 s\n",
            "Operator `forward` run in 0.18 s\n",
            "Operator `forward` run in 0.19 s\n",
            "Operator `forward` run in 0.19 s\n",
            "Operator `forward` run in 0.19 s\n",
            "Operator `forward` run in 0.18 s\n",
            "Operator `forward` run in 0.28 s\n",
            "Operator `gradient` run in 0.31 s\n",
            "Operator `forward` run in 0.29 s\n",
            "Operator `gradient` run in 0.31 s\n",
            "Operator `forward` run in 0.29 s\n",
            "Operator `gradient` run in 0.30 s\n",
            "Operator `forward` run in 0.29 s\n",
            "Operator `gradient` run in 0.31 s\n",
            "Operator `forward` run in 0.29 s\n",
            "Operator `gradient` run in 0.30 s\n",
            "Operator `forward` run in 0.28 s\n",
            "Operator `gradient` run in 0.31 s\n",
            "Operator `forward` run in 0.29 s\n",
            "Operator `gradient` run in 0.30 s\n",
            "Operator `forward` run in 0.29 s\n",
            "Operator `gradient` run in 0.30 s\n",
            "Operator `forward` run in 0.28 s\n",
            "Operator `gradient` run in 0.30 s\n",
            "Operator `forward` run in 0.28 s\n",
            "Operator `gradient` run in 0.31 s\n",
            "Operator `forward` run in 0.29 s\n",
            "Operator `gradient` run in 0.31 s\n",
            "Operator `forward` run in 0.29 s\n",
            "Operator `gradient` run in 0.31 s\n",
            "Operator `forward` run in 0.29 s\n",
            "Operator `gradient` run in 0.30 s\n",
            "Operator `forward` run in 0.29 s\n",
            "Operator `gradient` run in 0.30 s\n",
            "Operator `forward` run in 0.28 s\n",
            "Operator `gradient` run in 0.30 s\n",
            "Operator `forward` run in 0.28 s\n",
            "Operator `gradient` run in 0.30 s\n",
            "Operator `forward` run in 0.23 s\n",
            "Operator `forward` run in 0.23 s\n",
            "Operator `forward` run in 0.23 s\n",
            "Operator `forward` run in 0.23 s\n",
            "Operator `forward` run in 0.23 s\n",
            "Operator `forward` run in 0.23 s\n",
            "Operator `forward` run in 0.23 s\n",
            "Operator `forward` run in 0.23 s\n",
            "Operator `forward` run in 0.23 s\n",
            "Operator `forward` run in 0.23 s\n",
            "Operator `forward` run in 0.23 s\n",
            "Operator `forward` run in 0.23 s\n",
            "Operator `forward` run in 0.23 s\n",
            "Operator `forward` run in 0.23 s\n",
            "Operator `forward` run in 0.24 s\n",
            "Operator `forward` run in 0.23 s\n",
            "Operator `forward` run in 0.20 s\n",
            "Operator `forward` run in 0.21 s\n",
            "Operator `forward` run in 0.21 s\n",
            "Operator `forward` run in 0.21 s\n",
            "Operator `forward` run in 0.20 s\n",
            "Operator `forward` run in 0.21 s\n",
            "Operator `forward` run in 0.20 s\n",
            "Operator `forward` run in 0.21 s\n",
            "Operator `forward` run in 0.21 s\n",
            "Operator `forward` run in 0.21 s\n",
            "Operator `forward` run in 0.20 s\n",
            "Operator `forward` run in 0.21 s\n",
            "Operator `forward` run in 0.20 s\n",
            "Operator `forward` run in 0.20 s\n",
            "Operator `forward` run in 0.20 s\n",
            "Operator `forward` run in 0.21 s\n",
            "Operator `forward` run in 0.19 s\n",
            "Operator `forward` run in 0.19 s\n",
            "Operator `forward` run in 0.19 s\n",
            "Operator `forward` run in 0.18 s\n",
            "Operator `forward` run in 0.19 s\n",
            "Operator `forward` run in 0.19 s\n",
            "Operator `forward` run in 0.18 s\n",
            "Operator `forward` run in 0.19 s\n",
            "Operator `forward` run in 0.19 s\n",
            "Operator `forward` run in 0.18 s\n",
            "Operator `forward` run in 0.19 s\n",
            "Operator `forward` run in 0.20 s\n",
            "Operator `forward` run in 0.19 s\n",
            "Operator `forward` run in 0.18 s\n",
            "Operator `forward` run in 0.19 s\n",
            "Operator `forward` run in 0.19 s\n",
            "Operator `forward` run in 0.29 s\n",
            "Operator `gradient` run in 0.30 s\n",
            "Operator `forward` run in 0.28 s\n",
            "Operator `gradient` run in 0.30 s\n",
            "Operator `forward` run in 0.28 s\n",
            "Operator `gradient` run in 0.31 s\n",
            "Operator `forward` run in 0.28 s\n",
            "Operator `gradient` run in 0.33 s\n",
            "Operator `forward` run in 0.29 s\n",
            "Operator `gradient` run in 0.31 s\n",
            "Operator `forward` run in 0.28 s\n",
            "Operator `gradient` run in 0.31 s\n",
            "Operator `forward` run in 0.28 s\n",
            "Operator `gradient` run in 0.30 s\n",
            "Operator `forward` run in 0.29 s\n",
            "Operator `gradient` run in 0.31 s\n",
            "Operator `forward` run in 0.29 s\n",
            "Operator `gradient` run in 0.31 s\n",
            "Operator `forward` run in 0.29 s\n",
            "Operator `gradient` run in 0.31 s\n",
            "Operator `forward` run in 0.29 s\n",
            "Operator `gradient` run in 0.30 s\n",
            "Operator `forward` run in 0.27 s\n",
            "Operator `gradient` run in 0.31 s\n",
            "Operator `forward` run in 0.28 s\n",
            "Operator `gradient` run in 0.30 s\n",
            "Operator `forward` run in 0.28 s\n",
            "Operator `gradient` run in 0.30 s\n",
            "Operator `forward` run in 0.28 s\n",
            "Operator `gradient` run in 0.32 s\n",
            "Operator `forward` run in 0.29 s\n",
            "Operator `gradient` run in 0.31 s\n",
            "Operator `forward` run in 0.24 s\n",
            "Operator `forward` run in 0.24 s\n",
            "Operator `forward` run in 0.24 s\n",
            "Operator `forward` run in 0.24 s\n",
            "Operator `forward` run in 0.24 s\n",
            "Operator `forward` run in 0.24 s\n",
            "Operator `forward` run in 0.23 s\n",
            "Operator `forward` run in 0.23 s\n",
            "Operator `forward` run in 0.23 s\n",
            "Operator `forward` run in 0.24 s\n",
            "Operator `forward` run in 0.24 s\n",
            "Operator `forward` run in 0.23 s\n",
            "Operator `forward` run in 0.22 s\n",
            "Operator `forward` run in 0.23 s\n",
            "Operator `forward` run in 0.23 s\n",
            "Operator `forward` run in 0.23 s\n",
            "Operator `forward` run in 0.19 s\n",
            "Operator `forward` run in 0.19 s\n",
            "Operator `forward` run in 0.19 s\n",
            "Operator `forward` run in 0.19 s\n",
            "Operator `forward` run in 0.20 s\n",
            "Operator `forward` run in 0.19 s\n",
            "Operator `forward` run in 0.19 s\n",
            "Operator `forward` run in 0.19 s\n",
            "Operator `forward` run in 0.20 s\n",
            "Operator `forward` run in 0.19 s\n",
            "Operator `forward` run in 0.19 s\n",
            "Operator `forward` run in 0.19 s\n",
            "Operator `forward` run in 0.20 s\n",
            "Operator `forward` run in 0.19 s\n",
            "Operator `forward` run in 0.19 s\n",
            "Operator `forward` run in 0.19 s\n",
            "Operator `forward` run in 0.30 s\n",
            "Operator `gradient` run in 0.32 s\n",
            "Operator `forward` run in 0.30 s\n",
            "Operator `gradient` run in 0.32 s\n",
            "Operator `forward` run in 0.30 s\n",
            "Operator `gradient` run in 0.32 s\n",
            "Operator `forward` run in 0.30 s\n",
            "Operator `gradient` run in 0.32 s\n",
            "Operator `forward` run in 0.30 s\n",
            "Operator `gradient` run in 0.33 s\n",
            "Operator `forward` run in 0.29 s\n",
            "Operator `gradient` run in 0.31 s\n",
            "Operator `forward` run in 0.29 s\n",
            "Operator `gradient` run in 0.31 s\n",
            "Operator `forward` run in 0.31 s\n",
            "Operator `gradient` run in 0.32 s\n",
            "Operator `forward` run in 0.31 s\n",
            "Operator `gradient` run in 0.32 s\n",
            "Operator `forward` run in 0.30 s\n",
            "Operator `gradient` run in 0.32 s\n",
            "Operator `forward` run in 0.30 s\n",
            "Operator `gradient` run in 0.31 s\n",
            "Operator `forward` run in 0.29 s\n",
            "Operator `gradient` run in 0.31 s\n",
            "Operator `forward` run in 0.29 s\n",
            "Operator `gradient` run in 0.31 s\n",
            "Operator `forward` run in 0.30 s\n",
            "Operator `gradient` run in 0.31 s\n",
            "Operator `forward` run in 0.29 s\n",
            "Operator `gradient` run in 0.31 s\n",
            "Operator `forward` run in 0.29 s\n",
            "Operator `gradient` run in 0.31 s\n",
            "Operator `forward` run in 0.23 s\n",
            "Operator `forward` run in 0.23 s\n",
            "Operator `forward` run in 0.23 s\n",
            "Operator `forward` run in 0.22 s\n",
            "Operator `forward` run in 0.22 s\n",
            "Operator `forward` run in 0.22 s\n",
            "Operator `forward` run in 0.23 s\n",
            "Operator `forward` run in 0.25 s\n",
            "Operator `forward` run in 0.23 s\n",
            "Operator `forward` run in 0.23 s\n",
            "Operator `forward` run in 0.24 s\n",
            "Operator `forward` run in 0.23 s\n",
            "Operator `forward` run in 0.23 s\n",
            "Operator `forward` run in 0.24 s\n",
            "Operator `forward` run in 0.24 s\n",
            "Operator `forward` run in 0.24 s\n",
            "Operator `forward` run in 0.19 s\n",
            "Operator `forward` run in 0.19 s\n",
            "Operator `forward` run in 0.20 s\n",
            "Operator `forward` run in 0.19 s\n",
            "Operator `forward` run in 0.19 s\n",
            "Operator `forward` run in 0.20 s\n",
            "Operator `forward` run in 0.19 s\n",
            "Operator `forward` run in 0.20 s\n",
            "Operator `forward` run in 0.19 s\n",
            "Operator `forward` run in 0.19 s\n",
            "Operator `forward` run in 0.19 s\n",
            "Operator `forward` run in 0.19 s\n",
            "Operator `forward` run in 0.19 s\n",
            "Operator `forward` run in 0.19 s\n",
            "Operator `forward` run in 0.19 s\n",
            "Operator `forward` run in 0.19 s\n",
            "Operator `forward` run in 0.20 s\n",
            "Operator `forward` run in 0.19 s\n",
            "Operator `forward` run in 0.19 s\n",
            "Operator `forward` run in 0.19 s\n",
            "Operator `forward` run in 0.19 s\n",
            "Operator `forward` run in 0.19 s\n",
            "Operator `forward` run in 0.19 s\n",
            "Operator `forward` run in 0.19 s\n",
            "Operator `forward` run in 0.19 s\n",
            "Operator `forward` run in 0.19 s\n",
            "Operator `forward` run in 0.19 s\n",
            "Operator `forward` run in 0.19 s\n",
            "Operator `forward` run in 0.19 s\n",
            "Operator `forward` run in 0.19 s\n",
            "Operator `forward` run in 0.19 s\n",
            "Operator `forward` run in 0.19 s\n",
            "Operator `forward` run in 0.29 s\n",
            "Operator `gradient` run in 0.31 s\n",
            "Operator `forward` run in 0.30 s\n",
            "Operator `gradient` run in 0.32 s\n",
            "Operator `forward` run in 0.30 s\n",
            "Operator `gradient` run in 0.32 s\n",
            "Operator `forward` run in 0.29 s\n",
            "Operator `gradient` run in 0.32 s\n",
            "Operator `forward` run in 0.30 s\n",
            "Operator `gradient` run in 0.32 s\n",
            "Operator `forward` run in 0.30 s\n",
            "Operator `gradient` run in 0.32 s\n",
            "Operator `forward` run in 0.29 s\n",
            "Operator `gradient` run in 0.33 s\n",
            "Operator `forward` run in 0.29 s\n",
            "Operator `gradient` run in 0.31 s\n",
            "Operator `forward` run in 0.29 s\n",
            "Operator `gradient` run in 0.32 s\n",
            "Operator `forward` run in 0.29 s\n",
            "Operator `gradient` run in 0.32 s\n",
            "Operator `forward` run in 0.30 s\n",
            "Operator `gradient` run in 0.31 s\n",
            "Operator `forward` run in 0.29 s\n",
            "Operator `gradient` run in 0.31 s\n",
            "Operator `forward` run in 0.29 s\n",
            "Operator `gradient` run in 0.32 s\n",
            "Operator `forward` run in 0.29 s\n",
            "Operator `gradient` run in 0.32 s\n",
            "Operator `forward` run in 0.30 s\n",
            "Operator `gradient` run in 0.32 s\n",
            "Operator `forward` run in 0.29 s\n",
            "Operator `gradient` run in 0.31 s\n",
            "Operator `forward` run in 0.23 s\n",
            "Operator `forward` run in 0.23 s\n",
            "Operator `forward` run in 0.22 s\n",
            "Operator `forward` run in 0.22 s\n",
            "Operator `forward` run in 0.23 s\n",
            "Operator `forward` run in 0.22 s\n",
            "Operator `forward` run in 0.23 s\n",
            "Operator `forward` run in 0.23 s\n",
            "Operator `forward` run in 0.23 s\n",
            "Operator `forward` run in 0.23 s\n",
            "Operator `forward` run in 0.23 s\n",
            "Operator `forward` run in 0.23 s\n",
            "Operator `forward` run in 0.23 s\n",
            "Operator `forward` run in 0.22 s\n",
            "Operator `forward` run in 0.23 s\n",
            "Operator `forward` run in 0.24 s\n",
            "Operator `forward` run in 0.20 s\n",
            "Operator `forward` run in 0.21 s\n",
            "Operator `forward` run in 0.21 s\n",
            "Operator `forward` run in 0.21 s\n",
            "Operator `forward` run in 0.21 s\n",
            "Operator `forward` run in 0.22 s\n",
            "Operator `forward` run in 0.21 s\n",
            "Operator `forward` run in 0.21 s\n",
            "Operator `forward` run in 0.20 s\n",
            "Operator `forward` run in 0.21 s\n",
            "Operator `forward` run in 0.20 s\n",
            "Operator `forward` run in 0.21 s\n",
            "Operator `forward` run in 0.21 s\n",
            "Operator `forward` run in 0.21 s\n",
            "Operator `forward` run in 0.22 s\n",
            "Operator `forward` run in 0.22 s\n",
            "Operator `forward` run in 0.21 s\n",
            "Operator `forward` run in 0.20 s\n",
            "Operator `forward` run in 0.19 s\n",
            "Operator `forward` run in 0.20 s\n",
            "Operator `forward` run in 0.19 s\n",
            "Operator `forward` run in 0.19 s\n",
            "Operator `forward` run in 0.19 s\n",
            "Operator `forward` run in 0.19 s\n",
            "Operator `forward` run in 0.19 s\n",
            "Operator `forward` run in 0.19 s\n",
            "Operator `forward` run in 0.19 s\n",
            "Operator `forward` run in 0.19 s\n",
            "Operator `forward` run in 0.20 s\n",
            "Operator `forward` run in 0.19 s\n",
            "Operator `forward` run in 0.19 s\n",
            "Operator `forward` run in 0.19 s\n",
            "Operator `forward` run in 0.30 s\n",
            "Operator `gradient` run in 0.32 s\n",
            "Operator `forward` run in 0.29 s\n",
            "Operator `gradient` run in 0.32 s\n",
            "Operator `forward` run in 0.29 s\n",
            "Operator `gradient` run in 0.32 s\n",
            "Operator `forward` run in 0.29 s\n",
            "Operator `gradient` run in 0.31 s\n",
            "Operator `forward` run in 0.30 s\n",
            "Operator `gradient` run in 0.31 s\n",
            "Operator `forward` run in 0.32 s\n",
            "Operator `gradient` run in 0.32 s\n",
            "Operator `forward` run in 0.31 s\n",
            "Operator `gradient` run in 0.32 s\n",
            "Operator `forward` run in 0.31 s\n",
            "Operator `gradient` run in 0.32 s\n",
            "Operator `forward` run in 0.31 s\n",
            "Operator `gradient` run in 0.34 s\n",
            "Operator `forward` run in 0.31 s\n",
            "Operator `gradient` run in 0.33 s\n",
            "Operator `forward` run in 0.30 s\n",
            "Operator `gradient` run in 0.32 s\n",
            "Operator `forward` run in 0.31 s\n",
            "Operator `gradient` run in 0.32 s\n",
            "Operator `forward` run in 0.30 s\n",
            "Operator `gradient` run in 0.33 s\n",
            "Operator `forward` run in 0.31 s\n",
            "Operator `gradient` run in 0.31 s\n",
            "Operator `forward` run in 0.29 s\n",
            "Operator `gradient` run in 0.32 s\n",
            "Operator `forward` run in 0.29 s\n",
            "Operator `gradient` run in 0.31 s\n",
            "Operator `forward` run in 0.23 s\n",
            "Operator `forward` run in 0.23 s\n",
            "Operator `forward` run in 0.23 s\n",
            "Operator `forward` run in 0.24 s\n",
            "Operator `forward` run in 0.24 s\n",
            "Operator `forward` run in 0.24 s\n",
            "Operator `forward` run in 0.24 s\n",
            "Operator `forward` run in 0.23 s\n",
            "Operator `forward` run in 0.23 s\n",
            "Operator `forward` run in 0.23 s\n",
            "Operator `forward` run in 0.23 s\n",
            "Operator `forward` run in 0.23 s\n",
            "Operator `forward` run in 0.23 s\n",
            "Operator `forward` run in 0.23 s\n",
            "Operator `forward` run in 0.23 s\n",
            "Operator `forward` run in 0.23 s\n",
            "Operator `forward` run in 0.19 s\n",
            "Operator `forward` run in 0.19 s\n",
            "Operator `forward` run in 0.19 s\n",
            "Operator `forward` run in 0.20 s\n",
            "Operator `forward` run in 0.20 s\n",
            "Operator `forward` run in 0.20 s\n",
            "Operator `forward` run in 0.20 s\n",
            "Operator `forward` run in 0.19 s\n",
            "Operator `forward` run in 0.20 s\n",
            "Operator `forward` run in 0.20 s\n",
            "Operator `forward` run in 0.19 s\n",
            "Operator `forward` run in 0.20 s\n",
            "Operator `forward` run in 0.20 s\n",
            "Operator `forward` run in 0.20 s\n",
            "Operator `forward` run in 0.20 s\n",
            "Operator `forward` run in 0.20 s\n",
            "Operator `forward` run in 0.20 s\n",
            "Operator `forward` run in 0.20 s\n",
            "Operator `forward` run in 0.19 s\n",
            "Operator `forward` run in 0.20 s\n",
            "Operator `forward` run in 0.19 s\n",
            "Operator `forward` run in 0.20 s\n",
            "Operator `forward` run in 0.19 s\n",
            "Operator `forward` run in 0.19 s\n",
            "Operator `forward` run in 0.19 s\n",
            "Operator `forward` run in 0.20 s\n",
            "Operator `forward` run in 0.19 s\n",
            "Operator `forward` run in 0.19 s\n",
            "Operator `forward` run in 0.19 s\n",
            "Operator `forward` run in 0.19 s\n",
            "Operator `forward` run in 0.19 s\n",
            "Operator `forward` run in 0.19 s\n",
            "Operator `forward` run in 0.30 s\n",
            "Operator `gradient` run in 0.31 s\n",
            "Operator `forward` run in 0.30 s\n",
            "Operator `gradient` run in 0.31 s\n",
            "Operator `forward` run in 0.30 s\n",
            "Operator `gradient` run in 0.31 s\n",
            "Operator `forward` run in 0.30 s\n",
            "Operator `gradient` run in 0.32 s\n",
            "Operator `forward` run in 0.30 s\n",
            "Operator `gradient` run in 0.32 s\n",
            "Operator `forward` run in 0.30 s\n",
            "Operator `gradient` run in 0.31 s\n",
            "Operator `forward` run in 0.29 s\n",
            "Operator `gradient` run in 0.31 s\n",
            "Operator `forward` run in 0.29 s\n",
            "Operator `gradient` run in 0.32 s\n",
            "Operator `forward` run in 0.29 s\n",
            "Operator `gradient` run in 0.31 s\n",
            "Operator `forward` run in 0.30 s\n",
            "Operator `gradient` run in 0.32 s\n",
            "Operator `forward` run in 0.29 s\n",
            "Operator `gradient` run in 0.32 s\n",
            "Operator `forward` run in 0.30 s\n",
            "Operator `gradient` run in 0.32 s\n",
            "Operator `forward` run in 0.30 s\n",
            "Operator `gradient` run in 0.32 s\n",
            "Operator `forward` run in 0.31 s\n",
            "Operator `gradient` run in 0.32 s\n",
            "Operator `forward` run in 0.30 s\n",
            "Operator `gradient` run in 0.31 s\n",
            "Operator `forward` run in 0.29 s\n",
            "Operator `gradient` run in 0.31 s\n",
            "Operator `forward` run in 0.23 s\n",
            "Operator `forward` run in 0.23 s\n",
            "Operator `forward` run in 0.24 s\n",
            "Operator `forward` run in 0.23 s\n",
            "Operator `forward` run in 0.23 s\n",
            "Operator `forward` run in 0.23 s\n",
            "Operator `forward` run in 0.23 s\n",
            "Operator `forward` run in 0.22 s\n",
            "Operator `forward` run in 0.22 s\n",
            "Operator `forward` run in 0.23 s\n",
            "Operator `forward` run in 0.24 s\n",
            "Operator `forward` run in 0.24 s\n",
            "Operator `forward` run in 0.23 s\n",
            "Operator `forward` run in 0.23 s\n",
            "Operator `forward` run in 0.23 s\n",
            "Operator `forward` run in 0.23 s\n",
            "Operator `forward` run in 0.20 s\n",
            "Operator `forward` run in 0.20 s\n",
            "Operator `forward` run in 0.20 s\n",
            "Operator `forward` run in 0.20 s\n",
            "Operator `forward` run in 0.20 s\n",
            "Operator `forward` run in 0.20 s\n",
            "Operator `forward` run in 0.20 s\n",
            "Operator `forward` run in 0.20 s\n",
            "Operator `forward` run in 0.20 s\n",
            "Operator `forward` run in 0.20 s\n",
            "Operator `forward` run in 0.20 s\n",
            "Operator `forward` run in 0.19 s\n",
            "Operator `forward` run in 0.20 s\n",
            "Operator `forward` run in 0.21 s\n",
            "Operator `forward` run in 0.20 s\n",
            "Operator `forward` run in 0.19 s\n",
            "Operator `forward` run in 0.19 s\n",
            "Operator `forward` run in 0.19 s\n",
            "Operator `forward` run in 0.20 s\n",
            "Operator `forward` run in 0.19 s\n",
            "Operator `forward` run in 0.20 s\n",
            "Operator `forward` run in 0.22 s\n",
            "Operator `forward` run in 0.20 s\n",
            "Operator `forward` run in 0.20 s\n",
            "Operator `forward` run in 0.20 s\n",
            "Operator `forward` run in 0.19 s\n",
            "Operator `forward` run in 0.20 s\n",
            "Operator `forward` run in 0.19 s\n",
            "Operator `forward` run in 0.19 s\n",
            "Operator `forward` run in 0.19 s\n",
            "Operator `forward` run in 0.19 s\n",
            "Operator `forward` run in 0.20 s\n",
            "Operator `forward` run in 0.30 s\n",
            "Operator `gradient` run in 0.32 s\n",
            "Operator `forward` run in 0.30 s\n",
            "Operator `gradient` run in 0.32 s\n",
            "Operator `forward` run in 0.29 s\n",
            "Operator `gradient` run in 0.31 s\n",
            "Operator `forward` run in 0.29 s\n",
            "Operator `gradient` run in 0.32 s\n",
            "Operator `forward` run in 0.30 s\n",
            "Operator `gradient` run in 0.31 s\n",
            "Operator `forward` run in 0.31 s\n",
            "Operator `gradient` run in 0.32 s\n",
            "Operator `forward` run in 0.30 s\n",
            "Operator `gradient` run in 0.32 s\n",
            "Operator `forward` run in 0.30 s\n",
            "Operator `gradient` run in 0.32 s\n",
            "Operator `forward` run in 0.30 s\n",
            "Operator `gradient` run in 0.31 s\n",
            "Operator `forward` run in 0.30 s\n",
            "Operator `gradient` run in 0.32 s\n",
            "Operator `forward` run in 0.31 s\n",
            "Operator `gradient` run in 0.32 s\n",
            "Operator `forward` run in 0.29 s\n",
            "Operator `gradient` run in 0.32 s\n",
            "Operator `forward` run in 0.30 s\n",
            "Operator `gradient` run in 0.32 s\n",
            "Operator `forward` run in 0.31 s\n",
            "Operator `gradient` run in 0.31 s\n",
            "Operator `forward` run in 0.30 s\n",
            "Operator `gradient` run in 0.31 s\n",
            "Operator `forward` run in 0.29 s\n",
            "Operator `gradient` run in 0.33 s\n"
          ],
          "name": "stderr"
        },
        {
          "output_type": "stream",
          "text": [
            "FWI iteration no: 1; function value: 542631.2\n",
            "FWI iteration no: 2; function value: 310791.97\n",
            "FWI iteration no: 3; function value: 219617.8\n",
            "FWI iteration no: 4; function value: 196810.95\n",
            "FWI iteration no: 5; function value: 135975.36\n",
            "FWI iteration no: 6; function value: 104146.65\n",
            "FWI iteration no: 7; function value: 95241.63\n",
            "FWI iteration no: 8; function value: 89161.64\n",
            "FWI iteration no: 9; function value: 86390.76\n",
            "FWI iteration no: 10; function value: 82503.08\n"
          ],
          "name": "stdout"
        },
        {
          "output_type": "stream",
          "text": [
            "Operator `forward` run in 0.23 s\n",
            "Operator `forward` run in 0.23 s\n",
            "Operator `forward` run in 0.23 s\n",
            "Operator `forward` run in 0.23 s\n",
            "Operator `forward` run in 0.23 s\n",
            "Operator `forward` run in 0.23 s\n",
            "Operator `forward` run in 0.23 s\n",
            "Operator `forward` run in 0.24 s\n",
            "Operator `forward` run in 0.23 s\n",
            "Operator `forward` run in 0.23 s\n",
            "Operator `forward` run in 0.23 s\n",
            "Operator `forward` run in 0.24 s\n",
            "Operator `forward` run in 0.23 s\n",
            "Operator `forward` run in 0.22 s\n",
            "Operator `forward` run in 0.23 s\n",
            "Operator `forward` run in 0.24 s\n",
            "Operator `forward` run in 0.20 s\n",
            "Operator `forward` run in 0.20 s\n",
            "Operator `forward` run in 0.20 s\n",
            "Operator `forward` run in 0.20 s\n",
            "Operator `forward` run in 0.20 s\n",
            "Operator `forward` run in 0.20 s\n",
            "Operator `forward` run in 0.20 s\n",
            "Operator `forward` run in 0.20 s\n",
            "Operator `forward` run in 0.19 s\n",
            "Operator `forward` run in 0.19 s\n",
            "Operator `forward` run in 0.20 s\n",
            "Operator `forward` run in 0.20 s\n",
            "Operator `forward` run in 0.20 s\n",
            "Operator `forward` run in 0.19 s\n",
            "Operator `forward` run in 0.21 s\n",
            "Operator `forward` run in 0.22 s\n",
            "Operator `forward` run in 0.20 s\n",
            "Operator `forward` run in 0.20 s\n",
            "Operator `forward` run in 0.20 s\n",
            "Operator `forward` run in 0.20 s\n",
            "Operator `forward` run in 0.20 s\n",
            "Operator `forward` run in 0.19 s\n",
            "Operator `forward` run in 0.19 s\n",
            "Operator `forward` run in 0.20 s\n",
            "Operator `forward` run in 0.19 s\n",
            "Operator `forward` run in 0.19 s\n",
            "Operator `forward` run in 0.19 s\n",
            "Operator `forward` run in 0.19 s\n",
            "Operator `forward` run in 0.19 s\n",
            "Operator `forward` run in 0.19 s\n",
            "Operator `forward` run in 0.19 s\n",
            "Operator `forward` run in 0.20 s\n",
            "Operator `forward` run in 0.31 s\n",
            "Operator `gradient` run in 0.32 s\n",
            "Operator `forward` run in 0.30 s\n",
            "Operator `gradient` run in 0.31 s\n",
            "Operator `forward` run in 0.30 s\n",
            "Operator `gradient` run in 0.32 s\n",
            "Operator `forward` run in 0.30 s\n",
            "Operator `gradient` run in 0.33 s\n",
            "Operator `forward` run in 0.30 s\n",
            "Operator `gradient` run in 0.31 s\n",
            "Operator `forward` run in 0.30 s\n",
            "Operator `gradient` run in 0.33 s\n",
            "Operator `forward` run in 0.31 s\n",
            "Operator `gradient` run in 0.33 s\n",
            "Operator `forward` run in 0.31 s\n",
            "Operator `gradient` run in 0.33 s\n",
            "Operator `forward` run in 0.32 s\n",
            "Operator `gradient` run in 0.35 s\n",
            "Operator `forward` run in 0.30 s\n",
            "Operator `gradient` run in 0.31 s\n",
            "Operator `forward` run in 0.31 s\n",
            "Operator `gradient` run in 0.39 s\n",
            "Operator `forward` run in 0.32 s\n",
            "Operator `gradient` run in 0.33 s\n",
            "Operator `forward` run in 0.30 s\n",
            "Operator `gradient` run in 0.33 s\n",
            "Operator `forward` run in 0.32 s\n",
            "Operator `gradient` run in 0.33 s\n",
            "Operator `forward` run in 0.32 s\n",
            "Operator `gradient` run in 0.33 s\n",
            "Operator `forward` run in 0.33 s\n",
            "Operator `gradient` run in 0.34 s\n",
            "Operator `forward` run in 0.25 s\n",
            "Operator `forward` run in 0.25 s\n",
            "Operator `forward` run in 0.25 s\n",
            "Operator `forward` run in 0.25 s\n",
            "Operator `forward` run in 0.25 s\n",
            "Operator `forward` run in 0.25 s\n",
            "Operator `forward` run in 0.24 s\n",
            "Operator `forward` run in 0.24 s\n",
            "Operator `forward` run in 0.24 s\n",
            "Operator `forward` run in 0.24 s\n",
            "Operator `forward` run in 0.24 s\n",
            "Operator `forward` run in 0.24 s\n",
            "Operator `forward` run in 0.23 s\n",
            "Operator `forward` run in 0.23 s\n",
            "Operator `forward` run in 0.23 s\n",
            "Operator `forward` run in 0.24 s\n",
            "Operator `forward` run in 0.21 s\n",
            "Operator `forward` run in 0.21 s\n",
            "Operator `forward` run in 0.20 s\n",
            "Operator `forward` run in 0.21 s\n",
            "Operator `forward` run in 0.21 s\n",
            "Operator `forward` run in 0.22 s\n",
            "Operator `forward` run in 0.21 s\n",
            "Operator `forward` run in 0.21 s\n",
            "Operator `forward` run in 0.20 s\n",
            "Operator `forward` run in 0.20 s\n",
            "Operator `forward` run in 0.20 s\n",
            "Operator `forward` run in 0.20 s\n",
            "Operator `forward` run in 0.21 s\n",
            "Operator `forward` run in 0.21 s\n",
            "Operator `forward` run in 0.22 s\n",
            "Operator `forward` run in 0.20 s\n",
            "Operator `forward` run in 0.20 s\n",
            "Operator `forward` run in 0.20 s\n",
            "Operator `forward` run in 0.20 s\n",
            "Operator `forward` run in 0.20 s\n",
            "Operator `forward` run in 0.20 s\n",
            "Operator `forward` run in 0.20 s\n",
            "Operator `forward` run in 0.20 s\n",
            "Operator `forward` run in 0.19 s\n",
            "Operator `forward` run in 0.20 s\n",
            "Operator `forward` run in 0.21 s\n",
            "Operator `forward` run in 0.20 s\n",
            "Operator `forward` run in 0.20 s\n",
            "Operator `forward` run in 0.21 s\n",
            "Operator `forward` run in 0.21 s\n",
            "Operator `forward` run in 0.20 s\n",
            "Operator `forward` run in 0.20 s\n"
          ],
          "name": "stderr"
        }
      ]
    },
    {
      "cell_type": "code",
      "metadata": {
        "id": "IO0yZEWVBUK0",
        "colab": {
          "base_uri": "https://localhost:8080/",
          "height": 249
        },
        "outputId": "f667b16f-1d9e-43fc-b71a-0351d15a6e9a"
      },
      "source": [
        "figure(); imshow(sqrt.(1f0./adjoint(model0.m))); title(\"FWI with SGD\")"
      ],
      "execution_count": 91,
      "outputs": [
        {
          "output_type": "display_data",
          "data": {
            "image/png": "[encoded data removed]",
            "text/plain": [
              "Figure(PyObject <Figure size 640x480 with 1 Axes>)"
            ]
          },
          "metadata": {
            "tags": []
          }
        },
        {
          "output_type": "execute_result",
          "data": {
            "text/plain": [
              "PyObject Text(0.5, 1.0, 'FWI with SGD')"
            ]
          },
          "metadata": {
            "tags": []
          },
          "execution_count": 91
        }
      ]
    },
    {
      "cell_type": "markdown",
      "metadata": {
        "id": "NmlQGxWeBl-y"
      },
      "source": [
        "### *fwi_example_NLopt.jl*"
      ]
    },
    {
      "cell_type": "code",
      "metadata": {
        "colab": {
          "base_uri": "https://localhost:8080/"
        },
        "id": "JqZ9dMz_EpSB",
        "outputId": "08d631e2-3dc9-4490-89bb-070669a68052"
      },
      "source": [
        ";cd /root/.julia/dev/JUDI/examples/scripts"
      ],
      "execution_count": 92,
      "outputs": [
        {
          "output_type": "stream",
          "text": [
            "/root/.julia/dev/JUDI/examples/scripts\n"
          ],
          "name": "stdout"
        }
      ]
    },
    {
      "cell_type": "code",
      "metadata": {
        "id": "iS8veDDHBs3B",
        "colab": {
          "base_uri": "https://localhost:8080/"
        },
        "outputId": "7f771dcc-3d03-43d2-c73c-dfb2a3ec057b"
      },
      "source": [
        "# 2D FWI on Overthrust model with L-BFGS using NLopt library\r\n",
        "# Author: Philipp Witte, pwitte@eoas.ubc.ca\r\n",
        "# Date: December 2017\r\n",
        "#\r\n",
        "\r\n",
        "using Statistics, Random, LinearAlgebra\r\n",
        "using JUDI.TimeModeling, HDF5, NLopt, SegyIO\r\n",
        "\r\n",
        "# Load starting model\r\n",
        "n,d,o,m0 = read(h5open(\"../../data/overthrust_model.h5\",\"r\"), \"n\", \"d\", \"o\", \"m0\")\r\n",
        "model0 = Model((n[1],n[2]), (d[1],d[2]), (o[1],o[2]), m0)\r\n",
        "\r\n",
        "# Bound constraints\r\n",
        "v0 = sqrt.(1f0 ./ model0.m)\r\n",
        "vmin = ones(Float32, model0.n) .* 1.3f0\r\n",
        "vmax = ones(Float32, model0.n) .* 6.5f0\r\n",
        "\r\n",
        "# Slowness squared [s^2/km^2]\r\n",
        "mmin = vec((1f0 ./ vmax).^2)\r\n",
        "mmax = vec((1f0 ./ vmin).^2)\r\n",
        "\r\n",
        "# Load data\r\n",
        "block = segy_read(\"../../data/overthrust_shot_records.segy\")\r\n",
        "d_obs = judiVector(block)\r\n",
        "\r\n",
        "# Set up wavelet\r\n",
        "src_geometry = Geometry(block; key=\"source\")\r\n",
        "wavelet = ricker_wavelet(src_geometry.t[1], src_geometry.dt[1], 0.008f0)    # 8 Hz wavelet\r\n",
        "q = judiVector(src_geometry, wavelet)"
      ],
      "execution_count": 93,
      "outputs": [
        {
          "output_type": "stream",
          "text": [
            "┌ Info: Precompiling NLopt [76087f3c-5699-56af-9a33-bf431cd00edd]\n",
            "└ @ Base loading.jl:1278\n",
            "┌ Warning: Fixed length trace flag set in stream: IOBuffer(data=UInt8[...], readable=true, writable=false, seekable=true, append=false, size=7076688, maxsize=Inf, ptr=3601, mark=-1)\n",
            "└ @ SegyIO /root/.julia/packages/SegyIO/uw4ZW/src/read/read_file.jl:26\n"
          ],
          "name": "stderr"
        },
        {
          "output_type": "execute_result",
          "data": {
            "text/plain": [
              "judiVector{Float32}(\"Seismic data vector\", 8016, 1, 16, GeometryIC(Any[400.0f0, 1013.333f0, 1626.667f0, 2240.0f0, 2853.333f0, 3466.666f0, 4080.0f0, 4693.334f0, 5306.666f0, 5920.0f0, 6533.334f0, 7146.666f0, 7760.0f0, 8373.333f0, 8986.667f0, 9600.0f0], Any[0.0f0, 0.0f0, 0.0f0, 0.0f0, 0.0f0, 0.0f0, 0.0f0, 0.0f0, 0.0f0, 0.0f0, 0.0f0, 0.0f0, 0.0f0, 0.0f0, 0.0f0, 0.0f0], Any[50.0f0, 50.0f0, 50.0f0, 50.0f0, 50.0f0, 50.0f0, 50.0f0, 50.0f0, 50.0f0, 50.0f0, 50.0f0, 50.0f0, 50.0f0, 50.0f0, 50.0f0, 50.0f0], Any[4.0f0, 4.0f0, 4.0f0, 4.0f0, 4.0f0, 4.0f0, 4.0f0, 4.0f0, 4.0f0, 4.0f0, 4.0f0, 4.0f0, 4.0f0, 4.0f0, 4.0f0, 4.0f0], Any[501, 501, 501, 501, 501, 501, 501, 501, 501, 501, 501, 501, 501, 501, 501, 501], Any[2000.0f0, 2000.0f0, 2000.0f0, 2000.0f0, 2000.0f0, 2000.0f0, 2000.0f0, 2000.0f0, 2000.0f0, 2000.0f0, 2000.0f0, 2000.0f0, 2000.0f0, 2000.0f0, 2000.0f0, 2000.0f0]), Array[Float32[-0.00096925104; -0.0016848503; … ; -0.0; -0.0], Float32[-0.00096925104; -0.0016848503; … ; -0.0; -0.0], Float32[-0.00096925104; -0.0016848503; … ; -0.0; -0.0], Float32[-0.00096925104; -0.0016848503; … ; -0.0; -0.0], Float32[-0.00096925104; -0.0016848503; … ; -0.0; -0.0], Float32[-0.00096925104; -0.0016848503; … ; -0.0; -0.0], Float32[-0.00096925104; -0.0016848503; … ; -0.0; -0.0], Float32[-0.00096925104; -0.0016848503; … ; -0.0; -0.0], Float32[-0.00096925104; -0.0016848503; … ; -0.0; -0.0], Float32[-0.00096925104; -0.0016848503; … ; -0.0; -0.0], Float32[-0.00096925104; -0.0016848503; … ; -0.0; -0.0], Float32[-0.00096925104; -0.0016848503; … ; -0.0; -0.0], Float32[-0.00096925104; -0.0016848503; … ; -0.0; -0.0], Float32[-0.00096925104; -0.0016848503; … ; -0.0; -0.0], Float32[-0.00096925104; -0.0016848503; … ; -0.0; -0.0], Float32[-0.00096925104; -0.0016848503; … ; -0.0; -0.0]])"
            ]
          },
          "metadata": {
            "tags": []
          },
          "execution_count": 93
        }
      ]
    },
    {
      "cell_type": "code",
      "metadata": {
        "id": "vutoa7trBt4A",
        "colab": {
          "base_uri": "https://localhost:8080/"
        },
        "outputId": "37d1b243-3462-4ba0-b355-7455b784fc66"
      },
      "source": [
        "############################### FWI ###########################################\r\n",
        "\r\n",
        "# optimization parameters\r\n",
        "batchsize = 16\r\n",
        "count = 0\r\n",
        "\r\n",
        "# NLopt objective function\r\n",
        "println(\"No.  \", \"fval         \", \"norm(gradient)\")\r\n",
        "function f!(x,grad)\r\n",
        "\r\n",
        "    # Update model\r\n",
        "    model0.m .= convert(Array{Float32, 2}, reshape(x, model0.n))\r\n",
        "\r\n",
        "    # Seclect batch and calculate gradient\r\n",
        "    i = randperm(d_obs.nsrc)[1:batchsize]\r\n",
        "    fval, gradient = fwi_objective(model0, q[i], d_obs[i])\r\n",
        "\r\n",
        "    # Reset gradient in water column to zero\r\n",
        "    gradient = reshape(gradient, model0.n)\r\n",
        "    gradient[:, 1:21] .= 0f0\r\n",
        "    grad[1:end] = vec(gradient)\r\n",
        "\r\n",
        "    global count; count += 1\r\n",
        "    println(count, \"    \", fval, \"    \", norm(grad))\r\n",
        "    return convert(Float64, fval)\r\n",
        "end\r\n",
        "\r\n",
        "# Optimization parameters\r\n",
        "opt = Opt(:LD_LBFGS, prod(model0.n))\r\n",
        "lower_bounds!(opt, mmin); upper_bounds!(opt, mmax)\r\n",
        "min_objective!(opt, f!)\r\n",
        "maxeval!(opt, 10)\r\n",
        "(minf, minx, ret) = optimize(opt, vec(model0.m.data))"
      ],
      "execution_count": 94,
      "outputs": [
        {
          "output_type": "stream",
          "text": [
            "Operator `forward` run in 0.29 s\n",
            "Operator `gradient` run in 0.30 s\n",
            "Operator `forward` run in 0.29 s\n",
            "Operator `gradient` run in 0.31 s\n",
            "Operator `forward` run in 0.30 s\n",
            "Operator `gradient` run in 0.32 s\n",
            "Operator `forward` run in 0.30 s\n",
            "Operator `gradient` run in 0.30 s\n",
            "Operator `forward` run in 0.29 s\n",
            "Operator `gradient` run in 0.30 s\n",
            "Operator `forward` run in 0.29 s\n",
            "Operator `gradient` run in 0.30 s\n",
            "Operator `forward` run in 0.28 s\n",
            "Operator `gradient` run in 0.30 s\n",
            "Operator `forward` run in 0.30 s\n",
            "Operator `gradient` run in 0.30 s\n",
            "Operator `forward` run in 0.28 s\n",
            "Operator `gradient` run in 0.31 s\n",
            "Operator `forward` run in 0.29 s\n",
            "Operator `gradient` run in 0.30 s\n",
            "Operator `forward` run in 0.28 s\n",
            "Operator `gradient` run in 0.30 s\n",
            "Operator `forward` run in 0.28 s\n",
            "Operator `gradient` run in 0.30 s\n",
            "Operator `forward` run in 0.28 s\n",
            "Operator `gradient` run in 0.32 s\n",
            "Operator `forward` run in 0.29 s\n",
            "Operator `gradient` run in 0.30 s\n",
            "Operator `forward` run in 0.28 s\n",
            "Operator `gradient` run in 0.30 s\n",
            "Operator `forward` run in 0.28 s\n",
            "Operator `gradient` run in 0.30 s\n",
            "Operator `forward` run in 0.37 s\n",
            "Operator `gradient` run in 0.38 s\n",
            "Operator `forward` run in 0.36 s\n",
            "Operator `gradient` run in 0.38 s\n",
            "Operator `forward` run in 0.35 s\n",
            "Operator `gradient` run in 0.39 s\n",
            "Operator `forward` run in 0.36 s\n",
            "Operator `gradient` run in 0.38 s\n",
            "Operator `forward` run in 0.36 s\n",
            "Operator `gradient` run in 0.38 s\n",
            "Operator `forward` run in 0.35 s\n",
            "Operator `gradient` run in 0.38 s\n",
            "Operator `forward` run in 0.37 s\n",
            "Operator `gradient` run in 0.38 s\n",
            "Operator `forward` run in 0.37 s\n",
            "Operator `gradient` run in 0.38 s\n",
            "Operator `forward` run in 0.36 s\n",
            "Operator `gradient` run in 0.38 s\n",
            "Operator `forward` run in 0.35 s\n",
            "Operator `gradient` run in 0.38 s\n",
            "Operator `forward` run in 0.37 s\n",
            "Operator `gradient` run in 0.38 s\n",
            "Operator `forward` run in 0.36 s\n",
            "Operator `gradient` run in 0.38 s\n",
            "Operator `forward` run in 0.36 s\n",
            "Operator `gradient` run in 0.38 s\n",
            "Operator `forward` run in 0.35 s\n",
            "Operator `gradient` run in 0.39 s\n",
            "Operator `forward` run in 0.37 s\n",
            "Operator `gradient` run in 0.39 s\n",
            "Operator `forward` run in 0.36 s\n",
            "Operator `gradient` run in 0.39 s\n",
            "Operator `forward` run in 0.29 s\n",
            "Operator `gradient` run in 0.30 s\n",
            "Operator `forward` run in 0.28 s\n",
            "Operator `gradient` run in 0.30 s\n",
            "Operator `forward` run in 0.28 s\n",
            "Operator `gradient` run in 0.30 s\n",
            "Operator `forward` run in 0.28 s\n",
            "Operator `gradient` run in 0.31 s\n",
            "Operator `forward` run in 0.29 s\n",
            "Operator `gradient` run in 0.31 s\n",
            "Operator `forward` run in 0.28 s\n",
            "Operator `gradient` run in 0.30 s\n",
            "Operator `forward` run in 0.28 s\n",
            "Operator `gradient` run in 0.30 s\n",
            "Operator `forward` run in 0.28 s\n",
            "Operator `gradient` run in 0.30 s\n",
            "Operator `forward` run in 0.29 s\n",
            "Operator `gradient` run in 0.30 s\n",
            "Operator `forward` run in 0.28 s\n",
            "Operator `gradient` run in 0.30 s\n",
            "Operator `forward` run in 0.28 s\n",
            "Operator `gradient` run in 0.30 s\n",
            "Operator `forward` run in 0.29 s\n",
            "Operator `gradient` run in 0.30 s\n",
            "Operator `forward` run in 0.28 s\n",
            "Operator `gradient` run in 0.31 s\n",
            "Operator `forward` run in 0.29 s\n",
            "Operator `gradient` run in 0.30 s\n",
            "Operator `forward` run in 0.28 s\n",
            "Operator `gradient` run in 0.30 s\n",
            "Operator `forward` run in 0.28 s\n",
            "Operator `gradient` run in 0.30 s\n",
            "Operator `forward` run in 0.29 s\n",
            "Operator `gradient` run in 0.31 s\n",
            "Operator `forward` run in 0.29 s\n",
            "Operator `gradient` run in 0.31 s\n",
            "Operator `forward` run in 0.30 s\n",
            "Operator `gradient` run in 0.32 s\n",
            "Operator `forward` run in 0.30 s\n",
            "Operator `gradient` run in 0.32 s\n",
            "Operator `forward` run in 0.30 s\n",
            "Operator `gradient` run in 0.32 s\n",
            "Operator `forward` run in 0.29 s\n",
            "Operator `gradient` run in 0.32 s\n",
            "Operator `forward` run in 0.29 s\n",
            "Operator `gradient` run in 0.31 s\n",
            "Operator `forward` run in 0.30 s\n",
            "Operator `gradient` run in 0.32 s\n",
            "Operator `forward` run in 0.29 s\n",
            "Operator `gradient` run in 0.32 s\n",
            "Operator `forward` run in 0.30 s\n",
            "Operator `gradient` run in 0.32 s\n",
            "Operator `forward` run in 0.30 s\n",
            "Operator `gradient` run in 0.32 s\n",
            "Operator `forward` run in 0.30 s\n",
            "Operator `gradient` run in 0.31 s\n",
            "Operator `forward` run in 0.30 s\n",
            "Operator `gradient` run in 0.32 s\n",
            "Operator `forward` run in 0.30 s\n",
            "Operator `gradient` run in 0.32 s\n",
            "Operator `forward` run in 0.30 s\n",
            "Operator `gradient` run in 0.32 s\n",
            "Operator `forward` run in 0.30 s\n",
            "Operator `gradient` run in 0.31 s\n",
            "Operator `forward` run in 0.31 s\n",
            "Operator `gradient` run in 0.34 s\n",
            "Operator `forward` run in 0.31 s\n",
            "Operator `gradient` run in 0.33 s\n",
            "Operator `forward` run in 0.31 s\n",
            "Operator `gradient` run in 0.33 s\n",
            "Operator `forward` run in 0.32 s\n",
            "Operator `gradient` run in 0.33 s\n",
            "Operator `forward` run in 0.31 s\n",
            "Operator `gradient` run in 0.33 s\n",
            "Operator `forward` run in 0.31 s\n",
            "Operator `gradient` run in 0.34 s\n",
            "Operator `forward` run in 0.31 s\n",
            "Operator `gradient` run in 0.33 s\n",
            "Operator `forward` run in 0.32 s\n",
            "Operator `gradient` run in 0.33 s\n",
            "Operator `forward` run in 0.32 s\n",
            "Operator `gradient` run in 0.33 s\n",
            "Operator `forward` run in 0.32 s\n",
            "Operator `gradient` run in 0.33 s\n",
            "Operator `forward` run in 0.31 s\n",
            "Operator `gradient` run in 0.32 s\n",
            "Operator `forward` run in 0.32 s\n",
            "Operator `gradient` run in 0.33 s\n",
            "Operator `forward` run in 0.31 s\n",
            "Operator `gradient` run in 0.33 s\n",
            "Operator `forward` run in 0.32 s\n",
            "Operator `gradient` run in 0.33 s\n",
            "Operator `forward` run in 0.31 s\n",
            "Operator `gradient` run in 0.33 s\n",
            "Operator `forward` run in 0.31 s\n",
            "Operator `gradient` run in 0.33 s\n",
            "Operator `forward` run in 0.32 s\n",
            "Operator `gradient` run in 0.33 s\n",
            "Operator `forward` run in 0.32 s\n",
            "Operator `gradient` run in 0.34 s\n",
            "Operator `forward` run in 0.34 s\n",
            "Operator `gradient` run in 0.33 s\n",
            "Operator `forward` run in 0.32 s\n",
            "Operator `gradient` run in 0.33 s\n",
            "Operator `forward` run in 0.32 s\n",
            "Operator `gradient` run in 0.34 s\n",
            "Operator `forward` run in 0.32 s\n",
            "Operator `gradient` run in 0.34 s\n",
            "Operator `forward` run in 0.32 s\n",
            "Operator `gradient` run in 0.35 s\n",
            "Operator `forward` run in 0.32 s\n",
            "Operator `gradient` run in 0.34 s\n",
            "Operator `forward` run in 0.32 s\n",
            "Operator `gradient` run in 0.33 s\n",
            "Operator `forward` run in 0.32 s\n",
            "Operator `gradient` run in 0.35 s\n",
            "Operator `forward` run in 0.32 s\n",
            "Operator `gradient` run in 0.34 s\n",
            "Operator `forward` run in 0.32 s\n",
            "Operator `gradient` run in 0.34 s\n",
            "Operator `forward` run in 0.32 s\n",
            "Operator `gradient` run in 0.33 s\n",
            "Operator `forward` run in 0.32 s\n",
            "Operator `gradient` run in 0.33 s\n",
            "Operator `forward` run in 0.31 s\n",
            "Operator `gradient` run in 0.34 s\n",
            "Operator `forward` run in 0.32 s\n",
            "Operator `gradient` run in 0.34 s\n",
            "Operator `forward` run in 0.32 s\n",
            "Operator `gradient` run in 0.33 s\n",
            "Operator `forward` run in 0.31 s\n",
            "Operator `gradient` run in 0.32 s\n",
            "Operator `forward` run in 0.31 s\n",
            "Operator `gradient` run in 0.32 s\n",
            "Operator `forward` run in 0.31 s\n",
            "Operator `gradient` run in 0.34 s\n",
            "Operator `forward` run in 0.31 s\n",
            "Operator `gradient` run in 0.33 s\n",
            "Operator `forward` run in 0.31 s\n",
            "Operator `gradient` run in 0.32 s\n",
            "Operator `forward` run in 0.31 s\n",
            "Operator `gradient` run in 0.32 s\n",
            "Operator `forward` run in 0.31 s\n",
            "Operator `gradient` run in 0.33 s\n",
            "Operator `forward` run in 0.31 s\n",
            "Operator `gradient` run in 0.33 s\n",
            "Operator `forward` run in 0.31 s\n",
            "Operator `gradient` run in 0.33 s\n",
            "Operator `forward` run in 0.32 s\n",
            "Operator `gradient` run in 0.32 s\n",
            "Operator `forward` run in 0.30 s\n",
            "Operator `gradient` run in 0.33 s\n",
            "Operator `forward` run in 0.31 s\n",
            "Operator `gradient` run in 0.33 s\n",
            "Operator `forward` run in 0.31 s\n",
            "Operator `gradient` run in 0.33 s\n",
            "Operator `forward` run in 0.31 s\n",
            "Operator `gradient` run in 0.32 s\n",
            "Operator `forward` run in 0.30 s\n",
            "Operator `gradient` run in 0.32 s\n",
            "Operator `forward` run in 0.30 s\n",
            "Operator `gradient` run in 0.33 s\n",
            "Operator `forward` run in 0.30 s\n",
            "Operator `gradient` run in 0.33 s\n",
            "Operator `forward` run in 0.31 s\n",
            "Operator `gradient` run in 0.33 s\n",
            "Operator `forward` run in 0.32 s\n",
            "Operator `gradient` run in 0.32 s\n",
            "Operator `forward` run in 0.31 s\n",
            "Operator `gradient` run in 0.34 s\n",
            "Operator `forward` run in 0.31 s\n",
            "Operator `gradient` run in 0.33 s\n",
            "Operator `forward` run in 0.32 s\n",
            "Operator `gradient` run in 0.33 s\n",
            "Operator `forward` run in 0.31 s\n",
            "Operator `gradient` run in 0.34 s\n",
            "Operator `forward` run in 0.32 s\n",
            "Operator `gradient` run in 0.32 s\n",
            "Operator `forward` run in 0.31 s\n",
            "Operator `gradient` run in 0.33 s\n",
            "Operator `forward` run in 0.31 s\n",
            "Operator `gradient` run in 0.34 s\n",
            "Operator `forward` run in 0.32 s\n",
            "Operator `gradient` run in 0.33 s\n",
            "Operator `forward` run in 0.31 s\n",
            "Operator `gradient` run in 0.34 s\n",
            "Operator `forward` run in 0.31 s\n",
            "Operator `gradient` run in 0.34 s\n",
            "Operator `forward` run in 0.32 s\n",
            "Operator `gradient` run in 0.33 s\n",
            "Operator `forward` run in 0.32 s\n",
            "Operator `gradient` run in 0.33 s\n",
            "Operator `forward` run in 0.32 s\n",
            "Operator `gradient` run in 0.33 s\n",
            "Operator `forward` run in 0.31 s\n",
            "Operator `gradient` run in 0.33 s\n",
            "Operator `forward` run in 0.31 s\n",
            "Operator `gradient` run in 0.33 s\n",
            "Operator `forward` run in 0.32 s\n",
            "Operator `gradient` run in 0.33 s\n",
            "Operator `forward` run in 0.31 s\n",
            "Operator `gradient` run in 0.34 s\n",
            "Operator `forward` run in 0.31 s\n",
            "Operator `gradient` run in 0.34 s\n",
            "Operator `forward` run in 0.31 s\n",
            "Operator `gradient` run in 0.32 s\n",
            "Operator `forward` run in 0.32 s\n",
            "Operator `gradient` run in 0.34 s\n",
            "Operator `forward` run in 0.32 s\n",
            "Operator `gradient` run in 0.33 s\n",
            "Operator `forward` run in 0.30 s\n",
            "Operator `gradient` run in 0.32 s\n",
            "Operator `forward` run in 0.31 s\n",
            "Operator `gradient` run in 0.33 s\n",
            "Operator `forward` run in 0.31 s\n",
            "Operator `gradient` run in 0.33 s\n",
            "Operator `forward` run in 0.31 s\n",
            "Operator `gradient` run in 0.33 s\n",
            "Operator `forward` run in 0.31 s\n",
            "Operator `gradient` run in 0.34 s\n",
            "Operator `forward` run in 0.32 s\n",
            "Operator `gradient` run in 0.33 s\n",
            "Operator `forward` run in 0.31 s\n",
            "Operator `gradient` run in 0.32 s\n",
            "Operator `forward` run in 0.31 s\n",
            "Operator `gradient` run in 0.34 s\n",
            "Operator `forward` run in 0.32 s\n",
            "Operator `gradient` run in 0.33 s\n",
            "Operator `forward` run in 0.32 s\n",
            "Operator `gradient` run in 0.33 s\n",
            "Operator `forward` run in 0.32 s\n",
            "Operator `gradient` run in 0.33 s\n",
            "Operator `forward` run in 0.32 s\n",
            "Operator `gradient` run in 0.33 s\n",
            "Operator `forward` run in 0.32 s\n",
            "Operator `gradient` run in 0.34 s\n",
            "Operator `forward` run in 0.32 s\n",
            "Operator `gradient` run in 0.34 s\n",
            "Operator `forward` run in 0.32 s\n",
            "Operator `gradient` run in 0.33 s\n",
            "Operator `forward` run in 0.31 s\n",
            "Operator `gradient` run in 0.34 s\n",
            "Operator `forward` run in 0.32 s\n",
            "Operator `gradient` run in 0.33 s\n",
            "Operator `forward` run in 0.31 s\n",
            "Operator `gradient` run in 0.32 s\n",
            "Operator `forward` run in 0.32 s\n",
            "Operator `gradient` run in 0.34 s\n",
            "Operator `forward` run in 0.32 s\n",
            "Operator `gradient` run in 0.33 s\n",
            "Operator `forward` run in 0.31 s\n",
            "Operator `gradient` run in 0.34 s\n",
            "Operator `forward` run in 0.31 s\n",
            "Operator `gradient` run in 0.34 s\n",
            "Operator `forward` run in 0.32 s\n",
            "Operator `gradient` run in 0.33 s\n"
          ],
          "name": "stderr"
        },
        {
          "output_type": "stream",
          "text": [
            "No.  fval         norm(gradient)\n",
            "1    542631.25    487733.2055799264\n",
            "2    797430.06    912393.6753559209\n",
            "3    296780.16    418111.8715800563\n",
            "4    166949.47    221931.3061428264\n",
            "5    114229.67    205174.30250261814\n",
            "6    102367.375    354265.5283675947\n",
            "7    80604.63    168265.73590391813\n",
            "8    74647.6    134187.26687365066\n",
            "9    67055.586    103994.81953611721\n",
            "10    51961.895    89168.12794102314\n"
          ],
          "name": "stdout"
        },
        {
          "output_type": "execute_result",
          "data": {
            "text/plain": [
              "(51961.89453125, [0.4444444477558136, 0.4444444477558136, 0.4444444477558136, 0.4444444477558136, 0.4444444477558136, 0.4444444477558136, 0.4444444477558136, 0.4444444477558136, 0.4444444477558136, 0.4444444477558136  …  0.05366933126568433, 0.053622952798154114, 0.05348210402447076, 0.053262837027241494, 0.05299074686800976, 0.05269352674858519, 0.052395441825579134, 0.05211494830993803, 0.05186561766365073, 0.05165909340024975], :MAXEVAL_REACHED)"
            ]
          },
          "metadata": {
            "tags": []
          },
          "execution_count": 94
        }
      ]
    },
    {
      "cell_type": "markdown",
      "metadata": {
        "id": "Xra9YcEZ94Xi"
      },
      "source": [
        "### *fwi_example_constraints.jl*"
      ]
    },
    {
      "cell_type": "code",
      "metadata": {
        "colab": {
          "base_uri": "https://localhost:8080/"
        },
        "id": "05eSuj6TEqWJ",
        "outputId": "e946c285-1d6c-4085-ad07-291f22e1b65a"
      },
      "source": [
        ";cd /root/.julia/dev/JUDI/examples/scripts"
      ],
      "execution_count": 95,
      "outputs": [
        {
          "output_type": "stream",
          "text": [
            "/root/.julia/dev/JUDI/examples/scripts\n"
          ],
          "name": "stdout"
        }
      ]
    },
    {
      "cell_type": "code",
      "metadata": {
        "id": "FJMjf1UG-bVH",
        "colab": {
          "base_uri": "https://localhost:8080/"
        },
        "outputId": "caa1b666-12a6-4fd9-c170-d89cb9c7c885"
      },
      "source": [
        "# 2D FWI on Overthrust model using minConf library\r\n",
        "# Author: Philipp Witte, pwitte@eoas.ubc.ca\r\n",
        "# Date: December 2017\r\n",
        "#\r\n",
        "\r\n",
        "using Statistics, Random, Pkg\r\n",
        "using LinearAlgebra\r\n",
        "using JUDI.TimeModeling, JUDI.SLIM_optim, HDF5, SegyIO, PyPlot, FFTW\r\n",
        "using SetIntersectionProjection\r\n",
        "\r\n",
        "# Load starting model\r\n",
        "n,d,o,m0 = read(h5open(\"../../data/overthrust_model.h5\",\"r\"), \"n\", \"d\", \"o\", \"m0\")\r\n",
        "model0 = Model((n[1],n[2]), (d[1],d[2]), (o[1],o[2]), m0)\r\n",
        "\r\n",
        "# Bound constraints\r\n",
        "v0 = sqrt.(1f0 ./ model0.m)\r\n",
        "\r\n",
        "# Load data\r\n",
        "block = segy_read(\"../../data/overthrust_shot_records.segy\")\r\n",
        "d_obs = judiVector(block)\r\n",
        "\r\n",
        "# Set up wavelet\r\n",
        "src_geometry = Geometry(block; key=\"source\")\r\n",
        "wavelet = ricker_wavelet(src_geometry.t[1],src_geometry.dt[1],0.008f0)  # 8 Hz wavelet\r\n",
        "q = judiVector(src_geometry,wavelet)"
      ],
      "execution_count": 96,
      "outputs": [
        {
          "output_type": "stream",
          "text": [
            "┌ Info: Precompiling SetIntersectionProjection [335f7d24-6316-57dd-9c3a-df470f2b739e]\n",
            "└ @ Base loading.jl:1278\n",
            "┌ Warning: Fixed length trace flag set in stream: IOBuffer(data=UInt8[...], readable=true, writable=false, seekable=true, append=false, size=7076688, maxsize=Inf, ptr=3601, mark=-1)\n",
            "└ @ SegyIO /root/.julia/packages/SegyIO/uw4ZW/src/read/read_file.jl:26\n"
          ],
          "name": "stderr"
        },
        {
          "output_type": "execute_result",
          "data": {
            "text/plain": [
              "judiVector{Float32}(\"Seismic data vector\", 8016, 1, 16, GeometryIC(Any[400.0f0, 1013.333f0, 1626.667f0, 2240.0f0, 2853.333f0, 3466.666f0, 4080.0f0, 4693.334f0, 5306.666f0, 5920.0f0, 6533.334f0, 7146.666f0, 7760.0f0, 8373.333f0, 8986.667f0, 9600.0f0], Any[0.0f0, 0.0f0, 0.0f0, 0.0f0, 0.0f0, 0.0f0, 0.0f0, 0.0f0, 0.0f0, 0.0f0, 0.0f0, 0.0f0, 0.0f0, 0.0f0, 0.0f0, 0.0f0], Any[50.0f0, 50.0f0, 50.0f0, 50.0f0, 50.0f0, 50.0f0, 50.0f0, 50.0f0, 50.0f0, 50.0f0, 50.0f0, 50.0f0, 50.0f0, 50.0f0, 50.0f0, 50.0f0], Any[4.0f0, 4.0f0, 4.0f0, 4.0f0, 4.0f0, 4.0f0, 4.0f0, 4.0f0, 4.0f0, 4.0f0, 4.0f0, 4.0f0, 4.0f0, 4.0f0, 4.0f0, 4.0f0], Any[501, 501, 501, 501, 501, 501, 501, 501, 501, 501, 501, 501, 501, 501, 501, 501], Any[2000.0f0, 2000.0f0, 2000.0f0, 2000.0f0, 2000.0f0, 2000.0f0, 2000.0f0, 2000.0f0, 2000.0f0, 2000.0f0, 2000.0f0, 2000.0f0, 2000.0f0, 2000.0f0, 2000.0f0, 2000.0f0]), Array[Float32[-0.00096925104; -0.0016848503; … ; -0.0; -0.0], Float32[-0.00096925104; -0.0016848503; … ; -0.0; -0.0], Float32[-0.00096925104; -0.0016848503; … ; -0.0; -0.0], Float32[-0.00096925104; -0.0016848503; … ; -0.0; -0.0], Float32[-0.00096925104; -0.0016848503; … ; -0.0; -0.0], Float32[-0.00096925104; -0.0016848503; … ; -0.0; -0.0], Float32[-0.00096925104; -0.0016848503; … ; -0.0; -0.0], Float32[-0.00096925104; -0.0016848503; … ; -0.0; -0.0], Float32[-0.00096925104; -0.0016848503; … ; -0.0; -0.0], Float32[-0.00096925104; -0.0016848503; … ; -0.0; -0.0], Float32[-0.00096925104; -0.0016848503; … ; -0.0; -0.0], Float32[-0.00096925104; -0.0016848503; … ; -0.0; -0.0], Float32[-0.00096925104; -0.0016848503; … ; -0.0; -0.0], Float32[-0.00096925104; -0.0016848503; … ; -0.0; -0.0], Float32[-0.00096925104; -0.0016848503; … ; -0.0; -0.0], Float32[-0.00096925104; -0.0016848503; … ; -0.0; -0.0]])"
            ]
          },
          "metadata": {
            "tags": []
          },
          "execution_count": 96
        }
      ]
    },
    {
      "cell_type": "code",
      "metadata": {
        "id": "r3W4CeWf_8Ca",
        "colab": {
          "base_uri": "https://localhost:8080/",
          "height": 911
        },
        "outputId": "d2db8f7c-56f6-4977-99d6-e6c94a04278f"
      },
      "source": [
        "############################### FWI ###########################################\r\n",
        "\r\n",
        "# Optimization parameters\r\n",
        "niterations = 10\r\n",
        "batchsize = 10\r\n",
        "fhistory_SGD = zeros(Float32,niterations)\r\n",
        "\r\n",
        "\r\n",
        "########## Setup constraints\r\n",
        "# with constraints:\r\n",
        "options=PARSDMM_options()\r\n",
        "options.FL=Float32\r\n",
        "options=default_PARSDMM_options(options,options.FL)\r\n",
        "options.adjust_gamma = true\r\n",
        "options.adjust_rho = true\r\n",
        "options.adjust_feasibility_rho = true\r\n",
        "options.Blas_active = true\r\n",
        "options.maxit = 1000\r\n",
        "options.feas_tol = 0.001\r\n",
        "options.obj_tol = 0.001\r\n",
        "options.evol_rel_tol = 0.00001\r\n",
        "\r\n",
        "options.rho_ini=[1.0f0]\r\n",
        "\r\n",
        "set_zero_subnormals(true)\r\n",
        "BLAS.set_num_threads(2)\r\n",
        "FFTW.set_num_threads(2)\r\n",
        "options.parallel=false\r\n",
        "options.feasibility_only = false\r\n",
        "options.zero_ini_guess=true\r\n",
        "\r\n",
        "constraint = Vector{SetIntersectionProjection.set_definitions}()\r\n",
        "\r\n",
        "#bounds:\r\n",
        "vmin = ones(Float32,model0.n) .* 1.3f0\r\n",
        "vmax = ones(Float32,model0.n) .* 6.5f0\r\n",
        "vmin[:,1:21] .= v0[:,1:21]   # keep water column fixed\r\n",
        "vmax[:,1:21] .= v0[:,1:21]\r\n",
        "\r\n",
        "# Slowness squared [s^2/km^2]\r\n",
        "m_min = vec((1f0 ./ vmax).^2)\r\n",
        "m_max = vec((1f0 ./ vmin).^2)\r\n",
        "set_type = \"bounds\"\r\n",
        "TD_OP = \"identity\"\r\n",
        "app_mode = (\"matrix\",\"\")\r\n",
        "custom_TD_OP = ([],false)\r\n",
        "push!(constraint, set_definitions(set_type,TD_OP,m_min,m_max,app_mode,custom_TD_OP))\r\n",
        "\r\n",
        "#TV\r\n",
        "(TV,dummy1,dummy2,dummy3) = get_TD_operator(model0,\"TV\",options.FL)\r\n",
        "m_min = 0.0\r\n",
        "m_max = norm(TV*vec(v0),1) *2.0f0\r\n",
        "set_type = \"l1\"\r\n",
        "TD_OP = \"TV\"\r\n",
        "app_mode = (\"matrix\",\"\")\r\n",
        "custom_TD_OP = ([],false)\r\n",
        "push!(constraint, set_definitions(set_type,TD_OP,m_min,m_max,app_mode,custom_TD_OP))\r\n",
        "\r\n",
        "#set up constraints, precompute some things and define projector\r\n",
        "(P_sub,TD_OP,set_Prop) = setup_constraints(constraint,model0,options.FL)\r\n",
        "(TD_OP,AtA,l,y) = PARSDMM_precompute_distribute(TD_OP,set_Prop,model0,options)\r\n",
        "options.rho_ini = ones(length(TD_OP))*10.0\r\n",
        "\r\n",
        "proj_intersection = x-> PARSDMM(x, AtA, TD_OP, set_Prop, P_sub, model0, options)  \r\n",
        "\r\n",
        "function prj(input)\r\n",
        "    input = Float32.(input)\r\n",
        "    (x,dummy1,dummy2,dymmy3) = proj_intersection(vec(input))\r\n",
        "    return reshape(x, model0.n)\r\n",
        "end\r\n",
        "\r\n",
        "########## Run\r\n",
        "\r\n",
        "# Main loop\r\n",
        "for j=1:niterations\r\n",
        "\r\n",
        "    # get fwi objective function value and gradient\r\n",
        "    i = randperm(d_obs.nsrc)[1:batchsize]\r\n",
        "    fval, gradient = fwi_objective(model0,q[i],d_obs[i])\r\n",
        "    println(\"FWI iteration no: \",j,\"; function value: \",fval)\r\n",
        "    fhistory_SGD[j] = fval\r\n",
        "\r\n",
        "    # linesearch\r\n",
        "    step = backtracking_linesearch(model0, q[i], d_obs[i], fval, gradient, prj; alpha=1f0)\r\n",
        "\r\n",
        "    # Update model and bound projection\r\n",
        "    model0.m .= prj(model0.m + reshape(step,model0.n))\r\n",
        "end"
      ],
      "execution_count": 97,
      "outputs": [
        {
          "output_type": "stream",
          "text": [
            "FWI iteration no: 1; function value: 318617.5\n"
          ],
          "name": "stdout"
        },
        {
          "output_type": "stream",
          "text": [
            "Operator `forward` run in 0.29 s\n",
            "Operator `gradient` run in 0.30 s\n",
            "Operator `forward` run in 0.28 s\n",
            "Operator `gradient` run in 0.30 s\n",
            "Operator `forward` run in 0.28 s\n",
            "Operator `gradient` run in 0.30 s\n",
            "Operator `forward` run in 0.28 s\n",
            "Operator `gradient` run in 0.31 s\n",
            "Operator `forward` run in 0.28 s\n",
            "Operator `gradient` run in 0.30 s\n",
            "Operator `forward` run in 0.28 s\n",
            "Operator `gradient` run in 0.30 s\n",
            "Operator `forward` run in 0.29 s\n",
            "Operator `gradient` run in 0.30 s\n",
            "Operator `forward` run in 0.28 s\n",
            "Operator `gradient` run in 0.30 s\n",
            "Operator `forward` run in 0.27 s\n",
            "Operator `gradient` run in 0.30 s\n",
            "Operator `forward` run in 0.28 s\n",
            "Operator `gradient` run in 0.30 s\n"
          ],
          "name": "stderr"
        },
        {
          "output_type": "error",
          "ename": "LoadError",
          "evalue": "ignored",
          "traceback": [
            "MethodError: no method matching PARSDMM(::PhysicalParameter{Float32}, ::Array{Array{Float32,2},1}, ::Array{Union{joLinearFunction{Float32,Float32}, SparseArrays.SparseMatrixCSC{Float32,Int64}},1}, ::set_properties, ::Array{Any,1}, ::Model, ::PARSDMM_options)\nClosest candidates are:\n  PARSDMM(!Matched::Array{TF,1}, ::Union{Array{Array{TF,2},1}, Array{SparseArrays.SparseMatrixCSC{TF,TI},1}}, ::Union{Array{Union{joLinearFunction{TF,TF}, SparseArrays.SparseMatrixCSC{TF,TI}},1}, DistributedArrays.DArray{Union{joLinearFunction{TF,TF}, SparseArrays.SparseMatrixCSC{TF,TI}},1,Array{Union{joLinearFunction{TF,TF}, SparseArrays.SparseMatrixCSC{TF,TI}},1}}}, ::Any, ::Union{Array{Any,1}, DistributedArrays.DArray{Any,1,Array{Any,1}}}, ::Any, ::Any) where {TF<:Real, TI<:Integer} at /root/.julia/packages/SetIntersectionProjection/9Zmrm/src/PARSDMM.jl:25\n  PARSDMM(!Matched::Array{TF,1}, ::Union{Array{Array{TF,2},1}, Array{SparseArrays.SparseMatrixCSC{TF,TI},1}}, ::Union{Array{Union{joLinearFunction{TF,TF}, SparseArrays.SparseMatrixCSC{TF,TI}},1}, DistributedArrays.DArray{Union{joLinearFunction{TF,TF}, SparseArrays.SparseMatrixCSC{TF,TI}},1,Array{Union{joLinearFunction{TF,TF}, SparseArrays.SparseMatrixCSC{TF,TI}},1}}}, ::Any, ::Union{Array{Any,1}, DistributedArrays.DArray{Any,1,Array{Any,1}}}, ::Any, ::Any, !Matched::Any) where {TF<:Real, TI<:Integer} at /root/.julia/packages/SetIntersectionProjection/9Zmrm/src/PARSDMM.jl:25\n  PARSDMM(!Matched::Array{TF,1}, ::Union{Array{Array{TF,2},1}, Array{SparseArrays.SparseMatrixCSC{TF,TI},1}}, ::Union{Array{Union{joLinearFunction{TF,TF}, SparseArrays.SparseMatrixCSC{TF,TI}},1}, DistributedArrays.DArray{Union{joLinearFunction{TF,TF}, SparseArrays.SparseMatrixCSC{TF,TI}},1,Array{Union{joLinearFunction{TF,TF}, SparseArrays.SparseMatrixCSC{TF,TI}},1}}}, ::Any, ::Union{Array{Any,1}, DistributedArrays.DArray{Any,1,Array{Any,1}}}, ::Any, ::Any, !Matched::Any, !Matched::Any) where {TF<:Real, TI<:Integer} at /root/.julia/packages/SetIntersectionProjection/9Zmrm/src/PARSDMM.jl:25\n  ...",
            "",
            "Stacktrace:",
            " [1] (::var\"#1#2\")(::PhysicalParameter{Float32}) at ./In[97]:64",
            " [2] prj(::PhysicalParameter{Float32}) at ./In[97]:68",
            " [3] (::JUDI.SLIM_optim.var\"#objective#13\"{Model,judiVector{Float32},judiVector{Float32},typeof(prj),Model})(::Float32, ::PhysicalParameter{Float32}) at /root/.julia/dev/JUDI/src/Optimization/fwi_linesearch.jl:9",
            " [4] backtracking_linesearch(::Model, ::judiVector{Float32}, ::judiVector{Float32}, ::Float32, ::PhysicalParameter{Float32}, ::typeof(prj); alpha::Float32, tau::Float32, c1::Float32, maxiter::Int64, verbose::Bool) at /root/.julia/dev/JUDI/src/Optimization/fwi_linesearch.jl:18",
            " [5] top-level scope at ./In[97]:84",
            " [6] include_string(::Function, ::Module, ::String, ::String) at ./loading.jl:1091"
          ]
        }
      ]
    },
    {
      "cell_type": "code",
      "metadata": {
        "id": "yiS45uiDLubX",
        "colab": {
          "base_uri": "https://localhost:8080/",
          "height": 249
        },
        "outputId": "1ebd17f5-8a62-4a03-8cb4-7ad50cc0b9c8"
      },
      "source": [
        "figure(); imshow(sqrt.(1f0./adjoint(model0.m))); title(\"FWI with SPG\")"
      ],
      "execution_count": 98,
      "outputs": [
        {
          "output_type": "display_data",
          "data": {
            "image/png": "[encoded data removed]",
            "text/plain": [
              "Figure(PyObject <Figure size 640x480 with 1 Axes>)"
            ]
          },
          "metadata": {
            "tags": []
          }
        },
        {
          "output_type": "execute_result",
          "data": {
            "text/plain": [
              "PyObject Text(0.5, 1.0, 'FWI with SPG')"
            ]
          },
          "metadata": {
            "tags": []
          },
          "execution_count": 98
        }
      ]
    },
    {
      "cell_type": "markdown",
      "metadata": {
        "id": "8MIcJbcBCQAY"
      },
      "source": [
        "### *fwi_example_minConf.jl*"
      ]
    },
    {
      "cell_type": "code",
      "metadata": {
        "id": "AdKDl-SIErJn",
        "colab": {
          "base_uri": "https://localhost:8080/"
        },
        "outputId": "35045ab6-320e-4212-f588-876e38e8cfb5"
      },
      "source": [
        ";cd /root/.julia/dev/JUDI/examples/scripts"
      ],
      "execution_count": 99,
      "outputs": [
        {
          "output_type": "stream",
          "text": [
            "/root/.julia/dev/JUDI/examples/scripts\n"
          ],
          "name": "stdout"
        }
      ]
    },
    {
      "cell_type": "code",
      "metadata": {
        "id": "DjuK5iY4CR1R",
        "colab": {
          "base_uri": "https://localhost:8080/"
        },
        "outputId": "aaba8fa4-b92b-4709-b5e2-435cbec47832"
      },
      "source": [
        "# 2D FWI on Overthrust model with SPG using minConf library\r\n",
        "# Author: Philipp Witte, pwitte@eoas.ubc.ca\r\n",
        "# Date: December 2017\r\n",
        "#\r\n",
        "\r\n",
        "using Statistics, Random, LinearAlgebra, PyPlot\r\n",
        "using JUDI.TimeModeling, JUDI.SLIM_optim, HDF5, SegyIO\r\n",
        "\r\n",
        "# Load starting model\r\n",
        "n,d,o,m0 = read(h5open(\"../../data/overthrust_model.h5\",\"r\"), \"n\", \"d\", \"o\", \"m0\")\r\n",
        "model0 = Model((n[1],n[2]), (d[1],d[2]), (o[1],o[2]), m0)\r\n",
        "\r\n",
        "# Bound constraints\r\n",
        "v0 = sqrt.(1f0 ./ model0.m)\r\n",
        "vmin = ones(Float32,model0.n) .* 1.3f0\r\n",
        "vmax = ones(Float32,model0.n) .* 6.5f0\r\n",
        "vmin[:,1:21] .= v0[:,1:21]   # keep water column fixed\r\n",
        "vmax[:,1:21] .= v0[:,1:21]\r\n",
        "\r\n",
        "# Slowness squared [s^2/km^2]\r\n",
        "mmin = vec((1f0 ./ vmax).^2)\r\n",
        "mmax = vec((1f0 ./ vmin).^2)\r\n",
        "\r\n",
        "# Load data\r\n",
        "block = segy_read(\"../../data/overthrust_shot_records.segy\")\r\n",
        "d_obs = judiVector(block)\r\n",
        "\r\n",
        "# Set up wavelet\r\n",
        "src_geometry = Geometry(block; key=\"source\")\r\n",
        "wavelet = ricker_wavelet(src_geometry.t[1],src_geometry.dt[1],0.008f0)  # 8 Hz wavelet\r\n",
        "q = judiVector(src_geometry,wavelet)"
      ],
      "execution_count": 100,
      "outputs": [
        {
          "output_type": "stream",
          "text": [
            "┌ Warning: Fixed length trace flag set in stream: IOBuffer(data=UInt8[...], readable=true, writable=false, seekable=true, append=false, size=7076688, maxsize=Inf, ptr=3601, mark=-1)\n",
            "└ @ SegyIO /root/.julia/packages/SegyIO/uw4ZW/src/read/read_file.jl:26\n"
          ],
          "name": "stderr"
        },
        {
          "output_type": "execute_result",
          "data": {
            "text/plain": [
              "judiVector{Float32}(\"Seismic data vector\", 8016, 1, 16, GeometryIC(Any[400.0f0, 1013.333f0, 1626.667f0, 2240.0f0, 2853.333f0, 3466.666f0, 4080.0f0, 4693.334f0, 5306.666f0, 5920.0f0, 6533.334f0, 7146.666f0, 7760.0f0, 8373.333f0, 8986.667f0, 9600.0f0], Any[0.0f0, 0.0f0, 0.0f0, 0.0f0, 0.0f0, 0.0f0, 0.0f0, 0.0f0, 0.0f0, 0.0f0, 0.0f0, 0.0f0, 0.0f0, 0.0f0, 0.0f0, 0.0f0], Any[50.0f0, 50.0f0, 50.0f0, 50.0f0, 50.0f0, 50.0f0, 50.0f0, 50.0f0, 50.0f0, 50.0f0, 50.0f0, 50.0f0, 50.0f0, 50.0f0, 50.0f0, 50.0f0], Any[4.0f0, 4.0f0, 4.0f0, 4.0f0, 4.0f0, 4.0f0, 4.0f0, 4.0f0, 4.0f0, 4.0f0, 4.0f0, 4.0f0, 4.0f0, 4.0f0, 4.0f0, 4.0f0], Any[501, 501, 501, 501, 501, 501, 501, 501, 501, 501, 501, 501, 501, 501, 501, 501], Any[2000.0f0, 2000.0f0, 2000.0f0, 2000.0f0, 2000.0f0, 2000.0f0, 2000.0f0, 2000.0f0, 2000.0f0, 2000.0f0, 2000.0f0, 2000.0f0, 2000.0f0, 2000.0f0, 2000.0f0, 2000.0f0]), Array[Float32[-0.00096925104; -0.0016848503; … ; -0.0; -0.0], Float32[-0.00096925104; -0.0016848503; … ; -0.0; -0.0], Float32[-0.00096925104; -0.0016848503; … ; -0.0; -0.0], Float32[-0.00096925104; -0.0016848503; … ; -0.0; -0.0], Float32[-0.00096925104; -0.0016848503; … ; -0.0; -0.0], Float32[-0.00096925104; -0.0016848503; … ; -0.0; -0.0], Float32[-0.00096925104; -0.0016848503; … ; -0.0; -0.0], Float32[-0.00096925104; -0.0016848503; … ; -0.0; -0.0], Float32[-0.00096925104; -0.0016848503; … ; -0.0; -0.0], Float32[-0.00096925104; -0.0016848503; … ; -0.0; -0.0], Float32[-0.00096925104; -0.0016848503; … ; -0.0; -0.0], Float32[-0.00096925104; -0.0016848503; … ; -0.0; -0.0], Float32[-0.00096925104; -0.0016848503; … ; -0.0; -0.0], Float32[-0.00096925104; -0.0016848503; … ; -0.0; -0.0], Float32[-0.00096925104; -0.0016848503; … ; -0.0; -0.0], Float32[-0.00096925104; -0.0016848503; … ; -0.0; -0.0]])"
            ]
          },
          "metadata": {
            "tags": []
          },
          "execution_count": 100
        }
      ]
    },
    {
      "cell_type": "code",
      "metadata": {
        "id": "cGZ-0vrFCZQb",
        "colab": {
          "base_uri": "https://localhost:8080/"
        },
        "outputId": "c7b48cef-e6f7-4232-80ec-a41dcab50553"
      },
      "source": [
        "############################### FWI ###########################################\r\n",
        "\r\n",
        "\r\n",
        "# Optimization parameters\r\n",
        "fevals = 16\r\n",
        "batchsize = 8\r\n",
        "\r\n",
        "# Objective function for minConf library\r\n",
        "count = 0\r\n",
        "function objective_function(x)\r\n",
        "    model0.m .= reshape(x,model0.n);\r\n",
        "\r\n",
        "    # fwi function value and gradient\r\n",
        "    i = randperm(d_obs.nsrc)[1:batchsize]\r\n",
        "    fval, grad = fwi_objective(model0, q[i], d_obs[i])\r\n",
        "    grad = .125f0*grad/maximum(abs.(grad))  # scale for line search\r\n",
        "\r\n",
        "    global count; count+= 1\r\n",
        "    return fval, vec(grad.data)\r\n",
        "end\r\n",
        "\r\n",
        "# Bound projection\r\n",
        "ProjBound(x) = median([mmin x mmax]; dims=2)\r\n",
        "\r\n",
        "# FWI with SPG\r\n",
        "options = spg_options(verbose=3, maxIter=fevals, memory=3)\r\n",
        "sol = minConf_SPG(objective_function, vec(m0), ProjBound, options)"
      ],
      "execution_count": 101,
      "outputs": [
        {
          "output_type": "stream",
          "text": [
            "Operator `forward` run in 0.28 s\n",
            "Operator `gradient` run in 0.30 s\n",
            "Operator `forward` run in 0.28 s\n",
            "Operator `gradient` run in 0.30 s\n",
            "Operator `forward` run in 0.29 s\n",
            "Operator `gradient` run in 0.30 s\n",
            "Operator `forward` run in 0.28 s\n",
            "Operator `gradient` run in 0.30 s\n",
            "Operator `forward` run in 0.28 s\n",
            "Operator `gradient` run in 0.30 s\n",
            "Operator `forward` run in 0.28 s\n",
            "Operator `gradient` run in 0.30 s\n",
            "Operator `forward` run in 0.28 s\n",
            "Operator `gradient` run in 0.30 s\n",
            "Operator `forward` run in 0.28 s\n",
            "Operator `gradient` run in 0.29 s\n",
            "Operator `forward` run in 0.28 s\n",
            "Operator `gradient` run in 0.30 s\n",
            "Operator `forward` run in 0.27 s\n",
            "Operator `gradient` run in 0.29 s\n",
            "Operator `forward` run in 0.27 s\n",
            "Operator `gradient` run in 0.29 s\n",
            "Operator `forward` run in 0.28 s\n",
            "Operator `gradient` run in 0.29 s\n",
            "Operator `forward` run in 0.29 s\n",
            "Operator `gradient` run in 0.31 s\n",
            "Operator `forward` run in 0.28 s\n",
            "Operator `gradient` run in 0.29 s\n",
            "Operator `forward` run in 0.28 s\n",
            "Operator `gradient` run in 0.30 s\n",
            "Operator `forward` run in 0.29 s\n",
            "Operator `gradient` run in 0.30 s\n",
            "Operator `forward` run in 0.29 s\n",
            "Operator `gradient` run in 0.31 s\n",
            "Operator `forward` run in 0.28 s\n",
            "Operator `gradient` run in 0.30 s\n",
            "Operator `forward` run in 0.29 s\n",
            "Operator `gradient` run in 0.32 s\n",
            "Operator `forward` run in 0.28 s\n",
            "Operator `gradient` run in 0.31 s\n",
            "Operator `forward` run in 0.30 s\n",
            "Operator `gradient` run in 0.30 s\n",
            "Operator `forward` run in 0.29 s\n",
            "Operator `gradient` run in 0.30 s\n",
            "Operator `forward` run in 0.28 s\n",
            "Operator `gradient` run in 0.31 s\n",
            "Operator `forward` run in 0.29 s\n",
            "Operator `gradient` run in 0.30 s\n",
            "Operator `forward` run in 0.31 s\n",
            "Operator `gradient` run in 0.33 s\n",
            "Operator `forward` run in 0.32 s\n",
            "Operator `gradient` run in 0.33 s\n",
            "Operator `forward` run in 0.30 s\n",
            "Operator `gradient` run in 0.34 s\n",
            "Operator `forward` run in 0.31 s\n",
            "Operator `gradient` run in 0.34 s\n",
            "Operator `forward` run in 0.31 s\n",
            "Operator `gradient` run in 0.33 s\n",
            "Operator `forward` run in 0.31 s\n",
            "Operator `gradient` run in 0.36 s\n",
            "Operator `forward` run in 0.31 s\n",
            "Operator `gradient` run in 0.33 s\n",
            "Operator `forward` run in 0.30 s\n",
            "Operator `gradient` run in 0.33 s\n",
            "Operator `forward` run in 0.29 s\n",
            "Operator `gradient` run in 0.31 s\n",
            "Operator `forward` run in 0.29 s\n",
            "Operator `gradient` run in 0.31 s\n",
            "Operator `forward` run in 0.29 s\n",
            "Operator `gradient` run in 0.31 s\n",
            "Operator `forward` run in 0.30 s\n",
            "Operator `gradient` run in 0.31 s\n",
            "Operator `forward` run in 0.30 s\n",
            "Operator `gradient` run in 0.31 s\n",
            "Operator `forward` run in 0.29 s\n",
            "Operator `gradient` run in 0.31 s\n",
            "Operator `forward` run in 0.30 s\n",
            "Operator `gradient` run in 0.31 s\n",
            "Operator `forward` run in 0.29 s\n",
            "Operator `gradient` run in 0.31 s\n",
            "Operator `forward` run in 0.30 s\n",
            "Operator `gradient` run in 0.32 s\n",
            "Operator `forward` run in 0.29 s\n",
            "Operator `gradient` run in 0.30 s\n",
            "Operator `forward` run in 0.29 s\n",
            "Operator `gradient` run in 0.31 s\n",
            "Operator `forward` run in 0.30 s\n",
            "Operator `gradient` run in 0.32 s\n",
            "Operator `forward` run in 0.30 s\n",
            "Operator `gradient` run in 0.31 s\n",
            "Operator `forward` run in 0.29 s\n",
            "Operator `gradient` run in 0.33 s\n",
            "Operator `forward` run in 0.29 s\n",
            "Operator `gradient` run in 0.31 s\n",
            "Operator `forward` run in 0.29 s\n",
            "Operator `gradient` run in 0.31 s\n",
            "Operator `forward` run in 0.30 s\n",
            "Operator `gradient` run in 0.31 s\n",
            "Operator `forward` run in 0.29 s\n",
            "Operator `gradient` run in 0.32 s\n",
            "Operator `forward` run in 0.29 s\n",
            "Operator `gradient` run in 0.31 s\n",
            "Operator `forward` run in 0.30 s\n",
            "Operator `gradient` run in 0.31 s\n",
            "Operator `forward` run in 0.30 s\n",
            "Operator `gradient` run in 0.31 s\n",
            "Operator `forward` run in 0.29 s\n",
            "Operator `gradient` run in 0.32 s\n",
            "Operator `forward` run in 0.30 s\n",
            "Operator `gradient` run in 0.31 s\n",
            "Operator `forward` run in 0.31 s\n",
            "Operator `gradient` run in 0.31 s\n",
            "Operator `forward` run in 0.29 s\n",
            "Operator `gradient` run in 0.32 s\n",
            "Operator `forward` run in 0.31 s\n",
            "Operator `gradient` run in 0.32 s\n",
            "Operator `forward` run in 0.30 s\n",
            "Operator `gradient` run in 0.32 s\n",
            "Operator `forward` run in 0.30 s\n",
            "Operator `gradient` run in 0.32 s\n",
            "Operator `forward` run in 0.30 s\n",
            "Operator `gradient` run in 0.32 s\n",
            "Operator `forward` run in 0.31 s\n",
            "Operator `gradient` run in 0.33 s\n",
            "Operator `forward` run in 0.30 s\n",
            "Operator `gradient` run in 0.32 s\n",
            "Operator `forward` run in 0.30 s\n",
            "Operator `gradient` run in 0.31 s\n",
            "Operator `forward` run in 0.30 s\n",
            "Operator `gradient` run in 0.31 s\n",
            "Operator `forward` run in 0.29 s\n",
            "Operator `gradient` run in 0.32 s\n",
            "Operator `forward` run in 0.30 s\n",
            "Operator `gradient` run in 0.31 s\n",
            "Operator `forward` run in 0.29 s\n",
            "Operator `gradient` run in 0.31 s\n",
            "Operator `forward` run in 0.29 s\n",
            "Operator `gradient` run in 0.31 s\n",
            "Operator `forward` run in 0.29 s\n",
            "Operator `gradient` run in 0.31 s\n",
            "Operator `forward` run in 0.31 s\n",
            "Operator `gradient` run in 0.33 s\n",
            "Operator `forward` run in 0.30 s\n",
            "Operator `gradient` run in 0.32 s\n",
            "Operator `forward` run in 0.30 s\n",
            "Operator `gradient` run in 0.31 s\n",
            "Operator `forward` run in 0.30 s\n",
            "Operator `gradient` run in 0.32 s\n",
            "Operator `forward` run in 0.30 s\n",
            "Operator `gradient` run in 0.31 s\n",
            "Operator `forward` run in 0.30 s\n",
            "Operator `gradient` run in 0.32 s\n",
            "Operator `forward` run in 0.29 s\n",
            "Operator `gradient` run in 0.31 s\n",
            "Operator `forward` run in 0.30 s\n",
            "Operator `gradient` run in 0.32 s\n",
            "Operator `forward` run in 0.29 s\n",
            "Operator `gradient` run in 0.31 s\n",
            "Operator `forward` run in 0.29 s\n",
            "Operator `gradient` run in 0.31 s\n",
            "Operator `forward` run in 0.31 s\n",
            "Operator `gradient` run in 0.32 s\n",
            "Operator `forward` run in 0.30 s\n",
            "Operator `gradient` run in 0.32 s\n",
            "Operator `forward` run in 0.30 s\n",
            "Operator `gradient` run in 0.32 s\n",
            "Operator `forward` run in 0.29 s\n",
            "Operator `gradient` run in 0.32 s\n",
            "Operator `forward` run in 0.29 s\n",
            "Operator `gradient` run in 0.31 s\n",
            "Operator `forward` run in 0.29 s\n",
            "Operator `gradient` run in 0.32 s\n",
            "Operator `forward` run in 0.30 s\n",
            "Operator `gradient` run in 0.31 s\n",
            "Operator `forward` run in 0.29 s\n",
            "Operator `gradient` run in 0.32 s\n",
            "Operator `forward` run in 0.29 s\n",
            "Operator `gradient` run in 0.33 s\n",
            "Operator `forward` run in 0.29 s\n",
            "Operator `gradient` run in 0.32 s\n",
            "Operator `forward` run in 0.30 s\n",
            "Operator `gradient` run in 0.32 s\n",
            "Operator `forward` run in 0.30 s\n",
            "Operator `gradient` run in 0.31 s\n",
            "Operator `forward` run in 0.30 s\n",
            "Operator `gradient` run in 0.32 s\n",
            "Operator `forward` run in 0.30 s\n",
            "Operator `gradient` run in 0.31 s\n",
            "Operator `forward` run in 0.29 s\n",
            "Operator `gradient` run in 0.31 s\n",
            "Operator `forward` run in 0.29 s\n",
            "Operator `gradient` run in 0.32 s\n",
            "Operator `forward` run in 0.29 s\n",
            "Operator `gradient` run in 0.32 s\n",
            "Operator `forward` run in 0.30 s\n",
            "Operator `gradient` run in 0.32 s\n",
            "Operator `forward` run in 0.29 s\n",
            "Operator `gradient` run in 0.32 s\n",
            "Operator `forward` run in 0.31 s\n",
            "Operator `gradient` run in 0.32 s\n",
            "Operator `forward` run in 0.30 s\n",
            "Operator `gradient` run in 0.32 s\n",
            "Operator `forward` run in 0.30 s\n",
            "Operator `gradient` run in 0.31 s\n",
            "Operator `forward` run in 0.30 s\n",
            "Operator `gradient` run in 0.31 s\n",
            "Operator `forward` run in 0.30 s\n",
            "Operator `gradient` run in 0.32 s\n",
            "Operator `forward` run in 0.30 s\n",
            "Operator `gradient` run in 0.32 s\n",
            "Operator `forward` run in 0.30 s\n",
            "Operator `gradient` run in 0.32 s\n",
            "Operator `forward` run in 0.29 s\n",
            "Operator `gradient` run in 0.32 s\n",
            "Operator `forward` run in 0.30 s\n",
            "Operator `gradient` run in 0.32 s\n",
            "Operator `forward` run in 0.31 s\n",
            "Operator `gradient` run in 0.32 s\n",
            "Operator `forward` run in 0.29 s\n",
            "Operator `gradient` run in 0.31 s\n",
            "Operator `forward` run in 0.30 s\n",
            "Operator `gradient` run in 0.32 s\n",
            "Operator `forward` run in 0.30 s\n",
            "Operator `gradient` run in 0.32 s\n",
            "Operator `forward` run in 0.29 s\n",
            "Operator `gradient` run in 0.31 s\n",
            "Operator `forward` run in 0.29 s\n",
            "Operator `gradient` run in 0.32 s\n",
            "Operator `forward` run in 0.30 s\n",
            "Operator `gradient` run in 0.32 s\n",
            "Operator `forward` run in 0.30 s\n",
            "Operator `gradient` run in 0.32 s\n",
            "Operator `forward` run in 0.30 s\n",
            "Operator `gradient` run in 0.32 s\n",
            "Operator `forward` run in 0.30 s\n",
            "Operator `gradient` run in 0.32 s\n",
            "Operator `forward` run in 0.31 s\n",
            "Operator `gradient` run in 0.31 s\n",
            "Operator `forward` run in 0.29 s\n",
            "Operator `gradient` run in 0.32 s\n",
            "Operator `forward` run in 0.31 s\n",
            "Operator `gradient` run in 0.32 s\n",
            "Operator `forward` run in 0.30 s\n",
            "Operator `gradient` run in 0.32 s\n",
            "Operator `forward` run in 0.30 s\n",
            "Operator `gradient` run in 0.32 s\n",
            "Operator `forward` run in 0.30 s\n",
            "Operator `gradient` run in 0.32 s\n",
            "Operator `forward` run in 0.31 s\n",
            "Operator `gradient` run in 0.32 s\n",
            "Operator `forward` run in 0.30 s\n",
            "Operator `gradient` run in 0.32 s\n",
            "Operator `forward` run in 0.30 s\n",
            "Operator `gradient` run in 0.33 s\n",
            "Operator `forward` run in 0.30 s\n",
            "Operator `gradient` run in 0.32 s\n",
            "Operator `forward` run in 0.30 s\n",
            "Operator `gradient` run in 0.32 s\n",
            "Operator `forward` run in 0.30 s\n",
            "Operator `gradient` run in 0.32 s\n",
            "Operator `forward` run in 0.29 s\n",
            "Operator `gradient` run in 0.32 s\n",
            "Operator `forward` run in 0.30 s\n",
            "Operator `gradient` run in 0.31 s\n",
            "Operator `forward` run in 0.30 s\n",
            "Operator `gradient` run in 0.32 s\n",
            "Operator `forward` run in 0.30 s\n",
            "Operator `gradient` run in 0.32 s\n",
            "Operator `forward` run in 0.30 s\n",
            "Operator `gradient` run in 0.32 s\n",
            "Operator `forward` run in 0.30 s\n",
            "Operator `gradient` run in 0.31 s\n",
            "Operator `forward` run in 0.31 s\n",
            "Operator `gradient` run in 0.31 s\n",
            "Operator `forward` run in 0.30 s\n",
            "Operator `gradient` run in 0.31 s\n",
            "Operator `forward` run in 0.30 s\n",
            "Operator `gradient` run in 0.32 s\n",
            "Operator `forward` run in 0.30 s\n",
            "Operator `gradient` run in 0.31 s\n",
            "Operator `forward` run in 0.29 s\n",
            "Operator `gradient` run in 0.32 s\n",
            "Operator `forward` run in 0.30 s\n",
            "Operator `gradient` run in 0.32 s\n",
            "Operator `forward` run in 0.31 s\n",
            "Operator `gradient` run in 0.32 s\n",
            "Operator `forward` run in 0.30 s\n",
            "Operator `gradient` run in 0.31 s\n",
            "Operator `forward` run in 0.31 s\n",
            "Operator `gradient` run in 0.32 s\n",
            "Operator `forward` run in 0.30 s\n",
            "Operator `gradient` run in 0.31 s\n",
            "Operator `forward` run in 0.29 s\n",
            "Operator `gradient` run in 0.31 s\n",
            "Operator `forward` run in 0.30 s\n",
            "Operator `gradient` run in 0.33 s\n",
            "Operator `forward` run in 0.31 s\n",
            "Operator `gradient` run in 0.32 s\n",
            "Operator `forward` run in 0.30 s\n",
            "Operator `gradient` run in 0.32 s\n",
            "Operator `forward` run in 0.30 s\n",
            "Operator `gradient` run in 0.32 s\n",
            "Operator `forward` run in 0.30 s\n",
            "Operator `gradient` run in 0.32 s\n",
            "Operator `forward` run in 0.31 s\n",
            "Operator `gradient` run in 0.32 s\n",
            "Operator `forward` run in 0.29 s\n",
            "Operator `gradient` run in 0.31 s\n",
            "Operator `forward` run in 0.30 s\n",
            "Operator `gradient` run in 0.32 s\n",
            "Operator `forward` run in 0.30 s\n",
            "Operator `gradient` run in 0.33 s\n",
            "Operator `forward` run in 0.30 s\n",
            "Operator `gradient` run in 0.32 s\n",
            "Operator `forward` run in 0.30 s\n",
            "Operator `gradient` run in 0.32 s\n",
            "Operator `forward` run in 0.30 s\n",
            "Operator `gradient` run in 0.31 s\n",
            "Operator `forward` run in 0.29 s\n",
            "Operator `gradient` run in 0.31 s\n"
          ],
          "name": "stderr"
        },
        {
          "output_type": "stream",
          "text": [
            "Running SPG...\n",
            "Number of objective function to store: 3\n",
            "Using  spectral projection : true\n",
            "Maximum number of iterations: 16\n",
            "SPG optimality tolerance: 1.00e-05\n",
            "SPG progress tolerance: 1.00e-07\n",
            " Iteration   FunEvals Projections     Step Length           alpha    Function Val        Opt Cond\n",
            "         0          0          0     0.00000e+00     0.00000e+00     2.87904e+05     3.49599e-02\n",
            "         1          2          4     1.00000e+00     3.55556e-01     2.08360e+05     1.95634e-02\n",
            "         2          3          7     1.00000e+00     9.21073e-01     1.41434e+05     2.99346e-02\n",
            "         3          4         10     1.00000e+00     1.08244e+00     1.93614e+05     9.80060e-02\n",
            "Halving Step Size\n",
            "         4          6         13     5.00000e-01     3.90818e-01     9.32250e+04     7.36949e-02\n",
            "         5          7         16     1.00000e+00     1.32007e-01     7.33901e+04     2.34476e-02\n",
            "         6          8         19     1.00000e+00     1.20422e-01     7.83669e+04     1.79997e-02\n",
            "         7          9         22     1.00000e+00     2.00525e-01     7.28003e+04     1.78087e-02\n",
            "         8         10         25     1.00000e+00     3.92797e-01     6.05711e+04     2.94436e-02\n",
            "Halving Step Size\n",
            "         9         12         28     5.00000e-01     8.64557e-01     7.75986e+04     6.60410e-02\n",
            "        10         13         31     1.00000e+00     1.92350e-01     6.67847e+04     5.68632e-02\n",
            "        11         14         34     1.00000e+00     1.11468e-01     4.46192e+04     1.48679e-02\n",
            "        12         15         37     1.00000e+00     1.04573e-01     4.01237e+04     1.94160e-02\n",
            "Halving Step Size\n",
            "        13         17         40     5.00000e-01     1.00000e+00     5.00288e+04     4.47117e-02\n",
            "Halving Step Size\n",
            "        14         19         43     5.00000e-01     2.42386e-01     3.38924e+04     1.32996e-02\n",
            "        15         20         46     1.00000e+00     1.06568e-01     3.34473e+04     1.49156e-02\n",
            "        16         21         49     1.00000e+00     1.84518e-01     2.91879e+04     1.06172e-02\n"
          ],
          "name": "stdout"
        },
        {
          "output_type": "stream",
          "text": [
            "Operator `forward` run in 0.31 s\n",
            "Operator `gradient` run in 0.31 s\n",
            "Operator `forward` run in 0.30 s\n",
            "Operator `gradient` run in 0.32 s\n",
            "Operator `forward` run in 0.30 s\n",
            "Operator `gradient` run in 0.32 s\n",
            "Operator `forward` run in 0.30 s\n",
            "Operator `gradient` run in 0.32 s\n",
            "Operator `forward` run in 0.30 s\n",
            "Operator `gradient` run in 0.32 s\n",
            "Operator `forward` run in 0.30 s\n",
            "Operator `gradient` run in 0.32 s\n",
            "Operator `forward` run in 0.30 s\n",
            "Operator `gradient` run in 0.33 s\n",
            "Operator `forward` run in 0.30 s\n",
            "Operator `gradient` run in 0.32 s\n"
          ],
          "name": "stderr"
        },
        {
          "output_type": "execute_result",
          "data": {
            "text/plain": [
              "result(Float32[0.44444448, 0.44444448, 0.44444448, 0.44444448, 0.44444448, 0.44444448, 0.44444448, 0.44444448, 0.44444448, 0.44444448  …  0.05409655, 0.054010738, 0.053854913, 0.053645812, 0.053406127, 0.053158734, 0.052922808, 0.052712373, 0.05253719, 0.052404925], Float32[-0.00032389208, -0.0002225157, -0.00043912168, -0.0005098362, -2.4486857f-5, 0.0003574867, 0.0003011528, 0.00045656614, 0.00083083747, 0.00045590271  …  -6.4294923f-6, -2.246457f-5, -3.285831f-5, -3.7418715f-5, -3.6990434f-5, -3.3027325f-5, -2.713448f-5, -2.0711f-5, -1.4754901f-5, -9.8227365f-6], 29187.926f0, Any[287904.25f0, 208360.27f0, 141433.81f0, 193613.69f0, 93225.0f0, 73390.11f0, 78366.89f0, 72800.266f0, 60571.11f0, 77598.625f0, 66784.68f0, 44619.176f0, 40123.707f0, 50028.83f0, 33892.445f0, 33447.293f0, 29187.926f0], Any[], 49, 21)"
            ]
          },
          "metadata": {
            "tags": []
          },
          "execution_count": 101
        }
      ]
    },
    {
      "cell_type": "code",
      "metadata": {
        "id": "0p5GsSlwCbdu",
        "colab": {
          "base_uri": "https://localhost:8080/",
          "height": 251
        },
        "outputId": "e3e78aba-b772-4842-8acf-99fef0c5c189"
      },
      "source": [
        "# Plot result\r\n",
        "imshow(reshape(sqrt.(1f0 ./ sol.sol), model0.n)', extent=[0, 10, 3, 0])\r\n",
        "xlabel(\"Lateral position [km]\")\r\n",
        "ylabel(\"Depth [km]\")"
      ],
      "execution_count": 102,
      "outputs": [
        {
          "output_type": "display_data",
          "data": {
            "image/png": "[encoded data removed]",
            "text/plain": [
              "Figure(PyObject <Figure size 640x480 with 1 Axes>)"
            ]
          },
          "metadata": {
            "tags": []
          }
        },
        {
          "output_type": "execute_result",
          "data": {
            "text/plain": [
              "PyObject Text(24.000000000000007, 0.5, 'Depth [km]')"
            ]
          },
          "metadata": {
            "tags": []
          },
          "execution_count": 102
        }
      ]
    },
    {
      "cell_type": "markdown",
      "metadata": {
        "id": "xpp_c6jpLMMc"
      },
      "source": [
        "### *fwi_gauss_newton.jl*"
      ]
    },
    {
      "cell_type": "code",
      "metadata": {
        "id": "shEAyBRNLawH",
        "colab": {
          "base_uri": "https://localhost:8080/"
        },
        "outputId": "336b50b9-c3b8-44f8-8b36-51ceaa609e01"
      },
      "source": [
        ";cd /root/.julia/dev/JUDI/examples/scripts"
      ],
      "execution_count": 103,
      "outputs": [
        {
          "output_type": "stream",
          "text": [
            "/root/.julia/dev/JUDI/examples/scripts\n"
          ],
          "name": "stdout"
        }
      ]
    },
    {
      "cell_type": "code",
      "metadata": {
        "id": "HIc5yfpVLbTi",
        "colab": {
          "base_uri": "https://localhost:8080/"
        },
        "outputId": "7792a4f3-f384-4d9f-b259-c906e34d18af"
      },
      "source": [
        "# FWI on Overthrust model using minConf library\r\n",
        "# Author: Philipp Witte, pwitte@eoas.ubc.ca\r\n",
        "# Date: December 2017\r\n",
        "#\r\n",
        "\r\n",
        "using Statistics, Random, LinearAlgebra\r\n",
        "using JUDI.TimeModeling, JUDI.SLIM_optim, HDF5, SegyIO, PyPlot, IterativeSolvers\r\n",
        "\r\n",
        "# Load starting model\r\n",
        "n,d,o,m0 = read(h5open(\"../../data/overthrust_model.h5\",\"r\"), \"n\", \"d\", \"o\", \"m0\")\r\n",
        "model0 = Model((n[1],n[2]), (d[1],d[2]), (o[1],o[2]), m0)\r\n",
        "\r\n",
        "# Bound constraints\r\n",
        "v0 = sqrt.(1 ./ model0.m)\r\n",
        "vmin = ones(Float32,model0.n) .* 1.3f0\r\n",
        "vmax = ones(Float32,model0.n) .* 6.5f0\r\n",
        "vmin[:,1:21] .= v0[:,1:21]   # keep water column fixed\r\n",
        "vmax[:,1:21] .= v0[:,1:21]\r\n",
        "\r\n",
        "# Slowness squared [s^2/km^2]\r\n",
        "mmin = vec((1f0 ./ vmax).^2)\r\n",
        "mmax = vec((1f0 ./ vmin).^2)\r\n",
        "\r\n",
        "# Load data\r\n",
        "block = segy_read(\"../../data/overthrust_shot_records.segy\")\r\n",
        "d_obs = judiVector(block)\r\n",
        "\r\n",
        "# Set up wavelet\r\n",
        "src_geometry = Geometry(block; key=\"source\")\r\n",
        "wavelet = ricker_wavelet(src_geometry.t[1],src_geometry.dt[1],0.008f0)  # 8 Hz wavelet\r\n",
        "q = judiVector(src_geometry,wavelet)"
      ],
      "execution_count": 104,
      "outputs": [
        {
          "output_type": "stream",
          "text": [
            "┌ Warning: Fixed length trace flag set in stream: IOBuffer(data=UInt8[...], readable=true, writable=false, seekable=true, append=false, size=7076688, maxsize=Inf, ptr=3601, mark=-1)\n",
            "└ @ SegyIO /root/.julia/packages/SegyIO/uw4ZW/src/read/read_file.jl:26\n"
          ],
          "name": "stderr"
        },
        {
          "output_type": "execute_result",
          "data": {
            "text/plain": [
              "judiVector{Float32}(\"Seismic data vector\", 8016, 1, 16, GeometryIC(Any[400.0f0, 1013.333f0, 1626.667f0, 2240.0f0, 2853.333f0, 3466.666f0, 4080.0f0, 4693.334f0, 5306.666f0, 5920.0f0, 6533.334f0, 7146.666f0, 7760.0f0, 8373.333f0, 8986.667f0, 9600.0f0], Any[0.0f0, 0.0f0, 0.0f0, 0.0f0, 0.0f0, 0.0f0, 0.0f0, 0.0f0, 0.0f0, 0.0f0, 0.0f0, 0.0f0, 0.0f0, 0.0f0, 0.0f0, 0.0f0], Any[50.0f0, 50.0f0, 50.0f0, 50.0f0, 50.0f0, 50.0f0, 50.0f0, 50.0f0, 50.0f0, 50.0f0, 50.0f0, 50.0f0, 50.0f0, 50.0f0, 50.0f0, 50.0f0], Any[4.0f0, 4.0f0, 4.0f0, 4.0f0, 4.0f0, 4.0f0, 4.0f0, 4.0f0, 4.0f0, 4.0f0, 4.0f0, 4.0f0, 4.0f0, 4.0f0, 4.0f0, 4.0f0], Any[501, 501, 501, 501, 501, 501, 501, 501, 501, 501, 501, 501, 501, 501, 501, 501], Any[2000.0f0, 2000.0f0, 2000.0f0, 2000.0f0, 2000.0f0, 2000.0f0, 2000.0f0, 2000.0f0, 2000.0f0, 2000.0f0, 2000.0f0, 2000.0f0, 2000.0f0, 2000.0f0, 2000.0f0, 2000.0f0]), Array[Float32[-0.00096925104; -0.0016848503; … ; -0.0; -0.0], Float32[-0.00096925104; -0.0016848503; … ; -0.0; -0.0], Float32[-0.00096925104; -0.0016848503; … ; -0.0; -0.0], Float32[-0.00096925104; -0.0016848503; … ; -0.0; -0.0], Float32[-0.00096925104; -0.0016848503; … ; -0.0; -0.0], Float32[-0.00096925104; -0.0016848503; … ; -0.0; -0.0], Float32[-0.00096925104; -0.0016848503; … ; -0.0; -0.0], Float32[-0.00096925104; -0.0016848503; … ; -0.0; -0.0], Float32[-0.00096925104; -0.0016848503; … ; -0.0; -0.0], Float32[-0.00096925104; -0.0016848503; … ; -0.0; -0.0], Float32[-0.00096925104; -0.0016848503; … ; -0.0; -0.0], Float32[-0.00096925104; -0.0016848503; … ; -0.0; -0.0], Float32[-0.00096925104; -0.0016848503; … ; -0.0; -0.0], Float32[-0.00096925104; -0.0016848503; … ; -0.0; -0.0], Float32[-0.00096925104; -0.0016848503; … ; -0.0; -0.0], Float32[-0.00096925104; -0.0016848503; … ; -0.0; -0.0]])"
            ]
          },
          "metadata": {
            "tags": []
          },
          "execution_count": 104
        }
      ]
    },
    {
      "cell_type": "code",
      "metadata": {
        "id": "hNl8zCPdLhx5",
        "colab": {
          "base_uri": "https://localhost:8080/",
          "height": 1000
        },
        "outputId": "d6817795-a4ac-4db9-e958-d9e2cb208a06"
      },
      "source": [
        "############################### FWI ###########################################\r\n",
        "\r\n",
        "# Set up operators\r\n",
        "ntComp = get_computational_nt(q.geometry,d_obs.geometry,model0) # no. of computational time steps\r\n",
        "info = Info(prod(model0.n),d_obs.nsrc,ntComp)\r\n",
        "Pr = judiProjection(info,d_obs.geometry)\r\n",
        "Ps = judiProjection(info,q.geometry)\r\n",
        "F = judiModeling(info,model0)\r\n",
        "J = judiJacobian(Pr*F*Ps',q)\r\n",
        "\r\n",
        "# Optimization parameters\r\n",
        "maxiter = 10\r\n",
        "maxiter_GN = 5\r\n",
        "fhistory_GN = zeros(Float32,maxiter)\r\n",
        "proj(x) = reshape(median([vec(mmin) vec(x) vec(mmax)],2),model0.n)\r\n",
        "\r\n",
        "# Gauss-Newton method\r\n",
        "for j=1:maxiter\r\n",
        "    println(\"Iteration: \",j)\r\n",
        "\r\n",
        "    # # Model predicted data for subset of sources\r\n",
        "    d_pred = Pr*F*Ps'*q\r\n",
        "    fhistory_GN[j] = .5f0*norm(d_pred - d_obs)^2\r\n",
        "\r\n",
        "    # GN update direction\r\n",
        "    p = lsqr(J, d_pred - d_obs; maxiter=maxiter_GN, verbose=true)\r\n",
        "\r\n",
        "    # update model and bound constraints\r\n",
        "    model0.m = proj(model0.m - reshape(p, model0.n))  # alpha=1\r\n",
        "end"
      ],
      "execution_count": 105,
      "outputs": [
        {
          "output_type": "stream",
          "text": [
            "Iteration: 1\n",
            "=== lsqr ===\n",
            "iter\tresnorm\t\t  anorm\t\t  cnorm\t\t  rnorm\n",
            "  1\t9.10e+02\t5.37e-01\t1.22e-01\t8.73e-01\n",
            "  2\t8.09e+02\t2.00e-01\t1.60e-02\t7.77e-01\n",
            "  3\t7.61e+02\t1.78e-01\t8.10e-03\t7.31e-01\n",
            "  4\t7.13e+02\t8.97e-02\t5.20e-03\t6.84e-01\n",
            "  5\t6.99e+02\t6.78e-02\t3.92e-03\t6.71e-01\n",
            "\n"
          ],
          "name": "stdout"
        },
        {
          "output_type": "stream",
          "text": [
            "Operator `forward` run in 0.19 s\n",
            "Operator `forward` run in 0.18 s\n",
            "Operator `forward` run in 0.18 s\n",
            "Operator `forward` run in 0.18 s\n",
            "Operator `forward` run in 0.18 s\n",
            "Operator `forward` run in 0.18 s\n",
            "Operator `forward` run in 0.18 s\n",
            "Operator `forward` run in 0.18 s\n",
            "Operator `forward` run in 0.19 s\n",
            "Operator `forward` run in 0.18 s\n",
            "Operator `forward` run in 0.18 s\n",
            "Operator `forward` run in 0.18 s\n",
            "Operator `forward` run in 0.18 s\n",
            "Operator `forward` run in 0.18 s\n",
            "Operator `forward` run in 0.18 s\n",
            "Operator `forward` run in 0.19 s\n",
            "Operator `forward` run in 0.28 s\n",
            "Operator `gradient` run in 0.30 s\n",
            "Operator `forward` run in 0.28 s\n",
            "Operator `gradient` run in 0.30 s\n",
            "Operator `forward` run in 0.28 s\n",
            "Operator `gradient` run in 0.30 s\n",
            "Operator `forward` run in 0.28 s\n",
            "Operator `gradient` run in 0.29 s\n",
            "Operator `forward` run in 0.28 s\n",
            "Operator `gradient` run in 0.29 s\n",
            "Operator `forward` run in 0.27 s\n",
            "Operator `gradient` run in 0.30 s\n",
            "Operator `forward` run in 0.28 s\n",
            "Operator `gradient` run in 0.30 s\n",
            "Operator `forward` run in 0.28 s\n",
            "Operator `gradient` run in 0.30 s\n",
            "Operator `forward` run in 0.28 s\n",
            "Operator `gradient` run in 0.30 s\n",
            "Operator `forward` run in 0.28 s\n",
            "Operator `gradient` run in 0.30 s\n",
            "Operator `forward` run in 0.29 s\n",
            "Operator `gradient` run in 0.30 s\n",
            "Operator `forward` run in 0.28 s\n",
            "Operator `gradient` run in 0.29 s\n",
            "Operator `forward` run in 0.28 s\n",
            "Operator `gradient` run in 0.30 s\n",
            "Operator `forward` run in 0.28 s\n",
            "Operator `gradient` run in 0.30 s\n",
            "Operator `forward` run in 0.29 s\n",
            "Operator `gradient` run in 0.29 s\n",
            "Operator `forward` run in 0.27 s\n",
            "Operator `gradient` run in 0.30 s\n",
            "Operator `born` run in 0.42 s\n",
            "Operator `born` run in 0.41 s\n",
            "Operator `born` run in 0.41 s\n",
            "Operator `born` run in 0.41 s\n",
            "Operator `born` run in 0.41 s\n",
            "Operator `born` run in 0.41 s\n",
            "Operator `born` run in 0.42 s\n",
            "Operator `born` run in 0.40 s\n",
            "Operator `born` run in 0.41 s\n",
            "Operator `born` run in 0.41 s\n",
            "Operator `born` run in 0.42 s\n",
            "Operator `born` run in 0.43 s\n",
            "Operator `born` run in 0.43 s\n",
            "Operator `born` run in 0.41 s\n",
            "Operator `born` run in 0.42 s\n",
            "Operator `born` run in 0.42 s\n",
            "Operator `forward` run in 0.28 s\n",
            "Operator `gradient` run in 0.30 s\n",
            "Operator `forward` run in 0.29 s\n",
            "Operator `gradient` run in 0.30 s\n",
            "Operator `forward` run in 0.28 s\n",
            "Operator `gradient` run in 0.30 s\n",
            "Operator `forward` run in 0.28 s\n",
            "Operator `gradient` run in 0.29 s\n",
            "Operator `forward` run in 0.28 s\n",
            "Operator `gradient` run in 0.29 s\n",
            "Operator `forward` run in 0.28 s\n",
            "Operator `gradient` run in 0.29 s\n",
            "Operator `forward` run in 0.27 s\n",
            "Operator `gradient` run in 0.30 s\n",
            "Operator `forward` run in 0.30 s\n",
            "Operator `gradient` run in 0.30 s\n",
            "Operator `forward` run in 0.28 s\n",
            "Operator `gradient` run in 0.30 s\n",
            "Operator `forward` run in 0.28 s\n",
            "Operator `gradient` run in 0.30 s\n",
            "Operator `forward` run in 0.29 s\n",
            "Operator `gradient` run in 0.30 s\n",
            "Operator `forward` run in 0.28 s\n",
            "Operator `gradient` run in 0.30 s\n",
            "Operator `forward` run in 0.28 s\n",
            "Operator `gradient` run in 0.29 s\n",
            "Operator `forward` run in 0.28 s\n",
            "Operator `gradient` run in 0.30 s\n",
            "Operator `forward` run in 0.28 s\n",
            "Operator `gradient` run in 0.29 s\n",
            "Operator `forward` run in 0.28 s\n",
            "Operator `gradient` run in 0.30 s\n",
            "Operator `born` run in 0.42 s\n",
            "Operator `born` run in 0.41 s\n",
            "Operator `born` run in 0.43 s\n",
            "Operator `born` run in 0.41 s\n",
            "Operator `born` run in 0.42 s\n",
            "Operator `born` run in 0.41 s\n",
            "Operator `born` run in 0.42 s\n",
            "Operator `born` run in 0.42 s\n",
            "Operator `born` run in 0.42 s\n",
            "Operator `born` run in 0.43 s\n",
            "Operator `born` run in 0.42 s\n",
            "Operator `born` run in 0.41 s\n",
            "Operator `born` run in 0.42 s\n",
            "Operator `born` run in 0.41 s\n",
            "Operator `born` run in 0.43 s\n",
            "Operator `born` run in 0.44 s\n",
            "Operator `forward` run in 0.29 s\n",
            "Operator `gradient` run in 0.31 s\n",
            "Operator `forward` run in 0.29 s\n",
            "Operator `gradient` run in 0.30 s\n",
            "Operator `forward` run in 0.29 s\n",
            "Operator `gradient` run in 0.30 s\n",
            "Operator `forward` run in 0.29 s\n",
            "Operator `gradient` run in 0.30 s\n",
            "Operator `forward` run in 0.29 s\n",
            "Operator `gradient` run in 0.30 s\n",
            "Operator `forward` run in 0.28 s\n",
            "Operator `gradient` run in 0.30 s\n",
            "Operator `forward` run in 0.28 s\n",
            "Operator `gradient` run in 0.30 s\n",
            "Operator `forward` run in 0.30 s\n",
            "Operator `gradient` run in 0.31 s\n",
            "Operator `forward` run in 0.29 s\n",
            "Operator `gradient` run in 0.30 s\n",
            "Operator `forward` run in 0.29 s\n",
            "Operator `gradient` run in 0.29 s\n",
            "Operator `forward` run in 0.28 s\n",
            "Operator `gradient` run in 0.30 s\n",
            "Operator `forward` run in 0.28 s\n",
            "Operator `gradient` run in 0.29 s\n",
            "Operator `forward` run in 0.28 s\n",
            "Operator `gradient` run in 0.30 s\n",
            "Operator `forward` run in 0.28 s\n",
            "Operator `gradient` run in 0.30 s\n",
            "Operator `forward` run in 0.28 s\n",
            "Operator `gradient` run in 0.31 s\n",
            "Operator `forward` run in 0.29 s\n",
            "Operator `gradient` run in 0.29 s\n",
            "Operator `born` run in 0.41 s\n",
            "Operator `born` run in 0.41 s\n",
            "Operator `born` run in 0.42 s\n",
            "Operator `born` run in 0.42 s\n",
            "Operator `born` run in 0.42 s\n",
            "Operator `born` run in 0.42 s\n",
            "Operator `born` run in 0.42 s\n",
            "Operator `born` run in 0.40 s\n",
            "Operator `born` run in 0.43 s\n",
            "Operator `born` run in 0.43 s\n",
            "Operator `born` run in 0.42 s\n",
            "Operator `born` run in 0.42 s\n",
            "Operator `born` run in 0.41 s\n",
            "Operator `born` run in 0.42 s\n",
            "Operator `born` run in 0.42 s\n",
            "Operator `born` run in 0.42 s\n",
            "Operator `forward` run in 0.29 s\n",
            "Operator `gradient` run in 0.30 s\n",
            "Operator `forward` run in 0.28 s\n",
            "Operator `gradient` run in 0.30 s\n",
            "Operator `forward` run in 0.28 s\n",
            "Operator `gradient` run in 0.29 s\n",
            "Operator `forward` run in 0.28 s\n",
            "Operator `gradient` run in 0.30 s\n",
            "Operator `forward` run in 0.29 s\n",
            "Operator `gradient` run in 0.30 s\n",
            "Operator `forward` run in 0.28 s\n",
            "Operator `gradient` run in 0.29 s\n",
            "Operator `forward` run in 0.28 s\n",
            "Operator `gradient` run in 0.30 s\n",
            "Operator `forward` run in 0.28 s\n",
            "Operator `gradient` run in 0.29 s\n",
            "Operator `forward` run in 0.27 s\n",
            "Operator `gradient` run in 0.29 s\n",
            "Operator `forward` run in 0.27 s\n",
            "Operator `gradient` run in 0.30 s\n",
            "Operator `forward` run in 0.28 s\n",
            "Operator `gradient` run in 0.30 s\n",
            "Operator `forward` run in 0.28 s\n",
            "Operator `gradient` run in 0.29 s\n",
            "Operator `forward` run in 0.28 s\n",
            "Operator `gradient` run in 0.29 s\n",
            "Operator `forward` run in 0.28 s\n",
            "Operator `gradient` run in 0.30 s\n",
            "Operator `forward` run in 0.28 s\n",
            "Operator `gradient` run in 0.30 s\n",
            "Operator `forward` run in 0.29 s\n",
            "Operator `gradient` run in 0.29 s\n",
            "Operator `born` run in 0.41 s\n",
            "Operator `born` run in 0.41 s\n",
            "Operator `born` run in 0.43 s\n",
            "Operator `born` run in 0.42 s\n",
            "Operator `born` run in 0.41 s\n",
            "Operator `born` run in 0.41 s\n",
            "Operator `born` run in 0.43 s\n",
            "Operator `born` run in 0.42 s\n",
            "Operator `born` run in 0.41 s\n",
            "Operator `born` run in 0.43 s\n",
            "Operator `born` run in 0.43 s\n",
            "Operator `born` run in 0.40 s\n",
            "Operator `born` run in 0.41 s\n",
            "Operator `born` run in 0.41 s\n",
            "Operator `born` run in 0.41 s\n",
            "Operator `born` run in 0.42 s\n",
            "Operator `forward` run in 0.28 s\n",
            "Operator `gradient` run in 0.30 s\n",
            "Operator `forward` run in 0.28 s\n",
            "Operator `gradient` run in 0.30 s\n",
            "Operator `forward` run in 0.28 s\n",
            "Operator `gradient` run in 0.30 s\n",
            "Operator `forward` run in 0.28 s\n",
            "Operator `gradient` run in 0.30 s\n",
            "Operator `forward` run in 0.28 s\n",
            "Operator `gradient` run in 0.30 s\n",
            "Operator `forward` run in 0.27 s\n",
            "Operator `gradient` run in 0.29 s\n",
            "Operator `forward` run in 0.28 s\n",
            "Operator `gradient` run in 0.30 s\n",
            "Operator `forward` run in 0.28 s\n",
            "Operator `gradient` run in 0.30 s\n",
            "Operator `forward` run in 0.28 s\n",
            "Operator `gradient` run in 0.29 s\n",
            "Operator `forward` run in 0.28 s\n",
            "Operator `gradient` run in 0.30 s\n",
            "Operator `forward` run in 0.29 s\n",
            "Operator `gradient` run in 0.30 s\n",
            "Operator `forward` run in 0.28 s\n",
            "Operator `gradient` run in 0.30 s\n",
            "Operator `forward` run in 0.28 s\n",
            "Operator `gradient` run in 0.30 s\n",
            "Operator `forward` run in 0.29 s\n",
            "Operator `gradient` run in 0.30 s\n",
            "Operator `forward` run in 0.28 s\n",
            "Operator `gradient` run in 0.30 s\n",
            "Operator `forward` run in 0.28 s\n",
            "Operator `gradient` run in 0.30 s\n",
            "Operator `born` run in 0.42 s\n",
            "Operator `born` run in 0.43 s\n",
            "Operator `born` run in 0.41 s\n",
            "Operator `born` run in 0.42 s\n",
            "Operator `born` run in 0.41 s\n",
            "Operator `born` run in 0.41 s\n",
            "Operator `born` run in 0.41 s\n",
            "Operator `born` run in 0.42 s\n",
            "Operator `born` run in 0.42 s\n",
            "Operator `born` run in 0.41 s\n",
            "Operator `born` run in 0.42 s\n",
            "Operator `born` run in 0.42 s\n",
            "Operator `born` run in 0.42 s\n",
            "Operator `born` run in 0.42 s\n",
            "Operator `born` run in 0.41 s\n",
            "Operator `born` run in 0.41 s\n",
            "Operator `forward` run in 0.28 s\n",
            "Operator `gradient` run in 0.30 s\n",
            "Operator `forward` run in 0.28 s\n",
            "Operator `gradient` run in 0.29 s\n",
            "Operator `forward` run in 0.28 s\n",
            "Operator `gradient` run in 0.29 s\n",
            "Operator `forward` run in 0.28 s\n",
            "Operator `gradient` run in 0.30 s\n",
            "Operator `forward` run in 0.28 s\n",
            "Operator `gradient` run in 0.29 s\n",
            "Operator `forward` run in 0.31 s\n",
            "Operator `gradient` run in 0.30 s\n",
            "Operator `forward` run in 0.28 s\n",
            "Operator `gradient` run in 0.30 s\n",
            "Operator `forward` run in 0.28 s\n",
            "Operator `gradient` run in 0.31 s\n",
            "Operator `forward` run in 0.30 s\n",
            "Operator `gradient` run in 0.30 s\n",
            "Operator `forward` run in 0.28 s\n",
            "Operator `gradient` run in 0.30 s\n",
            "Operator `forward` run in 0.29 s\n",
            "Operator `gradient` run in 0.30 s\n",
            "Operator `forward` run in 0.29 s\n",
            "Operator `gradient` run in 0.30 s\n",
            "Operator `forward` run in 0.28 s\n",
            "Operator `gradient` run in 0.31 s\n",
            "Operator `forward` run in 0.29 s\n",
            "Operator `gradient` run in 0.30 s\n",
            "Operator `forward` run in 0.28 s\n",
            "Operator `gradient` run in 0.30 s\n",
            "Operator `forward` run in 0.28 s\n",
            "Operator `gradient` run in 0.30 s\n"
          ],
          "name": "stderr"
        },
        {
          "output_type": "error",
          "ename": "LoadError",
          "evalue": "ignored",
          "traceback": [
            "MethodError: no method matching median(::Array{Float32,2}, ::Int64)\nClosest candidates are:\n  median(::AbstractArray; dims) at /buildworker/worker/package_linux64/build/usr/share/julia/stdlib/v1.5/Statistics/src/Statistics.jl:852\n  median(::Any) at /buildworker/worker/package_linux64/build/usr/share/julia/stdlib/v1.5/Statistics/src/Statistics.jl:836",
            "",
            "Stacktrace:",
            " [1] proj(::PhysicalParameter{Float32}) at ./In[105]:15",
            " [2] top-level scope at ./In[105]:29",
            " [3] include_string(::Function, ::Module, ::String, ::String) at ./loading.jl:1091"
          ]
        }
      ]
    },
    {
      "cell_type": "code",
      "metadata": {
        "id": "YMxLU4P3LkiB",
        "colab": {
          "base_uri": "https://localhost:8080/",
          "height": 249
        },
        "outputId": "a8e35211-6ade-4286-ab44-fb585d9534a2"
      },
      "source": [
        "figure(); imshow(sqrt.(1f0./model0.m)'); title(\"FWI with Gauss-Newton\")"
      ],
      "execution_count": 106,
      "outputs": [
        {
          "output_type": "display_data",
          "data": {
            "image/png": "[encoded data removed]",
            "text/plain": [
              "Figure(PyObject <Figure size 640x480 with 1 Axes>)"
            ]
          },
          "metadata": {
            "tags": []
          }
        },
        {
          "output_type": "execute_result",
          "data": {
            "text/plain": [
              "PyObject Text(0.5, 1.0, 'FWI with Gauss-Newton')"
            ]
          },
          "metadata": {
            "tags": []
          },
          "execution_count": 106
        }
      ]
    },
    {
      "cell_type": "markdown",
      "metadata": {
        "id": "yN_yjdKDLo3m"
      },
      "source": [
        "### *modeling_basic_2D.jl*"
      ]
    },
    {
      "cell_type": "code",
      "metadata": {
        "id": "eNpdsu_dLsWU",
        "colab": {
          "base_uri": "https://localhost:8080/"
        },
        "outputId": "04b96064-4489-46a0-9404-f2da96e6dc3b"
      },
      "source": [
        ";cd /root/.julia/dev/JUDI/examples/scripts"
      ],
      "execution_count": 107,
      "outputs": [
        {
          "output_type": "stream",
          "text": [
            "/root/.julia/dev/JUDI/examples/scripts\n"
          ],
          "name": "stdout"
        }
      ]
    },
    {
      "cell_type": "code",
      "metadata": {
        "id": "4s7lX8ZQL1Yr",
        "colab": {
          "base_uri": "https://localhost:8080/"
        },
        "outputId": "206bd212-d35c-46b2-a6ea-1ebb8a12d701"
      },
      "source": [
        "# Example for basic 2D modeling:\r\n",
        "# The receiver positions and the source wavelets are the same for each of the four experiments.\r\n",
        "# Author: Philipp Witte, pwitte@eos.ubc.ca\r\n",
        "# Date: January 2017\r\n",
        "#\r\n",
        "\r\n",
        "using JUDI.TimeModeling, SegyIO, LinearAlgebra\r\n",
        "\r\n",
        "# Set up model structure\r\n",
        "n = (120, 100)   # (x,y,z) or (x,z)\r\n",
        "d = (10., 10.)\r\n",
        "o = (0., 0.)\r\n",
        "\r\n",
        "# Velocity [km/s]\r\n",
        "v = ones(Float32,n) .+ 0.5f0\r\n",
        "v0 = ones(Float32,n) .+ 0.5f0\r\n",
        "v[:,Int(round(end/2)):end] .= 3.5f0\r\n",
        "rho = (v0 .+ .5f0) ./ 2\r\n",
        "\r\n",
        "# Slowness squared [s^2/km^2]\r\n",
        "m = (1f0 ./ v).^2\r\n",
        "m0 = (1f0 ./ v0).^2\r\n",
        "dm = vec(m - m0)\r\n",
        "\r\n",
        "# Setup info and model structure\r\n",
        "nsrc = 2\t# number of sources\r\n",
        "model = Model(n, d, o, m)\r\n",
        "model0 = Model(n, d, o, m0)\r\n",
        "\r\n",
        "# Set up receiver geometry\r\n",
        "nxrec = 120\r\n",
        "xrec = range(50f0, stop=1150f0, length=nxrec)\r\n",
        "yrec = 0f0\r\n",
        "zrec = range(50f0, stop=50f0, length=nxrec)\r\n",
        "\r\n",
        "# receiver sampling and recording time\r\n",
        "timeR = 1000f0   # receiver recording time [ms]\r\n",
        "dtR = 2f0    # receiver sampling interval [ms]\r\n",
        "\r\n",
        "# Set up receiver structure\r\n",
        "recGeometry = Geometry(xrec, yrec, zrec; dt=dtR, t=timeR, nsrc=nsrc)\r\n",
        "\r\n",
        "# Set up source geometry (cell array with source locations for each shot)\r\n",
        "xsrc = convertToCell(range(400f0, stop=800f0, length=nsrc))\r\n",
        "ysrc = convertToCell(range(0f0, stop=0f0, length=nsrc))\r\n",
        "zsrc = convertToCell(range(200f0, stop=200f0, length=nsrc))\r\n",
        "\r\n",
        "# source sampling and number of time steps\r\n",
        "timeS = 1000f0  # ms\r\n",
        "dtS = 2f0   # ms\r\n",
        "\r\n",
        "# Set up source structure\r\n",
        "srcGeometry = Geometry(xsrc, ysrc, zsrc; dt=dtS, t=timeS)\r\n",
        "\r\n",
        "# setup wavelet\r\n",
        "f0 = 0.01f0     # MHz\r\n",
        "wavelet = ricker_wavelet(timeS, dtS, f0)\r\n",
        "q = judiVector(srcGeometry, wavelet)\r\n",
        "\r\n",
        "# Set up info structure for linear operators\r\n",
        "ntComp = get_computational_nt(srcGeometry, recGeometry, model)\r\n",
        "info = Info(prod(n), nsrc, ntComp)"
      ],
      "execution_count": 108,
      "outputs": [
        {
          "output_type": "execute_result",
          "data": {
            "text/plain": [
              "Info(12000, 2, Any[926, 926])"
            ]
          },
          "metadata": {
            "tags": []
          },
          "execution_count": 108
        }
      ]
    },
    {
      "cell_type": "code",
      "metadata": {
        "id": "GycoM8IdL15r",
        "colab": {
          "base_uri": "https://localhost:8080/"
        },
        "outputId": "a11254d8-bb2d-4882-831b-ebd0697651ab"
      },
      "source": [
        "###################################################################################################\r\n",
        "\r\n",
        "# Write shots as segy files to disk\r\n",
        "opt = Options(optimal_checkpointing=false, isic=false, subsampling_factor=2, dt_comp=1.0)\r\n",
        "\r\n",
        "# Setup operators\r\n",
        "Pr = judiProjection(info, recGeometry)\r\n",
        "F = judiModeling(info, model; options=opt)\r\n",
        "F0 = judiModeling(info, model0; options=opt)\r\n",
        "Ps = judiProjection(info, srcGeometry)\r\n",
        "J = judiJacobian(Pr*F0*adjoint(Ps), q)\r\n",
        "\r\n",
        "# Nonlinear modeling\r\n",
        "dobs = Pr*F*adjoint(Ps)*q\r\n",
        "# # Adjoint\r\n",
        "qad = Ps*adjoint(F)*adjoint(Pr)*dobs\r\n",
        "\r\n",
        "# Linearized modeling\r\n",
        "dD = J*dm\r\n",
        "# Adjoint jacobian\r\n",
        "rtm = adjoint(J)*dD\r\n",
        "\r\n",
        "# evaluate FWI objective function\r\n",
        "f, g = fwi_objective(model0, q, dobs; options=opt)\r\n",
        "\r\n",
        "# TWRI\r\n",
        "f, gm, gy = twri_objective(model0, q, dobs, nothing; options=opt, optionswri=TWRIOptions(params=:all))\r\n",
        "\r\n",
        "# evaluate LSRTM objective function\r\n",
        "fj, gj = lsrtm_objective(model0, q, dD, dm; options=opt)\r\n",
        "fjn, gjn = lsrtm_objective(model0, q, dobs, dm; nlind=true, options=opt)\r\n",
        "\r\n",
        "# By extension, lsrtm_objective is the same as fwi_objecive when `dm` is zero\r\n",
        "# And with computing of the residual. Small noise can be seen in the difference\r\n",
        "# due to floating point roundoff errors with openMP, but running with \r\n",
        "# OMP_NUM_THREAS=1 (no parllelism) produces the exact (difference == 0) same result\r\n",
        "# gjn2 == g\r\n",
        "fjn2, gjn2 = lsrtm_objective(model0, q, dobs, 0f0.*dm; nlind=true, options=opt)"
      ],
      "execution_count": 109,
      "outputs": [
        {
          "output_type": "stream",
          "text": [
            "Operator `forward` run in 0.06 s\n",
            "Operator `forward` run in 0.06 s\n",
            "Operator `adjoint` run in 0.06 s\n",
            "Operator `adjoint` run in 0.07 s\n",
            "Operator `born` run in 0.13 s\n",
            "Operator `born` run in 0.12 s\n",
            "Operator `forward` run in 0.08 s\n",
            "Operator `gradient` run in 0.07 s\n",
            "Operator `forward` run in 0.08 s\n",
            "Operator `gradient` run in 0.07 s\n",
            "Operator `forward` run in 0.08 s\n",
            "Operator `gradient` run in 0.07 s\n",
            "Operator `forward` run in 0.08 s\n",
            "Operator `gradient` run in 0.07 s\n",
            "Operator `forward` run in 0.06 s\n",
            "Operator `adjoint` run in 0.10 s\n",
            "Operator `forward_grad` run in 0.09 s\n",
            "Operator `forward` run in 0.06 s\n",
            "Operator `adjoint` run in 0.10 s\n",
            "Operator `forward_grad` run in 0.09 s\n",
            "Operator `born` run in 0.15 s\n",
            "Operator `gradient` run in 0.07 s\n",
            "Operator `born` run in 0.15 s\n",
            "Operator `gradient` run in 0.07 s\n",
            "Operator `born` run in 0.15 s\n",
            "Operator `gradient` run in 0.07 s\n",
            "Operator `born` run in 0.16 s\n",
            "Operator `gradient` run in 0.08 s\n",
            "Operator `born` run in 0.08 s\n",
            "Operator `gradient` run in 0.07 s\n",
            "Operator `born` run in 0.09 s\n",
            "Operator `gradient` run in 0.07 s\n"
          ],
          "name": "stderr"
        },
        {
          "output_type": "execute_result",
          "data": {
            "text/plain": [
              "(17045.906f0, Float32[4.2766547, 4.220422, 2.9038987, 1.3866632, 0.33747298, -0.14142191, -0.41407597, -0.8243422, -1.2516196, -1.263825  …  4.3409967f-18, 2.6953142f-16, 1.964311f-16, 3.4330083f-17, -4.9879f-17, -4.3528355f-17, -8.859447f-18, 8.89615f-18, 6.992353f-18, 6.4973264f-19])"
            ]
          },
          "metadata": {
            "tags": []
          },
          "execution_count": 109
        }
      ]
    },
    {
      "cell_type": "markdown",
      "metadata": {
        "id": "z-wMtIQML70b"
      },
      "source": [
        "### *modeling_basic_3D.jl*"
      ]
    },
    {
      "cell_type": "code",
      "metadata": {
        "id": "MC674-72MGEp",
        "colab": {
          "base_uri": "https://localhost:8080/"
        },
        "outputId": "e9c9e9e7-5f77-44de-d68c-3810696420a0"
      },
      "source": [
        ";cd /root/.julia/dev/JUDI/examples/scripts"
      ],
      "execution_count": 110,
      "outputs": [
        {
          "output_type": "stream",
          "text": [
            "/root/.julia/dev/JUDI/examples/scripts\n"
          ],
          "name": "stdout"
        }
      ]
    },
    {
      "cell_type": "code",
      "metadata": {
        "id": "JulNSkfDMDRy",
        "colab": {
          "base_uri": "https://localhost:8080/"
        },
        "outputId": "466fe3d0-92e8-4a3b-8f5b-def434248f42"
      },
      "source": [
        "# Example for basic 3D modeling:\r\n",
        "# The receiver positions and the source wavelets are the same for each of the four experiments.\r\n",
        "# Author: Philipp Witte, pwitte@eos.ubc.ca\r\n",
        "# Date: January 2017\r\n",
        "#\r\n",
        "\r\n",
        "using JUDI.TimeModeling\r\n",
        "\r\n",
        "# Set up model structure\r\n",
        "n = (120, 100, 90)    # (x,y,z) or (x,z)\r\n",
        "d = (10., 10., 10.)\r\n",
        "o = (0., 0., 0.)\r\n",
        "\r\n",
        "# Velocity [km/s]\r\n",
        "v = ones(Float32,n) .* 1.4f0\r\n",
        "v0 = ones(Float32,n) .* 1.4f0\r\n",
        "v[:, :, Int(round(end/2)):end] .= 4.0f0\r\n",
        "rho = ones(Float32, n)\r\n",
        "\r\n",
        "# Slowness squared [s^2/km^2]\r\n",
        "m = (1f0 ./ v).^2\r\n",
        "m0 = (1f0 ./ v0).^2\r\n",
        "dm = vec(m - m0)\r\n",
        "\r\n",
        "# Setup info and model structure\r\n",
        "nsrc = 4\r\n",
        "model = Model(n, d, o, m)  # to include density call Model(n,d,o,m,rho)\r\n",
        "model0 = Model(n, d, o, m0)\r\n",
        "\r\n",
        "# Set up 3D receiver geometry by defining one receiver vector in each x and y direction\r\n",
        "nxrec = 120\r\n",
        "nyrec = 100\r\n",
        "xrec = range(50f0, stop=1150f0, length=nxrec)\r\n",
        "yrec = range(100f0, stop=900f0, length=nyrec)\r\n",
        "zrec = 50f0\r\n",
        "\r\n",
        "# Construct 3D grid from basis vectors\r\n",
        "(xrec, yrec, zrec) = setup_3D_grid(xrec, yrec, zrec)\r\n",
        "\r\n",
        "# receiver sampling and recording time\r\n",
        "timeR = 100f0   # receiver recording time [ms]\r\n",
        "dtR = 4f0    # receiver sampling interval\r\n",
        "\r\n",
        "# Set up receiver structure\r\n",
        "recGeometry = Geometry(xrec, yrec, zrec; dt=dtR, t=timeR, nsrc=nsrc)\r\n",
        "\r\n",
        "# Set up source geometry (cell array with source locations for each shot)\r\n",
        "xsrc = convertToCell([250f0, 500f0, 750f0, 1000f0])\r\n",
        "ysrc = convertToCell([200f0, 400f0, 600f0, 800f0])\r\n",
        "zsrc = convertToCell([50f0, 60f0, 70f0, 80f0])\r\n",
        "\r\n",
        "# source sampling and number of time steps\r\n",
        "timeS = 100f0   # source length in [ms]\r\n",
        "dtS = 2f0    # source sampling interval\r\n",
        "\r\n",
        "# Set up source structure\r\n",
        "srcGeometry = Geometry(xsrc, ysrc, zsrc; dt=dtS, t=timeS)\r\n",
        "\r\n",
        "# setup wavelet\r\n",
        "f0 = 0.01f0\r\n",
        "wavelet = ricker_wavelet(timeS, dtS, f0)\r\n",
        "\r\n",
        "# Info structure for linear operators\r\n",
        "ntComp = get_computational_nt(srcGeometry, recGeometry, model)    # no. of computational time steps\r\n",
        "info = Info(prod(n), nsrc, ntComp)"
      ],
      "execution_count": 111,
      "outputs": [
        {
          "output_type": "execute_result",
          "data": {
            "text/plain": [
              "Info(1080000, 4, Any[117, 117, 117, 117])"
            ]
          },
          "metadata": {
            "tags": []
          },
          "execution_count": 111
        }
      ]
    },
    {
      "cell_type": "code",
      "metadata": {
        "id": "9hdy30bsMIf_",
        "colab": {
          "base_uri": "https://localhost:8080/",
          "height": 1000
        },
        "outputId": "12d780a9-cc88-4cee-946f-aa9d1425ee02"
      },
      "source": [
        "###################################################################################################\r\n",
        "\r\n",
        "# Enable optimal checkpointing\r\n",
        "opt = Options(optimal_checkpointing=true)\r\n",
        "\r\n",
        "# Setup operators\r\n",
        "Pr = judiProjection(info, recGeometry)\r\n",
        "F = judiModeling(info, model)\r\n",
        "Ps = judiProjection(info, srcGeometry)\r\n",
        "q = judiVector(srcGeometry, wavelet)\r\n",
        "\r\n",
        "# Nonlinear modeling\r\n",
        "dobs = Pr*F*adjoint(Ps)*q\r\n",
        "qad = Ps*F*adjoint(Pr)*dobs\r\n",
        "\r\n",
        "# Linearied modeling\r\n",
        "F0 = judiModeling(info, model0) # modeling operator for background model\r\n",
        "J = judiJacobian(Pr*F0*adjoint(Ps), q)\r\n",
        "dD = J*dm\r\n",
        "rtm = adjoint(J)*dD\r\n",
        "\r\n",
        "# evaluate FWI objective function\r\n",
        "f, g = fwi_objective(model0, q, dobs; options=opt)"
      ],
      "execution_count": 112,
      "outputs": [
        {
          "output_type": "stream",
          "text": [
            "Operator `forward` run in 2.21 s\n",
            "Operator `forward` run in 2.21 s\n",
            "Operator `forward` run in 2.18 s\n",
            "Operator `forward` run in 2.16 s\n",
            "Operator `forward` run in 2.31 s\n",
            "Operator `forward` run in 2.32 s\n",
            "Operator `forward` run in 2.31 s\n",
            "Operator `forward` run in 2.32 s\n",
            "Operator `born` run in 1.71 s\n",
            "Operator `born` run in 1.72 s\n",
            "Operator `born` run in 1.67 s\n",
            "Operator `born` run in 1.69 s\n",
            "tcmalloc: large alloc 1293516800 bytes == 0x86df6000 @  0x7f67712d1b6b 0x7f67712f1273 0x7f677013c098 0x7f67715619dd 0x7f6771561067 0x7f673d10fda8 0x7f673d11008c 0x7f673c709dcf 0x7f673c535fec 0x7f673c53ce0b 0x7f673c53f9c0 0x7f673c535f57 0x7f673c539617 0x7f673c53f9c0 0x7f673c535f57 0x7f673c539617 0x7f673c5dc82e 0x7f673c709223 0x7f673c70a451 0x7f673c70a5ce 0x7f673c60395a 0x7f673c619015 0x7f673c709dcf 0x7f673c535fec 0x7f673c5399b4 0x7f673c5dc82e 0x7f673c709223 0x7f673c6f036d 0x7f673c638030 0x7f673c6068bd 0x7f673c53848a\n",
            "Operator `forward` run in 0.88 s\n",
            "Operator `gradient` run in 1.15 s\n",
            "tcmalloc: large alloc 1293516800 bytes == 0xd9bac000 @  0x7f67712d1b6b 0x7f67712f1273 0x7f677013c098 0x7f67715619dd 0x7f6771561067 0x7f673d10fda8 0x7f673d11008c 0x7f673c709dcf 0x7f673c535fec 0x7f673c53ce0b 0x7f673c53f9c0 0x7f673c535f57 0x7f673c539617 0x7f673c53f9c0 0x7f673c535f57 0x7f673c539617 0x7f673c5dc82e 0x7f673c709223 0x7f673c70a451 0x7f673c70a5ce 0x7f673c60395a 0x7f673c619015 0x7f673c709dcf 0x7f673c535fec 0x7f673c5399b4 0x7f673c5dc82e 0x7f673c709223 0x7f673c6f036d 0x7f673c638030 0x7f673c6068bd 0x7f673c53848a\n",
            "Operator `forward` run in 0.89 s\n",
            "Operator `gradient` run in 1.15 s\n",
            "Operator `forward` run in 0.89 s\n",
            "Operator `gradient` run in 1.17 s\n",
            "Operator `forward` run in 0.88 s\n",
            "Operator `gradient` run in 1.16 s\n"
          ],
          "name": "stderr"
        },
        {
          "output_type": "error",
          "ename": "LoadError",
          "evalue": "ignored",
          "traceback": [
            "TaskFailedException:\nPyError ($(Expr(:escape, :(ccall(#= /root/.julia/packages/PyCall/BcTLp/src/pyfncall.jl:43 =# @pysym(:PyObject_Call), PyPtr, (PyPtr, PyPtr, PyPtr), o, pyargsptr, kw))))) <class 'ValueError'>\nValueError('Unrecognized argument m=0.5102041')\n  File \"/root/.julia/dev/JUDI/src/pysource/interface.py\", line 665, in J_adjoint_checkpointing\n    wrap_fw = CheckpointOperator(op_f, m=model.m, **uk)\n  File \"/root/.julia/dev/JUDI/src/pysource/checkpoint.py\", line 29, in __init__\n    op_default_args = self.op._prepare_arguments(**kwargs)\n  File \"/root/.julia/conda/3/lib/python3.8/site-packages/devito/operator/operator.py\", line 524, in _prepare_arguments\n    raise ValueError(\"Unrecognized argument %s=%s\" % (k, v))\n\npyerr_check at /root/.julia/packages/PyCall/BcTLp/src/exception.jl:62 [inlined]\npyerr_check at /root/.julia/packages/PyCall/BcTLp/src/exception.jl:66 [inlined]\n_handle_error(::String) at /root/.julia/packages/PyCall/BcTLp/src/exception.jl:83\nmacro expansion at /root/.julia/packages/PyCall/BcTLp/src/exception.jl:97 [inlined]\n#110 at /root/.julia/packages/PyCall/BcTLp/src/pyfncall.jl:43 [inlined]\ndisable_sigint at ./c.jl:446 [inlined]\n__pycall! at /root/.julia/packages/PyCall/BcTLp/src/pyfncall.jl:42 [inlined]\n_pycall!(::PyCall.PyObject, ::PyCall.PyObject, ::Tuple{PyCall.PyObject,Array{Float32,2},Array{Float32,2},Array{Float32,2},Array{Float32,2}}, ::Int64, ::PyCall.PyObject) at /root/.julia/packages/PyCall/BcTLp/src/pyfncall.jl:29\n_pycall!(::PyCall.PyObject, ::PyCall.PyObject, ::Tuple{PyCall.PyObject,Array{Float32,2},Array{Float32,2},Array{Float32,2},Array{Float32,2}}, ::Base.Iterators.Pairs{Symbol,Integer,NTuple{4,Symbol},NamedTuple{(:is_residual, :return_obj, :t_sub, :space_order),Tuple{Bool,Bool,Int64,Int64}}}) at /root/.julia/packages/PyCall/BcTLp/src/pyfncall.jl:11\npycall(::PyCall.PyObject, ::Type{Tuple{Float32,Array{Float32,3}}}, ::PyCall.PyObject, ::Vararg{Any,N} where N; kwargs::Base.Iterators.Pairs{Symbol,Integer,NTuple{4,Symbol},NamedTuple{(:is_residual, :return_obj, :t_sub, :space_order),Tuple{Bool,Bool,Int64,Int64}}}) at /root/.julia/packages/PyCall/BcTLp/src/pyfncall.jl:80\nfwi_objective(::Model, ::judiVector{Float32}, ::judiVector{Float32}, ::Int64; options::Options) at /root/.julia/dev/JUDI/src/TimeModeling/fwi_objective_serial.jl:46\n#137 at /buildworker/worker/package_linux64/build/usr/share/julia/stdlib/v1.5/Distributed/src/remotecall.jl:354 [inlined]\nrun_work_thunk(::Distributed.var\"#137#138\"{typeof(fwi_objective),Tuple{Model,judiVector{Float32},judiVector{Float32},Int64},Base.Iterators.Pairs{Symbol,Options,Tuple{Symbol},NamedTuple{(:options,),Tuple{Options}}}}, ::Bool) at /buildworker/worker/package_linux64/build/usr/share/julia/stdlib/v1.5/Distributed/src/process_messages.jl:79\nremotecall_fetch(::Function, ::Distributed.LocalProcess, ::Model, ::Vararg{Any,N} where N; kwargs::Base.Iterators.Pairs{Symbol,Options,Tuple{Symbol},NamedTuple{(:options,),Tuple{Options}}}) at /buildworker/worker/package_linux64/build/usr/share/julia/stdlib/v1.5/Distributed/src/remotecall.jl:379\nremotecall_fetch(::Function, ::Int64, ::Model, ::Vararg{Any,N} where N; kwargs::Base.Iterators.Pairs{Symbol,Options,Tuple{Symbol},NamedTuple{(:options,),Tuple{Options}}}) at /buildworker/worker/package_linux64/build/usr/share/julia/stdlib/v1.5/Distributed/src/remotecall.jl:421\nremotecall_pool(::Function, ::Function, ::Distributed.WorkerPool, ::Model, ::Vararg{Any,N} where N; kwargs::Base.Iterators.Pairs{Symbol,Options,Tuple{Symbol},NamedTuple{(:options,),Tuple{Options}}}) at /buildworker/worker/package_linux64/build/usr/share/julia/stdlib/v1.5/Distributed/src/workerpool.jl:123\nremotecall_fetch(::Function, ::Distributed.WorkerPool, ::Model, ::Vararg{Any,N} where N; kwargs::Base.Iterators.Pairs{Symbol,Options,Tuple{Symbol},NamedTuple{(:options,),Tuple{Options}}}) at /buildworker/worker/package_linux64/build/usr/share/julia/stdlib/v1.5/Distributed/src/workerpool.jl:229\n(::Distributed.var\"#186#188\"{Distributed.var\"#186#187#189\"{typeof(fwi_objective)}})(::Model, ::Vararg{Any,N} where N; kwargs::Base.Iterators.Pairs{Symbol,Options,Tuple{Symbol},NamedTuple{(:options,),Tuple{Options}}}) at /buildworker/worker/package_linux64/build/usr/share/julia/stdlib/v1.5/Distributed/src/workerpool.jl:273\n(::Base.var\"#56#58\"{Base.var\"#56#57#59\"{ExponentialBackOff,Nothing,Distributed.var\"#186#188\"{Distributed.var\"#186#187#189\"{typeof(fwi_objective)}}}})(::Model, ::Vararg{Any,N} where N; kwargs::Base.Iterators.Pairs{Symbol,Options,Tuple{Symbol},NamedTuple{(:options,),Tuple{Options}}}) at ./error.jl:301\n(::JUDI.TimeModeling.var\"#127#128\"{Model,judiVector{Float32},judiVector{Float32},Base.var\"#56#58\"{Base.var\"#56#57#59\"{ExponentialBackOff,Nothing,Distributed.var\"#186#188\"{Distributed.var\"#186#187#189\"{typeof(fwi_objective)}}}},Array{Any,1},Int64,Options})() at ./task.jl:356\nStacktrace:\n [1] remotecall_fetch(::Function, ::Distributed.LocalProcess, ::Model, ::Vararg{Any,N} where N; kwargs::Base.Iterators.Pairs{Symbol,Options,Tuple{Symbol},NamedTuple{(:options,),Tuple{Options}}}) at /buildworker/worker/package_linux64/build/usr/share/julia/stdlib/v1.5/Distributed/src/remotecall.jl:380\n [2] remotecall_fetch(::Function, ::Int64, ::Model, ::Vararg{Any,N} where N; kwargs::Base.Iterators.Pairs{Symbol,Options,Tuple{Symbol},NamedTuple{(:options,),Tuple{Options}}}) at /buildworker/worker/package_linux64/build/usr/share/julia/stdlib/v1.5/Distributed/src/remotecall.jl:421\n [3] remotecall_pool(::Function, ::Function, ::Distributed.WorkerPool, ::Model, ::Vararg{Any,N} where N; kwargs::Base.Iterators.Pairs{Symbol,Options,Tuple{Symbol},NamedTuple{(:options,),Tuple{Options}}}) at /buildworker/worker/package_linux64/build/usr/share/julia/stdlib/v1.5/Distributed/src/workerpool.jl:123\n [4] remotecall_fetch(::Function, ::Distributed.WorkerPool, ::Model, ::Vararg{Any,N} where N; kwargs::Base.Iterators.Pairs{Symbol,Options,Tuple{Symbol},NamedTuple{(:options,),Tuple{Options}}}) at /buildworker/worker/package_linux64/build/usr/share/julia/stdlib/v1.5/Distributed/src/workerpool.jl:229\n [5] (::Distributed.var\"#186#188\"{Distributed.var\"#186#187#189\"{typeof(fwi_objective)}})(::Model, ::Vararg{Any,N} where N; kwargs::Base.Iterators.Pairs{Symbol,Options,Tuple{Symbol},NamedTuple{(:options,),Tuple{Options}}}) at /buildworker/worker/package_linux64/build/usr/share/julia/stdlib/v1.5/Distributed/src/workerpool.jl:273\n [6] (::Base.var\"#56#58\"{Base.var\"#56#57#59\"{ExponentialBackOff,Nothing,Distributed.var\"#186#188\"{Distributed.var\"#186#187#189\"{typeof(fwi_objective)}}}})(::Model, ::Vararg{Any,N} where N; kwargs::Base.Iterators.Pairs{Symbol,Options,Tuple{Symbol},NamedTuple{(:options,),Tuple{Options}}}) at ./error.jl:301\n [7] (::JUDI.TimeModeling.var\"#127#128\"{Model,judiVector{Float32},judiVector{Float32},Base.var\"#56#58\"{Base.var\"#56#57#59\"{ExponentialBackOff,Nothing,Distributed.var\"#186#188\"{Distributed.var\"#186#187#189\"{typeof(fwi_objective)}}}},Array{Any,1},Int64,Options})() at ./task.jl:356\n\n...and 3 more exception(s).\n",
            "",
            "Stacktrace:",
            " [1] sync_end(::Channel{Any}) at ./task.jl:314",
            " [2] macro expansion at ./task.jl:333 [inlined]",
            " [3] fwi_objective(::Model, ::judiVector{Float32}, ::judiVector{Float32}; options::Options) at /root/.julia/dev/JUDI/src/TimeModeling/fwi_objective_parallel.jl:27",
            " [4] top-level scope at In[112]:23",
            " [5] include_string(::Function, ::Module, ::String, ::String) at ./loading.jl:1091"
          ]
        }
      ]
    },
    {
      "cell_type": "markdown",
      "metadata": {
        "id": "QRfez82jMZaC"
      },
      "source": [
        "### *modeling_extended_source_2D.jl*"
      ]
    },
    {
      "cell_type": "code",
      "metadata": {
        "id": "KtPw5_4SMdSb",
        "colab": {
          "base_uri": "https://localhost:8080/"
        },
        "outputId": "600351d8-29d2-454d-ade4-987d07e6b8be"
      },
      "source": [
        ";cd /root/.julia/dev/JUDI/examples/scripts"
      ],
      "execution_count": 113,
      "outputs": [
        {
          "output_type": "stream",
          "text": [
            "/root/.julia/dev/JUDI/examples/scripts\n"
          ],
          "name": "stdout"
        }
      ]
    },
    {
      "cell_type": "code",
      "metadata": {
        "id": "Fb6xlnvCMdx0",
        "colab": {
          "base_uri": "https://localhost:8080/"
        },
        "outputId": "81c55c49-61e0-4bdf-bdf6-dd1a385e0e1e"
      },
      "source": [
        "using JUDI.TimeModeling, SegyIO, LinearAlgebra, PyPlot\r\n",
        "\r\n",
        "# Set up model structure\r\n",
        "n = (120, 100)   # (x,y,z) or (x,z)\r\n",
        "d = (10., 10.)\r\n",
        "o = (0., 0.)\r\n",
        "\r\n",
        "# Velocity [km/s]\r\n",
        "v = ones(Float32,n) .+ 0.4f0\r\n",
        "v[:,Int(round(end/2)):end] .= 3f0\r\n",
        "v0 = ones(Float32,n) .+ 0.4f0\r\n",
        "\r\n",
        "# Slowness squared [s^2/km^2]\r\n",
        "m0 = (1f0 ./ v0).^2\r\n",
        "m = (1f0 ./ v).^2\r\n",
        "dm = vec(m - m0)\r\n",
        "\r\n",
        "# Setup info and model structure\r\n",
        "nsrc = 2\t# number of sources\r\n",
        "model0 = Model(n, d, o, m0)\r\n",
        "model = Model(n, d, o, m)\r\n",
        "\r\n",
        "# Set up receiver geometry\r\n",
        "nxrec = 120\r\n",
        "xrec = range(50f0, stop=1150f0, length=nxrec)\r\n",
        "yrec = 0f0\r\n",
        "zrec = range(50f0, stop=50f0, length=nxrec)\r\n",
        "\r\n",
        "# receiver sampling and recording time\r\n",
        "time = 1000f0   # receiver recording time [ms]\r\n",
        "dt = 4f0    # receiver sampling interval [ms]\r\n",
        "\r\n",
        "# Set up receiver structure\r\n",
        "recGeometry = Geometry(xrec, yrec, zrec; dt=dt, t=time, nsrc=nsrc)\r\n",
        "\r\n",
        "# Source wavelet\r\n",
        "f0 = 0.01f0     # MHz\r\n",
        "wavelet = ricker_wavelet(time, dt, f0)\r\n",
        "\r\n",
        "# Set up info structure for linear operators\r\n",
        "ntComp = get_computational_nt(recGeometry, model)\r\n",
        "info = Info(prod(n), nsrc, ntComp)"
      ],
      "execution_count": 114,
      "outputs": [
        {
          "output_type": "execute_result",
          "data": {
            "text/plain": [
              "Info(12000, 2, Any[794, 794])"
            ]
          },
          "metadata": {
            "tags": []
          },
          "execution_count": 114
        }
      ]
    },
    {
      "cell_type": "code",
      "metadata": {
        "id": "vfFTisa6MiOI",
        "colab": {
          "base_uri": "https://localhost:8080/"
        },
        "outputId": "3a7ae6aa-0600-41af-a955-ef16fea7c2bf"
      },
      "source": [
        "###################################################################################################\r\n",
        "\r\n",
        "# Write shots as segy files to disk\r\n",
        "opt = Options(return_array=false, dt_comp=1.0, free_surface=true)\r\n",
        "\r\n",
        "# Setup operators\r\n",
        "Pr = judiProjection(info, recGeometry)\r\n",
        "F = judiModeling(info, model; options=opt)\r\n",
        "\r\n",
        "# Extended source weights\r\n",
        "weights = Array{Array}(undef, nsrc)\r\n",
        "for j=1:nsrc\r\n",
        "    weights[j] = randn(Float32, model.n)\r\n",
        "end\r\n",
        "w = judiWeights(weights)\r\n",
        "\r\n",
        "# Create operator for injecting the weights, multiplied by the provided wavelet(s)\r\n",
        "Pw = judiLRWF(info, wavelet)\r\n",
        "\r\n",
        "# Model observed data w/ extended source\r\n",
        "F = Pr*F*adjoint(Pw)\r\n",
        "\r\n",
        "# Simultaneous observed data\r\n",
        "d_sim = F*w\r\n",
        "dw = adjoint(F)*d_sim\r\n",
        "\r\n",
        "# Jacobian\r\n",
        "J = judiJacobian(F, w)\r\n",
        "d_lin = J*dm\r\n",
        "g = adjoint(J)*d_lin"
      ],
      "execution_count": 115,
      "outputs": [
        {
          "output_type": "stream",
          "text": [
            "Operator `forward` run in 0.09 s\n",
            "Operator `forward` run in 0.09 s\n",
            "Operator `adjoint` run in 0.09 s\n",
            "Operator `adjoint` run in 0.09 s\n",
            "Operator `born` run in 0.19 s\n",
            "Operator `born` run in 0.19 s\n",
            "Operator `forward` run in 0.12 s\n",
            "Operator `gradient` run in 0.11 s\n",
            "Operator `forward` run in 0.12 s\n",
            "Operator `gradient` run in 0.11 s\n"
          ],
          "name": "stderr"
        },
        {
          "output_type": "execute_result",
          "data": {
            "text/plain": [
              "12000×1 PhysicalParameter{Float32} with size (120, 100), spacing (10.0, 10.0) and origin (0.0, 0.0):\n",
              "   0.0\n",
              "   0.0\n",
              "   0.0\n",
              "   0.0\n",
              "   0.0\n",
              "   0.0\n",
              "   0.0\n",
              "   0.0\n",
              "   0.0\n",
              "   0.0\n",
              "   0.0\n",
              "   0.0\n",
              "   0.0\n",
              "   ⋮\n",
              " #undef\n",
              " #undef\n",
              " #undef\n",
              " #undef\n",
              " #undef\n",
              " #undef\n",
              " #undef\n",
              " #undef\n",
              " #undef\n",
              " #undef\n",
              " #undef\n",
              " #undef"
            ]
          },
          "metadata": {
            "tags": []
          },
          "execution_count": 115
        }
      ]
    },
    {
      "cell_type": "code",
      "metadata": {
        "id": "R4SKt0txMlDP",
        "colab": {
          "base_uri": "https://localhost:8080/",
          "height": 722
        },
        "outputId": "d76ee19a-4f0f-4eee-9edc-defb9ae6f2e1"
      },
      "source": [
        "# Plot results\r\n",
        "figure()\r\n",
        "subplot(1,2,1)\r\n",
        "imshow(d_sim.data[1], vmin=-5e2, vmax=5e2, cmap=\"gray\"); title(\"Non-linear shot record\")\r\n",
        "subplot(1,2,2)\r\n",
        "imshow(d_lin.data[1], vmin=-5e3, vmax=5e3, cmap=\"gray\"); title(\"Linearized shot record\")\r\n",
        "\r\n",
        "figure()\r\n",
        "subplot(1,2,1)\r\n",
        "imshow(adjoint(dw.weights[1]), vmin=-5e6, vmax=5e6, cmap=\"gray\"); title(\"Weights 1\")\r\n",
        "subplot(1,2,2)\r\n",
        "imshow(adjoint(reshape(g, model0.n)), vmin=-1e8, vmax=1e8, cmap=\"gray\"); title(\"Gradient w.r.t. m\")"
      ],
      "execution_count": 116,
      "outputs": [
        {
          "output_type": "display_data",
          "data": {
            "image/png": "[encoded data removed]",
            "text/plain": [
              "Figure(PyObject <Figure size 640x480 with 2 Axes>)"
            ]
          },
          "metadata": {
            "tags": []
          }
        },
        {
          "output_type": "display_data",
          "data": {
            "image/png": "[encoded data removed]",
            "text/plain": [
              "Figure(PyObject <Figure size 640x480 with 2 Axes>)"
            ]
          },
          "metadata": {
            "tags": []
          }
        },
        {
          "output_type": "execute_result",
          "data": {
            "text/plain": [
              "PyObject Text(0.5, 1.0, 'Gradient w.r.t. m')"
            ]
          },
          "metadata": {
            "tags": []
          },
          "execution_count": 116
        }
      ]
    },
    {
      "cell_type": "markdown",
      "metadata": {
        "id": "0kF-0d6AMqr6"
      },
      "source": [
        "### *modeling_extended_source_3D.jl*"
      ]
    },
    {
      "cell_type": "code",
      "metadata": {
        "id": "OYxPhuljMsk1",
        "colab": {
          "base_uri": "https://localhost:8080/"
        },
        "outputId": "0432fb0d-fea1-4858-9676-f86c5f348268"
      },
      "source": [
        ";cd /root/.julia/dev/JUDI/examples/scripts"
      ],
      "execution_count": 117,
      "outputs": [
        {
          "output_type": "stream",
          "text": [
            "/root/.julia/dev/JUDI/examples/scripts\n"
          ],
          "name": "stdout"
        }
      ]
    },
    {
      "cell_type": "code",
      "metadata": {
        "id": "Ue8bx8BIMxzu",
        "colab": {
          "base_uri": "https://localhost:8080/"
        },
        "outputId": "f2663f7b-9192-45ff-9b83-86e5c47d327d"
      },
      "source": [
        "# Example for basic 2D modeling:\r\n",
        "# The receiver positions and the source wavelets are the same for each of the four experiments.\r\n",
        "# Author: Philipp Witte, pwitte@eos.ubc.ca\r\n",
        "# Date: January 2017\r\n",
        "#\r\n",
        "\r\n",
        "using JUDI.TimeModeling, SegyIO, LinearAlgebra, PyPlot\r\n",
        "\r\n",
        "# Set up model structure\r\n",
        "n = (100, 100, 80)   # (x,y,z) or (x,z)\r\n",
        "d = (10., 10., 10.)\r\n",
        "o = (0., 0., 0.)\r\n",
        "\r\n",
        "# Velocity [km/s]\r\n",
        "v = ones(Float32,n) .+ 0.4f0\r\n",
        "v[:, :, Int(round(end/2)):end] .= 3f0\r\n",
        "v0 = ones(Float32,n) .+ 0.4f0\r\n",
        "\r\n",
        "\r\n",
        "# Slowness squared [s^2/km^2]\r\n",
        "m0 = (1f0 ./ v0).^2\r\n",
        "m = (1f0 ./ v).^2\r\n",
        "dm = vec(m - m0)\r\n",
        "\r\n",
        "# Setup info and model structure\r\n",
        "nsrc = 1\t# number of sources\r\n",
        "model0 = Model(n, d, o, m0)\r\n",
        "model = Model(n, d, o, m)\r\n",
        "\r\n",
        "# Receiver geometry\r\n",
        "nxrec = 120\r\n",
        "nyrec = 100\r\n",
        "xrec = range(50f0, stop=1150f0, length=nxrec)\r\n",
        "yrec = range(100f0, stop=900f0, length=nyrec)\r\n",
        "zrec = 50f0\r\n",
        "\r\n",
        "# Construct 3D grid from basis vectors\r\n",
        "(xrec, yrec, zrec) = setup_3D_grid(xrec, yrec, zrec)\r\n",
        "\r\n",
        "# receiver sampling and recording time\r\n",
        "time = 50f0   # receiver recording time [ms]\r\n",
        "dt = 4f0    # receiver sampling interval [ms]\r\n",
        "\r\n",
        "# Set up receiver structure\r\n",
        "recGeometry = Geometry(xrec, yrec, zrec; dt=dt, t=time, nsrc=nsrc)\r\n",
        "\r\n",
        "# Source wavelet\r\n",
        "f0 = 0.01f0     # MHz\r\n",
        "wavelet = ricker_wavelet(time, dt, f0)\r\n",
        "\r\n",
        "# Set up info structure for linear operators\r\n",
        "ntComp = get_computational_nt(recGeometry, model)\r\n",
        "info = Info(prod(n), nsrc, ntComp)"
      ],
      "execution_count": 118,
      "outputs": [
        {
          "output_type": "execute_result",
          "data": {
            "text/plain": [
              "Info(800000, 1, Any[43])"
            ]
          },
          "metadata": {
            "tags": []
          },
          "execution_count": 118
        }
      ]
    },
    {
      "cell_type": "code",
      "metadata": {
        "id": "dMJHEnwbM4OG",
        "colab": {
          "base_uri": "https://localhost:8080/"
        },
        "outputId": "63e42592-3f6f-46bf-d06f-9e374f0f9911"
      },
      "source": [
        "###################################################################################################\r\n",
        "\r\n",
        "# Write shots as segy files to disk\r\n",
        "opt = Options(return_array=false)\r\n",
        "\r\n",
        "# Setup operators\r\n",
        "Pr = judiProjection(info, recGeometry)\r\n",
        "F = judiModeling(info, model; options=opt)\r\n",
        "\r\n",
        "# Random weights (size of the model)\r\n",
        "weights = randn(Float32, model.n)\r\n",
        "w = judiWeights(weights)\r\n",
        "\r\n",
        "# Create operator for injecting the weights, multiplied by the provided wavelet(s)\r\n",
        "Pw = judiLRWF(info, wavelet)\r\n",
        "\r\n",
        "# Model observed data w/ extended source\r\n",
        "F = Pr*F*adjoint(Pw)\r\n",
        "\r\n",
        "# Simultaneous observed data\r\n",
        "d_sim = F*w\r\n",
        "dw = adjoint(F)*d_sim\r\n",
        "\r\n",
        "# Jacobian\r\n",
        "J = judiJacobian(F, w)\r\n",
        "d_lin = J*dm\r\n",
        "g = adjoint(J)*d_lin"
      ],
      "execution_count": 119,
      "outputs": [
        {
          "output_type": "stream",
          "text": [
            "Operator `forward` run in 0.69 s\n",
            "Operator `adjoint` run in 0.77 s\n",
            "Operator `born` run in 1.64 s\n",
            "Operator `forward` run in 0.90 s\n",
            "Operator `gradient` run in 1.04 s\n"
          ],
          "name": "stderr"
        },
        {
          "output_type": "execute_result",
          "data": {
            "text/plain": [
              "800000×1 PhysicalParameter{Float32} with size (100, 100, 80), spacing (10.0, 10.0, 10.0) and origin (0.0, 0.0, 0.0):\n",
              " #undef\n",
              " #undef\n",
              " #undef\n",
              " #undef\n",
              " #undef\n",
              " #undef\n",
              " #undef\n",
              " #undef\n",
              " #undef\n",
              " #undef\n",
              " #undef\n",
              " #undef\n",
              " #undef\n",
              "   ⋮\n",
              " #undef\n",
              " #undef\n",
              " #undef\n",
              " #undef\n",
              " #undef\n",
              " #undef\n",
              " #undef\n",
              " #undef\n",
              " #undef\n",
              " #undef\n",
              " #undef\n",
              " #undef"
            ]
          },
          "metadata": {
            "tags": []
          },
          "execution_count": 119
        }
      ]
    },
    {
      "cell_type": "markdown",
      "metadata": {
        "id": "5fW7a8upM8FF"
      },
      "source": [
        "### *modeling_medical_2D.jl*"
      ]
    },
    {
      "cell_type": "code",
      "metadata": {
        "colab": {
          "base_uri": "https://localhost:8080/"
        },
        "id": "EBDIhxTDQ-rT",
        "outputId": "38e6c52b-04dd-4bd9-8327-3c4521894671"
      },
      "source": [
        ";cd /root/.julia/dev/JUDI/examples/scripts"
      ],
      "execution_count": 120,
      "outputs": [
        {
          "output_type": "stream",
          "text": [
            "/root/.julia/dev/JUDI/examples/scripts\n"
          ],
          "name": "stdout"
        }
      ]
    },
    {
      "cell_type": "code",
      "metadata": {
        "id": "anTNARzsND2E",
        "colab": {
          "base_uri": "https://localhost:8080/",
          "height": 248
        },
        "outputId": "fc9291d5-0311-4f2b-c63d-f7e27f0fa524"
      },
      "source": [
        "using JUDI.TimeModeling, SegyIO, LinearAlgebra, PyPlot\r\n",
        "\r\n",
        "# Set up model structure\r\n",
        "n = (121, 101)   # (x,y,z) or (x,z)\r\n",
        "d = (2.5f0, 2.5f0) # in mm\r\n",
        "o = (0., 0.)\r\n",
        "\r\n",
        "# Velocity [km/s]\r\n",
        "v = ones(Float32,n) .+ 0.5f0\r\n",
        "v0 = ones(Float32,n) .+ 0.5f0\r\n",
        "v[:,Int(round(end/2)):end] .= 4f0\r\n",
        "\r\n",
        "# Slowness squared [s^2/km^2]\r\n",
        "m = (1f0 ./ v).^2\r\n",
        "m0 = (1f0 ./ v0).^2\r\n",
        "dm = vec(m - m0)\r\n",
        "\r\n",
        "# Setup info and model structure\r\n",
        "nsrc = 1\t# number of sources\r\n",
        "model = Model(n, d, o, m, rho)\r\n",
        "model0 = Model(n, d, o, m0, rho)\r\n",
        "\r\n",
        "## Set up receiver geometry\r\n",
        "nxrec = 120\r\n",
        "xrec = range(d[1], stop=d[2]*(n[1]-1), length=nxrec)\r\n",
        "yrec = 0f0\r\n",
        "zrec = range(d[1], stop=d[1], length=nxrec)\r\n",
        "\r\n",
        "# receiver sampling and recording time\r\n",
        "timeR = 250f0   # receiver recording time [ms]\r\n",
        "dtR = 0.2f0    # receiver sampling interval [ms]\r\n",
        "\r\n",
        "# Set up receiver structure\r\n",
        "recGeometry = Geometry(xrec, yrec, zrec; dt=dtR, t=timeR, nsrc=nsrc)\r\n",
        "\r\n",
        "## Set up source geometry (cell array with source locations for each shot)\r\n",
        "xsrc = convertToCell([d[1]*61])\r\n",
        "ysrc = convertToCell([0f0])\r\n",
        "zsrc = convertToCell([d[1]])\r\n",
        "\r\n",
        "# source sampling and number of time steps\r\n",
        "timeS = 250f0     # ms\r\n",
        "dtS =  0.2f0    # ms\r\n",
        "\r\n",
        "# Set up source structure\r\n",
        "srcGeometry = Geometry(xsrc, ysrc, zsrc; dt=dtS, t=timeS)\r\n",
        "\r\n",
        "# setup wavelet\r\n",
        "f0 = .05  # MHz\r\n",
        "wavelet = ricker_wavelet(timeS, dtS, f0)\r\n",
        "q = judiVector(srcGeometry, wavelet)\r\n",
        "\r\n",
        "# Set up info structure for linear operators\r\n",
        "ntComp = get_computational_nt(srcGeometry, recGeometry, model)\r\n",
        "info = Info(prod(n), nsrc, ntComp)"
      ],
      "execution_count": 121,
      "outputs": [
        {
          "output_type": "error",
          "ename": "LoadError",
          "evalue": "ignored",
          "traceback": [
            "JUDI.TimeModeling.PhysicalParameterException(\"Incompatible number of element in input 1080000 with n=(121, 101)\")",
            "",
            "Stacktrace:",
            " [1] PhysicalParameter at /root/.julia/dev/JUDI/src/TimeModeling/ModelStructure.jl:76 [inlined]",
            " [2] Model(::Tuple{Int64,Int64}, ::Tuple{Float32,Float32}, ::Tuple{Float64,Float64}, ::Array{Float32,2}; epsilon::Nothing, delta::Nothing, theta::Nothing, phi::Nothing, rho::Array{Float32,3}, nb::Int64) at /root/.julia/dev/JUDI/src/TimeModeling/ModelStructure.jl:296",
            " [3] #Model#6 at /root/.julia/dev/JUDI/src/TimeModeling/ModelStructure.jl:303 [inlined]",
            " [4] Model(::Tuple{Int64,Int64}, ::Tuple{Float32,Float32}, ::Tuple{Float64,Float64}, ::Array{Float32,2}, ::Array{Float32,3}) at /root/.julia/dev/JUDI/src/TimeModeling/ModelStructure.jl:303",
            " [5] top-level scope at In[121]:20",
            " [6] include_string(::Function, ::Module, ::String, ::String) at ./loading.jl:1091"
          ]
        }
      ]
    },
    {
      "cell_type": "code",
      "metadata": {
        "id": "dl7swVaENEch",
        "colab": {
          "base_uri": "https://localhost:8080/",
          "height": 197
        },
        "outputId": "cb34c063-a520-483e-8560-f1a8ff04adb3"
      },
      "source": [
        "###################################################################################################\r\n",
        "\r\n",
        "opt = Options(isic=true)\r\n",
        "# Setup operators\r\n",
        "Pr = judiProjection(info, recGeometry)\r\n",
        "F = judiModeling(info, model)\r\n",
        "F0 = judiModeling(info, model0; options=opt)\r\n",
        "Ps = judiProjection(info, srcGeometry)\r\n",
        "J = judiJacobian(Pr*F0*adjoint(Ps), q)\r\n",
        "\r\n",
        "# Nonlinear modeling\r\n",
        "dobs = Pr*F*adjoint(Ps)*q\r\n",
        "\r\n",
        "\r\n",
        "# With a transducer source pointing down so pi/2 angle and radius 5mm (1cm diameter)\r\n",
        "q2 = transducer(q, model.d, 5, pi/2 .* ones(q.nsrc))\r\n",
        "Ps2 = judiProjection(info, q2.geometry)\r\n",
        "\r\n",
        "dobs2 = Pr*F*adjoint(Ps2)*q2"
      ],
      "execution_count": 122,
      "outputs": [
        {
          "output_type": "error",
          "ename": "LoadError",
          "evalue": "ignored",
          "traceback": [
            "judiPDEfullException(\"shape mismatch\")",
            "",
            "Stacktrace:",
            " [1] *(::judiPDEfull{Float32,Float32}, ::judiVector{Float32}) at /root/.julia/dev/JUDI/src/TimeModeling/judiPDEfull.jl:116",
            " [2] afoldl at ./operators.jl:525 [inlined]",
            " [3] *(::judiProjection{Float32,Float32}, ::judiModeling{Float32,Float32}, ::judiProjection{Float32,Float32}, ::judiVector{Float32}) at ./operators.jl:538",
            " [4] top-level scope at In[122]:12",
            " [5] include_string(::Function, ::Module, ::String, ::String) at ./loading.jl:1091"
          ]
        }
      ]
    },
    {
      "cell_type": "code",
      "metadata": {
        "id": "nHtBvR4ING0J",
        "colab": {
          "base_uri": "https://localhost:8080/",
          "height": 146
        },
        "outputId": "1c4ccbf6-5d9d-4801-a1b7-8dffc724a969"
      },
      "source": [
        "a = 1e-1\r\n",
        "figure()\r\n",
        "subplot(121)\r\n",
        "imshow(dobs.data[1], vmin=-a, vmax=a, cmap=\"seismic\", aspect=.25)\r\n",
        "title(\"Point source\")\r\n",
        "subplot(122)\r\n",
        "imshow(dobs2.data[1], vmin=-a, vmax=a, cmap=\"seismic\", aspect=.25)\r\n",
        "title(\"Transducer source\")\r\n",
        "\r\n",
        "dm = J'*dobs2"
      ],
      "execution_count": 123,
      "outputs": [
        {
          "output_type": "error",
          "ename": "LoadError",
          "evalue": "ignored",
          "traceback": [
            "UndefVarError: dobs2 not defined",
            "",
            "Stacktrace:",
            " [1] top-level scope at In[123]:7",
            " [2] include_string(::Function, ::Module, ::String, ::String) at ./loading.jl:1091"
          ]
        }
      ]
    },
    {
      "cell_type": "markdown",
      "metadata": {
        "id": "gkyNzrc7NKI2"
      },
      "source": [
        "### *modeling_wavefields_2D.jl*"
      ]
    },
    {
      "cell_type": "code",
      "metadata": {
        "id": "WsGoCYNdNPFs",
        "colab": {
          "base_uri": "https://localhost:8080/"
        },
        "outputId": "9f37aed6-8502-4515-c352-aa6e8c88a6b7"
      },
      "source": [
        ";cd /root/.julia/dev/JUDI/examples/scripts"
      ],
      "execution_count": 124,
      "outputs": [
        {
          "output_type": "stream",
          "text": [
            "/root/.julia/dev/JUDI/examples/scripts\n"
          ],
          "name": "stdout"
        }
      ]
    },
    {
      "cell_type": "code",
      "metadata": {
        "id": "O7HUfjZRNPki",
        "colab": {
          "base_uri": "https://localhost:8080/"
        },
        "outputId": "931a5512-e4e5-46d9-af08-fbba3f28a0a3"
      },
      "source": [
        "# Example for basic 2D modeling:\r\n",
        "# The receiver positions and the source wavelets are the same for each of the four experiments.\r\n",
        "# Author: Philipp Witte, pwitte@eos.ubc.ca\r\n",
        "# Date: January 2017\r\n",
        "#\r\n",
        "\r\n",
        "using LinearAlgebra, Random\r\n",
        "using JUDI, JUDI.TimeModeling, SegyIO\r\n",
        "\r\n",
        "# Set up model structure\r\n",
        "n = (120, 100)   # (x,y,z) or (x,z)\r\n",
        "d = (10., 10.)\r\n",
        "o = (0., 0.)\r\n",
        "\r\n",
        "# Velocity [km/s]\r\n",
        "v = ones(Float32,n) .+ 0.4f0\r\n",
        "v0 = ones(Float32,n) .+ 0.4f0\r\n",
        "v[:,Int(round(end/2)):end] .= 3f0\r\n",
        "\r\n",
        "# Slowness squared [s^2/km^2]\r\n",
        "m = (1f0 ./ v).^2\r\n",
        "m0 = (1f0 ./ v0).^2\r\n",
        "dm = vec(m - m0)\r\n",
        "\r\n",
        "# Setup info and model structure\r\n",
        "nsrc = 2\t# number of sources\r\n",
        "model = Model(n, d, o, m)\r\n",
        "model0 = Model(n, d, o, m0)\r\n",
        "\r\n",
        "# Set up receiver geometry\r\n",
        "nxrec = 120\r\n",
        "xrec = range(50f0, stop=1150f0, length=nxrec)\r\n",
        "yrec = 0f0\r\n",
        "zrec = range(50f0, stop=50f0, length=nxrec)\r\n",
        "\r\n",
        "# receiver sampling and recording time\r\n",
        "timeR = 1000f0   # receiver recording time [ms]\r\n",
        "dtR = 4f0    # receiver sampling interval [ms]\r\n",
        "\r\n",
        "# Set up receiver structure\r\n",
        "recGeometry = Geometry(xrec, yrec, zrec; dt=dtR, t=timeR, nsrc=nsrc)\r\n",
        "\r\n",
        "# Set up source geometry (cell array with source locations for each shot)\r\n",
        "xsrc = convertToCell([400f0, 800f0])\r\n",
        "ysrc = convertToCell([0f0, 0f0])\r\n",
        "zsrc = convertToCell([20f0, 20f0])\r\n",
        "\r\n",
        "# source sampling and number of time steps\r\n",
        "timeS = 1000f0  # ms\r\n",
        "dtS = 4f0   # ms\r\n",
        "\r\n",
        "# Set up source structure\r\n",
        "srcGeometry = Geometry(xsrc, ysrc, zsrc; dt=dtS, t=timeS)\r\n",
        "\r\n",
        "# setup wavelet\r\n",
        "f0 = 0.01f0     # MHz\r\n",
        "wavelet = ricker_wavelet(timeS, dtS, f0)\r\n",
        "q = judiVector(srcGeometry, wavelet)\r\n",
        "\r\n",
        "# Set up info structure for linear operators\r\n",
        "ntComp = get_computational_nt(srcGeometry, recGeometry, model)\r\n",
        "info = Info(prod(n), nsrc, ntComp)"
      ],
      "execution_count": 125,
      "outputs": [
        {
          "output_type": "execute_result",
          "data": {
            "text/plain": [
              "Info(12000, 2, Any[794, 794])"
            ]
          },
          "metadata": {
            "tags": []
          },
          "execution_count": 125
        }
      ]
    },
    {
      "cell_type": "code",
      "metadata": {
        "id": "f3qeXNcLNTdM",
        "colab": {
          "base_uri": "https://localhost:8080/"
        },
        "outputId": "a8b0f99f-767b-42d0-f98c-409810f0ec6d"
      },
      "source": [
        "###################################################################################################\r\n",
        "\r\n",
        "# Write shots as segy files to disk\r\n",
        "opt = Options()\r\n",
        "\r\n",
        "# Setup operators\r\n",
        "Pr = judiProjection(info, recGeometry)\r\n",
        "F = judiModeling(info, model; options=opt)\r\n",
        "F0 = judiModeling(info, model0; options=opt)\r\n",
        "Ps = judiProjection(info, srcGeometry)\r\n",
        "J = judiJacobian(Pr*F0*adjoint(Ps), q)\r\n",
        "\r\n",
        "# Nonlinear modeling\r\n",
        "dobs = Pr*F*adjoint(Ps)*q\r\n",
        "qad = Ps*adjoint(F)*adjoint(Pr)*dobs\r\n",
        "\r\n",
        "# Return wavefields\r\n",
        "u = F*adjoint(Ps)*q\r\n",
        "v = adjoint(F)*adjoint(Pr)*dobs\r\n",
        "\r\n",
        "# Modify wavefields\r\n",
        "v = abs(v)  # take absolute value\r\n",
        "u = 2*u # multiple by scalar\r\n",
        "\r\n",
        "# Wavefields as source\r\n",
        "dnew = Pr*F*v\r\n",
        "qnew = Ps*adjoint(F)*u\r\n",
        "\r\n",
        "# Create custom wavefield as source (needs to be on computational time axis and contain padding)\r\n",
        "dtComp = get_dt(model)\r\n",
        "u0 = zeros(Float32, ntComp[1], model.n[1] + 2*model.nb, model.n[2] + 2*model.nb)\r\n",
        "u0[:, 100, 45] = wavelet = -ricker_wavelet(timeS, dtComp, f0)\r\n",
        "uf = judiWavefield(info, dtComp, u0)\r\n",
        "dobs2 = Pr*F*uf # same as dobs\r\n",
        "\r\n",
        "# Wavefields as source + return wavefields\r\n",
        "u2 = F*u\r\n",
        "v2 = F*v\r\n",
        "\r\n",
        "# Supported algebraic operations\r\n",
        "u_add = u + u\r\n",
        "u_sub = u - v\r\n",
        "u_mult = u * 2f0\r\n",
        "u_div = u / 2f0\r\n",
        "u_norm = norm(u)\r\n",
        "u_dot = dot(u, u)\r\n",
        "u_abs = abs(u)"
      ],
      "execution_count": 126,
      "outputs": [
        {
          "output_type": "stream",
          "text": [
            "Operator `forward` run in 0.05 s\n",
            "Operator `forward` run in 0.05 s\n",
            "Operator `adjoint` run in 0.06 s\n",
            "Operator `adjoint` run in 0.05 s\n",
            "Operator `forward` run in 0.08 s\n",
            "Operator `forward` run in 0.07 s\n",
            "Operator `adjoint` run in 0.08 s\n",
            "Operator `adjoint` run in 0.08 s\n",
            "Operator `forward` run in 0.06 s\n",
            "Operator `forward` run in 0.05 s\n",
            "Operator `adjoint` run in 0.05 s\n",
            "Operator `adjoint` run in 0.05 s\n",
            "Operator `forward` run in 0.05 s\n",
            "Operator `forward` run in 0.05 s\n",
            "Operator `forward` run in 0.08 s\n",
            "Operator `forward` run in 0.08 s\n",
            "Operator `forward` run in 0.08 s\n",
            "Operator `forward` run in 0.08 s\n"
          ],
          "name": "stderr"
        },
        {
          "output_type": "execute_result",
          "data": {
            "text/plain": [
              "judiWavefield{Float32}(\"judiWavefield\", 19056000, 1, Info(12000, 2, Any[794, 794]), 1.26f0, Any[Float32[0.0 0.0 … 0.0 0.0; 0.0 0.0 … 0.0 0.0; … ; 5.6904508f-5 0.000115164774 … 0.08919447 0.047491174; 5.6328543f-5 0.00011370143 … 0.08811304 0.047692508]\n",
              "\n",
              "Float32[0.0 0.0 … 0.0 0.0; 0.0 0.0 … 0.0 0.0; … ; 0.00011720283 0.00024387117 … 0.17843586 0.09679096; 0.000115444556 0.00024273207 … 0.17454816 0.09635468]\n",
              "\n",
              "Float32[0.0 0.0 … 0.0 0.0; 0.0 0.0 … 0.0 0.0; … ; 0.0001773574 0.0003727519 … 0.24817845 0.13823149; 0.00017586863 0.00036891596 … 0.23960397 0.13586047]\n",
              "\n",
              "...\n",
              "\n",
              "Float32[0.0 0.0 … 0.0 0.0; 0.0 0.0 … 0.0 0.0; … ; 1.34791235f-5 3.1807376f-5 … 0.007565126 0.0035746587; 1.24511425f-5 2.9486779f-5 … 0.0068416744 0.0032311706]\n",
              "\n",
              "Float32[0.0 0.0 … 0.0 0.0; 0.0 0.0 … 0.0 0.0; … ; 1.2826364f-6 2.3423268f-6 … 0.004922526 0.0023198253; 2.3827886f-6 5.226108f-7 … 0.0044520264 0.0020975203]\n",
              "\n",
              "Float32[0.0 0.0 … 0.0 0.0; 0.0 0.0 … 0.0 0.0; … ; 4.430787f-6 6.1402925f-6 … 0.0023249555 0.0010921311; 5.805896f-6 7.288555f-6 … 0.0021019618 0.0009881682], Float32[0.0 0.0 … 0.0 0.0; 0.0 0.0 … 0.0 0.0; … ; 0.037652273 0.078531004 … 0.000111728135 5.2602907f-5; 0.04024868 0.08207168 … 0.00011124604 5.1658077f-5]\n",
              "\n",
              "Float32[0.0 0.0 … 0.0 0.0; 0.0 0.0 … 0.0 0.0; … ; 0.08100391 0.16620308 … 0.00023823153 0.00011060787; 0.08560352 0.1717432 … 0.00023561902 0.00011020894]\n",
              "\n",
              "Float32[0.0 0.0 … 0.0 0.0; 0.0 0.0 … 0.0 0.0; … ; 0.12463405 0.24832524 … 0.0003547387 0.00017109858; 0.1297333 0.25306678 … 0.0003504307 0.00016933602]\n",
              "\n",
              "...\n",
              "\n",
              "Float32[0.0 0.0 … 0.0 0.0; 0.0 0.0 … 0.0 0.0; … ; 0.004383744 0.009269289 … 7.0366856f-5 3.128637f-5; 0.0039391993 0.008334451 … 7.770907f-5 3.4757784f-5]\n",
              "\n",
              "Float32[0.0 0.0 … 0.0 0.0; 0.0 0.0 … 0.0 0.0; … ; 0.0028434712 0.0060327547 … 2.6296582f-5 9.4195275f-6; 0.0025571913 0.005424586 … 3.3947217f-5 1.3266831f-5]\n",
              "\n",
              "Float32[0.0 0.0 … 0.0 0.0; 0.0 0.0 … 0.0 0.0; … ; 0.0013359867 0.00284946 … 4.4723124f-6 5.7726144f-8; 0.0012029591 0.0025623126 … 9.762156f-6 2.8518095f-6]])"
            ]
          },
          "metadata": {
            "tags": []
          },
          "execution_count": 126
        }
      ]
    },
    {
      "cell_type": "markdown",
      "metadata": {
        "id": "XdMpcQduyaQc"
      },
      "source": [
        "\n",
        "\n",
        "---\n",
        "\n",
        "\n",
        "# **You can run this to check if Julia is running and its GPU perfomance**\n",
        "\n",
        "\n"
      ]
    },
    {
      "cell_type": "code",
      "metadata": {
        "id": "iIxu4TjlJnBG"
      },
      "source": [
        "VERSION"
      ],
      "execution_count": null,
      "outputs": []
    },
    {
      "cell_type": "markdown",
      "metadata": {
        "id": "rR7Ox6Ax0ypi"
      },
      "source": [
        "The main reason we are interested in running Julia on Colab is the GPU functionality. So we can benchmark the performance on the GPU.<br>**The next two cells are optional and are for people using it for the first time**"
      ]
    },
    {
      "cell_type": "code",
      "metadata": {
        "id": "vHKANz2J0GDW"
      },
      "source": [
        "using Pkg\n",
        "Pkg.add([\"BenchmarkTools\", \"CuArrays\"])\n",
        "using BenchmarkTools,CuArrays"
      ],
      "execution_count": null,
      "outputs": []
    },
    {
      "cell_type": "code",
      "metadata": {
        "id": "aMI2QjTuyXs2"
      },
      "source": [
        "mcpu = rand(2^10, 2^10)\n",
        "@benchmark mcpu*mcpu\n",
        "\n",
        "println(\"The CuArrray operation should take around 1 ms(excluding CUDA downloading time which is a one time process), and should be much faster. If so, the GPU is working.\")\n",
        "mgpu = cu(mcpu)\n",
        "@benchmark CuArrays.@sync mgpu*mgpu"
      ],
      "execution_count": null,
      "outputs": []
    }
  ]
}