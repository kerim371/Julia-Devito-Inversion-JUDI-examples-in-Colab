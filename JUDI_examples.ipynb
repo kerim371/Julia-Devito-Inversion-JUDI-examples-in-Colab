{
  "nbformat": 4,
  "nbformat_minor": 0,
  "metadata": {
    "accelerator": "GPU",
    "colab": {
      "name": "JUDI_example.ipynb",
      "provenance": [],
      "collapsed_sections": [
        "QCxWWIhwGsaY",
        "h5r4osdWG1Mu",
        "IL6iVezPJpNs",
        "XdMpcQduyaQc"
      ],
      "toc_visible": true,
      "include_colab_link": true
    },
    "kernelspec": {
      "display_name": "Julia 1.5.0",
      "language": "julia",
      "name": "julia-1.5"
    },
    "language_info": {
      "file_extension": ".jl",
      "mimetype": "application/julia",
      "name": "julia",
      "version": "1.5.0"
    }
  },
  "cells": [
    {
      "cell_type": "markdown",
      "metadata": {
        "id": "view-in-github",
        "colab_type": "text"
      },
      "source": [
        "<a href=\"https://colab.research.google.com/github/kerim371/Julia-Devito-Inversion-JUDI-examples-in-Colab/blob/main/JUDI_examples.ipynb\" target=\"_parent\"><img src=\"https://colab.research.google.com/assets/colab-badge.svg\" alt=\"Open In Colab\"/></a>"
      ]
    },
    {
      "cell_type": "markdown",
      "metadata": {
        "id": "NNRNZ2RxH91a"
      },
      "source": [
        "To run this notebook in Colab you either have to use this script or download it and then upload to Colab. You cannot simply copy this code and past it to your Colab session - this won't let you use Julia. You can open **.pynb** document in textual editor and see at top of the document how it Julia is et up and change its version as well if you need."
      ]
    },
    {
      "cell_type": "markdown",
      "metadata": {
        "id": "QCxWWIhwGsaY"
      },
      "source": [
        "# Julia installation"
      ]
    },
    {
      "cell_type": "code",
      "metadata": {
        "id": "_Kg612Wi0DvT",
        "colab": {
          "base_uri": "https://localhost:8080/"
        },
        "outputId": "5978fca8-ed73-407d-c742-a7f37f73e930"
      },
      "source": [
        "# Julia installation\r\n",
        "%%shell\r\n",
        "if ! command -v julia 3>&1 > /dev/null\r\n",
        "then\r\n",
        "    wget 'https://julialang-s3.julialang.org/bin/linux/x64/1.5/julia-1.5.0-linux-x86_64.tar.gz' \\\r\n",
        "        -O /tmp/julia.tar.gz\r\n",
        "    tar -x -f /tmp/julia.tar.gz -C /usr/local --strip-components 1\r\n",
        "    rm /tmp/julia.tar.gz\r\n",
        "fi\r\n",
        "julia -e 'using Pkg; pkg\"add IJulia; precompile;\"'\r\n",
        "echo 'Done'"
      ],
      "execution_count": 1,
      "outputs": [
        {
          "output_type": "stream",
          "text": [
            "--2020-12-12 17:31:03--  https://julialang-s3.julialang.org/bin/linux/x64/1.5/julia-1.5.0-linux-x86_64.tar.gz\n",
            "Resolving julialang-s3.julialang.org (julialang-s3.julialang.org)... 151.101.2.49, 151.101.66.49, 151.101.130.49, ...\n",
            "Connecting to julialang-s3.julialang.org (julialang-s3.julialang.org)|151.101.2.49|:443... connected.\n",
            "HTTP request sent, awaiting response... 302 gce internal redirect trigger\n",
            "Location: https://storage.googleapis.com/julialang2/bin/linux/x64/1.5/julia-1.5.0-linux-x86_64.tar.gz [following]\n",
            "--2020-12-12 17:31:03--  https://storage.googleapis.com/julialang2/bin/linux/x64/1.5/julia-1.5.0-linux-x86_64.tar.gz\n",
            "Resolving storage.googleapis.com (storage.googleapis.com)... 142.250.73.240, 172.253.122.128, 172.253.63.128, ...\n",
            "Connecting to storage.googleapis.com (storage.googleapis.com)|142.250.73.240|:443... connected.\n",
            "HTTP request sent, awaiting response... 200 OK\n",
            "Length: 105098627 (100M) [application/x-tar]\n",
            "Saving to: ‘/tmp/julia.tar.gz’\n",
            "\n",
            "/tmp/julia.tar.gz   100%[===================>] 100.23M   109MB/s    in 0.9s    \n",
            "\n",
            "2020-12-12 17:31:04 (109 MB/s) - ‘/tmp/julia.tar.gz’ saved [105098627/105098627]\n",
            "\n",
            "\u001b[32m\u001b[1m Installing\u001b[22m\u001b[39m known registries into `~/.julia`\n",
            "######################################################################## 100.0%\n",
            "\u001b[32m\u001b[1m      Added\u001b[22m\u001b[39m registry `General` to `~/.julia/registries/General`\n",
            "\u001b[32m\u001b[1m  Resolving\u001b[22m\u001b[39m package versions...\n",
            "\u001b[32m\u001b[1m  Installed\u001b[22m\u001b[39m ZeroMQ_jll ────── v4.3.2+5\n",
            "\u001b[32m\u001b[1m  Installed\u001b[22m\u001b[39m VersionParsing ── v1.2.0\n",
            "\u001b[32m\u001b[1m  Installed\u001b[22m\u001b[39m SoftGlobalScope ─ v1.1.0\n",
            "\u001b[32m\u001b[1m  Installed\u001b[22m\u001b[39m Conda ─────────── v1.5.0\n",
            "\u001b[32m\u001b[1m  Installed\u001b[22m\u001b[39m ZMQ ───────────── v1.2.1\n",
            "\u001b[32m\u001b[1m  Installed\u001b[22m\u001b[39m IJulia ────────── v1.23.1\n",
            "\u001b[32m\u001b[1m  Installed\u001b[22m\u001b[39m JSON ──────────── v0.21.1\n",
            "\u001b[32m\u001b[1m  Installed\u001b[22m\u001b[39m JLLWrappers ───── v1.1.3\n",
            "\u001b[32m\u001b[1m  Installed\u001b[22m\u001b[39m Artifacts ─────── v1.3.0\n",
            "\u001b[32m\u001b[1m  Installed\u001b[22m\u001b[39m MbedTLS_jll ───── v2.16.8+1\n",
            "\u001b[32m\u001b[1m  Installed\u001b[22m\u001b[39m Parsers ───────── v1.0.15\n",
            "\u001b[32m\u001b[1m  Installed\u001b[22m\u001b[39m MbedTLS ───────── v1.0.3\n",
            "\u001b[32m\u001b[1mDownloading\u001b[22m\u001b[39m artifact: ZeroMQ\n",
            "######################################################################## 100.0%\n",
            "\u001b[1A\u001b[2K\u001b[?25h\u001b[32m\u001b[1mDownloading\u001b[22m\u001b[39m artifact: MbedTLS\n",
            "######################################################################## 100.0%\n",
            "\u001b[1A\u001b[2K\u001b[?25h\u001b[32m\u001b[1mUpdating\u001b[22m\u001b[39m `~/.julia/environments/v1.5/Project.toml`\n",
            " \u001b[90m [7073ff75] \u001b[39m\u001b[92m+ IJulia v1.23.1\u001b[39m\n",
            "\u001b[32m\u001b[1mUpdating\u001b[22m\u001b[39m `~/.julia/environments/v1.5/Manifest.toml`\n",
            " \u001b[90m [56f22d72] \u001b[39m\u001b[92m+ Artifacts v1.3.0\u001b[39m\n",
            " \u001b[90m [8f4d0f93] \u001b[39m\u001b[92m+ Conda v1.5.0\u001b[39m\n",
            " \u001b[90m [7073ff75] \u001b[39m\u001b[92m+ IJulia v1.23.1\u001b[39m\n",
            " \u001b[90m [692b3bcd] \u001b[39m\u001b[92m+ JLLWrappers v1.1.3\u001b[39m\n",
            " \u001b[90m [682c06a0] \u001b[39m\u001b[92m+ JSON v0.21.1\u001b[39m\n",
            " \u001b[90m [739be429] \u001b[39m\u001b[92m+ MbedTLS v1.0.3\u001b[39m\n",
            " \u001b[90m [c8ffd9c3] \u001b[39m\u001b[92m+ MbedTLS_jll v2.16.8+1\u001b[39m\n",
            " \u001b[90m [69de0a69] \u001b[39m\u001b[92m+ Parsers v1.0.15\u001b[39m\n",
            " \u001b[90m [b85f4697] \u001b[39m\u001b[92m+ SoftGlobalScope v1.1.0\u001b[39m\n",
            " \u001b[90m [81def892] \u001b[39m\u001b[92m+ VersionParsing v1.2.0\u001b[39m\n",
            " \u001b[90m [c2297ded] \u001b[39m\u001b[92m+ ZMQ v1.2.1\u001b[39m\n",
            " \u001b[90m [8f1865be] \u001b[39m\u001b[92m+ ZeroMQ_jll v4.3.2+5\u001b[39m\n",
            " \u001b[90m [2a0f44e3] \u001b[39m\u001b[92m+ Base64\u001b[39m\n",
            " \u001b[90m [ade2ca70] \u001b[39m\u001b[92m+ Dates\u001b[39m\n",
            " \u001b[90m [8ba89e20] \u001b[39m\u001b[92m+ Distributed\u001b[39m\n",
            " \u001b[90m [7b1f6079] \u001b[39m\u001b[92m+ FileWatching\u001b[39m\n",
            " \u001b[90m [b77e0a4c] \u001b[39m\u001b[92m+ InteractiveUtils\u001b[39m\n",
            " \u001b[90m [76f85450] \u001b[39m\u001b[92m+ LibGit2\u001b[39m\n",
            " \u001b[90m [8f399da3] \u001b[39m\u001b[92m+ Libdl\u001b[39m\n",
            " \u001b[90m [56ddb016] \u001b[39m\u001b[92m+ Logging\u001b[39m\n",
            " \u001b[90m [d6f4376e] \u001b[39m\u001b[92m+ Markdown\u001b[39m\n",
            " \u001b[90m [a63ad114] \u001b[39m\u001b[92m+ Mmap\u001b[39m\n",
            " \u001b[90m [44cfe95a] \u001b[39m\u001b[92m+ Pkg\u001b[39m\n",
            " \u001b[90m [de0858da] \u001b[39m\u001b[92m+ Printf\u001b[39m\n",
            " \u001b[90m [3fa0cd96] \u001b[39m\u001b[92m+ REPL\u001b[39m\n",
            " \u001b[90m [9a3f8284] \u001b[39m\u001b[92m+ Random\u001b[39m\n",
            " \u001b[90m [ea8e919c] \u001b[39m\u001b[92m+ SHA\u001b[39m\n",
            " \u001b[90m [9e88b42a] \u001b[39m\u001b[92m+ Serialization\u001b[39m\n",
            " \u001b[90m [6462fe0b] \u001b[39m\u001b[92m+ Sockets\u001b[39m\n",
            " \u001b[90m [8dfed614] \u001b[39m\u001b[92m+ Test\u001b[39m\n",
            " \u001b[90m [cf7118a7] \u001b[39m\u001b[92m+ UUIDs\u001b[39m\n",
            " \u001b[90m [4ec0a83e] \u001b[39m\u001b[92m+ Unicode\u001b[39m\n",
            "\u001b[32m\u001b[1m   Building\u001b[22m\u001b[39m Conda ─→ `~/.julia/packages/Conda/x5ml4/deps/build.log`\n",
            "\u001b[32m\u001b[1m   Building\u001b[22m\u001b[39m IJulia → `~/.julia/packages/IJulia/IDNmS/deps/build.log`\n",
            "\u001b[32m\u001b[1mPrecompiling\u001b[22m\u001b[39m project...\n",
            "Done\n"
          ],
          "name": "stdout"
        },
        {
          "output_type": "execute_result",
          "data": {
            "text/plain": [
              ""
            ]
          },
          "metadata": {
            "tags": []
          },
          "execution_count": 1
        }
      ]
    },
    {
      "cell_type": "markdown",
      "metadata": {
        "id": "xEqmghkc_Qyu"
      },
      "source": [
        "# Install Python and Julia packages"
      ]
    },
    {
      "cell_type": "markdown",
      "metadata": {
        "id": "2MxpOY7w_Yq2"
      },
      "source": [
        "Until now we have been using ipython. Now we are going to use Julia. To achieve it go to Colab's menu bar and select **Edit** and select **Notebook settings** from the drop down. Select *Julia 1.5.0* as the runtime and *GPU* as the hadware accelerator. If necessary reload web-page (F5) and change **Notebook settings**"
      ]
    },
    {
      "cell_type": "code",
      "metadata": {
        "id": "xzjDpqnpNfoh",
        "outputId": "5334adbd-7bb5-4abc-f874-ac14cb5f7293",
        "colab": {
          "base_uri": "https://localhost:8080/"
        }
      },
      "source": [
        "using Pkg\r\n",
        "\r\n",
        "ENV[\"PYTHON\"]=\"/root/.julia/conda/3/bin/python\"\r\n",
        "Pkg.add(\"PyCall\")\r\n",
        "Pkg.build(\"PyCall\")"
      ],
      "execution_count": 11,
      "outputs": [
        {
          "output_type": "stream",
          "text": [
            "\u001b[32m\u001b[1m  Resolving\u001b[22m\u001b[39m package versions...\n",
            "\u001b[32m\u001b[1mNo Changes\u001b[22m\u001b[39m to `~/.julia/environments/v1.5/Project.toml`\n",
            "\u001b[32m\u001b[1mNo Changes\u001b[22m\u001b[39m to `~/.julia/environments/v1.5/Manifest.toml`\n",
            "\u001b[32m\u001b[1m   Building\u001b[22m\u001b[39m Conda ─→ `~/.julia/packages/Conda/x5ml4/deps/build.log`\n",
            "\u001b[32m\u001b[1m   Building\u001b[22m\u001b[39m PyCall → `~/.julia/packages/PyCall/BcTLp/deps/build.log`\n"
          ],
          "name": "stderr"
        }
      ]
    },
    {
      "cell_type": "code",
      "metadata": {
        "id": "6v36jPvrAKmC",
        "outputId": "b953331a-57d5-4b38-ad98-c4fe21e0500c",
        "colab": {
          "base_uri": "https://localhost:8080/"
        }
      },
      "source": [
        "Pkg.Registry.add(RegistrySpec(url=\"https://github.com/slimgroup/SLIMregistryJL.git\"))\r\n",
        "Pkg.develop(\"JUDI\")"
      ],
      "execution_count": 12,
      "outputs": [
        {
          "output_type": "stream",
          "text": [
            "\u001b[?25l    "
          ],
          "name": "stdout"
        },
        {
          "output_type": "stream",
          "text": [
            "\u001b[32m\u001b[1m    Cloning\u001b[22m\u001b[39m registry from \"https://github.com/slimgroup/SLIMregistryJL.git\"\n"
          ],
          "name": "stderr"
        },
        {
          "output_type": "stream",
          "text": [
            "\u001b[2K\u001b[?25h"
          ],
          "name": "stdout"
        },
        {
          "output_type": "stream",
          "text": [
            "\u001b[32m\u001b[1m      Added\u001b[22m\u001b[39m registry `SLIMregistryJL` to `~/.julia/registries/SLIMregistryJL`\n"
          ],
          "name": "stderr"
        },
        {
          "output_type": "stream",
          "text": [
            "\u001b[?25l    "
          ],
          "name": "stdout"
        },
        {
          "output_type": "stream",
          "text": [
            "\u001b[32m\u001b[1m    Cloning\u001b[22m\u001b[39m git-repo `https://GitHub.com/slimgroup/JUDI.jl.git`\n"
          ],
          "name": "stderr"
        },
        {
          "output_type": "stream",
          "text": [
            "\u001b[2K\u001b[?25h"
          ],
          "name": "stdout"
        },
        {
          "output_type": "stream",
          "text": [
            "\u001b[32m\u001b[1m  Resolving\u001b[22m\u001b[39m package versions...\n",
            "\u001b[32m\u001b[1m  Installed\u001b[22m\u001b[39m BFloat16s ──────────────────── v0.1.0\n",
            "\u001b[32m\u001b[1m  Installed\u001b[22m\u001b[39m Mocking ────────────────────── v0.7.1\n",
            "\u001b[32m\u001b[1m  Installed\u001b[22m\u001b[39m Dierckx_jll ────────────────── v0.0.1+0\n",
            "\u001b[32m\u001b[1m  Installed\u001b[22m\u001b[39m Adapt ──────────────────────── v2.3.0\n",
            "\u001b[32m\u001b[1m  Installed\u001b[22m\u001b[39m SpecialFunctions ───────────── v0.10.3\n",
            "\u001b[32m\u001b[1m  Installed\u001b[22m\u001b[39m OffsetArrays ───────────────── v1.4.1\n",
            "\u001b[32m\u001b[1m  Installed\u001b[22m\u001b[39m OrderedCollections ─────────── v1.3.2\n",
            "\u001b[32m\u001b[1m  Installed\u001b[22m\u001b[39m NNlib ──────────────────────── v0.7.7\n",
            "\u001b[32m\u001b[1m  Installed\u001b[22m\u001b[39m Nullables ──────────────────── v1.0.0\n",
            "\u001b[32m\u001b[1m  Installed\u001b[22m\u001b[39m TextWrap ───────────────────── v1.0.1\n",
            "\u001b[32m\u001b[1m  Installed\u001b[22m\u001b[39m DistributedArrays ──────────── v0.6.5\n",
            "\u001b[32m\u001b[1m  Installed\u001b[22m\u001b[39m IterTools ──────────────────── v1.3.0\n",
            "\u001b[32m\u001b[1m  Installed\u001b[22m\u001b[39m Requires ───────────────────── v1.1.1\n",
            "\u001b[32m\u001b[1m  Installed\u001b[22m\u001b[39m EzXML ──────────────────────── v1.1.0\n",
            "\u001b[32m\u001b[1m  Installed\u001b[22m\u001b[39m GPUArrays ──────────────────── v6.1.2\n",
            "\u001b[32m\u001b[1m  Installed\u001b[22m\u001b[39m Dierckx ────────────────────── v0.5.1\n",
            "\u001b[32m\u001b[1m  Installed\u001b[22m\u001b[39m FFTW ───────────────────────── v1.2.4\n",
            "\u001b[32m\u001b[1m  Installed\u001b[22m\u001b[39m NaNMath ────────────────────── v0.3.5\n",
            "\u001b[32m\u001b[1m  Installed\u001b[22m\u001b[39m IterativeSolvers ───────────── v0.8.4\n",
            "\u001b[32m\u001b[1m  Installed\u001b[22m\u001b[39m LLVM ───────────────────────── v3.5.1\n",
            "\u001b[32m\u001b[1m  Installed\u001b[22m\u001b[39m TimerOutputs ───────────────── v0.5.7\n",
            "\u001b[32m\u001b[1m  Installed\u001b[22m\u001b[39m CompilerSupportLibraries_jll ─ v0.3.4+0\n",
            "\u001b[32m\u001b[1m  Installed\u001b[22m\u001b[39m MKL_jll ────────────────────── v2020.2.254+0\n",
            "\u001b[32m\u001b[1m  Installed\u001b[22m\u001b[39m Scratch ────────────────────── v1.0.3\n",
            "\u001b[32m\u001b[1m  Installed\u001b[22m\u001b[39m GenericLinearAlgebra ───────── v0.2.4\n",
            "\u001b[32m\u001b[1m  Installed\u001b[22m\u001b[39m ArgParse ───────────────────── v1.1.1\n",
            "\u001b[32m\u001b[1m  Installed\u001b[22m\u001b[39m Intervals ──────────────────── v1.5.0\n",
            "\u001b[32m\u001b[1m  Installed\u001b[22m\u001b[39m Colors ─────────────────────── v0.12.4\n",
            "\u001b[32m\u001b[1m  Installed\u001b[22m\u001b[39m CUDA ───────────────────────── v2.3.0\n",
            "\u001b[32m\u001b[1m  Installed\u001b[22m\u001b[39m FixedPointNumbers ──────────── v0.8.4\n",
            "\u001b[32m\u001b[1m  Installed\u001b[22m\u001b[39m NFFT ───────────────────────── v0.6.1\n",
            "\u001b[32m\u001b[1m  Installed\u001b[22m\u001b[39m FFTW_jll ───────────────────── v3.3.9+6\n",
            "\u001b[32m\u001b[1m  Installed\u001b[22m\u001b[39m Reexport ───────────────────── v0.2.0\n",
            "\u001b[32m\u001b[1m  Installed\u001b[22m\u001b[39m OpenSpecFun_jll ────────────── v0.5.3+4\n",
            "\u001b[32m\u001b[1m  Installed\u001b[22m\u001b[39m Libiconv_jll ───────────────── v1.16.0+7\n",
            "\u001b[32m\u001b[1m  Installed\u001b[22m\u001b[39m InplaceOps ─────────────────── v0.3.0\n",
            "\u001b[32m\u001b[1m  Installed\u001b[22m\u001b[39m Wavelets ───────────────────── v0.9.2\n",
            "\u001b[32m\u001b[1m  Installed\u001b[22m\u001b[39m RecipesBase ────────────────── v1.1.1\n",
            "\u001b[32m\u001b[1m  Installed\u001b[22m\u001b[39m Primes ─────────────────────── v0.4.0\n",
            "\u001b[32m\u001b[1m  Installed\u001b[22m\u001b[39m DataStructures ─────────────── v0.18.8\n",
            "\u001b[32m\u001b[1m  Installed\u001b[22m\u001b[39m CEnum ──────────────────────── v0.4.1\n",
            "\u001b[32m\u001b[1m  Installed\u001b[22m\u001b[39m ColorTypes ─────────────────── v0.10.9\n",
            "\u001b[32m\u001b[1m  Installed\u001b[22m\u001b[39m GPUCompiler ────────────────── v0.8.3\n",
            "\u001b[32m\u001b[1m  Installed\u001b[22m\u001b[39m Graphics ───────────────────── v1.0.2\n",
            "\u001b[32m\u001b[1m  Installed\u001b[22m\u001b[39m AbstractFFTs ───────────────── v0.5.0\n",
            "\u001b[32m\u001b[1m  Installed\u001b[22m\u001b[39m Polynomials ────────────────── v1.1.13\n",
            "\u001b[32m\u001b[1m  Installed\u001b[22m\u001b[39m PolynomialRoots ────────────── v1.0.0\n",
            "\u001b[32m\u001b[1m  Installed\u001b[22m\u001b[39m Compat ─────────────────────── v3.24.0\n",
            "\u001b[32m\u001b[1m  Installed\u001b[22m\u001b[39m ExprTools ──────────────────── v0.1.3\n",
            "\u001b[32m\u001b[1m  Installed\u001b[22m\u001b[39m DSP ────────────────────────── v0.6.9\n",
            "\u001b[32m\u001b[1m  Installed\u001b[22m\u001b[39m XML2_jll ───────────────────── v2.9.10+3\n",
            "\u001b[32m\u001b[1m  Installed\u001b[22m\u001b[39m IntelOpenMP_jll ────────────── v2018.0.3+0\n",
            "\u001b[32m\u001b[1m  Installed\u001b[22m\u001b[39m Zlib_jll ───────────────────── v1.2.11+18\n",
            "\u001b[32m\u001b[1m  Installed\u001b[22m\u001b[39m TimeZones ──────────────────── v1.5.3\n"
          ],
          "name": "stderr"
        },
        {
          "output_type": "stream",
          "text": [
            "\u001b[?25l    "
          ],
          "name": "stdout"
        },
        {
          "output_type": "stream",
          "text": [
            "\u001b[32m\u001b[1m    Cloning\u001b[22m\u001b[39m [bb331ad6-a1cf-11e9-23da-9bcb53c69f6f] JOLI from https://GitHub.com/slimgroup/JOLI.jl.git\n"
          ],
          "name": "stderr"
        },
        {
          "output_type": "stream",
          "text": [
            "\u001b[2K\u001b[?25h\u001b[?25l    "
          ],
          "name": "stdout"
        },
        {
          "output_type": "stream",
          "text": [
            "\u001b[32m\u001b[1m  Installed\u001b[22m\u001b[39m JOLI ───────────────────────── v0.7.13\n",
            "\u001b[32m\u001b[1m    Cloning\u001b[22m\u001b[39m [157a0f19-4d44-4de5-a0d0-07e2f0ac4dfa] SegyIO from https://GitHub.com/slimgroup/SegyIO.jl.git\n"
          ],
          "name": "stderr"
        },
        {
          "output_type": "stream",
          "text": [
            "\u001b[2K\u001b[?25h"
          ],
          "name": "stdout"
        },
        {
          "output_type": "stream",
          "text": [
            "\u001b[32m\u001b[1m  Installed\u001b[22m\u001b[39m SegyIO ─────────────────────── v0.7.3\n",
            "######################################################################### 100.0%\n",
            "######################################################################### 100.0%\n",
            "######################################################################### 100.0%\n",
            "######################################################################### 100.0%\n",
            "######################################################################### 100.0%\n",
            "######################################################################### 100.0%\n",
            "######################################################################### 100.0%\n",
            "######################################################################### 100.0%\n",
            "\u001b[32m\u001b[1mUpdating\u001b[22m\u001b[39m `~/.julia/environments/v1.5/Project.toml`\n",
            " \u001b[90m [f3b833dc] \u001b[39m\u001b[92m+ JUDI v2.2.0 `~/.julia/dev/JUDI`\u001b[39m\n",
            "\u001b[32m\u001b[1mUpdating\u001b[22m\u001b[39m `~/.julia/environments/v1.5/Manifest.toml`\n",
            " \u001b[90m [621f4979] \u001b[39m\u001b[92m+ AbstractFFTs v0.5.0\u001b[39m\n",
            " \u001b[90m [79e6a3ab] \u001b[39m\u001b[92m+ Adapt v2.3.0\u001b[39m\n",
            " \u001b[90m [c7e460c6] \u001b[39m\u001b[92m+ ArgParse v1.1.1\u001b[39m\n",
            " \u001b[90m [ab4f0b2a] \u001b[39m\u001b[92m+ BFloat16s v0.1.0\u001b[39m\n",
            " \u001b[90m [fa961155] \u001b[39m\u001b[92m+ CEnum v0.4.1\u001b[39m\n",
            " \u001b[90m [052768ef] \u001b[39m\u001b[92m+ CUDA v2.3.0\u001b[39m\n",
            " \u001b[90m [3da002f7] \u001b[39m\u001b[92m+ ColorTypes v0.10.9\u001b[39m\n",
            " \u001b[90m [5ae59095] \u001b[39m\u001b[92m+ Colors v0.12.4\u001b[39m\n",
            " \u001b[90m [34da2185] \u001b[39m\u001b[92m+ Compat v3.24.0\u001b[39m\n",
            " \u001b[90m [e66e0078] \u001b[39m\u001b[92m+ CompilerSupportLibraries_jll v0.3.4+0\u001b[39m\n",
            " \u001b[90m [717857b8] \u001b[39m\u001b[92m+ DSP v0.6.9\u001b[39m\n",
            " \u001b[90m [864edb3b] \u001b[39m\u001b[92m+ DataStructures v0.18.8\u001b[39m\n",
            " \u001b[90m [39dd38d3] \u001b[39m\u001b[92m+ Dierckx v0.5.1\u001b[39m\n",
            " \u001b[90m [cd4c43a9] \u001b[39m\u001b[92m+ Dierckx_jll v0.0.1+0\u001b[39m\n",
            " \u001b[90m [aaf54ef3] \u001b[39m\u001b[92m+ DistributedArrays v0.6.5\u001b[39m\n",
            " \u001b[90m [e2ba6199] \u001b[39m\u001b[92m+ ExprTools v0.1.3\u001b[39m\n",
            " \u001b[90m [8f5d6c58] \u001b[39m\u001b[92m+ EzXML v1.1.0\u001b[39m\n",
            " \u001b[90m [7a1cc6ca] \u001b[39m\u001b[92m+ FFTW v1.2.4\u001b[39m\n",
            " \u001b[90m [f5851436] \u001b[39m\u001b[92m+ FFTW_jll v3.3.9+6\u001b[39m\n",
            " \u001b[90m [53c48c17] \u001b[39m\u001b[92m+ FixedPointNumbers v0.8.4\u001b[39m\n",
            " \u001b[90m [0c68f7d7] \u001b[39m\u001b[92m+ GPUArrays v6.1.2\u001b[39m\n",
            " \u001b[90m [61eb1bfa] \u001b[39m\u001b[92m+ GPUCompiler v0.8.3\u001b[39m\n",
            " \u001b[90m [14197337] \u001b[39m\u001b[92m+ GenericLinearAlgebra v0.2.4\u001b[39m\n",
            " \u001b[90m [a2bd30eb] \u001b[39m\u001b[92m+ Graphics v1.0.2\u001b[39m\n",
            " \u001b[90m [505f98c9] \u001b[39m\u001b[92m+ InplaceOps v0.3.0\u001b[39m\n",
            " \u001b[90m [1d5cc7b8] \u001b[39m\u001b[92m+ IntelOpenMP_jll v2018.0.3+0\u001b[39m\n",
            " \u001b[90m [d8418881] \u001b[39m\u001b[92m+ Intervals v1.5.0\u001b[39m\n",
            " \u001b[90m [c8e1da08] \u001b[39m\u001b[92m+ IterTools v1.3.0\u001b[39m\n",
            " \u001b[90m [42fd0dbc] \u001b[39m\u001b[92m+ IterativeSolvers v0.8.4\u001b[39m\n",
            " \u001b[90m [bb331ad6] \u001b[39m\u001b[92m+ JOLI v0.7.13\u001b[39m\n",
            " \u001b[90m [f3b833dc] \u001b[39m\u001b[92m+ JUDI v2.2.0 `~/.julia/dev/JUDI`\u001b[39m\n",
            " \u001b[90m [929cbde3] \u001b[39m\u001b[92m+ LLVM v3.5.1\u001b[39m\n",
            " \u001b[90m [94ce4f54] \u001b[39m\u001b[92m+ Libiconv_jll v1.16.0+7\u001b[39m\n",
            " \u001b[90m [856f044c] \u001b[39m\u001b[92m+ MKL_jll v2020.2.254+0\u001b[39m\n",
            " \u001b[90m [78c3b35d] \u001b[39m\u001b[92m+ Mocking v0.7.1\u001b[39m\n",
            " \u001b[90m [efe261a4] \u001b[39m\u001b[92m+ NFFT v0.6.1\u001b[39m\n",
            " \u001b[90m [872c559c] \u001b[39m\u001b[92m+ NNlib v0.7.7\u001b[39m\n",
            " \u001b[90m [77ba4419] \u001b[39m\u001b[92m+ NaNMath v0.3.5\u001b[39m\n",
            " \u001b[90m [4d1e1d77] \u001b[39m\u001b[92m+ Nullables v1.0.0\u001b[39m\n",
            " \u001b[90m [6fe1bfb0] \u001b[39m\u001b[92m+ OffsetArrays v1.4.1\u001b[39m\n",
            " \u001b[90m [efe28fd5] \u001b[39m\u001b[92m+ OpenSpecFun_jll v0.5.3+4\u001b[39m\n",
            " \u001b[90m [bac558e1] \u001b[39m\u001b[92m+ OrderedCollections v1.3.2\u001b[39m\n",
            " \u001b[90m [3a141323] \u001b[39m\u001b[92m+ PolynomialRoots v1.0.0\u001b[39m\n",
            " \u001b[90m [f27b6e38] \u001b[39m\u001b[92m+ Polynomials v1.1.13\u001b[39m\n",
            " \u001b[90m [27ebfcd6] \u001b[39m\u001b[92m+ Primes v0.4.0\u001b[39m\n",
            " \u001b[90m [3cdcf5f2] \u001b[39m\u001b[92m+ RecipesBase v1.1.1\u001b[39m\n",
            " \u001b[90m [189a3867] \u001b[39m\u001b[92m+ Reexport v0.2.0\u001b[39m\n",
            " \u001b[90m [ae029012] \u001b[39m\u001b[92m+ Requires v1.1.1\u001b[39m\n",
            " \u001b[90m [6c6a2e73] \u001b[39m\u001b[92m+ Scratch v1.0.3\u001b[39m\n",
            " \u001b[90m [157a0f19] \u001b[39m\u001b[92m+ SegyIO v0.7.3\u001b[39m\n",
            " \u001b[90m [276daf66] \u001b[39m\u001b[92m+ SpecialFunctions v0.10.3\u001b[39m\n",
            " \u001b[90m [b718987f] \u001b[39m\u001b[92m+ TextWrap v1.0.1\u001b[39m\n",
            " \u001b[90m [f269a46b] \u001b[39m\u001b[92m+ TimeZones v1.5.3\u001b[39m\n",
            " \u001b[90m [a759f4b9] \u001b[39m\u001b[92m+ TimerOutputs v0.5.7\u001b[39m\n",
            " \u001b[90m [29a6e085] \u001b[39m\u001b[92m+ Wavelets v0.9.2\u001b[39m\n",
            " \u001b[90m [02c8fc9c] \u001b[39m\u001b[92m+ XML2_jll v2.9.10+3\u001b[39m\n",
            " \u001b[90m [83775a58] \u001b[39m\u001b[92m+ Zlib_jll v1.2.11+18\u001b[39m\n",
            " \u001b[90m [8bb1440f] \u001b[39m\u001b[92m+ DelimitedFiles\u001b[39m\n",
            " \u001b[90m [1a1011a3] \u001b[39m\u001b[92m+ SharedArrays\u001b[39m\n",
            " \u001b[90m [2f01184e] \u001b[39m\u001b[92m+ SparseArrays\u001b[39m\n",
            " \u001b[90m [10745b16] \u001b[39m\u001b[92m+ Statistics\u001b[39m\n",
            "\u001b[32m\u001b[1m   Building\u001b[22m\u001b[39m TimeZones → `~/.julia/packages/TimeZones/K98G0/deps/build.log`\n",
            "\u001b[32m\u001b[1m   Building\u001b[22m\u001b[39m FFTW ─────→ `~/.julia/packages/FFTW/DMUbN/deps/build.log`\n"
          ],
          "name": "stderr"
        }
      ]
    },
    {
      "cell_type": "code",
      "metadata": {
        "id": "bm9UxYFoIP9x",
        "outputId": "7aa3156e-e5a5-49e1-a24b-cc5fafca32e8",
        "colab": {
          "base_uri": "https://localhost:8080/"
        }
      },
      "source": [
        ";/root/.julia/conda/3/bin/python -m pip install --upgrade pip"
      ],
      "execution_count": 13,
      "outputs": [
        {
          "output_type": "stream",
          "text": [
            "Requirement already satisfied: pip in /root/.julia/conda/3/lib/python3.8/site-packages (20.3.1)\n"
          ],
          "name": "stdout"
        }
      ]
    },
    {
      "cell_type": "code",
      "metadata": {
        "id": "au70dTW6_tPF",
        "outputId": "24862fad-d751-450f-e9e3-850974e05e23",
        "colab": {
          "base_uri": "https://localhost:8080/"
        }
      },
      "source": [
        ";/root/.julia/conda/3/bin/python -m pip install models"
      ],
      "execution_count": 14,
      "outputs": [
        {
          "output_type": "stream",
          "text": [
            "Collecting models\n",
            "  Downloading models-0.9.3.tar.gz (16 kB)\n"
          ],
          "name": "stdout"
        },
        {
          "output_type": "stream",
          "text": [
            "ERROR: Command errored out with exit status 1: python setup.py egg_info Check the logs for full command output.\n"
          ],
          "name": "stderr"
        }
      ]
    },
    {
      "cell_type": "code",
      "metadata": {
        "id": "a-Iv5XfaIVQf",
        "outputId": "50e9e409-32fa-4e46-b631-9bd89658b3d8",
        "colab": {
          "base_uri": "https://localhost:8080/"
        }
      },
      "source": [
        ";/root/.julia/conda/3/bin/python -m pip install devito"
      ],
      "execution_count": 15,
      "outputs": [
        {
          "output_type": "stream",
          "text": [
            "Requirement already satisfied: devito in /root/.julia/conda/3/lib/python3.8/site-packages (4.2.3)\n",
            "Requirement already satisfied: click in /root/.julia/conda/3/lib/python3.8/site-packages (from devito) (7.1.2)\n",
            "Requirement already satisfied: scipy in /root/.julia/conda/3/lib/python3.8/site-packages (from devito) (1.5.4)\n",
            "Requirement already satisfied: cached-property in /root/.julia/conda/3/lib/python3.8/site-packages (from devito) (1.5.2)\n",
            "Requirement already satisfied: pip>=9.0.1 in /root/.julia/conda/3/lib/python3.8/site-packages (from devito) (20.3.1)\n",
            "Requirement already satisfied: sympy<1.6 in /root/.julia/conda/3/lib/python3.8/site-packages (from devito) (1.5.1)\n",
            "Requirement already satisfied: codecov in /root/.julia/conda/3/lib/python3.8/site-packages (from devito) (2.1.10)\n",
            "Requirement already satisfied: numpy>1.16 in /root/.julia/conda/3/lib/python3.8/site-packages (from devito) (1.19.2)\n",
            "Requirement already satisfied: cgen>=2020.1 in /root/.julia/conda/3/lib/python3.8/site-packages (from devito) (2020.1)\n",
            "Requirement already satisfied: pytest<6.0,>=3.6 in /root/.julia/conda/3/lib/python3.8/site-packages (from devito) (5.4.3)\n",
            "Requirement already satisfied: psutil>=5.1.0 in /root/.julia/conda/3/lib/python3.8/site-packages (from devito) (5.7.3)\n",
            "Requirement already satisfied: pyrevolve>=2.1.3 in /root/.julia/conda/3/lib/python3.8/site-packages (from devito) (2.2)\n",
            "Requirement already satisfied: py-cpuinfo in /root/.julia/conda/3/lib/python3.8/site-packages (from devito) (7.0.0)\n",
            "Requirement already satisfied: pytest-cov in /root/.julia/conda/3/lib/python3.8/site-packages (from devito) (2.10.1)\n",
            "Requirement already satisfied: flake8>=2.1.0 in /root/.julia/conda/3/lib/python3.8/site-packages (from devito) (3.8.4)\n",
            "Requirement already satisfied: pytest-runner in /root/.julia/conda/3/lib/python3.8/site-packages (from devito) (5.2)\n",
            "Requirement already satisfied: nbval in /root/.julia/conda/3/lib/python3.8/site-packages (from devito) (0.9.6)\n",
            "Requirement already satisfied: anytree>=2.4.3 in /root/.julia/conda/3/lib/python3.8/site-packages (from devito) (2.8.0)\n",
            "Requirement already satisfied: distributed<2.23 in /root/.julia/conda/3/lib/python3.8/site-packages (from devito) (2.22.0)\n",
            "Requirement already satisfied: codepy>=2019.1 in /root/.julia/conda/3/lib/python3.8/site-packages (from devito) (2019.1)\n",
            "Requirement already satisfied: multidict in /root/.julia/conda/3/lib/python3.8/site-packages (from devito) (5.1.0)\n",
            "Requirement already satisfied: six>=1.9.0 in /root/.julia/conda/3/lib/python3.8/site-packages (from anytree>=2.4.3->devito) (1.15.0)\n",
            "Requirement already satisfied: pytools>=2015.1.2 in /root/.julia/conda/3/lib/python3.8/site-packages (from cgen>=2020.1->devito) (2020.4.3)\n",
            "Requirement already satisfied: numpy>1.16 in /root/.julia/conda/3/lib/python3.8/site-packages (from devito) (1.19.2)\n",
            "Requirement already satisfied: requests>=2.7.9 in /root/.julia/conda/3/lib/python3.8/site-packages (from codecov->devito) (2.25.0)\n",
            "Requirement already satisfied: coverage in /root/.julia/conda/3/lib/python3.8/site-packages (from codecov->devito) (5.3)\n",
            "Requirement already satisfied: appdirs>=1.4.0 in /root/.julia/conda/3/lib/python3.8/site-packages (from codepy>=2019.1->devito) (1.4.4)\n",
            "Requirement already satisfied: pytools>=2015.1.2 in /root/.julia/conda/3/lib/python3.8/site-packages (from cgen>=2020.1->devito) (2020.4.3)\n",
            "Requirement already satisfied: six>=1.9.0 in /root/.julia/conda/3/lib/python3.8/site-packages (from anytree>=2.4.3->devito) (1.15.0)\n",
            "Requirement already satisfied: cgen>=2020.1 in /root/.julia/conda/3/lib/python3.8/site-packages (from devito) (2020.1)\n",
            "Requirement already satisfied: numpy>1.16 in /root/.julia/conda/3/lib/python3.8/site-packages (from devito) (1.19.2)\n",
            "Requirement already satisfied: setuptools in /root/.julia/conda/3/lib/python3.8/site-packages (from distributed<2.23->devito) (51.0.0.post20201207)\n",
            "Requirement already satisfied: click in /root/.julia/conda/3/lib/python3.8/site-packages (from devito) (7.1.2)\n",
            "Requirement already satisfied: tornado>=6.0.3 in /root/.julia/conda/3/lib/python3.8/site-packages (from distributed<2.23->devito) (6.1)\n",
            "Requirement already satisfied: tblib>=1.6.0 in /root/.julia/conda/3/lib/python3.8/site-packages (from distributed<2.23->devito) (1.7.0)\n",
            "Requirement already satisfied: zict>=0.1.3 in /root/.julia/conda/3/lib/python3.8/site-packages (from distributed<2.23->devito) (2.0.0)\n",
            "Requirement already satisfied: msgpack>=0.6.0 in /root/.julia/conda/3/lib/python3.8/site-packages (from distributed<2.23->devito) (1.0.1)\n",
            "Requirement already satisfied: psutil>=5.1.0 in /root/.julia/conda/3/lib/python3.8/site-packages (from devito) (5.7.3)\n",
            "Requirement already satisfied: cloudpickle>=1.5.0 in /root/.julia/conda/3/lib/python3.8/site-packages (from distributed<2.23->devito) (1.6.0)\n",
            "Requirement already satisfied: sortedcontainers!=2.0.0,!=2.0.1 in /root/.julia/conda/3/lib/python3.8/site-packages (from distributed<2.23->devito) (2.3.0)\n",
            "Requirement already satisfied: dask>=2.9.0 in /root/.julia/conda/3/lib/python3.8/site-packages (from distributed<2.23->devito) (2020.12.0)\n",
            "Requirement already satisfied: toolz>=0.8.2 in /root/.julia/conda/3/lib/python3.8/site-packages (from distributed<2.23->devito) (0.11.1)\n",
            "Requirement already satisfied: pyyaml in /root/.julia/conda/3/lib/python3.8/site-packages (from distributed<2.23->devito) (5.3.1)\n",
            "Requirement already satisfied: pyyaml in /root/.julia/conda/3/lib/python3.8/site-packages (from distributed<2.23->devito) (5.3.1)\n",
            "Requirement already satisfied: pyflakes<2.3.0,>=2.2.0 in /root/.julia/conda/3/lib/python3.8/site-packages (from flake8>=2.1.0->devito) (2.2.0)\n",
            "Requirement already satisfied: mccabe<0.7.0,>=0.6.0 in /root/.julia/conda/3/lib/python3.8/site-packages (from flake8>=2.1.0->devito) (0.6.1)\n",
            "Requirement already satisfied: pycodestyle<2.7.0,>=2.6.0a1 in /root/.julia/conda/3/lib/python3.8/site-packages (from flake8>=2.1.0->devito) (2.6.0)\n",
            "Requirement already satisfied: jupyter-client in /root/.julia/conda/3/lib/python3.8/site-packages (from nbval->devito) (6.1.7)\n",
            "Requirement already satisfied: pytest<6.0,>=3.6 in /root/.julia/conda/3/lib/python3.8/site-packages (from devito) (5.4.3)\n",
            "Requirement already satisfied: nbformat in /root/.julia/conda/3/lib/python3.8/site-packages (from nbval->devito) (5.0.8)\n",
            "Requirement already satisfied: coverage in /root/.julia/conda/3/lib/python3.8/site-packages (from codecov->devito) (5.3)\n",
            "Requirement already satisfied: six>=1.9.0 in /root/.julia/conda/3/lib/python3.8/site-packages (from anytree>=2.4.3->devito) (1.15.0)\n",
            "Requirement already satisfied: ipykernel in /root/.julia/conda/3/lib/python3.8/site-packages (from nbval->devito) (5.4.2)\n",
            "Requirement already satisfied: ipython>=5.0.0 in /root/.julia/conda/3/lib/python3.8/site-packages (from ipykernel->nbval->devito) (7.19.0)\n",
            "Requirement already satisfied: traitlets>=4.1.0 in /root/.julia/conda/3/lib/python3.8/site-packages (from ipykernel->nbval->devito) (5.0.5)\n",
            "Requirement already satisfied: jupyter-client in /root/.julia/conda/3/lib/python3.8/site-packages (from nbval->devito) (6.1.7)\n",
            "Requirement already satisfied: tornado>=6.0.3 in /root/.julia/conda/3/lib/python3.8/site-packages (from distributed<2.23->devito) (6.1)\n",
            "Requirement already satisfied: prompt-toolkit!=3.0.0,!=3.0.1,<3.1.0,>=2.0.0 in /root/.julia/conda/3/lib/python3.8/site-packages (from ipython>=5.0.0->ipykernel->nbval->devito) (3.0.8)\n",
            "Requirement already satisfied: pygments in /root/.julia/conda/3/lib/python3.8/site-packages (from ipython>=5.0.0->ipykernel->nbval->devito) (2.7.3)\n",
            "Requirement already satisfied: jedi>=0.10 in /root/.julia/conda/3/lib/python3.8/site-packages (from ipython>=5.0.0->ipykernel->nbval->devito) (0.17.2)\n",
            "Requirement already satisfied: setuptools in /root/.julia/conda/3/lib/python3.8/site-packages (from distributed<2.23->devito) (51.0.0.post20201207)\n",
            "Requirement already satisfied: pickleshare in /root/.julia/conda/3/lib/python3.8/site-packages (from ipython>=5.0.0->ipykernel->nbval->devito) (0.7.5)\n",
            "Requirement already satisfied: decorator in /root/.julia/conda/3/lib/python3.8/site-packages (from ipython>=5.0.0->ipykernel->nbval->devito) (4.4.2)\n",
            "Requirement already satisfied: pexpect>4.3 in /root/.julia/conda/3/lib/python3.8/site-packages (from ipython>=5.0.0->ipykernel->nbval->devito) (4.8.0)\n",
            "Requirement already satisfied: backcall in /root/.julia/conda/3/lib/python3.8/site-packages (from ipython>=5.0.0->ipykernel->nbval->devito) (0.2.0)\n",
            "Requirement already satisfied: traitlets>=4.1.0 in /root/.julia/conda/3/lib/python3.8/site-packages (from ipykernel->nbval->devito) (5.0.5)\n",
            "Requirement already satisfied: parso<0.8.0,>=0.7.0 in /root/.julia/conda/3/lib/python3.8/site-packages (from jedi>=0.10->ipython>=5.0.0->ipykernel->nbval->devito) (0.7.1)\n",
            "Requirement already satisfied: jupyter-core>=4.6.0 in /root/.julia/conda/3/lib/python3.8/site-packages (from jupyter-client->nbval->devito) (4.7.0)\n",
            "Requirement already satisfied: python-dateutil>=2.1 in /root/.julia/conda/3/lib/python3.8/site-packages (from jupyter-client->nbval->devito) (2.8.1)\n",
            "Requirement already satisfied: tornado>=6.0.3 in /root/.julia/conda/3/lib/python3.8/site-packages (from distributed<2.23->devito) (6.1)\n",
            "Requirement already satisfied: pyzmq>=13 in /root/.julia/conda/3/lib/python3.8/site-packages (from jupyter-client->nbval->devito) (20.0.0)\n",
            "Requirement already satisfied: traitlets>=4.1.0 in /root/.julia/conda/3/lib/python3.8/site-packages (from ipykernel->nbval->devito) (5.0.5)\n",
            "Requirement already satisfied: traitlets>=4.1.0 in /root/.julia/conda/3/lib/python3.8/site-packages (from ipykernel->nbval->devito) (5.0.5)\n",
            "Requirement already satisfied: traitlets>=4.1.0 in /root/.julia/conda/3/lib/python3.8/site-packages (from ipykernel->nbval->devito) (5.0.5)\n",
            "Requirement already satisfied: ipython-genutils in /root/.julia/conda/3/lib/python3.8/site-packages (from nbformat->nbval->devito) (0.2.0)\n",
            "Requirement already satisfied: jsonschema!=2.5.0,>=2.4 in /root/.julia/conda/3/lib/python3.8/site-packages (from nbformat->nbval->devito) (3.2.0)\n",
            "Requirement already satisfied: jupyter-core>=4.6.0 in /root/.julia/conda/3/lib/python3.8/site-packages (from jupyter-client->nbval->devito) (4.7.0)\n",
            "Requirement already satisfied: six>=1.9.0 in /root/.julia/conda/3/lib/python3.8/site-packages (from anytree>=2.4.3->devito) (1.15.0)\n",
            "Requirement already satisfied: setuptools in /root/.julia/conda/3/lib/python3.8/site-packages (from distributed<2.23->devito) (51.0.0.post20201207)\n",
            "Requirement already satisfied: pyrsistent>=0.14.0 in /root/.julia/conda/3/lib/python3.8/site-packages (from jsonschema!=2.5.0,>=2.4->nbformat->nbval->devito) (0.17.3)\n",
            "Requirement already satisfied: attrs>=17.4.0 in /root/.julia/conda/3/lib/python3.8/site-packages (from jsonschema!=2.5.0,>=2.4->nbformat->nbval->devito) (20.3.0)\n",
            "Requirement already satisfied: ptyprocess>=0.5 in /root/.julia/conda/3/lib/python3.8/site-packages (from pexpect>4.3->ipython>=5.0.0->ipykernel->nbval->devito) (0.6.0)\n",
            "Requirement already satisfied: wcwidth in /root/.julia/conda/3/lib/python3.8/site-packages (from prompt-toolkit!=3.0.0,!=3.0.1,<3.1.0,>=2.0.0->ipython>=5.0.0->ipykernel->nbval->devito) (0.2.5)\n",
            "Requirement already satisfied: contexttimer in /root/.julia/conda/3/lib/python3.8/site-packages (from pyrevolve>=2.1.3->devito) (0.3.3)\n",
            "Requirement already satisfied: pluggy<1.0,>=0.12 in /root/.julia/conda/3/lib/python3.8/site-packages (from pytest<6.0,>=3.6->devito) (0.13.1)\n",
            "Requirement already satisfied: packaging in /root/.julia/conda/3/lib/python3.8/site-packages (from pytest<6.0,>=3.6->devito) (20.8)\n",
            "Requirement already satisfied: attrs>=17.4.0 in /root/.julia/conda/3/lib/python3.8/site-packages (from jsonschema!=2.5.0,>=2.4->nbformat->nbval->devito) (20.3.0)\n",
            "Requirement already satisfied: py>=1.5.0 in /root/.julia/conda/3/lib/python3.8/site-packages (from pytest<6.0,>=3.6->devito) (1.10.0)\n",
            "Requirement already satisfied: wcwidth in /root/.julia/conda/3/lib/python3.8/site-packages (from prompt-toolkit!=3.0.0,!=3.0.1,<3.1.0,>=2.0.0->ipython>=5.0.0->ipykernel->nbval->devito) (0.2.5)\n",
            "Requirement already satisfied: more-itertools>=4.0.0 in /root/.julia/conda/3/lib/python3.8/site-packages (from pytest<6.0,>=3.6->devito) (8.6.0)\n",
            "Requirement already satisfied: pyparsing>=2.0.2 in /root/.julia/conda/3/lib/python3.8/site-packages (from packaging->pytest<6.0,>=3.6->devito) (2.4.7)\n",
            "Requirement already satisfied: coverage in /root/.julia/conda/3/lib/python3.8/site-packages (from codecov->devito) (5.3)\n",
            "Requirement already satisfied: pytest<6.0,>=3.6 in /root/.julia/conda/3/lib/python3.8/site-packages (from devito) (5.4.3)\n",
            "Requirement already satisfied: six>=1.9.0 in /root/.julia/conda/3/lib/python3.8/site-packages (from anytree>=2.4.3->devito) (1.15.0)\n",
            "Requirement already satisfied: numpy>1.16 in /root/.julia/conda/3/lib/python3.8/site-packages (from devito) (1.19.2)\n",
            "Requirement already satisfied: six>=1.9.0 in /root/.julia/conda/3/lib/python3.8/site-packages (from anytree>=2.4.3->devito) (1.15.0)\n",
            "Requirement already satisfied: appdirs>=1.4.0 in /root/.julia/conda/3/lib/python3.8/site-packages (from codepy>=2019.1->devito) (1.4.4)\n",
            "Requirement already satisfied: decorator in /root/.julia/conda/3/lib/python3.8/site-packages (from ipython>=5.0.0->ipykernel->nbval->devito) (4.4.2)\n",
            "Requirement already satisfied: urllib3<1.27,>=1.21.1 in /root/.julia/conda/3/lib/python3.8/site-packages (from requests>=2.7.9->codecov->devito) (1.25.11)\n",
            "Requirement already satisfied: chardet<4,>=3.0.2 in /root/.julia/conda/3/lib/python3.8/site-packages (from requests>=2.7.9->codecov->devito) (3.0.4)\n",
            "Requirement already satisfied: certifi>=2017.4.17 in /root/.julia/conda/3/lib/python3.8/site-packages (from requests>=2.7.9->codecov->devito) (2020.12.5)\n",
            "Requirement already satisfied: idna<3,>=2.5 in /root/.julia/conda/3/lib/python3.8/site-packages (from requests>=2.7.9->codecov->devito) (2.10)\n",
            "Requirement already satisfied: numpy>1.16 in /root/.julia/conda/3/lib/python3.8/site-packages (from devito) (1.19.2)\n",
            "Requirement already satisfied: mpmath>=0.19 in /root/.julia/conda/3/lib/python3.8/site-packages (from sympy<1.6->devito) (1.1.0)\n",
            "Requirement already satisfied: ipython-genutils in /root/.julia/conda/3/lib/python3.8/site-packages (from nbformat->nbval->devito) (0.2.0)\n",
            "Requirement already satisfied: heapdict in /root/.julia/conda/3/lib/python3.8/site-packages (from zict>=0.1.3->distributed<2.23->devito) (1.0.1)\n"
          ],
          "name": "stdout"
        }
      ]
    },
    {
      "cell_type": "code",
      "metadata": {
        "id": "BLhj4NwMIWuA",
        "colab": {
          "base_uri": "https://localhost:8080/"
        },
        "outputId": "06a75656-725a-4023-eb45-b246b5a8e22a"
      },
      "source": [
        ";/root/.julia/conda/3/bin/python -m pip install matplotlib"
      ],
      "execution_count": 16,
      "outputs": [
        {
          "output_type": "stream",
          "text": [
            "Collecting matplotlib\n",
            "  Downloading matplotlib-3.3.3-cp38-cp38-manylinux1_x86_64.whl (11.6 MB)\n",
            "Requirement already satisfied: pyparsing!=2.0.4,!=2.1.2,!=2.1.6,>=2.0.3 in /root/.julia/conda/3/lib/python3.8/site-packages (from matplotlib) (2.4.7)\n",
            "Requirement already satisfied: numpy>=1.15 in /root/.julia/conda/3/lib/python3.8/site-packages (from matplotlib) (1.19.2)\n",
            "Requirement already satisfied: python-dateutil>=2.1 in /root/.julia/conda/3/lib/python3.8/site-packages (from matplotlib) (2.8.1)\n",
            "Collecting cycler>=0.10\n",
            "  Downloading cycler-0.10.0-py2.py3-none-any.whl (6.5 kB)\n",
            "Requirement already satisfied: six in /root/.julia/conda/3/lib/python3.8/site-packages (from cycler>=0.10->matplotlib) (1.15.0)\n",
            "Collecting kiwisolver>=1.0.1\n",
            "  Downloading kiwisolver-1.3.1-cp38-cp38-manylinux1_x86_64.whl (1.2 MB)\n",
            "Collecting pillow>=6.2.0\n",
            "  Downloading Pillow-8.0.1-cp38-cp38-manylinux1_x86_64.whl (2.2 MB)\n",
            "Requirement already satisfied: six in /root/.julia/conda/3/lib/python3.8/site-packages (from cycler>=0.10->matplotlib) (1.15.0)\n",
            "Installing collected packages: pillow, kiwisolver, cycler, matplotlib\n",
            "Successfully installed cycler-0.10.0 kiwisolver-1.3.1 matplotlib-3.3.3 pillow-8.0.1\n"
          ],
          "name": "stdout"
        }
      ]
    },
    {
      "cell_type": "code",
      "metadata": {
        "id": "Pr6qzNkIClMa",
        "outputId": "6672b1f1-b07b-4eb8-d7c4-5dce172ef739",
        "colab": {
          "base_uri": "https://localhost:8080/"
        }
      },
      "source": [
        ";git clone https://github.com/slimgroup/JUDI.jl"
      ],
      "execution_count": 17,
      "outputs": [
        {
          "output_type": "stream",
          "text": [
            "Cloning into 'JUDI.jl'...\n"
          ],
          "name": "stderr"
        }
      ]
    },
    {
      "cell_type": "code",
      "metadata": {
        "id": "7NjKhgTdClC6"
      },
      "source": [
        "cd(\"JUDI.jl\")"
      ],
      "execution_count": 18,
      "outputs": []
    },
    {
      "cell_type": "code",
      "metadata": {
        "id": "1hxYNYImCkrx",
        "outputId": "00fd78d8-ef27-4e69-a5e9-1bc2cda2b57d",
        "colab": {
          "base_uri": "https://localhost:8080/"
        }
      },
      "source": [
        ";git checkout v2.2.0"
      ],
      "execution_count": 19,
      "outputs": [
        {
          "output_type": "stream",
          "text": [
            "Note: checking out 'v2.2.0'.\n",
            "\n",
            "You are in 'detached HEAD' state. You can look around, make experimental\n",
            "changes and commit them, and you can discard any commits you make in this\n",
            "state without impacting any branches by performing another checkout.\n",
            "\n",
            "If you want to create a new branch to retain commits you create, you may\n",
            "do so (now or later) by using -b with the checkout command again. Example:\n",
            "\n",
            "  git checkout -b <new-branch-name>\n",
            "\n",
            "HEAD is now at de72831 Merge pull request #35 from slimgroup/twri\n"
          ],
          "name": "stderr"
        }
      ]
    },
    {
      "cell_type": "code",
      "metadata": {
        "id": "SV8w1xJ8EhTt",
        "colab": {
          "base_uri": "https://localhost:8080/"
        },
        "outputId": "7e4e52e3-6967-4637-85cc-53091d3faed4"
      },
      "source": [
        "cd(\"/content/JUDI.jl\")\r\n",
        "pwd()"
      ],
      "execution_count": 20,
      "outputs": [
        {
          "output_type": "execute_result",
          "data": {
            "text/plain": [
              "\"/content/JUDI.jl\""
            ]
          },
          "metadata": {
            "tags": []
          },
          "execution_count": 20
        }
      ]
    },
    {
      "cell_type": "code",
      "metadata": {
        "id": "-IMEZh5tGQhm",
        "colab": {
          "base_uri": "https://localhost:8080/"
        },
        "outputId": "3b5ce668-d0ad-4cbb-c309-4c9314be75db"
      },
      "source": [
        "include(\"deps/install_global.jl\")\r\n",
        "#!julia --project -e 'using Pkg;Pkg.test(coverage=false)' # uncomment this if you want to run test"
      ],
      "execution_count": 21,
      "outputs": [
        {
          "output_type": "stream",
          "text": [
            "\u001b[?25l    "
          ],
          "name": "stdout"
        },
        {
          "output_type": "stream",
          "text": [
            "\u001b[32m\u001b[1m    Cloning\u001b[22m\u001b[39m git-repo `https://github.com/JuliaLang/TOML.jl.git`\n"
          ],
          "name": "stderr"
        },
        {
          "output_type": "stream",
          "text": [
            "\u001b[2K\u001b[?25h\u001b[?25l    "
          ],
          "name": "stdout"
        },
        {
          "output_type": "stream",
          "text": [
            "\u001b[32m\u001b[1m   Updating\u001b[22m\u001b[39m git-repo `https://github.com/JuliaLang/TOML.jl.git`\n"
          ],
          "name": "stderr"
        },
        {
          "output_type": "stream",
          "text": [
            "\u001b[36m\u001b[1mFetching:\u001b[22m\u001b[39m [>                                        ]  0.0 %\r    \u001b[36m\u001b[1mFetching:\u001b[22m\u001b[39m [=>                                       ]  0.9 %\r    \u001b[36m\u001b[1mFetching:\u001b[22m\u001b[39m [=>                                       ]  1.8 %\r    \u001b[36m\u001b[1mFetching:\u001b[22m\u001b[39m [==>                                      ]  2.7 %\r    \u001b[36m\u001b[1mFetching:\u001b[22m\u001b[39m [==>                                      ]  3.6 %\r    \u001b[36m\u001b[1mFetching:\u001b[22m\u001b[39m [==>                                      ]  4.5 %\r    \u001b[36m\u001b[1mFetching:\u001b[22m\u001b[39m [===>                                     ]  5.4 %\r    \u001b[36m\u001b[1mFetching:\u001b[22m\u001b[39m [===>                                     ]  6.3 %\r    \u001b[36m\u001b[1mFetching:\u001b[22m\u001b[39m [===>                                     ]  7.1 %\r    \u001b[36m\u001b[1mFetching:\u001b[22m\u001b[39m [====>                                    ]  8.0 %\r    \u001b[36m\u001b[1mFetching:\u001b[22m\u001b[39m [====>                                    ]  8.9 %\r    \u001b[36m\u001b[1mFetching:\u001b[22m\u001b[39m [====>                                    ]  9.8 %\r    \u001b[36m\u001b[1mFetching:\u001b[22m\u001b[39m [=====>                                   ]  10.7 %\r    \u001b[36m\u001b[1mFetching:\u001b[22m\u001b[39m [=====>                                   ]  11.6 %\r    \u001b[36m\u001b[1mFetching:\u001b[22m\u001b[39m [=====>                                   ]  12.5 %\r    \u001b[36m\u001b[1mFetching:\u001b[22m\u001b[39m [======>                                  ]  13.4 %\r    \u001b[36m\u001b[1mFetching:\u001b[22m\u001b[39m [======>                                  ]  14.3 %\r    \u001b[36m\u001b[1mFetching:\u001b[22m\u001b[39m [=======>                                 ]  15.2 %\r    \u001b[36m\u001b[1mFetching:\u001b[22m\u001b[39m [=======>                                 ]  16.1 %\r    \u001b[36m\u001b[1mFetching:\u001b[22m\u001b[39m [=======>                                 ]  17.0 %\r    \u001b[36m\u001b[1mFetching:\u001b[22m\u001b[39m [========>                                ]  17.9 %\r    \u001b[36m\u001b[1mFetching:\u001b[22m\u001b[39m [========>                                ]  18.8 %\r    \u001b[36m\u001b[1mFetching:\u001b[22m\u001b[39m [========>                                ]  19.6 %\r    \u001b[36m\u001b[1mFetching:\u001b[22m\u001b[39m [=========>                               ]  20.5 %\r    \u001b[36m\u001b[1mFetching:\u001b[22m\u001b[39m [=========>                               ]  21.4 %\r    \u001b[36m\u001b[1mFetching:\u001b[22m\u001b[39m [=========>                               ]  22.3 %\r    \u001b[36m\u001b[1mFetching:\u001b[22m\u001b[39m [==========>                              ]  23.2 %\r    \u001b[36m\u001b[1mFetching:\u001b[22m\u001b[39m [==========>                              ]  24.1 %\r    \u001b[36m\u001b[1mFetching:\u001b[22m\u001b[39m [==========>                              ]  25.0 %\r    \u001b[36m\u001b[1mFetching:\u001b[22m\u001b[39m [===========>                             ]  25.9 %\r    \u001b[36m\u001b[1mFetching:\u001b[22m\u001b[39m [===========>                             ]  26.8 %\r    \u001b[36m\u001b[1mFetching:\u001b[22m\u001b[39m [============>                            ]  27.7 %\r    \u001b[36m\u001b[1mFetching:\u001b[22m\u001b[39m [============>                            ]  28.6 %\r    \u001b[36m\u001b[1mFetching:\u001b[22m\u001b[39m [============>                            ]  29.5 %\r    \u001b[36m\u001b[1mFetching:\u001b[22m\u001b[39m [=============>                           ]  30.4 %\r    \u001b[36m\u001b[1mFetching:\u001b[22m\u001b[39m [=============>                           ]  31.3 %\r    \u001b[36m\u001b[1mFetching:\u001b[22m\u001b[39m [=============>                           ]  32.1 %\r    \u001b[36m\u001b[1mFetching:\u001b[22m\u001b[39m [==============>                          ]  33.0 %\r    \u001b[36m\u001b[1mFetching:\u001b[22m\u001b[39m [==============>                          ]  33.9 %\r    \u001b[36m\u001b[1mFetching:\u001b[22m\u001b[39m [==============>                          ]  34.8 %\r    \u001b[36m\u001b[1mFetching:\u001b[22m\u001b[39m [===============>                         ]  35.7 %\r    \u001b[36m\u001b[1mFetching:\u001b[22m\u001b[39m [===============>                         ]  36.6 %\r    \u001b[36m\u001b[1mFetching:\u001b[22m\u001b[39m [===============>                         ]  37.5 %\r    \u001b[36m\u001b[1mFetching:\u001b[22m\u001b[39m [================>                        ]  38.4 %\r    \u001b[36m\u001b[1mFetching:\u001b[22m\u001b[39m [================>                        ]  39.3 %\r    \u001b[36m\u001b[1mFetching:\u001b[22m\u001b[39m [=================>                       ]  40.2 %\r    \u001b[36m\u001b[1mFetching:\u001b[22m\u001b[39m [=================>                       ]  41.1 %\r    \u001b[36m\u001b[1mFetching:\u001b[22m\u001b[39m [=================>                       ]  42.0 %\r    \u001b[36m\u001b[1mFetching:\u001b[22m\u001b[39m [==================>                      ]  42.9 %\r    \u001b[36m\u001b[1mFetching:\u001b[22m\u001b[39m [==================>                      ]  43.8 %\r    \u001b[36m\u001b[1mFetching:\u001b[22m\u001b[39m [==================>                      ]  44.6 %\r    \u001b[36m\u001b[1mFetching:\u001b[22m\u001b[39m [===================>                     ]  45.5 %\r    \u001b[36m\u001b[1mFetching:\u001b[22m\u001b[39m [===================>                     ]  46.4 %\r    \u001b[36m\u001b[1mFetching:\u001b[22m\u001b[39m [===================>                     ]  47.3 %\r    \u001b[36m\u001b[1mFetching:\u001b[22m\u001b[39m [====================>                    ]  48.2 %\r    \u001b[36m\u001b[1mFetching:\u001b[22m\u001b[39m [====================>                    ]  49.1 %\r    \u001b[36m\u001b[1mFetching:\u001b[22m\u001b[39m [====================>                    ]  50.0 %\r    \u001b[36m\u001b[1mFetching:\u001b[22m\u001b[39m [=====================>                   ]  50.9 %\r    \u001b[36m\u001b[1mFetching:\u001b[22m\u001b[39m [=====================>                   ]  51.8 %\r    \u001b[36m\u001b[1mFetching:\u001b[22m\u001b[39m [======================>                  ]  52.7 %\r    \u001b[36m\u001b[1mFetching:\u001b[22m\u001b[39m [======================>                  ]  53.6 %\r    \u001b[36m\u001b[1mFetching:\u001b[22m\u001b[39m [======================>                  ]  54.5 %\r    \u001b[36m\u001b[1mFetching:\u001b[22m\u001b[39m [=======================>                 ]  55.4 %\r    \u001b[36m\u001b[1mFetching:\u001b[22m\u001b[39m [=======================>                 ]  56.3 %\r    \u001b[36m\u001b[1mFetching:\u001b[22m\u001b[39m [=======================>                 ]  57.1 %\r    \u001b[36m\u001b[1mFetching:\u001b[22m\u001b[39m [========================>                ]  58.0 %\r    \u001b[36m\u001b[1mFetching:\u001b[22m\u001b[39m [========================>                ]  58.9 %\r    \u001b[36m\u001b[1mFetching:\u001b[22m\u001b[39m [========================>                ]  59.8 %\r    \u001b[36m\u001b[1mFetching:\u001b[22m\u001b[39m [=========================>               ]  60.7 %\r    \u001b[36m\u001b[1mFetching:\u001b[22m\u001b[39m [=========================>               ]  61.6 %\r    \u001b[36m\u001b[1mFetching:\u001b[22m\u001b[39m [=========================>               ]  62.5 %\r    \u001b[36m\u001b[1mFetching:\u001b[22m\u001b[39m [==========================>              ]  63.4 %\r    \u001b[36m\u001b[1mFetching:\u001b[22m\u001b[39m [==========================>              ]  64.3 %\r    \u001b[36m\u001b[1mFetching:\u001b[22m\u001b[39m [===========================>             ]  65.2 %\r    \u001b[36m\u001b[1mFetching:\u001b[22m\u001b[39m [===========================>             ]  66.1 %\r    \u001b[36m\u001b[1mFetching:\u001b[22m\u001b[39m [===========================>             ]  67.0 %\r    \u001b[36m\u001b[1mFetching:\u001b[22m\u001b[39m [============================>            ]  67.9 %\r    \u001b[36m\u001b[1mFetching:\u001b[22m\u001b[39m [============================>            ]  68.8 %\r    \u001b[36m\u001b[1mFetching:\u001b[22m\u001b[39m [============================>            ]  69.6 %\r    \u001b[36m\u001b[1mFetching:\u001b[22m\u001b[39m [=============================>           ]  70.5 %\r    \u001b[36m\u001b[1mFetching:\u001b[22m\u001b[39m [=============================>           ]  71.4 %\r    \u001b[36m\u001b[1mFetching:\u001b[22m\u001b[39m [=============================>           ]  72.3 %\r    \u001b[36m\u001b[1mFetching:\u001b[22m\u001b[39m [==============================>          ]  73.2 %\r    \u001b[36m\u001b[1mFetching:\u001b[22m\u001b[39m [==============================>          ]  74.1 %\r    \u001b[36m\u001b[1mFetching:\u001b[22m\u001b[39m [==============================>          ]  75.0 %\r    \u001b[36m\u001b[1mFetching:\u001b[22m\u001b[39m [===============================>         ]  75.9 %\r    \u001b[36m\u001b[1mFetching:\u001b[22m\u001b[39m [===============================>         ]  76.8 %\r    \u001b[36m\u001b[1mFetching:\u001b[22m\u001b[39m [================================>        ]  77.7 %\r    \u001b[36m\u001b[1mFetching:\u001b[22m\u001b[39m [================================>        ]  78.6 %\r    \u001b[36m\u001b[1mFetching:\u001b[22m\u001b[39m [================================>        ]  79.5 %\r    \u001b[36m\u001b[1mFetching:\u001b[22m\u001b[39m [=================================>       ]  80.4 %\r    \u001b[36m\u001b[1mFetching:\u001b[22m\u001b[39m [=================================>       ]  81.3 %\r    \u001b[36m\u001b[1mFetching:\u001b[22m\u001b[39m [=================================>       ]  82.1 %\r    \u001b[36m\u001b[1mFetching:\u001b[22m\u001b[39m [==================================>      ]  83.0 %\r    \u001b[36m\u001b[1mFetching:\u001b[22m\u001b[39m [==================================>      ]  83.9 %\r    \u001b[36m\u001b[1mFetching:\u001b[22m\u001b[39m [==================================>      ]  84.8 %\r    \u001b[36m\u001b[1mFetching:\u001b[22m\u001b[39m [===================================>     ]  85.7 %\r    \u001b[36m\u001b[1mFetching:\u001b[22m\u001b[39m [===================================>     ]  86.6 %\r    \u001b[36m\u001b[1mFetching:\u001b[22m\u001b[39m [===================================>     ]  87.5 %\r    \u001b[36m\u001b[1mFetching:\u001b[22m\u001b[39m [====================================>    ]  88.4 %\r    \u001b[36m\u001b[1mFetching:\u001b[22m\u001b[39m [====================================>    ]  89.3 %\r    \u001b[36m\u001b[1mFetching:\u001b[22m\u001b[39m [=====================================>   ]  90.2 %\r    \u001b[36m\u001b[1mFetching:\u001b[22m\u001b[39m [=====================================>   ]  91.1 %\r    \u001b[36m\u001b[1mFetching:\u001b[22m\u001b[39m [=====================================>   ]  92.0 %\r    \u001b[36m\u001b[1mFetching:\u001b[22m\u001b[39m [======================================>  ]  92.9 %\r    \u001b[36m\u001b[1mFetching:\u001b[22m\u001b[39m [======================================>  ]  93.8 %\r    \u001b[36m\u001b[1mFetching:\u001b[22m\u001b[39m [======================================>  ]  94.6 %\r    \u001b[36m\u001b[1mFetching:\u001b[22m\u001b[39m [=======================================> ]  95.5 %\r    \u001b[36m\u001b[1mFetching:\u001b[22m\u001b[39m [=======================================> ]  96.4 %\r    \u001b[36m\u001b[1mFetching:\u001b[22m\u001b[39m [=======================================> ]  97.3 %\r    \u001b[36m\u001b[1mFetching:\u001b[22m\u001b[39m [========================================>]  98.2 %\r    \u001b[36m\u001b[1mFetching:\u001b[22m\u001b[39m [========================================>]  99.1 %\r    \u001b[36m\u001b[1mFetching:\u001b[22m\u001b[39m [========================================>]  100.0 %\r\u001b[2K\u001b[?25h"
          ],
          "name": "stdout"
        },
        {
          "output_type": "stream",
          "text": [
            "\u001b[32m\u001b[1m  Resolving\u001b[22m\u001b[39m package versions...\n",
            "\u001b[32m\u001b[1mUpdating\u001b[22m\u001b[39m `~/.julia/environments/v1.5/Project.toml`\n",
            " \u001b[90m [fa267f1f] \u001b[39m\u001b[92m+ TOML v1.0.1 `https://github.com/JuliaLang/TOML.jl.git#master`\u001b[39m\n",
            "\u001b[32m\u001b[1mUpdating\u001b[22m\u001b[39m `~/.julia/environments/v1.5/Manifest.toml`\n",
            " \u001b[90m [fa267f1f] \u001b[39m\u001b[92m+ TOML v1.0.1 `https://github.com/JuliaLang/TOML.jl.git#master`\u001b[39m\n",
            "┌ Info: Precompiling TOML [fa267f1f-6049-4f14-aa54-33bafae1ed76]\n",
            "└ @ Base loading.jl:1278\n",
            "\u001b[32m\u001b[1m  Resolving\u001b[22m\u001b[39m package versions...\n",
            "\u001b[32m\u001b[1mUpdating\u001b[22m\u001b[39m `~/.julia/environments/v1.5/Project.toml`\n",
            " \u001b[90m [c7e460c6] \u001b[39m\u001b[92m+ ArgParse v1.1.1\u001b[39m\n",
            "\u001b[32m\u001b[1mNo Changes\u001b[22m\u001b[39m to `~/.julia/environments/v1.5/Manifest.toml`\n",
            "\u001b[32m\u001b[1m  Resolving\u001b[22m\u001b[39m package versions...\n",
            "\u001b[32m\u001b[1mUpdating\u001b[22m\u001b[39m `~/.julia/environments/v1.5/Project.toml`\n",
            " \u001b[90m [44cfe95a] \u001b[39m\u001b[92m+ Pkg\u001b[39m\n",
            "\u001b[32m\u001b[1mNo Changes\u001b[22m\u001b[39m to `~/.julia/environments/v1.5/Manifest.toml`\n",
            "\u001b[32m\u001b[1m  Resolving\u001b[22m\u001b[39m package versions...\n",
            "\u001b[32m\u001b[1mUpdating\u001b[22m\u001b[39m `~/.julia/environments/v1.5/Project.toml`\n",
            " \u001b[90m [10745b16] \u001b[39m\u001b[92m+ Statistics\u001b[39m\n",
            "\u001b[32m\u001b[1mNo Changes\u001b[22m\u001b[39m to `~/.julia/environments/v1.5/Manifest.toml`\n",
            "\u001b[32m\u001b[1m  Resolving\u001b[22m\u001b[39m package versions...\n",
            "\u001b[32m\u001b[1mUpdating\u001b[22m\u001b[39m `~/.julia/environments/v1.5/Project.toml`\n",
            " \u001b[90m [8dfed614] \u001b[39m\u001b[92m+ Test\u001b[39m\n",
            "\u001b[32m\u001b[1mNo Changes\u001b[22m\u001b[39m to `~/.julia/environments/v1.5/Manifest.toml`\n",
            "\u001b[32m\u001b[1m  Resolving\u001b[22m\u001b[39m package versions...\n",
            "\u001b[32m\u001b[1mUpdating\u001b[22m\u001b[39m `~/.julia/environments/v1.5/Project.toml`\n",
            " \u001b[90m [9a3f8284] \u001b[39m\u001b[92m+ Random\u001b[39m\n",
            "\u001b[32m\u001b[1mNo Changes\u001b[22m\u001b[39m to `~/.julia/environments/v1.5/Manifest.toml`\n",
            "\u001b[32m\u001b[1m  Resolving\u001b[22m\u001b[39m package versions...\n",
            "\u001b[32m\u001b[1mUpdating\u001b[22m\u001b[39m `~/.julia/environments/v1.5/Project.toml`\n",
            " \u001b[90m [157a0f19] \u001b[39m\u001b[92m+ SegyIO v0.7.3\u001b[39m\n",
            "\u001b[32m\u001b[1mNo Changes\u001b[22m\u001b[39m to `~/.julia/environments/v1.5/Manifest.toml`\n",
            "\u001b[32m\u001b[1m  Resolving\u001b[22m\u001b[39m package versions...\n",
            "\u001b[32m\u001b[1mUpdating\u001b[22m\u001b[39m `~/.julia/environments/v1.5/Project.toml`\n",
            " \u001b[90m [8ba89e20] \u001b[39m\u001b[92m+ Distributed\u001b[39m\n",
            "\u001b[32m\u001b[1mNo Changes\u001b[22m\u001b[39m to `~/.julia/environments/v1.5/Manifest.toml`\n",
            "\u001b[32m\u001b[1m  Resolving\u001b[22m\u001b[39m package versions...\n",
            "\u001b[32m\u001b[1mUpdating\u001b[22m\u001b[39m `~/.julia/environments/v1.5/Project.toml`\n",
            " \u001b[90m [717857b8] \u001b[39m\u001b[92m+ DSP v0.6.9\u001b[39m\n",
            "\u001b[32m\u001b[1mNo Changes\u001b[22m\u001b[39m to `~/.julia/environments/v1.5/Manifest.toml`\n",
            "\u001b[32m\u001b[1m  Resolving\u001b[22m\u001b[39m package versions...\n",
            "\u001b[32m\u001b[1mUpdating\u001b[22m\u001b[39m `~/.julia/environments/v1.5/Project.toml`\n",
            " \u001b[90m [37e2e46d] \u001b[39m\u001b[92m+ LinearAlgebra\u001b[39m\n",
            "\u001b[32m\u001b[1mNo Changes\u001b[22m\u001b[39m to `~/.julia/environments/v1.5/Manifest.toml`\n",
            "\u001b[32m\u001b[1m  Resolving\u001b[22m\u001b[39m package versions...\n",
            "\u001b[32m\u001b[1mUpdating\u001b[22m\u001b[39m `~/.julia/environments/v1.5/Project.toml`\n",
            " \u001b[90m [3a141323] \u001b[39m\u001b[92m+ PolynomialRoots v1.0.0\u001b[39m\n",
            "\u001b[32m\u001b[1mNo Changes\u001b[22m\u001b[39m to `~/.julia/environments/v1.5/Manifest.toml`\n",
            "\u001b[32m\u001b[1m  Resolving\u001b[22m\u001b[39m package versions...\n",
            "\u001b[32m\u001b[1mUpdating\u001b[22m\u001b[39m `~/.julia/environments/v1.5/Project.toml`\n",
            " \u001b[90m [bb331ad6] \u001b[39m\u001b[92m+ JOLI v0.7.13\u001b[39m\n",
            "\u001b[32m\u001b[1mNo Changes\u001b[22m\u001b[39m to `~/.julia/environments/v1.5/Manifest.toml`\n",
            "\u001b[32m\u001b[1m  Resolving\u001b[22m\u001b[39m package versions...\n",
            "\u001b[32m\u001b[1mNo Changes\u001b[22m\u001b[39m to `~/.julia/environments/v1.5/Project.toml`\n",
            "\u001b[32m\u001b[1mNo Changes\u001b[22m\u001b[39m to `~/.julia/environments/v1.5/Manifest.toml`\n",
            "\u001b[32m\u001b[1m  Resolving\u001b[22m\u001b[39m package versions...\n",
            "\u001b[32m\u001b[1mUpdating\u001b[22m\u001b[39m `~/.julia/environments/v1.5/Project.toml`\n",
            " \u001b[90m [42fd0dbc] \u001b[39m\u001b[92m+ IterativeSolvers v0.8.4\u001b[39m\n",
            "\u001b[32m\u001b[1mNo Changes\u001b[22m\u001b[39m to `~/.julia/environments/v1.5/Manifest.toml`\n",
            "\u001b[32m\u001b[1m  Resolving\u001b[22m\u001b[39m package versions...\n",
            "\u001b[32m\u001b[1mUpdating\u001b[22m\u001b[39m `~/.julia/environments/v1.5/Project.toml`\n",
            " \u001b[90m [39dd38d3] \u001b[39m\u001b[92m+ Dierckx v0.5.1\u001b[39m\n",
            "\u001b[32m\u001b[1mNo Changes\u001b[22m\u001b[39m to `~/.julia/environments/v1.5/Manifest.toml`\n",
            "\u001b[32m\u001b[1m  Resolving\u001b[22m\u001b[39m package versions...\n",
            "\u001b[32m\u001b[1mUpdating\u001b[22m\u001b[39m `~/.julia/environments/v1.5/Project.toml`\n",
            " \u001b[90m [de0858da] \u001b[39m\u001b[92m+ Printf\u001b[39m\n",
            "\u001b[32m\u001b[1mNo Changes\u001b[22m\u001b[39m to `~/.julia/environments/v1.5/Manifest.toml`\n",
            "\u001b[32m\u001b[1m  Resolving\u001b[22m\u001b[39m package versions...\n",
            "\u001b[32m\u001b[1mUpdating\u001b[22m\u001b[39m `~/.julia/environments/v1.5/Project.toml`\n",
            " \u001b[90m [7a1cc6ca] \u001b[39m\u001b[92m+ FFTW v1.2.4\u001b[39m\n",
            "\u001b[32m\u001b[1mNo Changes\u001b[22m\u001b[39m to `~/.julia/environments/v1.5/Manifest.toml`\n"
          ],
          "name": "stderr"
        }
      ]
    },
    {
      "cell_type": "markdown",
      "metadata": {
        "id": "_RyzHZK0DHMZ"
      },
      "source": [
        "JUDI dependencies"
      ]
    },
    {
      "cell_type": "code",
      "metadata": {
        "id": "A1TPC7ioDFfB",
        "outputId": "e53fb597-6435-4993-f301-53aeb8819575",
        "colab": {
          "base_uri": "https://localhost:8080/"
        }
      },
      "source": [
        "# IO\r\n",
        "Pkg.add(\"HDF5\")\r\n",
        "Pkg.add(\"JLD\")\r\n",
        "Pkg.add(\"JLD2\")\r\n",
        "\r\n",
        "# Plotting\r\n",
        "Pkg.add(\"PyPlot\")\r\n",
        "\r\n",
        "# Optimization\r\n",
        "Pkg.add(\"NLopt\")\r\n",
        "Pkg.add(\"IterativeSolvers\")\r\n",
        "Pkg.add(\"Optim\")\r\n",
        "Pkg.add(\"LineSearches\")\r\n",
        "Pkg.add(\"SetIntersectionProjection\")"
      ],
      "execution_count": 23,
      "outputs": [
        {
          "output_type": "stream",
          "text": [
            "\u001b[32m\u001b[1m  Resolving\u001b[22m\u001b[39m package versions...\n",
            "\u001b[32m\u001b[1m  Installed\u001b[22m\u001b[39m LibCURL_jll ─ v7.70.0+2\n",
            "\u001b[32m\u001b[1m  Installed\u001b[22m\u001b[39m LibSSH2_jll ─ v1.9.0+3\n",
            "\u001b[32m\u001b[1m  Installed\u001b[22m\u001b[39m nghttp2_jll ─ v1.40.0+2\n",
            "\u001b[32m\u001b[1m  Installed\u001b[22m\u001b[39m HDF5_jll ──── v1.12.0+1\n",
            "\u001b[32m\u001b[1m  Installed\u001b[22m\u001b[39m Zstd_jll ──── v1.4.5+2\n",
            "\u001b[32m\u001b[1m  Installed\u001b[22m\u001b[39m OpenSSL_jll ─ v1.1.1+6\n",
            "\u001b[32m\u001b[1m  Installed\u001b[22m\u001b[39m Blosc_jll ─── v1.14.3+1\n",
            "\u001b[32m\u001b[1m  Installed\u001b[22m\u001b[39m HDF5 ──────── v0.14.3\n",
            "\u001b[32m\u001b[1m  Installed\u001b[22m\u001b[39m Blosc ─────── v0.7.0\n",
            "\u001b[32m\u001b[1m  Installed\u001b[22m\u001b[39m Lz4_jll ───── v1.9.2+2\n",
            "######################################################################### 100.0%\n",
            "######################################################################### 100.0%\n",
            "######################################################################### 100.0%\n",
            "######################################################################### 100.0%\n",
            "######################################################################### 100.0%\n",
            "######################################################################### 100.0%\n",
            "######################################################################### 100.0%\n",
            "######################################################################### 100.0%\n",
            "\u001b[32m\u001b[1mUpdating\u001b[22m\u001b[39m `~/.julia/environments/v1.5/Project.toml`\n",
            " \u001b[90m [f67ccb44] \u001b[39m\u001b[92m+ HDF5 v0.14.3\u001b[39m\n",
            "\u001b[32m\u001b[1mUpdating\u001b[22m\u001b[39m `~/.julia/environments/v1.5/Manifest.toml`\n",
            " \u001b[90m [a74b3585] \u001b[39m\u001b[92m+ Blosc v0.7.0\u001b[39m\n",
            " \u001b[90m [0b7ba130] \u001b[39m\u001b[92m+ Blosc_jll v1.14.3+1\u001b[39m\n",
            " \u001b[90m [f67ccb44] \u001b[39m\u001b[92m+ HDF5 v0.14.3\u001b[39m\n",
            " \u001b[90m [0234f1f7] \u001b[39m\u001b[92m+ HDF5_jll v1.12.0+1\u001b[39m\n",
            " \u001b[90m [deac9b47] \u001b[39m\u001b[92m+ LibCURL_jll v7.70.0+2\u001b[39m\n",
            " \u001b[90m [29816b5a] \u001b[39m\u001b[92m+ LibSSH2_jll v1.9.0+3\u001b[39m\n",
            " \u001b[90m [5ced341a] \u001b[39m\u001b[92m+ Lz4_jll v1.9.2+2\u001b[39m\n",
            " \u001b[90m [458c3c95] \u001b[39m\u001b[92m+ OpenSSL_jll v1.1.1+6\u001b[39m\n",
            " \u001b[90m [3161d3a3] \u001b[39m\u001b[92m+ Zstd_jll v1.4.5+2\u001b[39m\n",
            " \u001b[90m [8e850ede] \u001b[39m\u001b[92m+ nghttp2_jll v1.40.0+2\u001b[39m\n",
            "\u001b[32m\u001b[1m   Building\u001b[22m\u001b[39m HDF5 → `~/.julia/packages/HDF5/d0V7K/deps/build.log`\n",
            "\u001b[32m\u001b[1m  Resolving\u001b[22m\u001b[39m package versions...\n",
            "\u001b[32m\u001b[1m  Installed\u001b[22m\u001b[39m JLD ──── v0.11.1\n",
            "\u001b[32m\u001b[1m  Installed\u001b[22m\u001b[39m FileIO ─ v1.4.5\n",
            "\u001b[32m\u001b[1mUpdating\u001b[22m\u001b[39m `~/.julia/environments/v1.5/Project.toml`\n",
            " \u001b[90m [4138dd39] \u001b[39m\u001b[92m+ JLD v0.11.1\u001b[39m\n",
            "\u001b[32m\u001b[1mUpdating\u001b[22m\u001b[39m `~/.julia/environments/v1.5/Manifest.toml`\n",
            " \u001b[90m [5789e2e9] \u001b[39m\u001b[92m+ FileIO v1.4.5\u001b[39m\n",
            " \u001b[90m [4138dd39] \u001b[39m\u001b[92m+ JLD v0.11.1\u001b[39m\n",
            "\u001b[32m\u001b[1m  Resolving\u001b[22m\u001b[39m package versions...\n",
            "\u001b[32m\u001b[1m  Installed\u001b[22m\u001b[39m CodecZlib ────────── v0.7.0\n",
            "\u001b[32m\u001b[1m  Installed\u001b[22m\u001b[39m JLD2 ─────────────── v0.3.1\n",
            "\u001b[32m\u001b[1m  Installed\u001b[22m\u001b[39m TranscodingStreams ─ v0.9.5\n",
            "\u001b[32m\u001b[1mUpdating\u001b[22m\u001b[39m `~/.julia/environments/v1.5/Project.toml`\n",
            " \u001b[90m [033835bb] \u001b[39m\u001b[92m+ JLD2 v0.3.1\u001b[39m\n",
            "\u001b[32m\u001b[1mUpdating\u001b[22m\u001b[39m `~/.julia/environments/v1.5/Manifest.toml`\n",
            " \u001b[90m [944b1d66] \u001b[39m\u001b[92m+ CodecZlib v0.7.0\u001b[39m\n",
            " \u001b[90m [033835bb] \u001b[39m\u001b[92m+ JLD2 v0.3.1\u001b[39m\n",
            " \u001b[90m [3bb67fe8] \u001b[39m\u001b[92m+ TranscodingStreams v0.9.5\u001b[39m\n",
            "\u001b[32m\u001b[1m  Resolving\u001b[22m\u001b[39m package versions...\n",
            "\u001b[32m\u001b[1m  Installed\u001b[22m\u001b[39m LaTeXStrings ─ v1.2.0\n",
            "\u001b[32m\u001b[1m  Installed\u001b[22m\u001b[39m PyPlot ─────── v2.9.0\n",
            "\u001b[32m\u001b[1mUpdating\u001b[22m\u001b[39m `~/.julia/environments/v1.5/Project.toml`\n",
            " \u001b[90m [d330b81b] \u001b[39m\u001b[92m+ PyPlot v2.9.0\u001b[39m\n",
            "\u001b[32m\u001b[1mUpdating\u001b[22m\u001b[39m `~/.julia/environments/v1.5/Manifest.toml`\n",
            " \u001b[90m [b964fa9f] \u001b[39m\u001b[92m+ LaTeXStrings v1.2.0\u001b[39m\n",
            " \u001b[90m [d330b81b] \u001b[39m\u001b[92m+ PyPlot v2.9.0\u001b[39m\n",
            "\u001b[32m\u001b[1m  Resolving\u001b[22m\u001b[39m package versions...\n",
            "\u001b[32m\u001b[1m  Installed\u001b[22m\u001b[39m NLopt_jll ────────── v2.7.0+0\n",
            "\u001b[32m\u001b[1m  Installed\u001b[22m\u001b[39m IniFile ──────────── v0.5.0\n",
            "\u001b[32m\u001b[1m  Installed\u001b[22m\u001b[39m NLopt ────────────── v0.6.1\n",
            "\u001b[32m\u001b[1m  Installed\u001b[22m\u001b[39m JSONSchema ───────── v0.3.3\n",
            "\u001b[32m\u001b[1m  Installed\u001b[22m\u001b[39m BenchmarkTools ───── v0.5.0\n",
            "\u001b[32m\u001b[1m  Installed\u001b[22m\u001b[39m MathProgBase ─────── v0.7.8\n",
            "\u001b[32m\u001b[1m  Installed\u001b[22m\u001b[39m MutableArithmetics ─ v0.2.12\n",
            "\u001b[32m\u001b[1m  Installed\u001b[22m\u001b[39m URIs ─────────────── v1.1.0\n",
            "\u001b[32m\u001b[1m  Installed\u001b[22m\u001b[39m Bzip2_jll ────────── v1.0.6+5\n",
            "\u001b[32m\u001b[1m  Installed\u001b[22m\u001b[39m ZipFile ──────────── v0.9.3\n",
            "\u001b[32m\u001b[1m  Installed\u001b[22m\u001b[39m CodecBzip2 ───────── v0.7.2\n",
            "\u001b[32m\u001b[1m  Installed\u001b[22m\u001b[39m HTTP ─────────────── v0.9.1\n",
            "\u001b[32m\u001b[1m  Installed\u001b[22m\u001b[39m MathOptInterface ─── v0.9.19\n",
            "######################################################################### 100.0%\n",
            "######################################################################### 100.0%\n",
            "\u001b[32m\u001b[1mUpdating\u001b[22m\u001b[39m `~/.julia/environments/v1.5/Project.toml`\n",
            " \u001b[90m [76087f3c] \u001b[39m\u001b[92m+ NLopt v0.6.1\u001b[39m\n",
            "\u001b[32m\u001b[1mUpdating\u001b[22m\u001b[39m `~/.julia/environments/v1.5/Manifest.toml`\n",
            " \u001b[90m [6e4b80f9] \u001b[39m\u001b[92m+ BenchmarkTools v0.5.0\u001b[39m\n",
            " \u001b[90m [6e34b625] \u001b[39m\u001b[92m+ Bzip2_jll v1.0.6+5\u001b[39m\n",
            " \u001b[90m [523fee87] \u001b[39m\u001b[92m+ CodecBzip2 v0.7.2\u001b[39m\n",
            " \u001b[90m [cd3eb016] \u001b[39m\u001b[92m+ HTTP v0.9.1\u001b[39m\n",
            " \u001b[90m [83e8ac13] \u001b[39m\u001b[92m+ IniFile v0.5.0\u001b[39m\n",
            " \u001b[90m [7d188eb4] \u001b[39m\u001b[92m+ JSONSchema v0.3.3\u001b[39m\n",
            " \u001b[90m [b8f27783] \u001b[39m\u001b[92m+ MathOptInterface v0.9.19\u001b[39m\n",
            " \u001b[90m [fdba3010] \u001b[39m\u001b[92m+ MathProgBase v0.7.8\u001b[39m\n",
            " \u001b[90m [d8a4904e] \u001b[39m\u001b[92m+ MutableArithmetics v0.2.12\u001b[39m\n",
            " \u001b[90m [76087f3c] \u001b[39m\u001b[92m+ NLopt v0.6.1\u001b[39m\n",
            " \u001b[90m [079eb43e] \u001b[39m\u001b[92m+ NLopt_jll v2.7.0+0\u001b[39m\n",
            " \u001b[90m [5c2747f8] \u001b[39m\u001b[92m+ URIs v1.1.0\u001b[39m\n",
            " \u001b[90m [a5390f91] \u001b[39m\u001b[92m+ ZipFile v0.9.3\u001b[39m\n",
            "\u001b[32m\u001b[1m  Resolving\u001b[22m\u001b[39m package versions...\n",
            "\u001b[32m\u001b[1mNo Changes\u001b[22m\u001b[39m to `~/.julia/environments/v1.5/Project.toml`\n",
            "\u001b[32m\u001b[1mNo Changes\u001b[22m\u001b[39m to `~/.julia/environments/v1.5/Manifest.toml`\n",
            "\u001b[32m\u001b[1m  Resolving\u001b[22m\u001b[39m package versions...\n",
            "\u001b[32m\u001b[1m  Installed\u001b[22m\u001b[39m PositiveFactorizations ─ v0.2.4\n",
            "\u001b[32m\u001b[1m  Installed\u001b[22m\u001b[39m DiffResults ──────────── v1.0.3\n",
            "\u001b[32m\u001b[1m  Installed\u001b[22m\u001b[39m Missings ─────────────── v0.4.4\n",
            "\u001b[32m\u001b[1m  Installed\u001b[22m\u001b[39m ForwardDiff ──────────── v0.10.14\n",
            "\u001b[32m\u001b[1m  Installed\u001b[22m\u001b[39m CommonSubexpressions ─── v0.3.0\n",
            "\u001b[32m\u001b[1m  Installed\u001b[22m\u001b[39m StaticArrays ─────────── v1.0.1\n",
            "\u001b[32m\u001b[1m  Installed\u001b[22m\u001b[39m LineSearches ─────────── v7.1.0\n",
            "\u001b[32m\u001b[1m  Installed\u001b[22m\u001b[39m Optim ────────────────── v1.2.0\n",
            "\u001b[32m\u001b[1m  Installed\u001b[22m\u001b[39m UnPack ───────────────── v1.0.2\n",
            "\u001b[32m\u001b[1m  Installed\u001b[22m\u001b[39m DataAPI ──────────────── v1.4.0\n",
            "\u001b[32m\u001b[1m  Installed\u001b[22m\u001b[39m DiffRules ────────────── v1.0.2\n",
            "\u001b[32m\u001b[1m  Installed\u001b[22m\u001b[39m StatsBase ────────────── v0.33.2\n",
            "\u001b[32m\u001b[1m  Installed\u001b[22m\u001b[39m FillArrays ───────────── v0.9.7\n",
            "\u001b[32m\u001b[1m  Installed\u001b[22m\u001b[39m FiniteDiff ───────────── v2.7.2\n",
            "\u001b[32m\u001b[1m  Installed\u001b[22m\u001b[39m NLSolversBase ────────── v7.7.1\n",
            "\u001b[32m\u001b[1m  Installed\u001b[22m\u001b[39m SortingAlgorithms ────── v0.3.1\n",
            "\u001b[32m\u001b[1m  Installed\u001b[22m\u001b[39m ArrayInterface ───────── v2.14.4\n",
            "\u001b[32m\u001b[1m  Installed\u001b[22m\u001b[39m Parameters ───────────── v0.12.1\n",
            "\u001b[32m\u001b[1mUpdating\u001b[22m\u001b[39m `~/.julia/environments/v1.5/Project.toml`\n",
            " \u001b[90m [429524aa] \u001b[39m\u001b[92m+ Optim v1.2.0\u001b[39m\n",
            "\u001b[32m\u001b[1mUpdating\u001b[22m\u001b[39m `~/.julia/environments/v1.5/Manifest.toml`\n",
            " \u001b[90m [4fba245c] \u001b[39m\u001b[92m+ ArrayInterface v2.14.4\u001b[39m\n",
            " \u001b[90m [bbf7d656] \u001b[39m\u001b[92m+ CommonSubexpressions v0.3.0\u001b[39m\n",
            " \u001b[90m [9a962f9c] \u001b[39m\u001b[92m+ DataAPI v1.4.0\u001b[39m\n",
            " \u001b[90m [163ba53b] \u001b[39m\u001b[92m+ DiffResults v1.0.3\u001b[39m\n",
            " \u001b[90m [b552c78f] \u001b[39m\u001b[92m+ DiffRules v1.0.2\u001b[39m\n",
            " \u001b[90m [1a297f60] \u001b[39m\u001b[92m+ FillArrays v0.9.7\u001b[39m\n",
            " \u001b[90m [6a86dc24] \u001b[39m\u001b[92m+ FiniteDiff v2.7.2\u001b[39m\n",
            " \u001b[90m [f6369f11] \u001b[39m\u001b[92m+ ForwardDiff v0.10.14\u001b[39m\n",
            " \u001b[90m [d3d80556] \u001b[39m\u001b[92m+ LineSearches v7.1.0\u001b[39m\n",
            " \u001b[90m [e1d29d7a] \u001b[39m\u001b[92m+ Missings v0.4.4\u001b[39m\n",
            " \u001b[90m [d41bc354] \u001b[39m\u001b[92m+ NLSolversBase v7.7.1\u001b[39m\n",
            " \u001b[90m [429524aa] \u001b[39m\u001b[92m+ Optim v1.2.0\u001b[39m\n",
            " \u001b[90m [d96e819e] \u001b[39m\u001b[92m+ Parameters v0.12.1\u001b[39m\n",
            " \u001b[90m [85a6dd25] \u001b[39m\u001b[92m+ PositiveFactorizations v0.2.4\u001b[39m\n",
            " \u001b[90m [a2af1166] \u001b[39m\u001b[92m+ SortingAlgorithms v0.3.1\u001b[39m\n",
            " \u001b[90m [90137ffa] \u001b[39m\u001b[92m+ StaticArrays v1.0.1\u001b[39m\n",
            " \u001b[90m [2913bbd2] \u001b[39m\u001b[92m+ StatsBase v0.33.2\u001b[39m\n",
            " \u001b[90m [3a884ed6] \u001b[39m\u001b[92m+ UnPack v1.0.2\u001b[39m\n",
            "\u001b[32m\u001b[1m  Resolving\u001b[22m\u001b[39m package versions...\n",
            "\u001b[32m\u001b[1mUpdating\u001b[22m\u001b[39m `~/.julia/environments/v1.5/Project.toml`\n",
            " \u001b[90m [d3d80556] \u001b[39m\u001b[92m+ LineSearches v7.1.0\u001b[39m\n",
            "\u001b[32m\u001b[1mNo Changes\u001b[22m\u001b[39m to `~/.julia/environments/v1.5/Manifest.toml`\n",
            "\u001b[32m\u001b[1m  Resolving\u001b[22m\u001b[39m package versions...\n",
            "\u001b[32m\u001b[1m  Installed\u001b[22m\u001b[39m WoodburyMatrices ────────── v0.5.3\n",
            "\u001b[32m\u001b[1m  Installed\u001b[22m\u001b[39m AxisAlgorithms ──────────── v1.0.0\n",
            "\u001b[32m\u001b[1m  Installed\u001b[22m\u001b[39m Ratios ──────────────────── v0.4.0\n",
            "\u001b[32m\u001b[1m  Installed\u001b[22m\u001b[39m Interpolations ──────────── v0.13.1\n"
          ],
          "name": "stderr"
        },
        {
          "output_type": "stream",
          "text": [
            "\u001b[?25l    "
          ],
          "name": "stdout"
        },
        {
          "output_type": "stream",
          "text": [
            "\u001b[32m\u001b[1m    Cloning\u001b[22m\u001b[39m [335f7d24-6316-57dd-9c3a-df470f2b739e] SetIntersectionProjection from https://GitHub.com/slimgroup/SetIntersectionProjection.jl.git\n"
          ],
          "name": "stderr"
        },
        {
          "output_type": "stream",
          "text": [
            "\u001b[2K\u001b[?25h"
          ],
          "name": "stdout"
        },
        {
          "output_type": "stream",
          "text": [
            "\u001b[32m\u001b[1m  Installed\u001b[22m\u001b[39m SetIntersectionProjection ─ v0.1.0\n",
            "\u001b[32m\u001b[1mUpdating\u001b[22m\u001b[39m `~/.julia/environments/v1.5/Project.toml`\n",
            " \u001b[90m [335f7d24] \u001b[39m\u001b[92m+ SetIntersectionProjection v0.1.0\u001b[39m\n",
            "\u001b[32m\u001b[1mUpdating\u001b[22m\u001b[39m `~/.julia/environments/v1.5/Manifest.toml`\n",
            " \u001b[90m [13072b0f] \u001b[39m\u001b[92m+ AxisAlgorithms v1.0.0\u001b[39m\n",
            " \u001b[90m [a98d9a8b] \u001b[39m\u001b[92m+ Interpolations v0.13.1\u001b[39m\n",
            " \u001b[90m [c84ed2f1] \u001b[39m\u001b[92m+ Ratios v0.4.0\u001b[39m\n",
            " \u001b[90m [335f7d24] \u001b[39m\u001b[92m+ SetIntersectionProjection v0.1.0\u001b[39m\n",
            " \u001b[90m [efce3f68] \u001b[39m\u001b[92m+ WoodburyMatrices v0.5.3\u001b[39m\n"
          ],
          "name": "stderr"
        }
      ]
    },
    {
      "cell_type": "markdown",
      "metadata": {
        "id": "IL6iVezPJpNs"
      },
      "source": [
        "# JUDI examples"
      ]
    },
    {
      "cell_type": "markdown",
      "metadata": {
        "id": "yPiHX7R48w1l"
      },
      "source": [
        "## Script examples"
      ]
    },
    {
      "cell_type": "markdown",
      "metadata": {
        "id": "w54DAyO3-SO_"
      },
      "source": [
        "### extended_source_lsqr.jl"
      ]
    },
    {
      "cell_type": "code",
      "metadata": {
        "id": "FLdcrKMaEjuJ",
        "outputId": "a19497a3-8da0-4934-e06e-b36afadf4467",
        "colab": {
          "base_uri": "https://localhost:8080/"
        }
      },
      "source": [
        ";cd /content/JUDI.jl/examples/scripts"
      ],
      "execution_count": 24,
      "outputs": [
        {
          "output_type": "stream",
          "text": [
            "/content/JUDI.jl/examples/scripts\n"
          ],
          "name": "stdout"
        }
      ]
    },
    {
      "cell_type": "code",
      "metadata": {
        "colab": {
          "base_uri": "https://localhost:8080/"
        },
        "id": "74h08fwt-lg7",
        "outputId": "92d3e1a3-8e4f-4d65-d0d1-889f1389eac0"
      },
      "source": [
        "# Example for basic 2D modeling:\r\n",
        "# The receiver positions and the source wavelets are the same for each of the four experiments.\r\n",
        "# Author: Philipp Witte, pwitte@eos.ubc.ca\r\n",
        "# Date: January 2017\r\n",
        "#\r\n",
        "\r\n",
        "using JUDI.TimeModeling, SegyIO, LinearAlgebra, PyPlot, IterativeSolvers, JOLI\r\n",
        "\r\n",
        "# Set up model structure\r\n",
        "n = (120, 100)   # (x,y,z) or (x,z)\r\n",
        "d = (10., 10.)\r\n",
        "o = (0., 0.)\r\n",
        "\r\n",
        "# Velocity [km/s]\r\n",
        "v = ones(Float32,n) .+ 0.4f0\r\n",
        "v[:,Int(round(end/2)):end] .= 5f0\r\n",
        "\r\n",
        "# Slowness squared [s^2/km^2]\r\n",
        "m = (1f0 ./ v).^2\r\n",
        "\r\n",
        "# Setup info and model structure\r\n",
        "nsrc = 1\t# number of sources\r\n",
        "model = Model(n, d, o, m)\r\n",
        "\r\n",
        "# Set up receiver geometry\r\n",
        "nxrec = 120\r\n",
        "xrec = range(50f0, stop=1150f0, length=nxrec)\r\n",
        "yrec = 0f0\r\n",
        "zrec = range(50f0, stop=50f0, length=nxrec)\r\n",
        "\r\n",
        "# receiver sampling and recording time\r\n",
        "time = 2000f0   # receiver recording time [ms]\r\n",
        "dt = 4f0    # receiver sampling interval [ms]\r\n",
        "\r\n",
        "# Set up receiver structure\r\n",
        "recGeometry = Geometry(xrec, yrec, zrec; dt=dt, t=time, nsrc=nsrc)\r\n",
        "\r\n",
        "# Source wavelet\r\n",
        "f0 = 0.01f0     # MHz\r\n",
        "wavelet = ricker_wavelet(time, dt, f0)\r\n",
        "\r\n",
        "# Set up info structure for linear operators\r\n",
        "ntComp = get_computational_nt(recGeometry, model)\r\n",
        "info = Info(prod(n), nsrc, ntComp)"
      ],
      "execution_count": 25,
      "outputs": [
        {
          "output_type": "stream",
          "text": [
            "┌ Info: Precompiling JUDI [f3b833dc-6b2e-5b9c-b940-873ed6319979]\n",
            "└ @ Base loading.jl:1278\n"
          ],
          "name": "stderr"
        },
        {
          "output_type": "stream",
          "text": [
            "Downloading artifact: CUDA101\n",
            "\u001b[?25l"
          ],
          "name": "stdout"
        },
        {
          "output_type": "stream",
          "text": [
            "######################################################################### 100.0%\n"
          ],
          "name": "stderr"
        },
        {
          "output_type": "stream",
          "text": [
            "\u001b[1A\u001b[2K\u001b[?25hDownloading artifact: CUDNN_CUDA101\n",
            "\u001b[?25l"
          ],
          "name": "stdout"
        },
        {
          "output_type": "stream",
          "text": [
            "######################################################################### 100.0%\n"
          ],
          "name": "stderr"
        },
        {
          "output_type": "stream",
          "text": [
            "\u001b[1A\u001b[2K\u001b[?25hDownloading artifact: CUTENSOR_CUDA101\n",
            "\u001b[?25l"
          ],
          "name": "stdout"
        },
        {
          "output_type": "stream",
          "text": [
            "######################################################################### 100.0%\n"
          ],
          "name": "stderr"
        },
        {
          "output_type": "stream",
          "text": [
            "\u001b[1A\u001b[2K\u001b[?25h"
          ],
          "name": "stdout"
        },
        {
          "output_type": "stream",
          "text": [
            "┌ Info: Precompiling PyPlot [d330b81b-6aea-500a-939a-2ce795aea3ee]\n",
            "└ @ Base loading.jl:1278\n",
            "WARNING: using PyPlot.plt in module Main conflicts with an existing identifier.\n"
          ],
          "name": "stderr"
        },
        {
          "output_type": "execute_result",
          "data": {
            "text/plain": [
              "Info(12000, 1, Any[2646])"
            ]
          },
          "metadata": {
            "tags": []
          },
          "execution_count": 25
        }
      ]
    },
    {
      "cell_type": "code",
      "metadata": {
        "colab": {
          "base_uri": "https://localhost:8080/",
          "height": 911
        },
        "id": "6LeqnmIb-msO",
        "outputId": "64a5bfa6-96a4-406d-972c-03ae06b4135d"
      },
      "source": [
        "# Write shots as segy files to disk\r\n",
        "opt = Options()\r\n",
        "\r\n",
        "# Setup operators\r\n",
        "Pr = judiProjection(info, recGeometry)\r\n",
        "F = judiModeling(info, model; options=opt)\r\n",
        "\r\n",
        "# Random weights (size of the model)\r\n",
        "w = judiWeights(randn(Float32, model.n))\r\n",
        "\r\n",
        "# Create operator for injecting the weights, multiplied by the provided wavelet(s)\r\n",
        "Pw = judiLRWF(info, wavelet)\r\n",
        "\r\n",
        "# Model observed data w/ extended source\r\n",
        "lambda = 1f2\r\n",
        "I = joDirac(info.n, DDT=Float32, RDT=Float32)\r\n",
        "F = Pr*F*adjoint(Pw)\r\n",
        "F̄ = [F; lambda*I]\r\n",
        "\r\n",
        "# Simultaneous observed data\r\n",
        "d_sim = F*w\r\n",
        "\r\n",
        "# # Adjoint operation\r\n",
        "w_adj = adjoint(F)*d_sim\r\n",
        "\r\n",
        "# # LSQR\r\n",
        "w_inv = 0f0 .* w\r\n",
        "w_inv_no_damp = 0f0 .* w\r\n",
        "lsqr!(w_inv, F̄, [d_sim; lambda*w]; maxiter=2, verbose=true, damp=1e2)\r\n",
        "lsqr!(w_inv_no_damp, F, d_sim; maxiter=2, verbose=true, damp=1e2)\r\n",
        "\r\n",
        "d_pred = F*w_inv;\r\n",
        "d_pred_no_damp = F*w_inv_no_damp;\r\n",
        "\r\n",
        "# Plot results\r\n",
        "figure()\r\n",
        "subplot(1,3,1)\r\n",
        "imshow(d_sim.data[1], vmin=-5e2, vmax=5e2, cmap=\"gray\"); title(\"Observed data\")\r\n",
        "subplot(1,3,2)\r\n",
        "imshow(d_pred.data[1], vmin=-2e2, vmax=2e2, cmap=\"gray\"); title(\"Predicted data\")\r\n",
        "subplot(1,3,3)\r\n",
        "imshow(d_pred_no_damp.data[1], vmin=-2e2, vmax=2e2, cmap=\"gray\"); title(\"Predicted data no damp\")"
      ],
      "execution_count": 26,
      "outputs": [
        {
          "output_type": "stream",
          "text": [
            "=== lsqr ===\n",
            "iter\tresnorm\t\t  anorm\t\t  cnorm\t\t  rnorm\n",
            " "
          ],
          "name": "stdout"
        },
        {
          "output_type": "stream",
          "text": [
            "Operator `forward` run in 0.17 s\n",
            "Operator `adjoint` run in 0.17 s\n"
          ],
          "name": "stderr"
        },
        {
          "output_type": "stream",
          "text": [
            " 1\t2.25e+04\t6.10e-01\t2.27e-02\t6.41e-01\n",
            " "
          ],
          "name": "stdout"
        },
        {
          "output_type": "stream",
          "text": [
            "Operator `forward` run in 0.16 s\n",
            "Operator `adjoint` run in 0.17 s\n",
            "Operator `forward` run in 0.17 s\n",
            "Operator `adjoint` run in 0.16 s\n"
          ],
          "name": "stderr"
        },
        {
          "output_type": "stream",
          "text": [
            " 2\t1.76e+04\t2.92e-01\t8.59e-03\t5.03e-01\n",
            "\n"
          ],
          "name": "stdout"
        },
        {
          "output_type": "stream",
          "text": [
            "Operator `forward` run in 0.16 s\n",
            "Operator `adjoint` run in 0.17 s\n"
          ],
          "name": "stderr"
        },
        {
          "output_type": "stream",
          "text": [
            "=== lsqr ===\n",
            "iter\tresnorm\t\t  anorm\t\t  cnorm\t\t  rnorm\n",
            "  1\t1.97e+04\t6.95e-01\t8.12e-03\t5.91e-01\n",
            " "
          ],
          "name": "stdout"
        },
        {
          "output_type": "stream",
          "text": [
            "Operator `forward` run in 0.16 s\n",
            "Operator `adjoint` run in 0.17 s\n",
            "Operator `forward` run in 0.16 s\n",
            "Operator `adjoint` run in 0.18 s\n"
          ],
          "name": "stderr"
        },
        {
          "output_type": "display_data",
          "data": {
            "image/png": "[encoded data removed]",
            "text/plain": [
              "Figure(PyObject <Figure size 640x480 with 3 Axes>)"
            ]
          },
          "metadata": {
            "tags": []
          }
        },
        {
          "output_type": "stream",
          "text": [
            " 2\t1.96e+04\t6.54e-01\t7.07e-04\t5.88e-01\n",
            "\n"
          ],
          "name": "stdout"
        },
        {
          "output_type": "stream",
          "text": [
            "Operator `forward` run in 0.16 s\n",
            "Operator `adjoint` run in 0.17 s\n",
            "Operator `forward` run in 0.16 s\n",
            "Operator `forward` run in 0.16 s\n"
          ],
          "name": "stderr"
        },
        {
          "output_type": "execute_result",
          "data": {
            "text/plain": [
              "PyObject Text(0.5, 1.0, 'Predicted data no damp')"
            ]
          },
          "metadata": {
            "tags": []
          },
          "execution_count": 26
        }
      ]
    },
    {
      "cell_type": "code",
      "metadata": {
        "colab": {
          "base_uri": "https://localhost:8080/",
          "height": 469
        },
        "id": "juukNh1i-viz",
        "outputId": "7474ddee-82f8-463c-a435-3ec114d972c2"
      },
      "source": [
        "figure()\r\n",
        "subplot(2,2,1)\r\n",
        "imshow(w.weights[1], vmin=-3, vmax=3, cmap=\"gray\"); title(\"Weights\")\r\n",
        "subplot(2,2,2)\r\n",
        "imshow(w_adj.weights[1], vmin=minimum(w_adj), vmax=maximum(w_adj), cmap=\"gray\"); title(\"Adjoint\")\r\n",
        "subplot(2,2,3)\r\n",
        "imshow(w_inv.weights[1], vmin=minimum(w_inv), vmax=maximum(w_inv), cmap=\"gray\"); title(\"D-LSQR\")\r\n",
        "subplot(2,2,4)\r\n",
        "imshow(w_inv_no_damp.weights[1], vmin=minimum(w_inv), vmax=maximum(w_inv), cmap=\"gray\"); title(\"LSQR\")"
      ],
      "execution_count": 27,
      "outputs": [
        {
          "output_type": "display_data",
          "data": {
            "image/png": "[encoded data removed]",
            "text/plain": [
              "Figure(PyObject <Figure size 640x480 with 4 Axes>)"
            ]
          },
          "metadata": {
            "tags": []
          }
        },
        {
          "output_type": "execute_result",
          "data": {
            "text/plain": [
              "PyObject Text(0.5, 1.0, 'LSQR')"
            ]
          },
          "metadata": {
            "tags": []
          },
          "execution_count": 27
        }
      ]
    },
    {
      "cell_type": "markdown",
      "metadata": {
        "id": "t0oGhpaYA_xZ"
      },
      "source": [
        "### fwi_example_2D.jl"
      ]
    },
    {
      "cell_type": "code",
      "metadata": {
        "id": "tNJKLID1EnjY",
        "outputId": "b4a9602c-9f5d-478c-e2cb-00420eda0524",
        "colab": {
          "base_uri": "https://localhost:8080/"
        }
      },
      "source": [
        "; cd /content/JUDI.jl/examples/scripts"
      ],
      "execution_count": 28,
      "outputs": [
        {
          "output_type": "stream",
          "text": [
            "/content/JUDI.jl/examples/scripts\n"
          ],
          "name": "stdout"
        }
      ]
    },
    {
      "cell_type": "code",
      "metadata": {
        "id": "gJvOGYbDBM9B",
        "colab": {
          "base_uri": "https://localhost:8080/"
        },
        "outputId": "d3d7e6d1-3e03-41d1-8955-066b0c28b547"
      },
      "source": [
        "# 2D FWI on Overthrust model using minConf library\r\n",
        "# Author: Philipp Witte, pwitte@eoas.ubc.ca\r\n",
        "# Date: December 2017\r\n",
        "#\r\n",
        "\r\n",
        "using Statistics, Random, LinearAlgebra\r\n",
        "using JUDI.TimeModeling, JUDI.SLIM_optim, HDF5, SegyIO, PyPlot\r\n",
        "\r\n",
        "# Load starting model\r\n",
        "n,d,o,m0 = read(h5open(\"../../data/overthrust_model.h5\",\"r\"), \"n\", \"d\", \"o\", \"m0\")\r\n",
        "model0 = Model((n[1],n[2]), (d[1],d[2]), (o[1],o[2]), m0)\r\n",
        "\r\n",
        "# Bound constraints\r\n",
        "v0 = sqrt.(1f0 ./ model0.m)\r\n",
        "vmin = ones(Float32,model0.n) .* 1.3f0\r\n",
        "vmax = ones(Float32,model0.n) .* 6.5f0\r\n",
        "vmin[:,1:21] .= v0[:,1:21]   # keep water column fixed\r\n",
        "vmax[:,1:21] .= v0[:,1:21]\r\n",
        "\r\n",
        "# Slowness squared [s^2/km^2]\r\n",
        "mmin = vec((1f0 ./ vmax).^2)\r\n",
        "mmax = vec((1f0 ./ vmin).^2)\r\n",
        "\r\n",
        "# Load data\r\n",
        "block = segy_read(\"../../data/overthrust_shot_records.segy\")\r\n",
        "d_obs = judiVector(block)\r\n",
        "\r\n",
        "# Set up wavelet\r\n",
        "src_geometry = Geometry(block; key=\"source\")\r\n",
        "wavelet = ricker_wavelet(src_geometry.t[1],src_geometry.dt[1],0.008f0)  # 8 Hz wavelet\r\n",
        "q = judiVector(src_geometry,wavelet)"
      ],
      "execution_count": 29,
      "outputs": [
        {
          "output_type": "stream",
          "text": [
            "┌ Info: Precompiling HDF5 [f67ccb44-e63f-5c2f-98bd-6dc0ccc4ba2f]\n",
            "└ @ Base loading.jl:1278\n",
            "WARNING: using HDF5.info in module Main conflicts with an existing identifier.\n",
            "┌ Warning: Fixed length trace flag set in stream: IOBuffer(data=UInt8[...], readable=true, writable=false, seekable=true, append=false, size=7076688, maxsize=Inf, ptr=3601, mark=-1)\n",
            "└ @ SegyIO /root/.julia/packages/SegyIO/uw4ZW/src/read/read_file.jl:26\n"
          ],
          "name": "stderr"
        },
        {
          "output_type": "execute_result",
          "data": {
            "text/plain": [
              "judiVector{Float32}(\"Seismic data vector\", 8016, 1, 16, GeometryIC(Any[400.0f0, 1013.333f0, 1626.667f0, 2240.0f0, 2853.333f0, 3466.666f0, 4080.0f0, 4693.334f0, 5306.666f0, 5920.0f0, 6533.334f0, 7146.666f0, 7760.0f0, 8373.333f0, 8986.667f0, 9600.0f0], Any[0.0f0, 0.0f0, 0.0f0, 0.0f0, 0.0f0, 0.0f0, 0.0f0, 0.0f0, 0.0f0, 0.0f0, 0.0f0, 0.0f0, 0.0f0, 0.0f0, 0.0f0, 0.0f0], Any[50.0f0, 50.0f0, 50.0f0, 50.0f0, 50.0f0, 50.0f0, 50.0f0, 50.0f0, 50.0f0, 50.0f0, 50.0f0, 50.0f0, 50.0f0, 50.0f0, 50.0f0, 50.0f0], Any[4.0f0, 4.0f0, 4.0f0, 4.0f0, 4.0f0, 4.0f0, 4.0f0, 4.0f0, 4.0f0, 4.0f0, 4.0f0, 4.0f0, 4.0f0, 4.0f0, 4.0f0, 4.0f0], Any[501, 501, 501, 501, 501, 501, 501, 501, 501, 501, 501, 501, 501, 501, 501, 501], Any[2000.0f0, 2000.0f0, 2000.0f0, 2000.0f0, 2000.0f0, 2000.0f0, 2000.0f0, 2000.0f0, 2000.0f0, 2000.0f0, 2000.0f0, 2000.0f0, 2000.0f0, 2000.0f0, 2000.0f0, 2000.0f0]), Array[Float32[-0.00096925104; -0.0016848503; … ; -0.0; -0.0], Float32[-0.00096925104; -0.0016848503; … ; -0.0; -0.0], Float32[-0.00096925104; -0.0016848503; … ; -0.0; -0.0], Float32[-0.00096925104; -0.0016848503; … ; -0.0; -0.0], Float32[-0.00096925104; -0.0016848503; … ; -0.0; -0.0], Float32[-0.00096925104; -0.0016848503; … ; -0.0; -0.0], Float32[-0.00096925104; -0.0016848503; … ; -0.0; -0.0], Float32[-0.00096925104; -0.0016848503; … ; -0.0; -0.0], Float32[-0.00096925104; -0.0016848503; … ; -0.0; -0.0], Float32[-0.00096925104; -0.0016848503; … ; -0.0; -0.0], Float32[-0.00096925104; -0.0016848503; … ; -0.0; -0.0], Float32[-0.00096925104; -0.0016848503; … ; -0.0; -0.0], Float32[-0.00096925104; -0.0016848503; … ; -0.0; -0.0], Float32[-0.00096925104; -0.0016848503; … ; -0.0; -0.0], Float32[-0.00096925104; -0.0016848503; … ; -0.0; -0.0], Float32[-0.00096925104; -0.0016848503; … ; -0.0; -0.0]])"
            ]
          },
          "metadata": {
            "tags": []
          },
          "execution_count": 29
        }
      ]
    },
    {
      "cell_type": "code",
      "metadata": {
        "id": "g1URo6ZQBOlH",
        "colab": {
          "base_uri": "https://localhost:8080/",
          "height": 1000
        },
        "outputId": "13adb2e0-02f2-4de8-fcdc-d201143fbf8d"
      },
      "source": [
        "# Optimization parameters\r\n",
        "niterations = 10\r\n",
        "batchsize = 16\r\n",
        "fhistory_SGD = zeros(Float32,niterations)\r\n",
        "\r\n",
        "# Projection operator for bound constraints\r\n",
        "proj(x) = reshape(median([vec(mmin) vec(x) vec(mmax)]; dims=2),model0.n)\r\n",
        "\r\n",
        "# Main loop\r\n",
        "for j=1:niterations\r\n",
        "\r\n",
        "    # get fwi objective function value and gradient\r\n",
        "    i = randperm(d_obs.nsrc)[1:batchsize]\r\n",
        "    fval, gradient = fwi_objective(model0,q[i],d_obs[i])\r\n",
        "    println(\"FWI iteration no: \",j,\"; function value: \",fval)\r\n",
        "    fhistory_SGD[j] = fval\r\n",
        "\r\n",
        "\t# linesearch\r\n",
        "\tstep = backtracking_linesearch(model0, q[i], d_obs[i], fval, gradient, proj; alpha=1f0)\r\n",
        "\r\n",
        "\t# Update model and bound projection\r\n",
        "\tmodel0.m = proj(model0.m + reshape(step,model0.n))\r\n",
        "end"
      ],
      "execution_count": 30,
      "outputs": [
        {
          "output_type": "stream",
          "text": [
            "FWI iteration no: 1; function value: 542631.25"
          ],
          "name": "stdout"
        },
        {
          "output_type": "stream",
          "text": [
            "Operator `forward` run in 0.28 s\n",
            "Operator `gradient` run in 0.31 s\n",
            "Operator `forward` run in 0.27 s\n",
            "Operator `gradient` run in 0.29 s\n",
            "Operator `forward` run in 0.28 s\n",
            "Operator `gradient` run in 0.30 s\n",
            "Operator `forward` run in 0.27 s\n",
            "Operator `gradient` run in 0.30 s\n",
            "Operator `forward` run in 0.28 s\n",
            "Operator `gradient` run in 0.29 s\n",
            "Operator `forward` run in 0.27 s\n",
            "Operator `gradient` run in 0.30 s\n",
            "Operator `forward` run in 0.27 s\n",
            "Operator `gradient` run in 0.29 s\n",
            "Operator `forward` run in 0.27 s\n",
            "Operator `gradient` run in 0.29 s\n",
            "Operator `forward` run in 0.27 s\n",
            "Operator `gradient` run in 0.29 s\n",
            "Operator `forward` run in 0.27 s\n",
            "Operator `gradient` run in 0.29 s\n",
            "Operator `forward` run in 0.27 s\n",
            "Operator `gradient` run in 0.29 s\n",
            "Operator `forward` run in 0.29 s\n",
            "Operator `gradient` run in 0.30 s\n",
            "Operator `forward` run in 0.28 s\n",
            "Operator `gradient` run in 0.29 s\n",
            "Operator `forward` run in 0.27 s\n",
            "Operator `gradient` run in 0.30 s\n",
            "Operator `forward` run in 0.27 s\n",
            "Operator `gradient` run in 0.31 s\n",
            "Operator `forward` run in 0.27 s\n",
            "Operator `gradient` run in 0.30 s\n"
          ],
          "name": "stderr"
        },
        {
          "output_type": "stream",
          "text": [
            "\n"
          ],
          "name": "stdout"
        },
        {
          "output_type": "error",
          "ename": "LoadError",
          "evalue": "ignored",
          "traceback": [
            "BoundsError: attempt to access 401×121 Array{Float32,2} at index [402, 1]",
            "",
            "Stacktrace:",
            " [1] getindex(::Array{Float32,2}, ::Int64, ::Int64) at ./array.jl:810",
            " [2] getindex(::PhysicalParameter{Float32}, ::Int64, ::Int64) at /root/.julia/dev/JUDI/src/TimeModeling/ModelStructure.jl:125",
            " [3] _unsafe_getindex_rs at ./reshapedarray.jl:249 [inlined]",
            " [4] _unsafe_getindex at ./reshapedarray.jl:246 [inlined]",
            " [5] getindex at ./reshapedarray.jl:234 [inlined]",
            " [6] _getindex at ./abstractarray.jl:1100 [inlined]",
            " [7] getindex at ./abstractarray.jl:1060 [inlined]",
            " [8] _broadcast_getindex at ./broadcast.jl:614 [inlined]",
            " [9] _getindex at ./broadcast.jl:645 [inlined]",
            " [10] _getindex at ./broadcast.jl:644 [inlined]",
            " [11] _broadcast_getindex at ./broadcast.jl:620 [inlined]",
            " [12] getindex at ./broadcast.jl:575 [inlined]",
            " [13] macro expansion at ./broadcast.jl:932 [inlined]",
            " [14] macro expansion at ./simdloop.jl:77 [inlined]",
            " [15] copyto! at ./broadcast.jl:931 [inlined]",
            " [16] copyto! at ./broadcast.jl:886 [inlined]",
            " [17] copy at ./broadcast.jl:862 [inlined]",
            " [18] materialize at ./broadcast.jl:837 [inlined]",
            " [19] broadcast_preserving_zero_d at ./broadcast.jl:826 [inlined]",
            " [20] *(::Float32, ::Base.ReshapedArray{Float32,2,PhysicalParameter{Float32},Tuple{Base.MultiplicativeInverses.SignedMultiplicativeInverse{Int64}}}) at ./arraymath.jl:52",
            " [21] (::JUDI.SLIM_optim.var\"#objective#13\"{Model,judiVector{Float32},judiVector{Float32},typeof(proj)})(::Float32, ::PhysicalParameter{Float32}) at /root/.julia/dev/JUDI/src/Optimization/fwi_linesearch.jl:8",
            " [22] backtracking_linesearch(::Model, ::judiVector{Float32}, ::judiVector{Float32}, ::Float32, ::PhysicalParameter{Float32}, ::typeof(proj); alpha::Float32, tau::Float32, c1::Float32, maxiter::Int64, verbose::Bool) at /root/.julia/dev/JUDI/src/Optimization/fwi_linesearch.jl:19",
            " [23] top-level scope at ./In[30]:19",
            " [24] include_string(::Function, ::Module, ::String, ::String) at ./loading.jl:1091"
          ]
        }
      ]
    },
    {
      "cell_type": "code",
      "metadata": {
        "id": "IO0yZEWVBUK0",
        "colab": {
          "base_uri": "https://localhost:8080/",
          "height": 249
        },
        "outputId": "e2bd060e-43d0-47d8-b611-8bcc9b694560"
      },
      "source": [
        "figure(); imshow(sqrt.(1f0./adjoint(model0.m))); title(\"FWI with SGD\")"
      ],
      "execution_count": 31,
      "outputs": [
        {
          "output_type": "display_data",
          "data": {
            "image/png": "[encoded data removed]",
            "text/plain": [
              "Figure(PyObject <Figure size 640x480 with 1 Axes>)"
            ]
          },
          "metadata": {
            "tags": []
          }
        },
        {
          "output_type": "execute_result",
          "data": {
            "text/plain": [
              "PyObject Text(0.5, 1.0, 'FWI with SGD')"
            ]
          },
          "metadata": {
            "tags": []
          },
          "execution_count": 31
        }
      ]
    },
    {
      "cell_type": "markdown",
      "metadata": {
        "id": "NmlQGxWeBl-y"
      },
      "source": [
        "### fwi_example_NLopt.jl"
      ]
    },
    {
      "cell_type": "code",
      "metadata": {
        "id": "JqZ9dMz_EpSB"
      },
      "source": [
        "; cd /content/JUDI.jl/examples/scripts"
      ],
      "execution_count": null,
      "outputs": []
    },
    {
      "cell_type": "code",
      "metadata": {
        "id": "iS8veDDHBs3B",
        "colab": {
          "base_uri": "https://localhost:8080/"
        },
        "outputId": "1bed8ec7-ecd3-40b3-d218-0e6ed085a00f"
      },
      "source": [
        "# 2D FWI on Overthrust model with L-BFGS using NLopt library\r\n",
        "# Author: Philipp Witte, pwitte@eoas.ubc.ca\r\n",
        "# Date: December 2017\r\n",
        "#\r\n",
        "\r\n",
        "using Statistics, Random, LinearAlgebra\r\n",
        "using JUDI.TimeModeling, HDF5, NLopt, SegyIO\r\n",
        "\r\n",
        "# Load starting model\r\n",
        "n,d,o,m0 = read(h5open(\"../../data/overthrust_model.h5\",\"r\"), \"n\", \"d\", \"o\", \"m0\")\r\n",
        "model0 = Model((n[1],n[2]), (d[1],d[2]), (o[1],o[2]), m0)\r\n",
        "\r\n",
        "# Bound constraints\r\n",
        "v0 = sqrt.(1f0 ./ model0.m)\r\n",
        "vmin = ones(Float32, model0.n) .* 1.3f0\r\n",
        "vmax = ones(Float32, model0.n) .* 6.5f0\r\n",
        "\r\n",
        "# Slowness squared [s^2/km^2]\r\n",
        "mmin = vec((1f0 ./ vmax).^2)\r\n",
        "mmax = vec((1f0 ./ vmin).^2)\r\n",
        "\r\n",
        "# Load data\r\n",
        "block = segy_read(\"../../data/overthrust_shot_records.segy\")\r\n",
        "d_obs = judiVector(block)\r\n",
        "\r\n",
        "# Set up wavelet\r\n",
        "src_geometry = Geometry(block; key=\"source\")\r\n",
        "wavelet = ricker_wavelet(src_geometry.t[1], src_geometry.dt[1], 0.008f0)    # 8 Hz wavelet\r\n",
        "q = judiVector(src_geometry, wavelet)"
      ],
      "execution_count": null,
      "outputs": [
        {
          "output_type": "stream",
          "text": [
            "┌ Info: Precompiling NLopt [76087f3c-5699-56af-9a33-bf431cd00edd]\n",
            "└ @ Base loading.jl:1278\n",
            "┌ Warning: Fixed length trace flag set in stream: IOBuffer(data=UInt8[...], readable=true, writable=false, seekable=true, append=false, size=7076688, maxsize=Inf, ptr=3601, mark=-1)\n",
            "└ @ SegyIO /root/.julia/packages/SegyIO/uw4ZW/src/read/read_file.jl:26\n"
          ],
          "name": "stderr"
        },
        {
          "output_type": "execute_result",
          "data": {
            "text/plain": [
              "judiVector{Float32}(\"Seismic data vector\", 8016, 1, 16, GeometryIC(Any[400.0f0, 1013.333f0, 1626.667f0, 2240.0f0, 2853.333f0, 3466.666f0, 4080.0f0, 4693.334f0, 5306.666f0, 5920.0f0, 6533.334f0, 7146.666f0, 7760.0f0, 8373.333f0, 8986.667f0, 9600.0f0], Any[0.0f0, 0.0f0, 0.0f0, 0.0f0, 0.0f0, 0.0f0, 0.0f0, 0.0f0, 0.0f0, 0.0f0, 0.0f0, 0.0f0, 0.0f0, 0.0f0, 0.0f0, 0.0f0], Any[50.0f0, 50.0f0, 50.0f0, 50.0f0, 50.0f0, 50.0f0, 50.0f0, 50.0f0, 50.0f0, 50.0f0, 50.0f0, 50.0f0, 50.0f0, 50.0f0, 50.0f0, 50.0f0], Any[4.0f0, 4.0f0, 4.0f0, 4.0f0, 4.0f0, 4.0f0, 4.0f0, 4.0f0, 4.0f0, 4.0f0, 4.0f0, 4.0f0, 4.0f0, 4.0f0, 4.0f0, 4.0f0], Any[501, 501, 501, 501, 501, 501, 501, 501, 501, 501, 501, 501, 501, 501, 501, 501], Any[2000.0f0, 2000.0f0, 2000.0f0, 2000.0f0, 2000.0f0, 2000.0f0, 2000.0f0, 2000.0f0, 2000.0f0, 2000.0f0, 2000.0f0, 2000.0f0, 2000.0f0, 2000.0f0, 2000.0f0, 2000.0f0]), Array[Float32[-0.00096925104; -0.0016848503; … ; -0.0; -0.0], Float32[-0.00096925104; -0.0016848503; … ; -0.0; -0.0], Float32[-0.00096925104; -0.0016848503; … ; -0.0; -0.0], Float32[-0.00096925104; -0.0016848503; … ; -0.0; -0.0], Float32[-0.00096925104; -0.0016848503; … ; -0.0; -0.0], Float32[-0.00096925104; -0.0016848503; … ; -0.0; -0.0], Float32[-0.00096925104; -0.0016848503; … ; -0.0; -0.0], Float32[-0.00096925104; -0.0016848503; … ; -0.0; -0.0], Float32[-0.00096925104; -0.0016848503; … ; -0.0; -0.0], Float32[-0.00096925104; -0.0016848503; … ; -0.0; -0.0], Float32[-0.00096925104; -0.0016848503; … ; -0.0; -0.0], Float32[-0.00096925104; -0.0016848503; … ; -0.0; -0.0], Float32[-0.00096925104; -0.0016848503; … ; -0.0; -0.0], Float32[-0.00096925104; -0.0016848503; … ; -0.0; -0.0], Float32[-0.00096925104; -0.0016848503; … ; -0.0; -0.0], Float32[-0.00096925104; -0.0016848503; … ; -0.0; -0.0]])"
            ]
          },
          "metadata": {
            "tags": []
          },
          "execution_count": 9
        }
      ]
    },
    {
      "cell_type": "code",
      "metadata": {
        "id": "vutoa7trBt4A",
        "colab": {
          "base_uri": "https://localhost:8080/"
        },
        "outputId": "956ce166-d5a4-440a-dc94-bd53161ee918"
      },
      "source": [
        "# optimization parameters\r\n",
        "batchsize = 16\r\n",
        "count = 0\r\n",
        "\r\n",
        "# NLopt objective function\r\n",
        "println(\"No.  \", \"fval         \", \"norm(gradient)\")\r\n",
        "function f!(x,grad)\r\n",
        "\r\n",
        "    # Update model\r\n",
        "    model0.m = convert(Array{Float32, 2}, reshape(x, model0.n))\r\n",
        "\r\n",
        "    # Seclect batch and calculate gradient\r\n",
        "    i = randperm(d_obs.nsrc)[1:batchsize]\r\n",
        "    fval, gradient = fwi_objective(model0, q[i], d_obs[i])\r\n",
        "\r\n",
        "    # Reset gradient in water column to zero\r\n",
        "    gradient = reshape(gradient, model0.n)\r\n",
        "    gradient[:, 1:21] .= 0f0\r\n",
        "    grad[1:end] = vec(gradient)\r\n",
        "\r\n",
        "    global count; count += 1\r\n",
        "    println(count, \"    \", fval, \"    \", norm(grad))\r\n",
        "    return convert(Float64, fval)\r\n",
        "end"
      ],
      "execution_count": null,
      "outputs": [
        {
          "output_type": "stream",
          "text": [
            "No.  fval         norm(gradient)\n"
          ],
          "name": "stdout"
        },
        {
          "output_type": "execute_result",
          "data": {
            "text/plain": [
              "f! (generic function with 1 method)"
            ]
          },
          "metadata": {
            "tags": []
          },
          "execution_count": 10
        }
      ]
    },
    {
      "cell_type": "code",
      "metadata": {
        "id": "uWmlEQWhBy7t",
        "colab": {
          "base_uri": "https://localhost:8080/"
        },
        "outputId": "73279f78-23fc-412a-ce63-e7f8dd10e707"
      },
      "source": [
        "# Optimization parameters\r\n",
        "opt = Opt(:LD_LBFGS, prod(model0.n))\r\n",
        "lower_bounds!(opt, mmin); upper_bounds!(opt, mmax)\r\n",
        "min_objective!(opt, f!)\r\n",
        "maxeval!(opt, 10)\r\n",
        "(minf, minx, ret) = optimize(opt, vec(model0.m))"
      ],
      "execution_count": null,
      "outputs": [
        {
          "output_type": "execute_result",
          "data": {
            "text/plain": [
              "(0.0, [0.4444444477558136, 0.4444444477558136, 0.4444444477558136, 0.4444444477558136, 0.4444444477558136, 0.4444444477558136, 0.4444444477558136, 0.4444444477558136, 0.4444444477558136, 0.4444444477558136  …  0.05520664155483246, 0.05520186200737953, 0.05519702658057213, 0.055192138999700546, 0.05518719553947449, 0.05518219247460365, 0.055177122354507446, 0.05517197772860527, 0.055166758596897125, 0.05516145005822182], :FORCED_STOP)"
            ]
          },
          "metadata": {
            "tags": []
          },
          "execution_count": 11
        }
      ]
    },
    {
      "cell_type": "markdown",
      "metadata": {
        "id": "Xra9YcEZ94Xi"
      },
      "source": [
        "### fwi_example_constraints.jl"
      ]
    },
    {
      "cell_type": "code",
      "metadata": {
        "id": "05eSuj6TEqWJ"
      },
      "source": [
        "; cd /content/JUDI.jl/examples/scripts"
      ],
      "execution_count": null,
      "outputs": []
    },
    {
      "cell_type": "code",
      "metadata": {
        "id": "FJMjf1UG-bVH",
        "colab": {
          "base_uri": "https://localhost:8080/",
          "height": 180
        },
        "outputId": "bcc00408-6ecb-4154-98b9-ddeb86dc9cc4"
      },
      "source": [
        "# 2D FWI on Overthrust model using minConf library\r\n",
        "# Author: Philipp Witte, pwitte@eoas.ubc.ca\r\n",
        "# Date: December 2017\r\n",
        "#\r\n",
        "\r\n",
        "using Statistics, Random, Pkg\r\n",
        "using LinearAlgebra\r\n",
        "using JUDI.TimeModeling, JUDI.SLIM_optim, HDF5, SegyIO, PyPlot, FFTW\r\n",
        "using SetIntersectionProjection\r\n",
        "\r\n",
        "# Load starting model\r\n",
        "n,d,o,m0 = read(h5open(\"../../data/overthrust_model.h5\",\"r\"), \"n\", \"d\", \"o\", \"m0\")\r\n",
        "model0 = Model((n[1],n[2]), (d[1],d[2]), (o[1],o[2]), m0)\r\n",
        "\r\n",
        "# Bound constraints\r\n",
        "v0 = sqrt.(1f0 ./ model0.m)\r\n",
        "\r\n",
        "# Load data\r\n",
        "block = segy_read(\"../../data/overthrust_shot_records.segy\")\r\n",
        "d_obs = judiVector(block)\r\n",
        "\r\n",
        "# Set up wavelet\r\n",
        "src_geometry = Geometry(block; key=\"source\")\r\n",
        "wavelet = ricker_wavelet(src_geometry.t[1],src_geometry.dt[1],0.008f0)  # 8 Hz wavelet\r\n",
        "q = judiVector(src_geometry,wavelet)"
      ],
      "execution_count": null,
      "outputs": [
        {
          "output_type": "error",
          "ename": "LoadError",
          "evalue": "ignored",
          "traceback": [
            "ArgumentError: Package SetIntersectionProjection not found in current path:\n- Run `import Pkg; Pkg.add(\"SetIntersectionProjection\")` to install the SetIntersectionProjection package.\n",
            "",
            "Stacktrace:",
            " [1] require(::Module, ::Symbol) at ./loading.jl:893",
            " [2] include_string(::Function, ::Module, ::String, ::String) at ./loading.jl:1091"
          ]
        }
      ]
    },
    {
      "cell_type": "code",
      "metadata": {
        "id": "r3W4CeWf_8Ca",
        "colab": {
          "base_uri": "https://localhost:8080/",
          "height": 146
        },
        "outputId": "c6675bba-231b-4085-c1d8-e453388001b6"
      },
      "source": [
        "# Optimization parameters\r\n",
        "niterations = 10\r\n",
        "batchsize = 10\r\n",
        "fhistory_SGD = zeros(Float32,niterations)\r\n",
        "\r\n",
        "\r\n",
        "########## Setup constraints\r\n",
        "# with constraints:\r\n",
        "options=PARSDMM_options()\r\n",
        "options.FL=Float32\r\n",
        "options=default_PARSDMM_options(options,options.FL)\r\n",
        "options.adjust_gamma = true\r\n",
        "options.adjust_rho = true\r\n",
        "options.adjust_feasibility_rho = true\r\n",
        "options.Blas_active = true\r\n",
        "options.maxit = 1000\r\n",
        "options.feas_tol = 0.001\r\n",
        "options.obj_tol = 0.001\r\n",
        "options.evol_rel_tol = 0.00001\r\n",
        "\r\n",
        "options.rho_ini=[1.0f0]\r\n",
        "\r\n",
        "set_zero_subnormals(true)\r\n",
        "BLAS.set_num_threads(2)\r\n",
        "FFTW.set_num_threads(2)\r\n",
        "options.parallel=false\r\n",
        "options.feasibility_only = false\r\n",
        "options.zero_ini_guess=true\r\n",
        "\r\n",
        "constraint = Vector{SetIntersectionProjection.set_definitions}()\r\n",
        "\r\n",
        "#bounds:\r\n",
        "vmin = ones(Float32,model0.n) .* 1.3f0\r\n",
        "vmax = ones(Float32,model0.n) .* 6.5f0\r\n",
        "vmin[:,1:21] .= v0[:,1:21]   # keep water column fixed\r\n",
        "vmax[:,1:21] .= v0[:,1:21]\r\n",
        "\r\n",
        "# Slowness squared [s^2/km^2]\r\n",
        "m_min = vec((1f0 ./ vmax).^2)\r\n",
        "m_max = vec((1f0 ./ vmin).^2)\r\n",
        "set_type = \"bounds\"\r\n",
        "TD_OP = \"identity\"\r\n",
        "app_mode = (\"matrix\",\"\")\r\n",
        "custom_TD_OP = ([],false)\r\n",
        "push!(constraint, set_definitions(set_type,TD_OP,m_min,m_max,app_mode,custom_TD_OP))\r\n",
        "\r\n",
        "#TV\r\n",
        "(TV,dummy1,dummy2,dummy3) = get_TD_operator(model0,\"TV\",options.FL)\r\n",
        "m_min = 0.0\r\n",
        "m_max = norm(TV*vec(v0),1) *2.0f0\r\n",
        "set_type = \"l1\"\r\n",
        "TD_OP = \"TV\"\r\n",
        "app_mode = (\"matrix\",\"\")\r\n",
        "custom_TD_OP = ([],false)\r\n",
        "push!(constraint, set_definitions(set_type,TD_OP,m_min,m_max,app_mode,custom_TD_OP))\r\n",
        "\r\n",
        "#set up constraints, precompute some things and define projector\r\n",
        "(P_sub,TD_OP,set_Prop) = setup_constraints(constraint,model0,options.FL)\r\n",
        "(TD_OP,AtA,l,y) = PARSDMM_precompute_distribute(TD_OP,set_Prop,model0,options)\r\n",
        "options.rho_ini = ones(length(TD_OP))*10.0\r\n",
        "\r\n",
        "proj_intersection = x-> PARSDMM(x, AtA, TD_OP, set_Prop, P_sub, model0, options)  \r\n",
        "\r\n",
        "function prj(input)\r\n",
        "    input = Float32.(input)\r\n",
        "    (x,dummy1,dummy2,dymmy3) = proj_intersection(vec(input))\r\n",
        "    return reshape(x, model0.n)\r\n",
        "end\r\n",
        "\r\n",
        "########## Run\r\n",
        "\r\n",
        "# Main loop\r\n",
        "for j=1:niterations\r\n",
        "\r\n",
        "    # get fwi objective function value and gradient\r\n",
        "    i = randperm(d_obs.nsrc)[1:batchsize]\r\n",
        "    fval, gradient = fwi_objective(model0,q[i],d_obs[i])\r\n",
        "    println(\"FWI iteration no: \",j,\"; function value: \",fval)\r\n",
        "    fhistory_SGD[j] = fval\r\n",
        "\r\n",
        "    # linesearch\r\n",
        "    step = backtracking_linesearch(model0, q[i], d_obs[i], fval, gradient, prj; alpha=1f0)\r\n",
        "\r\n",
        "    # Update model and bound projection\r\n",
        "    model0.m = prj(model0.m + reshape(step,model0.n))\r\n",
        "end"
      ],
      "execution_count": null,
      "outputs": [
        {
          "output_type": "error",
          "ename": "LoadError",
          "evalue": "ignored",
          "traceback": [
            "UndefVarError: PARSDMM_options not defined",
            "",
            "Stacktrace:",
            " [1] top-level scope at In[13]:9",
            " [2] include_string(::Function, ::Module, ::String, ::String) at ./loading.jl:1091"
          ]
        }
      ]
    },
    {
      "cell_type": "code",
      "metadata": {
        "id": "yiS45uiDLubX",
        "colab": {
          "base_uri": "https://localhost:8080/",
          "height": 249
        },
        "outputId": "fd20efdc-0788-4f7d-e8e4-370c2a67214e"
      },
      "source": [
        "figure(); imshow(sqrt.(1f0./adjoint(model0.m))); title(\"FWI with SPG\")"
      ],
      "execution_count": null,
      "outputs": [
        {
          "output_type": "display_data",
          "data": {
            "image/png": "[encoded data removed]",
            "text/plain": [
              "Figure(PyObject <Figure size 640x480 with 1 Axes>)"
            ]
          },
          "metadata": {
            "tags": []
          }
        },
        {
          "output_type": "execute_result",
          "data": {
            "text/plain": [
              "PyObject Text(0.5, 1.0, 'FWI with SPG')"
            ]
          },
          "metadata": {
            "tags": []
          },
          "execution_count": 14
        }
      ]
    },
    {
      "cell_type": "markdown",
      "metadata": {
        "id": "8MIcJbcBCQAY"
      },
      "source": [
        "### fwi_example_minConf.jl"
      ]
    },
    {
      "cell_type": "code",
      "metadata": {
        "id": "AdKDl-SIErJn"
      },
      "source": [
        "; cd /content/JUDI.jl/examples/scripts"
      ],
      "execution_count": null,
      "outputs": []
    },
    {
      "cell_type": "code",
      "metadata": {
        "id": "DjuK5iY4CR1R",
        "colab": {
          "base_uri": "https://localhost:8080/"
        },
        "outputId": "8b89bc19-45eb-4df1-c874-7431a86ba57a"
      },
      "source": [
        "# 2D FWI on Overthrust model with SPG using minConf library\r\n",
        "# Author: Philipp Witte, pwitte@eoas.ubc.ca\r\n",
        "# Date: December 2017\r\n",
        "#\r\n",
        "\r\n",
        "using Statistics, Random, LinearAlgebra, PyPlot\r\n",
        "using JUDI.TimeModeling, JUDI.SLIM_optim, HDF5, SegyIO\r\n",
        "\r\n",
        "# Load starting model\r\n",
        "n,d,o,m0 = read(h5open(\"../../data/overthrust_model.h5\",\"r\"), \"n\", \"d\", \"o\", \"m0\")\r\n",
        "model0 = Model((n[1],n[2]), (d[1],d[2]), (o[1],o[2]), m0)\r\n",
        "\r\n",
        "# Bound constraints\r\n",
        "v0 = sqrt.(1f0 ./ model0.m)\r\n",
        "vmin = ones(Float32,model0.n) .* 1.3f0\r\n",
        "vmax = ones(Float32,model0.n) .* 6.5f0\r\n",
        "vmin[:,1:21] .= v0[:,1:21]   # keep water column fixed\r\n",
        "vmax[:,1:21] .= v0[:,1:21]\r\n",
        "\r\n",
        "# Slowness squared [s^2/km^2]\r\n",
        "mmin = vec((1f0 ./ vmax).^2)\r\n",
        "mmax = vec((1f0 ./ vmin).^2)\r\n",
        "\r\n",
        "# Load data\r\n",
        "block = segy_read(\"../../data/overthrust_shot_records.segy\")\r\n",
        "d_obs = judiVector(block)\r\n",
        "\r\n",
        "# Set up wavelet\r\n",
        "src_geometry = Geometry(block; key=\"source\")\r\n",
        "wavelet = ricker_wavelet(src_geometry.t[1],src_geometry.dt[1],0.008f0)  # 8 Hz wavelet\r\n",
        "q = judiVector(src_geometry,wavelet)"
      ],
      "execution_count": null,
      "outputs": [
        {
          "output_type": "stream",
          "text": [
            "┌ Warning: Fixed length trace flag set in stream: IOBuffer(data=UInt8[...], readable=true, writable=false, seekable=true, append=false, size=7076688, maxsize=Inf, ptr=3601, mark=-1)\n",
            "└ @ SegyIO /root/.julia/packages/SegyIO/uw4ZW/src/read/read_file.jl:26\n"
          ],
          "name": "stderr"
        },
        {
          "output_type": "execute_result",
          "data": {
            "text/plain": [
              "judiVector{Float32}(\"Seismic data vector\", 8016, 1, 16, GeometryIC(Any[400.0f0, 1013.333f0, 1626.667f0, 2240.0f0, 2853.333f0, 3466.666f0, 4080.0f0, 4693.334f0, 5306.666f0, 5920.0f0, 6533.334f0, 7146.666f0, 7760.0f0, 8373.333f0, 8986.667f0, 9600.0f0], Any[0.0f0, 0.0f0, 0.0f0, 0.0f0, 0.0f0, 0.0f0, 0.0f0, 0.0f0, 0.0f0, 0.0f0, 0.0f0, 0.0f0, 0.0f0, 0.0f0, 0.0f0, 0.0f0], Any[50.0f0, 50.0f0, 50.0f0, 50.0f0, 50.0f0, 50.0f0, 50.0f0, 50.0f0, 50.0f0, 50.0f0, 50.0f0, 50.0f0, 50.0f0, 50.0f0, 50.0f0, 50.0f0], Any[4.0f0, 4.0f0, 4.0f0, 4.0f0, 4.0f0, 4.0f0, 4.0f0, 4.0f0, 4.0f0, 4.0f0, 4.0f0, 4.0f0, 4.0f0, 4.0f0, 4.0f0, 4.0f0], Any[501, 501, 501, 501, 501, 501, 501, 501, 501, 501, 501, 501, 501, 501, 501, 501], Any[2000.0f0, 2000.0f0, 2000.0f0, 2000.0f0, 2000.0f0, 2000.0f0, 2000.0f0, 2000.0f0, 2000.0f0, 2000.0f0, 2000.0f0, 2000.0f0, 2000.0f0, 2000.0f0, 2000.0f0, 2000.0f0]), Array[Float32[-0.00096925104; -0.0016848503; … ; -0.0; -0.0], Float32[-0.00096925104; -0.0016848503; … ; -0.0; -0.0], Float32[-0.00096925104; -0.0016848503; … ; -0.0; -0.0], Float32[-0.00096925104; -0.0016848503; … ; -0.0; -0.0], Float32[-0.00096925104; -0.0016848503; … ; -0.0; -0.0], Float32[-0.00096925104; -0.0016848503; … ; -0.0; -0.0], Float32[-0.00096925104; -0.0016848503; … ; -0.0; -0.0], Float32[-0.00096925104; -0.0016848503; … ; -0.0; -0.0], Float32[-0.00096925104; -0.0016848503; … ; -0.0; -0.0], Float32[-0.00096925104; -0.0016848503; … ; -0.0; -0.0], Float32[-0.00096925104; -0.0016848503; … ; -0.0; -0.0], Float32[-0.00096925104; -0.0016848503; … ; -0.0; -0.0], Float32[-0.00096925104; -0.0016848503; … ; -0.0; -0.0], Float32[-0.00096925104; -0.0016848503; … ; -0.0; -0.0], Float32[-0.00096925104; -0.0016848503; … ; -0.0; -0.0], Float32[-0.00096925104; -0.0016848503; … ; -0.0; -0.0]])"
            ]
          },
          "metadata": {
            "tags": []
          },
          "execution_count": 17
        }
      ]
    },
    {
      "cell_type": "code",
      "metadata": {
        "id": "cGZ-0vrFCZQb",
        "colab": {
          "base_uri": "https://localhost:8080/",
          "height": 197
        },
        "outputId": "c5fc6a6b-85d9-4284-8ab7-763024fe76b2"
      },
      "source": [
        "# Optimization parameters\r\n",
        "fevals = 16\r\n",
        "batchsize = 8\r\n",
        "\r\n",
        "# Objective function for minConf library\r\n",
        "count = 0\r\n",
        "function objective_function(x)\r\n",
        "    model0.m = reshape(x,model0.n);\r\n",
        "\r\n",
        "    # fwi function value and gradient\r\n",
        "    i = randperm(d_obs.nsrc)[1:batchsize]\r\n",
        "    fval, grad = fwi_objective(model0, q[i], d_obs[i])\r\n",
        "    grad = .125f0*grad/maximum(abs.(grad))  # scale for line search\r\n",
        "\r\n",
        "    global count; count+= 1\r\n",
        "    return fval, vec(grad)\r\n",
        "end\r\n",
        "\r\n",
        "# Bound projection\r\n",
        "ProjBound(x) = median([mmin x mmax]; dims=2)\r\n",
        "\r\n",
        "# FWI with SPG\r\n",
        "options = spg_options(verbose=3, maxIter=fevals, memory=3)\r\n",
        "sol = minConf_SPG(objective_function, vec(model0.m), ProjBound, options)"
      ],
      "execution_count": null,
      "outputs": [
        {
          "output_type": "error",
          "ename": "LoadError",
          "evalue": "ignored",
          "traceback": [
            "MethodError: no method matching minConf_SPG(::typeof(objective_function), ::PhysicalParameter{Float32}, ::typeof(ProjBound), ::JUDI.SLIM_optim.SPG_params)\nClosest candidates are:\n  minConf_SPG(::Any, !Matched::Array{vDt,N} where N, ::Any, ::Any) where vDt at /root/.julia/dev/JUDI/src/Optimization/SPGSlim.jl:78",
            "",
            "Stacktrace:",
            " [1] top-level scope at In[18]:24",
            " [2] include_string(::Function, ::Module, ::String, ::String) at ./loading.jl:1091"
          ]
        }
      ]
    },
    {
      "cell_type": "code",
      "metadata": {
        "id": "0p5GsSlwCbdu"
      },
      "source": [
        "# Plot result\r\n",
        "imshow(reshape(sqrt.(1f0 ./ sol.sol), model0.n)', extent=[0, 10, 3, 0])\r\n",
        "xlabel(\"Lateral position [km]\")\r\n",
        "ylabel(\"Depth [km]\")"
      ],
      "execution_count": null,
      "outputs": []
    },
    {
      "cell_type": "markdown",
      "metadata": {
        "id": "XdMpcQduyaQc"
      },
      "source": [
        "\n",
        "\n",
        "---\n",
        "\n",
        "\n",
        "# You can run this to check if Julia is running and its GPU perfomance\n",
        "\n",
        "\n"
      ]
    },
    {
      "cell_type": "code",
      "metadata": {
        "id": "iIxu4TjlJnBG"
      },
      "source": [
        "VERSION"
      ],
      "execution_count": null,
      "outputs": []
    },
    {
      "cell_type": "markdown",
      "metadata": {
        "id": "rR7Ox6Ax0ypi"
      },
      "source": [
        "The main reason we are interested in running Julia on Colab is the GPU functionality. So we can benchmark the performance on the GPU.<br>**The next two cells are optional and are for people using it for the first time**"
      ]
    },
    {
      "cell_type": "code",
      "metadata": {
        "id": "vHKANz2J0GDW"
      },
      "source": [
        "using Pkg\n",
        "Pkg.add([\"BenchmarkTools\", \"CuArrays\"])\n",
        "using BenchmarkTools,CuArrays"
      ],
      "execution_count": null,
      "outputs": []
    },
    {
      "cell_type": "code",
      "metadata": {
        "id": "aMI2QjTuyXs2"
      },
      "source": [
        "mcpu = rand(2^10, 2^10)\n",
        "@benchmark mcpu*mcpu\n",
        "\n",
        "println(\"The CuArrray operation should take around 1 ms(excluding CUDA downloading time which is a one time process), and should be much faster. If so, the GPU is working.\")\n",
        "mgpu = cu(mcpu)\n",
        "@benchmark CuArrays.@sync mgpu*mgpu"
      ],
      "execution_count": null,
      "outputs": []
    }
  ]
}