{
  "nbformat": 4,
  "nbformat_minor": 0,
  "metadata": {
    "accelerator": "GPU",
    "colab": {
      "name": "JUDI_examples.ipynb",
      "provenance": [],
      "collapsed_sections": [
        "QCxWWIhwGsaY",
        "h5r4osdWG1Mu",
        "IL6iVezPJpNs",
        "XdMpcQduyaQc"
      ],
      "toc_visible": true,
      "include_colab_link": true
    },
    "kernelspec": {
      "display_name": "Julia 1.5.0",
      "language": "julia",
      "name": "julia-1.5"
    },
    "language_info": {
      "file_extension": ".jl",
      "mimetype": "application/julia",
      "name": "julia",
      "version": "1.5.0"
    }
  },
  "cells": [
    {
      "cell_type": "markdown",
      "metadata": {
        "id": "view-in-github",
        "colab_type": "text"
      },
      "source": [
        "<a href=\"https://colab.research.google.com/github/kerim371/Julia-Devito-Inversion-JUDI-examples-in-Colab/blob/main/JUDI_examples.ipynb\" target=\"_parent\"><img src=\"https://colab.research.google.com/assets/colab-badge.svg\" alt=\"Open In Colab\"/></a>"
      ]
    },
    {
      "cell_type": "markdown",
      "metadata": {
        "id": "NNRNZ2RxH91a"
      },
      "source": [
        "To run this notebook in Colab you either have to use this script or download it and then upload to Colab. You cannot simply copy this code and past it to your Colab session - this won't let you use Julia. You can open **.pynb** document in textual editor and see at top of the document how it Julia is et up and change its version as well if you need."
      ]
    },
    {
      "cell_type": "markdown",
      "metadata": {
        "id": "QCxWWIhwGsaY"
      },
      "source": [
        "# **Julia installation**"
      ]
    },
    {
      "cell_type": "code",
      "metadata": {
        "id": "_Kg612Wi0DvT",
        "colab": {
          "base_uri": "https://localhost:8080/"
        },
        "outputId": "24ebcf16-a8b4-446a-aa5d-31ec313fc22a"
      },
      "source": [
        "# Julia installation\r\n",
        "%%shell\r\n",
        "if ! command -v julia 3>&1 > /dev/null\r\n",
        "then\r\n",
        "    wget 'https://julialang-s3.julialang.org/bin/linux/x64/1.5/julia-1.5.0-linux-x86_64.tar.gz' \\\r\n",
        "        -O /tmp/julia.tar.gz\r\n",
        "    tar -x -f /tmp/julia.tar.gz -C /usr/local --strip-components 1\r\n",
        "    rm /tmp/julia.tar.gz\r\n",
        "fi\r\n",
        "julia -e 'using Pkg; pkg\"add IJulia; precompile;\"'\r\n",
        "echo 'Done'"
      ],
      "execution_count": 1,
      "outputs": [
        {
          "output_type": "stream",
          "text": [
            "--2020-12-12 21:12:30--  https://julialang-s3.julialang.org/bin/linux/x64/1.5/julia-1.5.0-linux-x86_64.tar.gz\n",
            "Resolving julialang-s3.julialang.org (julialang-s3.julialang.org)... 151.101.2.49, 151.101.66.49, 151.101.130.49, ...\n",
            "Connecting to julialang-s3.julialang.org (julialang-s3.julialang.org)|151.101.2.49|:443... connected.\n",
            "HTTP request sent, awaiting response... 302 gce internal redirect trigger\n",
            "Location: https://storage.googleapis.com/julialang2/bin/linux/x64/1.5/julia-1.5.0-linux-x86_64.tar.gz [following]\n",
            "--2020-12-12 21:12:30--  https://storage.googleapis.com/julialang2/bin/linux/x64/1.5/julia-1.5.0-linux-x86_64.tar.gz\n",
            "Resolving storage.googleapis.com (storage.googleapis.com)... 172.217.7.240, 142.250.73.208, 172.253.122.128, ...\n",
            "Connecting to storage.googleapis.com (storage.googleapis.com)|172.217.7.240|:443... connected.\n",
            "HTTP request sent, awaiting response... 200 OK\n",
            "Length: 105098627 (100M) [application/x-tar]\n",
            "Saving to: ‘/tmp/julia.tar.gz’\n",
            "\n",
            "/tmp/julia.tar.gz   100%[===================>] 100.23M  75.7MB/s    in 1.3s    \n",
            "\n",
            "2020-12-12 21:12:32 (75.7 MB/s) - ‘/tmp/julia.tar.gz’ saved [105098627/105098627]\n",
            "\n",
            "\u001b[32m\u001b[1m Installing\u001b[22m\u001b[39m known registries into `~/.julia`\n",
            "######################################################################## 100.0%\n",
            "\u001b[32m\u001b[1m      Added\u001b[22m\u001b[39m registry `General` to `~/.julia/registries/General`\n",
            "\u001b[32m\u001b[1m  Resolving\u001b[22m\u001b[39m package versions...\n",
            "\u001b[32m\u001b[1m  Installed\u001b[22m\u001b[39m ZeroMQ_jll ────── v4.3.2+5\n",
            "\u001b[32m\u001b[1m  Installed\u001b[22m\u001b[39m VersionParsing ── v1.2.0\n",
            "\u001b[32m\u001b[1m  Installed\u001b[22m\u001b[39m SoftGlobalScope ─ v1.1.0\n",
            "\u001b[32m\u001b[1m  Installed\u001b[22m\u001b[39m Conda ─────────── v1.5.0\n",
            "\u001b[32m\u001b[1m  Installed\u001b[22m\u001b[39m IJulia ────────── v1.23.1\n",
            "\u001b[32m\u001b[1m  Installed\u001b[22m\u001b[39m ZMQ ───────────── v1.2.1\n",
            "\u001b[32m\u001b[1m  Installed\u001b[22m\u001b[39m JSON ──────────── v0.21.1\n",
            "\u001b[32m\u001b[1m  Installed\u001b[22m\u001b[39m Artifacts ─────── v1.3.0\n",
            "\u001b[32m\u001b[1m  Installed\u001b[22m\u001b[39m MbedTLS ───────── v1.0.3\n",
            "\u001b[32m\u001b[1m  Installed\u001b[22m\u001b[39m MbedTLS_jll ───── v2.16.8+1\n",
            "\u001b[32m\u001b[1m  Installed\u001b[22m\u001b[39m JLLWrappers ───── v1.1.3\n",
            "\u001b[32m\u001b[1m  Installed\u001b[22m\u001b[39m Parsers ───────── v1.0.15\n",
            "\u001b[32m\u001b[1mDownloading\u001b[22m\u001b[39m artifact: ZeroMQ\n",
            "######################################################################## 100.0%\n",
            "\u001b[1A\u001b[2K\u001b[?25h\u001b[32m\u001b[1mDownloading\u001b[22m\u001b[39m artifact: MbedTLS\n",
            "######################################################################## 100.0%\n",
            "\u001b[1A\u001b[2K\u001b[?25h\u001b[32m\u001b[1mUpdating\u001b[22m\u001b[39m `~/.julia/environments/v1.5/Project.toml`\n",
            " \u001b[90m [7073ff75] \u001b[39m\u001b[92m+ IJulia v1.23.1\u001b[39m\n",
            "\u001b[32m\u001b[1mUpdating\u001b[22m\u001b[39m `~/.julia/environments/v1.5/Manifest.toml`\n",
            " \u001b[90m [56f22d72] \u001b[39m\u001b[92m+ Artifacts v1.3.0\u001b[39m\n",
            " \u001b[90m [8f4d0f93] \u001b[39m\u001b[92m+ Conda v1.5.0\u001b[39m\n",
            " \u001b[90m [7073ff75] \u001b[39m\u001b[92m+ IJulia v1.23.1\u001b[39m\n",
            " \u001b[90m [692b3bcd] \u001b[39m\u001b[92m+ JLLWrappers v1.1.3\u001b[39m\n",
            " \u001b[90m [682c06a0] \u001b[39m\u001b[92m+ JSON v0.21.1\u001b[39m\n",
            " \u001b[90m [739be429] \u001b[39m\u001b[92m+ MbedTLS v1.0.3\u001b[39m\n",
            " \u001b[90m [c8ffd9c3] \u001b[39m\u001b[92m+ MbedTLS_jll v2.16.8+1\u001b[39m\n",
            " \u001b[90m [69de0a69] \u001b[39m\u001b[92m+ Parsers v1.0.15\u001b[39m\n",
            " \u001b[90m [b85f4697] \u001b[39m\u001b[92m+ SoftGlobalScope v1.1.0\u001b[39m\n",
            " \u001b[90m [81def892] \u001b[39m\u001b[92m+ VersionParsing v1.2.0\u001b[39m\n",
            " \u001b[90m [c2297ded] \u001b[39m\u001b[92m+ ZMQ v1.2.1\u001b[39m\n",
            " \u001b[90m [8f1865be] \u001b[39m\u001b[92m+ ZeroMQ_jll v4.3.2+5\u001b[39m\n",
            " \u001b[90m [2a0f44e3] \u001b[39m\u001b[92m+ Base64\u001b[39m\n",
            " \u001b[90m [ade2ca70] \u001b[39m\u001b[92m+ Dates\u001b[39m\n",
            " \u001b[90m [8ba89e20] \u001b[39m\u001b[92m+ Distributed\u001b[39m\n",
            " \u001b[90m [7b1f6079] \u001b[39m\u001b[92m+ FileWatching\u001b[39m\n",
            " \u001b[90m [b77e0a4c] \u001b[39m\u001b[92m+ InteractiveUtils\u001b[39m\n",
            " \u001b[90m [76f85450] \u001b[39m\u001b[92m+ LibGit2\u001b[39m\n",
            " \u001b[90m [8f399da3] \u001b[39m\u001b[92m+ Libdl\u001b[39m\n",
            " \u001b[90m [56ddb016] \u001b[39m\u001b[92m+ Logging\u001b[39m\n",
            " \u001b[90m [d6f4376e] \u001b[39m\u001b[92m+ Markdown\u001b[39m\n",
            " \u001b[90m [a63ad114] \u001b[39m\u001b[92m+ Mmap\u001b[39m\n",
            " \u001b[90m [44cfe95a] \u001b[39m\u001b[92m+ Pkg\u001b[39m\n",
            " \u001b[90m [de0858da] \u001b[39m\u001b[92m+ Printf\u001b[39m\n",
            " \u001b[90m [3fa0cd96] \u001b[39m\u001b[92m+ REPL\u001b[39m\n",
            " \u001b[90m [9a3f8284] \u001b[39m\u001b[92m+ Random\u001b[39m\n",
            " \u001b[90m [ea8e919c] \u001b[39m\u001b[92m+ SHA\u001b[39m\n",
            " \u001b[90m [9e88b42a] \u001b[39m\u001b[92m+ Serialization\u001b[39m\n",
            " \u001b[90m [6462fe0b] \u001b[39m\u001b[92m+ Sockets\u001b[39m\n",
            " \u001b[90m [8dfed614] \u001b[39m\u001b[92m+ Test\u001b[39m\n",
            " \u001b[90m [cf7118a7] \u001b[39m\u001b[92m+ UUIDs\u001b[39m\n",
            " \u001b[90m [4ec0a83e] \u001b[39m\u001b[92m+ Unicode\u001b[39m\n",
            "\u001b[32m\u001b[1m   Building\u001b[22m\u001b[39m Conda ─→ `~/.julia/packages/Conda/x5ml4/deps/build.log`\n",
            "\u001b[32m\u001b[1m   Building\u001b[22m\u001b[39m IJulia → `~/.julia/packages/IJulia/IDNmS/deps/build.log`\n",
            "\u001b[32m\u001b[1mPrecompiling\u001b[22m\u001b[39m project...\n",
            "Done\n"
          ],
          "name": "stdout"
        },
        {
          "output_type": "execute_result",
          "data": {
            "text/plain": [
              ""
            ]
          },
          "metadata": {
            "tags": []
          },
          "execution_count": 1
        }
      ]
    },
    {
      "cell_type": "markdown",
      "metadata": {
        "id": "xEqmghkc_Qyu"
      },
      "source": [
        "# **Install Python and Julia packages**"
      ]
    },
    {
      "cell_type": "markdown",
      "metadata": {
        "id": "2MxpOY7w_Yq2"
      },
      "source": [
        "Until now we have been using ipython. Now we are going to use Julia. To achieve it go to Colab's menu bar and select **Edit** and select **Notebook settings** from the drop down. Select *Julia 1.5.0* as the runtime and *GPU* as the hadware accelerator. If necessary reload web-page (F5) and change **Notebook settings**"
      ]
    },
    {
      "cell_type": "code",
      "metadata": {
        "id": "xzjDpqnpNfoh",
        "colab": {
          "base_uri": "https://localhost:8080/"
        },
        "outputId": "fea8062d-04c3-404b-8f8b-359f1cec8497"
      },
      "source": [
        "using Pkg\r\n",
        "\r\n",
        "ENV[\"PYTHON\"]=\"/root/.julia/conda/3/bin/python\"\r\n",
        "Pkg.add(\"PyCall\")\r\n",
        "Pkg.build(\"PyCall\")"
      ],
      "execution_count": 1,
      "outputs": [
        {
          "output_type": "stream",
          "text": [
            "\u001b[32m\u001b[1m   Updating\u001b[22m\u001b[39m registry at `~/.julia/registries/General`\n",
            "\u001b[32m\u001b[1m  Resolving\u001b[22m\u001b[39m package versions...\n",
            "\u001b[32m\u001b[1m  Installed\u001b[22m\u001b[39m MacroTools ─ v0.5.6\n",
            "\u001b[32m\u001b[1m  Installed\u001b[22m\u001b[39m PyCall ───── v1.92.1\n",
            "\u001b[32m\u001b[1mUpdating\u001b[22m\u001b[39m `~/.julia/environments/v1.5/Project.toml`\n",
            " \u001b[90m [438e738f] \u001b[39m\u001b[92m+ PyCall v1.92.1\u001b[39m\n",
            "\u001b[32m\u001b[1mUpdating\u001b[22m\u001b[39m `~/.julia/environments/v1.5/Manifest.toml`\n",
            " \u001b[90m [1914dd2f] \u001b[39m\u001b[92m+ MacroTools v0.5.6\u001b[39m\n",
            " \u001b[90m [438e738f] \u001b[39m\u001b[92m+ PyCall v1.92.1\u001b[39m\n",
            " \u001b[90m [37e2e46d] \u001b[39m\u001b[92m+ LinearAlgebra\u001b[39m\n",
            "\u001b[32m\u001b[1m   Building\u001b[22m\u001b[39m PyCall → `~/.julia/packages/PyCall/BcTLp/deps/build.log`\n",
            "\u001b[32m\u001b[1m   Building\u001b[22m\u001b[39m Conda ─→ `~/.julia/packages/Conda/x5ml4/deps/build.log`\n",
            "\u001b[32m\u001b[1m   Building\u001b[22m\u001b[39m PyCall → `~/.julia/packages/PyCall/BcTLp/deps/build.log`\n"
          ],
          "name": "stderr"
        }
      ]
    },
    {
      "cell_type": "code",
      "metadata": {
        "id": "6v36jPvrAKmC",
        "colab": {
          "base_uri": "https://localhost:8080/"
        },
        "outputId": "132bc812-0f26-4f2f-f487-4917b5c60790"
      },
      "source": [
        "Pkg.Registry.add(RegistrySpec(url=\"https://github.com/slimgroup/SLIMregistryJL.git\"))\r\n",
        "Pkg.develop(\"JUDI\")"
      ],
      "execution_count": 2,
      "outputs": [
        {
          "output_type": "stream",
          "text": [
            "\u001b[?25l    "
          ],
          "name": "stdout"
        },
        {
          "output_type": "stream",
          "text": [
            "\u001b[32m\u001b[1m    Cloning\u001b[22m\u001b[39m registry from \"https://github.com/slimgroup/SLIMregistryJL.git\"\n"
          ],
          "name": "stderr"
        },
        {
          "output_type": "stream",
          "text": [
            "\u001b[2K\u001b[?25h"
          ],
          "name": "stdout"
        },
        {
          "output_type": "stream",
          "text": [
            "\u001b[32m\u001b[1m      Added\u001b[22m\u001b[39m registry `SLIMregistryJL` to `~/.julia/registries/SLIMregistryJL`\n"
          ],
          "name": "stderr"
        },
        {
          "output_type": "stream",
          "text": [
            "\u001b[?25l    "
          ],
          "name": "stdout"
        },
        {
          "output_type": "stream",
          "text": [
            "\u001b[32m\u001b[1m    Cloning\u001b[22m\u001b[39m git-repo `https://GitHub.com/slimgroup/JUDI.jl.git`\n"
          ],
          "name": "stderr"
        },
        {
          "output_type": "stream",
          "text": [
            "\u001b[2K\u001b[?25h"
          ],
          "name": "stdout"
        },
        {
          "output_type": "stream",
          "text": [
            "\u001b[32m\u001b[1m  Resolving\u001b[22m\u001b[39m package versions...\n",
            "\u001b[32m\u001b[1m  Installed\u001b[22m\u001b[39m Adapt ──────────────────────── v2.3.0\n",
            "\u001b[32m\u001b[1m  Installed\u001b[22m\u001b[39m BFloat16s ──────────────────── v0.1.0\n",
            "\u001b[32m\u001b[1m  Installed\u001b[22m\u001b[39m Dierckx_jll ────────────────── v0.0.1+0\n",
            "\u001b[32m\u001b[1m  Installed\u001b[22m\u001b[39m Mocking ────────────────────── v0.7.1\n",
            "\u001b[32m\u001b[1m  Installed\u001b[22m\u001b[39m SpecialFunctions ───────────── v0.10.3\n",
            "\u001b[32m\u001b[1m  Installed\u001b[22m\u001b[39m OrderedCollections ─────────── v1.3.2\n",
            "\u001b[32m\u001b[1m  Installed\u001b[22m\u001b[39m OffsetArrays ───────────────── v1.4.1\n",
            "\u001b[32m\u001b[1m  Installed\u001b[22m\u001b[39m NNlib ──────────────────────── v0.7.7\n",
            "\u001b[32m\u001b[1m  Installed\u001b[22m\u001b[39m Requires ───────────────────── v1.1.1\n",
            "\u001b[32m\u001b[1m  Installed\u001b[22m\u001b[39m Nullables ──────────────────── v1.0.0\n",
            "\u001b[32m\u001b[1m  Installed\u001b[22m\u001b[39m IterTools ──────────────────── v1.3.0\n",
            "\u001b[32m\u001b[1m  Installed\u001b[22m\u001b[39m GPUArrays ──────────────────── v6.1.2\n",
            "\u001b[32m\u001b[1m  Installed\u001b[22m\u001b[39m EzXML ──────────────────────── v1.1.0\n",
            "\u001b[32m\u001b[1m  Installed\u001b[22m\u001b[39m DistributedArrays ──────────── v0.6.5\n",
            "\u001b[32m\u001b[1m  Installed\u001b[22m\u001b[39m TextWrap ───────────────────── v1.0.1\n",
            "\u001b[32m\u001b[1m  Installed\u001b[22m\u001b[39m Dierckx ────────────────────── v0.5.1\n",
            "\u001b[32m\u001b[1m  Installed\u001b[22m\u001b[39m NaNMath ────────────────────── v0.3.5\n",
            "\u001b[32m\u001b[1m  Installed\u001b[22m\u001b[39m IterativeSolvers ───────────── v0.8.4\n",
            "\u001b[32m\u001b[1m  Installed\u001b[22m\u001b[39m FFTW ───────────────────────── v1.2.4\n",
            "\u001b[32m\u001b[1m  Installed\u001b[22m\u001b[39m TimerOutputs ───────────────── v0.5.7\n",
            "\u001b[32m\u001b[1m  Installed\u001b[22m\u001b[39m CompilerSupportLibraries_jll ─ v0.3.4+0\n",
            "\u001b[32m\u001b[1m  Installed\u001b[22m\u001b[39m MKL_jll ────────────────────── v2020.2.254+0\n",
            "\u001b[32m\u001b[1m  Installed\u001b[22m\u001b[39m Colors ─────────────────────── v0.12.4\n",
            "\u001b[32m\u001b[1m  Installed\u001b[22m\u001b[39m GenericLinearAlgebra ───────── v0.2.4\n",
            "\u001b[32m\u001b[1m  Installed\u001b[22m\u001b[39m LLVM ───────────────────────── v3.5.1\n",
            "\u001b[32m\u001b[1m  Installed\u001b[22m\u001b[39m ArgParse ───────────────────── v1.1.1\n",
            "\u001b[32m\u001b[1m  Installed\u001b[22m\u001b[39m CUDA ───────────────────────── v2.3.0\n",
            "\u001b[32m\u001b[1m  Installed\u001b[22m\u001b[39m Intervals ──────────────────── v1.5.0\n",
            "\u001b[32m\u001b[1m  Installed\u001b[22m\u001b[39m Scratch ────────────────────── v1.0.3\n",
            "\u001b[32m\u001b[1m  Installed\u001b[22m\u001b[39m FFTW_jll ───────────────────── v3.3.9+6\n",
            "\u001b[32m\u001b[1m  Installed\u001b[22m\u001b[39m NFFT ───────────────────────── v0.6.1\n",
            "\u001b[32m\u001b[1m  Installed\u001b[22m\u001b[39m FixedPointNumbers ──────────── v0.8.4\n",
            "\u001b[32m\u001b[1m  Installed\u001b[22m\u001b[39m Reexport ───────────────────── v0.2.0\n",
            "\u001b[32m\u001b[1m  Installed\u001b[22m\u001b[39m Wavelets ───────────────────── v0.9.2\n",
            "\u001b[32m\u001b[1m  Installed\u001b[22m\u001b[39m Libiconv_jll ───────────────── v1.16.0+7\n",
            "\u001b[32m\u001b[1m  Installed\u001b[22m\u001b[39m OpenSpecFun_jll ────────────── v0.5.3+4\n",
            "\u001b[32m\u001b[1m  Installed\u001b[22m\u001b[39m InplaceOps ─────────────────── v0.3.0\n",
            "\u001b[32m\u001b[1m  Installed\u001b[22m\u001b[39m RecipesBase ────────────────── v1.1.1\n",
            "\u001b[32m\u001b[1m  Installed\u001b[22m\u001b[39m DataStructures ─────────────── v0.18.8\n",
            "\u001b[32m\u001b[1m  Installed\u001b[22m\u001b[39m Primes ─────────────────────── v0.4.0\n",
            "\u001b[32m\u001b[1m  Installed\u001b[22m\u001b[39m CEnum ──────────────────────── v0.4.1\n",
            "\u001b[32m\u001b[1m  Installed\u001b[22m\u001b[39m ColorTypes ─────────────────── v0.10.9\n",
            "\u001b[32m\u001b[1m  Installed\u001b[22m\u001b[39m Graphics ───────────────────── v1.0.2\n",
            "\u001b[32m\u001b[1m  Installed\u001b[22m\u001b[39m GPUCompiler ────────────────── v0.8.3\n",
            "\u001b[32m\u001b[1m  Installed\u001b[22m\u001b[39m Polynomials ────────────────── v1.1.13\n",
            "\u001b[32m\u001b[1m  Installed\u001b[22m\u001b[39m DSP ────────────────────────── v0.6.9\n",
            "\u001b[32m\u001b[1m  Installed\u001b[22m\u001b[39m PolynomialRoots ────────────── v1.0.0\n",
            "\u001b[32m\u001b[1m  Installed\u001b[22m\u001b[39m AbstractFFTs ───────────────── v0.5.0\n",
            "\u001b[32m\u001b[1m  Installed\u001b[22m\u001b[39m ExprTools ──────────────────── v0.1.3\n",
            "\u001b[32m\u001b[1m  Installed\u001b[22m\u001b[39m XML2_jll ───────────────────── v2.9.10+3\n",
            "\u001b[32m\u001b[1m  Installed\u001b[22m\u001b[39m Compat ─────────────────────── v3.24.0\n",
            "\u001b[32m\u001b[1m  Installed\u001b[22m\u001b[39m IntelOpenMP_jll ────────────── v2018.0.3+0\n",
            "\u001b[32m\u001b[1m  Installed\u001b[22m\u001b[39m Zlib_jll ───────────────────── v1.2.11+18\n",
            "\u001b[32m\u001b[1m  Installed\u001b[22m\u001b[39m TimeZones ──────────────────── v1.5.3\n"
          ],
          "name": "stderr"
        },
        {
          "output_type": "stream",
          "text": [
            "\u001b[?25l    "
          ],
          "name": "stdout"
        },
        {
          "output_type": "stream",
          "text": [
            "\u001b[32m\u001b[1m    Cloning\u001b[22m\u001b[39m [157a0f19-4d44-4de5-a0d0-07e2f0ac4dfa] SegyIO from https://GitHub.com/slimgroup/SegyIO.jl.git\n"
          ],
          "name": "stderr"
        },
        {
          "output_type": "stream",
          "text": [
            "\u001b[2K\u001b[?25h\u001b[?25l    "
          ],
          "name": "stdout"
        },
        {
          "output_type": "stream",
          "text": [
            "\u001b[32m\u001b[1m  Installed\u001b[22m\u001b[39m SegyIO ─────────────────────── v0.7.3\n",
            "\u001b[32m\u001b[1m    Cloning\u001b[22m\u001b[39m [bb331ad6-a1cf-11e9-23da-9bcb53c69f6f] JOLI from https://GitHub.com/slimgroup/JOLI.jl.git\n"
          ],
          "name": "stderr"
        },
        {
          "output_type": "stream",
          "text": [
            "\u001b[2K\u001b[?25h"
          ],
          "name": "stdout"
        },
        {
          "output_type": "stream",
          "text": [
            "\u001b[32m\u001b[1m  Installed\u001b[22m\u001b[39m JOLI ───────────────────────── v0.7.13\n",
            "######################################################################### 100.0%\n",
            "######################################################################### 100.0%\n",
            "######################################################################### 100.0%\n",
            "######################################################################### 100.0%\n",
            "######################################################################### 100.0%\n",
            "######################################################################### 100.0%\n",
            "######################################################################### 100.0%\n",
            "######################################################################### 100.0%\n",
            "\u001b[32m\u001b[1mUpdating\u001b[22m\u001b[39m `~/.julia/environments/v1.5/Project.toml`\n",
            " \u001b[90m [f3b833dc] \u001b[39m\u001b[92m+ JUDI v2.2.0 `~/.julia/dev/JUDI`\u001b[39m\n",
            "\u001b[32m\u001b[1mUpdating\u001b[22m\u001b[39m `~/.julia/environments/v1.5/Manifest.toml`\n",
            " \u001b[90m [621f4979] \u001b[39m\u001b[92m+ AbstractFFTs v0.5.0\u001b[39m\n",
            " \u001b[90m [79e6a3ab] \u001b[39m\u001b[92m+ Adapt v2.3.0\u001b[39m\n",
            " \u001b[90m [c7e460c6] \u001b[39m\u001b[92m+ ArgParse v1.1.1\u001b[39m\n",
            " \u001b[90m [ab4f0b2a] \u001b[39m\u001b[92m+ BFloat16s v0.1.0\u001b[39m\n",
            " \u001b[90m [fa961155] \u001b[39m\u001b[92m+ CEnum v0.4.1\u001b[39m\n",
            " \u001b[90m [052768ef] \u001b[39m\u001b[92m+ CUDA v2.3.0\u001b[39m\n",
            " \u001b[90m [3da002f7] \u001b[39m\u001b[92m+ ColorTypes v0.10.9\u001b[39m\n",
            " \u001b[90m [5ae59095] \u001b[39m\u001b[92m+ Colors v0.12.4\u001b[39m\n",
            " \u001b[90m [34da2185] \u001b[39m\u001b[92m+ Compat v3.24.0\u001b[39m\n",
            " \u001b[90m [e66e0078] \u001b[39m\u001b[92m+ CompilerSupportLibraries_jll v0.3.4+0\u001b[39m\n",
            " \u001b[90m [717857b8] \u001b[39m\u001b[92m+ DSP v0.6.9\u001b[39m\n",
            " \u001b[90m [864edb3b] \u001b[39m\u001b[92m+ DataStructures v0.18.8\u001b[39m\n",
            " \u001b[90m [39dd38d3] \u001b[39m\u001b[92m+ Dierckx v0.5.1\u001b[39m\n",
            " \u001b[90m [cd4c43a9] \u001b[39m\u001b[92m+ Dierckx_jll v0.0.1+0\u001b[39m\n",
            " \u001b[90m [aaf54ef3] \u001b[39m\u001b[92m+ DistributedArrays v0.6.5\u001b[39m\n",
            " \u001b[90m [e2ba6199] \u001b[39m\u001b[92m+ ExprTools v0.1.3\u001b[39m\n",
            " \u001b[90m [8f5d6c58] \u001b[39m\u001b[92m+ EzXML v1.1.0\u001b[39m\n",
            " \u001b[90m [7a1cc6ca] \u001b[39m\u001b[92m+ FFTW v1.2.4\u001b[39m\n",
            " \u001b[90m [f5851436] \u001b[39m\u001b[92m+ FFTW_jll v3.3.9+6\u001b[39m\n",
            " \u001b[90m [53c48c17] \u001b[39m\u001b[92m+ FixedPointNumbers v0.8.4\u001b[39m\n",
            " \u001b[90m [0c68f7d7] \u001b[39m\u001b[92m+ GPUArrays v6.1.2\u001b[39m\n",
            " \u001b[90m [61eb1bfa] \u001b[39m\u001b[92m+ GPUCompiler v0.8.3\u001b[39m\n",
            " \u001b[90m [14197337] \u001b[39m\u001b[92m+ GenericLinearAlgebra v0.2.4\u001b[39m\n",
            " \u001b[90m [a2bd30eb] \u001b[39m\u001b[92m+ Graphics v1.0.2\u001b[39m\n",
            " \u001b[90m [505f98c9] \u001b[39m\u001b[92m+ InplaceOps v0.3.0\u001b[39m\n",
            " \u001b[90m [1d5cc7b8] \u001b[39m\u001b[92m+ IntelOpenMP_jll v2018.0.3+0\u001b[39m\n",
            " \u001b[90m [d8418881] \u001b[39m\u001b[92m+ Intervals v1.5.0\u001b[39m\n",
            " \u001b[90m [c8e1da08] \u001b[39m\u001b[92m+ IterTools v1.3.0\u001b[39m\n",
            " \u001b[90m [42fd0dbc] \u001b[39m\u001b[92m+ IterativeSolvers v0.8.4\u001b[39m\n",
            " \u001b[90m [bb331ad6] \u001b[39m\u001b[92m+ JOLI v0.7.13\u001b[39m\n",
            " \u001b[90m [f3b833dc] \u001b[39m\u001b[92m+ JUDI v2.2.0 `~/.julia/dev/JUDI`\u001b[39m\n",
            " \u001b[90m [929cbde3] \u001b[39m\u001b[92m+ LLVM v3.5.1\u001b[39m\n",
            " \u001b[90m [94ce4f54] \u001b[39m\u001b[92m+ Libiconv_jll v1.16.0+7\u001b[39m\n",
            " \u001b[90m [856f044c] \u001b[39m\u001b[92m+ MKL_jll v2020.2.254+0\u001b[39m\n",
            " \u001b[90m [78c3b35d] \u001b[39m\u001b[92m+ Mocking v0.7.1\u001b[39m\n",
            " \u001b[90m [efe261a4] \u001b[39m\u001b[92m+ NFFT v0.6.1\u001b[39m\n",
            " \u001b[90m [872c559c] \u001b[39m\u001b[92m+ NNlib v0.7.7\u001b[39m\n",
            " \u001b[90m [77ba4419] \u001b[39m\u001b[92m+ NaNMath v0.3.5\u001b[39m\n",
            " \u001b[90m [4d1e1d77] \u001b[39m\u001b[92m+ Nullables v1.0.0\u001b[39m\n",
            " \u001b[90m [6fe1bfb0] \u001b[39m\u001b[92m+ OffsetArrays v1.4.1\u001b[39m\n",
            " \u001b[90m [efe28fd5] \u001b[39m\u001b[92m+ OpenSpecFun_jll v0.5.3+4\u001b[39m\n",
            " \u001b[90m [bac558e1] \u001b[39m\u001b[92m+ OrderedCollections v1.3.2\u001b[39m\n",
            " \u001b[90m [3a141323] \u001b[39m\u001b[92m+ PolynomialRoots v1.0.0\u001b[39m\n",
            " \u001b[90m [f27b6e38] \u001b[39m\u001b[92m+ Polynomials v1.1.13\u001b[39m\n",
            " \u001b[90m [27ebfcd6] \u001b[39m\u001b[92m+ Primes v0.4.0\u001b[39m\n",
            " \u001b[90m [3cdcf5f2] \u001b[39m\u001b[92m+ RecipesBase v1.1.1\u001b[39m\n",
            " \u001b[90m [189a3867] \u001b[39m\u001b[92m+ Reexport v0.2.0\u001b[39m\n",
            " \u001b[90m [ae029012] \u001b[39m\u001b[92m+ Requires v1.1.1\u001b[39m\n",
            " \u001b[90m [6c6a2e73] \u001b[39m\u001b[92m+ Scratch v1.0.3\u001b[39m\n",
            " \u001b[90m [157a0f19] \u001b[39m\u001b[92m+ SegyIO v0.7.3\u001b[39m\n",
            " \u001b[90m [276daf66] \u001b[39m\u001b[92m+ SpecialFunctions v0.10.3\u001b[39m\n",
            " \u001b[90m [b718987f] \u001b[39m\u001b[92m+ TextWrap v1.0.1\u001b[39m\n",
            " \u001b[90m [f269a46b] \u001b[39m\u001b[92m+ TimeZones v1.5.3\u001b[39m\n",
            " \u001b[90m [a759f4b9] \u001b[39m\u001b[92m+ TimerOutputs v0.5.7\u001b[39m\n",
            " \u001b[90m [29a6e085] \u001b[39m\u001b[92m+ Wavelets v0.9.2\u001b[39m\n",
            " \u001b[90m [02c8fc9c] \u001b[39m\u001b[92m+ XML2_jll v2.9.10+3\u001b[39m\n",
            " \u001b[90m [83775a58] \u001b[39m\u001b[92m+ Zlib_jll v1.2.11+18\u001b[39m\n",
            " \u001b[90m [8bb1440f] \u001b[39m\u001b[92m+ DelimitedFiles\u001b[39m\n",
            " \u001b[90m [1a1011a3] \u001b[39m\u001b[92m+ SharedArrays\u001b[39m\n",
            " \u001b[90m [2f01184e] \u001b[39m\u001b[92m+ SparseArrays\u001b[39m\n",
            " \u001b[90m [10745b16] \u001b[39m\u001b[92m+ Statistics\u001b[39m\n",
            "\u001b[32m\u001b[1m   Building\u001b[22m\u001b[39m TimeZones → `~/.julia/packages/TimeZones/K98G0/deps/build.log`\n",
            "\u001b[32m\u001b[1m   Building\u001b[22m\u001b[39m FFTW ─────→ `~/.julia/packages/FFTW/DMUbN/deps/build.log`\n"
          ],
          "name": "stderr"
        }
      ]
    },
    {
      "cell_type": "code",
      "metadata": {
        "id": "bm9UxYFoIP9x",
        "colab": {
          "base_uri": "https://localhost:8080/"
        },
        "outputId": "ffec70cf-7132-4d0f-ce9c-766d3dea04e7"
      },
      "source": [
        ";/root/.julia/conda/3/bin/python -m pip install --upgrade pip"
      ],
      "execution_count": 3,
      "outputs": [
        {
          "output_type": "stream",
          "text": [
            "Requirement already satisfied: pip in /root/.julia/conda/3/lib/python3.8/site-packages (20.3.1)\n"
          ],
          "name": "stdout"
        }
      ]
    },
    {
      "cell_type": "code",
      "metadata": {
        "id": "au70dTW6_tPF",
        "colab": {
          "base_uri": "https://localhost:8080/"
        },
        "outputId": "a5859925-5338-4bfe-d86e-bc19a6c632af"
      },
      "source": [
        ";/root/.julia/conda/3/bin/python -m pip install models"
      ],
      "execution_count": 4,
      "outputs": [
        {
          "output_type": "stream",
          "text": [
            "Collecting models\n",
            "  Downloading models-0.9.3.tar.gz (16 kB)\n"
          ],
          "name": "stdout"
        },
        {
          "output_type": "stream",
          "text": [
            "ERROR: Command errored out with exit status 1: python setup.py egg_info Check the logs for full command output.\n"
          ],
          "name": "stderr"
        }
      ]
    },
    {
      "cell_type": "code",
      "metadata": {
        "id": "a-Iv5XfaIVQf",
        "colab": {
          "base_uri": "https://localhost:8080/"
        },
        "outputId": "623f46d8-8209-426d-f50c-667345ca776d"
      },
      "source": [
        ";/root/.julia/conda/3/bin/python -m pip install devito"
      ],
      "execution_count": 5,
      "outputs": [
        {
          "output_type": "stream",
          "text": [
            "Collecting devito\n",
            "  Downloading devito-4.2.3-py3-none-any.whl (384 kB)\n",
            "Requirement already satisfied: numpy>1.16 in /root/.julia/conda/3/lib/python3.8/site-packages (from devito) (1.19.2)\n",
            "Requirement already satisfied: pip>=9.0.1 in /root/.julia/conda/3/lib/python3.8/site-packages (from devito) (20.3.1)\n",
            "Collecting anytree>=2.4.3\n",
            "  Downloading anytree-2.8.0-py2.py3-none-any.whl (41 kB)\n",
            "Requirement already satisfied: six>=1.9.0 in /root/.julia/conda/3/lib/python3.8/site-packages (from anytree>=2.4.3->devito) (1.15.0)\n",
            "Collecting cached-property\n",
            "  Downloading cached_property-1.5.2-py2.py3-none-any.whl (7.6 kB)\n",
            "Collecting cgen>=2020.1\n",
            "  Downloading cgen-2020.1.tar.gz (19 kB)\n",
            "Requirement already satisfied: numpy>1.16 in /root/.julia/conda/3/lib/python3.8/site-packages (from devito) (1.19.2)\n",
            "Collecting click\n",
            "  Downloading click-7.1.2-py2.py3-none-any.whl (82 kB)\n",
            "Collecting codecov\n",
            "  Downloading codecov-2.1.10-py2.py3-none-any.whl (16 kB)\n",
            "Requirement already satisfied: requests>=2.7.9 in /root/.julia/conda/3/lib/python3.8/site-packages (from codecov->devito) (2.25.0)\n",
            "Collecting codepy>=2019.1\n",
            "  Downloading codepy-2019.1.tar.gz (24 kB)\n",
            "Requirement already satisfied: numpy>1.16 in /root/.julia/conda/3/lib/python3.8/site-packages (from devito) (1.19.2)\n",
            "Requirement already satisfied: six>=1.9.0 in /root/.julia/conda/3/lib/python3.8/site-packages (from anytree>=2.4.3->devito) (1.15.0)\n",
            "Collecting appdirs>=1.4.0\n",
            "  Downloading appdirs-1.4.4-py2.py3-none-any.whl (9.6 kB)\n",
            "Collecting coverage\n",
            "  Downloading coverage-5.3-cp38-cp38-manylinux1_x86_64.whl (230 kB)\n",
            "Collecting distributed<2.23\n",
            "  Downloading distributed-2.22.0-py3-none-any.whl (647 kB)\n",
            "Requirement already satisfied: setuptools in /root/.julia/conda/3/lib/python3.8/site-packages (from distributed<2.23->devito) (51.0.0.post20201207)\n",
            "Collecting cloudpickle>=1.5.0\n",
            "  Downloading cloudpickle-1.6.0-py3-none-any.whl (23 kB)\n",
            "Collecting dask>=2.9.0\n",
            "  Downloading dask-2020.12.0-py3-none-any.whl (884 kB)\n",
            "Collecting flake8>=2.1.0\n",
            "  Downloading flake8-3.8.4-py2.py3-none-any.whl (72 kB)\n",
            "Collecting mccabe<0.7.0,>=0.6.0\n",
            "  Downloading mccabe-0.6.1-py2.py3-none-any.whl (8.6 kB)\n",
            "Collecting msgpack>=0.6.0\n",
            "  Downloading msgpack-1.0.1-cp38-cp38-manylinux2010_x86_64.whl (302 kB)\n",
            "Collecting multidict\n",
            "  Downloading multidict-5.1.0-cp38-cp38-manylinux2014_x86_64.whl (159 kB)\n",
            "Collecting nbval\n",
            "  Downloading nbval-0.9.6-py2.py3-none-any.whl (23 kB)\n",
            "Requirement already satisfied: six>=1.9.0 in /root/.julia/conda/3/lib/python3.8/site-packages (from anytree>=2.4.3->devito) (1.15.0)\n",
            "Collecting ipykernel\n",
            "  Downloading ipykernel-5.4.2-py3-none-any.whl (119 kB)\n",
            "Collecting ipython>=5.0.0\n",
            "  Downloading ipython-7.19.0-py3-none-any.whl (784 kB)\n",
            "Requirement already satisfied: setuptools in /root/.julia/conda/3/lib/python3.8/site-packages (from distributed<2.23->devito) (51.0.0.post20201207)\n",
            "Collecting backcall\n",
            "  Downloading backcall-0.2.0-py2.py3-none-any.whl (11 kB)\n",
            "Collecting decorator\n",
            "  Downloading decorator-4.4.2-py2.py3-none-any.whl (9.2 kB)\n",
            "Collecting jedi>=0.10\n",
            "  Downloading jedi-0.17.2-py2.py3-none-any.whl (1.4 MB)\n",
            "Collecting jupyter-client\n",
            "  Downloading jupyter_client-6.1.7-py3-none-any.whl (108 kB)\n",
            "Collecting jupyter-core>=4.6.0\n",
            "  Downloading jupyter_core-4.7.0-py3-none-any.whl (82 kB)\n",
            "Collecting nbformat\n",
            "  Downloading nbformat-5.0.8-py3-none-any.whl (172 kB)\n",
            "Collecting ipython-genutils\n",
            "  Downloading ipython_genutils-0.2.0-py2.py3-none-any.whl (26 kB)\n",
            "Collecting jsonschema!=2.5.0,>=2.4\n",
            "  Downloading jsonschema-3.2.0-py2.py3-none-any.whl (56 kB)\n",
            "Requirement already satisfied: six>=1.9.0 in /root/.julia/conda/3/lib/python3.8/site-packages (from anytree>=2.4.3->devito) (1.15.0)\n",
            "Requirement already satisfied: setuptools in /root/.julia/conda/3/lib/python3.8/site-packages (from distributed<2.23->devito) (51.0.0.post20201207)\n",
            "Collecting attrs>=17.4.0\n",
            "  Downloading attrs-20.3.0-py2.py3-none-any.whl (49 kB)\n",
            "Collecting parso<0.8.0,>=0.7.0\n",
            "  Downloading parso-0.7.1-py2.py3-none-any.whl (109 kB)\n",
            "Collecting pexpect>4.3\n",
            "  Downloading pexpect-4.8.0-py2.py3-none-any.whl (59 kB)\n",
            "Collecting pickleshare\n",
            "  Downloading pickleshare-0.7.5-py2.py3-none-any.whl (6.9 kB)\n",
            "Collecting prompt-toolkit!=3.0.0,!=3.0.1,<3.1.0,>=2.0.0\n",
            "  Downloading prompt_toolkit-3.0.8-py3-none-any.whl (355 kB)\n",
            "Collecting psutil>=5.1.0\n",
            "  Downloading psutil-5.7.3.tar.gz (465 kB)\n",
            "Collecting ptyprocess>=0.5\n",
            "  Downloading ptyprocess-0.6.0-py2.py3-none-any.whl (39 kB)\n",
            "Collecting py-cpuinfo\n",
            "  Downloading py-cpuinfo-7.0.0.tar.gz (95 kB)\n",
            "Collecting pycodestyle<2.7.0,>=2.6.0a1\n",
            "  Downloading pycodestyle-2.6.0-py2.py3-none-any.whl (41 kB)\n",
            "Collecting pyflakes<2.3.0,>=2.2.0\n",
            "  Downloading pyflakes-2.2.0-py2.py3-none-any.whl (66 kB)\n",
            "Collecting pygments\n",
            "  Downloading Pygments-2.7.3-py3-none-any.whl (950 kB)\n",
            "Collecting pyrevolve>=2.1.3\n",
            "  Downloading pyrevolve-2.2.tar.gz (191 kB)\n",
            "Collecting contexttimer\n",
            "  Downloading contexttimer-0.3.3.tar.gz (4.9 kB)\n",
            "Collecting pyrsistent>=0.14.0\n",
            "  Downloading pyrsistent-0.17.3.tar.gz (106 kB)\n",
            "Collecting pytest<6.0,>=3.6\n",
            "  Downloading pytest-5.4.3-py3-none-any.whl (248 kB)\n",
            "Collecting more-itertools>=4.0.0\n",
            "  Downloading more_itertools-8.6.0-py3-none-any.whl (45 kB)\n",
            "Collecting packaging\n",
            "  Downloading packaging-20.8-py2.py3-none-any.whl (39 kB)\n",
            "Collecting pluggy<1.0,>=0.12\n",
            "  Downloading pluggy-0.13.1-py2.py3-none-any.whl (18 kB)\n",
            "Collecting py>=1.5.0\n",
            "  Downloading py-1.10.0-py2.py3-none-any.whl (97 kB)\n",
            "Collecting pyparsing>=2.0.2\n",
            "  Downloading pyparsing-2.4.7-py2.py3-none-any.whl (67 kB)\n",
            "Collecting pytest-cov\n",
            "  Downloading pytest_cov-2.10.1-py2.py3-none-any.whl (19 kB)\n",
            "Collecting pytest-runner\n",
            "  Downloading pytest_runner-5.2-py2.py3-none-any.whl (6.8 kB)\n",
            "Collecting python-dateutil>=2.1\n",
            "  Downloading python_dateutil-2.8.1-py2.py3-none-any.whl (227 kB)\n",
            "Requirement already satisfied: six>=1.9.0 in /root/.julia/conda/3/lib/python3.8/site-packages (from anytree>=2.4.3->devito) (1.15.0)\n",
            "Collecting pytools>=2015.1.2\n",
            "  Downloading pytools-2020.4.3.tar.gz (62 kB)\n",
            "Requirement already satisfied: six>=1.9.0 in /root/.julia/conda/3/lib/python3.8/site-packages (from anytree>=2.4.3->devito) (1.15.0)\n",
            "Requirement already satisfied: numpy>1.16 in /root/.julia/conda/3/lib/python3.8/site-packages (from devito) (1.19.2)\n",
            "Collecting pyyaml\n",
            "  Downloading PyYAML-5.3.1.tar.gz (269 kB)\n",
            "Collecting pyzmq>=13\n",
            "  Downloading pyzmq-20.0.0-cp38-cp38-manylinux1_x86_64.whl (1.1 MB)\n",
            "Requirement already satisfied: idna<3,>=2.5 in /root/.julia/conda/3/lib/python3.8/site-packages (from requests>=2.7.9->codecov->devito) (2.10)\n",
            "Requirement already satisfied: chardet<4,>=3.0.2 in /root/.julia/conda/3/lib/python3.8/site-packages (from requests>=2.7.9->codecov->devito) (3.0.4)\n",
            "Requirement already satisfied: certifi>=2017.4.17 in /root/.julia/conda/3/lib/python3.8/site-packages (from requests>=2.7.9->codecov->devito) (2020.12.5)\n",
            "Requirement already satisfied: urllib3<1.27,>=1.21.1 in /root/.julia/conda/3/lib/python3.8/site-packages (from requests>=2.7.9->codecov->devito) (1.25.11)\n",
            "Collecting scipy\n",
            "  Downloading scipy-1.5.4-cp38-cp38-manylinux1_x86_64.whl (25.8 MB)\n",
            "Requirement already satisfied: numpy>1.16 in /root/.julia/conda/3/lib/python3.8/site-packages (from devito) (1.19.2)\n",
            "Collecting sortedcontainers!=2.0.0,!=2.0.1\n",
            "  Downloading sortedcontainers-2.3.0-py2.py3-none-any.whl (29 kB)\n",
            "Collecting sympy<1.6\n",
            "  Downloading sympy-1.5.1-py2.py3-none-any.whl (5.6 MB)\n",
            "Collecting mpmath>=0.19\n",
            "  Downloading mpmath-1.1.0.tar.gz (512 kB)\n",
            "Collecting tblib>=1.6.0\n",
            "  Downloading tblib-1.7.0-py2.py3-none-any.whl (12 kB)\n",
            "Collecting toolz>=0.8.2\n",
            "  Downloading toolz-0.11.1-py3-none-any.whl (55 kB)\n",
            "Collecting tornado>=6.0.3\n",
            "  Downloading tornado-6.1-cp38-cp38-manylinux2010_x86_64.whl (427 kB)\n",
            "Collecting traitlets>=4.1.0\n",
            "  Downloading traitlets-5.0.5-py3-none-any.whl (100 kB)\n",
            "Collecting wcwidth\n",
            "  Downloading wcwidth-0.2.5-py2.py3-none-any.whl (30 kB)\n",
            "Collecting zict>=0.1.3\n",
            "  Downloading zict-2.0.0-py3-none-any.whl (10 kB)\n",
            "Collecting heapdict\n",
            "  Downloading HeapDict-1.0.1-py3-none-any.whl (3.9 kB)\n",
            "Building wheels for collected packages: cgen, codepy, psutil, py-cpuinfo, pyrevolve, contexttimer, pyrsistent, pytools, pyyaml, mpmath\n",
            "  Building wheel for cgen (setup.py): started\n",
            "  Building wheel for cgen (setup.py): finished with status 'done'\n",
            "  Created wheel for cgen: filename=cgen-2020.1-py3-none-any.whl size=15824 sha256=fd5c793d44061db1f266b349b9e44dc21bed9c07d0a741d17bf610ae88a58a3d\n",
            "  Stored in directory: /root/.cache/pip/wheels/f1/7c/34/5ea06ad75758a23a959da1268dad81f7e1191b424fb4318dd2\n",
            "  Building wheel for codepy (setup.py): started\n",
            "  Building wheel for codepy (setup.py): finished with status 'done'\n",
            "  Created wheel for codepy: filename=codepy-2019.1-py3-none-any.whl size=19314 sha256=c857bebf5278a2aeb672b86ffa19ea34c2118f1baba11d594a0a67e2a479242e\n",
            "  Stored in directory: /root/.cache/pip/wheels/42/1f/3f/8c9d6eff98b2bacbf45771a1764eb26881c2d88c5d4e0ec75d\n",
            "  Building wheel for psutil (setup.py): started\n",
            "  Building wheel for psutil (setup.py): finished with status 'done'\n",
            "  Created wheel for psutil: filename=psutil-5.7.3-cp38-cp38-linux_x86_64.whl size=285844 sha256=71c3b6f55a6d52eb0a0c3afbb63340b04a285ec4572bf49843a085fa43165aac\n",
            "  Stored in directory: /root/.cache/pip/wheels/f6/59/c2/38111ef4c354088a156bc95fbeb5396c0cac91a0f62f7158b9\n",
            "  Building wheel for py-cpuinfo (setup.py): started\n",
            "  Building wheel for py-cpuinfo (setup.py): finished with status 'done'\n",
            "  Created wheel for py-cpuinfo: filename=py_cpuinfo-7.0.0-py3-none-any.whl size=20069 sha256=eb61aeb051f44270e47972a3f4b055041ed2732e4973c6403e5adf1796913926\n",
            "  Stored in directory: /root/.cache/pip/wheels/b4/99/9f/8eb77fdf759c1380719071722f2c37dd0fa1f6aa477c51cb6c\n",
            "  Building wheel for pyrevolve (setup.py): started\n",
            "  Building wheel for pyrevolve (setup.py): finished with status 'done'\n",
            "  Created wheel for pyrevolve: filename=pyrevolve-2.2-cp38-cp38-linux_x86_64.whl size=276378 sha256=cb496090998747ad47fea57f48769d055c60230eb83391eacfb14043cf5dd817\n",
            "  Stored in directory: /root/.cache/pip/wheels/a6/f0/f9/a7cce2ae7bb69c398c146b9aaa38f3837abee3f63094297218\n",
            "  Building wheel for contexttimer (setup.py): started\n",
            "  Building wheel for contexttimer (setup.py): finished with status 'done'\n",
            "  Created wheel for contexttimer: filename=contexttimer-0.3.3-py3-none-any.whl size=5818 sha256=6b52255763a2de13f456e1fd9b81400e7670b0f855313fc251b5a1ec8c531c2f\n",
            "  Stored in directory: /root/.cache/pip/wheels/70/dd/09/4924e45dc5912f71b971b6790958b5e82f88c9db95a7cb4969\n",
            "  Building wheel for pyrsistent (setup.py): started\n",
            "  Building wheel for pyrsistent (setup.py): finished with status 'done'\n",
            "  Created wheel for pyrsistent: filename=pyrsistent-0.17.3-cp38-cp38-linux_x86_64.whl size=119649 sha256=06b5d1924b7c5d5e5ea1a4c5a1bb48cc9e1efa8072a868d52c36d3ab1216a766\n",
            "  Stored in directory: /root/.cache/pip/wheels/3d/22/08/7042eb6309c650c7b53615d5df5cc61f1ea9680e7edd3a08d2\n",
            "  Building wheel for pytools (setup.py): started\n",
            "  Building wheel for pytools (setup.py): finished with status 'done'\n",
            "  Created wheel for pytools: filename=pytools-2020.4.3-py2.py3-none-any.whl size=61374 sha256=ba3fdca4a8e57948249015adcc94f03210a09b4bf88cd91aa6fb2144dbffcd9f\n",
            "  Stored in directory: /root/.cache/pip/wheels/22/c7/47/a0973c96004cac56e61f9b13a55ebdb0a320e282156284db1b\n",
            "  Building wheel for pyyaml (setup.py): started\n",
            "  Building wheel for pyyaml (setup.py): finished with status 'done'\n",
            "  Created wheel for pyyaml: filename=PyYAML-5.3.1-cp38-cp38-linux_x86_64.whl size=44618 sha256=7a5a5368cac73385787ee9dd70f55187c1d66fb90efcfdda1db2b77123968a2d\n",
            "  Stored in directory: /root/.cache/pip/wheels/13/90/db/290ab3a34f2ef0b5a0f89235dc2d40fea83e77de84ed2dc05c\n",
            "  Building wheel for mpmath (setup.py): started\n",
            "  Building wheel for mpmath (setup.py): finished with status 'done'\n",
            "  Created wheel for mpmath: filename=mpmath-1.1.0-py3-none-any.whl size=532237 sha256=9f8e6f02866b6eb1040f1051934b7aadb929b338f2feb875ee7627dfd0f484a0\n",
            "  Stored in directory: /root/.cache/pip/wheels/29/2c/1c/d2e4580cde2743b0aef389e936ac21a2db92921ddbca53faa1\n",
            "Successfully built cgen codepy psutil py-cpuinfo pyrevolve contexttimer pyrsistent pytools pyyaml mpmath\n",
            "Installing collected packages: ipython-genutils, wcwidth, traitlets, ptyprocess, parso, tornado, pyzmq, python-dateutil, pyrsistent, pyparsing, pygments, prompt-toolkit, pickleshare, pexpect, jupyter-core, jedi, decorator, backcall, attrs, appdirs, pyyaml, pytools, py, pluggy, packaging, more-itertools, jupyter-client, jsonschema, ipython, heapdict, zict, toolz, tblib, sortedcontainers, pytest, pyflakes, pycodestyle, psutil, nbformat, msgpack, mpmath, mccabe, ipykernel, dask, coverage, contexttimer, cloudpickle, click, cgen, sympy, scipy, pytest-runner, pytest-cov, pyrevolve, py-cpuinfo, nbval, multidict, flake8, distributed, codepy, codecov, cached-property, anytree, devito\n",
            "Successfully installed anytree-2.8.0 appdirs-1.4.4 attrs-20.3.0 backcall-0.2.0 cached-property-1.5.2 cgen-2020.1 click-7.1.2 cloudpickle-1.6.0 codecov-2.1.10 codepy-2019.1 contexttimer-0.3.3 coverage-5.3 dask-2020.12.0 decorator-4.4.2 devito-4.2.3 distributed-2.22.0 flake8-3.8.4 heapdict-1.0.1 ipykernel-5.4.2 ipython-7.19.0 ipython-genutils-0.2.0 jedi-0.17.2 jsonschema-3.2.0 jupyter-client-6.1.7 jupyter-core-4.7.0 mccabe-0.6.1 more-itertools-8.6.0 mpmath-1.1.0 msgpack-1.0.1 multidict-5.1.0 nbformat-5.0.8 nbval-0.9.6 packaging-20.8 parso-0.7.1 pexpect-4.8.0 pickleshare-0.7.5 pluggy-0.13.1 prompt-toolkit-3.0.8 psutil-5.7.3 ptyprocess-0.6.0 py-1.10.0 py-cpuinfo-7.0.0 pycodestyle-2.6.0 pyflakes-2.2.0 pygments-2.7.3 pyparsing-2.4.7 pyrevolve-2.2 pyrsistent-0.17.3 pytest-5.4.3 pytest-cov-2.10.1 pytest-runner-5.2 python-dateutil-2.8.1 pytools-2020.4.3 pyyaml-5.3.1 pyzmq-20.0.0 scipy-1.5.4 sortedcontainers-2.3.0 sympy-1.5.1 tblib-1.7.0 toolz-0.11.1 tornado-6.1 traitlets-5.0.5 wcwidth-0.2.5 zict-2.0.0\n"
          ],
          "name": "stdout"
        }
      ]
    },
    {
      "cell_type": "code",
      "metadata": {
        "id": "BLhj4NwMIWuA",
        "colab": {
          "base_uri": "https://localhost:8080/"
        },
        "outputId": "2cd51067-33ec-42ca-99bf-e81a0fc37365"
      },
      "source": [
        ";/root/.julia/conda/3/bin/python -m pip install matplotlib"
      ],
      "execution_count": 6,
      "outputs": [
        {
          "output_type": "stream",
          "text": [
            "Collecting matplotlib\n",
            "  Downloading matplotlib-3.3.3-cp38-cp38-manylinux1_x86_64.whl (11.6 MB)\n",
            "Requirement already satisfied: numpy>=1.15 in /root/.julia/conda/3/lib/python3.8/site-packages (from matplotlib) (1.19.2)\n",
            "Requirement already satisfied: pyparsing!=2.0.4,!=2.1.2,!=2.1.6,>=2.0.3 in /root/.julia/conda/3/lib/python3.8/site-packages (from matplotlib) (2.4.7)\n",
            "Requirement already satisfied: python-dateutil>=2.1 in /root/.julia/conda/3/lib/python3.8/site-packages (from matplotlib) (2.8.1)\n",
            "Collecting cycler>=0.10\n",
            "  Downloading cycler-0.10.0-py2.py3-none-any.whl (6.5 kB)\n",
            "Requirement already satisfied: six in /root/.julia/conda/3/lib/python3.8/site-packages (from cycler>=0.10->matplotlib) (1.15.0)\n",
            "Collecting kiwisolver>=1.0.1\n",
            "  Downloading kiwisolver-1.3.1-cp38-cp38-manylinux1_x86_64.whl (1.2 MB)\n",
            "Collecting pillow>=6.2.0\n",
            "  Downloading Pillow-8.0.1-cp38-cp38-manylinux1_x86_64.whl (2.2 MB)\n",
            "Requirement already satisfied: six in /root/.julia/conda/3/lib/python3.8/site-packages (from cycler>=0.10->matplotlib) (1.15.0)\n",
            "Installing collected packages: pillow, kiwisolver, cycler, matplotlib\n",
            "Successfully installed cycler-0.10.0 kiwisolver-1.3.1 matplotlib-3.3.3 pillow-8.0.1\n"
          ],
          "name": "stdout"
        }
      ]
    },
    {
      "cell_type": "code",
      "metadata": {
        "colab": {
          "base_uri": "https://localhost:8080/"
        },
        "id": "Pr6qzNkIClMa",
        "outputId": "6297d992-e780-4e01-924f-b0ff7db8925f"
      },
      "source": [
        ";git clone https://github.com/slimgroup/JUDI.jl"
      ],
      "execution_count": 7,
      "outputs": [
        {
          "output_type": "stream",
          "text": [
            "Cloning into 'JUDI.jl'...\n"
          ],
          "name": "stderr"
        }
      ]
    },
    {
      "cell_type": "code",
      "metadata": {
        "id": "7NjKhgTdClC6"
      },
      "source": [
        "cd(\"JUDI.jl\")"
      ],
      "execution_count": 8,
      "outputs": []
    },
    {
      "cell_type": "code",
      "metadata": {
        "colab": {
          "base_uri": "https://localhost:8080/"
        },
        "id": "1hxYNYImCkrx",
        "outputId": "59a6d8a5-c019-4e47-8a15-ece35d01482d"
      },
      "source": [
        ";git checkout v2.2.0"
      ],
      "execution_count": 9,
      "outputs": [
        {
          "output_type": "stream",
          "text": [
            "Note: checking out 'v2.2.0'.\n",
            "\n",
            "You are in 'detached HEAD' state. You can look around, make experimental\n",
            "changes and commit them, and you can discard any commits you make in this\n",
            "state without impacting any branches by performing another checkout.\n",
            "\n",
            "If you want to create a new branch to retain commits you create, you may\n",
            "do so (now or later) by using -b with the checkout command again. Example:\n",
            "\n",
            "  git checkout -b <new-branch-name>\n",
            "\n",
            "HEAD is now at de72831 Merge pull request #35 from slimgroup/twri\n"
          ],
          "name": "stderr"
        }
      ]
    },
    {
      "cell_type": "code",
      "metadata": {
        "id": "SV8w1xJ8EhTt",
        "colab": {
          "base_uri": "https://localhost:8080/"
        },
        "outputId": "0d87f793-f07e-4f22-d735-1e85228f7df5"
      },
      "source": [
        "cd(\"/content/JUDI.jl\")\r\n",
        "pwd()"
      ],
      "execution_count": 10,
      "outputs": [
        {
          "output_type": "execute_result",
          "data": {
            "text/plain": [
              "\"/content/JUDI.jl\""
            ]
          },
          "metadata": {
            "tags": []
          },
          "execution_count": 10
        }
      ]
    },
    {
      "cell_type": "code",
      "metadata": {
        "id": "-IMEZh5tGQhm",
        "colab": {
          "base_uri": "https://localhost:8080/"
        },
        "outputId": "87b8b162-92a5-4416-fab2-25d28070da5e"
      },
      "source": [
        "include(\"deps/install_global.jl\")\r\n",
        "#!julia --project -e 'using Pkg;Pkg.test(coverage=false)' # uncomment this if you want to run test"
      ],
      "execution_count": 11,
      "outputs": [
        {
          "output_type": "stream",
          "text": [
            "\u001b[?25l    "
          ],
          "name": "stdout"
        },
        {
          "output_type": "stream",
          "text": [
            "\u001b[32m\u001b[1m    Cloning\u001b[22m\u001b[39m git-repo `https://github.com/JuliaLang/TOML.jl.git`\n"
          ],
          "name": "stderr"
        },
        {
          "output_type": "stream",
          "text": [
            "\u001b[2K\u001b[?25h\u001b[?25l    "
          ],
          "name": "stdout"
        },
        {
          "output_type": "stream",
          "text": [
            "\u001b[32m\u001b[1m   Updating\u001b[22m\u001b[39m git-repo `https://github.com/JuliaLang/TOML.jl.git`\n"
          ],
          "name": "stderr"
        },
        {
          "output_type": "stream",
          "text": [
            "\u001b[36m\u001b[1mFetching:\u001b[22m\u001b[39m [>                                        ]  0.0 %\r    \u001b[36m\u001b[1mFetching:\u001b[22m\u001b[39m [=>                                       ]  0.9 %\r    \u001b[36m\u001b[1mFetching:\u001b[22m\u001b[39m [=>                                       ]  1.8 %\r    \u001b[36m\u001b[1mFetching:\u001b[22m\u001b[39m [==>                                      ]  2.7 %\r    \u001b[36m\u001b[1mFetching:\u001b[22m\u001b[39m [==>                                      ]  3.6 %\r    \u001b[36m\u001b[1mFetching:\u001b[22m\u001b[39m [==>                                      ]  4.5 %\r    \u001b[36m\u001b[1mFetching:\u001b[22m\u001b[39m [===>                                     ]  5.4 %\r    \u001b[36m\u001b[1mFetching:\u001b[22m\u001b[39m [===>                                     ]  6.3 %\r    \u001b[36m\u001b[1mFetching:\u001b[22m\u001b[39m [===>                                     ]  7.1 %\r    \u001b[36m\u001b[1mFetching:\u001b[22m\u001b[39m [====>                                    ]  8.0 %\r    \u001b[36m\u001b[1mFetching:\u001b[22m\u001b[39m [====>                                    ]  8.9 %\r    \u001b[36m\u001b[1mFetching:\u001b[22m\u001b[39m [====>                                    ]  9.8 %\r    \u001b[36m\u001b[1mFetching:\u001b[22m\u001b[39m [=====>                                   ]  10.7 %\r    \u001b[36m\u001b[1mFetching:\u001b[22m\u001b[39m [=====>                                   ]  11.6 %\r    \u001b[36m\u001b[1mFetching:\u001b[22m\u001b[39m [=====>                                   ]  12.5 %\r    \u001b[36m\u001b[1mFetching:\u001b[22m\u001b[39m [======>                                  ]  13.4 %\r    \u001b[36m\u001b[1mFetching:\u001b[22m\u001b[39m [======>                                  ]  14.3 %\r    \u001b[36m\u001b[1mFetching:\u001b[22m\u001b[39m [=======>                                 ]  15.2 %\r    \u001b[36m\u001b[1mFetching:\u001b[22m\u001b[39m [=======>                                 ]  16.1 %\r    \u001b[36m\u001b[1mFetching:\u001b[22m\u001b[39m [=======>                                 ]  17.0 %\r    \u001b[36m\u001b[1mFetching:\u001b[22m\u001b[39m [========>                                ]  17.9 %\r    \u001b[36m\u001b[1mFetching:\u001b[22m\u001b[39m [========>                                ]  18.8 %\r    \u001b[36m\u001b[1mFetching:\u001b[22m\u001b[39m [========>                                ]  19.6 %\r    \u001b[36m\u001b[1mFetching:\u001b[22m\u001b[39m [=========>                               ]  20.5 %\r    \u001b[36m\u001b[1mFetching:\u001b[22m\u001b[39m [=========>                               ]  21.4 %\r    \u001b[36m\u001b[1mFetching:\u001b[22m\u001b[39m [=========>                               ]  22.3 %\r    \u001b[36m\u001b[1mFetching:\u001b[22m\u001b[39m [==========>                              ]  23.2 %\r    \u001b[36m\u001b[1mFetching:\u001b[22m\u001b[39m [==========>                              ]  24.1 %\r    \u001b[36m\u001b[1mFetching:\u001b[22m\u001b[39m [==========>                              ]  25.0 %\r    \u001b[36m\u001b[1mFetching:\u001b[22m\u001b[39m [===========>                             ]  25.9 %\r    \u001b[36m\u001b[1mFetching:\u001b[22m\u001b[39m [===========>                             ]  26.8 %\r    \u001b[36m\u001b[1mFetching:\u001b[22m\u001b[39m [============>                            ]  27.7 %\r    \u001b[36m\u001b[1mFetching:\u001b[22m\u001b[39m [============>                            ]  28.6 %\r    \u001b[36m\u001b[1mFetching:\u001b[22m\u001b[39m [============>                            ]  29.5 %\r    \u001b[36m\u001b[1mFetching:\u001b[22m\u001b[39m [=============>                           ]  30.4 %\r    \u001b[36m\u001b[1mFetching:\u001b[22m\u001b[39m [=============>                           ]  31.3 %\r    \u001b[36m\u001b[1mFetching:\u001b[22m\u001b[39m [=============>                           ]  32.1 %\r    \u001b[36m\u001b[1mFetching:\u001b[22m\u001b[39m [==============>                          ]  33.0 %\r    \u001b[36m\u001b[1mFetching:\u001b[22m\u001b[39m [==============>                          ]  33.9 %\r    \u001b[36m\u001b[1mFetching:\u001b[22m\u001b[39m [==============>                          ]  34.8 %\r    \u001b[36m\u001b[1mFetching:\u001b[22m\u001b[39m [===============>                         ]  35.7 %\r    \u001b[36m\u001b[1mFetching:\u001b[22m\u001b[39m [===============>                         ]  36.6 %\r    \u001b[36m\u001b[1mFetching:\u001b[22m\u001b[39m [===============>                         ]  37.5 %\r    \u001b[36m\u001b[1mFetching:\u001b[22m\u001b[39m [================>                        ]  38.4 %\r    \u001b[36m\u001b[1mFetching:\u001b[22m\u001b[39m [================>                        ]  39.3 %\r    \u001b[36m\u001b[1mFetching:\u001b[22m\u001b[39m [=================>                       ]  40.2 %\r    \u001b[36m\u001b[1mFetching:\u001b[22m\u001b[39m [=================>                       ]  41.1 %\r    \u001b[36m\u001b[1mFetching:\u001b[22m\u001b[39m [=================>                       ]  42.0 %\r    \u001b[36m\u001b[1mFetching:\u001b[22m\u001b[39m [==================>                      ]  42.9 %\r    \u001b[36m\u001b[1mFetching:\u001b[22m\u001b[39m [==================>                      ]  43.8 %\r    \u001b[36m\u001b[1mFetching:\u001b[22m\u001b[39m [==================>                      ]  44.6 %\r    \u001b[36m\u001b[1mFetching:\u001b[22m\u001b[39m [===================>                     ]  45.5 %\r    \u001b[36m\u001b[1mFetching:\u001b[22m\u001b[39m [===================>                     ]  46.4 %\r    \u001b[36m\u001b[1mFetching:\u001b[22m\u001b[39m [===================>                     ]  47.3 %\r    \u001b[36m\u001b[1mFetching:\u001b[22m\u001b[39m [====================>                    ]  48.2 %\r    \u001b[36m\u001b[1mFetching:\u001b[22m\u001b[39m [====================>                    ]  49.1 %\r    \u001b[36m\u001b[1mFetching:\u001b[22m\u001b[39m [====================>                    ]  50.0 %\r    \u001b[36m\u001b[1mFetching:\u001b[22m\u001b[39m [=====================>                   ]  50.9 %\r    \u001b[36m\u001b[1mFetching:\u001b[22m\u001b[39m [=====================>                   ]  51.8 %\r    \u001b[36m\u001b[1mFetching:\u001b[22m\u001b[39m [======================>                  ]  52.7 %\r    \u001b[36m\u001b[1mFetching:\u001b[22m\u001b[39m [======================>                  ]  53.6 %\r    \u001b[36m\u001b[1mFetching:\u001b[22m\u001b[39m [======================>                  ]  54.5 %\r    \u001b[36m\u001b[1mFetching:\u001b[22m\u001b[39m [=======================>                 ]  55.4 %\r    \u001b[36m\u001b[1mFetching:\u001b[22m\u001b[39m [=======================>                 ]  56.3 %\r    \u001b[36m\u001b[1mFetching:\u001b[22m\u001b[39m [=======================>                 ]  57.1 %\r    \u001b[36m\u001b[1mFetching:\u001b[22m\u001b[39m [========================>                ]  58.0 %\r    \u001b[36m\u001b[1mFetching:\u001b[22m\u001b[39m [========================>                ]  58.9 %\r    \u001b[36m\u001b[1mFetching:\u001b[22m\u001b[39m [========================>                ]  59.8 %\r    \u001b[36m\u001b[1mFetching:\u001b[22m\u001b[39m [=========================>               ]  60.7 %\r    \u001b[36m\u001b[1mFetching:\u001b[22m\u001b[39m [=========================>               ]  61.6 %\r    \u001b[36m\u001b[1mFetching:\u001b[22m\u001b[39m [=========================>               ]  62.5 %\r    \u001b[36m\u001b[1mFetching:\u001b[22m\u001b[39m [==========================>              ]  63.4 %\r    \u001b[36m\u001b[1mFetching:\u001b[22m\u001b[39m [==========================>              ]  64.3 %\r    \u001b[36m\u001b[1mFetching:\u001b[22m\u001b[39m [===========================>             ]  65.2 %\r    \u001b[36m\u001b[1mFetching:\u001b[22m\u001b[39m [===========================>             ]  66.1 %\r    \u001b[36m\u001b[1mFetching:\u001b[22m\u001b[39m [===========================>             ]  67.0 %\r    \u001b[36m\u001b[1mFetching:\u001b[22m\u001b[39m [============================>            ]  67.9 %\r    \u001b[36m\u001b[1mFetching:\u001b[22m\u001b[39m [============================>            ]  68.8 %\r    \u001b[36m\u001b[1mFetching:\u001b[22m\u001b[39m [============================>            ]  69.6 %\r    \u001b[36m\u001b[1mFetching:\u001b[22m\u001b[39m [=============================>           ]  70.5 %\r    \u001b[36m\u001b[1mFetching:\u001b[22m\u001b[39m [=============================>           ]  71.4 %\r    \u001b[36m\u001b[1mFetching:\u001b[22m\u001b[39m [=============================>           ]  72.3 %\r    \u001b[36m\u001b[1mFetching:\u001b[22m\u001b[39m [==============================>          ]  73.2 %\r    \u001b[36m\u001b[1mFetching:\u001b[22m\u001b[39m [==============================>          ]  74.1 %\r    \u001b[36m\u001b[1mFetching:\u001b[22m\u001b[39m [==============================>          ]  75.0 %\r    \u001b[36m\u001b[1mFetching:\u001b[22m\u001b[39m [===============================>         ]  75.9 %\r    \u001b[36m\u001b[1mFetching:\u001b[22m\u001b[39m [===============================>         ]  76.8 %\r    \u001b[36m\u001b[1mFetching:\u001b[22m\u001b[39m [================================>        ]  77.7 %\r    \u001b[36m\u001b[1mFetching:\u001b[22m\u001b[39m [================================>        ]  78.6 %\r    \u001b[36m\u001b[1mFetching:\u001b[22m\u001b[39m [================================>        ]  79.5 %\r    \u001b[36m\u001b[1mFetching:\u001b[22m\u001b[39m [=================================>       ]  80.4 %\r    \u001b[36m\u001b[1mFetching:\u001b[22m\u001b[39m [=================================>       ]  81.3 %\r    \u001b[36m\u001b[1mFetching:\u001b[22m\u001b[39m [=================================>       ]  82.1 %\r    \u001b[36m\u001b[1mFetching:\u001b[22m\u001b[39m [==================================>      ]  83.0 %\r    \u001b[36m\u001b[1mFetching:\u001b[22m\u001b[39m [==================================>      ]  83.9 %\r    \u001b[36m\u001b[1mFetching:\u001b[22m\u001b[39m [==================================>      ]  84.8 %\r    \u001b[36m\u001b[1mFetching:\u001b[22m\u001b[39m [===================================>     ]  85.7 %\r    \u001b[36m\u001b[1mFetching:\u001b[22m\u001b[39m [===================================>     ]  86.6 %\r    \u001b[36m\u001b[1mFetching:\u001b[22m\u001b[39m [===================================>     ]  87.5 %\r    \u001b[36m\u001b[1mFetching:\u001b[22m\u001b[39m [====================================>    ]  88.4 %\r    \u001b[36m\u001b[1mFetching:\u001b[22m\u001b[39m [====================================>    ]  89.3 %\r    \u001b[36m\u001b[1mFetching:\u001b[22m\u001b[39m [=====================================>   ]  90.2 %\r    \u001b[36m\u001b[1mFetching:\u001b[22m\u001b[39m [=====================================>   ]  91.1 %\r    \u001b[36m\u001b[1mFetching:\u001b[22m\u001b[39m [=====================================>   ]  92.0 %\r    \u001b[36m\u001b[1mFetching:\u001b[22m\u001b[39m [======================================>  ]  92.9 %\r    \u001b[36m\u001b[1mFetching:\u001b[22m\u001b[39m [======================================>  ]  93.8 %\r    \u001b[36m\u001b[1mFetching:\u001b[22m\u001b[39m [======================================>  ]  94.6 %\r    \u001b[36m\u001b[1mFetching:\u001b[22m\u001b[39m [=======================================> ]  95.5 %\r    \u001b[36m\u001b[1mFetching:\u001b[22m\u001b[39m [=======================================> ]  96.4 %\r    \u001b[36m\u001b[1mFetching:\u001b[22m\u001b[39m [=======================================> ]  97.3 %\r    \u001b[36m\u001b[1mFetching:\u001b[22m\u001b[39m [========================================>]  98.2 %\r    \u001b[36m\u001b[1mFetching:\u001b[22m\u001b[39m [========================================>]  99.1 %\r    \u001b[36m\u001b[1mFetching:\u001b[22m\u001b[39m [========================================>]  100.0 %\r\u001b[2K\u001b[?25h"
          ],
          "name": "stdout"
        },
        {
          "output_type": "stream",
          "text": [
            "\u001b[32m\u001b[1m  Resolving\u001b[22m\u001b[39m package versions...\n",
            "\u001b[32m\u001b[1mUpdating\u001b[22m\u001b[39m `~/.julia/environments/v1.5/Project.toml`\n",
            " \u001b[90m [fa267f1f] \u001b[39m\u001b[92m+ TOML v1.0.1 `https://github.com/JuliaLang/TOML.jl.git#master`\u001b[39m\n",
            "\u001b[32m\u001b[1mUpdating\u001b[22m\u001b[39m `~/.julia/environments/v1.5/Manifest.toml`\n",
            " \u001b[90m [fa267f1f] \u001b[39m\u001b[92m+ TOML v1.0.1 `https://github.com/JuliaLang/TOML.jl.git#master`\u001b[39m\n",
            "┌ Info: Precompiling TOML [fa267f1f-6049-4f14-aa54-33bafae1ed76]\n",
            "└ @ Base loading.jl:1278\n",
            "\u001b[32m\u001b[1m  Resolving\u001b[22m\u001b[39m package versions...\n",
            "\u001b[32m\u001b[1mUpdating\u001b[22m\u001b[39m `~/.julia/environments/v1.5/Project.toml`\n",
            " \u001b[90m [c7e460c6] \u001b[39m\u001b[92m+ ArgParse v1.1.1\u001b[39m\n",
            "\u001b[32m\u001b[1mNo Changes\u001b[22m\u001b[39m to `~/.julia/environments/v1.5/Manifest.toml`\n",
            "\u001b[32m\u001b[1m  Resolving\u001b[22m\u001b[39m package versions...\n",
            "\u001b[32m\u001b[1mUpdating\u001b[22m\u001b[39m `~/.julia/environments/v1.5/Project.toml`\n",
            " \u001b[90m [44cfe95a] \u001b[39m\u001b[92m+ Pkg\u001b[39m\n",
            "\u001b[32m\u001b[1mNo Changes\u001b[22m\u001b[39m to `~/.julia/environments/v1.5/Manifest.toml`\n",
            "\u001b[32m\u001b[1m  Resolving\u001b[22m\u001b[39m package versions...\n",
            "\u001b[32m\u001b[1mUpdating\u001b[22m\u001b[39m `~/.julia/environments/v1.5/Project.toml`\n",
            " \u001b[90m [10745b16] \u001b[39m\u001b[92m+ Statistics\u001b[39m\n",
            "\u001b[32m\u001b[1mNo Changes\u001b[22m\u001b[39m to `~/.julia/environments/v1.5/Manifest.toml`\n",
            "\u001b[32m\u001b[1m  Resolving\u001b[22m\u001b[39m package versions...\n",
            "\u001b[32m\u001b[1mUpdating\u001b[22m\u001b[39m `~/.julia/environments/v1.5/Project.toml`\n",
            " \u001b[90m [8dfed614] \u001b[39m\u001b[92m+ Test\u001b[39m\n",
            "\u001b[32m\u001b[1mNo Changes\u001b[22m\u001b[39m to `~/.julia/environments/v1.5/Manifest.toml`\n",
            "\u001b[32m\u001b[1m  Resolving\u001b[22m\u001b[39m package versions...\n",
            "\u001b[32m\u001b[1mUpdating\u001b[22m\u001b[39m `~/.julia/environments/v1.5/Project.toml`\n",
            " \u001b[90m [9a3f8284] \u001b[39m\u001b[92m+ Random\u001b[39m\n",
            "\u001b[32m\u001b[1mNo Changes\u001b[22m\u001b[39m to `~/.julia/environments/v1.5/Manifest.toml`\n",
            "\u001b[32m\u001b[1m  Resolving\u001b[22m\u001b[39m package versions...\n",
            "\u001b[32m\u001b[1mUpdating\u001b[22m\u001b[39m `~/.julia/environments/v1.5/Project.toml`\n",
            " \u001b[90m [157a0f19] \u001b[39m\u001b[92m+ SegyIO v0.7.3\u001b[39m\n",
            "\u001b[32m\u001b[1mNo Changes\u001b[22m\u001b[39m to `~/.julia/environments/v1.5/Manifest.toml`\n",
            "\u001b[32m\u001b[1m  Resolving\u001b[22m\u001b[39m package versions...\n",
            "\u001b[32m\u001b[1mUpdating\u001b[22m\u001b[39m `~/.julia/environments/v1.5/Project.toml`\n",
            " \u001b[90m [8ba89e20] \u001b[39m\u001b[92m+ Distributed\u001b[39m\n",
            "\u001b[32m\u001b[1mNo Changes\u001b[22m\u001b[39m to `~/.julia/environments/v1.5/Manifest.toml`\n",
            "\u001b[32m\u001b[1m  Resolving\u001b[22m\u001b[39m package versions...\n",
            "\u001b[32m\u001b[1mUpdating\u001b[22m\u001b[39m `~/.julia/environments/v1.5/Project.toml`\n",
            " \u001b[90m [717857b8] \u001b[39m\u001b[92m+ DSP v0.6.9\u001b[39m\n",
            "\u001b[32m\u001b[1mNo Changes\u001b[22m\u001b[39m to `~/.julia/environments/v1.5/Manifest.toml`\n",
            "\u001b[32m\u001b[1m  Resolving\u001b[22m\u001b[39m package versions...\n",
            "\u001b[32m\u001b[1mUpdating\u001b[22m\u001b[39m `~/.julia/environments/v1.5/Project.toml`\n",
            " \u001b[90m [37e2e46d] \u001b[39m\u001b[92m+ LinearAlgebra\u001b[39m\n",
            "\u001b[32m\u001b[1mNo Changes\u001b[22m\u001b[39m to `~/.julia/environments/v1.5/Manifest.toml`\n",
            "\u001b[32m\u001b[1m  Resolving\u001b[22m\u001b[39m package versions...\n",
            "\u001b[32m\u001b[1mUpdating\u001b[22m\u001b[39m `~/.julia/environments/v1.5/Project.toml`\n",
            " \u001b[90m [3a141323] \u001b[39m\u001b[92m+ PolynomialRoots v1.0.0\u001b[39m\n",
            "\u001b[32m\u001b[1mNo Changes\u001b[22m\u001b[39m to `~/.julia/environments/v1.5/Manifest.toml`\n",
            "\u001b[32m\u001b[1m  Resolving\u001b[22m\u001b[39m package versions...\n",
            "\u001b[32m\u001b[1mUpdating\u001b[22m\u001b[39m `~/.julia/environments/v1.5/Project.toml`\n",
            " \u001b[90m [bb331ad6] \u001b[39m\u001b[92m+ JOLI v0.7.13\u001b[39m\n",
            "\u001b[32m\u001b[1mNo Changes\u001b[22m\u001b[39m to `~/.julia/environments/v1.5/Manifest.toml`\n",
            "\u001b[32m\u001b[1m  Resolving\u001b[22m\u001b[39m package versions...\n",
            "\u001b[32m\u001b[1mNo Changes\u001b[22m\u001b[39m to `~/.julia/environments/v1.5/Project.toml`\n",
            "\u001b[32m\u001b[1mNo Changes\u001b[22m\u001b[39m to `~/.julia/environments/v1.5/Manifest.toml`\n",
            "\u001b[32m\u001b[1m  Resolving\u001b[22m\u001b[39m package versions...\n",
            "\u001b[32m\u001b[1mUpdating\u001b[22m\u001b[39m `~/.julia/environments/v1.5/Project.toml`\n",
            " \u001b[90m [42fd0dbc] \u001b[39m\u001b[92m+ IterativeSolvers v0.8.4\u001b[39m\n",
            "\u001b[32m\u001b[1mNo Changes\u001b[22m\u001b[39m to `~/.julia/environments/v1.5/Manifest.toml`\n",
            "\u001b[32m\u001b[1m  Resolving\u001b[22m\u001b[39m package versions...\n",
            "\u001b[32m\u001b[1mUpdating\u001b[22m\u001b[39m `~/.julia/environments/v1.5/Project.toml`\n",
            " \u001b[90m [39dd38d3] \u001b[39m\u001b[92m+ Dierckx v0.5.1\u001b[39m\n",
            "\u001b[32m\u001b[1mNo Changes\u001b[22m\u001b[39m to `~/.julia/environments/v1.5/Manifest.toml`\n",
            "\u001b[32m\u001b[1m  Resolving\u001b[22m\u001b[39m package versions...\n",
            "\u001b[32m\u001b[1mUpdating\u001b[22m\u001b[39m `~/.julia/environments/v1.5/Project.toml`\n",
            " \u001b[90m [de0858da] \u001b[39m\u001b[92m+ Printf\u001b[39m\n",
            "\u001b[32m\u001b[1mNo Changes\u001b[22m\u001b[39m to `~/.julia/environments/v1.5/Manifest.toml`\n",
            "\u001b[32m\u001b[1m  Resolving\u001b[22m\u001b[39m package versions...\n",
            "\u001b[32m\u001b[1mUpdating\u001b[22m\u001b[39m `~/.julia/environments/v1.5/Project.toml`\n",
            " \u001b[90m [7a1cc6ca] \u001b[39m\u001b[92m+ FFTW v1.2.4\u001b[39m\n",
            "\u001b[32m\u001b[1mNo Changes\u001b[22m\u001b[39m to `~/.julia/environments/v1.5/Manifest.toml`\n"
          ],
          "name": "stderr"
        }
      ]
    },
    {
      "cell_type": "markdown",
      "metadata": {
        "id": "_RyzHZK0DHMZ"
      },
      "source": [
        "JUDI dependencies"
      ]
    },
    {
      "cell_type": "code",
      "metadata": {
        "colab": {
          "base_uri": "https://localhost:8080/"
        },
        "id": "A1TPC7ioDFfB",
        "outputId": "325ec651-1a09-42ae-9407-b4492491bbfb"
      },
      "source": [
        "# IO\r\n",
        "Pkg.add(\"HDF5\")\r\n",
        "Pkg.add(\"JLD\")\r\n",
        "Pkg.add(\"JLD2\")\r\n",
        "\r\n",
        "# Plotting\r\n",
        "Pkg.add(\"PyPlot\")\r\n",
        "\r\n",
        "# Optimization\r\n",
        "Pkg.add(\"NLopt\")\r\n",
        "Pkg.add(\"IterativeSolvers\")\r\n",
        "Pkg.add(\"Optim\")\r\n",
        "Pkg.add(\"LineSearches\")\r\n",
        "Pkg.add(\"SetIntersectionProjection\")"
      ],
      "execution_count": 12,
      "outputs": [
        {
          "output_type": "stream",
          "text": [
            "\u001b[32m\u001b[1m  Resolving\u001b[22m\u001b[39m package versions...\n",
            "\u001b[32m\u001b[1m  Installed\u001b[22m\u001b[39m LibSSH2_jll ─ v1.9.0+3\n",
            "\u001b[32m\u001b[1m  Installed\u001b[22m\u001b[39m Blosc_jll ─── v1.14.3+1\n",
            "\u001b[32m\u001b[1m  Installed\u001b[22m\u001b[39m HDF5_jll ──── v1.12.0+1\n",
            "\u001b[32m\u001b[1m  Installed\u001b[22m\u001b[39m HDF5 ──────── v0.14.3\n",
            "\u001b[32m\u001b[1m  Installed\u001b[22m\u001b[39m OpenSSL_jll ─ v1.1.1+6\n",
            "\u001b[32m\u001b[1m  Installed\u001b[22m\u001b[39m LibCURL_jll ─ v7.70.0+2\n",
            "\u001b[32m\u001b[1m  Installed\u001b[22m\u001b[39m Zstd_jll ──── v1.4.5+2\n",
            "\u001b[32m\u001b[1m  Installed\u001b[22m\u001b[39m nghttp2_jll ─ v1.40.0+2\n",
            "\u001b[32m\u001b[1m  Installed\u001b[22m\u001b[39m Lz4_jll ───── v1.9.2+2\n",
            "\u001b[32m\u001b[1m  Installed\u001b[22m\u001b[39m Blosc ─────── v0.7.0\n",
            "######################################################################### 100.0%\n",
            "######################################################################### 100.0%\n",
            "######################################################################### 100.0%\n",
            "######################################################################### 100.0%\n",
            "######################################################################### 100.0%\n",
            "######################################################################### 100.0%\n",
            "######################################################################### 100.0%\n",
            "######################################################################### 100.0%\n",
            "\u001b[32m\u001b[1mUpdating\u001b[22m\u001b[39m `~/.julia/environments/v1.5/Project.toml`\n",
            " \u001b[90m [f67ccb44] \u001b[39m\u001b[92m+ HDF5 v0.14.3\u001b[39m\n",
            "\u001b[32m\u001b[1mUpdating\u001b[22m\u001b[39m `~/.julia/environments/v1.5/Manifest.toml`\n",
            " \u001b[90m [a74b3585] \u001b[39m\u001b[92m+ Blosc v0.7.0\u001b[39m\n",
            " \u001b[90m [0b7ba130] \u001b[39m\u001b[92m+ Blosc_jll v1.14.3+1\u001b[39m\n",
            " \u001b[90m [f67ccb44] \u001b[39m\u001b[92m+ HDF5 v0.14.3\u001b[39m\n",
            " \u001b[90m [0234f1f7] \u001b[39m\u001b[92m+ HDF5_jll v1.12.0+1\u001b[39m\n",
            " \u001b[90m [deac9b47] \u001b[39m\u001b[92m+ LibCURL_jll v7.70.0+2\u001b[39m\n",
            " \u001b[90m [29816b5a] \u001b[39m\u001b[92m+ LibSSH2_jll v1.9.0+3\u001b[39m\n",
            " \u001b[90m [5ced341a] \u001b[39m\u001b[92m+ Lz4_jll v1.9.2+2\u001b[39m\n",
            " \u001b[90m [458c3c95] \u001b[39m\u001b[92m+ OpenSSL_jll v1.1.1+6\u001b[39m\n",
            " \u001b[90m [3161d3a3] \u001b[39m\u001b[92m+ Zstd_jll v1.4.5+2\u001b[39m\n",
            " \u001b[90m [8e850ede] \u001b[39m\u001b[92m+ nghttp2_jll v1.40.0+2\u001b[39m\n",
            "\u001b[32m\u001b[1m   Building\u001b[22m\u001b[39m HDF5 → `~/.julia/packages/HDF5/d0V7K/deps/build.log`\n",
            "\u001b[32m\u001b[1m  Resolving\u001b[22m\u001b[39m package versions...\n",
            "\u001b[32m\u001b[1m  Installed\u001b[22m\u001b[39m JLD ──── v0.11.1\n",
            "\u001b[32m\u001b[1m  Installed\u001b[22m\u001b[39m FileIO ─ v1.4.5\n",
            "\u001b[32m\u001b[1mUpdating\u001b[22m\u001b[39m `~/.julia/environments/v1.5/Project.toml`\n",
            " \u001b[90m [4138dd39] \u001b[39m\u001b[92m+ JLD v0.11.1\u001b[39m\n",
            "\u001b[32m\u001b[1mUpdating\u001b[22m\u001b[39m `~/.julia/environments/v1.5/Manifest.toml`\n",
            " \u001b[90m [5789e2e9] \u001b[39m\u001b[92m+ FileIO v1.4.5\u001b[39m\n",
            " \u001b[90m [4138dd39] \u001b[39m\u001b[92m+ JLD v0.11.1\u001b[39m\n",
            "\u001b[32m\u001b[1m  Resolving\u001b[22m\u001b[39m package versions...\n",
            "\u001b[32m\u001b[1m  Installed\u001b[22m\u001b[39m CodecZlib ────────── v0.7.0\n",
            "\u001b[32m\u001b[1m  Installed\u001b[22m\u001b[39m JLD2 ─────────────── v0.3.1\n",
            "\u001b[32m\u001b[1m  Installed\u001b[22m\u001b[39m TranscodingStreams ─ v0.9.5\n",
            "\u001b[32m\u001b[1mUpdating\u001b[22m\u001b[39m `~/.julia/environments/v1.5/Project.toml`\n",
            " \u001b[90m [033835bb] \u001b[39m\u001b[92m+ JLD2 v0.3.1\u001b[39m\n",
            "\u001b[32m\u001b[1mUpdating\u001b[22m\u001b[39m `~/.julia/environments/v1.5/Manifest.toml`\n",
            " \u001b[90m [944b1d66] \u001b[39m\u001b[92m+ CodecZlib v0.7.0\u001b[39m\n",
            " \u001b[90m [033835bb] \u001b[39m\u001b[92m+ JLD2 v0.3.1\u001b[39m\n",
            " \u001b[90m [3bb67fe8] \u001b[39m\u001b[92m+ TranscodingStreams v0.9.5\u001b[39m\n",
            "\u001b[32m\u001b[1m  Resolving\u001b[22m\u001b[39m package versions...\n",
            "\u001b[32m\u001b[1m  Installed\u001b[22m\u001b[39m LaTeXStrings ─ v1.2.0\n",
            "\u001b[32m\u001b[1m  Installed\u001b[22m\u001b[39m PyPlot ─────── v2.9.0\n",
            "\u001b[32m\u001b[1mUpdating\u001b[22m\u001b[39m `~/.julia/environments/v1.5/Project.toml`\n",
            " \u001b[90m [d330b81b] \u001b[39m\u001b[92m+ PyPlot v2.9.0\u001b[39m\n",
            "\u001b[32m\u001b[1mUpdating\u001b[22m\u001b[39m `~/.julia/environments/v1.5/Manifest.toml`\n",
            " \u001b[90m [b964fa9f] \u001b[39m\u001b[92m+ LaTeXStrings v1.2.0\u001b[39m\n",
            " \u001b[90m [d330b81b] \u001b[39m\u001b[92m+ PyPlot v2.9.0\u001b[39m\n",
            "\u001b[32m\u001b[1m  Resolving\u001b[22m\u001b[39m package versions...\n",
            "\u001b[32m\u001b[1m  Installed\u001b[22m\u001b[39m IniFile ──────────── v0.5.0\n",
            "\u001b[32m\u001b[1m  Installed\u001b[22m\u001b[39m NLopt_jll ────────── v2.7.0+0\n",
            "\u001b[32m\u001b[1m  Installed\u001b[22m\u001b[39m BenchmarkTools ───── v0.5.0\n",
            "\u001b[32m\u001b[1m  Installed\u001b[22m\u001b[39m MutableArithmetics ─ v0.2.12\n",
            "\u001b[32m\u001b[1m  Installed\u001b[22m\u001b[39m NLopt ────────────── v0.6.1\n",
            "\u001b[32m\u001b[1m  Installed\u001b[22m\u001b[39m JSONSchema ───────── v0.3.3\n",
            "\u001b[32m\u001b[1m  Installed\u001b[22m\u001b[39m MathProgBase ─────── v0.7.8\n",
            "\u001b[32m\u001b[1m  Installed\u001b[22m\u001b[39m URIs ─────────────── v1.1.0\n",
            "\u001b[32m\u001b[1m  Installed\u001b[22m\u001b[39m ZipFile ──────────── v0.9.3\n",
            "\u001b[32m\u001b[1m  Installed\u001b[22m\u001b[39m Bzip2_jll ────────── v1.0.6+5\n",
            "\u001b[32m\u001b[1m  Installed\u001b[22m\u001b[39m CodecBzip2 ───────── v0.7.2\n",
            "\u001b[32m\u001b[1m  Installed\u001b[22m\u001b[39m HTTP ─────────────── v0.9.1\n",
            "\u001b[32m\u001b[1m  Installed\u001b[22m\u001b[39m MathOptInterface ─── v0.9.19\n",
            "######################################################################### 100.0%\n",
            "######################################################################### 100.0%\n",
            "\u001b[32m\u001b[1mUpdating\u001b[22m\u001b[39m `~/.julia/environments/v1.5/Project.toml`\n",
            " \u001b[90m [76087f3c] \u001b[39m\u001b[92m+ NLopt v0.6.1\u001b[39m\n",
            "\u001b[32m\u001b[1mUpdating\u001b[22m\u001b[39m `~/.julia/environments/v1.5/Manifest.toml`\n",
            " \u001b[90m [6e4b80f9] \u001b[39m\u001b[92m+ BenchmarkTools v0.5.0\u001b[39m\n",
            " \u001b[90m [6e34b625] \u001b[39m\u001b[92m+ Bzip2_jll v1.0.6+5\u001b[39m\n",
            " \u001b[90m [523fee87] \u001b[39m\u001b[92m+ CodecBzip2 v0.7.2\u001b[39m\n",
            " \u001b[90m [cd3eb016] \u001b[39m\u001b[92m+ HTTP v0.9.1\u001b[39m\n",
            " \u001b[90m [83e8ac13] \u001b[39m\u001b[92m+ IniFile v0.5.0\u001b[39m\n",
            " \u001b[90m [7d188eb4] \u001b[39m\u001b[92m+ JSONSchema v0.3.3\u001b[39m\n",
            " \u001b[90m [b8f27783] \u001b[39m\u001b[92m+ MathOptInterface v0.9.19\u001b[39m\n",
            " \u001b[90m [fdba3010] \u001b[39m\u001b[92m+ MathProgBase v0.7.8\u001b[39m\n",
            " \u001b[90m [d8a4904e] \u001b[39m\u001b[92m+ MutableArithmetics v0.2.12\u001b[39m\n",
            " \u001b[90m [76087f3c] \u001b[39m\u001b[92m+ NLopt v0.6.1\u001b[39m\n",
            " \u001b[90m [079eb43e] \u001b[39m\u001b[92m+ NLopt_jll v2.7.0+0\u001b[39m\n",
            " \u001b[90m [5c2747f8] \u001b[39m\u001b[92m+ URIs v1.1.0\u001b[39m\n",
            " \u001b[90m [a5390f91] \u001b[39m\u001b[92m+ ZipFile v0.9.3\u001b[39m\n",
            "\u001b[32m\u001b[1m  Resolving\u001b[22m\u001b[39m package versions...\n",
            "\u001b[32m\u001b[1mNo Changes\u001b[22m\u001b[39m to `~/.julia/environments/v1.5/Project.toml`\n",
            "\u001b[32m\u001b[1mNo Changes\u001b[22m\u001b[39m to `~/.julia/environments/v1.5/Manifest.toml`\n",
            "\u001b[32m\u001b[1m  Resolving\u001b[22m\u001b[39m package versions...\n",
            "\u001b[32m\u001b[1m  Installed\u001b[22m\u001b[39m PositiveFactorizations ─ v0.2.4\n",
            "\u001b[32m\u001b[1m  Installed\u001b[22m\u001b[39m Missings ─────────────── v0.4.4\n",
            "\u001b[32m\u001b[1m  Installed\u001b[22m\u001b[39m DiffResults ──────────── v1.0.3\n",
            "\u001b[32m\u001b[1m  Installed\u001b[22m\u001b[39m CommonSubexpressions ─── v0.3.0\n",
            "\u001b[32m\u001b[1m  Installed\u001b[22m\u001b[39m StaticArrays ─────────── v1.0.1\n",
            "\u001b[32m\u001b[1m  Installed\u001b[22m\u001b[39m LineSearches ─────────── v7.1.0\n",
            "\u001b[32m\u001b[1m  Installed\u001b[22m\u001b[39m ForwardDiff ──────────── v0.10.14\n",
            "\u001b[32m\u001b[1m  Installed\u001b[22m\u001b[39m Optim ────────────────── v1.2.0\n",
            "\u001b[32m\u001b[1m  Installed\u001b[22m\u001b[39m UnPack ───────────────── v1.0.2\n",
            "\u001b[32m\u001b[1m  Installed\u001b[22m\u001b[39m DataAPI ──────────────── v1.4.0\n",
            "\u001b[32m\u001b[1m  Installed\u001b[22m\u001b[39m FillArrays ───────────── v0.9.7\n",
            "\u001b[32m\u001b[1m  Installed\u001b[22m\u001b[39m StatsBase ────────────── v0.33.2\n",
            "\u001b[32m\u001b[1m  Installed\u001b[22m\u001b[39m DiffRules ────────────── v1.0.2\n",
            "\u001b[32m\u001b[1m  Installed\u001b[22m\u001b[39m FiniteDiff ───────────── v2.7.2\n",
            "\u001b[32m\u001b[1m  Installed\u001b[22m\u001b[39m ArrayInterface ───────── v2.14.4\n",
            "\u001b[32m\u001b[1m  Installed\u001b[22m\u001b[39m Parameters ───────────── v0.12.1\n",
            "\u001b[32m\u001b[1m  Installed\u001b[22m\u001b[39m SortingAlgorithms ────── v0.3.1\n",
            "\u001b[32m\u001b[1m  Installed\u001b[22m\u001b[39m NLSolversBase ────────── v7.7.1\n",
            "\u001b[32m\u001b[1mUpdating\u001b[22m\u001b[39m `~/.julia/environments/v1.5/Project.toml`\n",
            " \u001b[90m [429524aa] \u001b[39m\u001b[92m+ Optim v1.2.0\u001b[39m\n",
            "\u001b[32m\u001b[1mUpdating\u001b[22m\u001b[39m `~/.julia/environments/v1.5/Manifest.toml`\n",
            " \u001b[90m [4fba245c] \u001b[39m\u001b[92m+ ArrayInterface v2.14.4\u001b[39m\n",
            " \u001b[90m [bbf7d656] \u001b[39m\u001b[92m+ CommonSubexpressions v0.3.0\u001b[39m\n",
            " \u001b[90m [9a962f9c] \u001b[39m\u001b[92m+ DataAPI v1.4.0\u001b[39m\n",
            " \u001b[90m [163ba53b] \u001b[39m\u001b[92m+ DiffResults v1.0.3\u001b[39m\n",
            " \u001b[90m [b552c78f] \u001b[39m\u001b[92m+ DiffRules v1.0.2\u001b[39m\n",
            " \u001b[90m [1a297f60] \u001b[39m\u001b[92m+ FillArrays v0.9.7\u001b[39m\n",
            " \u001b[90m [6a86dc24] \u001b[39m\u001b[92m+ FiniteDiff v2.7.2\u001b[39m\n",
            " \u001b[90m [f6369f11] \u001b[39m\u001b[92m+ ForwardDiff v0.10.14\u001b[39m\n",
            " \u001b[90m [d3d80556] \u001b[39m\u001b[92m+ LineSearches v7.1.0\u001b[39m\n",
            " \u001b[90m [e1d29d7a] \u001b[39m\u001b[92m+ Missings v0.4.4\u001b[39m\n",
            " \u001b[90m [d41bc354] \u001b[39m\u001b[92m+ NLSolversBase v7.7.1\u001b[39m\n",
            " \u001b[90m [429524aa] \u001b[39m\u001b[92m+ Optim v1.2.0\u001b[39m\n",
            " \u001b[90m [d96e819e] \u001b[39m\u001b[92m+ Parameters v0.12.1\u001b[39m\n",
            " \u001b[90m [85a6dd25] \u001b[39m\u001b[92m+ PositiveFactorizations v0.2.4\u001b[39m\n",
            " \u001b[90m [a2af1166] \u001b[39m\u001b[92m+ SortingAlgorithms v0.3.1\u001b[39m\n",
            " \u001b[90m [90137ffa] \u001b[39m\u001b[92m+ StaticArrays v1.0.1\u001b[39m\n",
            " \u001b[90m [2913bbd2] \u001b[39m\u001b[92m+ StatsBase v0.33.2\u001b[39m\n",
            " \u001b[90m [3a884ed6] \u001b[39m\u001b[92m+ UnPack v1.0.2\u001b[39m\n",
            "\u001b[32m\u001b[1m  Resolving\u001b[22m\u001b[39m package versions...\n",
            "\u001b[32m\u001b[1mUpdating\u001b[22m\u001b[39m `~/.julia/environments/v1.5/Project.toml`\n",
            " \u001b[90m [d3d80556] \u001b[39m\u001b[92m+ LineSearches v7.1.0\u001b[39m\n",
            "\u001b[32m\u001b[1mNo Changes\u001b[22m\u001b[39m to `~/.julia/environments/v1.5/Manifest.toml`\n",
            "\u001b[32m\u001b[1m  Resolving\u001b[22m\u001b[39m package versions...\n",
            "\u001b[32m\u001b[1m  Installed\u001b[22m\u001b[39m WoodburyMatrices ────────── v0.5.3\n",
            "\u001b[32m\u001b[1m  Installed\u001b[22m\u001b[39m AxisAlgorithms ──────────── v1.0.0\n",
            "\u001b[32m\u001b[1m  Installed\u001b[22m\u001b[39m Ratios ──────────────────── v0.4.0\n",
            "\u001b[32m\u001b[1m  Installed\u001b[22m\u001b[39m Interpolations ──────────── v0.13.1\n"
          ],
          "name": "stderr"
        },
        {
          "output_type": "stream",
          "text": [
            "\u001b[?25l    "
          ],
          "name": "stdout"
        },
        {
          "output_type": "stream",
          "text": [
            "\u001b[32m\u001b[1m    Cloning\u001b[22m\u001b[39m [335f7d24-6316-57dd-9c3a-df470f2b739e] SetIntersectionProjection from https://GitHub.com/slimgroup/SetIntersectionProjection.jl.git\n"
          ],
          "name": "stderr"
        },
        {
          "output_type": "stream",
          "text": [
            "\u001b[2K\u001b[?25h"
          ],
          "name": "stdout"
        },
        {
          "output_type": "stream",
          "text": [
            "\u001b[32m\u001b[1m  Installed\u001b[22m\u001b[39m SetIntersectionProjection ─ v0.1.0\n",
            "\u001b[32m\u001b[1mUpdating\u001b[22m\u001b[39m `~/.julia/environments/v1.5/Project.toml`\n",
            " \u001b[90m [335f7d24] \u001b[39m\u001b[92m+ SetIntersectionProjection v0.1.0\u001b[39m\n",
            "\u001b[32m\u001b[1mUpdating\u001b[22m\u001b[39m `~/.julia/environments/v1.5/Manifest.toml`\n",
            " \u001b[90m [13072b0f] \u001b[39m\u001b[92m+ AxisAlgorithms v1.0.0\u001b[39m\n",
            " \u001b[90m [a98d9a8b] \u001b[39m\u001b[92m+ Interpolations v0.13.1\u001b[39m\n",
            " \u001b[90m [c84ed2f1] \u001b[39m\u001b[92m+ Ratios v0.4.0\u001b[39m\n",
            " \u001b[90m [335f7d24] \u001b[39m\u001b[92m+ SetIntersectionProjection v0.1.0\u001b[39m\n",
            " \u001b[90m [efce3f68] \u001b[39m\u001b[92m+ WoodburyMatrices v0.5.3\u001b[39m\n"
          ],
          "name": "stderr"
        }
      ]
    },
    {
      "cell_type": "markdown",
      "metadata": {
        "id": "IL6iVezPJpNs"
      },
      "source": [
        "# **JUDI examples**"
      ]
    },
    {
      "cell_type": "markdown",
      "metadata": {
        "id": "yPiHX7R48w1l"
      },
      "source": [
        "## Script examples"
      ]
    },
    {
      "cell_type": "markdown",
      "metadata": {
        "id": "w54DAyO3-SO_"
      },
      "source": [
        "### *extended_source_lsqr.jl*"
      ]
    },
    {
      "cell_type": "code",
      "metadata": {
        "colab": {
          "base_uri": "https://localhost:8080/"
        },
        "id": "FLdcrKMaEjuJ",
        "outputId": "a19497a3-8da0-4934-e06e-b36afadf4467"
      },
      "source": [
        ";cd /content/JUDI.jl/examples/scripts"
      ],
      "execution_count": null,
      "outputs": [
        {
          "output_type": "stream",
          "text": [
            "/content/JUDI.jl/examples/scripts\n"
          ],
          "name": "stdout"
        }
      ]
    },
    {
      "cell_type": "code",
      "metadata": {
        "colab": {
          "base_uri": "https://localhost:8080/"
        },
        "id": "74h08fwt-lg7",
        "outputId": "92d3e1a3-8e4f-4d65-d0d1-889f1389eac0"
      },
      "source": [
        "# Example for basic 2D modeling:\r\n",
        "# The receiver positions and the source wavelets are the same for each of the four experiments.\r\n",
        "# Author: Philipp Witte, pwitte@eos.ubc.ca\r\n",
        "# Date: January 2017\r\n",
        "#\r\n",
        "\r\n",
        "using JUDI.TimeModeling, SegyIO, LinearAlgebra, PyPlot, IterativeSolvers, JOLI\r\n",
        "\r\n",
        "# Set up model structure\r\n",
        "n = (120, 100)   # (x,y,z) or (x,z)\r\n",
        "d = (10., 10.)\r\n",
        "o = (0., 0.)\r\n",
        "\r\n",
        "# Velocity [km/s]\r\n",
        "v = ones(Float32,n) .+ 0.4f0\r\n",
        "v[:,Int(round(end/2)):end] .= 5f0\r\n",
        "\r\n",
        "# Slowness squared [s^2/km^2]\r\n",
        "m = (1f0 ./ v).^2\r\n",
        "\r\n",
        "# Setup info and model structure\r\n",
        "nsrc = 1\t# number of sources\r\n",
        "model = Model(n, d, o, m)\r\n",
        "\r\n",
        "# Set up receiver geometry\r\n",
        "nxrec = 120\r\n",
        "xrec = range(50f0, stop=1150f0, length=nxrec)\r\n",
        "yrec = 0f0\r\n",
        "zrec = range(50f0, stop=50f0, length=nxrec)\r\n",
        "\r\n",
        "# receiver sampling and recording time\r\n",
        "time = 2000f0   # receiver recording time [ms]\r\n",
        "dt = 4f0    # receiver sampling interval [ms]\r\n",
        "\r\n",
        "# Set up receiver structure\r\n",
        "recGeometry = Geometry(xrec, yrec, zrec; dt=dt, t=time, nsrc=nsrc)\r\n",
        "\r\n",
        "# Source wavelet\r\n",
        "f0 = 0.01f0     # MHz\r\n",
        "wavelet = ricker_wavelet(time, dt, f0)\r\n",
        "\r\n",
        "# Set up info structure for linear operators\r\n",
        "ntComp = get_computational_nt(recGeometry, model)\r\n",
        "info = Info(prod(n), nsrc, ntComp)"
      ],
      "execution_count": null,
      "outputs": [
        {
          "output_type": "stream",
          "text": [
            "┌ Info: Precompiling JUDI [f3b833dc-6b2e-5b9c-b940-873ed6319979]\n",
            "└ @ Base loading.jl:1278\n"
          ],
          "name": "stderr"
        },
        {
          "output_type": "stream",
          "text": [
            "Downloading artifact: CUDA101\n",
            "\u001b[?25l"
          ],
          "name": "stdout"
        },
        {
          "output_type": "stream",
          "text": [
            "######################################################################### 100.0%\n"
          ],
          "name": "stderr"
        },
        {
          "output_type": "stream",
          "text": [
            "\u001b[1A\u001b[2K\u001b[?25hDownloading artifact: CUDNN_CUDA101\n",
            "\u001b[?25l"
          ],
          "name": "stdout"
        },
        {
          "output_type": "stream",
          "text": [
            "######################################################################### 100.0%\n"
          ],
          "name": "stderr"
        },
        {
          "output_type": "stream",
          "text": [
            "\u001b[1A\u001b[2K\u001b[?25hDownloading artifact: CUTENSOR_CUDA101\n",
            "\u001b[?25l"
          ],
          "name": "stdout"
        },
        {
          "output_type": "stream",
          "text": [
            "######################################################################### 100.0%\n"
          ],
          "name": "stderr"
        },
        {
          "output_type": "stream",
          "text": [
            "\u001b[1A\u001b[2K\u001b[?25h"
          ],
          "name": "stdout"
        },
        {
          "output_type": "stream",
          "text": [
            "┌ Info: Precompiling PyPlot [d330b81b-6aea-500a-939a-2ce795aea3ee]\n",
            "└ @ Base loading.jl:1278\n",
            "WARNING: using PyPlot.plt in module Main conflicts with an existing identifier.\n"
          ],
          "name": "stderr"
        },
        {
          "output_type": "execute_result",
          "data": {
            "text/plain": [
              "Info(12000, 1, Any[2646])"
            ]
          },
          "metadata": {
            "tags": []
          },
          "execution_count": 25
        }
      ]
    },
    {
      "cell_type": "code",
      "metadata": {
        "colab": {
          "base_uri": "https://localhost:8080/",
          "height": 911
        },
        "id": "6LeqnmIb-msO",
        "outputId": "64a5bfa6-96a4-406d-972c-03ae06b4135d"
      },
      "source": [
        "###################################################################################################\r\n",
        "\r\n",
        "# Write shots as segy files to disk\r\n",
        "opt = Options()\r\n",
        "\r\n",
        "# Setup operators\r\n",
        "Pr = judiProjection(info, recGeometry)\r\n",
        "F = judiModeling(info, model; options=opt)\r\n",
        "\r\n",
        "# Random weights (size of the model)\r\n",
        "w = judiWeights(randn(Float32, model.n))\r\n",
        "\r\n",
        "# Create operator for injecting the weights, multiplied by the provided wavelet(s)\r\n",
        "Pw = judiLRWF(info, wavelet)\r\n",
        "\r\n",
        "# Model observed data w/ extended source\r\n",
        "lambda = 1f2\r\n",
        "I = joDirac(info.n, DDT=Float32, RDT=Float32)\r\n",
        "F = Pr*F*adjoint(Pw)\r\n",
        "F̄ = [F; lambda*I]\r\n",
        "\r\n",
        "# Simultaneous observed data\r\n",
        "d_sim = F*w\r\n",
        "\r\n",
        "# # Adjoint operation\r\n",
        "w_adj = adjoint(F)*d_sim\r\n",
        "\r\n",
        "# # LSQR\r\n",
        "w_inv = 0f0 .* w\r\n",
        "w_inv_no_damp = 0f0 .* w\r\n",
        "lsqr!(w_inv, F̄, [d_sim; lambda*w]; maxiter=2, verbose=true, damp=1e2)\r\n",
        "lsqr!(w_inv_no_damp, F, d_sim; maxiter=2, verbose=true, damp=1e2)\r\n",
        "\r\n",
        "d_pred = F*w_inv;\r\n",
        "d_pred_no_damp = F*w_inv_no_damp;\r\n",
        "\r\n",
        "# Plot results\r\n",
        "figure()\r\n",
        "subplot(1,3,1)\r\n",
        "imshow(d_sim.data[1], vmin=-5e2, vmax=5e2, cmap=\"gray\"); title(\"Observed data\")\r\n",
        "subplot(1,3,2)\r\n",
        "imshow(d_pred.data[1], vmin=-2e2, vmax=2e2, cmap=\"gray\"); title(\"Predicted data\")\r\n",
        "subplot(1,3,3)\r\n",
        "imshow(d_pred_no_damp.data[1], vmin=-2e2, vmax=2e2, cmap=\"gray\"); title(\"Predicted data no damp\")"
      ],
      "execution_count": null,
      "outputs": [
        {
          "output_type": "stream",
          "text": [
            "=== lsqr ===\n",
            "iter\tresnorm\t\t  anorm\t\t  cnorm\t\t  rnorm\n",
            " "
          ],
          "name": "stdout"
        },
        {
          "output_type": "stream",
          "text": [
            "Operator `forward` run in 0.17 s\n",
            "Operator `adjoint` run in 0.17 s\n"
          ],
          "name": "stderr"
        },
        {
          "output_type": "stream",
          "text": [
            " 1\t2.25e+04\t6.10e-01\t2.27e-02\t6.41e-01\n",
            " "
          ],
          "name": "stdout"
        },
        {
          "output_type": "stream",
          "text": [
            "Operator `forward` run in 0.16 s\n",
            "Operator `adjoint` run in 0.17 s\n",
            "Operator `forward` run in 0.17 s\n",
            "Operator `adjoint` run in 0.16 s\n"
          ],
          "name": "stderr"
        },
        {
          "output_type": "stream",
          "text": [
            " 2\t1.76e+04\t2.92e-01\t8.59e-03\t5.03e-01\n",
            "\n"
          ],
          "name": "stdout"
        },
        {
          "output_type": "stream",
          "text": [
            "Operator `forward` run in 0.16 s\n",
            "Operator `adjoint` run in 0.17 s\n"
          ],
          "name": "stderr"
        },
        {
          "output_type": "stream",
          "text": [
            "=== lsqr ===\n",
            "iter\tresnorm\t\t  anorm\t\t  cnorm\t\t  rnorm\n",
            "  1\t1.97e+04\t6.95e-01\t8.12e-03\t5.91e-01\n",
            " "
          ],
          "name": "stdout"
        },
        {
          "output_type": "stream",
          "text": [
            "Operator `forward` run in 0.16 s\n",
            "Operator `adjoint` run in 0.17 s\n",
            "Operator `forward` run in 0.16 s\n",
            "Operator `adjoint` run in 0.18 s\n"
          ],
          "name": "stderr"
        },
        {
          "output_type": "display_data",
          "data": {
            "image/png": "[encoded data removed]",
            "text/plain": [
              "Figure(PyObject <Figure size 640x480 with 3 Axes>)"
            ]
          },
          "metadata": {
            "tags": []
          }
        },
        {
          "output_type": "stream",
          "text": [
            " 2\t1.96e+04\t6.54e-01\t7.07e-04\t5.88e-01\n",
            "\n"
          ],
          "name": "stdout"
        },
        {
          "output_type": "stream",
          "text": [
            "Operator `forward` run in 0.16 s\n",
            "Operator `adjoint` run in 0.17 s\n",
            "Operator `forward` run in 0.16 s\n",
            "Operator `forward` run in 0.16 s\n"
          ],
          "name": "stderr"
        },
        {
          "output_type": "execute_result",
          "data": {
            "text/plain": [
              "PyObject Text(0.5, 1.0, 'Predicted data no damp')"
            ]
          },
          "metadata": {
            "tags": []
          },
          "execution_count": 26
        }
      ]
    },
    {
      "cell_type": "code",
      "metadata": {
        "colab": {
          "base_uri": "https://localhost:8080/",
          "height": 469
        },
        "id": "juukNh1i-viz",
        "outputId": "7474ddee-82f8-463c-a435-3ec114d972c2"
      },
      "source": [
        "figure()\r\n",
        "subplot(2,2,1)\r\n",
        "imshow(w.weights[1], vmin=-3, vmax=3, cmap=\"gray\"); title(\"Weights\")\r\n",
        "subplot(2,2,2)\r\n",
        "imshow(w_adj.weights[1], vmin=minimum(w_adj), vmax=maximum(w_adj), cmap=\"gray\"); title(\"Adjoint\")\r\n",
        "subplot(2,2,3)\r\n",
        "imshow(w_inv.weights[1], vmin=minimum(w_inv), vmax=maximum(w_inv), cmap=\"gray\"); title(\"D-LSQR\")\r\n",
        "subplot(2,2,4)\r\n",
        "imshow(w_inv_no_damp.weights[1], vmin=minimum(w_inv), vmax=maximum(w_inv), cmap=\"gray\"); title(\"LSQR\")"
      ],
      "execution_count": null,
      "outputs": [
        {
          "output_type": "display_data",
          "data": {
            "image/png": "[encoded data removed]",
            "text/plain": [
              "Figure(PyObject <Figure size 640x480 with 4 Axes>)"
            ]
          },
          "metadata": {
            "tags": []
          }
        },
        {
          "output_type": "execute_result",
          "data": {
            "text/plain": [
              "PyObject Text(0.5, 1.0, 'LSQR')"
            ]
          },
          "metadata": {
            "tags": []
          },
          "execution_count": 27
        }
      ]
    },
    {
      "cell_type": "markdown",
      "metadata": {
        "id": "t0oGhpaYA_xZ"
      },
      "source": [
        "### *fwi_example_2D.jl*"
      ]
    },
    {
      "cell_type": "code",
      "metadata": {
        "colab": {
          "base_uri": "https://localhost:8080/"
        },
        "id": "tNJKLID1EnjY",
        "outputId": "6556d184-1f15-4bca-d546-330b4446f3f7"
      },
      "source": [
        "; cd /content/JUDI.jl/examples/scripts"
      ],
      "execution_count": 13,
      "outputs": [
        {
          "output_type": "stream",
          "text": [
            "/content/JUDI.jl/examples/scripts\n"
          ],
          "name": "stdout"
        }
      ]
    },
    {
      "cell_type": "code",
      "metadata": {
        "id": "gJvOGYbDBM9B",
        "colab": {
          "base_uri": "https://localhost:8080/"
        },
        "outputId": "0305d779-8f07-4fc4-a60d-64a2e0dd5573"
      },
      "source": [
        "# 2D FWI on Overthrust model using minConf library\r\n",
        "# Author: Philipp Witte, pwitte@eoas.ubc.ca\r\n",
        "# Date: December 2017\r\n",
        "#\r\n",
        "\r\n",
        "using Statistics, Random, LinearAlgebra\r\n",
        "using JUDI.TimeModeling, JUDI.SLIM_optim, HDF5, SegyIO, PyPlot\r\n",
        "\r\n",
        "# Load starting model\r\n",
        "n,d,o,m0 = read(h5open(\"../../data/overthrust_model.h5\",\"r\"), \"n\", \"d\", \"o\", \"m0\")\r\n",
        "model0 = Model((n[1],n[2]), (d[1],d[2]), (o[1],o[2]), m0)\r\n",
        "\r\n",
        "# Bound constraints\r\n",
        "v0 = sqrt.(1f0 ./ model0.m)\r\n",
        "vmin = ones(Float32,model0.n) .* 1.3f0\r\n",
        "vmax = ones(Float32,model0.n) .* 6.5f0\r\n",
        "vmin[:,1:21] .= v0[:,1:21]   # keep water column fixed\r\n",
        "vmax[:,1:21] .= v0[:,1:21]\r\n",
        "\r\n",
        "# Slowness squared [s^2/km^2]\r\n",
        "mmin = vec((1f0 ./ vmax).^2)\r\n",
        "mmax = vec((1f0 ./ vmin).^2)\r\n",
        "\r\n",
        "# Load data\r\n",
        "block = segy_read(\"../../data/overthrust_shot_records.segy\")\r\n",
        "d_obs = judiVector(block)\r\n",
        "\r\n",
        "# Set up wavelet\r\n",
        "src_geometry = Geometry(block; key=\"source\")\r\n",
        "wavelet = ricker_wavelet(src_geometry.t[1],src_geometry.dt[1],0.008f0)  # 8 Hz wavelet\r\n",
        "q = judiVector(src_geometry,wavelet)"
      ],
      "execution_count": 14,
      "outputs": [
        {
          "output_type": "stream",
          "text": [
            "┌ Info: Precompiling JUDI [f3b833dc-6b2e-5b9c-b940-873ed6319979]\n",
            "└ @ Base loading.jl:1278\n"
          ],
          "name": "stderr"
        },
        {
          "output_type": "stream",
          "text": [
            "Downloading artifact: CUDA101\n",
            "\u001b[?25l"
          ],
          "name": "stdout"
        },
        {
          "output_type": "stream",
          "text": [
            "######################################################################### 100.0%\n"
          ],
          "name": "stderr"
        },
        {
          "output_type": "stream",
          "text": [
            "\u001b[1A\u001b[2K\u001b[?25hDownloading artifact: CUDNN_CUDA101\n",
            "\u001b[?25l"
          ],
          "name": "stdout"
        },
        {
          "output_type": "stream",
          "text": [
            "######################################################################### 100.0%\n"
          ],
          "name": "stderr"
        },
        {
          "output_type": "stream",
          "text": [
            "\u001b[1A\u001b[2K\u001b[?25hDownloading artifact: CUTENSOR_CUDA101\n",
            "\u001b[?25l"
          ],
          "name": "stdout"
        },
        {
          "output_type": "stream",
          "text": [
            "######################################################################### 100.0%\n"
          ],
          "name": "stderr"
        },
        {
          "output_type": "stream",
          "text": [
            "\u001b[1A\u001b[2K\u001b[?25h"
          ],
          "name": "stdout"
        },
        {
          "output_type": "stream",
          "text": [
            "┌ Info: Precompiling HDF5 [f67ccb44-e63f-5c2f-98bd-6dc0ccc4ba2f]\n",
            "└ @ Base loading.jl:1278\n",
            "┌ Info: Precompiling PyPlot [d330b81b-6aea-500a-939a-2ce795aea3ee]\n",
            "└ @ Base loading.jl:1278\n",
            "┌ Warning: Fixed length trace flag set in stream: IOBuffer(data=UInt8[...], readable=true, writable=false, seekable=true, append=false, size=7076688, maxsize=Inf, ptr=3601, mark=-1)\n",
            "└ @ SegyIO /root/.julia/packages/SegyIO/uw4ZW/src/read/read_file.jl:26\n"
          ],
          "name": "stderr"
        },
        {
          "output_type": "execute_result",
          "data": {
            "text/plain": [
              "judiVector{Float32}(\"Seismic data vector\", 8016, 1, 16, GeometryIC(Any[400.0f0, 1013.333f0, 1626.667f0, 2240.0f0, 2853.333f0, 3466.666f0, 4080.0f0, 4693.334f0, 5306.666f0, 5920.0f0, 6533.334f0, 7146.666f0, 7760.0f0, 8373.333f0, 8986.667f0, 9600.0f0], Any[0.0f0, 0.0f0, 0.0f0, 0.0f0, 0.0f0, 0.0f0, 0.0f0, 0.0f0, 0.0f0, 0.0f0, 0.0f0, 0.0f0, 0.0f0, 0.0f0, 0.0f0, 0.0f0], Any[50.0f0, 50.0f0, 50.0f0, 50.0f0, 50.0f0, 50.0f0, 50.0f0, 50.0f0, 50.0f0, 50.0f0, 50.0f0, 50.0f0, 50.0f0, 50.0f0, 50.0f0, 50.0f0], Any[4.0f0, 4.0f0, 4.0f0, 4.0f0, 4.0f0, 4.0f0, 4.0f0, 4.0f0, 4.0f0, 4.0f0, 4.0f0, 4.0f0, 4.0f0, 4.0f0, 4.0f0, 4.0f0], Any[501, 501, 501, 501, 501, 501, 501, 501, 501, 501, 501, 501, 501, 501, 501, 501], Any[2000.0f0, 2000.0f0, 2000.0f0, 2000.0f0, 2000.0f0, 2000.0f0, 2000.0f0, 2000.0f0, 2000.0f0, 2000.0f0, 2000.0f0, 2000.0f0, 2000.0f0, 2000.0f0, 2000.0f0, 2000.0f0]), Array[Float32[-0.00096925104; -0.0016848503; … ; -0.0; -0.0], Float32[-0.00096925104; -0.0016848503; … ; -0.0; -0.0], Float32[-0.00096925104; -0.0016848503; … ; -0.0; -0.0], Float32[-0.00096925104; -0.0016848503; … ; -0.0; -0.0], Float32[-0.00096925104; -0.0016848503; … ; -0.0; -0.0], Float32[-0.00096925104; -0.0016848503; … ; -0.0; -0.0], Float32[-0.00096925104; -0.0016848503; … ; -0.0; -0.0], Float32[-0.00096925104; -0.0016848503; … ; -0.0; -0.0], Float32[-0.00096925104; -0.0016848503; … ; -0.0; -0.0], Float32[-0.00096925104; -0.0016848503; … ; -0.0; -0.0], Float32[-0.00096925104; -0.0016848503; … ; -0.0; -0.0], Float32[-0.00096925104; -0.0016848503; … ; -0.0; -0.0], Float32[-0.00096925104; -0.0016848503; … ; -0.0; -0.0], Float32[-0.00096925104; -0.0016848503; … ; -0.0; -0.0], Float32[-0.00096925104; -0.0016848503; … ; -0.0; -0.0], Float32[-0.00096925104; -0.0016848503; … ; -0.0; -0.0]])"
            ]
          },
          "metadata": {
            "tags": []
          },
          "execution_count": 14
        }
      ]
    },
    {
      "cell_type": "code",
      "metadata": {
        "id": "g1URo6ZQBOlH",
        "colab": {
          "base_uri": "https://localhost:8080/",
          "height": 1000
        },
        "outputId": "deefaac6-aa9b-4d0b-9361-999fd0294c91"
      },
      "source": [
        "############################### FWI ###########################################\r\n",
        "\r\n",
        "# Optimization parameters\r\n",
        "niterations = 10\r\n",
        "batchsize = 16\r\n",
        "fhistory_SGD = zeros(Float32,niterations)\r\n",
        "\r\n",
        "# Projection operator for bound constraints\r\n",
        "proj(x) = reshape(median([vec(mmin) vec(x) vec(mmax)]; dims=2),model0.n)\r\n",
        "\r\n",
        "# Main loop\r\n",
        "for j=1:niterations\r\n",
        "\r\n",
        "    # get fwi objective function value and gradient\r\n",
        "    i = randperm(d_obs.nsrc)[1:batchsize]\r\n",
        "    fval, gradient = fwi_objective(model0,q[i],d_obs[i])\r\n",
        "    println(\"FWI iteration no: \",j,\"; function value: \",fval)\r\n",
        "    fhistory_SGD[j] = fval\r\n",
        "\r\n",
        "\t# linesearch\r\n",
        "\tstep = backtracking_linesearch(model0, q[i], d_obs[i], fval, gradient, proj; alpha=1f0)\r\n",
        "\r\n",
        "\t# Update model and bound projection\r\n",
        "\tmodel0.m = proj(model0.m + reshape(step,model0.n))\r\n",
        "end"
      ],
      "execution_count": 15,
      "outputs": [
        {
          "output_type": "stream",
          "text": [
            "FWI iteration no: 1; function value: 542631.25\n"
          ],
          "name": "stdout"
        },
        {
          "output_type": "stream",
          "text": [
            "Operator `forward` run in 0.29 s\n",
            "Operator `gradient` run in 0.32 s\n",
            "Operator `forward` run in 0.28 s\n",
            "Operator `gradient` run in 0.30 s\n",
            "Operator `forward` run in 0.29 s\n",
            "Operator `gradient` run in 0.30 s\n",
            "Operator `forward` run in 0.28 s\n",
            "Operator `gradient` run in 0.30 s\n",
            "Operator `forward` run in 0.28 s\n",
            "Operator `gradient` run in 0.30 s\n",
            "Operator `forward` run in 0.28 s\n",
            "Operator `gradient` run in 0.30 s\n",
            "Operator `forward` run in 0.28 s\n",
            "Operator `gradient` run in 0.30 s\n",
            "Operator `forward` run in 0.28 s\n",
            "Operator `gradient` run in 0.30 s\n",
            "Operator `forward` run in 0.29 s\n",
            "Operator `gradient` run in 0.30 s\n",
            "Operator `forward` run in 0.27 s\n",
            "Operator `gradient` run in 0.30 s\n",
            "Operator `forward` run in 0.28 s\n",
            "Operator `gradient` run in 0.30 s\n",
            "Operator `forward` run in 0.28 s\n",
            "Operator `gradient` run in 0.32 s\n",
            "Operator `forward` run in 0.28 s\n",
            "Operator `gradient` run in 0.30 s\n",
            "Operator `forward` run in 0.28 s\n",
            "Operator `gradient` run in 0.30 s\n",
            "Operator `forward` run in 0.29 s\n",
            "Operator `gradient` run in 0.30 s\n",
            "Operator `forward` run in 0.29 s\n",
            "Operator `gradient` run in 0.30 s\n"
          ],
          "name": "stderr"
        },
        {
          "output_type": "error",
          "ename": "LoadError",
          "evalue": "ignored",
          "traceback": [
            "BoundsError: attempt to access 401×121 Array{Float32,2} at index [402, 1]",
            "",
            "Stacktrace:",
            " [1] getindex(::Array{Float32,2}, ::Int64, ::Int64) at ./array.jl:810",
            " [2] getindex(::PhysicalParameter{Float32}, ::Int64, ::Int64) at /root/.julia/dev/JUDI/src/TimeModeling/ModelStructure.jl:125",
            " [3] _unsafe_getindex_rs at ./reshapedarray.jl:249 [inlined]",
            " [4] _unsafe_getindex at ./reshapedarray.jl:246 [inlined]",
            " [5] getindex at ./reshapedarray.jl:234 [inlined]",
            " [6] _getindex at ./abstractarray.jl:1100 [inlined]",
            " [7] getindex at ./abstractarray.jl:1060 [inlined]",
            " [8] _broadcast_getindex at ./broadcast.jl:614 [inlined]",
            " [9] _getindex at ./broadcast.jl:645 [inlined]",
            " [10] _getindex at ./broadcast.jl:644 [inlined]",
            " [11] _broadcast_getindex at ./broadcast.jl:620 [inlined]",
            " [12] getindex at ./broadcast.jl:575 [inlined]",
            " [13] macro expansion at ./broadcast.jl:932 [inlined]",
            " [14] macro expansion at ./simdloop.jl:77 [inlined]",
            " [15] copyto! at ./broadcast.jl:931 [inlined]",
            " [16] copyto! at ./broadcast.jl:886 [inlined]",
            " [17] copy at ./broadcast.jl:862 [inlined]",
            " [18] materialize at ./broadcast.jl:837 [inlined]",
            " [19] broadcast_preserving_zero_d at ./broadcast.jl:826 [inlined]",
            " [20] *(::Float32, ::Base.ReshapedArray{Float32,2,PhysicalParameter{Float32},Tuple{Base.MultiplicativeInverses.SignedMultiplicativeInverse{Int64}}}) at ./arraymath.jl:52",
            " [21] (::JUDI.SLIM_optim.var\"#objective#13\"{Model,judiVector{Float32},judiVector{Float32},typeof(proj)})(::Float32, ::PhysicalParameter{Float32}) at /root/.julia/dev/JUDI/src/Optimization/fwi_linesearch.jl:8",
            " [22] backtracking_linesearch(::Model, ::judiVector{Float32}, ::judiVector{Float32}, ::Float32, ::PhysicalParameter{Float32}, ::typeof(proj); alpha::Float32, tau::Float32, c1::Float32, maxiter::Int64, verbose::Bool) at /root/.julia/dev/JUDI/src/Optimization/fwi_linesearch.jl:19",
            " [23] top-level scope at ./In[15]:21",
            " [24] include_string(::Function, ::Module, ::String, ::String) at ./loading.jl:1091"
          ]
        }
      ]
    },
    {
      "cell_type": "code",
      "metadata": {
        "id": "IO0yZEWVBUK0",
        "colab": {
          "base_uri": "https://localhost:8080/",
          "height": 249
        },
        "outputId": "330a5268-025c-461c-ff84-db9bd7d274de"
      },
      "source": [
        "figure(); imshow(sqrt.(1f0./adjoint(model0.m))); title(\"FWI with SGD\")"
      ],
      "execution_count": 16,
      "outputs": [
        {
          "output_type": "display_data",
          "data": {
            "image/png": "[encoded data removed]",
            "text/plain": [
              "Figure(PyObject <Figure size 640x480 with 1 Axes>)"
            ]
          },
          "metadata": {
            "tags": []
          }
        },
        {
          "output_type": "execute_result",
          "data": {
            "text/plain": [
              "PyObject Text(0.5, 1.0, 'FWI with SGD')"
            ]
          },
          "metadata": {
            "tags": []
          },
          "execution_count": 16
        }
      ]
    },
    {
      "cell_type": "markdown",
      "metadata": {
        "id": "NmlQGxWeBl-y"
      },
      "source": [
        "### *fwi_example_NLopt.jl*"
      ]
    },
    {
      "cell_type": "code",
      "metadata": {
        "colab": {
          "base_uri": "https://localhost:8080/"
        },
        "id": "JqZ9dMz_EpSB",
        "outputId": "2f75e57c-9f7e-4fd9-9373-7b6c4af6465f"
      },
      "source": [
        "; cd /content/JUDI.jl/examples/scripts"
      ],
      "execution_count": null,
      "outputs": [
        {
          "output_type": "stream",
          "text": [
            "/content/JUDI.jl/examples/scripts\n"
          ],
          "name": "stdout"
        }
      ]
    },
    {
      "cell_type": "code",
      "metadata": {
        "id": "iS8veDDHBs3B",
        "colab": {
          "base_uri": "https://localhost:8080/"
        },
        "outputId": "099b603f-f536-4d03-9a54-3053fc50bb51"
      },
      "source": [
        "# 2D FWI on Overthrust model with L-BFGS using NLopt library\r\n",
        "# Author: Philipp Witte, pwitte@eoas.ubc.ca\r\n",
        "# Date: December 2017\r\n",
        "#\r\n",
        "\r\n",
        "using Statistics, Random, LinearAlgebra\r\n",
        "using JUDI.TimeModeling, HDF5, NLopt, SegyIO\r\n",
        "\r\n",
        "# Load starting model\r\n",
        "n,d,o,m0 = read(h5open(\"../../data/overthrust_model.h5\",\"r\"), \"n\", \"d\", \"o\", \"m0\")\r\n",
        "model0 = Model((n[1],n[2]), (d[1],d[2]), (o[1],o[2]), m0)\r\n",
        "\r\n",
        "# Bound constraints\r\n",
        "v0 = sqrt.(1f0 ./ model0.m)\r\n",
        "vmin = ones(Float32, model0.n) .* 1.3f0\r\n",
        "vmax = ones(Float32, model0.n) .* 6.5f0\r\n",
        "\r\n",
        "# Slowness squared [s^2/km^2]\r\n",
        "mmin = vec((1f0 ./ vmax).^2)\r\n",
        "mmax = vec((1f0 ./ vmin).^2)\r\n",
        "\r\n",
        "# Load data\r\n",
        "block = segy_read(\"../../data/overthrust_shot_records.segy\")\r\n",
        "d_obs = judiVector(block)\r\n",
        "\r\n",
        "# Set up wavelet\r\n",
        "src_geometry = Geometry(block; key=\"source\")\r\n",
        "wavelet = ricker_wavelet(src_geometry.t[1], src_geometry.dt[1], 0.008f0)    # 8 Hz wavelet\r\n",
        "q = judiVector(src_geometry, wavelet)"
      ],
      "execution_count": null,
      "outputs": [
        {
          "output_type": "stream",
          "text": [
            "┌ Info: Precompiling NLopt [76087f3c-5699-56af-9a33-bf431cd00edd]\n",
            "└ @ Base loading.jl:1278\n",
            "┌ Warning: Fixed length trace flag set in stream: IOBuffer(data=UInt8[...], readable=true, writable=false, seekable=true, append=false, size=7076688, maxsize=Inf, ptr=3601, mark=-1)\n",
            "└ @ SegyIO /root/.julia/packages/SegyIO/uw4ZW/src/read/read_file.jl:26\n"
          ],
          "name": "stderr"
        },
        {
          "output_type": "execute_result",
          "data": {
            "text/plain": [
              "judiVector{Float32}(\"Seismic data vector\", 8016, 1, 16, GeometryIC(Any[400.0f0, 1013.333f0, 1626.667f0, 2240.0f0, 2853.333f0, 3466.666f0, 4080.0f0, 4693.334f0, 5306.666f0, 5920.0f0, 6533.334f0, 7146.666f0, 7760.0f0, 8373.333f0, 8986.667f0, 9600.0f0], Any[0.0f0, 0.0f0, 0.0f0, 0.0f0, 0.0f0, 0.0f0, 0.0f0, 0.0f0, 0.0f0, 0.0f0, 0.0f0, 0.0f0, 0.0f0, 0.0f0, 0.0f0, 0.0f0], Any[50.0f0, 50.0f0, 50.0f0, 50.0f0, 50.0f0, 50.0f0, 50.0f0, 50.0f0, 50.0f0, 50.0f0, 50.0f0, 50.0f0, 50.0f0, 50.0f0, 50.0f0, 50.0f0], Any[4.0f0, 4.0f0, 4.0f0, 4.0f0, 4.0f0, 4.0f0, 4.0f0, 4.0f0, 4.0f0, 4.0f0, 4.0f0, 4.0f0, 4.0f0, 4.0f0, 4.0f0, 4.0f0], Any[501, 501, 501, 501, 501, 501, 501, 501, 501, 501, 501, 501, 501, 501, 501, 501], Any[2000.0f0, 2000.0f0, 2000.0f0, 2000.0f0, 2000.0f0, 2000.0f0, 2000.0f0, 2000.0f0, 2000.0f0, 2000.0f0, 2000.0f0, 2000.0f0, 2000.0f0, 2000.0f0, 2000.0f0, 2000.0f0]), Array[Float32[-0.00096925104; -0.0016848503; … ; -0.0; -0.0], Float32[-0.00096925104; -0.0016848503; … ; -0.0; -0.0], Float32[-0.00096925104; -0.0016848503; … ; -0.0; -0.0], Float32[-0.00096925104; -0.0016848503; … ; -0.0; -0.0], Float32[-0.00096925104; -0.0016848503; … ; -0.0; -0.0], Float32[-0.00096925104; -0.0016848503; … ; -0.0; -0.0], Float32[-0.00096925104; -0.0016848503; … ; -0.0; -0.0], Float32[-0.00096925104; -0.0016848503; … ; -0.0; -0.0], Float32[-0.00096925104; -0.0016848503; … ; -0.0; -0.0], Float32[-0.00096925104; -0.0016848503; … ; -0.0; -0.0], Float32[-0.00096925104; -0.0016848503; … ; -0.0; -0.0], Float32[-0.00096925104; -0.0016848503; … ; -0.0; -0.0], Float32[-0.00096925104; -0.0016848503; … ; -0.0; -0.0], Float32[-0.00096925104; -0.0016848503; … ; -0.0; -0.0], Float32[-0.00096925104; -0.0016848503; … ; -0.0; -0.0], Float32[-0.00096925104; -0.0016848503; … ; -0.0; -0.0]])"
            ]
          },
          "metadata": {
            "tags": []
          },
          "execution_count": 33
        }
      ]
    },
    {
      "cell_type": "code",
      "metadata": {
        "id": "vutoa7trBt4A",
        "colab": {
          "base_uri": "https://localhost:8080/"
        },
        "outputId": "0abf3751-38fb-4e89-ca48-c4e24d72c88a"
      },
      "source": [
        "############################### FWI ###########################################\r\n",
        "\r\n",
        "# optimization parameters\r\n",
        "batchsize = 16\r\n",
        "count = 0\r\n",
        "\r\n",
        "# NLopt objective function\r\n",
        "println(\"No.  \", \"fval         \", \"norm(gradient)\")\r\n",
        "function f!(x,grad)\r\n",
        "\r\n",
        "    # Update model\r\n",
        "    model0.m = convert(Array{Float32, 2}, reshape(x, model0.n))\r\n",
        "\r\n",
        "    # Seclect batch and calculate gradient\r\n",
        "    i = randperm(d_obs.nsrc)[1:batchsize]\r\n",
        "    fval, gradient = fwi_objective(model0, q[i], d_obs[i])\r\n",
        "\r\n",
        "    # Reset gradient in water column to zero\r\n",
        "    gradient = reshape(gradient, model0.n)\r\n",
        "    gradient[:, 1:21] .= 0f0\r\n",
        "    grad[1:end] = vec(gradient)\r\n",
        "\r\n",
        "    global count; count += 1\r\n",
        "    println(count, \"    \", fval, \"    \", norm(grad))\r\n",
        "    return convert(Float64, fval)\r\n",
        "end"
      ],
      "execution_count": null,
      "outputs": [
        {
          "output_type": "stream",
          "text": [
            "No.  fval         norm(gradient)\n"
          ],
          "name": "stdout"
        },
        {
          "output_type": "execute_result",
          "data": {
            "text/plain": [
              "f! (generic function with 1 method)"
            ]
          },
          "metadata": {
            "tags": []
          },
          "execution_count": 34
        }
      ]
    },
    {
      "cell_type": "code",
      "metadata": {
        "id": "uWmlEQWhBy7t",
        "colab": {
          "base_uri": "https://localhost:8080/"
        },
        "outputId": "d9623926-d769-4a39-cebd-28f2468ae724"
      },
      "source": [
        "# Optimization parameters\r\n",
        "opt = Opt(:LD_LBFGS, prod(model0.n))\r\n",
        "lower_bounds!(opt, mmin); upper_bounds!(opt, mmax)\r\n",
        "min_objective!(opt, f!)\r\n",
        "maxeval!(opt, 10)\r\n",
        "(minf, minx, ret) = optimize(opt, vec(model0.m))"
      ],
      "execution_count": null,
      "outputs": [
        {
          "output_type": "execute_result",
          "data": {
            "text/plain": [
              "(0.0, [0.4444444477558136, 0.4444444477558136, 0.4444444477558136, 0.4444444477558136, 0.4444444477558136, 0.4444444477558136, 0.4444444477558136, 0.4444444477558136, 0.4444444477558136, 0.4444444477558136  …  0.05520664155483246, 0.05520186200737953, 0.05519702658057213, 0.055192138999700546, 0.05518719553947449, 0.05518219247460365, 0.055177122354507446, 0.05517197772860527, 0.055166758596897125, 0.05516145005822182], :FORCED_STOP)"
            ]
          },
          "metadata": {
            "tags": []
          },
          "execution_count": 35
        }
      ]
    },
    {
      "cell_type": "markdown",
      "metadata": {
        "id": "Xra9YcEZ94Xi"
      },
      "source": [
        "### *fwi_example_constraints.jl*"
      ]
    },
    {
      "cell_type": "code",
      "metadata": {
        "colab": {
          "base_uri": "https://localhost:8080/"
        },
        "id": "05eSuj6TEqWJ",
        "outputId": "78c0a03d-b578-4768-9b00-b8798a565072"
      },
      "source": [
        "; cd /content/JUDI.jl/examples/scripts"
      ],
      "execution_count": null,
      "outputs": [
        {
          "output_type": "stream",
          "text": [
            "/content/JUDI.jl/examples/scripts\n"
          ],
          "name": "stdout"
        }
      ]
    },
    {
      "cell_type": "code",
      "metadata": {
        "id": "FJMjf1UG-bVH",
        "colab": {
          "base_uri": "https://localhost:8080/"
        },
        "outputId": "d0ead6ab-bea4-4942-f532-539331592053"
      },
      "source": [
        "# 2D FWI on Overthrust model using minConf library\r\n",
        "# Author: Philipp Witte, pwitte@eoas.ubc.ca\r\n",
        "# Date: December 2017\r\n",
        "#\r\n",
        "\r\n",
        "using Statistics, Random, Pkg\r\n",
        "using LinearAlgebra\r\n",
        "using JUDI.TimeModeling, JUDI.SLIM_optim, HDF5, SegyIO, PyPlot, FFTW\r\n",
        "using SetIntersectionProjection\r\n",
        "\r\n",
        "# Load starting model\r\n",
        "n,d,o,m0 = read(h5open(\"../../data/overthrust_model.h5\",\"r\"), \"n\", \"d\", \"o\", \"m0\")\r\n",
        "model0 = Model((n[1],n[2]), (d[1],d[2]), (o[1],o[2]), m0)\r\n",
        "\r\n",
        "# Bound constraints\r\n",
        "v0 = sqrt.(1f0 ./ model0.m)\r\n",
        "\r\n",
        "# Load data\r\n",
        "block = segy_read(\"../../data/overthrust_shot_records.segy\")\r\n",
        "d_obs = judiVector(block)\r\n",
        "\r\n",
        "# Set up wavelet\r\n",
        "src_geometry = Geometry(block; key=\"source\")\r\n",
        "wavelet = ricker_wavelet(src_geometry.t[1],src_geometry.dt[1],0.008f0)  # 8 Hz wavelet\r\n",
        "q = judiVector(src_geometry,wavelet)"
      ],
      "execution_count": null,
      "outputs": [
        {
          "output_type": "stream",
          "text": [
            "┌ Info: Precompiling SetIntersectionProjection [335f7d24-6316-57dd-9c3a-df470f2b739e]\n",
            "└ @ Base loading.jl:1278\n",
            "┌ Warning: Fixed length trace flag set in stream: IOBuffer(data=UInt8[...], readable=true, writable=false, seekable=true, append=false, size=7076688, maxsize=Inf, ptr=3601, mark=-1)\n",
            "└ @ SegyIO /root/.julia/packages/SegyIO/uw4ZW/src/read/read_file.jl:26\n"
          ],
          "name": "stderr"
        },
        {
          "output_type": "execute_result",
          "data": {
            "text/plain": [
              "judiVector{Float32}(\"Seismic data vector\", 8016, 1, 16, GeometryIC(Any[400.0f0, 1013.333f0, 1626.667f0, 2240.0f0, 2853.333f0, 3466.666f0, 4080.0f0, 4693.334f0, 5306.666f0, 5920.0f0, 6533.334f0, 7146.666f0, 7760.0f0, 8373.333f0, 8986.667f0, 9600.0f0], Any[0.0f0, 0.0f0, 0.0f0, 0.0f0, 0.0f0, 0.0f0, 0.0f0, 0.0f0, 0.0f0, 0.0f0, 0.0f0, 0.0f0, 0.0f0, 0.0f0, 0.0f0, 0.0f0], Any[50.0f0, 50.0f0, 50.0f0, 50.0f0, 50.0f0, 50.0f0, 50.0f0, 50.0f0, 50.0f0, 50.0f0, 50.0f0, 50.0f0, 50.0f0, 50.0f0, 50.0f0, 50.0f0], Any[4.0f0, 4.0f0, 4.0f0, 4.0f0, 4.0f0, 4.0f0, 4.0f0, 4.0f0, 4.0f0, 4.0f0, 4.0f0, 4.0f0, 4.0f0, 4.0f0, 4.0f0, 4.0f0], Any[501, 501, 501, 501, 501, 501, 501, 501, 501, 501, 501, 501, 501, 501, 501, 501], Any[2000.0f0, 2000.0f0, 2000.0f0, 2000.0f0, 2000.0f0, 2000.0f0, 2000.0f0, 2000.0f0, 2000.0f0, 2000.0f0, 2000.0f0, 2000.0f0, 2000.0f0, 2000.0f0, 2000.0f0, 2000.0f0]), Array[Float32[-0.00096925104; -0.0016848503; … ; -0.0; -0.0], Float32[-0.00096925104; -0.0016848503; … ; -0.0; -0.0], Float32[-0.00096925104; -0.0016848503; … ; -0.0; -0.0], Float32[-0.00096925104; -0.0016848503; … ; -0.0; -0.0], Float32[-0.00096925104; -0.0016848503; … ; -0.0; -0.0], Float32[-0.00096925104; -0.0016848503; … ; -0.0; -0.0], Float32[-0.00096925104; -0.0016848503; … ; -0.0; -0.0], Float32[-0.00096925104; -0.0016848503; … ; -0.0; -0.0], Float32[-0.00096925104; -0.0016848503; … ; -0.0; -0.0], Float32[-0.00096925104; -0.0016848503; … ; -0.0; -0.0], Float32[-0.00096925104; -0.0016848503; … ; -0.0; -0.0], Float32[-0.00096925104; -0.0016848503; … ; -0.0; -0.0], Float32[-0.00096925104; -0.0016848503; … ; -0.0; -0.0], Float32[-0.00096925104; -0.0016848503; … ; -0.0; -0.0], Float32[-0.00096925104; -0.0016848503; … ; -0.0; -0.0], Float32[-0.00096925104; -0.0016848503; … ; -0.0; -0.0]])"
            ]
          },
          "metadata": {
            "tags": []
          },
          "execution_count": 37
        }
      ]
    },
    {
      "cell_type": "code",
      "metadata": {
        "id": "r3W4CeWf_8Ca",
        "colab": {
          "base_uri": "https://localhost:8080/",
          "height": 928
        },
        "outputId": "b6962bd8-4e03-4140-c3cb-f5e89f64fbf5"
      },
      "source": [
        "############################### FWI ###########################################\r\n",
        "\r\n",
        "# Optimization parameters\r\n",
        "niterations = 10\r\n",
        "batchsize = 10\r\n",
        "fhistory_SGD = zeros(Float32,niterations)\r\n",
        "\r\n",
        "\r\n",
        "########## Setup constraints\r\n",
        "# with constraints:\r\n",
        "options=PARSDMM_options()\r\n",
        "options.FL=Float32\r\n",
        "options=default_PARSDMM_options(options,options.FL)\r\n",
        "options.adjust_gamma = true\r\n",
        "options.adjust_rho = true\r\n",
        "options.adjust_feasibility_rho = true\r\n",
        "options.Blas_active = true\r\n",
        "options.maxit = 1000\r\n",
        "options.feas_tol = 0.001\r\n",
        "options.obj_tol = 0.001\r\n",
        "options.evol_rel_tol = 0.00001\r\n",
        "\r\n",
        "options.rho_ini=[1.0f0]\r\n",
        "\r\n",
        "set_zero_subnormals(true)\r\n",
        "BLAS.set_num_threads(2)\r\n",
        "FFTW.set_num_threads(2)\r\n",
        "options.parallel=false\r\n",
        "options.feasibility_only = false\r\n",
        "options.zero_ini_guess=true\r\n",
        "\r\n",
        "constraint = Vector{SetIntersectionProjection.set_definitions}()\r\n",
        "\r\n",
        "#bounds:\r\n",
        "vmin = ones(Float32,model0.n) .* 1.3f0\r\n",
        "vmax = ones(Float32,model0.n) .* 6.5f0\r\n",
        "vmin[:,1:21] .= v0[:,1:21]   # keep water column fixed\r\n",
        "vmax[:,1:21] .= v0[:,1:21]\r\n",
        "\r\n",
        "# Slowness squared [s^2/km^2]\r\n",
        "m_min = vec((1f0 ./ vmax).^2)\r\n",
        "m_max = vec((1f0 ./ vmin).^2)\r\n",
        "set_type = \"bounds\"\r\n",
        "TD_OP = \"identity\"\r\n",
        "app_mode = (\"matrix\",\"\")\r\n",
        "custom_TD_OP = ([],false)\r\n",
        "push!(constraint, set_definitions(set_type,TD_OP,m_min,m_max,app_mode,custom_TD_OP))\r\n",
        "\r\n",
        "#TV\r\n",
        "(TV,dummy1,dummy2,dummy3) = get_TD_operator(model0,\"TV\",options.FL)\r\n",
        "m_min = 0.0\r\n",
        "m_max = norm(TV*vec(v0),1) *2.0f0\r\n",
        "set_type = \"l1\"\r\n",
        "TD_OP = \"TV\"\r\n",
        "app_mode = (\"matrix\",\"\")\r\n",
        "custom_TD_OP = ([],false)\r\n",
        "push!(constraint, set_definitions(set_type,TD_OP,m_min,m_max,app_mode,custom_TD_OP))\r\n",
        "\r\n",
        "#set up constraints, precompute some things and define projector\r\n",
        "(P_sub,TD_OP,set_Prop) = setup_constraints(constraint,model0,options.FL)\r\n",
        "(TD_OP,AtA,l,y) = PARSDMM_precompute_distribute(TD_OP,set_Prop,model0,options)\r\n",
        "options.rho_ini = ones(length(TD_OP))*10.0\r\n",
        "\r\n",
        "proj_intersection = x-> PARSDMM(x, AtA, TD_OP, set_Prop, P_sub, model0, options)  \r\n",
        "\r\n",
        "function prj(input)\r\n",
        "    input = Float32.(input)\r\n",
        "    (x,dummy1,dummy2,dymmy3) = proj_intersection(vec(input))\r\n",
        "    return reshape(x, model0.n)\r\n",
        "end\r\n",
        "\r\n",
        "########## Run\r\n",
        "\r\n",
        "# Main loop\r\n",
        "for j=1:niterations\r\n",
        "\r\n",
        "    # get fwi objective function value and gradient\r\n",
        "    i = randperm(d_obs.nsrc)[1:batchsize]\r\n",
        "    fval, gradient = fwi_objective(model0,q[i],d_obs[i])\r\n",
        "    println(\"FWI iteration no: \",j,\"; function value: \",fval)\r\n",
        "    fhistory_SGD[j] = fval\r\n",
        "\r\n",
        "    # linesearch\r\n",
        "    step = backtracking_linesearch(model0, q[i], d_obs[i], fval, gradient, prj; alpha=1f0)\r\n",
        "\r\n",
        "    # Update model and bound projection\r\n",
        "    model0.m = prj(model0.m + reshape(step,model0.n))\r\n",
        "end"
      ],
      "execution_count": null,
      "outputs": [
        {
          "output_type": "stream",
          "text": [
            "FWI iteration no: 1; function value: 345744.47\n"
          ],
          "name": "stdout"
        },
        {
          "output_type": "stream",
          "text": [
            "Operator `forward` run in 0.28 s\n",
            "Operator `gradient` run in 0.29 s\n",
            "Operator `forward` run in 0.28 s\n",
            "Operator `gradient` run in 0.30 s\n",
            "Operator `forward` run in 0.28 s\n",
            "Operator `gradient` run in 0.30 s\n",
            "Operator `forward` run in 0.28 s\n",
            "Operator `gradient` run in 0.30 s\n",
            "Operator `forward` run in 0.29 s\n",
            "Operator `gradient` run in 0.30 s\n",
            "Operator `forward` run in 0.28 s\n",
            "Operator `gradient` run in 0.30 s\n",
            "Operator `forward` run in 0.28 s\n",
            "Operator `gradient` run in 0.30 s\n",
            "Operator `forward` run in 0.28 s\n",
            "Operator `gradient` run in 0.29 s\n",
            "Operator `forward` run in 0.28 s\n",
            "Operator `gradient` run in 0.29 s\n",
            "Operator `forward` run in 0.28 s\n",
            "Operator `gradient` run in 0.29 s\n"
          ],
          "name": "stderr"
        },
        {
          "output_type": "error",
          "ename": "LoadError",
          "evalue": "ignored",
          "traceback": [
            "BoundsError: attempt to access 401×121 Array{Float32,2} at index [402, 1]",
            "",
            "Stacktrace:",
            " [1] getindex(::Array{Float32,2}, ::Int64, ::Int64) at ./array.jl:810",
            " [2] getindex(::PhysicalParameter{Float32}, ::Int64, ::Int64) at /root/.julia/dev/JUDI/src/TimeModeling/ModelStructure.jl:125",
            " [3] _unsafe_getindex_rs at ./reshapedarray.jl:249 [inlined]",
            " [4] _unsafe_getindex at ./reshapedarray.jl:246 [inlined]",
            " [5] getindex at ./reshapedarray.jl:234 [inlined]",
            " [6] _getindex at ./abstractarray.jl:1100 [inlined]",
            " [7] getindex at ./abstractarray.jl:1060 [inlined]",
            " [8] _broadcast_getindex at ./broadcast.jl:614 [inlined]",
            " [9] _getindex at ./broadcast.jl:645 [inlined]",
            " [10] _getindex at ./broadcast.jl:644 [inlined]",
            " [11] _broadcast_getindex at ./broadcast.jl:620 [inlined]",
            " [12] getindex at ./broadcast.jl:575 [inlined]",
            " [13] macro expansion at ./broadcast.jl:932 [inlined]",
            " [14] macro expansion at ./simdloop.jl:77 [inlined]",
            " [15] copyto! at ./broadcast.jl:931 [inlined]",
            " [16] copyto! at ./broadcast.jl:886 [inlined]",
            " [17] copy at ./broadcast.jl:862 [inlined]",
            " [18] materialize at ./broadcast.jl:837 [inlined]",
            " [19] broadcast_preserving_zero_d at ./broadcast.jl:826 [inlined]",
            " [20] *(::Float32, ::Base.ReshapedArray{Float32,2,PhysicalParameter{Float32},Tuple{Base.MultiplicativeInverses.SignedMultiplicativeInverse{Int64}}}) at ./arraymath.jl:52",
            " [21] (::JUDI.SLIM_optim.var\"#objective#13\"{Model,judiVector{Float32},judiVector{Float32},typeof(prj)})(::Float32, ::PhysicalParameter{Float32}) at /root/.julia/dev/JUDI/src/Optimization/fwi_linesearch.jl:8",
            " [22] backtracking_linesearch(::Model, ::judiVector{Float32}, ::judiVector{Float32}, ::Float32, ::PhysicalParameter{Float32}, ::typeof(prj); alpha::Float32, tau::Float32, c1::Float32, maxiter::Int64, verbose::Bool) at /root/.julia/dev/JUDI/src/Optimization/fwi_linesearch.jl:19",
            " [23] top-level scope at ./In[38]:82",
            " [24] include_string(::Function, ::Module, ::String, ::String) at ./loading.jl:1091"
          ]
        }
      ]
    },
    {
      "cell_type": "code",
      "metadata": {
        "id": "yiS45uiDLubX",
        "colab": {
          "base_uri": "https://localhost:8080/",
          "height": 249
        },
        "outputId": "85a80038-7f3a-42b3-e101-26ec8c4e902b"
      },
      "source": [
        "figure(); imshow(sqrt.(1f0./adjoint(model0.m))); title(\"FWI with SPG\")"
      ],
      "execution_count": null,
      "outputs": [
        {
          "output_type": "display_data",
          "data": {
            "image/png": "[encoded data removed]",
            "text/plain": [
              "Figure(PyObject <Figure size 640x480 with 1 Axes>)"
            ]
          },
          "metadata": {
            "tags": []
          }
        },
        {
          "output_type": "execute_result",
          "data": {
            "text/plain": [
              "PyObject Text(0.5, 1.0, 'FWI with SPG')"
            ]
          },
          "metadata": {
            "tags": []
          },
          "execution_count": 39
        }
      ]
    },
    {
      "cell_type": "markdown",
      "metadata": {
        "id": "8MIcJbcBCQAY"
      },
      "source": [
        "### *fwi_example_minConf.jl*"
      ]
    },
    {
      "cell_type": "code",
      "metadata": {
        "id": "AdKDl-SIErJn"
      },
      "source": [
        "; cd /content/JUDI.jl/examples/scripts"
      ],
      "execution_count": null,
      "outputs": []
    },
    {
      "cell_type": "code",
      "metadata": {
        "id": "DjuK5iY4CR1R",
        "colab": {
          "base_uri": "https://localhost:8080/"
        },
        "outputId": "8b89bc19-45eb-4df1-c874-7431a86ba57a"
      },
      "source": [
        "# 2D FWI on Overthrust model with SPG using minConf library\r\n",
        "# Author: Philipp Witte, pwitte@eoas.ubc.ca\r\n",
        "# Date: December 2017\r\n",
        "#\r\n",
        "\r\n",
        "using Statistics, Random, LinearAlgebra, PyPlot\r\n",
        "using JUDI.TimeModeling, JUDI.SLIM_optim, HDF5, SegyIO\r\n",
        "\r\n",
        "# Load starting model\r\n",
        "n,d,o,m0 = read(h5open(\"../../data/overthrust_model.h5\",\"r\"), \"n\", \"d\", \"o\", \"m0\")\r\n",
        "model0 = Model((n[1],n[2]), (d[1],d[2]), (o[1],o[2]), m0)\r\n",
        "\r\n",
        "# Bound constraints\r\n",
        "v0 = sqrt.(1f0 ./ model0.m)\r\n",
        "vmin = ones(Float32,model0.n) .* 1.3f0\r\n",
        "vmax = ones(Float32,model0.n) .* 6.5f0\r\n",
        "vmin[:,1:21] .= v0[:,1:21]   # keep water column fixed\r\n",
        "vmax[:,1:21] .= v0[:,1:21]\r\n",
        "\r\n",
        "# Slowness squared [s^2/km^2]\r\n",
        "mmin = vec((1f0 ./ vmax).^2)\r\n",
        "mmax = vec((1f0 ./ vmin).^2)\r\n",
        "\r\n",
        "# Load data\r\n",
        "block = segy_read(\"../../data/overthrust_shot_records.segy\")\r\n",
        "d_obs = judiVector(block)\r\n",
        "\r\n",
        "# Set up wavelet\r\n",
        "src_geometry = Geometry(block; key=\"source\")\r\n",
        "wavelet = ricker_wavelet(src_geometry.t[1],src_geometry.dt[1],0.008f0)  # 8 Hz wavelet\r\n",
        "q = judiVector(src_geometry,wavelet)"
      ],
      "execution_count": null,
      "outputs": [
        {
          "output_type": "stream",
          "text": [
            "┌ Warning: Fixed length trace flag set in stream: IOBuffer(data=UInt8[...], readable=true, writable=false, seekable=true, append=false, size=7076688, maxsize=Inf, ptr=3601, mark=-1)\n",
            "└ @ SegyIO /root/.julia/packages/SegyIO/uw4ZW/src/read/read_file.jl:26\n"
          ],
          "name": "stderr"
        },
        {
          "output_type": "execute_result",
          "data": {
            "text/plain": [
              "judiVector{Float32}(\"Seismic data vector\", 8016, 1, 16, GeometryIC(Any[400.0f0, 1013.333f0, 1626.667f0, 2240.0f0, 2853.333f0, 3466.666f0, 4080.0f0, 4693.334f0, 5306.666f0, 5920.0f0, 6533.334f0, 7146.666f0, 7760.0f0, 8373.333f0, 8986.667f0, 9600.0f0], Any[0.0f0, 0.0f0, 0.0f0, 0.0f0, 0.0f0, 0.0f0, 0.0f0, 0.0f0, 0.0f0, 0.0f0, 0.0f0, 0.0f0, 0.0f0, 0.0f0, 0.0f0, 0.0f0], Any[50.0f0, 50.0f0, 50.0f0, 50.0f0, 50.0f0, 50.0f0, 50.0f0, 50.0f0, 50.0f0, 50.0f0, 50.0f0, 50.0f0, 50.0f0, 50.0f0, 50.0f0, 50.0f0], Any[4.0f0, 4.0f0, 4.0f0, 4.0f0, 4.0f0, 4.0f0, 4.0f0, 4.0f0, 4.0f0, 4.0f0, 4.0f0, 4.0f0, 4.0f0, 4.0f0, 4.0f0, 4.0f0], Any[501, 501, 501, 501, 501, 501, 501, 501, 501, 501, 501, 501, 501, 501, 501, 501], Any[2000.0f0, 2000.0f0, 2000.0f0, 2000.0f0, 2000.0f0, 2000.0f0, 2000.0f0, 2000.0f0, 2000.0f0, 2000.0f0, 2000.0f0, 2000.0f0, 2000.0f0, 2000.0f0, 2000.0f0, 2000.0f0]), Array[Float32[-0.00096925104; -0.0016848503; … ; -0.0; -0.0], Float32[-0.00096925104; -0.0016848503; … ; -0.0; -0.0], Float32[-0.00096925104; -0.0016848503; … ; -0.0; -0.0], Float32[-0.00096925104; -0.0016848503; … ; -0.0; -0.0], Float32[-0.00096925104; -0.0016848503; … ; -0.0; -0.0], Float32[-0.00096925104; -0.0016848503; … ; -0.0; -0.0], Float32[-0.00096925104; -0.0016848503; … ; -0.0; -0.0], Float32[-0.00096925104; -0.0016848503; … ; -0.0; -0.0], Float32[-0.00096925104; -0.0016848503; … ; -0.0; -0.0], Float32[-0.00096925104; -0.0016848503; … ; -0.0; -0.0], Float32[-0.00096925104; -0.0016848503; … ; -0.0; -0.0], Float32[-0.00096925104; -0.0016848503; … ; -0.0; -0.0], Float32[-0.00096925104; -0.0016848503; … ; -0.0; -0.0], Float32[-0.00096925104; -0.0016848503; … ; -0.0; -0.0], Float32[-0.00096925104; -0.0016848503; … ; -0.0; -0.0], Float32[-0.00096925104; -0.0016848503; … ; -0.0; -0.0]])"
            ]
          },
          "metadata": {
            "tags": []
          },
          "execution_count": 17
        }
      ]
    },
    {
      "cell_type": "code",
      "metadata": {
        "id": "cGZ-0vrFCZQb",
        "colab": {
          "base_uri": "https://localhost:8080/",
          "height": 197
        },
        "outputId": "c5fc6a6b-85d9-4284-8ab7-763024fe76b2"
      },
      "source": [
        "############################### FWI ###########################################\r\n",
        "\r\n",
        "# Optimization parameters\r\n",
        "fevals = 16\r\n",
        "batchsize = 8\r\n",
        "\r\n",
        "# Objective function for minConf library\r\n",
        "count = 0\r\n",
        "function objective_function(x)\r\n",
        "    model0.m = reshape(x,model0.n);\r\n",
        "\r\n",
        "    # fwi function value and gradient\r\n",
        "    i = randperm(d_obs.nsrc)[1:batchsize]\r\n",
        "    fval, grad = fwi_objective(model0, q[i], d_obs[i])\r\n",
        "    grad = .125f0*grad/maximum(abs.(grad))  # scale for line search\r\n",
        "\r\n",
        "    global count; count+= 1\r\n",
        "    return fval, vec(grad)\r\n",
        "end\r\n",
        "\r\n",
        "# Bound projection\r\n",
        "ProjBound(x) = median([mmin x mmax]; dims=2)\r\n",
        "\r\n",
        "# FWI with SPG\r\n",
        "options = spg_options(verbose=3, maxIter=fevals, memory=3)\r\n",
        "sol = minConf_SPG(objective_function, vec(model0.m), ProjBound, options)"
      ],
      "execution_count": null,
      "outputs": [
        {
          "output_type": "error",
          "ename": "LoadError",
          "evalue": "ignored",
          "traceback": [
            "MethodError: no method matching minConf_SPG(::typeof(objective_function), ::PhysicalParameter{Float32}, ::typeof(ProjBound), ::JUDI.SLIM_optim.SPG_params)\nClosest candidates are:\n  minConf_SPG(::Any, !Matched::Array{vDt,N} where N, ::Any, ::Any) where vDt at /root/.julia/dev/JUDI/src/Optimization/SPGSlim.jl:78",
            "",
            "Stacktrace:",
            " [1] top-level scope at In[18]:24",
            " [2] include_string(::Function, ::Module, ::String, ::String) at ./loading.jl:1091"
          ]
        }
      ]
    },
    {
      "cell_type": "code",
      "metadata": {
        "id": "0p5GsSlwCbdu"
      },
      "source": [
        "# Plot result\r\n",
        "imshow(reshape(sqrt.(1f0 ./ sol.sol), model0.n)', extent=[0, 10, 3, 0])\r\n",
        "xlabel(\"Lateral position [km]\")\r\n",
        "ylabel(\"Depth [km]\")"
      ],
      "execution_count": null,
      "outputs": []
    },
    {
      "cell_type": "markdown",
      "metadata": {
        "id": "xpp_c6jpLMMc"
      },
      "source": [
        "### *fwi_gauss_newton.jl*"
      ]
    },
    {
      "cell_type": "code",
      "metadata": {
        "id": "shEAyBRNLawH",
        "colab": {
          "base_uri": "https://localhost:8080/"
        },
        "outputId": "5018ab7d-6db3-4932-fc07-56fbe78b3d30"
      },
      "source": [
        "; cd /content/JUDI.jl/examples/scripts"
      ],
      "execution_count": 17,
      "outputs": [
        {
          "output_type": "stream",
          "text": [
            "/content/JUDI.jl/examples/scripts\n"
          ],
          "name": "stdout"
        }
      ]
    },
    {
      "cell_type": "code",
      "metadata": {
        "id": "HIc5yfpVLbTi",
        "colab": {
          "base_uri": "https://localhost:8080/"
        },
        "outputId": "2082f1fd-0df0-40ee-8942-06e7a625e4a6"
      },
      "source": [
        "# FWI on Overthrust model using minConf library\r\n",
        "# Author: Philipp Witte, pwitte@eoas.ubc.ca\r\n",
        "# Date: December 2017\r\n",
        "#\r\n",
        "\r\n",
        "using Statistics, Random, LinearAlgebra\r\n",
        "using JUDI.TimeModeling, JUDI.SLIM_optim, HDF5, SegyIO, PyPlot, IterativeSolvers\r\n",
        "\r\n",
        "# Load starting model\r\n",
        "n,d,o,m0 = read(h5open(\"../../data/overthrust_model.h5\",\"r\"), \"n\", \"d\", \"o\", \"m0\")\r\n",
        "model0 = Model((n[1],n[2]), (d[1],d[2]), (o[1],o[2]), m0)\r\n",
        "\r\n",
        "# Bound constraints\r\n",
        "v0 = sqrt.(1 ./ model0.m)\r\n",
        "vmin = ones(Float32,model0.n) .* 1.3f0\r\n",
        "vmax = ones(Float32,model0.n) .* 6.5f0\r\n",
        "vmin[:,1:21] .= v0[:,1:21]   # keep water column fixed\r\n",
        "vmax[:,1:21] .= v0[:,1:21]\r\n",
        "\r\n",
        "# Slowness squared [s^2/km^2]\r\n",
        "mmin = vec((1f0 ./ vmax).^2)\r\n",
        "mmax = vec((1f0 ./ vmin).^2)\r\n",
        "\r\n",
        "# Load data\r\n",
        "block = segy_read(\"../../data/overthrust_shot_records.segy\")\r\n",
        "d_obs = judiVector(block)\r\n",
        "\r\n",
        "# Set up wavelet\r\n",
        "src_geometry = Geometry(block; key=\"source\")\r\n",
        "wavelet = ricker_wavelet(src_geometry.t[1],src_geometry.dt[1],0.008f0)  # 8 Hz wavelet\r\n",
        "q = judiVector(src_geometry,wavelet)"
      ],
      "execution_count": 18,
      "outputs": [
        {
          "output_type": "stream",
          "text": [
            "┌ Warning: Fixed length trace flag set in stream: IOBuffer(data=UInt8[...], readable=true, writable=false, seekable=true, append=false, size=7076688, maxsize=Inf, ptr=3601, mark=-1)\n",
            "└ @ SegyIO /root/.julia/packages/SegyIO/uw4ZW/src/read/read_file.jl:26\n"
          ],
          "name": "stderr"
        },
        {
          "output_type": "execute_result",
          "data": {
            "text/plain": [
              "judiVector{Float32}(\"Seismic data vector\", 8016, 1, 16, GeometryIC(Any[400.0f0, 1013.333f0, 1626.667f0, 2240.0f0, 2853.333f0, 3466.666f0, 4080.0f0, 4693.334f0, 5306.666f0, 5920.0f0, 6533.334f0, 7146.666f0, 7760.0f0, 8373.333f0, 8986.667f0, 9600.0f0], Any[0.0f0, 0.0f0, 0.0f0, 0.0f0, 0.0f0, 0.0f0, 0.0f0, 0.0f0, 0.0f0, 0.0f0, 0.0f0, 0.0f0, 0.0f0, 0.0f0, 0.0f0, 0.0f0], Any[50.0f0, 50.0f0, 50.0f0, 50.0f0, 50.0f0, 50.0f0, 50.0f0, 50.0f0, 50.0f0, 50.0f0, 50.0f0, 50.0f0, 50.0f0, 50.0f0, 50.0f0, 50.0f0], Any[4.0f0, 4.0f0, 4.0f0, 4.0f0, 4.0f0, 4.0f0, 4.0f0, 4.0f0, 4.0f0, 4.0f0, 4.0f0, 4.0f0, 4.0f0, 4.0f0, 4.0f0, 4.0f0], Any[501, 501, 501, 501, 501, 501, 501, 501, 501, 501, 501, 501, 501, 501, 501, 501], Any[2000.0f0, 2000.0f0, 2000.0f0, 2000.0f0, 2000.0f0, 2000.0f0, 2000.0f0, 2000.0f0, 2000.0f0, 2000.0f0, 2000.0f0, 2000.0f0, 2000.0f0, 2000.0f0, 2000.0f0, 2000.0f0]), Array[Float32[-0.00096925104; -0.0016848503; … ; -0.0; -0.0], Float32[-0.00096925104; -0.0016848503; … ; -0.0; -0.0], Float32[-0.00096925104; -0.0016848503; … ; -0.0; -0.0], Float32[-0.00096925104; -0.0016848503; … ; -0.0; -0.0], Float32[-0.00096925104; -0.0016848503; … ; -0.0; -0.0], Float32[-0.00096925104; -0.0016848503; … ; -0.0; -0.0], Float32[-0.00096925104; -0.0016848503; … ; -0.0; -0.0], Float32[-0.00096925104; -0.0016848503; … ; -0.0; -0.0], Float32[-0.00096925104; -0.0016848503; … ; -0.0; -0.0], Float32[-0.00096925104; -0.0016848503; … ; -0.0; -0.0], Float32[-0.00096925104; -0.0016848503; … ; -0.0; -0.0], Float32[-0.00096925104; -0.0016848503; … ; -0.0; -0.0], Float32[-0.00096925104; -0.0016848503; … ; -0.0; -0.0], Float32[-0.00096925104; -0.0016848503; … ; -0.0; -0.0], Float32[-0.00096925104; -0.0016848503; … ; -0.0; -0.0], Float32[-0.00096925104; -0.0016848503; … ; -0.0; -0.0]])"
            ]
          },
          "metadata": {
            "tags": []
          },
          "execution_count": 18
        }
      ]
    },
    {
      "cell_type": "code",
      "metadata": {
        "id": "hNl8zCPdLhx5",
        "colab": {
          "base_uri": "https://localhost:8080/",
          "height": 1000
        },
        "outputId": "074bb4df-1330-43ec-e4a2-1c843ef734d3"
      },
      "source": [
        "############################### FWI ###########################################\r\n",
        "\r\n",
        "# Set up operators\r\n",
        "ntComp = get_computational_nt(q.geometry,d_obs.geometry,model0) # no. of computational time steps\r\n",
        "info = Info(prod(model0.n),d_obs.nsrc,ntComp)\r\n",
        "Pr = judiProjection(info,d_obs.geometry)\r\n",
        "Ps = judiProjection(info,q.geometry)\r\n",
        "F = judiModeling(info,model0)\r\n",
        "J = judiJacobian(Pr*F*Ps',q)\r\n",
        "\r\n",
        "# Optimization parameters\r\n",
        "maxiter = 10\r\n",
        "maxiter_GN = 5\r\n",
        "fhistory_GN = zeros(Float32,maxiter)\r\n",
        "proj(x) = reshape(median([vec(mmin) vec(x) vec(mmax)],2),model0.n)\r\n",
        "\r\n",
        "# Gauss-Newton method\r\n",
        "for j=1:maxiter\r\n",
        "    println(\"Iteration: \",j)\r\n",
        "\r\n",
        "    # # Model predicted data for subset of sources\r\n",
        "    d_pred = Pr*F*Ps'*q\r\n",
        "    fhistory_GN[j] = .5f0*norm(d_pred - d_obs)^2\r\n",
        "\r\n",
        "    # GN update direction\r\n",
        "    p = lsqr(J, d_pred - d_obs; maxiter=maxiter_GN, verbose=true)\r\n",
        "\r\n",
        "    # update model and bound constraints\r\n",
        "    model0.m = proj(model0.m - reshape(p, model0.n))  # alpha=1\r\n",
        "end"
      ],
      "execution_count": 19,
      "outputs": [
        {
          "output_type": "stream",
          "text": [
            "Iteration: 1\n"
          ],
          "name": "stdout"
        },
        {
          "output_type": "stream",
          "text": [
            "Operator `forward` run in 0.20 s\n",
            "Operator `forward` run in 0.19 s\n",
            "Operator `forward` run in 0.18 s\n",
            "Operator `forward` run in 0.18 s\n",
            "Operator `forward` run in 0.18 s\n",
            "Operator `forward` run in 0.18 s\n",
            "Operator `forward` run in 0.18 s\n",
            "Operator `forward` run in 0.19 s\n",
            "Operator `forward` run in 0.19 s\n",
            "Operator `forward` run in 0.18 s\n",
            "Operator `forward` run in 0.18 s\n",
            "Operator `forward` run in 0.18 s\n",
            "Operator `forward` run in 0.18 s\n",
            "Operator `forward` run in 0.18 s\n",
            "Operator `forward` run in 0.18 s\n",
            "Operator `forward` run in 0.19 s\n"
          ],
          "name": "stderr"
        },
        {
          "output_type": "stream",
          "text": [
            "=== lsqr ===\n",
            "iter\tresnorm\t\t  anorm\t\t  cnorm\t\t  rnorm\n"
          ],
          "name": "stdout"
        },
        {
          "output_type": "stream",
          "text": [
            "Operator `forward` run in 0.28 s\n",
            "Operator `gradient` run in 0.31 s\n",
            "Operator `forward` run in 0.28 s\n",
            "Operator `gradient` run in 0.30 s\n",
            "Operator `forward` run in 0.29 s\n",
            "Operator `gradient` run in 0.30 s\n",
            "Operator `forward` run in 0.29 s\n",
            "Operator `gradient` run in 0.30 s\n",
            "Operator `forward` run in 0.28 s\n",
            "Operator `gradient` run in 0.30 s\n",
            "Operator `forward` run in 0.29 s\n",
            "Operator `gradient` run in 0.30 s\n",
            "Operator `forward` run in 0.28 s\n",
            "Operator `gradient` run in 0.30 s\n",
            "Operator `forward` run in 0.28 s\n",
            "Operator `gradient` run in 0.30 s\n",
            "Operator `forward` run in 0.28 s\n",
            "Operator `gradient` run in 0.29 s\n",
            "Operator `forward` run in 0.28 s\n",
            "Operator `gradient` run in 0.29 s\n",
            "Operator `forward` run in 0.28 s\n",
            "Operator `gradient` run in 0.30 s\n",
            "Operator `forward` run in 0.28 s\n",
            "Operator `gradient` run in 0.30 s\n",
            "Operator `forward` run in 0.28 s\n",
            "Operator `gradient` run in 0.30 s\n",
            "Operator `forward` run in 0.28 s\n",
            "Operator `gradient` run in 0.31 s\n",
            "Operator `forward` run in 0.28 s\n",
            "Operator `gradient` run in 0.32 s\n",
            "Operator `forward` run in 0.28 s\n",
            "Operator `gradient` run in 0.30 s\n",
            "Operator `born` run in 0.43 s\n",
            "Operator `born` run in 0.41 s\n",
            "Operator `born` run in 0.42 s\n",
            "Operator `born` run in 0.43 s\n",
            "Operator `born` run in 0.42 s\n",
            "Operator `born` run in 0.41 s\n",
            "Operator `born` run in 0.40 s\n",
            "Operator `born` run in 0.41 s\n",
            "Operator `born` run in 0.42 s\n",
            "Operator `born` run in 0.43 s\n",
            "Operator `born` run in 0.42 s\n",
            "Operator `born` run in 0.42 s\n",
            "Operator `born` run in 0.43 s\n",
            "Operator `born` run in 0.42 s\n",
            "Operator `born` run in 0.41 s\n",
            "Operator `born` run in 0.42 s\n"
          ],
          "name": "stderr"
        },
        {
          "output_type": "stream",
          "text": [
            "  1\t"
          ],
          "name": "stdout"
        },
        {
          "output_type": "stream",
          "text": [
            "Operator `forward` run in 0.29 s\n",
            "Operator `gradient` run in 0.30 s\n",
            "Operator `forward` run in 0.28 s\n",
            "Operator `gradient` run in 0.29 s\n",
            "Operator `forward` run in 0.28 s\n",
            "Operator `gradient` run in 0.29 s\n",
            "Operator `forward` run in 0.29 s\n",
            "Operator `gradient` run in 0.29 s\n",
            "Operator `forward` run in 0.27 s\n",
            "Operator `gradient` run in 0.29 s\n",
            "Operator `forward` run in 0.28 s\n",
            "Operator `gradient` run in 0.29 s\n",
            "Operator `forward` run in 0.28 s\n",
            "Operator `gradient` run in 0.29 s\n",
            "Operator `forward` run in 0.28 s\n",
            "Operator `gradient` run in 0.30 s\n",
            "Operator `forward` run in 0.28 s\n",
            "Operator `gradient` run in 0.30 s\n",
            "Operator `forward` run in 0.28 s\n",
            "Operator `gradient` run in 0.30 s\n",
            "Operator `forward` run in 0.29 s\n",
            "Operator `gradient` run in 0.30 s\n",
            "Operator `forward` run in 0.28 s\n",
            "Operator `gradient` run in 0.30 s\n",
            "Operator `forward` run in 0.28 s\n",
            "Operator `gradient` run in 0.30 s\n",
            "Operator `forward` run in 0.28 s\n",
            "Operator `gradient` run in 0.30 s\n",
            "Operator `forward` run in 0.28 s\n",
            "Operator `gradient` run in 0.31 s\n",
            "Operator `forward` run in 0.29 s\n",
            "Operator `gradient` run in 0.30 s\n"
          ],
          "name": "stderr"
        },
        {
          "output_type": "stream",
          "text": [
            "9.10e+02\t5.37e-01\t1.22e-01\t8.73e-01\n"
          ],
          "name": "stdout"
        },
        {
          "output_type": "stream",
          "text": [
            "Operator `born` run in 0.42 s\n",
            "Operator `born` run in 0.42 s\n",
            "Operator `born` run in 0.41 s\n",
            "Operator `born` run in 0.41 s\n",
            "Operator `born` run in 0.41 s\n",
            "Operator `born` run in 0.41 s\n",
            "Operator `born` run in 0.41 s\n",
            "Operator `born` run in 0.44 s\n",
            "Operator `born` run in 0.42 s\n",
            "Operator `born` run in 0.41 s\n",
            "Operator `born` run in 0.41 s\n",
            "Operator `born` run in 0.42 s\n",
            "Operator `born` run in 0.43 s\n",
            "Operator `born` run in 0.40 s\n",
            "Operator `born` run in 0.41 s\n",
            "Operator `born` run in 0.41 s\n"
          ],
          "name": "stderr"
        },
        {
          "output_type": "stream",
          "text": [
            "  2\t8.09e+02\t2.00e-01\t1.60e-02\t7.77e-01\n"
          ],
          "name": "stdout"
        },
        {
          "output_type": "stream",
          "text": [
            "Operator `forward` run in 0.28 s\n",
            "Operator `gradient` run in 0.30 s\n",
            "Operator `forward` run in 0.28 s\n",
            "Operator `gradient` run in 0.31 s\n",
            "Operator `forward` run in 0.29 s\n",
            "Operator `gradient` run in 0.30 s\n",
            "Operator `forward` run in 0.29 s\n",
            "Operator `gradient` run in 0.29 s\n",
            "Operator `forward` run in 0.29 s\n",
            "Operator `gradient` run in 0.29 s\n",
            "Operator `forward` run in 0.28 s\n",
            "Operator `gradient` run in 0.29 s\n",
            "Operator `forward` run in 0.28 s\n",
            "Operator `gradient` run in 0.29 s\n",
            "Operator `forward` run in 0.28 s\n",
            "Operator `gradient` run in 0.29 s\n",
            "Operator `forward` run in 0.28 s\n",
            "Operator `gradient` run in 0.30 s\n",
            "Operator `forward` run in 0.28 s\n",
            "Operator `gradient` run in 0.30 s\n",
            "Operator `forward` run in 0.28 s\n",
            "Operator `gradient` run in 0.30 s\n",
            "Operator `forward` run in 0.29 s\n",
            "Operator `gradient` run in 0.30 s\n",
            "Operator `forward` run in 0.28 s\n",
            "Operator `gradient` run in 0.30 s\n",
            "Operator `forward` run in 0.28 s\n",
            "Operator `gradient` run in 0.30 s\n",
            "Operator `forward` run in 0.28 s\n",
            "Operator `gradient` run in 0.30 s\n",
            "Operator `forward` run in 0.28 s\n",
            "Operator `gradient` run in 0.29 s\n",
            "Operator `born` run in 0.42 s\n",
            "Operator `born` run in 0.42 s\n",
            "Operator `born` run in 0.41 s\n",
            "Operator `born` run in 0.41 s\n",
            "Operator `born` run in 0.42 s\n",
            "Operator `born` run in 0.42 s\n",
            "Operator `born` run in 0.42 s\n",
            "Operator `born` run in 0.41 s\n",
            "Operator `born` run in 0.42 s\n",
            "Operator `born` run in 0.43 s\n",
            "Operator `born` run in 0.41 s\n",
            "Operator `born` run in 0.41 s\n",
            "Operator `born` run in 0.43 s\n",
            "Operator `born` run in 0.42 s\n",
            "Operator `born` run in 0.41 s\n",
            "Operator `born` run in 0.42 s\n"
          ],
          "name": "stderr"
        },
        {
          "output_type": "stream",
          "text": [
            "  3\t7.61e+02\t1.78e-01\t8.10e-03\t7.31e-01\n"
          ],
          "name": "stdout"
        },
        {
          "output_type": "stream",
          "text": [
            "Operator `forward` run in 0.28 s\n",
            "Operator `gradient` run in 0.30 s\n",
            "Operator `forward` run in 0.28 s\n",
            "Operator `gradient` run in 0.30 s\n",
            "Operator `forward` run in 0.29 s\n",
            "Operator `gradient` run in 0.29 s\n",
            "Operator `forward` run in 0.28 s\n",
            "Operator `gradient` run in 0.30 s\n",
            "Operator `forward` run in 0.28 s\n",
            "Operator `gradient` run in 0.29 s\n",
            "Operator `forward` run in 0.28 s\n",
            "Operator `gradient` run in 0.30 s\n",
            "Operator `forward` run in 0.28 s\n",
            "Operator `gradient` run in 0.30 s\n",
            "Operator `forward` run in 0.28 s\n",
            "Operator `gradient` run in 0.30 s\n",
            "Operator `forward` run in 0.28 s\n",
            "Operator `gradient` run in 0.30 s\n",
            "Operator `forward` run in 0.27 s\n",
            "Operator `gradient` run in 0.30 s\n",
            "Operator `forward` run in 0.28 s\n",
            "Operator `gradient` run in 0.30 s\n",
            "Operator `forward` run in 0.28 s\n",
            "Operator `gradient` run in 0.30 s\n",
            "Operator `forward` run in 0.28 s\n",
            "Operator `gradient` run in 0.30 s\n",
            "Operator `forward` run in 0.28 s\n",
            "Operator `gradient` run in 0.29 s\n",
            "Operator `forward` run in 0.28 s\n",
            "Operator `gradient` run in 0.29 s\n",
            "Operator `forward` run in 0.28 s\n",
            "Operator `gradient` run in 0.30 s\n",
            "Operator `born` run in 0.44 s\n",
            "Operator `born` run in 0.43 s\n",
            "Operator `born` run in 0.42 s\n",
            "Operator `born` run in 0.44 s\n",
            "Operator `born` run in 0.42 s\n",
            "Operator `born` run in 0.43 s\n",
            "Operator `born` run in 0.42 s\n",
            "Operator `born` run in 0.43 s\n",
            "Operator `born` run in 0.41 s\n",
            "Operator `born` run in 0.41 s\n",
            "Operator `born` run in 0.42 s\n",
            "Operator `born` run in 0.42 s\n",
            "Operator `born` run in 0.41 s\n",
            "Operator `born` run in 0.43 s\n",
            "Operator `born` run in 0.42 s\n",
            "Operator `born` run in 0.41 s\n"
          ],
          "name": "stderr"
        },
        {
          "output_type": "stream",
          "text": [
            "  4\t7.13e+02\t8.97e-02\t5.20e-03\t6.84e-01\n"
          ],
          "name": "stdout"
        },
        {
          "output_type": "stream",
          "text": [
            "Operator `forward` run in 0.28 s\n",
            "Operator `gradient` run in 0.29 s\n",
            "Operator `forward` run in 0.28 s\n",
            "Operator `gradient` run in 0.29 s\n",
            "Operator `forward` run in 0.28 s\n",
            "Operator `gradient` run in 0.30 s\n",
            "Operator `forward` run in 0.28 s\n",
            "Operator `gradient` run in 0.30 s\n",
            "Operator `forward` run in 0.28 s\n",
            "Operator `gradient` run in 0.30 s\n",
            "Operator `forward` run in 0.28 s\n",
            "Operator `gradient` run in 0.31 s\n",
            "Operator `forward` run in 0.28 s\n",
            "Operator `gradient` run in 0.30 s\n",
            "Operator `forward` run in 0.28 s\n",
            "Operator `gradient` run in 0.30 s\n",
            "Operator `forward` run in 0.28 s\n",
            "Operator `gradient` run in 0.30 s\n",
            "Operator `forward` run in 0.28 s\n",
            "Operator `gradient` run in 0.29 s\n",
            "Operator `forward` run in 0.28 s\n",
            "Operator `gradient` run in 0.29 s\n",
            "Operator `forward` run in 0.28 s\n",
            "Operator `gradient` run in 0.29 s\n",
            "Operator `forward` run in 0.28 s\n",
            "Operator `gradient` run in 0.29 s\n",
            "Operator `forward` run in 0.27 s\n",
            "Operator `gradient` run in 0.30 s\n",
            "Operator `forward` run in 0.27 s\n",
            "Operator `gradient` run in 0.30 s\n",
            "Operator `forward` run in 0.28 s\n",
            "Operator `gradient` run in 0.30 s\n",
            "Operator `born` run in 0.41 s\n",
            "Operator `born` run in 0.42 s\n",
            "Operator `born` run in 0.42 s\n",
            "Operator `born` run in 0.41 s\n",
            "Operator `born` run in 0.42 s\n",
            "Operator `born` run in 0.41 s\n",
            "Operator `born` run in 0.41 s\n",
            "Operator `born` run in 0.41 s\n",
            "Operator `born` run in 0.41 s\n",
            "Operator `born` run in 0.42 s\n",
            "Operator `born` run in 0.42 s\n",
            "Operator `born` run in 0.42 s\n",
            "Operator `born` run in 0.41 s\n",
            "Operator `born` run in 0.41 s\n",
            "Operator `born` run in 0.41 s\n",
            "Operator `born` run in 0.41 s\n"
          ],
          "name": "stderr"
        },
        {
          "output_type": "stream",
          "text": [
            "  5\t6.99e+02\t6.78e-02\t3.92e-03\t6.71e-01\n",
            "\n"
          ],
          "name": "stdout"
        },
        {
          "output_type": "stream",
          "text": [
            "Operator `forward` run in 0.28 s\n",
            "Operator `gradient` run in 0.30 s\n",
            "Operator `forward` run in 0.28 s\n",
            "Operator `gradient` run in 0.30 s\n",
            "Operator `forward` run in 0.28 s\n",
            "Operator `gradient` run in 0.30 s\n",
            "Operator `forward` run in 0.28 s\n",
            "Operator `gradient` run in 0.30 s\n",
            "Operator `forward` run in 0.28 s\n",
            "Operator `gradient` run in 0.30 s\n",
            "Operator `forward` run in 0.28 s\n",
            "Operator `gradient` run in 0.30 s\n",
            "Operator `forward` run in 0.28 s\n",
            "Operator `gradient` run in 0.29 s\n",
            "Operator `forward` run in 0.28 s\n",
            "Operator `gradient` run in 0.29 s\n",
            "Operator `forward` run in 0.28 s\n",
            "Operator `gradient` run in 0.30 s\n",
            "Operator `forward` run in 0.28 s\n",
            "Operator `gradient` run in 0.29 s\n",
            "Operator `forward` run in 0.28 s\n",
            "Operator `gradient` run in 0.30 s\n",
            "Operator `forward` run in 0.28 s\n",
            "Operator `gradient` run in 0.29 s\n",
            "Operator `forward` run in 0.28 s\n",
            "Operator `gradient` run in 0.30 s\n",
            "Operator `forward` run in 0.29 s\n",
            "Operator `gradient` run in 0.30 s\n",
            "Operator `forward` run in 0.29 s\n",
            "Operator `gradient` run in 0.31 s\n",
            "Operator `forward` run in 0.28 s\n",
            "Operator `gradient` run in 0.29 s\n"
          ],
          "name": "stderr"
        },
        {
          "output_type": "error",
          "ename": "LoadError",
          "evalue": "ignored",
          "traceback": [
            "DimensionMismatch(\"dimensions must match: a has dims (Base.OneTo(48521), Base.OneTo(1)), b has dims (Base.OneTo(401), Base.OneTo(121)), mismatch at 1\")",
            "",
            "Stacktrace:",
            " [1] promote_shape(::Tuple{Base.OneTo{Int64},Base.OneTo{Int64}}, ::Tuple{Base.OneTo{Int64},Base.OneTo{Int64}}) at ./indices.jl:178",
            " [2] promote_shape(::PhysicalParameter{Float32}, ::Base.ReshapedArray{Float32,2,PhysicalParameter{Float32},Tuple{Base.MultiplicativeInverses.SignedMultiplicativeInverse{Int64}}}) at ./indices.jl:169",
            " [3] -(::PhysicalParameter{Float32}, ::Base.ReshapedArray{Float32,2,PhysicalParameter{Float32},Tuple{Base.MultiplicativeInverses.SignedMultiplicativeInverse{Int64}}}) at ./arraymath.jl:38",
            " [4] top-level scope at ./In[19]:29",
            " [5] include_string(::Function, ::Module, ::String, ::String) at ./loading.jl:1091"
          ]
        }
      ]
    },
    {
      "cell_type": "code",
      "metadata": {
        "id": "YMxLU4P3LkiB",
        "colab": {
          "base_uri": "https://localhost:8080/",
          "height": 249
        },
        "outputId": "90114a49-10a0-49b3-ce44-8da17267c64b"
      },
      "source": [
        "figure(); imshow(sqrt.(1f0./model0.m)'); title(\"FWI with Gauss-Newton\")"
      ],
      "execution_count": 20,
      "outputs": [
        {
          "output_type": "display_data",
          "data": {
            "image/png": "[encoded data removed]",
            "text/plain": [
              "Figure(PyObject <Figure size 640x480 with 1 Axes>)"
            ]
          },
          "metadata": {
            "tags": []
          }
        },
        {
          "output_type": "execute_result",
          "data": {
            "text/plain": [
              "PyObject Text(0.5, 1.0, 'FWI with Gauss-Newton')"
            ]
          },
          "metadata": {
            "tags": []
          },
          "execution_count": 20
        }
      ]
    },
    {
      "cell_type": "markdown",
      "metadata": {
        "id": "yN_yjdKDLo3m"
      },
      "source": [
        "### *modeling_basic_2D.jl*"
      ]
    },
    {
      "cell_type": "code",
      "metadata": {
        "id": "eNpdsu_dLsWU",
        "colab": {
          "base_uri": "https://localhost:8080/"
        },
        "outputId": "ad824545-afa1-4775-ccaf-ca09d58f7c9a"
      },
      "source": [
        "; cd /content/JUDI.jl/examples/scripts"
      ],
      "execution_count": 21,
      "outputs": [
        {
          "output_type": "stream",
          "text": [
            "/content/JUDI.jl/examples/scripts\n"
          ],
          "name": "stdout"
        }
      ]
    },
    {
      "cell_type": "code",
      "metadata": {
        "id": "4s7lX8ZQL1Yr",
        "colab": {
          "base_uri": "https://localhost:8080/"
        },
        "outputId": "171115bd-4407-4337-b44a-9b24ebceeac2"
      },
      "source": [
        "# Example for basic 2D modeling:\r\n",
        "# The receiver positions and the source wavelets are the same for each of the four experiments.\r\n",
        "# Author: Philipp Witte, pwitte@eos.ubc.ca\r\n",
        "# Date: January 2017\r\n",
        "#\r\n",
        "\r\n",
        "using JUDI.TimeModeling, SegyIO, LinearAlgebra\r\n",
        "\r\n",
        "# Set up model structure\r\n",
        "n = (120, 100)   # (x,y,z) or (x,z)\r\n",
        "d = (10., 10.)\r\n",
        "o = (0., 0.)\r\n",
        "\r\n",
        "# Velocity [km/s]\r\n",
        "v = ones(Float32,n) .+ 0.5f0\r\n",
        "v0 = ones(Float32,n) .+ 0.5f0\r\n",
        "v[:,Int(round(end/2)):end] .= 3.5f0\r\n",
        "rho = (v0 .+ .5f0) ./ 2\r\n",
        "\r\n",
        "# Slowness squared [s^2/km^2]\r\n",
        "m = (1f0 ./ v).^2\r\n",
        "m0 = (1f0 ./ v0).^2\r\n",
        "dm = vec(m - m0)\r\n",
        "\r\n",
        "# Setup info and model structure\r\n",
        "nsrc = 2\t# number of sources\r\n",
        "model = Model(n, d, o, m)\r\n",
        "model0 = Model(n, d, o, m0)\r\n",
        "\r\n",
        "# Set up receiver geometry\r\n",
        "nxrec = 120\r\n",
        "xrec = range(50f0, stop=1150f0, length=nxrec)\r\n",
        "yrec = 0f0\r\n",
        "zrec = range(50f0, stop=50f0, length=nxrec)\r\n",
        "\r\n",
        "# receiver sampling and recording time\r\n",
        "timeR = 1000f0   # receiver recording time [ms]\r\n",
        "dtR = 2f0    # receiver sampling interval [ms]\r\n",
        "\r\n",
        "# Set up receiver structure\r\n",
        "recGeometry = Geometry(xrec, yrec, zrec; dt=dtR, t=timeR, nsrc=nsrc)\r\n",
        "\r\n",
        "# Set up source geometry (cell array with source locations for each shot)\r\n",
        "xsrc = convertToCell(range(400f0, stop=800f0, length=nsrc))\r\n",
        "ysrc = convertToCell(range(0f0, stop=0f0, length=nsrc))\r\n",
        "zsrc = convertToCell(range(200f0, stop=200f0, length=nsrc))\r\n",
        "\r\n",
        "# source sampling and number of time steps\r\n",
        "timeS = 1000f0  # ms\r\n",
        "dtS = 2f0   # ms\r\n",
        "\r\n",
        "# Set up source structure\r\n",
        "srcGeometry = Geometry(xsrc, ysrc, zsrc; dt=dtS, t=timeS)\r\n",
        "\r\n",
        "# setup wavelet\r\n",
        "f0 = 0.01f0     # MHz\r\n",
        "wavelet = ricker_wavelet(timeS, dtS, f0)\r\n",
        "q = judiVector(srcGeometry, wavelet)\r\n",
        "\r\n",
        "# Set up info structure for linear operators\r\n",
        "ntComp = get_computational_nt(srcGeometry, recGeometry, model)\r\n",
        "info = Info(prod(n), nsrc, ntComp)"
      ],
      "execution_count": 22,
      "outputs": [
        {
          "output_type": "execute_result",
          "data": {
            "text/plain": [
              "Info(12000, 2, Any[926, 926])"
            ]
          },
          "metadata": {
            "tags": []
          },
          "execution_count": 22
        }
      ]
    },
    {
      "cell_type": "code",
      "metadata": {
        "id": "GycoM8IdL15r",
        "colab": {
          "base_uri": "https://localhost:8080/"
        },
        "outputId": "3049f572-38d0-4ddb-a9e5-9ded8113e71a"
      },
      "source": [
        "###################################################################################################\r\n",
        "\r\n",
        "# Write shots as segy files to disk\r\n",
        "opt = Options(optimal_checkpointing=false, isic=false, subsampling_factor=2, dt_comp=1.0)\r\n",
        "\r\n",
        "# Setup operators\r\n",
        "Pr = judiProjection(info, recGeometry)\r\n",
        "F = judiModeling(info, model; options=opt)\r\n",
        "F0 = judiModeling(info, model0; options=opt)\r\n",
        "Ps = judiProjection(info, srcGeometry)\r\n",
        "J = judiJacobian(Pr*F0*adjoint(Ps), q)\r\n",
        "\r\n",
        "# Nonlinear modeling\r\n",
        "dobs = Pr*F*adjoint(Ps)*q\r\n",
        "# # Adjoint\r\n",
        "qad = Ps*adjoint(F)*adjoint(Pr)*dobs\r\n",
        "\r\n",
        "# Linearized modeling\r\n",
        "dD = J*dm\r\n",
        "# Adjoint jacobian\r\n",
        "rtm = adjoint(J)*dD\r\n",
        "\r\n",
        "# evaluate FWI objective function\r\n",
        "f, g = fwi_objective(model0, q, dobs; options=opt)\r\n",
        "\r\n",
        "# TWRI\r\n",
        "f, gm, gy = twri_objective(model0, q, dobs, nothing; options=opt, optionswri=TWRIOptions(params=:all))\r\n",
        "\r\n",
        "# evaluate LSRTM objective function\r\n",
        "fj, gj = lsrtm_objective(model0, q, dD, dm; options=opt)\r\n",
        "fjn, gjn = lsrtm_objective(model0, q, dobs, dm; nlind=true, options=opt)\r\n",
        "\r\n",
        "# By extension, lsrtm_objective is the same as fwi_objecive when `dm` is zero\r\n",
        "# And with computing of the residual. Small noise can be seen in the difference\r\n",
        "# due to floating point roundoff errors with openMP, but running with \r\n",
        "# OMP_NUM_THREAS=1 (no parllelism) produces the exact (difference == 0) same result\r\n",
        "# gjn2 == g\r\n",
        "fjn2, gjn2 = lsrtm_objective(model0, q, dobs, 0f0.*dm; nlind=true, options=opt)"
      ],
      "execution_count": 23,
      "outputs": [
        {
          "output_type": "stream",
          "text": [
            "Operator `forward` run in 0.06 s\n",
            "Operator `forward` run in 0.07 s\n",
            "Operator `adjoint` run in 0.07 s\n",
            "Operator `adjoint` run in 0.06 s\n",
            "Operator `born` run in 0.13 s\n",
            "Operator `born` run in 0.13 s\n",
            "Operator `forward` run in 0.08 s\n",
            "Operator `gradient` run in 0.07 s\n",
            "Operator `forward` run in 0.08 s\n",
            "Operator `gradient` run in 0.07 s\n",
            "Operator `forward` run in 0.08 s\n",
            "Operator `gradient` run in 0.07 s\n",
            "Operator `forward` run in 0.08 s\n",
            "Operator `gradient` run in 0.07 s\n",
            "Operator `forward` run in 0.06 s\n",
            "Operator `adjoint` run in 0.10 s\n",
            "Operator `forward_grad` run in 0.10 s\n",
            "Operator `forward` run in 0.06 s\n",
            "Operator `adjoint` run in 0.10 s\n",
            "Operator `forward_grad` run in 0.10 s\n",
            "Operator `born` run in 0.15 s\n",
            "Operator `gradient` run in 0.07 s\n",
            "Operator `born` run in 0.15 s\n",
            "Operator `gradient` run in 0.07 s\n",
            "Operator `born` run in 0.16 s\n",
            "Operator `gradient` run in 0.08 s\n",
            "Operator `born` run in 0.16 s\n",
            "Operator `gradient` run in 0.07 s\n",
            "Operator `born` run in 0.09 s\n",
            "Operator `gradient` run in 0.07 s\n",
            "Operator `born` run in 0.09 s\n",
            "Operator `gradient` run in 0.07 s\n"
          ],
          "name": "stderr"
        },
        {
          "output_type": "execute_result",
          "data": {
            "text/plain": [
              "(17045.906f0, Float32[4.2766547, 4.220422, 2.9038987, 1.3866632, 0.33747298, -0.14142191, -0.41407597, -0.8243422, -1.2516196, -1.263825  …  4.3409967f-18, 2.6953142f-16, 1.964311f-16, 3.4330083f-17, -4.9879f-17, -4.3528355f-17, -8.859447f-18, 8.89615f-18, 6.992353f-18, 6.4973264f-19])"
            ]
          },
          "metadata": {
            "tags": []
          },
          "execution_count": 23
        }
      ]
    },
    {
      "cell_type": "markdown",
      "metadata": {
        "id": "z-wMtIQML70b"
      },
      "source": [
        "### *modeling_basic_3D.jl*"
      ]
    },
    {
      "cell_type": "code",
      "metadata": {
        "id": "MC674-72MGEp",
        "colab": {
          "base_uri": "https://localhost:8080/"
        },
        "outputId": "0cb407f0-2685-427a-bfca-e8c651ab9742"
      },
      "source": [
        "; cd /content/JUDI.jl/examples/scripts"
      ],
      "execution_count": 24,
      "outputs": [
        {
          "output_type": "stream",
          "text": [
            "/content/JUDI.jl/examples/scripts\n"
          ],
          "name": "stdout"
        }
      ]
    },
    {
      "cell_type": "code",
      "metadata": {
        "id": "JulNSkfDMDRy",
        "colab": {
          "base_uri": "https://localhost:8080/"
        },
        "outputId": "da3e4c5f-4d95-45bd-df21-dfc1f6fd25a9"
      },
      "source": [
        "# Example for basic 3D modeling:\r\n",
        "# The receiver positions and the source wavelets are the same for each of the four experiments.\r\n",
        "# Author: Philipp Witte, pwitte@eos.ubc.ca\r\n",
        "# Date: January 2017\r\n",
        "#\r\n",
        "\r\n",
        "using JUDI.TimeModeling\r\n",
        "\r\n",
        "# Set up model structure\r\n",
        "n = (120, 100, 90)    # (x,y,z) or (x,z)\r\n",
        "d = (10., 10., 10.)\r\n",
        "o = (0., 0., 0.)\r\n",
        "\r\n",
        "# Velocity [km/s]\r\n",
        "v = ones(Float32,n) .* 1.4f0\r\n",
        "v0 = ones(Float32,n) .* 1.4f0\r\n",
        "v[:, :, Int(round(end/2)):end] .= 4.0f0\r\n",
        "rho = ones(Float32, n)\r\n",
        "\r\n",
        "# Slowness squared [s^2/km^2]\r\n",
        "m = (1f0 ./ v).^2\r\n",
        "m0 = (1f0 ./ v0).^2\r\n",
        "dm = vec(m - m0)\r\n",
        "\r\n",
        "# Setup info and model structure\r\n",
        "nsrc = 4\r\n",
        "model = Model(n, d, o, m)  # to include density call Model(n,d,o,m,rho)\r\n",
        "model0 = Model(n, d, o, m0)\r\n",
        "\r\n",
        "# Set up 3D receiver geometry by defining one receiver vector in each x and y direction\r\n",
        "nxrec = 120\r\n",
        "nyrec = 100\r\n",
        "xrec = range(50f0, stop=1150f0, length=nxrec)\r\n",
        "yrec = range(100f0, stop=900f0, length=nyrec)\r\n",
        "zrec = 50f0\r\n",
        "\r\n",
        "# Construct 3D grid from basis vectors\r\n",
        "(xrec, yrec, zrec) = setup_3D_grid(xrec, yrec, zrec)\r\n",
        "\r\n",
        "# receiver sampling and recording time\r\n",
        "timeR = 100f0   # receiver recording time [ms]\r\n",
        "dtR = 4f0    # receiver sampling interval\r\n",
        "\r\n",
        "# Set up receiver structure\r\n",
        "recGeometry = Geometry(xrec, yrec, zrec; dt=dtR, t=timeR, nsrc=nsrc)\r\n",
        "\r\n",
        "# Set up source geometry (cell array with source locations for each shot)\r\n",
        "xsrc = convertToCell([250f0, 500f0, 750f0, 1000f0])\r\n",
        "ysrc = convertToCell([200f0, 400f0, 600f0, 800f0])\r\n",
        "zsrc = convertToCell([50f0, 60f0, 70f0, 80f0])\r\n",
        "\r\n",
        "# source sampling and number of time steps\r\n",
        "timeS = 100f0   # source length in [ms]\r\n",
        "dtS = 2f0    # source sampling interval\r\n",
        "\r\n",
        "# Set up source structure\r\n",
        "srcGeometry = Geometry(xsrc, ysrc, zsrc; dt=dtS, t=timeS)\r\n",
        "\r\n",
        "# setup wavelet\r\n",
        "f0 = 0.01f0\r\n",
        "wavelet = ricker_wavelet(timeS, dtS, f0)\r\n",
        "\r\n",
        "# Info structure for linear operators\r\n",
        "ntComp = get_computational_nt(srcGeometry, recGeometry, model)    # no. of computational time steps\r\n",
        "info = Info(prod(n), nsrc, ntComp)"
      ],
      "execution_count": 25,
      "outputs": [
        {
          "output_type": "execute_result",
          "data": {
            "text/plain": [
              "Info(1080000, 4, Any[117, 117, 117, 117])"
            ]
          },
          "metadata": {
            "tags": []
          },
          "execution_count": 25
        }
      ]
    },
    {
      "cell_type": "code",
      "metadata": {
        "id": "9hdy30bsMIf_",
        "colab": {
          "base_uri": "https://localhost:8080/",
          "height": 1000
        },
        "outputId": "cd36786f-5b54-40aa-d055-25f2acb2e242"
      },
      "source": [
        "###################################################################################################\r\n",
        "\r\n",
        "# Enable optimal checkpointing\r\n",
        "opt = Options(optimal_checkpointing=true)\r\n",
        "\r\n",
        "# Setup operators\r\n",
        "Pr = judiProjection(info, recGeometry)\r\n",
        "F = judiModeling(info, model)\r\n",
        "Ps = judiProjection(info, srcGeometry)\r\n",
        "q = judiVector(srcGeometry, wavelet)\r\n",
        "\r\n",
        "# Nonlinear modeling\r\n",
        "dobs = Pr*F*adjoint(Ps)*q\r\n",
        "qad = Ps*F*adjoint(Pr)*dobs\r\n",
        "\r\n",
        "# Linearied modeling\r\n",
        "F0 = judiModeling(info, model0) # modeling operator for background model\r\n",
        "J = judiJacobian(Pr*F0*adjoint(Ps), q)\r\n",
        "dD = J*dm\r\n",
        "rtm = adjoint(J)*dD\r\n",
        "\r\n",
        "# evaluate FWI objective function\r\n",
        "f, g = fwi_objective(model0, q, dobs; options=opt)"
      ],
      "execution_count": 26,
      "outputs": [
        {
          "output_type": "stream",
          "text": [
            "Operator `forward` run in 2.21 s\n",
            "Operator `forward` run in 2.20 s\n",
            "Operator `forward` run in 2.20 s\n",
            "Operator `forward` run in 2.19 s\n",
            "Operator `forward` run in 2.36 s\n",
            "Operator `forward` run in 2.34 s\n",
            "Operator `forward` run in 2.36 s\n",
            "Operator `forward` run in 2.36 s\n",
            "Operator `born` run in 1.72 s\n",
            "Operator `born` run in 1.73 s\n",
            "Operator `born` run in 1.74 s\n",
            "Operator `born` run in 1.74 s\n",
            "tcmalloc: large alloc 1293516800 bytes == 0x548da000 @  0x7f6bc3f9ab6b 0x7f6bc3fba273 0x7f6bc2e05098 0x7f6bc422b9dd 0x7f6bc422b067 0x7f6b9e8d1da8 0x7f6b9e8d208c 0x7f6b9eee5dcf 0x7f6b9ed11fec 0x7f6b9ed18e0b 0x7f6b9ed1b9c0 0x7f6b9ed11f57 0x7f6b9ed15617 0x7f6b9ed1b9c0 0x7f6b9ed11f57 0x7f6b9ed15617 0x7f6b9edb882e 0x7f6b9eee5223 0x7f6b9eee6451 0x7f6b9eee65ce 0x7f6b9eddf95a 0x7f6b9edf5015 0x7f6b9eee5dcf 0x7f6b9ed11fec 0x7f6b9ed159b4 0x7f6b9edb882e 0x7f6b9eee5223 0x7f6b9eecc36d 0x7f6b9ee14030 0x7f6b9ede28bd 0x7f6b9ed1448a\n",
            "Operator `forward` run in 0.91 s\n",
            "Operator `gradient` run in 1.19 s\n",
            "tcmalloc: large alloc 1293516800 bytes == 0xa7690000 @  0x7f6bc3f9ab6b 0x7f6bc3fba273 0x7f6bc2e05098 0x7f6bc422b9dd 0x7f6bc422b067 0x7f6b9e8d1da8 0x7f6b9e8d208c 0x7f6b9eee5dcf 0x7f6b9ed11fec 0x7f6b9ed18e0b 0x7f6b9ed1b9c0 0x7f6b9ed11f57 0x7f6b9ed15617 0x7f6b9ed1b9c0 0x7f6b9ed11f57 0x7f6b9ed15617 0x7f6b9edb882e 0x7f6b9eee5223 0x7f6b9eee6451 0x7f6b9eee65ce 0x7f6b9eddf95a 0x7f6b9edf5015 0x7f6b9eee5dcf 0x7f6b9ed11fec 0x7f6b9ed159b4 0x7f6b9edb882e 0x7f6b9eee5223 0x7f6b9eecc36d 0x7f6b9ee14030 0x7f6b9ede28bd 0x7f6b9ed1448a\n",
            "Operator `forward` run in 0.90 s\n",
            "Operator `gradient` run in 1.18 s\n",
            "Operator `forward` run in 0.90 s\n",
            "Operator `gradient` run in 1.17 s\n",
            "Operator `forward` run in 0.91 s\n",
            "Operator `gradient` run in 1.17 s\n"
          ],
          "name": "stderr"
        },
        {
          "output_type": "error",
          "ename": "LoadError",
          "evalue": "ignored",
          "traceback": [
            "TaskFailedException:\nPyError ($(Expr(:escape, :(ccall(#= /root/.julia/packages/PyCall/BcTLp/src/pyfncall.jl:43 =# @pysym(:PyObject_Call), PyPtr, (PyPtr, PyPtr, PyPtr), o, pyargsptr, kw))))) <class 'ValueError'>\nValueError('Unrecognized argument m=0.5102041')\n  File \"/root/.julia/dev/JUDI/src/pysource/interface.py\", line 665, in J_adjoint_checkpointing\n    wrap_fw = CheckpointOperator(op_f, m=model.m, **uk)\n  File \"/root/.julia/dev/JUDI/src/pysource/checkpoint.py\", line 29, in __init__\n    op_default_args = self.op._prepare_arguments(**kwargs)\n  File \"/root/.julia/conda/3/lib/python3.8/site-packages/devito/operator/operator.py\", line 524, in _prepare_arguments\n    raise ValueError(\"Unrecognized argument %s=%s\" % (k, v))\n\npyerr_check at /root/.julia/packages/PyCall/BcTLp/src/exception.jl:62 [inlined]\npyerr_check at /root/.julia/packages/PyCall/BcTLp/src/exception.jl:66 [inlined]\n_handle_error(::String) at /root/.julia/packages/PyCall/BcTLp/src/exception.jl:83\nmacro expansion at /root/.julia/packages/PyCall/BcTLp/src/exception.jl:97 [inlined]\n#110 at /root/.julia/packages/PyCall/BcTLp/src/pyfncall.jl:43 [inlined]\ndisable_sigint at ./c.jl:446 [inlined]\n__pycall! at /root/.julia/packages/PyCall/BcTLp/src/pyfncall.jl:42 [inlined]\n_pycall!(::PyCall.PyObject, ::PyCall.PyObject, ::Tuple{PyCall.PyObject,Array{Float32,2},Array{Float32,2},Array{Float32,2},Array{Float32,2}}, ::Int64, ::PyCall.PyObject) at /root/.julia/packages/PyCall/BcTLp/src/pyfncall.jl:29\n_pycall!(::PyCall.PyObject, ::PyCall.PyObject, ::Tuple{PyCall.PyObject,Array{Float32,2},Array{Float32,2},Array{Float32,2},Array{Float32,2}}, ::Base.Iterators.Pairs{Symbol,Integer,NTuple{4,Symbol},NamedTuple{(:is_residual, :return_obj, :t_sub, :space_order),Tuple{Bool,Bool,Int64,Int64}}}) at /root/.julia/packages/PyCall/BcTLp/src/pyfncall.jl:11\npycall(::PyCall.PyObject, ::Type{Tuple{Float32,Array{Float32,3}}}, ::PyCall.PyObject, ::Vararg{Any,N} where N; kwargs::Base.Iterators.Pairs{Symbol,Integer,NTuple{4,Symbol},NamedTuple{(:is_residual, :return_obj, :t_sub, :space_order),Tuple{Bool,Bool,Int64,Int64}}}) at /root/.julia/packages/PyCall/BcTLp/src/pyfncall.jl:80\nfwi_objective(::Model, ::judiVector{Float32}, ::judiVector{Float32}, ::Int64; options::Options) at /root/.julia/dev/JUDI/src/TimeModeling/fwi_objective_serial.jl:46\n#137 at /buildworker/worker/package_linux64/build/usr/share/julia/stdlib/v1.5/Distributed/src/remotecall.jl:354 [inlined]\nrun_work_thunk(::Distributed.var\"#137#138\"{typeof(fwi_objective),Tuple{Model,judiVector{Float32},judiVector{Float32},Int64},Base.Iterators.Pairs{Symbol,Options,Tuple{Symbol},NamedTuple{(:options,),Tuple{Options}}}}, ::Bool) at /buildworker/worker/package_linux64/build/usr/share/julia/stdlib/v1.5/Distributed/src/process_messages.jl:79\nremotecall_fetch(::Function, ::Distributed.LocalProcess, ::Model, ::Vararg{Any,N} where N; kwargs::Base.Iterators.Pairs{Symbol,Options,Tuple{Symbol},NamedTuple{(:options,),Tuple{Options}}}) at /buildworker/worker/package_linux64/build/usr/share/julia/stdlib/v1.5/Distributed/src/remotecall.jl:379\nremotecall_fetch(::Function, ::Int64, ::Model, ::Vararg{Any,N} where N; kwargs::Base.Iterators.Pairs{Symbol,Options,Tuple{Symbol},NamedTuple{(:options,),Tuple{Options}}}) at /buildworker/worker/package_linux64/build/usr/share/julia/stdlib/v1.5/Distributed/src/remotecall.jl:421\nremotecall_pool(::Function, ::Function, ::Distributed.WorkerPool, ::Model, ::Vararg{Any,N} where N; kwargs::Base.Iterators.Pairs{Symbol,Options,Tuple{Symbol},NamedTuple{(:options,),Tuple{Options}}}) at /buildworker/worker/package_linux64/build/usr/share/julia/stdlib/v1.5/Distributed/src/workerpool.jl:123\nremotecall_fetch(::Function, ::Distributed.WorkerPool, ::Model, ::Vararg{Any,N} where N; kwargs::Base.Iterators.Pairs{Symbol,Options,Tuple{Symbol},NamedTuple{(:options,),Tuple{Options}}}) at /buildworker/worker/package_linux64/build/usr/share/julia/stdlib/v1.5/Distributed/src/workerpool.jl:229\n(::Distributed.var\"#186#188\"{Distributed.var\"#186#187#189\"{typeof(fwi_objective)}})(::Model, ::Vararg{Any,N} where N; kwargs::Base.Iterators.Pairs{Symbol,Options,Tuple{Symbol},NamedTuple{(:options,),Tuple{Options}}}) at /buildworker/worker/package_linux64/build/usr/share/julia/stdlib/v1.5/Distributed/src/workerpool.jl:273\n(::Base.var\"#56#58\"{Base.var\"#56#57#59\"{ExponentialBackOff,Nothing,Distributed.var\"#186#188\"{Distributed.var\"#186#187#189\"{typeof(fwi_objective)}}}})(::Model, ::Vararg{Any,N} where N; kwargs::Base.Iterators.Pairs{Symbol,Options,Tuple{Symbol},NamedTuple{(:options,),Tuple{Options}}}) at ./error.jl:301\n(::JUDI.TimeModeling.var\"#127#128\"{Model,judiVector{Float32},judiVector{Float32},Base.var\"#56#58\"{Base.var\"#56#57#59\"{ExponentialBackOff,Nothing,Distributed.var\"#186#188\"{Distributed.var\"#186#187#189\"{typeof(fwi_objective)}}}},Array{Any,1},Int64,Options})() at ./task.jl:356\nStacktrace:\n [1] remotecall_fetch(::Function, ::Distributed.LocalProcess, ::Model, ::Vararg{Any,N} where N; kwargs::Base.Iterators.Pairs{Symbol,Options,Tuple{Symbol},NamedTuple{(:options,),Tuple{Options}}}) at /buildworker/worker/package_linux64/build/usr/share/julia/stdlib/v1.5/Distributed/src/remotecall.jl:380\n [2] remotecall_fetch(::Function, ::Int64, ::Model, ::Vararg{Any,N} where N; kwargs::Base.Iterators.Pairs{Symbol,Options,Tuple{Symbol},NamedTuple{(:options,),Tuple{Options}}}) at /buildworker/worker/package_linux64/build/usr/share/julia/stdlib/v1.5/Distributed/src/remotecall.jl:421\n [3] remotecall_pool(::Function, ::Function, ::Distributed.WorkerPool, ::Model, ::Vararg{Any,N} where N; kwargs::Base.Iterators.Pairs{Symbol,Options,Tuple{Symbol},NamedTuple{(:options,),Tuple{Options}}}) at /buildworker/worker/package_linux64/build/usr/share/julia/stdlib/v1.5/Distributed/src/workerpool.jl:123\n [4] remotecall_fetch(::Function, ::Distributed.WorkerPool, ::Model, ::Vararg{Any,N} where N; kwargs::Base.Iterators.Pairs{Symbol,Options,Tuple{Symbol},NamedTuple{(:options,),Tuple{Options}}}) at /buildworker/worker/package_linux64/build/usr/share/julia/stdlib/v1.5/Distributed/src/workerpool.jl:229\n [5] (::Distributed.var\"#186#188\"{Distributed.var\"#186#187#189\"{typeof(fwi_objective)}})(::Model, ::Vararg{Any,N} where N; kwargs::Base.Iterators.Pairs{Symbol,Options,Tuple{Symbol},NamedTuple{(:options,),Tuple{Options}}}) at /buildworker/worker/package_linux64/build/usr/share/julia/stdlib/v1.5/Distributed/src/workerpool.jl:273\n [6] (::Base.var\"#56#58\"{Base.var\"#56#57#59\"{ExponentialBackOff,Nothing,Distributed.var\"#186#188\"{Distributed.var\"#186#187#189\"{typeof(fwi_objective)}}}})(::Model, ::Vararg{Any,N} where N; kwargs::Base.Iterators.Pairs{Symbol,Options,Tuple{Symbol},NamedTuple{(:options,),Tuple{Options}}}) at ./error.jl:301\n [7] (::JUDI.TimeModeling.var\"#127#128\"{Model,judiVector{Float32},judiVector{Float32},Base.var\"#56#58\"{Base.var\"#56#57#59\"{ExponentialBackOff,Nothing,Distributed.var\"#186#188\"{Distributed.var\"#186#187#189\"{typeof(fwi_objective)}}}},Array{Any,1},Int64,Options})() at ./task.jl:356\n\n...and 3 more exception(s).\n",
            "",
            "Stacktrace:",
            " [1] sync_end(::Channel{Any}) at ./task.jl:314",
            " [2] macro expansion at ./task.jl:333 [inlined]",
            " [3] fwi_objective(::Model, ::judiVector{Float32}, ::judiVector{Float32}; options::Options) at /root/.julia/dev/JUDI/src/TimeModeling/fwi_objective_parallel.jl:27",
            " [4] top-level scope at In[26]:23",
            " [5] include_string(::Function, ::Module, ::String, ::String) at ./loading.jl:1091"
          ]
        }
      ]
    },
    {
      "cell_type": "markdown",
      "metadata": {
        "id": "QRfez82jMZaC"
      },
      "source": [
        "### *modeling_extended_source_2D.jl*"
      ]
    },
    {
      "cell_type": "code",
      "metadata": {
        "id": "KtPw5_4SMdSb",
        "colab": {
          "base_uri": "https://localhost:8080/"
        },
        "outputId": "6a619e97-eb5a-4af1-cf02-676d744da7db"
      },
      "source": [
        "; cd /content/JUDI.jl/examples/scripts"
      ],
      "execution_count": 27,
      "outputs": [
        {
          "output_type": "stream",
          "text": [
            "/content/JUDI.jl/examples/scripts\n"
          ],
          "name": "stdout"
        }
      ]
    },
    {
      "cell_type": "code",
      "metadata": {
        "id": "Fb6xlnvCMdx0",
        "colab": {
          "base_uri": "https://localhost:8080/"
        },
        "outputId": "c5b19666-211b-48f0-adc3-61da5eaa51a5"
      },
      "source": [
        "using JUDI.TimeModeling, SegyIO, LinearAlgebra, PyPlot\r\n",
        "\r\n",
        "# Set up model structure\r\n",
        "n = (120, 100)   # (x,y,z) or (x,z)\r\n",
        "d = (10., 10.)\r\n",
        "o = (0., 0.)\r\n",
        "\r\n",
        "# Velocity [km/s]\r\n",
        "v = ones(Float32,n) .+ 0.4f0\r\n",
        "v[:,Int(round(end/2)):end] .= 3f0\r\n",
        "v0 = ones(Float32,n) .+ 0.4f0\r\n",
        "\r\n",
        "# Slowness squared [s^2/km^2]\r\n",
        "m0 = (1f0 ./ v0).^2\r\n",
        "m = (1f0 ./ v).^2\r\n",
        "dm = vec(m - m0)\r\n",
        "\r\n",
        "# Setup info and model structure\r\n",
        "nsrc = 2\t# number of sources\r\n",
        "model0 = Model(n, d, o, m0)\r\n",
        "model = Model(n, d, o, m)\r\n",
        "\r\n",
        "# Set up receiver geometry\r\n",
        "nxrec = 120\r\n",
        "xrec = range(50f0, stop=1150f0, length=nxrec)\r\n",
        "yrec = 0f0\r\n",
        "zrec = range(50f0, stop=50f0, length=nxrec)\r\n",
        "\r\n",
        "# receiver sampling and recording time\r\n",
        "time = 1000f0   # receiver recording time [ms]\r\n",
        "dt = 4f0    # receiver sampling interval [ms]\r\n",
        "\r\n",
        "# Set up receiver structure\r\n",
        "recGeometry = Geometry(xrec, yrec, zrec; dt=dt, t=time, nsrc=nsrc)\r\n",
        "\r\n",
        "# Source wavelet\r\n",
        "f0 = 0.01f0     # MHz\r\n",
        "wavelet = ricker_wavelet(time, dt, f0)\r\n",
        "\r\n",
        "# Set up info structure for linear operators\r\n",
        "ntComp = get_computational_nt(recGeometry, model)\r\n",
        "info = Info(prod(n), nsrc, ntComp)"
      ],
      "execution_count": 28,
      "outputs": [
        {
          "output_type": "execute_result",
          "data": {
            "text/plain": [
              "Info(12000, 2, Any[794, 794])"
            ]
          },
          "metadata": {
            "tags": []
          },
          "execution_count": 28
        }
      ]
    },
    {
      "cell_type": "code",
      "metadata": {
        "id": "vfFTisa6MiOI",
        "colab": {
          "base_uri": "https://localhost:8080/"
        },
        "outputId": "486d138b-2b82-44c7-8881-d58ade9e79eb"
      },
      "source": [
        "###################################################################################################\r\n",
        "\r\n",
        "# Write shots as segy files to disk\r\n",
        "opt = Options(return_array=false, dt_comp=1.0, free_surface=true)\r\n",
        "\r\n",
        "# Setup operators\r\n",
        "Pr = judiProjection(info, recGeometry)\r\n",
        "F = judiModeling(info, model; options=opt)\r\n",
        "\r\n",
        "# Extended source weights\r\n",
        "weights = Array{Array}(undef, nsrc)\r\n",
        "for j=1:nsrc\r\n",
        "    weights[j] = randn(Float32, model.n)\r\n",
        "end\r\n",
        "w = judiWeights(weights)\r\n",
        "\r\n",
        "# Create operator for injecting the weights, multiplied by the provided wavelet(s)\r\n",
        "Pw = judiLRWF(info, wavelet)\r\n",
        "\r\n",
        "# Model observed data w/ extended source\r\n",
        "F = Pr*F*adjoint(Pw)\r\n",
        "\r\n",
        "# Simultaneous observed data\r\n",
        "d_sim = F*w\r\n",
        "dw = adjoint(F)*d_sim\r\n",
        "\r\n",
        "# Jacobian\r\n",
        "J = judiJacobian(F, w)\r\n",
        "d_lin = J*dm\r\n",
        "g = adjoint(J)*d_lin"
      ],
      "execution_count": 29,
      "outputs": [
        {
          "output_type": "stream",
          "text": [
            "Operator `forward` run in 0.09 s\n",
            "Operator `forward` run in 0.09 s\n",
            "Operator `adjoint` run in 0.09 s\n",
            "Operator `adjoint` run in 0.09 s\n",
            "Operator `born` run in 0.19 s\n",
            "Operator `born` run in 0.20 s\n",
            "Operator `forward` run in 0.12 s\n",
            "Operator `gradient` run in 0.11 s\n",
            "Operator `forward` run in 0.12 s\n",
            "Operator `gradient` run in 0.11 s\n"
          ],
          "name": "stderr"
        },
        {
          "output_type": "execute_result",
          "data": {
            "text/plain": [
              "12000×1 PhysicalParameter{Float32} with size (120, 100), spacing (10.0, 10.0) and origin (0.0, 0.0):\n",
              "   0.0\n",
              "   0.0\n",
              "   0.0\n",
              "   0.0\n",
              "   0.0\n",
              "   0.0\n",
              "   0.0\n",
              "   0.0\n",
              "   0.0\n",
              "   0.0\n",
              "   0.0\n",
              "   0.0\n",
              "   0.0\n",
              "   ⋮\n",
              " #undef\n",
              " #undef\n",
              " #undef\n",
              " #undef\n",
              " #undef\n",
              " #undef\n",
              " #undef\n",
              " #undef\n",
              " #undef\n",
              " #undef\n",
              " #undef\n",
              " #undef"
            ]
          },
          "metadata": {
            "tags": []
          },
          "execution_count": 29
        }
      ]
    },
    {
      "cell_type": "code",
      "metadata": {
        "id": "R4SKt0txMlDP",
        "colab": {
          "base_uri": "https://localhost:8080/",
          "height": 710
        },
        "outputId": "075a6572-5954-4d10-8704-ba91f07c26d9"
      },
      "source": [
        "# Plot results\r\n",
        "figure()\r\n",
        "subplot(1,2,1)\r\n",
        "imshow(d_sim.data[1], vmin=-5e2, vmax=5e2, cmap=\"gray\"); title(\"Non-linear shot record\")\r\n",
        "subplot(1,2,2)\r\n",
        "imshow(d_lin.data[1], vmin=-5e3, vmax=5e3, cmap=\"gray\"); title(\"Linearized shot record\")\r\n",
        "\r\n",
        "figure()\r\n",
        "subplot(1,2,1)\r\n",
        "imshow(adjoint(dw.weights[1]), vmin=-5e6, vmax=5e6, cmap=\"gray\"); title(\"Weights 1\")\r\n",
        "subplot(1,2,2)\r\n",
        "imshow(adjoint(reshape(g, model0.n)), vmin=-1e8, vmax=1e8, cmap=\"gray\"); title(\"Gradient w.r.t. m\")"
      ],
      "execution_count": 30,
      "outputs": [
        {
          "output_type": "error",
          "ename": "LoadError",
          "evalue": "ignored",
          "traceback": [
            "BoundsError: attempt to access 120×100 Array{Float32,2} at index [121, 1]",
            "",
            "Stacktrace:",
            " [1] getindex(::Array{Float32,2}, ::Int64, ::Int64) at ./array.jl:810",
            " [2] getindex(::PhysicalParameter{Float32}, ::Int64, ::Int64) at /root/.julia/dev/JUDI/src/TimeModeling/ModelStructure.jl:125",
            " [3] _unsafe_getindex_rs at ./reshapedarray.jl:249 [inlined]",
            " [4] _unsafe_getindex at ./reshapedarray.jl:246 [inlined]",
            " [5] getindex at ./reshapedarray.jl:234 [inlined]",
            " [6] _getindex at ./abstractarray.jl:1100 [inlined]",
            " [7] getindex at ./abstractarray.jl:1060 [inlined]",
            " [8] _permutedims!(::PermutedDimsArray{Float32,2,(2, 1),(2, 1),Array{Float32,2}}, ::Base.ReshapedArray{Float32,2,PhysicalParameter{Float32},Tuple{Base.MultiplicativeInverses.SignedMultiplicativeInverse{Int64}}}, ::CartesianIndices{0,Tuple{}}, ::CartesianIndices{0,Tuple{}}, ::CartesianIndices{0,Tuple{}}, ::Int64, ::Int64) at ./permuteddimsarray.jl:232",
            " [9] _copy!(::PermutedDimsArray{Float32,2,(2, 1),(2, 1),Array{Float32,2}}, ::Base.ReshapedArray{Float32,2,PhysicalParameter{Float32},Tuple{Base.MultiplicativeInverses.SignedMultiplicativeInverse{Int64}}}) at ./permuteddimsarray.jl:221",
            " [10] permutedims!(::Array{Float32,2}, ::Base.ReshapedArray{Float32,2,PhysicalParameter{Float32},Tuple{Base.MultiplicativeInverses.SignedMultiplicativeInverse{Int64}}}, ::Tuple{Int64,Int64}) at ./permuteddimsarray.jl:197",
            " [11] permutedims at ./permuteddimsarray.jl:116 [inlined]",
            " [12] permutedims at ./permuteddimsarray.jl:152 [inlined]",
            " [13] PyReverseDims at /root/.julia/packages/PyCall/BcTLp/src/numpy.jl:208 [inlined]",
            " [14] PyObject at /root/.julia/packages/PyCall/BcTLp/src/numpy.jl:224 [inlined]",
            " [15] _pycall!(::PyCall.PyObject, ::PyCall.PyObject, ::Tuple{Adjoint{Float32,Base.ReshapedArray{Float32,2,PhysicalParameter{Float32},Tuple{Base.MultiplicativeInverses.SignedMultiplicativeInverse{Int64}}}}}, ::Int64, ::PyCall.PyObject) at /root/.julia/packages/PyCall/BcTLp/src/pyfncall.jl:24",
            " [16] _pycall!(::PyCall.PyObject, ::PyCall.PyObject, ::Tuple{Adjoint{Float32,Base.ReshapedArray{Float32,2,PhysicalParameter{Float32},Tuple{Base.MultiplicativeInverses.SignedMultiplicativeInverse{Int64}}}}}, ::Base.Iterators.Pairs{Symbol,Any,Tuple{Symbol,Symbol,Symbol},NamedTuple{(:vmin, :vmax, :cmap),Tuple{Float64,Float64,String}}}) at /root/.julia/packages/PyCall/BcTLp/src/pyfncall.jl:11",
            " [17] #pycall#116 at /root/.julia/packages/PyCall/BcTLp/src/pyfncall.jl:83 [inlined]",
            " [18] imshow(::Adjoint{Float32,Base.ReshapedArray{Float32,2,PhysicalParameter{Float32},Tuple{Base.MultiplicativeInverses.SignedMultiplicativeInverse{Int64}}}}; kws::Base.Iterators.Pairs{Symbol,Any,Tuple{Symbol,Symbol,Symbol},NamedTuple{(:vmin, :vmax, :cmap),Tuple{Float64,Float64,String}}}) at /root/.julia/packages/PyPlot/XHEG0/src/PyPlot.jl:177",
            " [19] top-level scope at In[30]:12",
            " [20] include_string(::Function, ::Module, ::String, ::String) at ./loading.jl:1091"
          ]
        }
      ]
    },
    {
      "cell_type": "markdown",
      "metadata": {
        "id": "0kF-0d6AMqr6"
      },
      "source": [
        "### *modeling_extended_source_3D.jl*"
      ]
    },
    {
      "cell_type": "code",
      "metadata": {
        "id": "OYxPhuljMsk1",
        "colab": {
          "base_uri": "https://localhost:8080/"
        },
        "outputId": "d2031127-4d92-49b2-a8ec-5962945949c0"
      },
      "source": [
        "; cd /content/JUDI.jl/examples/scripts"
      ],
      "execution_count": 31,
      "outputs": [
        {
          "output_type": "stream",
          "text": [
            "/content/JUDI.jl/examples/scripts\n"
          ],
          "name": "stdout"
        }
      ]
    },
    {
      "cell_type": "code",
      "metadata": {
        "id": "Ue8bx8BIMxzu",
        "colab": {
          "base_uri": "https://localhost:8080/"
        },
        "outputId": "22c4b153-3479-4e41-f036-5066b862b1bd"
      },
      "source": [
        "# Example for basic 2D modeling:\r\n",
        "# The receiver positions and the source wavelets are the same for each of the four experiments.\r\n",
        "# Author: Philipp Witte, pwitte@eos.ubc.ca\r\n",
        "# Date: January 2017\r\n",
        "#\r\n",
        "\r\n",
        "using JUDI.TimeModeling, SegyIO, LinearAlgebra, PyPlot\r\n",
        "\r\n",
        "# Set up model structure\r\n",
        "n = (100, 100, 80)   # (x,y,z) or (x,z)\r\n",
        "d = (10., 10., 10.)\r\n",
        "o = (0., 0., 0.)\r\n",
        "\r\n",
        "# Velocity [km/s]\r\n",
        "v = ones(Float32,n) .+ 0.4f0\r\n",
        "v[:, :, Int(round(end/2)):end] .= 3f0\r\n",
        "v0 = ones(Float32,n) .+ 0.4f0\r\n",
        "\r\n",
        "\r\n",
        "# Slowness squared [s^2/km^2]\r\n",
        "m0 = (1f0 ./ v0).^2\r\n",
        "m = (1f0 ./ v).^2\r\n",
        "dm = vec(m - m0)\r\n",
        "\r\n",
        "# Setup info and model structure\r\n",
        "nsrc = 1\t# number of sources\r\n",
        "model0 = Model(n, d, o, m0)\r\n",
        "model = Model(n, d, o, m)\r\n",
        "\r\n",
        "# Receiver geometry\r\n",
        "nxrec = 120\r\n",
        "nyrec = 100\r\n",
        "xrec = range(50f0, stop=1150f0, length=nxrec)\r\n",
        "yrec = range(100f0, stop=900f0, length=nyrec)\r\n",
        "zrec = 50f0\r\n",
        "\r\n",
        "# Construct 3D grid from basis vectors\r\n",
        "(xrec, yrec, zrec) = setup_3D_grid(xrec, yrec, zrec)\r\n",
        "\r\n",
        "# receiver sampling and recording time\r\n",
        "time = 50f0   # receiver recording time [ms]\r\n",
        "dt = 4f0    # receiver sampling interval [ms]\r\n",
        "\r\n",
        "# Set up receiver structure\r\n",
        "recGeometry = Geometry(xrec, yrec, zrec; dt=dt, t=time, nsrc=nsrc)\r\n",
        "\r\n",
        "# Source wavelet\r\n",
        "f0 = 0.01f0     # MHz\r\n",
        "wavelet = ricker_wavelet(time, dt, f0)\r\n",
        "\r\n",
        "# Set up info structure for linear operators\r\n",
        "ntComp = get_computational_nt(recGeometry, model)\r\n",
        "info = Info(prod(n), nsrc, ntComp)"
      ],
      "execution_count": 32,
      "outputs": [
        {
          "output_type": "execute_result",
          "data": {
            "text/plain": [
              "Info(800000, 1, Any[43])"
            ]
          },
          "metadata": {
            "tags": []
          },
          "execution_count": 32
        }
      ]
    },
    {
      "cell_type": "code",
      "metadata": {
        "id": "dMJHEnwbM4OG",
        "colab": {
          "base_uri": "https://localhost:8080/"
        },
        "outputId": "084b2554-3064-42f6-8956-c4cc8c6897f0"
      },
      "source": [
        "###################################################################################################\r\n",
        "\r\n",
        "# Write shots as segy files to disk\r\n",
        "opt = Options(return_array=false)\r\n",
        "\r\n",
        "# Setup operators\r\n",
        "Pr = judiProjection(info, recGeometry)\r\n",
        "F = judiModeling(info, model; options=opt)\r\n",
        "\r\n",
        "# Random weights (size of the model)\r\n",
        "weights = randn(Float32, model.n)\r\n",
        "w = judiWeights(weights)\r\n",
        "\r\n",
        "# Create operator for injecting the weights, multiplied by the provided wavelet(s)\r\n",
        "Pw = judiLRWF(info, wavelet)\r\n",
        "\r\n",
        "# Model observed data w/ extended source\r\n",
        "F = Pr*F*adjoint(Pw)\r\n",
        "\r\n",
        "# Simultaneous observed data\r\n",
        "d_sim = F*w\r\n",
        "dw = adjoint(F)*d_sim\r\n",
        "\r\n",
        "# Jacobian\r\n",
        "J = judiJacobian(F, w)\r\n",
        "d_lin = J*dm\r\n",
        "g = adjoint(J)*d_lin"
      ],
      "execution_count": 33,
      "outputs": [
        {
          "output_type": "stream",
          "text": [
            "Operator `forward` run in 0.71 s\n",
            "Operator `adjoint` run in 0.77 s\n",
            "Operator `born` run in 1.68 s\n",
            "Operator `forward` run in 0.93 s\n",
            "Operator `gradient` run in 1.07 s\n"
          ],
          "name": "stderr"
        },
        {
          "output_type": "execute_result",
          "data": {
            "text/plain": [
              "800000×1 PhysicalParameter{Float32} with size (100, 100, 80), spacing (10.0, 10.0, 10.0) and origin (0.0, 0.0, 0.0):\n",
              " #undef\n",
              " #undef\n",
              " #undef\n",
              " #undef\n",
              " #undef\n",
              " #undef\n",
              " #undef\n",
              " #undef\n",
              " #undef\n",
              " #undef\n",
              " #undef\n",
              " #undef\n",
              " #undef\n",
              "   ⋮\n",
              " #undef\n",
              " #undef\n",
              " #undef\n",
              " #undef\n",
              " #undef\n",
              " #undef\n",
              " #undef\n",
              " #undef\n",
              " #undef\n",
              " #undef\n",
              " #undef\n",
              " #undef"
            ]
          },
          "metadata": {
            "tags": []
          },
          "execution_count": 33
        }
      ]
    },
    {
      "cell_type": "markdown",
      "metadata": {
        "id": "5fW7a8upM8FF"
      },
      "source": [
        "### *modeling_medical_2D.jl*"
      ]
    },
    {
      "cell_type": "code",
      "metadata": {
        "id": "anTNARzsND2E",
        "colab": {
          "base_uri": "https://localhost:8080/",
          "height": 248
        },
        "outputId": "0abd03e8-06e6-49ad-f75a-86f16a271218"
      },
      "source": [
        "using JUDI.TimeModeling, SegyIO, LinearAlgebra, PyPlot\r\n",
        "\r\n",
        "# Set up model structure\r\n",
        "n = (121, 101)   # (x,y,z) or (x,z)\r\n",
        "d = (2.5f0, 2.5f0) # in mm\r\n",
        "o = (0., 0.)\r\n",
        "\r\n",
        "# Velocity [km/s]\r\n",
        "v = ones(Float32,n) .+ 0.5f0\r\n",
        "v0 = ones(Float32,n) .+ 0.5f0\r\n",
        "v[:,Int(round(end/2)):end] .= 4f0\r\n",
        "\r\n",
        "# Slowness squared [s^2/km^2]\r\n",
        "m = (1f0 ./ v).^2\r\n",
        "m0 = (1f0 ./ v0).^2\r\n",
        "dm = vec(m - m0)\r\n",
        "\r\n",
        "# Setup info and model structure\r\n",
        "nsrc = 1\t# number of sources\r\n",
        "model = Model(n, d, o, m, rho)\r\n",
        "model0 = Model(n, d, o, m0, rho)\r\n",
        "\r\n",
        "## Set up receiver geometry\r\n",
        "nxrec = 120\r\n",
        "xrec = range(d[1], stop=d[2]*(n[1]-1), length=nxrec)\r\n",
        "yrec = 0f0\r\n",
        "zrec = range(d[1], stop=d[1], length=nxrec)\r\n",
        "\r\n",
        "# receiver sampling and recording time\r\n",
        "timeR = 250f0   # receiver recording time [ms]\r\n",
        "dtR = 0.2f0    # receiver sampling interval [ms]\r\n",
        "\r\n",
        "# Set up receiver structure\r\n",
        "recGeometry = Geometry(xrec, yrec, zrec; dt=dtR, t=timeR, nsrc=nsrc)\r\n",
        "\r\n",
        "## Set up source geometry (cell array with source locations for each shot)\r\n",
        "xsrc = convertToCell([d[1]*61])\r\n",
        "ysrc = convertToCell([0f0])\r\n",
        "zsrc = convertToCell([d[1]])\r\n",
        "\r\n",
        "# source sampling and number of time steps\r\n",
        "timeS = 250f0     # ms\r\n",
        "dtS =  0.2f0    # ms\r\n",
        "\r\n",
        "# Set up source structure\r\n",
        "srcGeometry = Geometry(xsrc, ysrc, zsrc; dt=dtS, t=timeS)\r\n",
        "\r\n",
        "# setup wavelet\r\n",
        "f0 = .05  # MHz\r\n",
        "wavelet = ricker_wavelet(timeS, dtS, f0)\r\n",
        "q = judiVector(srcGeometry, wavelet)\r\n",
        "\r\n",
        "# Set up info structure for linear operators\r\n",
        "ntComp = get_computational_nt(srcGeometry, recGeometry, model)\r\n",
        "info = Info(prod(n), nsrc, ntComp)"
      ],
      "execution_count": 34,
      "outputs": [
        {
          "output_type": "error",
          "ename": "LoadError",
          "evalue": "ignored",
          "traceback": [
            "JUDI.TimeModeling.PhysicalParameterException(\"Incompatible number of element in input 1080000 with n=(121, 101)\")",
            "",
            "Stacktrace:",
            " [1] PhysicalParameter at /root/.julia/dev/JUDI/src/TimeModeling/ModelStructure.jl:76 [inlined]",
            " [2] Model(::Tuple{Int64,Int64}, ::Tuple{Float32,Float32}, ::Tuple{Float64,Float64}, ::Array{Float32,2}; epsilon::Nothing, delta::Nothing, theta::Nothing, phi::Nothing, rho::Array{Float32,3}, nb::Int64) at /root/.julia/dev/JUDI/src/TimeModeling/ModelStructure.jl:295",
            " [3] #Model#6 at /root/.julia/dev/JUDI/src/TimeModeling/ModelStructure.jl:302 [inlined]",
            " [4] Model(::Tuple{Int64,Int64}, ::Tuple{Float32,Float32}, ::Tuple{Float64,Float64}, ::Array{Float32,2}, ::Array{Float32,3}) at /root/.julia/dev/JUDI/src/TimeModeling/ModelStructure.jl:302",
            " [5] top-level scope at In[34]:20",
            " [6] include_string(::Function, ::Module, ::String, ::String) at ./loading.jl:1091"
          ]
        }
      ]
    },
    {
      "cell_type": "code",
      "metadata": {
        "id": "dl7swVaENEch",
        "colab": {
          "base_uri": "https://localhost:8080/",
          "height": 214
        },
        "outputId": "900098b4-b861-437d-9ffb-05e33cf68d91"
      },
      "source": [
        "###################################################################################################\r\n",
        "\r\n",
        "opt = Options(isic=true)\r\n",
        "# Setup operators\r\n",
        "Pr = judiProjection(info, recGeometry)\r\n",
        "F = judiModeling(info, model)\r\n",
        "F0 = judiModeling(info, model0; options=opt)\r\n",
        "Ps = judiProjection(info, srcGeometry)\r\n",
        "J = judiJacobian(Pr*F0*adjoint(Ps), q)\r\n",
        "\r\n",
        "# Nonlinear modeling\r\n",
        "dobs = Pr*F*adjoint(Ps)*q\r\n",
        "\r\n",
        "\r\n",
        "# With a transducer source pointing down so pi/2 angle and radius 5mm (1cm diameter)\r\n",
        "q2 = transducer(q, model.d, 5, pi/2 .* ones(q.nsrc))\r\n",
        "Ps2 = judiProjection(info, q2.geometry)\r\n",
        "\r\n",
        "dobs2 = Pr*F*adjoint(Ps2)*q2"
      ],
      "execution_count": 35,
      "outputs": [
        {
          "output_type": "error",
          "ename": "LoadError",
          "evalue": "ignored",
          "traceback": [
            "judiPDEfullException(\"shape mismatch\")",
            "",
            "Stacktrace:",
            " [1] *(::judiPDEfull{Float32,Float32}, ::judiVector{Float32}) at /root/.julia/dev/JUDI/src/TimeModeling/judiPDEfull.jl:116",
            " [2] afoldl at ./operators.jl:525 [inlined]",
            " [3] *(::judiProjection{Float32,Float32}, ::judiModeling{Float32,Float32}, ::judiProjection{Float32,Float32}, ::judiVector{Float32}) at ./operators.jl:538",
            " [4] top-level scope at In[35]:12",
            " [5] include_string(::Function, ::Module, ::String, ::String) at ./loading.jl:1091"
          ]
        }
      ]
    },
    {
      "cell_type": "code",
      "metadata": {
        "id": "nHtBvR4ING0J",
        "colab": {
          "base_uri": "https://localhost:8080/",
          "height": 146
        },
        "outputId": "f344ee59-2195-4780-c7fc-c3c4494059b5"
      },
      "source": [
        "a = 1e-1\r\n",
        "figure()\r\n",
        "subplot(121)\r\n",
        "imshow(dobs.data[1], vmin=-a, vmax=a, cmap=\"seismic\", aspect=.25)\r\n",
        "title(\"Point source\")\r\n",
        "subplot(122)\r\n",
        "imshow(dobs2.data[1], vmin=-a, vmax=a, cmap=\"seismic\", aspect=.25)\r\n",
        "title(\"Transducer source\")\r\n",
        "\r\n",
        "dm = J'*dobs2"
      ],
      "execution_count": 36,
      "outputs": [
        {
          "output_type": "error",
          "ename": "LoadError",
          "evalue": "ignored",
          "traceback": [
            "UndefVarError: dobs2 not defined",
            "",
            "Stacktrace:",
            " [1] top-level scope at In[36]:7",
            " [2] include_string(::Function, ::Module, ::String, ::String) at ./loading.jl:1091"
          ]
        }
      ]
    },
    {
      "cell_type": "markdown",
      "metadata": {
        "id": "gkyNzrc7NKI2"
      },
      "source": [
        "### *modeling_wavefields_2D.jl*"
      ]
    },
    {
      "cell_type": "code",
      "metadata": {
        "id": "WsGoCYNdNPFs",
        "colab": {
          "base_uri": "https://localhost:8080/"
        },
        "outputId": "9e437823-cdd1-46e4-fa6f-f4bdd253fbed"
      },
      "source": [
        "; cd /content/JUDI.jl/examples/scripts"
      ],
      "execution_count": 37,
      "outputs": [
        {
          "output_type": "stream",
          "text": [
            "/content/JUDI.jl/examples/scripts\n"
          ],
          "name": "stdout"
        }
      ]
    },
    {
      "cell_type": "code",
      "metadata": {
        "id": "O7HUfjZRNPki",
        "colab": {
          "base_uri": "https://localhost:8080/"
        },
        "outputId": "4045a47b-750c-48bb-be62-61ffd39d4859"
      },
      "source": [
        "# Example for basic 2D modeling:\r\n",
        "# The receiver positions and the source wavelets are the same for each of the four experiments.\r\n",
        "# Author: Philipp Witte, pwitte@eos.ubc.ca\r\n",
        "# Date: January 2017\r\n",
        "#\r\n",
        "\r\n",
        "using LinearAlgebra, Random\r\n",
        "using JUDI, JUDI.TimeModeling, SegyIO\r\n",
        "\r\n",
        "# Set up model structure\r\n",
        "n = (120, 100)   # (x,y,z) or (x,z)\r\n",
        "d = (10., 10.)\r\n",
        "o = (0., 0.)\r\n",
        "\r\n",
        "# Velocity [km/s]\r\n",
        "v = ones(Float32,n) .+ 0.4f0\r\n",
        "v0 = ones(Float32,n) .+ 0.4f0\r\n",
        "v[:,Int(round(end/2)):end] .= 3f0\r\n",
        "\r\n",
        "# Slowness squared [s^2/km^2]\r\n",
        "m = (1f0 ./ v).^2\r\n",
        "m0 = (1f0 ./ v0).^2\r\n",
        "dm = vec(m - m0)\r\n",
        "\r\n",
        "# Setup info and model structure\r\n",
        "nsrc = 2\t# number of sources\r\n",
        "model = Model(n, d, o, m)\r\n",
        "model0 = Model(n, d, o, m0)\r\n",
        "\r\n",
        "# Set up receiver geometry\r\n",
        "nxrec = 120\r\n",
        "xrec = range(50f0, stop=1150f0, length=nxrec)\r\n",
        "yrec = 0f0\r\n",
        "zrec = range(50f0, stop=50f0, length=nxrec)\r\n",
        "\r\n",
        "# receiver sampling and recording time\r\n",
        "timeR = 1000f0   # receiver recording time [ms]\r\n",
        "dtR = 4f0    # receiver sampling interval [ms]\r\n",
        "\r\n",
        "# Set up receiver structure\r\n",
        "recGeometry = Geometry(xrec, yrec, zrec; dt=dtR, t=timeR, nsrc=nsrc)\r\n",
        "\r\n",
        "# Set up source geometry (cell array with source locations for each shot)\r\n",
        "xsrc = convertToCell([400f0, 800f0])\r\n",
        "ysrc = convertToCell([0f0, 0f0])\r\n",
        "zsrc = convertToCell([20f0, 20f0])\r\n",
        "\r\n",
        "# source sampling and number of time steps\r\n",
        "timeS = 1000f0  # ms\r\n",
        "dtS = 4f0   # ms\r\n",
        "\r\n",
        "# Set up source structure\r\n",
        "srcGeometry = Geometry(xsrc, ysrc, zsrc; dt=dtS, t=timeS)\r\n",
        "\r\n",
        "# setup wavelet\r\n",
        "f0 = 0.01f0     # MHz\r\n",
        "wavelet = ricker_wavelet(timeS, dtS, f0)\r\n",
        "q = judiVector(srcGeometry, wavelet)\r\n",
        "\r\n",
        "# Set up info structure for linear operators\r\n",
        "ntComp = get_computational_nt(srcGeometry, recGeometry, model)\r\n",
        "info = Info(prod(n), nsrc, ntComp)"
      ],
      "execution_count": 38,
      "outputs": [
        {
          "output_type": "execute_result",
          "data": {
            "text/plain": [
              "Info(12000, 2, Any[794, 794])"
            ]
          },
          "metadata": {
            "tags": []
          },
          "execution_count": 38
        }
      ]
    },
    {
      "cell_type": "code",
      "metadata": {
        "id": "f3qeXNcLNTdM",
        "colab": {
          "base_uri": "https://localhost:8080/"
        },
        "outputId": "db99ef35-b3ac-482d-a0b9-29f25178b929"
      },
      "source": [
        "###################################################################################################\r\n",
        "\r\n",
        "# Write shots as segy files to disk\r\n",
        "opt = Options()\r\n",
        "\r\n",
        "# Setup operators\r\n",
        "Pr = judiProjection(info, recGeometry)\r\n",
        "F = judiModeling(info, model; options=opt)\r\n",
        "F0 = judiModeling(info, model0; options=opt)\r\n",
        "Ps = judiProjection(info, srcGeometry)\r\n",
        "J = judiJacobian(Pr*F0*adjoint(Ps), q)\r\n",
        "\r\n",
        "# Nonlinear modeling\r\n",
        "dobs = Pr*F*adjoint(Ps)*q\r\n",
        "qad = Ps*adjoint(F)*adjoint(Pr)*dobs\r\n",
        "\r\n",
        "# Return wavefields\r\n",
        "u = F*adjoint(Ps)*q\r\n",
        "v = adjoint(F)*adjoint(Pr)*dobs\r\n",
        "\r\n",
        "# Modify wavefields\r\n",
        "v = abs(v)  # take absolute value\r\n",
        "u = 2*u # multiple by scalar\r\n",
        "\r\n",
        "# Wavefields as source\r\n",
        "dnew = Pr*F*v\r\n",
        "qnew = Ps*adjoint(F)*u\r\n",
        "\r\n",
        "# Create custom wavefield as source (needs to be on computational time axis and contain padding)\r\n",
        "dtComp = get_dt(model)\r\n",
        "u0 = zeros(Float32, ntComp[1], model.n[1] + 2*model.nb, model.n[2] + 2*model.nb)\r\n",
        "u0[:, 100, 45] = wavelet = -ricker_wavelet(timeS, dtComp, f0)\r\n",
        "uf = judiWavefield(info, dtComp, u0)\r\n",
        "dobs2 = Pr*F*uf # same as dobs\r\n",
        "\r\n",
        "# Wavefields as source + return wavefields\r\n",
        "u2 = F*u\r\n",
        "v2 = F*v\r\n",
        "\r\n",
        "# Supported algebraic operations\r\n",
        "u_add = u + u\r\n",
        "u_sub = u - v\r\n",
        "u_mult = u * 2f0\r\n",
        "u_div = u / 2f0\r\n",
        "u_norm = norm(u)\r\n",
        "u_dot = dot(u, u)\r\n",
        "u_abs = abs(u)"
      ],
      "execution_count": 39,
      "outputs": [
        {
          "output_type": "stream",
          "text": [
            "Operator `forward` run in 0.05 s\n",
            "Operator `forward` run in 0.05 s\n",
            "Operator `adjoint` run in 0.05 s\n",
            "Operator `adjoint` run in 0.05 s\n",
            "Operator `forward` run in 0.08 s\n",
            "Operator `forward` run in 0.07 s\n",
            "Operator `adjoint` run in 0.08 s\n",
            "Operator `adjoint` run in 0.08 s\n",
            "Operator `forward` run in 0.06 s\n",
            "Operator `forward` run in 0.06 s\n",
            "Operator `adjoint` run in 0.05 s\n",
            "Operator `adjoint` run in 0.05 s\n",
            "Operator `forward` run in 0.06 s\n",
            "Operator `forward` run in 0.05 s\n",
            "Operator `forward` run in 0.08 s\n",
            "Operator `forward` run in 0.08 s\n",
            "Operator `forward` run in 0.08 s\n",
            "Operator `forward` run in 0.08 s\n"
          ],
          "name": "stderr"
        },
        {
          "output_type": "execute_result",
          "data": {
            "text/plain": [
              "judiWavefield{Float32}(\"judiWavefield\", 19056000, 1, Info(12000, 2, Any[794, 794]), 1.26f0, Any[Float32[0.0 0.0 … 0.0 0.0; 0.0 0.0 … 0.0 0.0; … ; 5.6904508f-5 0.000115164774 … 0.08919447 0.047491174; 5.6328543f-5 0.00011370143 … 0.08811304 0.047692508]\n",
              "\n",
              "Float32[0.0 0.0 … 0.0 0.0; 0.0 0.0 … 0.0 0.0; … ; 0.00011720283 0.00024387117 … 0.17843586 0.09679096; 0.000115444556 0.00024273207 … 0.17454816 0.09635468]\n",
              "\n",
              "Float32[0.0 0.0 … 0.0 0.0; 0.0 0.0 … 0.0 0.0; … ; 0.0001773574 0.0003727519 … 0.24817845 0.13823149; 0.00017586863 0.00036891596 … 0.23960397 0.13586047]\n",
              "\n",
              "...\n",
              "\n",
              "Float32[0.0 0.0 … 0.0 0.0; 0.0 0.0 … 0.0 0.0; … ; 1.34791235f-5 3.1807376f-5 … 0.007565126 0.0035746587; 1.24511425f-5 2.9486779f-5 … 0.0068416744 0.0032311706]\n",
              "\n",
              "Float32[0.0 0.0 … 0.0 0.0; 0.0 0.0 … 0.0 0.0; … ; 1.2826364f-6 2.3423268f-6 … 0.004922526 0.0023198253; 2.3827886f-6 5.226108f-7 … 0.0044520264 0.0020975203]\n",
              "\n",
              "Float32[0.0 0.0 … 0.0 0.0; 0.0 0.0 … 0.0 0.0; … ; 4.430787f-6 6.1402925f-6 … 0.0023249555 0.0010921311; 5.805896f-6 7.288555f-6 … 0.0021019618 0.0009881682], Float32[0.0 0.0 … 0.0 0.0; 0.0 0.0 … 0.0 0.0; … ; 0.037652273 0.078531004 … 0.000111728135 5.2602907f-5; 0.04024868 0.08207168 … 0.00011124604 5.1658077f-5]\n",
              "\n",
              "Float32[0.0 0.0 … 0.0 0.0; 0.0 0.0 … 0.0 0.0; … ; 0.08100391 0.16620308 … 0.00023823153 0.00011060787; 0.08560352 0.1717432 … 0.00023561902 0.00011020894]\n",
              "\n",
              "Float32[0.0 0.0 … 0.0 0.0; 0.0 0.0 … 0.0 0.0; … ; 0.12463405 0.24832524 … 0.0003547387 0.00017109858; 0.1297333 0.25306678 … 0.0003504307 0.00016933602]\n",
              "\n",
              "...\n",
              "\n",
              "Float32[0.0 0.0 … 0.0 0.0; 0.0 0.0 … 0.0 0.0; … ; 0.004383744 0.009269289 … 7.0366856f-5 3.128637f-5; 0.0039391993 0.008334451 … 7.770907f-5 3.4757784f-5]\n",
              "\n",
              "Float32[0.0 0.0 … 0.0 0.0; 0.0 0.0 … 0.0 0.0; … ; 0.0028434712 0.0060327547 … 2.6296582f-5 9.4195275f-6; 0.0025571913 0.005424586 … 3.3947217f-5 1.3266831f-5]\n",
              "\n",
              "Float32[0.0 0.0 … 0.0 0.0; 0.0 0.0 … 0.0 0.0; … ; 0.0013359867 0.00284946 … 4.4723124f-6 5.7726144f-8; 0.0012029591 0.0025623126 … 9.762156f-6 2.8518095f-6]])"
            ]
          },
          "metadata": {
            "tags": []
          },
          "execution_count": 39
        }
      ]
    },
    {
      "cell_type": "markdown",
      "metadata": {
        "id": "XdMpcQduyaQc"
      },
      "source": [
        "\n",
        "\n",
        "---\n",
        "\n",
        "\n",
        "# **You can run this to check if Julia is running and its GPU perfomance**\n",
        "\n",
        "\n"
      ]
    },
    {
      "cell_type": "code",
      "metadata": {
        "id": "iIxu4TjlJnBG"
      },
      "source": [
        "VERSION"
      ],
      "execution_count": null,
      "outputs": []
    },
    {
      "cell_type": "markdown",
      "metadata": {
        "id": "rR7Ox6Ax0ypi"
      },
      "source": [
        "The main reason we are interested in running Julia on Colab is the GPU functionality. So we can benchmark the performance on the GPU.<br>**The next two cells are optional and are for people using it for the first time**"
      ]
    },
    {
      "cell_type": "code",
      "metadata": {
        "id": "vHKANz2J0GDW"
      },
      "source": [
        "using Pkg\n",
        "Pkg.add([\"BenchmarkTools\", \"CuArrays\"])\n",
        "using BenchmarkTools,CuArrays"
      ],
      "execution_count": null,
      "outputs": []
    },
    {
      "cell_type": "code",
      "metadata": {
        "id": "aMI2QjTuyXs2"
      },
      "source": [
        "mcpu = rand(2^10, 2^10)\n",
        "@benchmark mcpu*mcpu\n",
        "\n",
        "println(\"The CuArrray operation should take around 1 ms(excluding CUDA downloading time which is a one time process), and should be much faster. If so, the GPU is working.\")\n",
        "mgpu = cu(mcpu)\n",
        "@benchmark CuArrays.@sync mgpu*mgpu"
      ],
      "execution_count": null,
      "outputs": []
    }
  ]
}