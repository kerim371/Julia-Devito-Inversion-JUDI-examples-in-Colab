{
  "nbformat": 4,
  "nbformat_minor": 0,
  "metadata": {
    "accelerator": "GPU",
    "colab": {
      "name": "JUDI_example.ipynb",
      "provenance": [],
      "collapsed_sections": [
        "QCxWWIhwGsaY",
        "h5r4osdWG1Mu",
        "IL6iVezPJpNs",
        "XdMpcQduyaQc"
      ],
      "toc_visible": true,
      "include_colab_link": true
    },
    "kernelspec": {
      "display_name": "Julia 1.5.0",
      "language": "julia",
      "name": "julia-1.5"
    },
    "language_info": {
      "file_extension": ".jl",
      "mimetype": "application/julia",
      "name": "julia",
      "version": "1.5.0"
    }
  },
  "cells": [
    {
      "cell_type": "markdown",
      "metadata": {
        "id": "view-in-github",
        "colab_type": "text"
      },
      "source": [
        "<a href=\"https://colab.research.google.com/github/kerim371/Julia-Devito-Inversion-JUDI-examples-in-Colab/blob/main/JUDI_examples.ipynb\" target=\"_parent\"><img src=\"https://colab.research.google.com/assets/colab-badge.svg\" alt=\"Open In Colab\"/></a>"
      ]
    },
    {
      "cell_type": "markdown",
      "metadata": {
        "id": "NNRNZ2RxH91a"
      },
      "source": [
        "To run this in Colab you either have to use this script or download it and then upload to Colab. You cannot simply copy this code and past it to your Colab session - this won't let you use Julia. You can open **.pynb** document in textual editor and see at top of the document how it Julia is et up and change its version as well if you need."
      ]
    },
    {
      "cell_type": "markdown",
      "metadata": {
        "id": "QCxWWIhwGsaY"
      },
      "source": [
        "# Julia installation"
      ]
    },
    {
      "cell_type": "code",
      "metadata": {
        "id": "_Kg612Wi0DvT",
        "colab": {
          "base_uri": "https://localhost:8080/"
        },
        "outputId": "45e9964d-5f01-48dd-c87f-eaad0d5b6f41"
      },
      "source": [
        "# Julia installation\r\n",
        "%%shell\r\n",
        "if ! command -v julia 3>&1 > /dev/null\r\n",
        "then\r\n",
        "    wget 'https://julialang-s3.julialang.org/bin/linux/x64/1.5/julia-1.5.0-linux-x86_64.tar.gz' \\\r\n",
        "        -O /tmp/julia.tar.gz\r\n",
        "    tar -x -f /tmp/julia.tar.gz -C /usr/local --strip-components 1\r\n",
        "    rm /tmp/julia.tar.gz\r\n",
        "fi\r\n",
        "julia -e 'using Pkg; pkg\"add IJulia; precompile;\"'\r\n",
        "echo 'Done'"
      ],
      "execution_count": 1,
      "outputs": [
        {
          "output_type": "stream",
          "text": [
            "--2020-12-11 22:51:09--  https://julialang-s3.julialang.org/bin/linux/x64/1.5/julia-1.5.0-linux-x86_64.tar.gz\n",
            "Resolving julialang-s3.julialang.org (julialang-s3.julialang.org)... 151.101.2.49, 151.101.66.49, 151.101.130.49, ...\n",
            "Connecting to julialang-s3.julialang.org (julialang-s3.julialang.org)|151.101.2.49|:443... connected.\n",
            "HTTP request sent, awaiting response... 302 gce internal redirect trigger\n",
            "Location: https://storage.googleapis.com/julialang2/bin/linux/x64/1.5/julia-1.5.0-linux-x86_64.tar.gz [following]\n",
            "--2020-12-11 22:51:09--  https://storage.googleapis.com/julialang2/bin/linux/x64/1.5/julia-1.5.0-linux-x86_64.tar.gz\n",
            "Resolving storage.googleapis.com (storage.googleapis.com)... 172.217.15.80, 172.217.13.80, 172.217.2.112, ...\n",
            "Connecting to storage.googleapis.com (storage.googleapis.com)|172.217.15.80|:443... connected.\n",
            "HTTP request sent, awaiting response... 200 OK\n",
            "Length: 105098627 (100M) [application/x-tar]\n",
            "Saving to: ‘/tmp/julia.tar.gz’\n",
            "\n",
            "/tmp/julia.tar.gz   100%[===================>] 100.23M   126MB/s    in 0.8s    \n",
            "\n",
            "2020-12-11 22:51:10 (126 MB/s) - ‘/tmp/julia.tar.gz’ saved [105098627/105098627]\n",
            "\n",
            "\u001b[32m\u001b[1m Installing\u001b[22m\u001b[39m known registries into `~/.julia`\n",
            "######################################################################## 100.0%\n",
            "\u001b[32m\u001b[1m      Added\u001b[22m\u001b[39m registry `General` to `~/.julia/registries/General`\n",
            "\u001b[32m\u001b[1m  Resolving\u001b[22m\u001b[39m package versions...\n",
            "\u001b[32m\u001b[1m  Installed\u001b[22m\u001b[39m JSON ──────────── v0.21.1\n",
            "\u001b[32m\u001b[1m  Installed\u001b[22m\u001b[39m ZMQ ───────────── v1.2.1\n",
            "\u001b[32m\u001b[1m  Installed\u001b[22m\u001b[39m IJulia ────────── v1.23.1\n",
            "\u001b[32m\u001b[1m  Installed\u001b[22m\u001b[39m SoftGlobalScope ─ v1.1.0\n",
            "\u001b[32m\u001b[1m  Installed\u001b[22m\u001b[39m ZeroMQ_jll ────── v4.3.2+5\n",
            "\u001b[32m\u001b[1m  Installed\u001b[22m\u001b[39m VersionParsing ── v1.2.0\n",
            "\u001b[32m\u001b[1m  Installed\u001b[22m\u001b[39m Conda ─────────── v1.5.0\n",
            "\u001b[32m\u001b[1m  Installed\u001b[22m\u001b[39m Artifacts ─────── v1.3.0\n",
            "\u001b[32m\u001b[1m  Installed\u001b[22m\u001b[39m JLLWrappers ───── v1.1.3\n",
            "\u001b[32m\u001b[1m  Installed\u001b[22m\u001b[39m MbedTLS_jll ───── v2.16.8+1\n",
            "\u001b[32m\u001b[1m  Installed\u001b[22m\u001b[39m Parsers ───────── v1.0.14\n",
            "\u001b[32m\u001b[1m  Installed\u001b[22m\u001b[39m MbedTLS ───────── v1.0.3\n",
            "\u001b[32m\u001b[1mDownloading\u001b[22m\u001b[39m artifact: ZeroMQ\n",
            "######################################################################## 100.0%\n",
            "\u001b[1A\u001b[2K\u001b[?25h\u001b[32m\u001b[1mDownloading\u001b[22m\u001b[39m artifact: MbedTLS\n",
            "######################################################################## 100.0%\n",
            "\u001b[1A\u001b[2K\u001b[?25h\u001b[32m\u001b[1mUpdating\u001b[22m\u001b[39m `~/.julia/environments/v1.5/Project.toml`\n",
            " \u001b[90m [7073ff75] \u001b[39m\u001b[92m+ IJulia v1.23.1\u001b[39m\n",
            "\u001b[32m\u001b[1mUpdating\u001b[22m\u001b[39m `~/.julia/environments/v1.5/Manifest.toml`\n",
            " \u001b[90m [56f22d72] \u001b[39m\u001b[92m+ Artifacts v1.3.0\u001b[39m\n",
            " \u001b[90m [8f4d0f93] \u001b[39m\u001b[92m+ Conda v1.5.0\u001b[39m\n",
            " \u001b[90m [7073ff75] \u001b[39m\u001b[92m+ IJulia v1.23.1\u001b[39m\n",
            " \u001b[90m [692b3bcd] \u001b[39m\u001b[92m+ JLLWrappers v1.1.3\u001b[39m\n",
            " \u001b[90m [682c06a0] \u001b[39m\u001b[92m+ JSON v0.21.1\u001b[39m\n",
            " \u001b[90m [739be429] \u001b[39m\u001b[92m+ MbedTLS v1.0.3\u001b[39m\n",
            " \u001b[90m [c8ffd9c3] \u001b[39m\u001b[92m+ MbedTLS_jll v2.16.8+1\u001b[39m\n",
            " \u001b[90m [69de0a69] \u001b[39m\u001b[92m+ Parsers v1.0.14\u001b[39m\n",
            " \u001b[90m [b85f4697] \u001b[39m\u001b[92m+ SoftGlobalScope v1.1.0\u001b[39m\n",
            " \u001b[90m [81def892] \u001b[39m\u001b[92m+ VersionParsing v1.2.0\u001b[39m\n",
            " \u001b[90m [c2297ded] \u001b[39m\u001b[92m+ ZMQ v1.2.1\u001b[39m\n",
            " \u001b[90m [8f1865be] \u001b[39m\u001b[92m+ ZeroMQ_jll v4.3.2+5\u001b[39m\n",
            " \u001b[90m [2a0f44e3] \u001b[39m\u001b[92m+ Base64\u001b[39m\n",
            " \u001b[90m [ade2ca70] \u001b[39m\u001b[92m+ Dates\u001b[39m\n",
            " \u001b[90m [8ba89e20] \u001b[39m\u001b[92m+ Distributed\u001b[39m\n",
            " \u001b[90m [7b1f6079] \u001b[39m\u001b[92m+ FileWatching\u001b[39m\n",
            " \u001b[90m [b77e0a4c] \u001b[39m\u001b[92m+ InteractiveUtils\u001b[39m\n",
            " \u001b[90m [76f85450] \u001b[39m\u001b[92m+ LibGit2\u001b[39m\n",
            " \u001b[90m [8f399da3] \u001b[39m\u001b[92m+ Libdl\u001b[39m\n",
            " \u001b[90m [56ddb016] \u001b[39m\u001b[92m+ Logging\u001b[39m\n",
            " \u001b[90m [d6f4376e] \u001b[39m\u001b[92m+ Markdown\u001b[39m\n",
            " \u001b[90m [a63ad114] \u001b[39m\u001b[92m+ Mmap\u001b[39m\n",
            " \u001b[90m [44cfe95a] \u001b[39m\u001b[92m+ Pkg\u001b[39m\n",
            " \u001b[90m [de0858da] \u001b[39m\u001b[92m+ Printf\u001b[39m\n",
            " \u001b[90m [3fa0cd96] \u001b[39m\u001b[92m+ REPL\u001b[39m\n",
            " \u001b[90m [9a3f8284] \u001b[39m\u001b[92m+ Random\u001b[39m\n",
            " \u001b[90m [ea8e919c] \u001b[39m\u001b[92m+ SHA\u001b[39m\n",
            " \u001b[90m [9e88b42a] \u001b[39m\u001b[92m+ Serialization\u001b[39m\n",
            " \u001b[90m [6462fe0b] \u001b[39m\u001b[92m+ Sockets\u001b[39m\n",
            " \u001b[90m [8dfed614] \u001b[39m\u001b[92m+ Test\u001b[39m\n",
            " \u001b[90m [cf7118a7] \u001b[39m\u001b[92m+ UUIDs\u001b[39m\n",
            " \u001b[90m [4ec0a83e] \u001b[39m\u001b[92m+ Unicode\u001b[39m\n",
            "\u001b[32m\u001b[1m   Building\u001b[22m\u001b[39m Conda ─→ `~/.julia/packages/Conda/x5ml4/deps/build.log`\n",
            "\u001b[32m\u001b[1m   Building\u001b[22m\u001b[39m IJulia → `~/.julia/packages/IJulia/IDNmS/deps/build.log`\n",
            "\u001b[32m\u001b[1mPrecompiling\u001b[22m\u001b[39m project...\n",
            "Done\n"
          ],
          "name": "stdout"
        },
        {
          "output_type": "execute_result",
          "data": {
            "text/plain": [
              ""
            ]
          },
          "metadata": {
            "tags": []
          },
          "execution_count": 1
        }
      ]
    },
    {
      "cell_type": "markdown",
      "metadata": {
        "id": "h5r4osdWG1Mu"
      },
      "source": [
        "# JUDI and DEVITO installation"
      ]
    },
    {
      "cell_type": "code",
      "metadata": {
        "id": "PMGwZ7aFJL8Y",
        "colab": {
          "base_uri": "https://localhost:8080/"
        },
        "outputId": "bad71f6b-922b-4bdb-90d0-9cb1d083f370"
      },
      "source": [
        "!git clone https://github.com/slimgroup/JUDI.jl\r\n",
        "!git checkout v2.2.0\r\n",
        "!pip install devito matplotlib # or `pip3 install --user devito matplotlib`"
      ],
      "execution_count": 2,
      "outputs": [
        {
          "output_type": "stream",
          "text": [
            "Cloning into 'JUDI.jl'...\n",
            "remote: Enumerating objects: 123, done.\u001b[K\n",
            "remote: Counting objects: 100% (123/123), done.\u001b[K\n",
            "remote: Compressing objects: 100% (100/100), done.\u001b[K\n",
            "remote: Total 4328 (delta 53), reused 52 (delta 23), pack-reused 4205\u001b[K\n",
            "Receiving objects: 100% (4328/4328), 42.05 MiB | 36.99 MiB/s, done.\n",
            "Resolving deltas: 100% (3059/3059), done.\n",
            "fatal: not a git repository (or any of the parent directories): .git\n",
            "Collecting devito\n",
            "\u001b[?25l  Downloading https://files.pythonhosted.org/packages/76/19/0e4d7a303326aefec3afd307c7b0f1a90ae516edd1aa6120ff45d6626ead/devito-4.2.3-py3-none-any.whl (384kB)\n",
            "\u001b[K     |████████████████████████████████| 389kB 11.2MB/s \n",
            "\u001b[?25hRequirement already satisfied: matplotlib in /usr/local/lib/python3.6/dist-packages (3.2.2)\n",
            "Collecting py-cpuinfo\n",
            "\u001b[?25l  Downloading https://files.pythonhosted.org/packages/f6/f5/8e6e85ce2e9f6e05040cf0d4e26f43a4718bcc4bce988b433276d4b1a5c1/py-cpuinfo-7.0.0.tar.gz (95kB)\n",
            "\u001b[K     |████████████████████████████████| 102kB 13.4MB/s \n",
            "\u001b[?25hCollecting pytest-cov\n",
            "  Downloading https://files.pythonhosted.org/packages/e5/18/401594af67eda194a8b9167208621761927c937db7d60292608342bbac0a/pytest_cov-2.10.1-py2.py3-none-any.whl\n",
            "Collecting codepy>=2019.1\n",
            "  Downloading https://files.pythonhosted.org/packages/6c/81/338a4d4145af7857f9b6fdf9b4d53c58c7eb4c1d092ff6c010efdb4dfdf3/codepy-2019.1.tar.gz\n",
            "Requirement already satisfied: distributed<2.23 in /usr/local/lib/python3.6/dist-packages (from devito) (1.25.3)\n",
            "Collecting multidict\n",
            "\u001b[?25l  Downloading https://files.pythonhosted.org/packages/a1/35/b22524d6b9cacfb4c5eff413a069bbc17c6ea628e54da5c6c989998ced5f/multidict-5.1.0-cp36-cp36m-manylinux2014_x86_64.whl (141kB)\n",
            "\u001b[K     |████████████████████████████████| 143kB 35.1MB/s \n",
            "\u001b[?25hCollecting flake8>=2.1.0\n",
            "\u001b[?25l  Downloading https://files.pythonhosted.org/packages/d4/ca/3971802ee6251da1abead1a22831d7f4743781e2f743bd266bdd2f46c19b/flake8-3.8.4-py2.py3-none-any.whl (72kB)\n",
            "\u001b[K     |████████████████████████████████| 81kB 12.3MB/s \n",
            "\u001b[?25hCollecting nbval\n",
            "  Downloading https://files.pythonhosted.org/packages/b0/92/23d60d4593b6e69f2114caf6fec238ce461233a8633dcbef6f619ad339c9/nbval-0.9.6-py2.py3-none-any.whl\n",
            "Requirement already satisfied: psutil>=5.1.0 in /usr/local/lib/python3.6/dist-packages (from devito) (5.4.8)\n",
            "Collecting pytest-runner\n",
            "  Downloading https://files.pythonhosted.org/packages/16/45/81b5262c0efc08882bdf183b788e6d28e3d684863990996d8b60967d48da/pytest_runner-5.2-py2.py3-none-any.whl\n",
            "Requirement already satisfied: numpy>1.16 in /usr/local/lib/python3.6/dist-packages (from devito) (1.18.5)\n",
            "Collecting cgen>=2020.1\n",
            "  Downloading https://files.pythonhosted.org/packages/63/d2/2184a24fa93a921937d5da5465e33370c314061f722edf6bebda4e17d7d5/cgen-2020.1.tar.gz\n",
            "Collecting cached-property\n",
            "  Downloading https://files.pythonhosted.org/packages/48/19/f2090f7dad41e225c7f2326e4cfe6fff49e57dedb5b53636c9551f86b069/cached_property-1.5.2-py2.py3-none-any.whl\n",
            "Requirement already satisfied: sympy<1.6 in /usr/local/lib/python3.6/dist-packages (from devito) (1.1.1)\n",
            "Requirement already satisfied: pytest<6.0,>=3.6 in /usr/local/lib/python3.6/dist-packages (from devito) (3.6.4)\n",
            "Collecting codecov\n",
            "  Downloading https://files.pythonhosted.org/packages/45/6e/7cef3272e08eaec17083e9ee3cda5a574b373b36058ba338569950395227/codecov-2.1.10-py2.py3-none-any.whl\n",
            "Requirement already satisfied: scipy in /usr/local/lib/python3.6/dist-packages (from devito) (1.4.1)\n",
            "Collecting pyrevolve>=2.1.3\n",
            "\u001b[?25l  Downloading https://files.pythonhosted.org/packages/45/ea/d1fc59baffcef892fac5194e7f25ccae5507bd89cca898bb25dff54d9312/pyrevolve-2.2.tar.gz (191kB)\n",
            "\u001b[K     |████████████████████████████████| 194kB 49.0MB/s \n",
            "\u001b[?25hRequirement already satisfied: click in /usr/local/lib/python3.6/dist-packages (from devito) (7.1.2)\n",
            "Collecting anytree>=2.4.3\n",
            "\u001b[?25l  Downloading https://files.pythonhosted.org/packages/a8/65/be23d8c3ecd68d40541d49812cd94ed0f3ee37eb88669ca15df0e43daed1/anytree-2.8.0-py2.py3-none-any.whl (41kB)\n",
            "\u001b[K     |████████████████████████████████| 51kB 7.8MB/s \n",
            "\u001b[?25hRequirement already satisfied: pip>=9.0.1 in /usr/local/lib/python3.6/dist-packages (from devito) (19.3.1)\n",
            "Requirement already satisfied: python-dateutil>=2.1 in /usr/local/lib/python3.6/dist-packages (from matplotlib) (2.8.1)\n",
            "Requirement already satisfied: pyparsing!=2.0.4,!=2.1.2,!=2.1.6,>=2.0.1 in /usr/local/lib/python3.6/dist-packages (from matplotlib) (2.4.7)\n",
            "Requirement already satisfied: cycler>=0.10 in /usr/local/lib/python3.6/dist-packages (from matplotlib) (0.10.0)\n",
            "Requirement already satisfied: kiwisolver>=1.0.1 in /usr/local/lib/python3.6/dist-packages (from matplotlib) (1.3.1)\n",
            "Collecting coverage>=4.4\n",
            "\u001b[?25l  Downloading https://files.pythonhosted.org/packages/ac/2d/0029213da98dc170935dfda96fc571351b71aad66bbe8719503ff523b1b0/coverage-5.3-cp36-cp36m-manylinux1_x86_64.whl (229kB)\n",
            "\u001b[K     |████████████████████████████████| 235kB 43.0MB/s \n",
            "\u001b[?25hCollecting pytools>=2015.1.2\n",
            "\u001b[?25l  Downloading https://files.pythonhosted.org/packages/b7/30/c9362a282ef89106768cba9d884f4b2e4f5dc6881d0c19b478d2a710b82b/pytools-2020.4.3.tar.gz (62kB)\n",
            "\u001b[K     |████████████████████████████████| 71kB 9.6MB/s \n",
            "\u001b[?25hCollecting appdirs>=1.4.0\n",
            "  Downloading https://files.pythonhosted.org/packages/3b/00/2344469e2084fb287c2e0b57b72910309874c3245463acd6cf5e3db69324/appdirs-1.4.4-py2.py3-none-any.whl\n",
            "Requirement already satisfied: six in /usr/local/lib/python3.6/dist-packages (from codepy>=2019.1->devito) (1.15.0)\n",
            "Requirement already satisfied: toolz>=0.7.4 in /usr/local/lib/python3.6/dist-packages (from distributed<2.23->devito) (0.11.1)\n",
            "Requirement already satisfied: pyyaml in /usr/local/lib/python3.6/dist-packages (from distributed<2.23->devito) (3.13)\n",
            "Requirement already satisfied: cloudpickle>=0.2.2 in /usr/local/lib/python3.6/dist-packages (from distributed<2.23->devito) (1.3.0)\n",
            "Requirement already satisfied: msgpack in /usr/local/lib/python3.6/dist-packages (from distributed<2.23->devito) (1.0.0)\n",
            "Requirement already satisfied: sortedcontainers!=2.0.0,!=2.0.1 in /usr/local/lib/python3.6/dist-packages (from distributed<2.23->devito) (2.3.0)\n",
            "Requirement already satisfied: zict>=0.1.3 in /usr/local/lib/python3.6/dist-packages (from distributed<2.23->devito) (2.0.0)\n",
            "Requirement already satisfied: dask>=0.18.0 in /usr/local/lib/python3.6/dist-packages (from distributed<2.23->devito) (2.12.0)\n",
            "Requirement already satisfied: tblib in /usr/local/lib/python3.6/dist-packages (from distributed<2.23->devito) (1.7.0)\n",
            "Requirement already satisfied: tornado>=4.5.1 in /usr/local/lib/python3.6/dist-packages (from distributed<2.23->devito) (5.1.1)\n",
            "Collecting mccabe<0.7.0,>=0.6.0\n",
            "  Downloading https://files.pythonhosted.org/packages/87/89/479dc97e18549e21354893e4ee4ef36db1d237534982482c3681ee6e7b57/mccabe-0.6.1-py2.py3-none-any.whl\n",
            "Collecting pycodestyle<2.7.0,>=2.6.0a1\n",
            "\u001b[?25l  Downloading https://files.pythonhosted.org/packages/10/5b/88879fb861ab79aef45c7e199cae3ef7af487b5603dcb363517a50602dd7/pycodestyle-2.6.0-py2.py3-none-any.whl (41kB)\n",
            "\u001b[K     |████████████████████████████████| 51kB 8.5MB/s \n",
            "\u001b[?25hCollecting pyflakes<2.3.0,>=2.2.0\n",
            "\u001b[?25l  Downloading https://files.pythonhosted.org/packages/69/5b/fd01b0c696f2f9a6d2c839883b642493b431f28fa32b29abc465ef675473/pyflakes-2.2.0-py2.py3-none-any.whl (66kB)\n",
            "\u001b[K     |████████████████████████████████| 71kB 10.5MB/s \n",
            "\u001b[?25hRequirement already satisfied: importlib-metadata; python_version < \"3.8\" in /usr/local/lib/python3.6/dist-packages (from flake8>=2.1.0->devito) (3.1.1)\n",
            "Requirement already satisfied: nbformat in /usr/local/lib/python3.6/dist-packages (from nbval->devito) (5.0.8)\n",
            "Requirement already satisfied: ipykernel in /usr/local/lib/python3.6/dist-packages (from nbval->devito) (4.10.1)\n",
            "Requirement already satisfied: jupyter-client in /usr/local/lib/python3.6/dist-packages (from nbval->devito) (5.3.5)\n",
            "Requirement already satisfied: mpmath>=0.19 in /usr/local/lib/python3.6/dist-packages (from sympy<1.6->devito) (1.1.0)\n",
            "Requirement already satisfied: setuptools in /usr/local/lib/python3.6/dist-packages (from pytest<6.0,>=3.6->devito) (50.3.2)\n",
            "Requirement already satisfied: py>=1.5.0 in /usr/local/lib/python3.6/dist-packages (from pytest<6.0,>=3.6->devito) (1.9.0)\n",
            "Requirement already satisfied: more-itertools>=4.0.0 in /usr/local/lib/python3.6/dist-packages (from pytest<6.0,>=3.6->devito) (8.6.0)\n",
            "Requirement already satisfied: pluggy<0.8,>=0.5 in /usr/local/lib/python3.6/dist-packages (from pytest<6.0,>=3.6->devito) (0.7.1)\n",
            "Requirement already satisfied: attrs>=17.4.0 in /usr/local/lib/python3.6/dist-packages (from pytest<6.0,>=3.6->devito) (20.3.0)\n",
            "Requirement already satisfied: atomicwrites>=1.0 in /usr/local/lib/python3.6/dist-packages (from pytest<6.0,>=3.6->devito) (1.4.0)\n",
            "Requirement already satisfied: requests>=2.7.9 in /usr/local/lib/python3.6/dist-packages (from codecov->devito) (2.23.0)\n",
            "Collecting contexttimer\n",
            "  Downloading https://files.pythonhosted.org/packages/1d/e0/504aa08a83dc2ff90f61a83b5f70d689e1f5138ab30576124ea2ff9f5076/contexttimer-0.3.3.tar.gz\n",
            "Requirement already satisfied: decorator>=3.2.0 in /usr/local/lib/python3.6/dist-packages (from pytools>=2015.1.2->codepy>=2019.1->devito) (4.4.2)\n",
            "Requirement already satisfied: dataclasses>=0.7 in /usr/local/lib/python3.6/dist-packages (from pytools>=2015.1.2->codepy>=2019.1->devito) (0.8)\n",
            "Requirement already satisfied: heapdict in /usr/local/lib/python3.6/dist-packages (from zict>=0.1.3->distributed<2.23->devito) (1.0.1)\n",
            "Requirement already satisfied: zipp>=0.5 in /usr/local/lib/python3.6/dist-packages (from importlib-metadata; python_version < \"3.8\"->flake8>=2.1.0->devito) (3.4.0)\n",
            "Requirement already satisfied: ipython-genutils in /usr/local/lib/python3.6/dist-packages (from nbformat->nbval->devito) (0.2.0)\n",
            "Requirement already satisfied: jupyter-core in /usr/local/lib/python3.6/dist-packages (from nbformat->nbval->devito) (4.7.0)\n",
            "Requirement already satisfied: jsonschema!=2.5.0,>=2.4 in /usr/local/lib/python3.6/dist-packages (from nbformat->nbval->devito) (2.6.0)\n",
            "Requirement already satisfied: traitlets>=4.1 in /usr/local/lib/python3.6/dist-packages (from nbformat->nbval->devito) (4.3.3)\n",
            "Requirement already satisfied: ipython>=4.0.0 in /usr/local/lib/python3.6/dist-packages (from ipykernel->nbval->devito) (5.5.0)\n",
            "Requirement already satisfied: pyzmq>=13 in /usr/local/lib/python3.6/dist-packages (from jupyter-client->nbval->devito) (20.0.0)\n",
            "Requirement already satisfied: urllib3!=1.25.0,!=1.25.1,<1.26,>=1.21.1 in /usr/local/lib/python3.6/dist-packages (from requests>=2.7.9->codecov->devito) (1.24.3)\n",
            "Requirement already satisfied: certifi>=2017.4.17 in /usr/local/lib/python3.6/dist-packages (from requests>=2.7.9->codecov->devito) (2020.12.5)\n",
            "Requirement already satisfied: chardet<4,>=3.0.2 in /usr/local/lib/python3.6/dist-packages (from requests>=2.7.9->codecov->devito) (3.0.4)\n",
            "Requirement already satisfied: idna<3,>=2.5 in /usr/local/lib/python3.6/dist-packages (from requests>=2.7.9->codecov->devito) (2.10)\n",
            "Requirement already satisfied: pickleshare in /usr/local/lib/python3.6/dist-packages (from ipython>=4.0.0->ipykernel->nbval->devito) (0.7.5)\n",
            "Requirement already satisfied: pygments in /usr/local/lib/python3.6/dist-packages (from ipython>=4.0.0->ipykernel->nbval->devito) (2.6.1)\n",
            "Requirement already satisfied: pexpect; sys_platform != \"win32\" in /usr/local/lib/python3.6/dist-packages (from ipython>=4.0.0->ipykernel->nbval->devito) (4.8.0)\n",
            "Requirement already satisfied: simplegeneric>0.8 in /usr/local/lib/python3.6/dist-packages (from ipython>=4.0.0->ipykernel->nbval->devito) (0.8.1)\n",
            "Requirement already satisfied: prompt-toolkit<2.0.0,>=1.0.4 in /usr/local/lib/python3.6/dist-packages (from ipython>=4.0.0->ipykernel->nbval->devito) (1.0.18)\n",
            "Requirement already satisfied: ptyprocess>=0.5 in /usr/local/lib/python3.6/dist-packages (from pexpect; sys_platform != \"win32\"->ipython>=4.0.0->ipykernel->nbval->devito) (0.6.0)\n",
            "Requirement already satisfied: wcwidth in /usr/local/lib/python3.6/dist-packages (from prompt-toolkit<2.0.0,>=1.0.4->ipython>=4.0.0->ipykernel->nbval->devito) (0.2.5)\n",
            "Building wheels for collected packages: py-cpuinfo, codepy, cgen, pyrevolve, pytools, contexttimer\n",
            "  Building wheel for py-cpuinfo (setup.py) ... \u001b[?25l\u001b[?25hdone\n",
            "  Created wheel for py-cpuinfo: filename=py_cpuinfo-7.0.0-cp36-none-any.whl size=20071 sha256=2bc11bef46d90cd045f715ed8a0b97d649331d689dc89d9e7e6007e93a96d877\n",
            "  Stored in directory: /root/.cache/pip/wheels/f1/93/7b/127daf0c3a5a49feb2fecd468d508067c733fba5192f726ad1\n",
            "  Building wheel for codepy (setup.py) ... \u001b[?25l\u001b[?25hdone\n",
            "  Created wheel for codepy: filename=codepy-2019.1-cp36-none-any.whl size=19314 sha256=06489a12b2910c66c0985eaa9599ae16af5a907b1144d798d03f6e5029372b92\n",
            "  Stored in directory: /root/.cache/pip/wheels/f4/53/e7/b53cf7ba45381b676bbd5eaaedc19ae82e1c397e9c1766ddf4\n",
            "  Building wheel for cgen (setup.py) ... \u001b[?25l\u001b[?25hdone\n",
            "  Created wheel for cgen: filename=cgen-2020.1-cp36-none-any.whl size=15825 sha256=b94255ca4583404cce4f930f73e5be9aff506ec79b641e578d5bddbb6019ab66\n",
            "  Stored in directory: /root/.cache/pip/wheels/92/c2/1f/9d3d4ff4f49366d164156238a9d3e818cb4d58ab9110ca1d3a\n",
            "  Building wheel for pyrevolve (setup.py) ... \u001b[?25l\u001b[?25hdone\n",
            "  Created wheel for pyrevolve: filename=pyrevolve-2.2-cp36-cp36m-linux_x86_64.whl size=248170 sha256=892d456994fbd81dd51b4a635aa15ca8ef2389fd38cd10e3e1aae5d74a7255c6\n",
            "  Stored in directory: /root/.cache/pip/wheels/91/59/ff/3aebf19beedd85ed0d7de5b086da754d28e8369a0706fb760d\n",
            "  Building wheel for pytools (setup.py) ... \u001b[?25l\u001b[?25hdone\n",
            "  Created wheel for pytools: filename=pytools-2020.4.3-py2.py3-none-any.whl size=61374 sha256=d8dfc3909126d3102268c1fc50b6ecf80d61d89f79b36aeb78e55273fbb0c843\n",
            "  Stored in directory: /root/.cache/pip/wheels/af/c7/81/a22edb90b0b09a880468b2253bb1df8e9f503337ee15432c64\n",
            "  Building wheel for contexttimer (setup.py) ... \u001b[?25l\u001b[?25hdone\n",
            "  Created wheel for contexttimer: filename=contexttimer-0.3.3-cp36-none-any.whl size=5818 sha256=ee0f402c6c56766de4c82c369498debd86ffc24f4a30341d138883cfe20b13c9\n",
            "  Stored in directory: /root/.cache/pip/wheels/b3/e2/35/565145ce0127c7451b6503dfabb2b56e9908c863e40c6b1870\n",
            "Successfully built py-cpuinfo codepy cgen pyrevolve pytools contexttimer\n",
            "\u001b[31mERROR: datascience 0.10.6 has requirement coverage==3.7.1, but you'll have coverage 5.3 which is incompatible.\u001b[0m\n",
            "\u001b[31mERROR: datascience 0.10.6 has requirement folium==0.2.1, but you'll have folium 0.8.3 which is incompatible.\u001b[0m\n",
            "\u001b[31mERROR: coveralls 0.5 has requirement coverage<3.999,>=3.6, but you'll have coverage 5.3 which is incompatible.\u001b[0m\n",
            "\u001b[31mERROR: pytest-cov 2.10.1 has requirement pytest>=4.6, but you'll have pytest 3.6.4 which is incompatible.\u001b[0m\n",
            "Installing collected packages: py-cpuinfo, coverage, pytest-cov, appdirs, pytools, cgen, codepy, multidict, mccabe, pycodestyle, pyflakes, flake8, nbval, pytest-runner, cached-property, codecov, contexttimer, pyrevolve, anytree, devito\n",
            "  Found existing installation: coverage 3.7.1\n",
            "    Uninstalling coverage-3.7.1:\n",
            "      Successfully uninstalled coverage-3.7.1\n",
            "Successfully installed anytree-2.8.0 appdirs-1.4.4 cached-property-1.5.2 cgen-2020.1 codecov-2.1.10 codepy-2019.1 contexttimer-0.3.3 coverage-5.3 devito-4.2.3 flake8-3.8.4 mccabe-0.6.1 multidict-5.1.0 nbval-0.9.6 py-cpuinfo-7.0.0 pycodestyle-2.6.0 pyflakes-2.2.0 pyrevolve-2.2 pytest-cov-2.10.1 pytest-runner-5.2 pytools-2020.4.3\n"
          ],
          "name": "stdout"
        }
      ]
    },
    {
      "cell_type": "code",
      "metadata": {
        "id": "sZ4iXPqfLT8v",
        "colab": {
          "base_uri": "https://localhost:8080/"
        },
        "outputId": "05c42fcd-3878-4517-8642-768acbc84971"
      },
      "source": [
        "import os\r\n",
        "os.environ['PYTHON'] = '/usr/local/bin/python'\r\n",
        "\r\n",
        "!julia -e 'using Pkg; Pkg.add(\"Pkg\")'\r\n",
        "!julia -e 'using Pkg; Pkg.Registry.add(RegistrySpec(url=\"https://github.com/slimgroup/SLIMregistryJL.git\"))'\r\n",
        "!julia -e 'using Pkg; Pkg.develop(\"JUDI\")'"
      ],
      "execution_count": 3,
      "outputs": [
        {
          "output_type": "stream",
          "text": [
            "\u001b[32m\u001b[1m   Updating\u001b[22m\u001b[39m registry at `~/.julia/registries/General`\n",
            "\u001b[32m\u001b[1m  Resolving\u001b[22m\u001b[39m package versions...\n",
            "\u001b[32m\u001b[1mUpdating\u001b[22m\u001b[39m `~/.julia/environments/v1.5/Project.toml`\n",
            " \u001b[90m [44cfe95a] \u001b[39m\u001b[92m+ Pkg\u001b[39m\n",
            "\u001b[32m\u001b[1mNo Changes\u001b[22m\u001b[39m to `~/.julia/environments/v1.5/Manifest.toml`\n",
            "\u001b[32m\u001b[1m    Cloning\u001b[22m\u001b[39m registry from \"https://github.com/slimgroup/SLIMregistryJL.git\"\n",
            "\u001b[2K\u001b[?25h\u001b[32m\u001b[1m      Added\u001b[22m\u001b[39m registry `SLIMregistryJL` to `~/.julia/registries/SLIMregistryJL`\n",
            "\u001b[32m\u001b[1m    Cloning\u001b[22m\u001b[39m git-repo `https://GitHub.com/slimgroup/JUDI.jl.git`\n",
            "\u001b[2K\u001b[?25h\u001b[32m\u001b[1m  Resolving\u001b[22m\u001b[39m package versions...\n",
            "\u001b[32m\u001b[1m  Installed\u001b[22m\u001b[39m BFloat16s ──────────────────── v0.1.0\n",
            "\u001b[32m\u001b[1m  Installed\u001b[22m\u001b[39m Dierckx_jll ────────────────── v0.0.1+0\n",
            "\u001b[32m\u001b[1m  Installed\u001b[22m\u001b[39m Mocking ────────────────────── v0.7.1\n",
            "\u001b[32m\u001b[1m  Installed\u001b[22m\u001b[39m Adapt ──────────────────────── v2.3.0\n",
            "\u001b[32m\u001b[1m  Installed\u001b[22m\u001b[39m SpecialFunctions ───────────── v0.10.3\n",
            "\u001b[32m\u001b[1m  Installed\u001b[22m\u001b[39m OffsetArrays ───────────────── v1.4.1\n",
            "\u001b[32m\u001b[1m  Installed\u001b[22m\u001b[39m PyCall ─────────────────────── v1.92.1\n",
            "\u001b[32m\u001b[1m  Installed\u001b[22m\u001b[39m NNlib ──────────────────────── v0.7.7\n",
            "\u001b[32m\u001b[1m  Installed\u001b[22m\u001b[39m Requires ───────────────────── v1.1.1\n",
            "\u001b[32m\u001b[1m  Installed\u001b[22m\u001b[39m Nullables ──────────────────── v1.0.0\n",
            "\u001b[32m\u001b[1m  Installed\u001b[22m\u001b[39m OrderedCollections ─────────── v1.3.2\n",
            "\u001b[32m\u001b[1m  Installed\u001b[22m\u001b[39m TextWrap ───────────────────── v1.0.1\n",
            "\u001b[32m\u001b[1m  Installed\u001b[22m\u001b[39m IterTools ──────────────────── v1.3.0\n",
            "\u001b[32m\u001b[1m  Installed\u001b[22m\u001b[39m GPUArrays ──────────────────── v6.1.2\n",
            "\u001b[32m\u001b[1m  Installed\u001b[22m\u001b[39m DistributedArrays ──────────── v0.6.5\n",
            "\u001b[32m\u001b[1m  Installed\u001b[22m\u001b[39m EzXML ──────────────────────── v1.1.0\n",
            "\u001b[32m\u001b[1m  Installed\u001b[22m\u001b[39m Dierckx ────────────────────── v0.5.1\n",
            "\u001b[32m\u001b[1m  Installed\u001b[22m\u001b[39m IterativeSolvers ───────────── v0.8.4\n",
            "\u001b[32m\u001b[1m  Installed\u001b[22m\u001b[39m NaNMath ────────────────────── v0.3.5\n",
            "\u001b[32m\u001b[1m  Installed\u001b[22m\u001b[39m FFTW ───────────────────────── v1.2.4\n",
            "\u001b[32m\u001b[1m  Installed\u001b[22m\u001b[39m MKL_jll ────────────────────── v2020.2.254+0\n",
            "\u001b[32m\u001b[1m  Installed\u001b[22m\u001b[39m CompilerSupportLibraries_jll ─ v0.3.4+0\n",
            "\u001b[32m\u001b[1m  Installed\u001b[22m\u001b[39m TimerOutputs ───────────────── v0.5.7\n",
            "\u001b[32m\u001b[1m  Installed\u001b[22m\u001b[39m LLVM ───────────────────────── v3.5.1\n",
            "\u001b[32m\u001b[1m  Installed\u001b[22m\u001b[39m Scratch ────────────────────── v1.0.3\n",
            "\u001b[32m\u001b[1m  Installed\u001b[22m\u001b[39m GenericLinearAlgebra ───────── v0.2.4\n",
            "\u001b[32m\u001b[1m  Installed\u001b[22m\u001b[39m Colors ─────────────────────── v0.12.4\n",
            "\u001b[32m\u001b[1m  Installed\u001b[22m\u001b[39m ArgParse ───────────────────── v1.1.1\n",
            "\u001b[32m\u001b[1m  Installed\u001b[22m\u001b[39m Intervals ──────────────────── v1.5.0\n",
            "\u001b[32m\u001b[1m  Installed\u001b[22m\u001b[39m CUDA ───────────────────────── v2.3.0\n",
            "\u001b[32m\u001b[1m  Installed\u001b[22m\u001b[39m FixedPointNumbers ──────────── v0.8.4\n",
            "\u001b[32m\u001b[1m  Installed\u001b[22m\u001b[39m Libiconv_jll ───────────────── v1.16.0+7\n",
            "\u001b[32m\u001b[1m  Installed\u001b[22m\u001b[39m FFTW_jll ───────────────────── v3.3.9+6\n",
            "\u001b[32m\u001b[1m  Installed\u001b[22m\u001b[39m Reexport ───────────────────── v0.2.0\n",
            "\u001b[32m\u001b[1m  Installed\u001b[22m\u001b[39m OpenSpecFun_jll ────────────── v0.5.3+4\n",
            "\u001b[32m\u001b[1m  Installed\u001b[22m\u001b[39m InplaceOps ─────────────────── v0.3.0\n",
            "\u001b[32m\u001b[1m  Installed\u001b[22m\u001b[39m NFFT ───────────────────────── v0.6.1\n",
            "\u001b[32m\u001b[1m  Installed\u001b[22m\u001b[39m Wavelets ───────────────────── v0.9.2\n",
            "\u001b[32m\u001b[1m  Installed\u001b[22m\u001b[39m RecipesBase ────────────────── v1.1.1\n",
            "\u001b[32m\u001b[1m  Installed\u001b[22m\u001b[39m Primes ─────────────────────── v0.4.0\n",
            "\u001b[32m\u001b[1m  Installed\u001b[22m\u001b[39m CEnum ──────────────────────── v0.4.1\n",
            "\u001b[32m\u001b[1m  Installed\u001b[22m\u001b[39m DataStructures ─────────────── v0.18.8\n",
            "\u001b[32m\u001b[1m  Installed\u001b[22m\u001b[39m ColorTypes ─────────────────── v0.10.9\n",
            "\u001b[32m\u001b[1m  Installed\u001b[22m\u001b[39m GPUCompiler ────────────────── v0.8.3\n",
            "\u001b[32m\u001b[1m  Installed\u001b[22m\u001b[39m Graphics ───────────────────── v1.0.2\n",
            "\u001b[32m\u001b[1m  Installed\u001b[22m\u001b[39m Polynomials ────────────────── v1.1.13\n",
            "\u001b[32m\u001b[1m  Installed\u001b[22m\u001b[39m AbstractFFTs ───────────────── v0.5.0\n",
            "\u001b[32m\u001b[1m  Installed\u001b[22m\u001b[39m PolynomialRoots ────────────── v1.0.0\n",
            "\u001b[32m\u001b[1m  Installed\u001b[22m\u001b[39m ExprTools ──────────────────── v0.1.3\n",
            "\u001b[32m\u001b[1m  Installed\u001b[22m\u001b[39m DSP ────────────────────────── v0.6.9\n",
            "\u001b[32m\u001b[1m  Installed\u001b[22m\u001b[39m Compat ─────────────────────── v3.24.0\n",
            "\u001b[32m\u001b[1m  Installed\u001b[22m\u001b[39m XML2_jll ───────────────────── v2.9.10+3\n",
            "\u001b[32m\u001b[1m  Installed\u001b[22m\u001b[39m Zlib_jll ───────────────────── v1.2.11+18\n",
            "\u001b[32m\u001b[1m  Installed\u001b[22m\u001b[39m MacroTools ─────────────────── v0.5.6\n",
            "\u001b[32m\u001b[1m  Installed\u001b[22m\u001b[39m IntelOpenMP_jll ────────────── v2018.0.3+0\n",
            "\u001b[32m\u001b[1m  Installed\u001b[22m\u001b[39m TimeZones ──────────────────── v1.5.3\n",
            "\u001b[32m\u001b[1m    Cloning\u001b[22m\u001b[39m [bb331ad6-a1cf-11e9-23da-9bcb53c69f6f] JOLI from https://GitHub.com/slimgroup/JOLI.jl.git\n",
            "\u001b[2K\u001b[?25h\u001b[32m\u001b[1m  Installed\u001b[22m\u001b[39m JOLI ───────────────────────── v0.7.13\n",
            "\u001b[32m\u001b[1m    Cloning\u001b[22m\u001b[39m [157a0f19-4d44-4de5-a0d0-07e2f0ac4dfa] SegyIO from https://GitHub.com/slimgroup/SegyIO.jl.git\n",
            "\u001b[2K\u001b[?25h\u001b[32m\u001b[1m  Installed\u001b[22m\u001b[39m SegyIO ─────────────────────── v0.7.3\n",
            "\u001b[32m\u001b[1mDownloading\u001b[22m\u001b[39m artifact: Dierckx\n",
            "######################################################################## 100.0%\n",
            "\u001b[1A\u001b[2K\u001b[?25h\u001b[32m\u001b[1mDownloading\u001b[22m\u001b[39m artifact: CompilerSupportLibraries\n",
            "######################################################################## 100.0%\n",
            "\u001b[1A\u001b[2K\u001b[?25h\u001b[32m\u001b[1mDownloading\u001b[22m\u001b[39m artifact: FFTW\n",
            "######################################################################## 100.0%\n",
            "\u001b[1A\u001b[2K\u001b[?25h\u001b[32m\u001b[1mDownloading\u001b[22m\u001b[39m artifact: Libiconv\n",
            "######################################################################## 100.0%\n",
            "\u001b[1A\u001b[2K\u001b[?25h\u001b[32m\u001b[1mDownloading\u001b[22m\u001b[39m artifact: OpenSpecFun\n",
            "######################################################################## 100.0%\n",
            "\u001b[1A\u001b[2K\u001b[?25h\u001b[32m\u001b[1mDownloading\u001b[22m\u001b[39m artifact: XML2\n",
            "######################################################################## 100.0%\n",
            "\u001b[1A\u001b[2K\u001b[?25h\u001b[32m\u001b[1mDownloading\u001b[22m\u001b[39m artifact: Zlib\n",
            "######################################################################## 100.0%\n",
            "\u001b[1A\u001b[2K\u001b[?25h\u001b[32m\u001b[1mDownloading\u001b[22m\u001b[39m artifact: IntelOpenMP\n",
            "######################################################################## 100.0%\n",
            "\u001b[1A\u001b[2K\u001b[?25h\u001b[32m\u001b[1mUpdating\u001b[22m\u001b[39m `~/.julia/environments/v1.5/Project.toml`\n",
            " \u001b[90m [f3b833dc] \u001b[39m\u001b[92m+ JUDI v2.2.0 `~/.julia/dev/JUDI`\u001b[39m\n",
            "\u001b[32m\u001b[1mUpdating\u001b[22m\u001b[39m `~/.julia/environments/v1.5/Manifest.toml`\n",
            " \u001b[90m [621f4979] \u001b[39m\u001b[92m+ AbstractFFTs v0.5.0\u001b[39m\n",
            " \u001b[90m [79e6a3ab] \u001b[39m\u001b[92m+ Adapt v2.3.0\u001b[39m\n",
            " \u001b[90m [c7e460c6] \u001b[39m\u001b[92m+ ArgParse v1.1.1\u001b[39m\n",
            " \u001b[90m [ab4f0b2a] \u001b[39m\u001b[92m+ BFloat16s v0.1.0\u001b[39m\n",
            " \u001b[90m [fa961155] \u001b[39m\u001b[92m+ CEnum v0.4.1\u001b[39m\n",
            " \u001b[90m [052768ef] \u001b[39m\u001b[92m+ CUDA v2.3.0\u001b[39m\n",
            " \u001b[90m [3da002f7] \u001b[39m\u001b[92m+ ColorTypes v0.10.9\u001b[39m\n",
            " \u001b[90m [5ae59095] \u001b[39m\u001b[92m+ Colors v0.12.4\u001b[39m\n",
            " \u001b[90m [34da2185] \u001b[39m\u001b[92m+ Compat v3.24.0\u001b[39m\n",
            " \u001b[90m [e66e0078] \u001b[39m\u001b[92m+ CompilerSupportLibraries_jll v0.3.4+0\u001b[39m\n",
            " \u001b[90m [717857b8] \u001b[39m\u001b[92m+ DSP v0.6.9\u001b[39m\n",
            " \u001b[90m [864edb3b] \u001b[39m\u001b[92m+ DataStructures v0.18.8\u001b[39m\n",
            " \u001b[90m [39dd38d3] \u001b[39m\u001b[92m+ Dierckx v0.5.1\u001b[39m\n",
            " \u001b[90m [cd4c43a9] \u001b[39m\u001b[92m+ Dierckx_jll v0.0.1+0\u001b[39m\n",
            " \u001b[90m [aaf54ef3] \u001b[39m\u001b[92m+ DistributedArrays v0.6.5\u001b[39m\n",
            " \u001b[90m [e2ba6199] \u001b[39m\u001b[92m+ ExprTools v0.1.3\u001b[39m\n",
            " \u001b[90m [8f5d6c58] \u001b[39m\u001b[92m+ EzXML v1.1.0\u001b[39m\n",
            " \u001b[90m [7a1cc6ca] \u001b[39m\u001b[92m+ FFTW v1.2.4\u001b[39m\n",
            " \u001b[90m [f5851436] \u001b[39m\u001b[92m+ FFTW_jll v3.3.9+6\u001b[39m\n",
            " \u001b[90m [53c48c17] \u001b[39m\u001b[92m+ FixedPointNumbers v0.8.4\u001b[39m\n",
            " \u001b[90m [0c68f7d7] \u001b[39m\u001b[92m+ GPUArrays v6.1.2\u001b[39m\n",
            " \u001b[90m [61eb1bfa] \u001b[39m\u001b[92m+ GPUCompiler v0.8.3\u001b[39m\n",
            " \u001b[90m [14197337] \u001b[39m\u001b[92m+ GenericLinearAlgebra v0.2.4\u001b[39m\n",
            " \u001b[90m [a2bd30eb] \u001b[39m\u001b[92m+ Graphics v1.0.2\u001b[39m\n",
            " \u001b[90m [505f98c9] \u001b[39m\u001b[92m+ InplaceOps v0.3.0\u001b[39m\n",
            " \u001b[90m [1d5cc7b8] \u001b[39m\u001b[92m+ IntelOpenMP_jll v2018.0.3+0\u001b[39m\n",
            " \u001b[90m [d8418881] \u001b[39m\u001b[92m+ Intervals v1.5.0\u001b[39m\n",
            " \u001b[90m [c8e1da08] \u001b[39m\u001b[92m+ IterTools v1.3.0\u001b[39m\n",
            " \u001b[90m [42fd0dbc] \u001b[39m\u001b[92m+ IterativeSolvers v0.8.4\u001b[39m\n",
            " \u001b[90m [bb331ad6] \u001b[39m\u001b[92m+ JOLI v0.7.13\u001b[39m\n",
            " \u001b[90m [f3b833dc] \u001b[39m\u001b[92m+ JUDI v2.2.0 `~/.julia/dev/JUDI`\u001b[39m\n",
            " \u001b[90m [929cbde3] \u001b[39m\u001b[92m+ LLVM v3.5.1\u001b[39m\n",
            " \u001b[90m [94ce4f54] \u001b[39m\u001b[92m+ Libiconv_jll v1.16.0+7\u001b[39m\n",
            " \u001b[90m [856f044c] \u001b[39m\u001b[92m+ MKL_jll v2020.2.254+0\u001b[39m\n",
            " \u001b[90m [1914dd2f] \u001b[39m\u001b[92m+ MacroTools v0.5.6\u001b[39m\n",
            " \u001b[90m [78c3b35d] \u001b[39m\u001b[92m+ Mocking v0.7.1\u001b[39m\n",
            " \u001b[90m [efe261a4] \u001b[39m\u001b[92m+ NFFT v0.6.1\u001b[39m\n",
            " \u001b[90m [872c559c] \u001b[39m\u001b[92m+ NNlib v0.7.7\u001b[39m\n",
            " \u001b[90m [77ba4419] \u001b[39m\u001b[92m+ NaNMath v0.3.5\u001b[39m\n",
            " \u001b[90m [4d1e1d77] \u001b[39m\u001b[92m+ Nullables v1.0.0\u001b[39m\n",
            " \u001b[90m [6fe1bfb0] \u001b[39m\u001b[92m+ OffsetArrays v1.4.1\u001b[39m\n",
            " \u001b[90m [efe28fd5] \u001b[39m\u001b[92m+ OpenSpecFun_jll v0.5.3+4\u001b[39m\n",
            " \u001b[90m [bac558e1] \u001b[39m\u001b[92m+ OrderedCollections v1.3.2\u001b[39m\n",
            " \u001b[90m [3a141323] \u001b[39m\u001b[92m+ PolynomialRoots v1.0.0\u001b[39m\n",
            " \u001b[90m [f27b6e38] \u001b[39m\u001b[92m+ Polynomials v1.1.13\u001b[39m\n",
            " \u001b[90m [27ebfcd6] \u001b[39m\u001b[92m+ Primes v0.4.0\u001b[39m\n",
            " \u001b[90m [438e738f] \u001b[39m\u001b[92m+ PyCall v1.92.1\u001b[39m\n",
            " \u001b[90m [3cdcf5f2] \u001b[39m\u001b[92m+ RecipesBase v1.1.1\u001b[39m\n",
            " \u001b[90m [189a3867] \u001b[39m\u001b[92m+ Reexport v0.2.0\u001b[39m\n",
            " \u001b[90m [ae029012] \u001b[39m\u001b[92m+ Requires v1.1.1\u001b[39m\n",
            " \u001b[90m [6c6a2e73] \u001b[39m\u001b[92m+ Scratch v1.0.3\u001b[39m\n",
            " \u001b[90m [157a0f19] \u001b[39m\u001b[92m+ SegyIO v0.7.3\u001b[39m\n",
            " \u001b[90m [276daf66] \u001b[39m\u001b[92m+ SpecialFunctions v0.10.3\u001b[39m\n",
            " \u001b[90m [b718987f] \u001b[39m\u001b[92m+ TextWrap v1.0.1\u001b[39m\n",
            " \u001b[90m [f269a46b] \u001b[39m\u001b[92m+ TimeZones v1.5.3\u001b[39m\n",
            " \u001b[90m [a759f4b9] \u001b[39m\u001b[92m+ TimerOutputs v0.5.7\u001b[39m\n",
            " \u001b[90m [29a6e085] \u001b[39m\u001b[92m+ Wavelets v0.9.2\u001b[39m\n",
            " \u001b[90m [02c8fc9c] \u001b[39m\u001b[92m+ XML2_jll v2.9.10+3\u001b[39m\n",
            " \u001b[90m [83775a58] \u001b[39m\u001b[92m+ Zlib_jll v1.2.11+18\u001b[39m\n",
            " \u001b[90m [8bb1440f] \u001b[39m\u001b[92m+ DelimitedFiles\u001b[39m\n",
            " \u001b[90m [37e2e46d] \u001b[39m\u001b[92m+ LinearAlgebra\u001b[39m\n",
            " \u001b[90m [1a1011a3] \u001b[39m\u001b[92m+ SharedArrays\u001b[39m\n",
            " \u001b[90m [2f01184e] \u001b[39m\u001b[92m+ SparseArrays\u001b[39m\n",
            " \u001b[90m [10745b16] \u001b[39m\u001b[92m+ Statistics\u001b[39m\n",
            "\u001b[32m\u001b[1m   Building\u001b[22m\u001b[39m PyCall ───→ `~/.julia/packages/PyCall/BcTLp/deps/build.log`\n",
            "\u001b[32m\u001b[1m   Building\u001b[22m\u001b[39m TimeZones → `~/.julia/packages/TimeZones/K98G0/deps/build.log`\n",
            "\u001b[32m\u001b[1m   Building\u001b[22m\u001b[39m FFTW ─────→ `~/.julia/packages/FFTW/DMUbN/deps/build.log`\n"
          ],
          "name": "stdout"
        }
      ]
    },
    {
      "cell_type": "markdown",
      "metadata": {
        "id": "7nAAQ8a6Nctk"
      },
      "source": [
        "'cd ' command should be in separated cell"
      ]
    },
    {
      "cell_type": "code",
      "metadata": {
        "id": "ZPGqXZGqMyuJ",
        "colab": {
          "base_uri": "https://localhost:8080/"
        },
        "outputId": "810e9ca9-9664-48a6-99af-4cbdbeec82c0"
      },
      "source": [
        "cd ~/.julia/dev/JUDI"
      ],
      "execution_count": 4,
      "outputs": [
        {
          "output_type": "stream",
          "text": [
            "/root/.julia/dev/JUDI\n"
          ],
          "name": "stdout"
        }
      ]
    },
    {
      "cell_type": "code",
      "metadata": {
        "id": "HDd4K9qO4My-",
        "colab": {
          "base_uri": "https://localhost:8080/"
        },
        "outputId": "d556078c-78a8-4136-bf5c-c99a841e2969"
      },
      "source": [
        "!julia deps/install_global.jl\r\n",
        "#!julia --project -e 'using Pkg;Pkg.test(coverage=false)' # uncomment this if you want to run test"
      ],
      "execution_count": 5,
      "outputs": [
        {
          "output_type": "stream",
          "text": [
            "\u001b[32m\u001b[1m    Cloning\u001b[22m\u001b[39m git-repo `https://github.com/JuliaLang/TOML.jl.git`\n",
            "\u001b[2K\u001b[?25h\u001b[32m\u001b[1m   Updating\u001b[22m\u001b[39m git-repo `https://github.com/JuliaLang/TOML.jl.git`\n",
            "\u001b[2K\u001b[?25h\u001b[32m\u001b[1m   Updating\u001b[22m\u001b[39m registry at `~/.julia/registries/General`\n",
            "\u001b[32m\u001b[1m   Updating\u001b[22m\u001b[39m registry at `~/.julia/registries/SLIMregistryJL`\n",
            "\u001b[32m\u001b[1m   Updating\u001b[22m\u001b[39m git-repo `https://github.com/slimgroup/SLIMregistryJL.git`\n",
            "\u001b[?25l\u001b[2K\u001b[?25h\u001b[32m\u001b[1m  Resolving\u001b[22m\u001b[39m package versions...\n",
            "\u001b[32m\u001b[1mUpdating\u001b[22m\u001b[39m `~/.julia/environments/v1.5/Project.toml`\n",
            " \u001b[90m [fa267f1f] \u001b[39m\u001b[92m+ TOML v1.0.1 `https://github.com/JuliaLang/TOML.jl.git#master`\u001b[39m\n",
            "\u001b[32m\u001b[1mUpdating\u001b[22m\u001b[39m `~/.julia/environments/v1.5/Manifest.toml`\n",
            " \u001b[90m [fa267f1f] \u001b[39m\u001b[92m+ TOML v1.0.1 `https://github.com/JuliaLang/TOML.jl.git#master`\u001b[39m\n",
            "\u001b[32m\u001b[1m  Resolving\u001b[22m\u001b[39m package versions...\n",
            "\u001b[32m\u001b[1mUpdating\u001b[22m\u001b[39m `~/.julia/environments/v1.5/Project.toml`\n",
            " \u001b[90m [c7e460c6] \u001b[39m\u001b[92m+ ArgParse v1.1.1\u001b[39m\n",
            "\u001b[32m\u001b[1mNo Changes\u001b[22m\u001b[39m to `~/.julia/environments/v1.5/Manifest.toml`\n",
            "\u001b[32m\u001b[1m  Resolving\u001b[22m\u001b[39m package versions...\n",
            "\u001b[32m\u001b[1mNo Changes\u001b[22m\u001b[39m to `~/.julia/environments/v1.5/Project.toml`\n",
            "\u001b[32m\u001b[1mNo Changes\u001b[22m\u001b[39m to `~/.julia/environments/v1.5/Manifest.toml`\n",
            "\u001b[32m\u001b[1m  Resolving\u001b[22m\u001b[39m package versions...\n",
            "\u001b[32m\u001b[1mUpdating\u001b[22m\u001b[39m `~/.julia/environments/v1.5/Project.toml`\n",
            " \u001b[90m [10745b16] \u001b[39m\u001b[92m+ Statistics\u001b[39m\n",
            "\u001b[32m\u001b[1mNo Changes\u001b[22m\u001b[39m to `~/.julia/environments/v1.5/Manifest.toml`\n",
            "\u001b[32m\u001b[1m  Resolving\u001b[22m\u001b[39m package versions...\n",
            "\u001b[32m\u001b[1mUpdating\u001b[22m\u001b[39m `~/.julia/environments/v1.5/Project.toml`\n",
            " \u001b[90m [8dfed614] \u001b[39m\u001b[92m+ Test\u001b[39m\n",
            "\u001b[32m\u001b[1mNo Changes\u001b[22m\u001b[39m to `~/.julia/environments/v1.5/Manifest.toml`\n",
            "\u001b[32m\u001b[1m  Resolving\u001b[22m\u001b[39m package versions...\n",
            "\u001b[32m\u001b[1mUpdating\u001b[22m\u001b[39m `~/.julia/environments/v1.5/Project.toml`\n",
            " \u001b[90m [9a3f8284] \u001b[39m\u001b[92m+ Random\u001b[39m\n",
            "\u001b[32m\u001b[1mNo Changes\u001b[22m\u001b[39m to `~/.julia/environments/v1.5/Manifest.toml`\n",
            "\u001b[32m\u001b[1m  Resolving\u001b[22m\u001b[39m package versions...\n",
            "\u001b[32m\u001b[1mUpdating\u001b[22m\u001b[39m `~/.julia/environments/v1.5/Project.toml`\n",
            " \u001b[90m [157a0f19] \u001b[39m\u001b[92m+ SegyIO v0.7.3\u001b[39m\n",
            "\u001b[32m\u001b[1mNo Changes\u001b[22m\u001b[39m to `~/.julia/environments/v1.5/Manifest.toml`\n",
            "\u001b[32m\u001b[1m  Resolving\u001b[22m\u001b[39m package versions...\n",
            "\u001b[32m\u001b[1mUpdating\u001b[22m\u001b[39m `~/.julia/environments/v1.5/Project.toml`\n",
            " \u001b[90m [8ba89e20] \u001b[39m\u001b[92m+ Distributed\u001b[39m\n",
            "\u001b[32m\u001b[1mNo Changes\u001b[22m\u001b[39m to `~/.julia/environments/v1.5/Manifest.toml`\n",
            "\u001b[32m\u001b[1m  Resolving\u001b[22m\u001b[39m package versions...\n",
            "\u001b[32m\u001b[1mUpdating\u001b[22m\u001b[39m `~/.julia/environments/v1.5/Project.toml`\n",
            " \u001b[90m [717857b8] \u001b[39m\u001b[92m+ DSP v0.6.9\u001b[39m\n",
            "\u001b[32m\u001b[1mNo Changes\u001b[22m\u001b[39m to `~/.julia/environments/v1.5/Manifest.toml`\n",
            "\u001b[32m\u001b[1m  Resolving\u001b[22m\u001b[39m package versions...\n",
            "\u001b[32m\u001b[1mUpdating\u001b[22m\u001b[39m `~/.julia/environments/v1.5/Project.toml`\n",
            " \u001b[90m [37e2e46d] \u001b[39m\u001b[92m+ LinearAlgebra\u001b[39m\n",
            "\u001b[32m\u001b[1mNo Changes\u001b[22m\u001b[39m to `~/.julia/environments/v1.5/Manifest.toml`\n",
            "\u001b[32m\u001b[1m  Resolving\u001b[22m\u001b[39m package versions...\n",
            "\u001b[32m\u001b[1mUpdating\u001b[22m\u001b[39m `~/.julia/environments/v1.5/Project.toml`\n",
            " \u001b[90m [3a141323] \u001b[39m\u001b[92m+ PolynomialRoots v1.0.0\u001b[39m\n",
            "\u001b[32m\u001b[1mNo Changes\u001b[22m\u001b[39m to `~/.julia/environments/v1.5/Manifest.toml`\n",
            "\u001b[32m\u001b[1m  Resolving\u001b[22m\u001b[39m package versions...\n",
            "\u001b[32m\u001b[1mUpdating\u001b[22m\u001b[39m `~/.julia/environments/v1.5/Project.toml`\n",
            " \u001b[90m [bb331ad6] \u001b[39m\u001b[92m+ JOLI v0.7.13\u001b[39m\n",
            "\u001b[32m\u001b[1mNo Changes\u001b[22m\u001b[39m to `~/.julia/environments/v1.5/Manifest.toml`\n",
            "\u001b[32m\u001b[1m  Resolving\u001b[22m\u001b[39m package versions...\n",
            "\u001b[32m\u001b[1mUpdating\u001b[22m\u001b[39m `~/.julia/environments/v1.5/Project.toml`\n",
            " \u001b[90m [438e738f] \u001b[39m\u001b[92m+ PyCall v1.92.1\u001b[39m\n",
            "\u001b[32m\u001b[1mNo Changes\u001b[22m\u001b[39m to `~/.julia/environments/v1.5/Manifest.toml`\n",
            "\u001b[32m\u001b[1m  Resolving\u001b[22m\u001b[39m package versions...\n",
            "\u001b[32m\u001b[1mUpdating\u001b[22m\u001b[39m `~/.julia/environments/v1.5/Project.toml`\n",
            " \u001b[90m [42fd0dbc] \u001b[39m\u001b[92m+ IterativeSolvers v0.8.4\u001b[39m\n",
            "\u001b[32m\u001b[1mNo Changes\u001b[22m\u001b[39m to `~/.julia/environments/v1.5/Manifest.toml`\n",
            "\u001b[32m\u001b[1m  Resolving\u001b[22m\u001b[39m package versions...\n",
            "\u001b[32m\u001b[1mUpdating\u001b[22m\u001b[39m `~/.julia/environments/v1.5/Project.toml`\n",
            " \u001b[90m [39dd38d3] \u001b[39m\u001b[92m+ Dierckx v0.5.1\u001b[39m\n",
            "\u001b[32m\u001b[1mNo Changes\u001b[22m\u001b[39m to `~/.julia/environments/v1.5/Manifest.toml`\n",
            "\u001b[32m\u001b[1m  Resolving\u001b[22m\u001b[39m package versions...\n",
            "\u001b[32m\u001b[1mUpdating\u001b[22m\u001b[39m `~/.julia/environments/v1.5/Project.toml`\n",
            " \u001b[90m [de0858da] \u001b[39m\u001b[92m+ Printf\u001b[39m\n",
            "\u001b[32m\u001b[1mNo Changes\u001b[22m\u001b[39m to `~/.julia/environments/v1.5/Manifest.toml`\n",
            "\u001b[32m\u001b[1m  Resolving\u001b[22m\u001b[39m package versions...\n",
            "\u001b[32m\u001b[1mUpdating\u001b[22m\u001b[39m `~/.julia/environments/v1.5/Project.toml`\n",
            " \u001b[90m [7a1cc6ca] \u001b[39m\u001b[92m+ FFTW v1.2.4\u001b[39m\n",
            "\u001b[32m\u001b[1mNo Changes\u001b[22m\u001b[39m to `~/.julia/environments/v1.5/Manifest.toml`\n"
          ],
          "name": "stdout"
        }
      ]
    },
    {
      "cell_type": "markdown",
      "metadata": {
        "id": "IL6iVezPJpNs"
      },
      "source": [
        "# JUDI examples"
      ]
    },
    {
      "cell_type": "markdown",
      "metadata": {
        "id": "8YcvRyHDFQva"
      },
      "source": [
        "Until now we have been using ipython. Now we are going to use Julia. To achieve it go to Colab's menu bar and select **Edit** and select **Notebook settings** from the drop down. Select *Julia 1.5.0* as the runtime and *GPU* as the hadware accelerator. If necessary reload web-page (F5) and change **Notebook settings**"
      ]
    },
    {
      "cell_type": "markdown",
      "metadata": {
        "id": "a2Us07bi9cjz"
      },
      "source": [
        "## JUDI install required packages"
      ]
    },
    {
      "cell_type": "code",
      "metadata": {
        "colab": {
          "base_uri": "https://localhost:8080/"
        },
        "id": "pLsgRZGB6fiP",
        "outputId": "8d847d94-ef43-4eae-f515-a72a74e4f343"
      },
      "source": [
        "; cd /content/JUDI.jl/examples/scripts"
      ],
      "execution_count": 1,
      "outputs": [
        {
          "output_type": "stream",
          "text": [
            "/content/JUDI.jl/examples/scripts\n"
          ],
          "name": "stdout"
        }
      ]
    },
    {
      "cell_type": "code",
      "metadata": {
        "colab": {
          "base_uri": "https://localhost:8080/"
        },
        "id": "SZLn7ZYC6f-u",
        "outputId": "c355cd29-ef8b-4465-c894-4d2766c3f345"
      },
      "source": [
        "using Pkg\r\n",
        "\r\n",
        "Pkg.add(\"PyCall\")\r\n",
        "\r\n",
        "# IO\r\n",
        "Pkg.add(\"HDF5\")\r\n",
        "Pkg.add(\"JLD\")\r\n",
        "Pkg.add(\"JLD2\")\r\n",
        "\r\n",
        "# Plotting\r\n",
        "Pkg.add(\"PyPlot\")\r\n",
        "\r\n",
        "# Optimization\r\n",
        "Pkg.add(\"NLopt\")\r\n",
        "Pkg.add(\"IterativeSolvers\")\r\n",
        "Pkg.add(\"Optim\")\r\n",
        "Pkg.add(\"LineSearches\")"
      ],
      "execution_count": 7,
      "outputs": [
        {
          "output_type": "stream",
          "text": [
            "\u001b[32m\u001b[1m  Resolving\u001b[22m\u001b[39m package versions...\n",
            "\u001b[32m\u001b[1mNo Changes\u001b[22m\u001b[39m to `~/.julia/environments/v1.5/Project.toml`\n",
            "\u001b[32m\u001b[1mNo Changes\u001b[22m\u001b[39m to `~/.julia/environments/v1.5/Manifest.toml`\n",
            "\u001b[32m\u001b[1m  Resolving\u001b[22m\u001b[39m package versions...\n",
            "\u001b[32m\u001b[1mNo Changes\u001b[22m\u001b[39m to `~/.julia/environments/v1.5/Project.toml`\n",
            "\u001b[32m\u001b[1mNo Changes\u001b[22m\u001b[39m to `~/.julia/environments/v1.5/Manifest.toml`\n",
            "\u001b[32m\u001b[1m  Resolving\u001b[22m\u001b[39m package versions...\n",
            "\u001b[32m\u001b[1mNo Changes\u001b[22m\u001b[39m to `~/.julia/environments/v1.5/Project.toml`\n",
            "\u001b[32m\u001b[1mNo Changes\u001b[22m\u001b[39m to `~/.julia/environments/v1.5/Manifest.toml`\n",
            "\u001b[32m\u001b[1m  Resolving\u001b[22m\u001b[39m package versions...\n",
            "\u001b[32m\u001b[1mNo Changes\u001b[22m\u001b[39m to `~/.julia/environments/v1.5/Project.toml`\n",
            "\u001b[32m\u001b[1mNo Changes\u001b[22m\u001b[39m to `~/.julia/environments/v1.5/Manifest.toml`\n",
            "\u001b[32m\u001b[1m  Resolving\u001b[22m\u001b[39m package versions...\n",
            "\u001b[32m\u001b[1mNo Changes\u001b[22m\u001b[39m to `~/.julia/environments/v1.5/Project.toml`\n",
            "\u001b[32m\u001b[1mNo Changes\u001b[22m\u001b[39m to `~/.julia/environments/v1.5/Manifest.toml`\n",
            "\u001b[32m\u001b[1m  Resolving\u001b[22m\u001b[39m package versions...\n",
            "\u001b[32m\u001b[1mNo Changes\u001b[22m\u001b[39m to `~/.julia/environments/v1.5/Project.toml`\n",
            "\u001b[32m\u001b[1mNo Changes\u001b[22m\u001b[39m to `~/.julia/environments/v1.5/Manifest.toml`\n",
            "\u001b[32m\u001b[1m  Resolving\u001b[22m\u001b[39m package versions...\n",
            "\u001b[32m\u001b[1mNo Changes\u001b[22m\u001b[39m to `~/.julia/environments/v1.5/Project.toml`\n",
            "\u001b[32m\u001b[1mNo Changes\u001b[22m\u001b[39m to `~/.julia/environments/v1.5/Manifest.toml`\n",
            "\u001b[32m\u001b[1m  Resolving\u001b[22m\u001b[39m package versions...\n",
            "\u001b[32m\u001b[1mNo Changes\u001b[22m\u001b[39m to `~/.julia/environments/v1.5/Project.toml`\n",
            "\u001b[32m\u001b[1mNo Changes\u001b[22m\u001b[39m to `~/.julia/environments/v1.5/Manifest.toml`\n",
            "\u001b[32m\u001b[1m  Resolving\u001b[22m\u001b[39m package versions...\n",
            "\u001b[32m\u001b[1mNo Changes\u001b[22m\u001b[39m to `~/.julia/environments/v1.5/Project.toml`\n",
            "\u001b[32m\u001b[1mNo Changes\u001b[22m\u001b[39m to `~/.julia/environments/v1.5/Manifest.toml`\n"
          ],
          "name": "stderr"
        }
      ]
    },
    {
      "cell_type": "markdown",
      "metadata": {
        "id": "yPiHX7R48w1l"
      },
      "source": [
        "## Script examples"
      ]
    },
    {
      "cell_type": "markdown",
      "metadata": {
        "id": "w54DAyO3-SO_"
      },
      "source": [
        "### extended_source_lsqr.jl"
      ]
    },
    {
      "cell_type": "code",
      "metadata": {
        "colab": {
          "base_uri": "https://localhost:8080/",
          "height": 1000
        },
        "id": "74h08fwt-lg7",
        "outputId": "d6f864c6-c7d0-4bd7-be75-6d91a7827e5d"
      },
      "source": [
        "# Example for basic 2D modeling:\r\n",
        "# The receiver positions and the source wavelets are the same for each of the four experiments.\r\n",
        "# Author: Philipp Witte, pwitte@eos.ubc.ca\r\n",
        "# Date: January 2017\r\n",
        "#\r\n",
        "\r\n",
        "using JUDI.TimeModeling, SegyIO, LinearAlgebra, PyPlot, IterativeSolvers, JOLI\r\n",
        "\r\n",
        "# Set up model structure\r\n",
        "n = (120, 100)   # (x,y,z) or (x,z)\r\n",
        "d = (10., 10.)\r\n",
        "o = (0., 0.)\r\n",
        "\r\n",
        "# Velocity [km/s]\r\n",
        "v = ones(Float32,n) .+ 0.4f0\r\n",
        "v[:,Int(round(end/2)):end] .= 5f0\r\n",
        "\r\n",
        "# Slowness squared [s^2/km^2]\r\n",
        "m = (1f0 ./ v).^2\r\n",
        "\r\n",
        "# Setup info and model structure\r\n",
        "nsrc = 1\t# number of sources\r\n",
        "model = Model(n, d, o, m)\r\n",
        "\r\n",
        "# Set up receiver geometry\r\n",
        "nxrec = 120\r\n",
        "xrec = range(50f0, stop=1150f0, length=nxrec)\r\n",
        "yrec = 0f0\r\n",
        "zrec = range(50f0, stop=50f0, length=nxrec)\r\n",
        "\r\n",
        "# receiver sampling and recording time\r\n",
        "time = 2000f0   # receiver recording time [ms]\r\n",
        "dt = 4f0    # receiver sampling interval [ms]\r\n",
        "\r\n",
        "# Set up receiver structure\r\n",
        "recGeometry = Geometry(xrec, yrec, zrec; dt=dt, t=time, nsrc=nsrc)\r\n",
        "\r\n",
        "# Source wavelet\r\n",
        "f0 = 0.01f0     # MHz\r\n",
        "wavelet = ricker_wavelet(time, dt, f0)\r\n",
        "\r\n",
        "# Set up info structure for linear operators\r\n",
        "ntComp = get_computational_nt(recGeometry, model)\r\n",
        "info = Info(prod(n), nsrc, ntComp)"
      ],
      "execution_count": 3,
      "outputs": [
        {
          "output_type": "stream",
          "text": [
            "┌ Info: Precompiling JUDI [f3b833dc-6b2e-5b9c-b940-873ed6319979]\n",
            "└ @ Base loading.jl:1278\n"
          ],
          "name": "stderr"
        },
        {
          "output_type": "stream",
          "text": [
            "Downloading artifact: CUDA101\n",
            "\u001b[?25l"
          ],
          "name": "stdout"
        },
        {
          "output_type": "stream",
          "text": [
            "######################################################################### 100.0%\n"
          ],
          "name": "stderr"
        },
        {
          "output_type": "stream",
          "text": [
            "\u001b[1A\u001b[2K\u001b[?25hDownloading artifact: CUDNN_CUDA101\n",
            "\u001b[?25l"
          ],
          "name": "stdout"
        },
        {
          "output_type": "stream",
          "text": [
            "######################################################################### 100.0%\n"
          ],
          "name": "stderr"
        },
        {
          "output_type": "stream",
          "text": [
            "\u001b[1A\u001b[2K\u001b[?25hDownloading artifact: CUTENSOR_CUDA101\n",
            "\u001b[?25l"
          ],
          "name": "stdout"
        },
        {
          "output_type": "stream",
          "text": [
            "######################################################################### 100.0%\n"
          ],
          "name": "stderr"
        },
        {
          "output_type": "stream",
          "text": [
            "\u001b[1A\u001b[2K\u001b[?25h"
          ],
          "name": "stdout"
        },
        {
          "output_type": "stream",
          "text": [
            "┌ Info: Precompiling PyPlot [d330b81b-6aea-500a-939a-2ce795aea3ee]\n",
            "└ @ Base loading.jl:1278\n"
          ],
          "name": "stderr"
        },
        {
          "output_type": "error",
          "ename": "LoadError",
          "evalue": "ignored",
          "traceback": [
            "PyError (PyImport_ImportModule\n\nThe Python package models could not be imported by pyimport. Usually this means\nthat you did not install models in the Python version being used by PyCall.\n\nPyCall is currently configured to use the Python version at:\n\n/usr/bin/python3\n\nand you should use whatever mechanism you usually use (apt-get, pip, conda,\netcetera) to install the Python package containing the models module.\n\nOne alternative is to re-configure PyCall to use a different Python\nversion on your system: set ENV[\"PYTHON\"] to the path/name of the python\nexecutable you want to use, run Pkg.build(\"PyCall\"), and re-launch Julia.\n\nAnother alternative is to configure PyCall to use a Julia-specific Python\ndistribution via the Conda.jl package (which installs a private Anaconda\nPython distribution), which has the advantage that packages can be installed\nand kept up-to-date via Julia.  As explained in the PyCall documentation,\nset ENV[\"PYTHON\"]=\"\", run Pkg.build(\"PyCall\"), and re-launch Julia. Then,\nTo install the models module, you can use `pyimport_conda(\"models\", PKG)`,\nwhere PKG is the Anaconda package the contains the module models,\nor alternatively you can use the Conda package directly (via\n`using Conda` followed by `Conda.add` etcetera).\n\n) <class 'ImportError'>\nImportError(\"cannot import name 'linear_coeffs'\",)\n  File \"/root/.julia/dev/JUDI/src/pysource/models.py\", line 4, in <module>\n    from devito import (Grid, Function, SubDomain, SubDimension, Eq,\n  File \"/usr/local/lib/python3.6/dist-packages/devito/__init__.py\", line 7, in <module>\n    from devito.base import *  # noqa\n  File \"/usr/local/lib/python3.6/dist-packages/devito/base.py\", line 6, in <module>\n    import devito.types.basic as basic\n  File \"/usr/local/lib/python3.6/dist-packages/devito/types/__init__.py\", line 2, in <module>\n    from .basic import *  # noqa\n  File \"/usr/local/lib/python3.6/dist-packages/devito/types/basic.py\", line 15, in <module>\n    from devito.symbolics import aligned_indices\n  File \"/usr/local/lib/python3.6/dist-packages/devito/symbolics/__init__.py\", line 3, in <module>\n    from devito.symbolics.manipulation import *  # noqa\n  File \"/usr/local/lib/python3.6/dist-packages/devito/symbolics/manipulation.py\", line 12, in <module>\n    from devito.types.equation import Eq\n  File \"/usr/local/lib/python3.6/dist-packages/devito/types/equation.py\", line 4, in <module>\n    from sympy.solvers.solveset import linear_coeffs\n",
            "",
            "Stacktrace:",
            " [1] pyimport(::String) at /root/.julia/packages/PyCall/BcTLp/src/PyCall.jl:547",
            " [2] load_pymodel() at /root/.julia/dev/JUDI/src/TimeModeling/auxiliaryFunctions.jl:225",
            " [3] calculate_dt(::Model; dt::Nothing) at /root/.julia/dev/JUDI/src/TimeModeling/auxiliaryFunctions.jl:237",
            " [4] get_computational_nt(::GeometryIC, ::Model; dt::Nothing) at /root/.julia/dev/JUDI/src/TimeModeling/auxiliaryFunctions.jl:279",
            " [5] get_computational_nt(::GeometryIC, ::Model) at /root/.julia/dev/JUDI/src/TimeModeling/auxiliaryFunctions.jl:273",
            " [6] top-level scope at In[3]:43",
            " [7] include_string(::Function, ::Module, ::String, ::String) at ./loading.jl:1091"
          ]
        }
      ]
    },
    {
      "cell_type": "code",
      "metadata": {
        "colab": {
          "base_uri": "https://localhost:8080/",
          "height": 146
        },
        "id": "6LeqnmIb-msO",
        "outputId": "8ffac2aa-6ed0-48a2-cb3a-2d86bb0b4afd"
      },
      "source": [
        "# Write shots as segy files to disk\r\n",
        "opt = Options()\r\n",
        "\r\n",
        "# Setup operators\r\n",
        "Pr = judiProjection(info, recGeometry)\r\n",
        "F = judiModeling(info, model; options=opt)\r\n",
        "\r\n",
        "# Random weights (size of the model)\r\n",
        "w = judiWeights(randn(Float32, model.n))\r\n",
        "\r\n",
        "# Create operator for injecting the weights, multiplied by the provided wavelet(s)\r\n",
        "Pw = judiLRWF(info, wavelet)\r\n",
        "\r\n",
        "# Model observed data w/ extended source\r\n",
        "lambda = 1f2\r\n",
        "I = joDirac(info.n, DDT=Float32, RDT=Float32)\r\n",
        "F = Pr*F*adjoint(Pw)\r\n",
        "F̄ = [F; lambda*I]\r\n",
        "\r\n",
        "# Simultaneous observed data\r\n",
        "d_sim = F*w\r\n",
        "\r\n",
        "# # Adjoint operation\r\n",
        "w_adj = adjoint(F)*d_sim\r\n",
        "\r\n",
        "# # LSQR\r\n",
        "w_inv = 0f0 .* w\r\n",
        "w_inv_no_damp = 0f0 .* w\r\n",
        "lsqr!(w_inv, F̄, [d_sim; lambda*w]; maxiter=2, verbose=true, damp=1e2)\r\n",
        "lsqr!(w_inv_no_damp, F, d_sim; maxiter=2, verbose=true, damp=1e2)\r\n",
        "\r\n",
        "d_pred = F*w_inv;\r\n",
        "d_pred_no_damp = F*w_inv_no_damp;\r\n",
        "\r\n",
        "# Plot results\r\n",
        "figure()\r\n",
        "subplot(1,3,1)\r\n",
        "imshow(d_sim.data[1], vmin=-5e2, vmax=5e2, cmap=\"gray\"); title(\"Observed data\")\r\n",
        "subplot(1,3,2)\r\n",
        "imshow(d_pred.data[1], vmin=-2e2, vmax=2e2, cmap=\"gray\"); title(\"Predicted data\")\r\n",
        "subplot(1,3,3)\r\n",
        "imshow(d_pred_no_damp.data[1], vmin=-2e2, vmax=2e2, cmap=\"gray\"); title(\"Predicted data no damp\")"
      ],
      "execution_count": 4,
      "outputs": [
        {
          "output_type": "error",
          "ename": "LoadError",
          "evalue": "ignored",
          "traceback": [
            "UndefVarError: info not defined",
            "",
            "Stacktrace:",
            " [1] top-level scope at In[4]:5",
            " [2] include_string(::Function, ::Module, ::String, ::String) at ./loading.jl:1091"
          ]
        }
      ]
    },
    {
      "cell_type": "code",
      "metadata": {
        "colab": {
          "base_uri": "https://localhost:8080/",
          "height": 146
        },
        "id": "juukNh1i-viz",
        "outputId": "84eb6a8f-7b45-4934-bbe5-2f7f632ae832"
      },
      "source": [
        "figure()\r\n",
        "subplot(2,2,1)\r\n",
        "imshow(w.weights[1], vmin=-3, vmax=3, cmap=\"gray\"); title(\"Weights\")\r\n",
        "subplot(2,2,2)\r\n",
        "imshow(w_adj.weights[1], vmin=minimum(w_adj), vmax=maximum(w_adj), cmap=\"gray\"); title(\"Adjoint\")\r\n",
        "subplot(2,2,3)\r\n",
        "imshow(w_inv.weights[1], vmin=minimum(w_inv), vmax=maximum(w_inv), cmap=\"gray\"); title(\"D-LSQR\")\r\n",
        "subplot(2,2,4)\r\n",
        "imshow(w_inv_no_damp.weights[1], vmin=minimum(w_inv), vmax=maximum(w_inv), cmap=\"gray\"); title(\"LSQR\")"
      ],
      "execution_count": 5,
      "outputs": [
        {
          "output_type": "error",
          "ename": "LoadError",
          "evalue": "ignored",
          "traceback": [
            "UndefVarError: w not defined",
            "",
            "Stacktrace:",
            " [1] top-level scope at In[5]:3",
            " [2] include_string(::Function, ::Module, ::String, ::String) at ./loading.jl:1091"
          ]
        }
      ]
    },
    {
      "cell_type": "markdown",
      "metadata": {
        "id": "t0oGhpaYA_xZ"
      },
      "source": [
        "### fwi_example_2D.jl"
      ]
    },
    {
      "cell_type": "code",
      "metadata": {
        "id": "gJvOGYbDBM9B"
      },
      "source": [
        "# 2D FWI on Overthrust model using minConf library\r\n",
        "# Author: Philipp Witte, pwitte@eoas.ubc.ca\r\n",
        "# Date: December 2017\r\n",
        "#\r\n",
        "\r\n",
        "using Statistics, Random, LinearAlgebra\r\n",
        "using JUDI.TimeModeling, JUDI.SLIM_optim, HDF5, SegyIO, PyPlot\r\n",
        "\r\n",
        "# Load starting model\r\n",
        "n,d,o,m0 = read(h5open(\"../../data/overthrust_model.h5\",\"r\"), \"n\", \"d\", \"o\", \"m0\")\r\n",
        "model0 = Model((n[1],n[2]), (d[1],d[2]), (o[1],o[2]), m0)\r\n",
        "\r\n",
        "# Bound constraints\r\n",
        "v0 = sqrt.(1f0 ./ model0.m)\r\n",
        "vmin = ones(Float32,model0.n) .* 1.3f0\r\n",
        "vmax = ones(Float32,model0.n) .* 6.5f0\r\n",
        "vmin[:,1:21] .= v0[:,1:21]   # keep water column fixed\r\n",
        "vmax[:,1:21] .= v0[:,1:21]\r\n",
        "\r\n",
        "# Slowness squared [s^2/km^2]\r\n",
        "mmin = vec((1f0 ./ vmax).^2)\r\n",
        "mmax = vec((1f0 ./ vmin).^2)\r\n",
        "\r\n",
        "# Load data\r\n",
        "block = segy_read(\"../../data/overthrust_shot_records.segy\")\r\n",
        "d_obs = judiVector(block)\r\n",
        "\r\n",
        "# Set up wavelet\r\n",
        "src_geometry = Geometry(block; key=\"source\")\r\n",
        "wavelet = ricker_wavelet(src_geometry.t[1],src_geometry.dt[1],0.008f0)  # 8 Hz wavelet\r\n",
        "q = judiVector(src_geometry,wavelet)"
      ],
      "execution_count": null,
      "outputs": []
    },
    {
      "cell_type": "code",
      "metadata": {
        "id": "g1URo6ZQBOlH"
      },
      "source": [
        "# Optimization parameters\r\n",
        "niterations = 10\r\n",
        "batchsize = 16\r\n",
        "fhistory_SGD = zeros(Float32,niterations)\r\n",
        "\r\n",
        "# Projection operator for bound constraints\r\n",
        "proj(x) = reshape(median([vec(mmin) vec(x) vec(mmax)]; dims=2),model0.n)\r\n",
        "\r\n",
        "# Main loop\r\n",
        "for j=1:niterations\r\n",
        "\r\n",
        "    # get fwi objective function value and gradient\r\n",
        "    i = randperm(d_obs.nsrc)[1:batchsize]\r\n",
        "    fval, gradient = fwi_objective(model0,q[i],d_obs[i])\r\n",
        "    println(\"FWI iteration no: \",j,\"; function value: \",fval)\r\n",
        "    fhistory_SGD[j] = fval\r\n",
        "\r\n",
        "\t# linesearch\r\n",
        "\tstep = backtracking_linesearch(model0, q[i], d_obs[i], fval, gradient, proj; alpha=1f0)\r\n",
        "\r\n",
        "\t# Update model and bound projection\r\n",
        "\tmodel0.m = proj(model0.m + reshape(step,model0.n))\r\n",
        "end"
      ],
      "execution_count": null,
      "outputs": []
    },
    {
      "cell_type": "code",
      "metadata": {
        "id": "IO0yZEWVBUK0"
      },
      "source": [
        "figure(); imshow(sqrt.(1f0./adjoint(model0.m))); title(\"FWI with SGD\")"
      ],
      "execution_count": null,
      "outputs": []
    },
    {
      "cell_type": "markdown",
      "metadata": {
        "id": "NmlQGxWeBl-y"
      },
      "source": [
        "### fwi_example_NLopt.jl"
      ]
    },
    {
      "cell_type": "code",
      "metadata": {
        "id": "iS8veDDHBs3B"
      },
      "source": [
        "# 2D FWI on Overthrust model with L-BFGS using NLopt library\r\n",
        "# Author: Philipp Witte, pwitte@eoas.ubc.ca\r\n",
        "# Date: December 2017\r\n",
        "#\r\n",
        "\r\n",
        "using Statistics, Random, LinearAlgebra\r\n",
        "using JUDI.TimeModeling, HDF5, NLopt, SegyIO\r\n",
        "\r\n",
        "# Load starting model\r\n",
        "n,d,o,m0 = read(h5open(\"../../data/overthrust_model.h5\",\"r\"), \"n\", \"d\", \"o\", \"m0\")\r\n",
        "model0 = Model((n[1],n[2]), (d[1],d[2]), (o[1],o[2]), m0)\r\n",
        "\r\n",
        "# Bound constraints\r\n",
        "v0 = sqrt.(1f0 ./ model0.m)\r\n",
        "vmin = ones(Float32, model0.n) .* 1.3f0\r\n",
        "vmax = ones(Float32, model0.n) .* 6.5f0\r\n",
        "\r\n",
        "# Slowness squared [s^2/km^2]\r\n",
        "mmin = vec((1f0 ./ vmax).^2)\r\n",
        "mmax = vec((1f0 ./ vmin).^2)\r\n",
        "\r\n",
        "# Load data\r\n",
        "block = segy_read(\"../../data/overthrust_shot_records.segy\")\r\n",
        "d_obs = judiVector(block)\r\n",
        "\r\n",
        "# Set up wavelet\r\n",
        "src_geometry = Geometry(block; key=\"source\")\r\n",
        "wavelet = ricker_wavelet(src_geometry.t[1], src_geometry.dt[1], 0.008f0)    # 8 Hz wavelet\r\n",
        "q = judiVector(src_geometry, wavelet)"
      ],
      "execution_count": null,
      "outputs": []
    },
    {
      "cell_type": "code",
      "metadata": {
        "id": "vutoa7trBt4A"
      },
      "source": [
        "# optimization parameters\r\n",
        "batchsize = 16\r\n",
        "count = 0\r\n",
        "\r\n",
        "# NLopt objective function\r\n",
        "println(\"No.  \", \"fval         \", \"norm(gradient)\")\r\n",
        "function f!(x,grad)\r\n",
        "\r\n",
        "    # Update model\r\n",
        "    model0.m = convert(Array{Float32, 2}, reshape(x, model0.n))\r\n",
        "\r\n",
        "    # Seclect batch and calculate gradient\r\n",
        "    i = randperm(d_obs.nsrc)[1:batchsize]\r\n",
        "    fval, gradient = fwi_objective(model0, q[i], d_obs[i])\r\n",
        "\r\n",
        "    # Reset gradient in water column to zero\r\n",
        "    gradient = reshape(gradient, model0.n)\r\n",
        "    gradient[:, 1:21] .= 0f0\r\n",
        "    grad[1:end] = vec(gradient)\r\n",
        "\r\n",
        "    global count; count += 1\r\n",
        "    println(count, \"    \", fval, \"    \", norm(grad))\r\n",
        "    return convert(Float64, fval)\r\n",
        "end"
      ],
      "execution_count": null,
      "outputs": []
    },
    {
      "cell_type": "code",
      "metadata": {
        "id": "uWmlEQWhBy7t"
      },
      "source": [
        "# Optimization parameters\r\n",
        "opt = Opt(:LD_LBFGS, prod(model0.n))\r\n",
        "lower_bounds!(opt, mmin); upper_bounds!(opt, mmax)\r\n",
        "min_objective!(opt, f!)\r\n",
        "maxeval!(opt, 10)\r\n",
        "(minf, minx, ret) = optimize(opt, vec(model0.m))"
      ],
      "execution_count": null,
      "outputs": []
    },
    {
      "cell_type": "markdown",
      "metadata": {
        "id": "Xra9YcEZ94Xi"
      },
      "source": [
        "### fwi_example_constraints.jl"
      ]
    },
    {
      "cell_type": "code",
      "metadata": {
        "id": "FJMjf1UG-bVH"
      },
      "source": [
        "# 2D FWI on Overthrust model using minConf library\r\n",
        "# Author: Philipp Witte, pwitte@eoas.ubc.ca\r\n",
        "# Date: December 2017\r\n",
        "#\r\n",
        "\r\n",
        "using Statistics, Random, Pkg\r\n",
        "using LinearAlgebra\r\n",
        "using JUDI.TimeModeling, JUDI.SLIM_optim, HDF5, SegyIO, PyPlot, FFTW\r\n",
        "using SetIntersectionProjection\r\n",
        "\r\n",
        "# Load starting model\r\n",
        "n,d,o,m0 = read(h5open(\"../../data/overthrust_model.h5\",\"r\"), \"n\", \"d\", \"o\", \"m0\")\r\n",
        "model0 = Model((n[1],n[2]), (d[1],d[2]), (o[1],o[2]), m0)\r\n",
        "\r\n",
        "# Bound constraints\r\n",
        "v0 = sqrt.(1f0 ./ model0.m)\r\n",
        "\r\n",
        "# Load data\r\n",
        "block = segy_read(\"../../data/overthrust_shot_records.segy\")\r\n",
        "d_obs = judiVector(block)\r\n",
        "\r\n",
        "# Set up wavelet\r\n",
        "src_geometry = Geometry(block; key=\"source\")\r\n",
        "wavelet = ricker_wavelet(src_geometry.t[1],src_geometry.dt[1],0.008f0)  # 8 Hz wavelet\r\n",
        "q = judiVector(src_geometry,wavelet)"
      ],
      "execution_count": null,
      "outputs": []
    },
    {
      "cell_type": "code",
      "metadata": {
        "id": "r3W4CeWf_8Ca"
      },
      "source": [
        "# Optimization parameters\r\n",
        "niterations = 10\r\n",
        "batchsize = 10\r\n",
        "fhistory_SGD = zeros(Float32,niterations)\r\n",
        "\r\n",
        "\r\n",
        "########## Setup constraints\r\n",
        "# with constraints:\r\n",
        "options=PARSDMM_options()\r\n",
        "options.FL=Float32\r\n",
        "options=default_PARSDMM_options(options,options.FL)\r\n",
        "options.adjust_gamma = true\r\n",
        "options.adjust_rho = true\r\n",
        "options.adjust_feasibility_rho = true\r\n",
        "options.Blas_active = true\r\n",
        "options.maxit = 1000\r\n",
        "options.feas_tol = 0.001\r\n",
        "options.obj_tol = 0.001\r\n",
        "options.evol_rel_tol = 0.00001\r\n",
        "\r\n",
        "options.rho_ini=[1.0f0]\r\n",
        "\r\n",
        "set_zero_subnormals(true)\r\n",
        "BLAS.set_num_threads(2)\r\n",
        "FFTW.set_num_threads(2)\r\n",
        "options.parallel=false\r\n",
        "options.feasibility_only = false\r\n",
        "options.zero_ini_guess=true\r\n",
        "\r\n",
        "constraint = Vector{SetIntersectionProjection.set_definitions}()\r\n",
        "\r\n",
        "#bounds:\r\n",
        "vmin = ones(Float32,model0.n) .* 1.3f0\r\n",
        "vmax = ones(Float32,model0.n) .* 6.5f0\r\n",
        "vmin[:,1:21] .= v0[:,1:21]   # keep water column fixed\r\n",
        "vmax[:,1:21] .= v0[:,1:21]\r\n",
        "\r\n",
        "# Slowness squared [s^2/km^2]\r\n",
        "m_min = vec((1f0 ./ vmax).^2)\r\n",
        "m_max = vec((1f0 ./ vmin).^2)\r\n",
        "set_type = \"bounds\"\r\n",
        "TD_OP = \"identity\"\r\n",
        "app_mode = (\"matrix\",\"\")\r\n",
        "custom_TD_OP = ([],false)\r\n",
        "push!(constraint, set_definitions(set_type,TD_OP,m_min,m_max,app_mode,custom_TD_OP))\r\n",
        "\r\n",
        "#TV\r\n",
        "(TV,dummy1,dummy2,dummy3) = get_TD_operator(model0,\"TV\",options.FL)\r\n",
        "m_min = 0.0\r\n",
        "m_max = norm(TV*vec(v0),1) *2.0f0\r\n",
        "set_type = \"l1\"\r\n",
        "TD_OP = \"TV\"\r\n",
        "app_mode = (\"matrix\",\"\")\r\n",
        "custom_TD_OP = ([],false)\r\n",
        "push!(constraint, set_definitions(set_type,TD_OP,m_min,m_max,app_mode,custom_TD_OP))\r\n",
        "\r\n",
        "#set up constraints, precompute some things and define projector\r\n",
        "(P_sub,TD_OP,set_Prop) = setup_constraints(constraint,model0,options.FL)\r\n",
        "(TD_OP,AtA,l,y) = PARSDMM_precompute_distribute(TD_OP,set_Prop,model0,options)\r\n",
        "options.rho_ini = ones(length(TD_OP))*10.0\r\n",
        "\r\n",
        "proj_intersection = x-> PARSDMM(x, AtA, TD_OP, set_Prop, P_sub, model0, options)  \r\n",
        "\r\n",
        "function prj(input)\r\n",
        "    input = Float32.(input)\r\n",
        "    (x,dummy1,dummy2,dymmy3) = proj_intersection(vec(input))\r\n",
        "    return reshape(x, model0.n)\r\n",
        "end\r\n",
        "\r\n",
        "########## Run\r\n",
        "\r\n",
        "# Main loop\r\n",
        "for j=1:niterations\r\n",
        "\r\n",
        "    # get fwi objective function value and gradient\r\n",
        "    i = randperm(d_obs.nsrc)[1:batchsize]\r\n",
        "    fval, gradient = fwi_objective(model0,q[i],d_obs[i])\r\n",
        "    println(\"FWI iteration no: \",j,\"; function value: \",fval)\r\n",
        "    fhistory_SGD[j] = fval\r\n",
        "\r\n",
        "    # linesearch\r\n",
        "    step = backtracking_linesearch(model0, q[i], d_obs[i], fval, gradient, prj; alpha=1f0)\r\n",
        "\r\n",
        "    # Update model and bound projection\r\n",
        "    model0.m = prj(model0.m + reshape(step,model0.n))\r\n",
        "end"
      ],
      "execution_count": null,
      "outputs": []
    },
    {
      "cell_type": "code",
      "metadata": {
        "id": "yiS45uiDLubX"
      },
      "source": [
        "figure(); imshow(sqrt.(1f0./adjoint(model0.m))); title(\"FWI with SPG\")"
      ],
      "execution_count": null,
      "outputs": []
    },
    {
      "cell_type": "markdown",
      "metadata": {
        "id": "8MIcJbcBCQAY"
      },
      "source": [
        "### fwi_example_minConf.jl"
      ]
    },
    {
      "cell_type": "code",
      "metadata": {
        "id": "DjuK5iY4CR1R"
      },
      "source": [
        "# 2D FWI on Overthrust model with SPG using minConf library\r\n",
        "# Author: Philipp Witte, pwitte@eoas.ubc.ca\r\n",
        "# Date: December 2017\r\n",
        "#\r\n",
        "\r\n",
        "using Statistics, Random, LinearAlgebra, PyPlot\r\n",
        "using JUDI.TimeModeling, JUDI.SLIM_optim, HDF5, SegyIO\r\n",
        "\r\n",
        "# Load starting model\r\n",
        "n,d,o,m0 = read(h5open(\"../../data/overthrust_model.h5\",\"r\"), \"n\", \"d\", \"o\", \"m0\")\r\n",
        "model0 = Model((n[1],n[2]), (d[1],d[2]), (o[1],o[2]), m0)\r\n",
        "\r\n",
        "# Bound constraints\r\n",
        "v0 = sqrt.(1f0 ./ model0.m)\r\n",
        "vmin = ones(Float32,model0.n) .* 1.3f0\r\n",
        "vmax = ones(Float32,model0.n) .* 6.5f0\r\n",
        "vmin[:,1:21] .= v0[:,1:21]   # keep water column fixed\r\n",
        "vmax[:,1:21] .= v0[:,1:21]\r\n",
        "\r\n",
        "# Slowness squared [s^2/km^2]\r\n",
        "mmin = vec((1f0 ./ vmax).^2)\r\n",
        "mmax = vec((1f0 ./ vmin).^2)\r\n",
        "\r\n",
        "# Load data\r\n",
        "block = segy_read(\"../../data/overthrust_shot_records.segy\")\r\n",
        "d_obs = judiVector(block)\r\n",
        "\r\n",
        "# Set up wavelet\r\n",
        "src_geometry = Geometry(block; key=\"source\")\r\n",
        "wavelet = ricker_wavelet(src_geometry.t[1],src_geometry.dt[1],0.008f0)  # 8 Hz wavelet\r\n",
        "q = judiVector(src_geometry,wavelet)"
      ],
      "execution_count": null,
      "outputs": []
    },
    {
      "cell_type": "code",
      "metadata": {
        "id": "cGZ-0vrFCZQb"
      },
      "source": [
        "# Optimization parameters\r\n",
        "fevals = 16\r\n",
        "batchsize = 8\r\n",
        "\r\n",
        "# Objective function for minConf library\r\n",
        "count = 0\r\n",
        "function objective_function(x)\r\n",
        "    model0.m = reshape(x,model0.n);\r\n",
        "\r\n",
        "    # fwi function value and gradient\r\n",
        "    i = randperm(d_obs.nsrc)[1:batchsize]\r\n",
        "    fval, grad = fwi_objective(model0, q[i], d_obs[i])\r\n",
        "    grad = .125f0*grad/maximum(abs.(grad))  # scale for line search\r\n",
        "\r\n",
        "    global count; count+= 1\r\n",
        "    return fval, vec(grad)\r\n",
        "end\r\n",
        "\r\n",
        "# Bound projection\r\n",
        "ProjBound(x) = median([mmin x mmax]; dims=2)\r\n",
        "\r\n",
        "# FWI with SPG\r\n",
        "options = spg_options(verbose=3, maxIter=fevals, memory=3)\r\n",
        "sol = minConf_SPG(objective_function, vec(model0.m), ProjBound, options)"
      ],
      "execution_count": null,
      "outputs": []
    },
    {
      "cell_type": "code",
      "metadata": {
        "id": "0p5GsSlwCbdu"
      },
      "source": [
        "# Plot result\r\n",
        "imshow(reshape(sqrt.(1f0 ./ sol.sol), model0.n)', extent=[0, 10, 3, 0])\r\n",
        "xlabel(\"Lateral position [km]\")\r\n",
        "ylabel(\"Depth [km]\")"
      ],
      "execution_count": null,
      "outputs": []
    },
    {
      "cell_type": "markdown",
      "metadata": {
        "id": "XdMpcQduyaQc"
      },
      "source": [
        "\n",
        "\n",
        "---\n",
        "\n",
        "\n",
        "# You can run this to check if Julia is running and its GPU perfomance\n",
        "\n",
        "\n"
      ]
    },
    {
      "cell_type": "code",
      "metadata": {
        "id": "iIxu4TjlJnBG"
      },
      "source": [
        "VERSION"
      ],
      "execution_count": null,
      "outputs": []
    },
    {
      "cell_type": "markdown",
      "metadata": {
        "id": "rR7Ox6Ax0ypi"
      },
      "source": [
        "The main reason we are interested in running Julia on Colab is the GPU functionality. So we can benchmark the performance on the GPU.<br>**The next two cells are optional and are for people using it for the first time**"
      ]
    },
    {
      "cell_type": "code",
      "metadata": {
        "id": "vHKANz2J0GDW"
      },
      "source": [
        "using Pkg\n",
        "Pkg.add([\"BenchmarkTools\", \"CuArrays\"])\n",
        "using BenchmarkTools,CuArrays"
      ],
      "execution_count": null,
      "outputs": []
    },
    {
      "cell_type": "code",
      "metadata": {
        "id": "aMI2QjTuyXs2"
      },
      "source": [
        "mcpu = rand(2^10, 2^10)\n",
        "@benchmark mcpu*mcpu\n",
        "\n",
        "println(\"The CuArrray operation should take around 1 ms(excluding CUDA downloading time which is a one time process), and should be much faster. If so, the GPU is working.\")\n",
        "mgpu = cu(mcpu)\n",
        "@benchmark CuArrays.@sync mgpu*mgpu"
      ],
      "execution_count": null,
      "outputs": []
    }
  ]
}