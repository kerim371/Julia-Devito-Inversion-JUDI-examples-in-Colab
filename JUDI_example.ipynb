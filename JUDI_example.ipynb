{
  "nbformat": 4,
  "nbformat_minor": 0,
  "metadata": {
    "accelerator": "GPU",
    "colab": {
      "name": "JUDI_example.ipynb",
      "provenance": [],
      "collapsed_sections": [
        "QCxWWIhwGsaY",
        "h5r4osdWG1Mu",
        "IL6iVezPJpNs",
        "XdMpcQduyaQc"
      ],
      "include_colab_link": true
    },
    "kernelspec": {
      "display_name": "Julia 1.5.0",
      "language": "julia",
      "name": "julia-1.5"
    },
    "language_info": {
      "file_extension": ".jl",
      "mimetype": "application/julia",
      "name": "julia",
      "version": "1.5.0"
    }
  },
  "cells": [
    {
      "cell_type": "markdown",
      "metadata": {
        "id": "view-in-github",
        "colab_type": "text"
      },
      "source": [
        "<a href=\"https://colab.research.google.com/github/kerim371/Julia-Devito-Inversion-JUDI-examples-in-Colab/blob/main/JUDI_example.ipynb\" target=\"_parent\"><img src=\"https://colab.research.google.com/assets/colab-badge.svg\" alt=\"Open In Colab\"/></a>"
      ]
    },
    {
      "cell_type": "markdown",
      "metadata": {
        "id": "NNRNZ2RxH91a"
      },
      "source": [
        "To run this in Colab you either have to use this script or download it and then upload to Colab. You cannot simply copy this code and past it to your Colab session - this won't let you use Julia. You can open **.pynb** document in textual editor and see at top of the document how it Julia is et up and change its version as well if you need."
      ]
    },
    {
      "cell_type": "markdown",
      "metadata": {
        "id": "QCxWWIhwGsaY"
      },
      "source": [
        "# Julia installation"
      ]
    },
    {
      "cell_type": "code",
      "metadata": {
        "id": "_Kg612Wi0DvT"
      },
      "source": [
        "# Julia installation\r\n",
        "%%shell\r\n",
        "if ! command -v julia 3>&1 > /dev/null\r\n",
        "then\r\n",
        "    wget 'https://julialang-s3.julialang.org/bin/linux/x64/1.5/julia-1.5.0-linux-x86_64.tar.gz' \\\r\n",
        "        -O /tmp/julia.tar.gz\r\n",
        "    tar -x -f /tmp/julia.tar.gz -C /usr/local --strip-components 1\r\n",
        "    rm /tmp/julia.tar.gz\r\n",
        "fi\r\n",
        "julia -e 'using Pkg; pkg\"add IJulia; precompile;\"'\r\n",
        "echo 'Done'"
      ],
      "execution_count": null,
      "outputs": []
    },
    {
      "cell_type": "markdown",
      "metadata": {
        "id": "h5r4osdWG1Mu"
      },
      "source": [
        "# JUDI and DEVITO installation"
      ]
    },
    {
      "cell_type": "code",
      "metadata": {
        "id": "PMGwZ7aFJL8Y"
      },
      "source": [
        "!pip install devito matplotlib # or `pip3 install --user devito matplotlib`\r\n",
        "!wget ftp://slim.gatech.edu/data/SoftwareRelease/WaveformInversion.jl/2DFWI/overthrust_2D.segy\r\n",
        "!wget ftp://slim.gatech.edu/data/SoftwareRelease/WaveformInversion.jl/2DFWI/overthrust_2D_initial_model.h5"
      ],
      "execution_count": null,
      "outputs": []
    },
    {
      "cell_type": "code",
      "metadata": {
        "id": "sZ4iXPqfLT8v"
      },
      "source": [
        "import os\r\n",
        "os.environ['PYTHON'] = '/usr/local/bin/python'\r\n",
        "\r\n",
        "!julia -e 'using Pkg; Pkg.add(\"Pkg\")'\r\n",
        "!julia -e 'using Pkg; Pkg.Registry.add(RegistrySpec(url=\"https://github.com/slimgroup/SLIMregistryJL.git\"))'\r\n",
        "!julia -e 'using Pkg; Pkg.develop(\"JUDI\")'"
      ],
      "execution_count": null,
      "outputs": []
    },
    {
      "cell_type": "markdown",
      "metadata": {
        "id": "7nAAQ8a6Nctk"
      },
      "source": [
        "'cd ' command should be in separated cell"
      ]
    },
    {
      "cell_type": "code",
      "metadata": {
        "id": "ZPGqXZGqMyuJ"
      },
      "source": [
        "cd ~/.julia/dev/JUDI"
      ],
      "execution_count": null,
      "outputs": []
    },
    {
      "cell_type": "code",
      "metadata": {
        "id": "HDd4K9qO4My-"
      },
      "source": [
        "!julia deps/install_global.jl\r\n",
        "#!julia --project -e 'using Pkg;Pkg.test(coverage=false)' # uncomment this if you want to run test"
      ],
      "execution_count": null,
      "outputs": []
    },
    {
      "cell_type": "markdown",
      "metadata": {
        "id": "IL6iVezPJpNs"
      },
      "source": [
        "# JUDI example"
      ]
    },
    {
      "cell_type": "code",
      "metadata": {
        "id": "biFaq6T0Rtg0"
      },
      "source": [
        "cd /content"
      ],
      "execution_count": null,
      "outputs": []
    },
    {
      "cell_type": "markdown",
      "metadata": {
        "id": "8YcvRyHDFQva"
      },
      "source": [
        "Until now we have been using ipython. Now we are going to use Julia. To achieve it go to Colab's menu bar and select **Edit** and select **Notebook settings** from the drop down. Select *Julia 1.5.0* as the runtime and *GPU* as the hadware accelerator. If necessary reload web-page (F5) and change **Notebook settings**"
      ]
    },
    {
      "cell_type": "code",
      "metadata": {
        "id": "FJMjf1UG-bVH"
      },
      "source": [
        "using Pkg\r\n",
        "\r\n",
        "Pkg.add(\"PyPlot\")\r\n",
        "Pkg.add(\"HDF5\")\r\n",
        "Pkg.add(\"SegyIO\")\r\n",
        "\r\n",
        "using PyPlot, HDF5, SegyIO, JUDI.TimeModeling, JUDI.SLIM_optim, Statistics, Random\r\n",
        "\r\n",
        "# Load starting model\r\n",
        "n, d, o, m0 = read(h5open(\"overthrust_2D_initial_model.h5\", \"r\"), \"n\", \"d\", \"o\", \"m0\")\r\n",
        "model0 = Model((n[1], n[2]), (d[1], d[2]), (o[1], o[2]), m0)\t# need n, d, o as tuples and m0 as array\r\n",
        "\r\n",
        "# Bound constraints\r\n",
        "vmin = ones(Float32, model0.n) .+ 0.3f0\r\n",
        "vmax = ones(Float32, model0.n) .+ 5.5f0\r\n",
        "mmin = vec((1f0 ./ vmax).^2)\t# convert to slowness squared [s^2/km^2]\r\n",
        "mmax = vec((1f0 ./ vmin).^2)\r\n",
        "\r\n",
        "# Load segy data\r\n",
        "block = segy_read(\"overthrust_2D.segy\")\r\n",
        "dobs = judiVector(block)\r\n",
        "\r\n",
        "# Set up wavelet\r\n",
        "src_geometry = Geometry(block; key=\"source\", segy_depth_key=\"SourceDepth\")\t# read source position geometry\r\n",
        "wavelet = ricker_wavelet(src_geometry.t[1], src_geometry.dt[1], 0.008f0)\t# 8 Hz wavelet\r\n",
        "q = judiVector(src_geometry, wavelet)"
      ],
      "execution_count": null,
      "outputs": []
    },
    {
      "cell_type": "code",
      "metadata": {
        "id": "r3W4CeWf_8Ca",
        "colab": {
          "base_uri": "https://localhost:8080/",
          "height": 180
        },
        "outputId": "32de78f7-1872-4c4c-c4ad-d494e534dc95"
      },
      "source": [
        "# Optimization parameters\r\n",
        "fevals = 20\t# number of function evaluations\r\n",
        "batchsize = 20\t# number of sources per iteration\r\n",
        "fvals = zeros(21)\r\n",
        "opt = Options(optimal_checkpointing = false)    # set to true to enable checkpointing\r\n",
        "\r\n",
        "# Objective function for minConf library\r\n",
        "count = 0\r\n",
        "function objective_function(x)\r\n",
        "\tmodel0.m = reshape(x, model0.n);\r\n",
        "\r\n",
        "\t# fwi function value and gradient\r\n",
        "\ti = randperm(dobs.nsrc)[1:batchsize]\r\n",
        "\tfval, grad = fwi_objective(model0, q[i], dobs[i]; options=opt)\r\n",
        "\tgrad = reshape(grad, model0.n); grad[:, 1:21] .= 0f0\t# reset gradient in water column to 0.\r\n",
        "\tgrad = .1f0*grad/maximum(abs.(grad))\t# scale gradient for line search\r\n",
        "\r\n",
        "\tglobal count; count += 1; fvals[count] = fval\r\n",
        "    return fval, vec(grad)\r\n",
        "end\r\n",
        "\r\n",
        "# FWI with SPG\r\n",
        "ProjBound(x) = median([mmin x mmax], dims=2)\t# Bound projection\r\n",
        "options = spg_options(verbose=3, maxIter=fevals, memory=3)\r\n",
        "x, fsave, funEvals= minConf_SPG(objective_function, vec(model0.m), ProjBound, options)"
      ],
      "execution_count": 6,
      "outputs": [
        {
          "output_type": "error",
          "ename": "LoadError",
          "evalue": "ignored",
          "traceback": [
            "MethodError: no method matching minConf_SPG(::typeof(objective_function), ::PhysicalParameter{Float32}, ::typeof(ProjBound), ::JUDI.SLIM_optim.SPG_params)\nClosest candidates are:\n  minConf_SPG(::Any, !Matched::Array{vDt,N} where N, ::Any, ::Any) where vDt at /root/.julia/dev/JUDI/src/Optimization/SPGSlim.jl:78",
            "",
            "Stacktrace:",
            " [1] top-level scope at In[6]:25",
            " [2] include_string(::Function, ::Module, ::String, ::String) at ./loading.jl:1091"
          ]
        }
      ]
    },
    {
      "cell_type": "code",
      "metadata": {
        "id": "yiS45uiDLubX"
      },
      "source": [
        "figure(); imshow(sqrt.(1./adjoint(m0))); title(\"Initial model\")\r\n",
        "figure(); imshow(sqrt.(1./adjoint(reshape(x, model0.n)))); title(\"FWI\")\r\n",
        "figure(); plot(fvals); title(\"Function value\")"
      ],
      "execution_count": null,
      "outputs": []
    },
    {
      "cell_type": "markdown",
      "metadata": {
        "id": "XdMpcQduyaQc"
      },
      "source": [
        "\n",
        "\n",
        "---\n",
        "\n",
        "\n",
        "# You can run this to check if Julia is running and its GPU perfomance\n",
        "\n",
        "\n"
      ]
    },
    {
      "cell_type": "code",
      "metadata": {
        "id": "iIxu4TjlJnBG"
      },
      "source": [
        "VERSION"
      ],
      "execution_count": null,
      "outputs": []
    },
    {
      "cell_type": "markdown",
      "metadata": {
        "id": "rR7Ox6Ax0ypi"
      },
      "source": [
        "The main reason we are interested in running Julia on Colab is the GPU functionality. So we can benchmark the performance on the GPU.<br>**The next two cells are optional and are for people using it for the first time**"
      ]
    },
    {
      "cell_type": "code",
      "metadata": {
        "id": "vHKANz2J0GDW"
      },
      "source": [
        "using Pkg\n",
        "Pkg.add([\"BenchmarkTools\", \"CuArrays\"])\n",
        "using BenchmarkTools,CuArrays"
      ],
      "execution_count": null,
      "outputs": []
    },
    {
      "cell_type": "code",
      "metadata": {
        "id": "aMI2QjTuyXs2"
      },
      "source": [
        "mcpu = rand(2^10, 2^10)\n",
        "@benchmark mcpu*mcpu\n",
        "\n",
        "println(\"The CuArrray operation should take around 1 ms(excluding CUDA downloading time which is a one time process), and should be much faster. If so, the GPU is working.\")\n",
        "mgpu = cu(mcpu)\n",
        "@benchmark CuArrays.@sync mgpu*mgpu"
      ],
      "execution_count": null,
      "outputs": []
    }
  ]
}